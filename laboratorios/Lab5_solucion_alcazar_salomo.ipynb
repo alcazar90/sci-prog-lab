{
  "cells": [
    {
      "cell_type": "markdown",
      "metadata": {
        "cell_id": "00000-d922277a-c096-45e6-919d-d08ca8ca4c9c",
        "deepnote_cell_height": 155.43333435058594,
        "deepnote_cell_type": "markdown",
        "id": "XUZ1dFPHzAHl"
      },
      "source": [
        "<h1><center>Laboratorio 5: El Pandas no Muerde (act IV) 🐼</center></h1>\n",
        "\n",
        "<center><strong>MDS7202: Laboratorio de Programación Científica para Ciencia de Datos</strong></center>"
      ]
    },
    {
      "cell_type": "markdown",
      "metadata": {
        "cell_id": "00001-41058c5a-e4f2-45ba-8925-5dee28b63c02",
        "deepnote_cell_height": 165.78334045410156,
        "deepnote_cell_type": "markdown",
        "id": "UD8X1uhGzAHq"
      },
      "source": [
        "### Cuerpo Docente:\n",
        "\n",
        "- Profesor: Matias Rojas y Mauricio Araneda\n",
        "- Auxiliar: Ignacio Meza D.\n",
        "- Ayudante: Rodrigo Ortiz"
      ]
    },
    {
      "cell_type": "markdown",
      "metadata": {
        "cell_id": "00002-e1842bc9-c821-4133-b500-4fe9b07f9071",
        "deepnote_cell_height": 171.86666870117188,
        "deepnote_cell_type": "markdown",
        "id": "tXflExjqzAHr"
      },
      "source": [
        "### Equipo: SUPER IMPORTANTE - notebooks sin nombre no serán revisados\n",
        "\n",
        "- Nombre de alumno 1: Cristóbal Alcázar\n",
        "- Nombre de alumno 2: Gianina Salomó\n"
      ]
    },
    {
      "cell_type": "markdown",
      "metadata": {
        "cell_id": "00003-1ff7590e-80bb-4f14-b210-a464229ab3d9",
        "deepnote_cell_height": 61.56666564941406,
        "deepnote_cell_type": "markdown",
        "id": "AD-V0bbZzAHr"
      },
      "source": [
        "### **Link de repositorio de GitHub:** `https://github.com/alcazar90/sci-prog-lab`"
      ]
    },
    {
      "cell_type": "markdown",
      "metadata": {
        "cell_id": "00005-9b6fbc71-5250-4293-939d-cff84ea69ac4",
        "deepnote_cell_height": 571,
        "deepnote_cell_type": "markdown",
        "id": "6uBLPj1PzAHs"
      },
      "source": [
        "\n",
        "## Reglas:\n",
        "\n",
        "- **Grupos de 2 personas**\n",
        "- **Ausentes** deberán realizar la actividad solos. \n",
        "- Cualquier duda fuera del horario de clases al foro. Mensajes al equipo docente serán respondidos por este medio.\n",
        "- Prohibidas las copias. \n",
        "- Pueden usar cualquer matrial del curso que estimen conveniente.\n",
        "\n",
        "### Objetivos principales del laboratorio\n",
        "\n",
        "- Aplicar los paradigmas y buenas prácticas de programación vistas hasta este momento.\n",
        "- Comprender y aprovechar las ventajas que nos ofrece la liberia `numpy` con respecto a trabajar en Python 'puro'.\n",
        "- Visualizar aplicaciones de filtros de imágenes sin el uso de librerías.\n",
        "- Verificar que el uso indiscriminado de `for` puede afectar en la eficiencia en al procesar datos masivos.\n",
        "\n",
        "\n",
        "El laboratorio deberá ser desarrollado sin el uso indiscriminado de iteradores nativos de python (aka \"for\", \"while\"). La idea es que aprendan a exprimir al máximo las funciones optimizadas que nos entrega `numpy`, las cuales vale mencionar, son bastante más eficientes que los iteradores nativos sobre arreglos (*o tensores*)."
      ]
    },
    {
      "cell_type": "markdown",
      "metadata": {
        "cell_id": "00006-aba27b6e-506c-4de4-9ba7-161e8fa8eeb6",
        "deepnote_cell_height": 69.03334045410156,
        "deepnote_cell_type": "markdown",
        "id": "wrG4gYabzAHs"
      },
      "source": [
        "## Descripción del laboratorio."
      ]
    },
    {
      "cell_type": "markdown",
      "metadata": {
        "cell_id": "00007-92b497a3-20e7-40e4-8a65-2115c3cf717b",
        "deepnote_cell_height": 61.03334045410156,
        "deepnote_cell_type": "markdown",
        "id": "MhISwri4zAHy"
      },
      "source": [
        "### Importamos librerias utiles 😸"
      ]
    },
    {
      "cell_type": "code",
      "execution_count": 1,
      "metadata": {
        "ExecuteTime": {
          "end_time": "2021-03-29T00:08:16.884674Z",
          "start_time": "2021-03-29T00:08:16.349846Z"
        },
        "cell_id": "00008-02ea8e34-1cb6-4773-a4b1-3369d7843ddf",
        "deepnote_cell_height": 987.5499877929688,
        "deepnote_cell_type": "code",
        "deepnote_to_be_reexecuted": false,
        "execution_millis": 15959,
        "execution_start": 1634325916301,
        "id": "uyc33dKdzAHy",
        "source_hash": "80b1c1a9"
      },
      "outputs": [],
      "source": [
        "%%capture\n",
        "# Libreria Core del lab.\n",
        "import numpy as np\n",
        "!pip install --upgrade pandas\n",
        "!pip install xlrd\n",
        "!pip install openpyxl\n",
        "import pandas as pd\n",
        "import datetime\n",
        "from scipy import stats\n",
        "\n",
        "from IPython.display import display, Markdown, Latex\n",
        "\n",
        "#Libreria para plotear\n",
        "!pip install --upgrade plotly\n",
        "!pip install missingno\n",
        "import matplotlib.pyplot as plt\n",
        "import missingno as msno\n",
        "import plotly.express as px"
      ]
    },
    {
      "cell_type": "code",
      "execution_count": null,
      "metadata": {
        "cell_id": "00009-ba85c0a3-286a-4df8-a94e-78588eb64ebd",
        "deepnote_cell_height": 218.53334045410156,
        "deepnote_cell_type": "code",
        "deepnote_to_be_reexecuted": false,
        "execution_millis": 4,
        "execution_start": 1634315852279,
        "id": "gQ0-zPV4NNrq",
        "source_hash": "c60dc4a7",
        "outputId": "3e14bd8c-6453-4a25-9282-9101fa988822",
        "colab": {
          "base_uri": "https://localhost:8080/"
        }
      },
      "outputs": [
        {
          "output_type": "stream",
          "name": "stdout",
          "text": [
            "Mounted at /content/drive\n"
          ]
        }
      ],
      "source": [
        "# Si usted está utilizando Colabolatory le puede ser útil este código para cargar los archivos.\n",
        "try:\n",
        "    from google.colab import drive\n",
        "    drive.mount(\"/content/drive\")\n",
        "    path = 'Dirección donde tiene los archivos en el Drive'\n",
        "except: \n",
        "    print('Ignorando conexión drive-colab')"
      ]
    },
    {
      "cell_type": "markdown",
      "metadata": {
        "cell_id": "00010-5ea0bd58-e4cf-4cd1-b34d-a6286ab74a6c",
        "deepnote_cell_height": 344.0333251953125,
        "deepnote_cell_type": "markdown",
        "tags": [],
        "id": "1sZew0hFUZbZ"
      },
      "source": [
        "<p align=\"center\"><iframe width=\"560\" height=\"315\" src=\"https://www.youtube.com/embed/MW4d8_LLYp8?rel=0&amp;controls=0&amp;showinfo=0\" frameborder=\"1\" allowfullscreen></iframe></p>"
      ]
    },
    {
      "cell_type": "markdown",
      "metadata": {
        "cell_id": "00011-0668869e-1260-4409-b506-4251e2a12350",
        "deepnote_cell_height": 133.03334045410156,
        "deepnote_cell_type": "markdown",
        "id": "QDwIXTh7bK_A"
      },
      "source": [
        "# Segmentación de Clientes en Tienda de Retail 🛍️"
      ]
    },
    {
      "cell_type": "markdown",
      "metadata": {
        "cell_id": "00012-f421236d-70fc-4317-934a-d9ca05ba774a",
        "deepnote_cell_height": 293.8500061035156,
        "deepnote_cell_type": "markdown",
        "tags": [],
        "id": "IGKLabr-UZbb"
      },
      "source": [
        "<p align=\"center\">\n",
        "  <img width=300 src=\"https://s1.eestatic.com/2018/04/14/social/la_jungla_-_social_299733421_73842361_854x640.jpg\">\n",
        "</p>"
      ]
    },
    {
      "cell_type": "markdown",
      "metadata": {
        "cell_id": "00013-b2816031-9bf6-401b-9ce5-d9a10d6d1395",
        "deepnote_cell_height": 69.03334045410156,
        "deepnote_cell_type": "markdown",
        "tags": [],
        "id": "o08K5NEfUZbc"
      },
      "source": [
        "## 1.1 Cargar Dataset"
      ]
    },
    {
      "cell_type": "markdown",
      "metadata": {
        "cell_id": "00014-d3ac5fae-56fd-4d4e-83db-be9df9d130a4",
        "deepnote_cell_height": 272.6333312988281,
        "deepnote_cell_type": "markdown",
        "tags": [],
        "id": "KDIUlXcvUZbd"
      },
      "source": [
        "Mr. Lepin Mora quien es el gerente de una cotizada tienda de retail en Europa, les solicita si pueden analizar los datos de algunas de sus tiendas y si es posible extraer los diferenciar los tipos de clientes que posee el retail.\n",
        "\n",
        "Para esto, el área de ventas les entrega el archivo `online_retail_II.xlsx` con el que se les pide que cargue y visualicen algunas de las filas que componen el Dataset.\n",
        "\n",
        "Realice una primera visualización de los datos y señale los atributos que componen el dataset. Señale las columnas que conforman el dataset, el tipo de variable presente en cada columna y comente que representa cada una de estas.\n",
        "\n",
        "**Respuesta:**"
      ]
    },
    {
      "cell_type": "code",
      "execution_count": 2,
      "metadata": {
        "cell_id": "00015-b7ecc992-93dc-4d37-8161-9e2a5238e17d",
        "colab": {
          "base_uri": "https://localhost:8080/",
          "height": 255
        },
        "deepnote_cell_height": 449.54998779296875,
        "deepnote_cell_type": "code",
        "deepnote_output_heights": [
          174
        ],
        "deepnote_to_be_reexecuted": false,
        "execution_millis": 375,
        "execution_start": 1634325932264,
        "id": "7FNOu-CvjV5m",
        "outputId": "9409a71b-e11b-4e5a-9293-f4a18a72d70c",
        "source_hash": "579ecb11"
      },
      "outputs": [
        {
          "output_type": "stream",
          "name": "stdout",
          "text": [
            "Número de filas: 525461\n",
            "Número de columnas: 8\n",
            "Visualización de los datos:\n"
          ]
        },
        {
          "output_type": "execute_result",
          "data": {
            "text/plain": [
              "  Invoice StockCode                          Description  Quantity  \\\n",
              "0  489434     85048  15CM CHRISTMAS GLASS BALL 20 LIGHTS        12   \n",
              "1  489434    79323P                   PINK CHERRY LIGHTS        12   \n",
              "2  489434    79323W                  WHITE CHERRY LIGHTS        12   \n",
              "3  489434     22041         RECORD FRAME 7\" SINGLE SIZE         48   \n",
              "4  489434     21232       STRAWBERRY CERAMIC TRINKET BOX        24   \n",
              "\n",
              "          InvoiceDate  Price Customer ID         Country  \n",
              "0 2009-12-01 07:45:00   6.95     13085.0  United Kingdom  \n",
              "1 2009-12-01 07:45:00   6.75     13085.0  United Kingdom  \n",
              "2 2009-12-01 07:45:00   6.75     13085.0  United Kingdom  \n",
              "3 2009-12-01 07:45:00   2.10     13085.0  United Kingdom  \n",
              "4 2009-12-01 07:45:00   1.25     13085.0  United Kingdom  "
            ],
            "text/html": [
              "\n",
              "  <div id=\"df-046839ca-ef6d-46b2-8f10-92f46c265e2f\">\n",
              "    <div class=\"colab-df-container\">\n",
              "      <div>\n",
              "<style scoped>\n",
              "    .dataframe tbody tr th:only-of-type {\n",
              "        vertical-align: middle;\n",
              "    }\n",
              "\n",
              "    .dataframe tbody tr th {\n",
              "        vertical-align: top;\n",
              "    }\n",
              "\n",
              "    .dataframe thead th {\n",
              "        text-align: right;\n",
              "    }\n",
              "</style>\n",
              "<table border=\"1\" class=\"dataframe\">\n",
              "  <thead>\n",
              "    <tr style=\"text-align: right;\">\n",
              "      <th></th>\n",
              "      <th>Invoice</th>\n",
              "      <th>StockCode</th>\n",
              "      <th>Description</th>\n",
              "      <th>Quantity</th>\n",
              "      <th>InvoiceDate</th>\n",
              "      <th>Price</th>\n",
              "      <th>Customer ID</th>\n",
              "      <th>Country</th>\n",
              "    </tr>\n",
              "  </thead>\n",
              "  <tbody>\n",
              "    <tr>\n",
              "      <th>0</th>\n",
              "      <td>489434</td>\n",
              "      <td>85048</td>\n",
              "      <td>15CM CHRISTMAS GLASS BALL 20 LIGHTS</td>\n",
              "      <td>12</td>\n",
              "      <td>2009-12-01 07:45:00</td>\n",
              "      <td>6.95</td>\n",
              "      <td>13085.0</td>\n",
              "      <td>United Kingdom</td>\n",
              "    </tr>\n",
              "    <tr>\n",
              "      <th>1</th>\n",
              "      <td>489434</td>\n",
              "      <td>79323P</td>\n",
              "      <td>PINK CHERRY LIGHTS</td>\n",
              "      <td>12</td>\n",
              "      <td>2009-12-01 07:45:00</td>\n",
              "      <td>6.75</td>\n",
              "      <td>13085.0</td>\n",
              "      <td>United Kingdom</td>\n",
              "    </tr>\n",
              "    <tr>\n",
              "      <th>2</th>\n",
              "      <td>489434</td>\n",
              "      <td>79323W</td>\n",
              "      <td>WHITE CHERRY LIGHTS</td>\n",
              "      <td>12</td>\n",
              "      <td>2009-12-01 07:45:00</td>\n",
              "      <td>6.75</td>\n",
              "      <td>13085.0</td>\n",
              "      <td>United Kingdom</td>\n",
              "    </tr>\n",
              "    <tr>\n",
              "      <th>3</th>\n",
              "      <td>489434</td>\n",
              "      <td>22041</td>\n",
              "      <td>RECORD FRAME 7\" SINGLE SIZE</td>\n",
              "      <td>48</td>\n",
              "      <td>2009-12-01 07:45:00</td>\n",
              "      <td>2.10</td>\n",
              "      <td>13085.0</td>\n",
              "      <td>United Kingdom</td>\n",
              "    </tr>\n",
              "    <tr>\n",
              "      <th>4</th>\n",
              "      <td>489434</td>\n",
              "      <td>21232</td>\n",
              "      <td>STRAWBERRY CERAMIC TRINKET BOX</td>\n",
              "      <td>24</td>\n",
              "      <td>2009-12-01 07:45:00</td>\n",
              "      <td>1.25</td>\n",
              "      <td>13085.0</td>\n",
              "      <td>United Kingdom</td>\n",
              "    </tr>\n",
              "  </tbody>\n",
              "</table>\n",
              "</div>\n",
              "      <button class=\"colab-df-convert\" onclick=\"convertToInteractive('df-046839ca-ef6d-46b2-8f10-92f46c265e2f')\"\n",
              "              title=\"Convert this dataframe to an interactive table.\"\n",
              "              style=\"display:none;\">\n",
              "        \n",
              "  <svg xmlns=\"http://www.w3.org/2000/svg\" height=\"24px\"viewBox=\"0 0 24 24\"\n",
              "       width=\"24px\">\n",
              "    <path d=\"M0 0h24v24H0V0z\" fill=\"none\"/>\n",
              "    <path d=\"M18.56 5.44l.94 2.06.94-2.06 2.06-.94-2.06-.94-.94-2.06-.94 2.06-2.06.94zm-11 1L8.5 8.5l.94-2.06 2.06-.94-2.06-.94L8.5 2.5l-.94 2.06-2.06.94zm10 10l.94 2.06.94-2.06 2.06-.94-2.06-.94-.94-2.06-.94 2.06-2.06.94z\"/><path d=\"M17.41 7.96l-1.37-1.37c-.4-.4-.92-.59-1.43-.59-.52 0-1.04.2-1.43.59L10.3 9.45l-7.72 7.72c-.78.78-.78 2.05 0 2.83L4 21.41c.39.39.9.59 1.41.59.51 0 1.02-.2 1.41-.59l7.78-7.78 2.81-2.81c.8-.78.8-2.07 0-2.86zM5.41 20L4 18.59l7.72-7.72 1.47 1.35L5.41 20z\"/>\n",
              "  </svg>\n",
              "      </button>\n",
              "      \n",
              "  <style>\n",
              "    .colab-df-container {\n",
              "      display:flex;\n",
              "      flex-wrap:wrap;\n",
              "      gap: 12px;\n",
              "    }\n",
              "\n",
              "    .colab-df-convert {\n",
              "      background-color: #E8F0FE;\n",
              "      border: none;\n",
              "      border-radius: 50%;\n",
              "      cursor: pointer;\n",
              "      display: none;\n",
              "      fill: #1967D2;\n",
              "      height: 32px;\n",
              "      padding: 0 0 0 0;\n",
              "      width: 32px;\n",
              "    }\n",
              "\n",
              "    .colab-df-convert:hover {\n",
              "      background-color: #E2EBFA;\n",
              "      box-shadow: 0px 1px 2px rgba(60, 64, 67, 0.3), 0px 1px 3px 1px rgba(60, 64, 67, 0.15);\n",
              "      fill: #174EA6;\n",
              "    }\n",
              "\n",
              "    [theme=dark] .colab-df-convert {\n",
              "      background-color: #3B4455;\n",
              "      fill: #D2E3FC;\n",
              "    }\n",
              "\n",
              "    [theme=dark] .colab-df-convert:hover {\n",
              "      background-color: #434B5C;\n",
              "      box-shadow: 0px 1px 3px 1px rgba(0, 0, 0, 0.15);\n",
              "      filter: drop-shadow(0px 1px 2px rgba(0, 0, 0, 0.3));\n",
              "      fill: #FFFFFF;\n",
              "    }\n",
              "  </style>\n",
              "\n",
              "      <script>\n",
              "        const buttonEl =\n",
              "          document.querySelector('#df-046839ca-ef6d-46b2-8f10-92f46c265e2f button.colab-df-convert');\n",
              "        buttonEl.style.display =\n",
              "          google.colab.kernel.accessAllowed ? 'block' : 'none';\n",
              "\n",
              "        async function convertToInteractive(key) {\n",
              "          const element = document.querySelector('#df-046839ca-ef6d-46b2-8f10-92f46c265e2f');\n",
              "          const dataTable =\n",
              "            await google.colab.kernel.invokeFunction('convertToInteractive',\n",
              "                                                     [key], {});\n",
              "          if (!dataTable) return;\n",
              "\n",
              "          const docLinkHtml = 'Like what you see? Visit the ' +\n",
              "            '<a target=\"_blank\" href=https://colab.research.google.com/notebooks/data_table.ipynb>data table notebook</a>'\n",
              "            + ' to learn more about interactive tables.';\n",
              "          element.innerHTML = '';\n",
              "          dataTable['output_type'] = 'display_data';\n",
              "          await google.colab.output.renderOutput(dataTable, element);\n",
              "          const docLink = document.createElement('div');\n",
              "          docLink.innerHTML = docLinkHtml;\n",
              "          element.appendChild(docLink);\n",
              "        }\n",
              "      </script>\n",
              "    </div>\n",
              "  </div>\n",
              "  "
            ]
          },
          "metadata": {},
          "execution_count": 2
        }
      ],
      "source": [
        "df_retail = pd.read_pickle(\"https://github.com/alcazar90/sci-prog-lab/blob/main/data/online_retail_II.pickle?raw=true\")\n",
        "df_retail = df_retail.astype(\n",
        "    {\n",
        "        \"Invoice\": \"category\",\n",
        "        \"StockCode\": \"category\",\n",
        "        \"Description\": str,\n",
        "        \"Customer ID\": \"category\",\n",
        "    }\n",
        ")\n",
        "\n",
        "print(f'Número de filas: {df_retail.shape[0]}\\nNúmero de columnas: {df_retail.shape[1]}')\n",
        "print(f\"Visualización de los datos:\")\n",
        "df_retail.head()"
      ]
    },
    {
      "cell_type": "markdown",
      "source": [
        "**Los atributos que componen el dataset son:**\n",
        "- Description\n",
        "- Quantity\n",
        "- InvoiceDate\n",
        "- Price\n",
        "- Country"
      ],
      "metadata": {
        "id": "IgB2xu8ga9s-"
      }
    },
    {
      "cell_type": "markdown",
      "source": [
        "**Columnas que conforman el dataset y tipo de variable presente en cada columna:**"
      ],
      "metadata": {
        "id": "DrNxQKQHbeH8"
      }
    },
    {
      "cell_type": "code",
      "source": [
        "df_retail.info()"
      ],
      "metadata": {
        "colab": {
          "base_uri": "https://localhost:8080/"
        },
        "id": "CVx8yH3tbpZH",
        "outputId": "3bb6ec70-6af3-47ab-a32c-79a5b5cb96a8"
      },
      "execution_count": 3,
      "outputs": [
        {
          "output_type": "stream",
          "name": "stdout",
          "text": [
            "<class 'pandas.core.frame.DataFrame'>\n",
            "RangeIndex: 525461 entries, 0 to 525460\n",
            "Data columns (total 8 columns):\n",
            " #   Column       Non-Null Count   Dtype         \n",
            "---  ------       --------------   -----         \n",
            " 0   Invoice      525461 non-null  category      \n",
            " 1   StockCode    525461 non-null  category      \n",
            " 2   Description  525461 non-null  object        \n",
            " 3   Quantity     525461 non-null  int64         \n",
            " 4   InvoiceDate  525461 non-null  datetime64[ns]\n",
            " 5   Price        525461 non-null  float64       \n",
            " 6   Customer ID  417534 non-null  category      \n",
            " 7   Country      525461 non-null  object        \n",
            "dtypes: category(3), datetime64[ns](1), float64(1), int64(1), object(2)\n",
            "memory usage: 24.6+ MB\n"
          ]
        }
      ]
    },
    {
      "cell_type": "code",
      "source": [
        "print(\n",
        "    f'% Facturas canceladas: {round((df_retail[df_retail[\"Invoice\"].astype(str).str.contains(\"C\")].shape[0] / df_retail.shape[0]) * 100, 2)}'\n",
        ")"
      ],
      "metadata": {
        "colab": {
          "base_uri": "https://localhost:8080/"
        },
        "id": "FV_AHQ7fcdY_",
        "outputId": "655cb73b-5aa1-454b-81fc-fcec24f8b693"
      },
      "execution_count": 4,
      "outputs": [
        {
          "output_type": "stream",
          "name": "stdout",
          "text": [
            "% Facturas canceladas: 1.94\n"
          ]
        }
      ]
    },
    {
      "cell_type": "markdown",
      "source": [
        "**Comente qué representa cada columna**\n",
        "\n",
        "Para ello se consulta la <a href=\"https://archive.ics.uci.edu/ml/datasets/Online+Retail+II\">documentación</a> asociada al set de datos.\n",
        "\n",
        "- `Invoice`: Número de factura. Corresponde a un número entero de 6 dígitos, que se asigna en forma única a cada transacción. Si el código comienza con la letra \"C\", indica una cancelación.\n",
        "- `StockCode`: Código del producto (ítem). Corresponde a un número entero de 5 dígitos, que se asigna en forma única a cada producto diferente.\n",
        "- `Description`: Nombre del producto (ítem).\n",
        "- `Quantity`: Las cantidades de cada producto (ítem) por transacción. \n",
        "- `InvoiceDate`: Fecha y hora de la factura. Corresponde al día y hora cuando se generó una transacción.\n",
        "- `Price`: Precio unitario. Precio por unidad de producto en libras esterlinas.\n",
        "- `Customer ID`: Número del cliente. Corresponde a un número entero de 5 dígitps asignado en forma única a cada cliente.\n",
        "- `Country`: Nombre del país. Corresponde al país de residencia del cliente."
      ],
      "metadata": {
        "id": "bTt8ZPv6buNq"
      }
    },
    {
      "cell_type": "markdown",
      "source": [
        "**Nulos**"
      ],
      "metadata": {
        "id": "xxnw-3aage5L"
      }
    },
    {
      "cell_type": "code",
      "source": [
        "df_retail.isna().sum()"
      ],
      "metadata": {
        "colab": {
          "base_uri": "https://localhost:8080/"
        },
        "id": "mn46_AwDgkKC",
        "outputId": "dd0b9642-6d8a-4471-8a59-27d1abb804cc"
      },
      "execution_count": 5,
      "outputs": [
        {
          "output_type": "execute_result",
          "data": {
            "text/plain": [
              "Invoice             0\n",
              "StockCode           0\n",
              "Description         0\n",
              "Quantity            0\n",
              "InvoiceDate         0\n",
              "Price               0\n",
              "Customer ID    107927\n",
              "Country             0\n",
              "dtype: int64"
            ]
          },
          "metadata": {},
          "execution_count": 5
        }
      ]
    },
    {
      "cell_type": "markdown",
      "metadata": {
        "cell_id": "00016-95d543d8-e605-4635-98c6-8a4a1293df5a",
        "deepnote_cell_height": 332.23333740234375,
        "deepnote_cell_type": "markdown",
        "id": "Rcjs-dd1V-1u"
      },
      "source": [
        "## 1.2 Analisís Explotatorio de los Datos [0.5 puntos] \n",
        "\n",
        "En base a la primera visualización del dataset, *Don Mora* le solicita que realicen un análisis exploratorio de los datos, para esto les deberán realizar un análisis univariado y multivariado. De la revisión, ustedes deben explicar potenciales anomalías visualizadas y señalar si existe la necesidad de realizar una limpieza de datos.\n",
        "\n",
        "Explique a que nos referimos con análisis univariable, multivariable y de datos faltantes. ¿Qué beneficios nos otorga estudiar estos datos?. Sea conciso con su respuesta y no escriba mas de 5 líneas para su respuesta.\n",
        "\n",
        "**Respuesta a la Pregunta:**\n",
        "- **Análisis univariado:** Explorar en forma gráfica las distribuciones individuales de las variables, ya sea a través de histogramas, curvas de densidad, gráficos de caja y/o gráficos de violín para variables continuas, o gráficos de barra para categóricas. También corresponde a la obtención de estadísticos como media, desviación estandar, mínimo, máximo, y/o percentiles para el caso de variables continuas, o moda para variables categóricas.\n",
        "- **Análisis multivariado:** Explorar la relación o asociación conjunta de 2 o más variables. Por ejemplo, es posible ver la relación entre dos variables\n",
        "continuas a través de un _scatter plot_. Es importante destacar que es\n",
        "posible análizar más de 2 dimensiones a través tablas de contingencia o facet plots. Las primeras sirven para explorar dos variables categóricas, mientras que los segundos aplican una misma visualización a distintos\n",
        "subgrupos que pueden ser conformados por las categorías de una variable\n",
        "categórica o los grupos que se forman entre dos de estas variables. Para casos no supervisados, permite visualizar posibles grupos o clusters según el comportamiento conjunto de dos o más variables.\n",
        "- **Datos faltantes**: Corresponde a datos de los que se desconoce su valor asociado a un atributo específico. En Python, pueden representarse como `np.nan`, `np.nat`, `None`, entre otros. \n",
        "\n",
        "El beneficio que otorga estudiar estos datos es para tomar decisiones frente a la relevancia de algunos atributos respecto de otros en cuanto a su asociación con una variable de interés para la cual se podría realizar un modelo estadístico descriptivo y/o predictivo. Además, las distribuciones univariadas y exploración de nulos permiten tomar decisiones sobre el tratamiento de estos últimos; Si una columna tiene pocos datos nulos, mediante el análisis univariado se puede decidir la forma de imputación (media, percentil, etc). En cambio, si el % de nulos en una columna es alto, se puede decidir eliminar este atributos del análisis posterior."
      ]
    },
    {
      "cell_type": "markdown",
      "metadata": {
        "cell_id": "00018-0d2e4dfa-8dfb-4959-b694-e5ac27dd372a",
        "deepnote_cell_height": 225.43333435058594,
        "deepnote_cell_type": "markdown",
        "tags": [],
        "id": "iDDTjbtDUZbn"
      },
      "source": [
        "### 1.2.1 Análisis Univariado [2 Puntos]\n",
        "\n",
        "A continuación, se le presentan dos funciones para analizar los datos que componen un dataframe. La primera de estas es la función ``profile_serie()`` la cual recibe una serie y le entrega un análisis detallado de los datos que conforman dicha serie. \n",
        "\n",
        "Ejecute la funcion ``profile_serie()`` sobre cada serie para realizar un análisis univariado de estas. A continuación, comente acerca de el comportamiento de cada variable según las estadísticas descriptivas y los gráficos generados."
      ]
    },
    {
      "cell_type": "code",
      "execution_count": 6,
      "metadata": {
        "cell_id": "00019-075c9c6a-b956-4329-a280-abd00da1a752",
        "deepnote_cell_height": 1682.0333251953125,
        "deepnote_cell_type": "code",
        "deepnote_to_be_reexecuted": false,
        "execution_millis": 1,
        "execution_start": 1634325950632,
        "source_hash": "60609391",
        "tags": [],
        "id": "wGSQUj35UZbo"
      },
      "outputs": [],
      "source": [
        "from pandas.api.types import is_numeric_dtype\n",
        "from pandas.core.dtypes.common import is_datetime_or_timedelta_dtype\n",
        "\n",
        "\n",
        "def profile_serie(serie_in, n_samples=1000, random_state=42):\n",
        "    serie = serie_in.copy()\n",
        "\n",
        "    profile = pd.Series(dtype='object')\n",
        "    profile[\"Type\"] = serie.dtype\n",
        "    profile = pd.concat([profile, serie.describe(datetime_is_numeric=True)])\n",
        "\n",
        "    # profile = pd.Series([])\n",
        "\n",
        "    if is_numeric_dtype(serie):\n",
        "        profile[\"Negative\"] = (serie < 0).sum()\n",
        "        profile[\"Negative (%)\"] = (\n",
        "            str(round((serie < 0).sum() / len(serie) * 100, 2)) + \" %\"\n",
        "        )\n",
        "        profile[\"Zeros\"] = (serie == 0).sum()\n",
        "        profile[\"Zeros (%)\"] = (\n",
        "            str(round((serie == 0).sum() / len(serie) * 100, 2)) + \" %\"\n",
        "        )\n",
        "        profile[\"Kurt\"] = serie.kurt()\n",
        "        profile[\"Skew\"] = serie.skew()\n",
        "\n",
        "    profile[\" \"] = \" \"  # espacio\n",
        "\n",
        "    profile[\"Missing cells\"] = serie.isnull().sum()\n",
        "    profile[\"Missing cells (%)\"] = (\n",
        "        str(round(serie.isnull().sum() / len(serie) * 100, 2)) + \" %\"\n",
        "    )\n",
        "    profile[\"Duplicate rows\"] = serie.duplicated(False).sum()\n",
        "    profile[\"Duplicate rows (%)\"] = (\n",
        "        str(round(serie.duplicated(False).sum() / len(serie) * 100, 2)) + \" %\"\n",
        "    )\n",
        "    profile[\"Total size in memory\"] = str(serie.memory_usage(index=True)) + \" bytes\"\n",
        "\n",
        "    # profile = pd.concat([profile, description])\n",
        "\n",
        "    profile = profile.rename(\n",
        "        index={\n",
        "            \"count\": \"Number of observations\",\n",
        "            \"mean\": \"Mean\",\n",
        "            \"std\": \"Std\",\n",
        "            \"min\": \"Min\",\n",
        "            \"max\": \"Max\",\n",
        "            \"unique\": \"Unique\",\n",
        "            \"top\": \"Top\",\n",
        "            \"freq\": \"Freq\",\n",
        "        }\n",
        "    )\n",
        "    no_outliers_fig = None\n",
        "\n",
        "    if is_numeric_dtype(serie):\n",
        "\n",
        "        sampled_serie = serie.sample(n_samples, random_state=random_state)\n",
        "        fig = px.histogram(\n",
        "            sampled_serie, marginal=\"box\", title=f\"{serie.name} - With Outliers\"\n",
        "        )\n",
        "\n",
        "        no_outliers = sampled_serie.loc[(np.abs(stats.zscore(sampled_serie)) < 3)]\n",
        "        # zscore = https://es.wikipedia.org/wiki/Unidad_tipificada\n",
        "        \n",
        "        no_outliers_fig = px.histogram(\n",
        "            no_outliers, marginal=\"box\", title=f\"{serie.name} - Without Outliers\"\n",
        "        )\n",
        "\n",
        "    elif is_datetime_or_timedelta_dtype(serie):\n",
        "        sampled_serie = serie.sample(n_samples, random_state=random_state)\n",
        "        fig = px.histogram(sampled_serie, marginal=\"box\", title=f\"{serie.name}\")\n",
        "    \n",
        "    else:\n",
        "        count = (\n",
        "            serie.value_counts()[0:100]\n",
        "            .reset_index()\n",
        "            .rename(columns={\"index\": serie.name, serie.name: \"Count\"})\n",
        "        )\n",
        "        fig = px.bar(\n",
        "            x=count[serie.name].astype(str),\n",
        "            y=count[\"Count\"],\n",
        "            title=f\"100 Most common categories of {serie.name}\",\n",
        "        )\n",
        "    display(Markdown(f'## {serie.name} Profile'))\n",
        "    display(profile)\n",
        "    fig.show()\n",
        "\n",
        "    if no_outliers_fig:\n",
        "        no_outliers_fig.show()\n",
        "\n",
        "    # return fig, profile"
      ]
    },
    {
      "cell_type": "code",
      "execution_count": 7,
      "metadata": {
        "cell_id": "00020-0dd41995-78f8-4f2c-ac5d-f36288ccfda0",
        "deepnote_cell_height": 1714.0999755859375,
        "deepnote_cell_type": "code",
        "deepnote_output_heights": [
          49,
          424,
          527,
          527
        ],
        "deepnote_to_be_reexecuted": false,
        "execution_millis": 2062,
        "execution_start": 1634325955534,
        "source_hash": "6155d0f5",
        "tags": [],
        "id": "yaUBjnimUZbq",
        "outputId": "0df7db22-1c6c-4bae-e29a-c114a8509925",
        "colab": {
          "base_uri": "https://localhost:8080/",
          "height": 1000
        }
      },
      "outputs": [
        {
          "output_type": "display_data",
          "data": {
            "text/plain": [
              "<IPython.core.display.Markdown object>"
            ],
            "text/markdown": "## Price Profile"
          },
          "metadata": {}
        },
        {
          "output_type": "display_data",
          "data": {
            "text/plain": [
              "Type                            float64\n",
              "Number of observations         525461.0\n",
              "Mean                           4.688834\n",
              "Std                          146.126914\n",
              "Min                           -53594.36\n",
              "25%                                1.25\n",
              "50%                                 2.1\n",
              "75%                                4.21\n",
              "Max                            25111.09\n",
              "Negative                              3\n",
              "Negative (%)                      0.0 %\n",
              "Zeros                              3687\n",
              "Zeros (%)                         0.7 %\n",
              "Kurt                       64868.344873\n",
              "Skew                        -140.768446\n",
              "                                       \n",
              "Missing cells                         0\n",
              "Missing cells (%)                 0.0 %\n",
              "Duplicate rows                   524485\n",
              "Duplicate rows (%)              99.81 %\n",
              "Total size in memory      4203816 bytes\n",
              "dtype: object"
            ]
          },
          "metadata": {}
        },
        {
          "output_type": "display_data",
          "data": {
            "text/html": [
              "<html>\n",
              "<head><meta charset=\"utf-8\" /></head>\n",
              "<body>\n",
              "    <div>            <script src=\"https://cdnjs.cloudflare.com/ajax/libs/mathjax/2.7.5/MathJax.js?config=TeX-AMS-MML_SVG\"></script><script type=\"text/javascript\">if (window.MathJax && window.MathJax.Hub && window.MathJax.Hub.Config) {window.MathJax.Hub.Config({SVG: {font: \"STIX-Web\"}});}</script>                <script type=\"text/javascript\">window.PlotlyConfig = {MathJaxConfig: 'local'};</script>\n",
              "        <script src=\"https://cdn.plot.ly/plotly-2.14.0.min.js\"></script>                <div id=\"f03e9bb1-f659-4991-9677-b1666d41f8da\" class=\"plotly-graph-div\" style=\"height:525px; width:100%;\"></div>            <script type=\"text/javascript\">                                    window.PLOTLYENV=window.PLOTLYENV || {};                                    if (document.getElementById(\"f03e9bb1-f659-4991-9677-b1666d41f8da\")) {                    Plotly.newPlot(                        \"f03e9bb1-f659-4991-9677-b1666d41f8da\",                        [{\"alignmentgroup\":\"True\",\"bingroup\":\"x\",\"hovertemplate\":\"variable=Price<br>value=%{x}<br>count=%{y}<extra></extra>\",\"legendgroup\":\"Price\",\"marker\":{\"color\":\"#636efa\",\"pattern\":{\"shape\":\"\"}},\"name\":\"Price\",\"offsetgroup\":\"Price\",\"orientation\":\"v\",\"showlegend\":true,\"x\":[7.95,2.1,0.55,1.25,4.95,0.64,5.91,3.75,1.25,1.95,1.25,12.72,0.38,1.25,2.95,5.06,8.5,6.04,1.65,4.25,4.21,3.75,5.91,2.1,10.95,4.21,13.87,0.42,0.1,2.51,2.51,2.95,4.21,0.42,1.45,2.55,1.66,4.65,5.55,2.51,0.65,2.55,1.45,9.95,1.25,2.1,1.95,1.65,0.87,2.95,0.85,0.55,1.65,0.85,8.49,0.85,5.91,4.21,2.1,2.51,1.95,6.35,0.65,2.55,8.5,1.25,10.95,0.85,13.57,0.85,0.85,2.1,3.75,1.65,12.75,7.49,1.66,1.65,7.65,1.65,2.95,0.65,2.55,0.85,0.85,2.51,0.85,5.91,4.25,4.95,18.0,1.65,1.65,10.95,2.55,1.65,1.25,2.57,2.55,2.95,0.85,0.85,1.65,0.85,0.65,2.95,8.5,8.5,0.08,1.25,1.25,6.75,6.75,3.75,2.95,1.45,1.25,5.95,4.65,0.95,0.85,2.95,1.65,6.77,2.1,2.25,4.21,1.69,0.42,1.25,1.65,1.25,2.55,1.65,2.57,1.25,2.51,5.91,0.42,1.66,5.88,0.85,0.21,0.19,1.65,1.65,1.69,0.42,4.95,2.95,3.75,1.65,1.65,1.95,1.69,0.29,5.95,8.5,2.1,4.21,2.95,7.95,1.65,0.42,1.25,1.45,1.65,3.75,0.36,10.75,12.75,2.1,1.25,4.95,2.55,0.42,5.95,1.25,1.69,1.69,1.65,4.95,1.84,1.95,4.65,1.25,0.85,5.95,1.95,0.85,0.42,1.65,4.25,1.25,4.95,0.85,2.55,1.06,0.0,1.25,4.25,3.36,0.85,5.45,1.95,7.49,1.25,0.42,7.62,1.25,2.51,1.66,0.85,3.75,1.95,0.85,2.95,4.25,2.1,3.75,1.45,0.85,0.42,8.5,3.45,8.47,8.95,3.25,0.85,1.65,0.85,2.98,2.95,0.55,3.75,1.25,1.65,0.85,7.49,0.38,1.65,3.36,1.65,34.0,3.75,1.95,5.06,4.65,3.39,1.25,1.25,8.47,2.95,4.95,0.65,0.85,4.21,0.65,4.95,2.1,2.51,3.75,0.85,0.43,8.5,1.25,2.95,2.95,7.95,2.1,5.91,2.95,0.95,1.25,2.51,1.25,3.36,1.25,2.55,2.95,4.25,2.1,0.72,7.49,4.21,2.95,0.85,0.42,2.51,0.85,3.75,1.65,3.75,0.42,12.75,1.25,1.65,1.65,0.85,1.45,0.85,0.34,2.95,0.85,9.95,4.21,1.95,2.51,2.55,9.95,4.21,1.66,0.85,9.95,0.0,1.65,2.95,1.06,1.25,1.25,4.25,1.65,8.5,16.13,1.25,7.49,2.1,11.26,0.43,0.42,10.17,1.66,0.81,5.95,4.21,14.95,1.25,0.72,3.36,3.75,1.06,8.5,6.75,2.95,0.42,0.55,11.87,0.65,2.1,1.95,2.1,1.45,2.95,79.95,1.65,4.25,2.55,4.95,2.1,2.51,4.25,1.25,1.65,4.25,1.66,122.3,3.45,7.65,9.95,1.65,3.36,9.95,1.65,2.55,2.1,0.85,0.85,2.95,3.36,4.3,5.06,0.19,2.1,3.36,1.66,2.1,5.91,5.95,1.06,2.55,34.0,2.55,7.49,0.65,2.95,7.95,8.47,2.1,3.36,2.1,1.95,2.55,2.51,2.1,2.12,9.95,4.95,4.21,1.25,0.42,2.95,5.91,0.55,0.42,38.26,12.75,2.95,9.95,16.95,5.45,0.55,3.95,2.95,0.85,4.21,0.55,7.49,0.85,0.72,1.25,2.51,6.95,1.66,5.91,4.95,4.21,0.85,3.95,0.42,1.66,1.25,1.25,2.95,34.74,1.95,1.25,2.51,0.85,2.1,1.06,6.75,2.1,0.55,6.04,0.85,0.85,0.83,3.25,2.55,7.62,1.45,1.06,1.45,2.1,2.95,9.95,1.65,12.75,1.25,3.75,0.85,0.55,1.25,0.85,0.65,1.25,1.69,5.95,0.0,1.25,0.55,2.1,4.21,1.65,5.95,1.25,1.45,0.85,2.95,2.95,1.65,8.47,8.5,2.55,2.1,0.85,8.5,1.95,1.7,0.65,2.95,1.65,1.25,0.85,4.25,0.64,0.42,0.38,1.65,2.1,12.75,0.65,0.65,4.95,0.85,1.25,1.66,1.65,0.85,4.95,3.04,0.42,16.95,1.65,1.25,5.06,0.85,0.85,2.1,1.65,0.85,8.47,3.43,2.55,0.42,9.95,1.66,0.65,1.25,12.75,12.72,5.95,4.65,3.39,6.75,1.65,4.25,0.85,2.55,2.95,3.75,2.55,1.65,7.95,1.95,0.29,4.95,1.25,0.42,2.95,5.95,1.25,4.95,5.91,4.21,16.98,1.65,4.25,2.95,1.25,1.45,3.36,10.95,1.49,12.75,4.25,0.29,9.95,1.65,1.45,7.95,1.45,1.66,1.65,2.95,5.95,3.75,0.42,2.95,2.98,2.95,1.65,1.65,1.95,0.38,1.65,7.95,2.55,4.25,2.95,0.85,2.95,1.45,1.65,0.42,5.95,1.25,2.1,0.85,3.75,34.0,3.75,1.45,4.25,1.25,1.65,3.75,7.62,0.55,1.95,1.45,1.7,0.36,4.5,4.95,1.95,4.21,1.25,5.17,2.55,0.42,4.95,1.95,2.55,1.28,1.65,0.42,1.95,1.65,2.1,0.85,5.95,0.65,1.45,7.65,2.1,2.95,4.95,8.47,0.95,1.25,2.95,9.95,1.65,2.55,1.65,1.25,1.25,1.25,1.25,2.51,0.85,7.49,1.65,1.45,1.95,0.65,1.25,0.42,2.1,12.75,0.85,1.7,2.1,2.95,1.25,3.36,1.65,1.95,2.55,5.45,0.55,16.95,6.04,4.21,5.95,4.95,1.06,2.55,7.49,1.25,0.55,1.95,5.95,5.95,295.0,2.51,5.91,4.3,1.65,2.51,1.25,1.25,16.98,1.25,10.95,3.35,1.45,1.65,1.25,1.65,4.21,2.95,0.42,2.55,4.95,4.95,1.25,3.36,1.25,1.95,3.36,2.51,0.85,2.55,2.55,1.65,5.91,1.7,2.1,3.36,0.42,2.1,1.65,0.36,2.95,8.5,0.42,0.42,1.25,1.66,1.06,5.2,1.28,12.75,1.25,2.95,3.75,1.66,5.95,8.5,0.55,0.85,2.95,1.25,0.85,1.25,1.25,4.21,0.85,0.42,7.95,3.36,1.25,0.38,0.85,2.95,8.95,1.65,0.85,11.02,7.95,0.85,2.25,4.95,0.85,11.02,2.1,0.85,12.75,2.55,0.42,2.95,12.75,1.69,0.85,1.25,5.06,5.91,4.65,0.95,1.25,1.65,0.85,0.65,2.95,8.47,1.66,5.91,0.42,5.95,7.95,4.21,2.95,1.25,0.85,6.35,0.65,0.42,6.75,0.42,2.55,12.75,2.95,0.85,4.95,2.55,1.25,2.95,1.28,6.75,1.95,1.66,4.3,0.53,1.65,3.75,2.1,2.1,3.36,3.75,5.95,1.25,0.95,2.95,4.21,1.66,5.91,1.69,5.49,2.55,1.65,0.65,1.66,0.85,7.95,2.95,4.25,0.55,0.65,1.45,3.75,1.85,5.95,4.95,1.25,2.55,12.75,9.95,0.85,1.25,1.25,0.42,1.69,0.42,1.69,2.95,1.25,1.65,5.91,3.36,0.55,1.25,0.85,1.25,5.95,6.45,2.95,1.28,1.95,1.25,0.85,0.42,1.25,1.65,4.95,2.95,3.95,3.36,0.55,1.95,2.1,1.66,2.1,1.25,9.95,1.95,3.75,3.75,12.72,3.75,0.43,0.85,0.85,2.95,0.81,0.85,1.25,2.1,5.95,0.85,2.95,8.95,2.1,2.55,3.75,0.42,0.85,1.65,2.55,9.95,4.21,29.79,4.95,1.65,3.75,0.21,2.55,2.1,4.21,0.85,0.55,0.85,0.85,2.95,0.65,1.06,7.95,4.25,0.55,2.95,2.1,1269.51,2.51,0.65,1.25,4.25,3.75,1.25,3.36,0.55,3.75,2.55,1.95,0.42,0.42,0.42,4.21,0.85,3.75,0.43,0.42,1.65,2.95,2.51,0.85,3.25,4.95,14.43,5.45,7.95,2.1,0.42,12.75,1.45,0.85,1.66,0.85,8.47,2.1,1.85,6.75,3.75,1.25,2.95,1.66,2.95,4.25,4.95,1.25,4.21,4.95,1.25,12.75,3.75,2.95,1.65,1.95,1.95,2.98],\"xaxis\":\"x\",\"yaxis\":\"y\",\"type\":\"histogram\"},{\"alignmentgroup\":\"True\",\"hovertemplate\":\"variable=Price<br>value=%{x}<extra></extra>\",\"legendgroup\":\"Price\",\"marker\":{\"color\":\"#636efa\"},\"name\":\"Price\",\"notched\":true,\"offsetgroup\":\"Price\",\"showlegend\":false,\"x\":[7.95,2.1,0.55,1.25,4.95,0.64,5.91,3.75,1.25,1.95,1.25,12.72,0.38,1.25,2.95,5.06,8.5,6.04,1.65,4.25,4.21,3.75,5.91,2.1,10.95,4.21,13.87,0.42,0.1,2.51,2.51,2.95,4.21,0.42,1.45,2.55,1.66,4.65,5.55,2.51,0.65,2.55,1.45,9.95,1.25,2.1,1.95,1.65,0.87,2.95,0.85,0.55,1.65,0.85,8.49,0.85,5.91,4.21,2.1,2.51,1.95,6.35,0.65,2.55,8.5,1.25,10.95,0.85,13.57,0.85,0.85,2.1,3.75,1.65,12.75,7.49,1.66,1.65,7.65,1.65,2.95,0.65,2.55,0.85,0.85,2.51,0.85,5.91,4.25,4.95,18.0,1.65,1.65,10.95,2.55,1.65,1.25,2.57,2.55,2.95,0.85,0.85,1.65,0.85,0.65,2.95,8.5,8.5,0.08,1.25,1.25,6.75,6.75,3.75,2.95,1.45,1.25,5.95,4.65,0.95,0.85,2.95,1.65,6.77,2.1,2.25,4.21,1.69,0.42,1.25,1.65,1.25,2.55,1.65,2.57,1.25,2.51,5.91,0.42,1.66,5.88,0.85,0.21,0.19,1.65,1.65,1.69,0.42,4.95,2.95,3.75,1.65,1.65,1.95,1.69,0.29,5.95,8.5,2.1,4.21,2.95,7.95,1.65,0.42,1.25,1.45,1.65,3.75,0.36,10.75,12.75,2.1,1.25,4.95,2.55,0.42,5.95,1.25,1.69,1.69,1.65,4.95,1.84,1.95,4.65,1.25,0.85,5.95,1.95,0.85,0.42,1.65,4.25,1.25,4.95,0.85,2.55,1.06,0.0,1.25,4.25,3.36,0.85,5.45,1.95,7.49,1.25,0.42,7.62,1.25,2.51,1.66,0.85,3.75,1.95,0.85,2.95,4.25,2.1,3.75,1.45,0.85,0.42,8.5,3.45,8.47,8.95,3.25,0.85,1.65,0.85,2.98,2.95,0.55,3.75,1.25,1.65,0.85,7.49,0.38,1.65,3.36,1.65,34.0,3.75,1.95,5.06,4.65,3.39,1.25,1.25,8.47,2.95,4.95,0.65,0.85,4.21,0.65,4.95,2.1,2.51,3.75,0.85,0.43,8.5,1.25,2.95,2.95,7.95,2.1,5.91,2.95,0.95,1.25,2.51,1.25,3.36,1.25,2.55,2.95,4.25,2.1,0.72,7.49,4.21,2.95,0.85,0.42,2.51,0.85,3.75,1.65,3.75,0.42,12.75,1.25,1.65,1.65,0.85,1.45,0.85,0.34,2.95,0.85,9.95,4.21,1.95,2.51,2.55,9.95,4.21,1.66,0.85,9.95,0.0,1.65,2.95,1.06,1.25,1.25,4.25,1.65,8.5,16.13,1.25,7.49,2.1,11.26,0.43,0.42,10.17,1.66,0.81,5.95,4.21,14.95,1.25,0.72,3.36,3.75,1.06,8.5,6.75,2.95,0.42,0.55,11.87,0.65,2.1,1.95,2.1,1.45,2.95,79.95,1.65,4.25,2.55,4.95,2.1,2.51,4.25,1.25,1.65,4.25,1.66,122.3,3.45,7.65,9.95,1.65,3.36,9.95,1.65,2.55,2.1,0.85,0.85,2.95,3.36,4.3,5.06,0.19,2.1,3.36,1.66,2.1,5.91,5.95,1.06,2.55,34.0,2.55,7.49,0.65,2.95,7.95,8.47,2.1,3.36,2.1,1.95,2.55,2.51,2.1,2.12,9.95,4.95,4.21,1.25,0.42,2.95,5.91,0.55,0.42,38.26,12.75,2.95,9.95,16.95,5.45,0.55,3.95,2.95,0.85,4.21,0.55,7.49,0.85,0.72,1.25,2.51,6.95,1.66,5.91,4.95,4.21,0.85,3.95,0.42,1.66,1.25,1.25,2.95,34.74,1.95,1.25,2.51,0.85,2.1,1.06,6.75,2.1,0.55,6.04,0.85,0.85,0.83,3.25,2.55,7.62,1.45,1.06,1.45,2.1,2.95,9.95,1.65,12.75,1.25,3.75,0.85,0.55,1.25,0.85,0.65,1.25,1.69,5.95,0.0,1.25,0.55,2.1,4.21,1.65,5.95,1.25,1.45,0.85,2.95,2.95,1.65,8.47,8.5,2.55,2.1,0.85,8.5,1.95,1.7,0.65,2.95,1.65,1.25,0.85,4.25,0.64,0.42,0.38,1.65,2.1,12.75,0.65,0.65,4.95,0.85,1.25,1.66,1.65,0.85,4.95,3.04,0.42,16.95,1.65,1.25,5.06,0.85,0.85,2.1,1.65,0.85,8.47,3.43,2.55,0.42,9.95,1.66,0.65,1.25,12.75,12.72,5.95,4.65,3.39,6.75,1.65,4.25,0.85,2.55,2.95,3.75,2.55,1.65,7.95,1.95,0.29,4.95,1.25,0.42,2.95,5.95,1.25,4.95,5.91,4.21,16.98,1.65,4.25,2.95,1.25,1.45,3.36,10.95,1.49,12.75,4.25,0.29,9.95,1.65,1.45,7.95,1.45,1.66,1.65,2.95,5.95,3.75,0.42,2.95,2.98,2.95,1.65,1.65,1.95,0.38,1.65,7.95,2.55,4.25,2.95,0.85,2.95,1.45,1.65,0.42,5.95,1.25,2.1,0.85,3.75,34.0,3.75,1.45,4.25,1.25,1.65,3.75,7.62,0.55,1.95,1.45,1.7,0.36,4.5,4.95,1.95,4.21,1.25,5.17,2.55,0.42,4.95,1.95,2.55,1.28,1.65,0.42,1.95,1.65,2.1,0.85,5.95,0.65,1.45,7.65,2.1,2.95,4.95,8.47,0.95,1.25,2.95,9.95,1.65,2.55,1.65,1.25,1.25,1.25,1.25,2.51,0.85,7.49,1.65,1.45,1.95,0.65,1.25,0.42,2.1,12.75,0.85,1.7,2.1,2.95,1.25,3.36,1.65,1.95,2.55,5.45,0.55,16.95,6.04,4.21,5.95,4.95,1.06,2.55,7.49,1.25,0.55,1.95,5.95,5.95,295.0,2.51,5.91,4.3,1.65,2.51,1.25,1.25,16.98,1.25,10.95,3.35,1.45,1.65,1.25,1.65,4.21,2.95,0.42,2.55,4.95,4.95,1.25,3.36,1.25,1.95,3.36,2.51,0.85,2.55,2.55,1.65,5.91,1.7,2.1,3.36,0.42,2.1,1.65,0.36,2.95,8.5,0.42,0.42,1.25,1.66,1.06,5.2,1.28,12.75,1.25,2.95,3.75,1.66,5.95,8.5,0.55,0.85,2.95,1.25,0.85,1.25,1.25,4.21,0.85,0.42,7.95,3.36,1.25,0.38,0.85,2.95,8.95,1.65,0.85,11.02,7.95,0.85,2.25,4.95,0.85,11.02,2.1,0.85,12.75,2.55,0.42,2.95,12.75,1.69,0.85,1.25,5.06,5.91,4.65,0.95,1.25,1.65,0.85,0.65,2.95,8.47,1.66,5.91,0.42,5.95,7.95,4.21,2.95,1.25,0.85,6.35,0.65,0.42,6.75,0.42,2.55,12.75,2.95,0.85,4.95,2.55,1.25,2.95,1.28,6.75,1.95,1.66,4.3,0.53,1.65,3.75,2.1,2.1,3.36,3.75,5.95,1.25,0.95,2.95,4.21,1.66,5.91,1.69,5.49,2.55,1.65,0.65,1.66,0.85,7.95,2.95,4.25,0.55,0.65,1.45,3.75,1.85,5.95,4.95,1.25,2.55,12.75,9.95,0.85,1.25,1.25,0.42,1.69,0.42,1.69,2.95,1.25,1.65,5.91,3.36,0.55,1.25,0.85,1.25,5.95,6.45,2.95,1.28,1.95,1.25,0.85,0.42,1.25,1.65,4.95,2.95,3.95,3.36,0.55,1.95,2.1,1.66,2.1,1.25,9.95,1.95,3.75,3.75,12.72,3.75,0.43,0.85,0.85,2.95,0.81,0.85,1.25,2.1,5.95,0.85,2.95,8.95,2.1,2.55,3.75,0.42,0.85,1.65,2.55,9.95,4.21,29.79,4.95,1.65,3.75,0.21,2.55,2.1,4.21,0.85,0.55,0.85,0.85,2.95,0.65,1.06,7.95,4.25,0.55,2.95,2.1,1269.51,2.51,0.65,1.25,4.25,3.75,1.25,3.36,0.55,3.75,2.55,1.95,0.42,0.42,0.42,4.21,0.85,3.75,0.43,0.42,1.65,2.95,2.51,0.85,3.25,4.95,14.43,5.45,7.95,2.1,0.42,12.75,1.45,0.85,1.66,0.85,8.47,2.1,1.85,6.75,3.75,1.25,2.95,1.66,2.95,4.25,4.95,1.25,4.21,4.95,1.25,12.75,3.75,2.95,1.65,1.95,1.95,2.98],\"xaxis\":\"x2\",\"yaxis\":\"y2\",\"type\":\"box\"}],                        {\"template\":{\"data\":{\"histogram2dcontour\":[{\"type\":\"histogram2dcontour\",\"colorbar\":{\"outlinewidth\":0,\"ticks\":\"\"},\"colorscale\":[[0.0,\"#0d0887\"],[0.1111111111111111,\"#46039f\"],[0.2222222222222222,\"#7201a8\"],[0.3333333333333333,\"#9c179e\"],[0.4444444444444444,\"#bd3786\"],[0.5555555555555556,\"#d8576b\"],[0.6666666666666666,\"#ed7953\"],[0.7777777777777778,\"#fb9f3a\"],[0.8888888888888888,\"#fdca26\"],[1.0,\"#f0f921\"]]}],\"choropleth\":[{\"type\":\"choropleth\",\"colorbar\":{\"outlinewidth\":0,\"ticks\":\"\"}}],\"histogram2d\":[{\"type\":\"histogram2d\",\"colorbar\":{\"outlinewidth\":0,\"ticks\":\"\"},\"colorscale\":[[0.0,\"#0d0887\"],[0.1111111111111111,\"#46039f\"],[0.2222222222222222,\"#7201a8\"],[0.3333333333333333,\"#9c179e\"],[0.4444444444444444,\"#bd3786\"],[0.5555555555555556,\"#d8576b\"],[0.6666666666666666,\"#ed7953\"],[0.7777777777777778,\"#fb9f3a\"],[0.8888888888888888,\"#fdca26\"],[1.0,\"#f0f921\"]]}],\"heatmap\":[{\"type\":\"heatmap\",\"colorbar\":{\"outlinewidth\":0,\"ticks\":\"\"},\"colorscale\":[[0.0,\"#0d0887\"],[0.1111111111111111,\"#46039f\"],[0.2222222222222222,\"#7201a8\"],[0.3333333333333333,\"#9c179e\"],[0.4444444444444444,\"#bd3786\"],[0.5555555555555556,\"#d8576b\"],[0.6666666666666666,\"#ed7953\"],[0.7777777777777778,\"#fb9f3a\"],[0.8888888888888888,\"#fdca26\"],[1.0,\"#f0f921\"]]}],\"heatmapgl\":[{\"type\":\"heatmapgl\",\"colorbar\":{\"outlinewidth\":0,\"ticks\":\"\"},\"colorscale\":[[0.0,\"#0d0887\"],[0.1111111111111111,\"#46039f\"],[0.2222222222222222,\"#7201a8\"],[0.3333333333333333,\"#9c179e\"],[0.4444444444444444,\"#bd3786\"],[0.5555555555555556,\"#d8576b\"],[0.6666666666666666,\"#ed7953\"],[0.7777777777777778,\"#fb9f3a\"],[0.8888888888888888,\"#fdca26\"],[1.0,\"#f0f921\"]]}],\"contourcarpet\":[{\"type\":\"contourcarpet\",\"colorbar\":{\"outlinewidth\":0,\"ticks\":\"\"}}],\"contour\":[{\"type\":\"contour\",\"colorbar\":{\"outlinewidth\":0,\"ticks\":\"\"},\"colorscale\":[[0.0,\"#0d0887\"],[0.1111111111111111,\"#46039f\"],[0.2222222222222222,\"#7201a8\"],[0.3333333333333333,\"#9c179e\"],[0.4444444444444444,\"#bd3786\"],[0.5555555555555556,\"#d8576b\"],[0.6666666666666666,\"#ed7953\"],[0.7777777777777778,\"#fb9f3a\"],[0.8888888888888888,\"#fdca26\"],[1.0,\"#f0f921\"]]}],\"surface\":[{\"type\":\"surface\",\"colorbar\":{\"outlinewidth\":0,\"ticks\":\"\"},\"colorscale\":[[0.0,\"#0d0887\"],[0.1111111111111111,\"#46039f\"],[0.2222222222222222,\"#7201a8\"],[0.3333333333333333,\"#9c179e\"],[0.4444444444444444,\"#bd3786\"],[0.5555555555555556,\"#d8576b\"],[0.6666666666666666,\"#ed7953\"],[0.7777777777777778,\"#fb9f3a\"],[0.8888888888888888,\"#fdca26\"],[1.0,\"#f0f921\"]]}],\"mesh3d\":[{\"type\":\"mesh3d\",\"colorbar\":{\"outlinewidth\":0,\"ticks\":\"\"}}],\"scatter\":[{\"fillpattern\":{\"fillmode\":\"overlay\",\"size\":10,\"solidity\":0.2},\"type\":\"scatter\"}],\"parcoords\":[{\"type\":\"parcoords\",\"line\":{\"colorbar\":{\"outlinewidth\":0,\"ticks\":\"\"}}}],\"scatterpolargl\":[{\"type\":\"scatterpolargl\",\"marker\":{\"colorbar\":{\"outlinewidth\":0,\"ticks\":\"\"}}}],\"bar\":[{\"error_x\":{\"color\":\"#2a3f5f\"},\"error_y\":{\"color\":\"#2a3f5f\"},\"marker\":{\"line\":{\"color\":\"#E5ECF6\",\"width\":0.5},\"pattern\":{\"fillmode\":\"overlay\",\"size\":10,\"solidity\":0.2}},\"type\":\"bar\"}],\"scattergeo\":[{\"type\":\"scattergeo\",\"marker\":{\"colorbar\":{\"outlinewidth\":0,\"ticks\":\"\"}}}],\"scatterpolar\":[{\"type\":\"scatterpolar\",\"marker\":{\"colorbar\":{\"outlinewidth\":0,\"ticks\":\"\"}}}],\"histogram\":[{\"marker\":{\"pattern\":{\"fillmode\":\"overlay\",\"size\":10,\"solidity\":0.2}},\"type\":\"histogram\"}],\"scattergl\":[{\"type\":\"scattergl\",\"marker\":{\"colorbar\":{\"outlinewidth\":0,\"ticks\":\"\"}}}],\"scatter3d\":[{\"type\":\"scatter3d\",\"line\":{\"colorbar\":{\"outlinewidth\":0,\"ticks\":\"\"}},\"marker\":{\"colorbar\":{\"outlinewidth\":0,\"ticks\":\"\"}}}],\"scattermapbox\":[{\"type\":\"scattermapbox\",\"marker\":{\"colorbar\":{\"outlinewidth\":0,\"ticks\":\"\"}}}],\"scatterternary\":[{\"type\":\"scatterternary\",\"marker\":{\"colorbar\":{\"outlinewidth\":0,\"ticks\":\"\"}}}],\"scattercarpet\":[{\"type\":\"scattercarpet\",\"marker\":{\"colorbar\":{\"outlinewidth\":0,\"ticks\":\"\"}}}],\"carpet\":[{\"aaxis\":{\"endlinecolor\":\"#2a3f5f\",\"gridcolor\":\"white\",\"linecolor\":\"white\",\"minorgridcolor\":\"white\",\"startlinecolor\":\"#2a3f5f\"},\"baxis\":{\"endlinecolor\":\"#2a3f5f\",\"gridcolor\":\"white\",\"linecolor\":\"white\",\"minorgridcolor\":\"white\",\"startlinecolor\":\"#2a3f5f\"},\"type\":\"carpet\"}],\"table\":[{\"cells\":{\"fill\":{\"color\":\"#EBF0F8\"},\"line\":{\"color\":\"white\"}},\"header\":{\"fill\":{\"color\":\"#C8D4E3\"},\"line\":{\"color\":\"white\"}},\"type\":\"table\"}],\"barpolar\":[{\"marker\":{\"line\":{\"color\":\"#E5ECF6\",\"width\":0.5},\"pattern\":{\"fillmode\":\"overlay\",\"size\":10,\"solidity\":0.2}},\"type\":\"barpolar\"}],\"pie\":[{\"automargin\":true,\"type\":\"pie\"}]},\"layout\":{\"autotypenumbers\":\"strict\",\"colorway\":[\"#636efa\",\"#EF553B\",\"#00cc96\",\"#ab63fa\",\"#FFA15A\",\"#19d3f3\",\"#FF6692\",\"#B6E880\",\"#FF97FF\",\"#FECB52\"],\"font\":{\"color\":\"#2a3f5f\"},\"hovermode\":\"closest\",\"hoverlabel\":{\"align\":\"left\"},\"paper_bgcolor\":\"white\",\"plot_bgcolor\":\"#E5ECF6\",\"polar\":{\"bgcolor\":\"#E5ECF6\",\"angularaxis\":{\"gridcolor\":\"white\",\"linecolor\":\"white\",\"ticks\":\"\"},\"radialaxis\":{\"gridcolor\":\"white\",\"linecolor\":\"white\",\"ticks\":\"\"}},\"ternary\":{\"bgcolor\":\"#E5ECF6\",\"aaxis\":{\"gridcolor\":\"white\",\"linecolor\":\"white\",\"ticks\":\"\"},\"baxis\":{\"gridcolor\":\"white\",\"linecolor\":\"white\",\"ticks\":\"\"},\"caxis\":{\"gridcolor\":\"white\",\"linecolor\":\"white\",\"ticks\":\"\"}},\"coloraxis\":{\"colorbar\":{\"outlinewidth\":0,\"ticks\":\"\"}},\"colorscale\":{\"sequential\":[[0.0,\"#0d0887\"],[0.1111111111111111,\"#46039f\"],[0.2222222222222222,\"#7201a8\"],[0.3333333333333333,\"#9c179e\"],[0.4444444444444444,\"#bd3786\"],[0.5555555555555556,\"#d8576b\"],[0.6666666666666666,\"#ed7953\"],[0.7777777777777778,\"#fb9f3a\"],[0.8888888888888888,\"#fdca26\"],[1.0,\"#f0f921\"]],\"sequentialminus\":[[0.0,\"#0d0887\"],[0.1111111111111111,\"#46039f\"],[0.2222222222222222,\"#7201a8\"],[0.3333333333333333,\"#9c179e\"],[0.4444444444444444,\"#bd3786\"],[0.5555555555555556,\"#d8576b\"],[0.6666666666666666,\"#ed7953\"],[0.7777777777777778,\"#fb9f3a\"],[0.8888888888888888,\"#fdca26\"],[1.0,\"#f0f921\"]],\"diverging\":[[0,\"#8e0152\"],[0.1,\"#c51b7d\"],[0.2,\"#de77ae\"],[0.3,\"#f1b6da\"],[0.4,\"#fde0ef\"],[0.5,\"#f7f7f7\"],[0.6,\"#e6f5d0\"],[0.7,\"#b8e186\"],[0.8,\"#7fbc41\"],[0.9,\"#4d9221\"],[1,\"#276419\"]]},\"xaxis\":{\"gridcolor\":\"white\",\"linecolor\":\"white\",\"ticks\":\"\",\"title\":{\"standoff\":15},\"zerolinecolor\":\"white\",\"automargin\":true,\"zerolinewidth\":2},\"yaxis\":{\"gridcolor\":\"white\",\"linecolor\":\"white\",\"ticks\":\"\",\"title\":{\"standoff\":15},\"zerolinecolor\":\"white\",\"automargin\":true,\"zerolinewidth\":2},\"scene\":{\"xaxis\":{\"backgroundcolor\":\"#E5ECF6\",\"gridcolor\":\"white\",\"linecolor\":\"white\",\"showbackground\":true,\"ticks\":\"\",\"zerolinecolor\":\"white\",\"gridwidth\":2},\"yaxis\":{\"backgroundcolor\":\"#E5ECF6\",\"gridcolor\":\"white\",\"linecolor\":\"white\",\"showbackground\":true,\"ticks\":\"\",\"zerolinecolor\":\"white\",\"gridwidth\":2},\"zaxis\":{\"backgroundcolor\":\"#E5ECF6\",\"gridcolor\":\"white\",\"linecolor\":\"white\",\"showbackground\":true,\"ticks\":\"\",\"zerolinecolor\":\"white\",\"gridwidth\":2}},\"shapedefaults\":{\"line\":{\"color\":\"#2a3f5f\"}},\"annotationdefaults\":{\"arrowcolor\":\"#2a3f5f\",\"arrowhead\":0,\"arrowwidth\":1},\"geo\":{\"bgcolor\":\"white\",\"landcolor\":\"#E5ECF6\",\"subunitcolor\":\"white\",\"showland\":true,\"showlakes\":true,\"lakecolor\":\"white\"},\"title\":{\"x\":0.05},\"mapbox\":{\"style\":\"light\"}}},\"xaxis\":{\"anchor\":\"y\",\"domain\":[0.0,1.0],\"title\":{\"text\":\"value\"}},\"yaxis\":{\"anchor\":\"x\",\"domain\":[0.0,0.7326],\"title\":{\"text\":\"count\"}},\"xaxis2\":{\"anchor\":\"y2\",\"domain\":[0.0,1.0],\"matches\":\"x\",\"showticklabels\":false,\"showgrid\":true},\"yaxis2\":{\"anchor\":\"x2\",\"domain\":[0.7426,1.0],\"matches\":\"y2\",\"showticklabels\":false,\"showline\":false,\"ticks\":\"\",\"showgrid\":false},\"legend\":{\"title\":{\"text\":\"variable\"},\"tracegroupgap\":0},\"title\":{\"text\":\"Price - With Outliers\"},\"barmode\":\"relative\"},                        {\"responsive\": true}                    ).then(function(){\n",
              "                            \n",
              "var gd = document.getElementById('f03e9bb1-f659-4991-9677-b1666d41f8da');\n",
              "var x = new MutationObserver(function (mutations, observer) {{\n",
              "        var display = window.getComputedStyle(gd).display;\n",
              "        if (!display || display === 'none') {{\n",
              "            console.log([gd, 'removed!']);\n",
              "            Plotly.purge(gd);\n",
              "            observer.disconnect();\n",
              "        }}\n",
              "}});\n",
              "\n",
              "// Listen for the removal of the full notebook cells\n",
              "var notebookContainer = gd.closest('#notebook-container');\n",
              "if (notebookContainer) {{\n",
              "    x.observe(notebookContainer, {childList: true});\n",
              "}}\n",
              "\n",
              "// Listen for the clearing of the current output cell\n",
              "var outputEl = gd.closest('.output');\n",
              "if (outputEl) {{\n",
              "    x.observe(outputEl, {childList: true});\n",
              "}}\n",
              "\n",
              "                        })                };                            </script>        </div>\n",
              "</body>\n",
              "</html>"
            ]
          },
          "metadata": {}
        },
        {
          "output_type": "display_data",
          "data": {
            "text/html": [
              "<html>\n",
              "<head><meta charset=\"utf-8\" /></head>\n",
              "<body>\n",
              "    <div>            <script src=\"https://cdnjs.cloudflare.com/ajax/libs/mathjax/2.7.5/MathJax.js?config=TeX-AMS-MML_SVG\"></script><script type=\"text/javascript\">if (window.MathJax && window.MathJax.Hub && window.MathJax.Hub.Config) {window.MathJax.Hub.Config({SVG: {font: \"STIX-Web\"}});}</script>                <script type=\"text/javascript\">window.PlotlyConfig = {MathJaxConfig: 'local'};</script>\n",
              "        <script src=\"https://cdn.plot.ly/plotly-2.14.0.min.js\"></script>                <div id=\"bb6b82c8-c6ea-4f19-ba6c-95209d92bbd8\" class=\"plotly-graph-div\" style=\"height:525px; width:100%;\"></div>            <script type=\"text/javascript\">                                    window.PLOTLYENV=window.PLOTLYENV || {};                                    if (document.getElementById(\"bb6b82c8-c6ea-4f19-ba6c-95209d92bbd8\")) {                    Plotly.newPlot(                        \"bb6b82c8-c6ea-4f19-ba6c-95209d92bbd8\",                        [{\"alignmentgroup\":\"True\",\"bingroup\":\"x\",\"hovertemplate\":\"variable=Price<br>value=%{x}<br>count=%{y}<extra></extra>\",\"legendgroup\":\"Price\",\"marker\":{\"color\":\"#636efa\",\"pattern\":{\"shape\":\"\"}},\"name\":\"Price\",\"offsetgroup\":\"Price\",\"orientation\":\"v\",\"showlegend\":true,\"x\":[7.95,2.1,0.55,1.25,4.95,0.64,5.91,3.75,1.25,1.95,1.25,12.72,0.38,1.25,2.95,5.06,8.5,6.04,1.65,4.25,4.21,3.75,5.91,2.1,10.95,4.21,13.87,0.42,0.1,2.51,2.51,2.95,4.21,0.42,1.45,2.55,1.66,4.65,5.55,2.51,0.65,2.55,1.45,9.95,1.25,2.1,1.95,1.65,0.87,2.95,0.85,0.55,1.65,0.85,8.49,0.85,5.91,4.21,2.1,2.51,1.95,6.35,0.65,2.55,8.5,1.25,10.95,0.85,13.57,0.85,0.85,2.1,3.75,1.65,12.75,7.49,1.66,1.65,7.65,1.65,2.95,0.65,2.55,0.85,0.85,2.51,0.85,5.91,4.25,4.95,18.0,1.65,1.65,10.95,2.55,1.65,1.25,2.57,2.55,2.95,0.85,0.85,1.65,0.85,0.65,2.95,8.5,8.5,0.08,1.25,1.25,6.75,6.75,3.75,2.95,1.45,1.25,5.95,4.65,0.95,0.85,2.95,1.65,6.77,2.1,2.25,4.21,1.69,0.42,1.25,1.65,1.25,2.55,1.65,2.57,1.25,2.51,5.91,0.42,1.66,5.88,0.85,0.21,0.19,1.65,1.65,1.69,0.42,4.95,2.95,3.75,1.65,1.65,1.95,1.69,0.29,5.95,8.5,2.1,4.21,2.95,7.95,1.65,0.42,1.25,1.45,1.65,3.75,0.36,10.75,12.75,2.1,1.25,4.95,2.55,0.42,5.95,1.25,1.69,1.69,1.65,4.95,1.84,1.95,4.65,1.25,0.85,5.95,1.95,0.85,0.42,1.65,4.25,1.25,4.95,0.85,2.55,1.06,0.0,1.25,4.25,3.36,0.85,5.45,1.95,7.49,1.25,0.42,7.62,1.25,2.51,1.66,0.85,3.75,1.95,0.85,2.95,4.25,2.1,3.75,1.45,0.85,0.42,8.5,3.45,8.47,8.95,3.25,0.85,1.65,0.85,2.98,2.95,0.55,3.75,1.25,1.65,0.85,7.49,0.38,1.65,3.36,1.65,34.0,3.75,1.95,5.06,4.65,3.39,1.25,1.25,8.47,2.95,4.95,0.65,0.85,4.21,0.65,4.95,2.1,2.51,3.75,0.85,0.43,8.5,1.25,2.95,2.95,7.95,2.1,5.91,2.95,0.95,1.25,2.51,1.25,3.36,1.25,2.55,2.95,4.25,2.1,0.72,7.49,4.21,2.95,0.85,0.42,2.51,0.85,3.75,1.65,3.75,0.42,12.75,1.25,1.65,1.65,0.85,1.45,0.85,0.34,2.95,0.85,9.95,4.21,1.95,2.51,2.55,9.95,4.21,1.66,0.85,9.95,0.0,1.65,2.95,1.06,1.25,1.25,4.25,1.65,8.5,16.13,1.25,7.49,2.1,11.26,0.43,0.42,10.17,1.66,0.81,5.95,4.21,14.95,1.25,0.72,3.36,3.75,1.06,8.5,6.75,2.95,0.42,0.55,11.87,0.65,2.1,1.95,2.1,1.45,2.95,79.95,1.65,4.25,2.55,4.95,2.1,2.51,4.25,1.25,1.65,4.25,1.66,122.3,3.45,7.65,9.95,1.65,3.36,9.95,1.65,2.55,2.1,0.85,0.85,2.95,3.36,4.3,5.06,0.19,2.1,3.36,1.66,2.1,5.91,5.95,1.06,2.55,34.0,2.55,7.49,0.65,2.95,7.95,8.47,2.1,3.36,2.1,1.95,2.55,2.51,2.1,2.12,9.95,4.95,4.21,1.25,0.42,2.95,5.91,0.55,0.42,38.26,12.75,2.95,9.95,16.95,5.45,0.55,3.95,2.95,0.85,4.21,0.55,7.49,0.85,0.72,1.25,2.51,6.95,1.66,5.91,4.95,4.21,0.85,3.95,0.42,1.66,1.25,1.25,2.95,34.74,1.95,1.25,2.51,0.85,2.1,1.06,6.75,2.1,0.55,6.04,0.85,0.85,0.83,3.25,2.55,7.62,1.45,1.06,1.45,2.1,2.95,9.95,1.65,12.75,1.25,3.75,0.85,0.55,1.25,0.85,0.65,1.25,1.69,5.95,0.0,1.25,0.55,2.1,4.21,1.65,5.95,1.25,1.45,0.85,2.95,2.95,1.65,8.47,8.5,2.55,2.1,0.85,8.5,1.95,1.7,0.65,2.95,1.65,1.25,0.85,4.25,0.64,0.42,0.38,1.65,2.1,12.75,0.65,0.65,4.95,0.85,1.25,1.66,1.65,0.85,4.95,3.04,0.42,16.95,1.65,1.25,5.06,0.85,0.85,2.1,1.65,0.85,8.47,3.43,2.55,0.42,9.95,1.66,0.65,1.25,12.75,12.72,5.95,4.65,3.39,6.75,1.65,4.25,0.85,2.55,2.95,3.75,2.55,1.65,7.95,1.95,0.29,4.95,1.25,0.42,2.95,5.95,1.25,4.95,5.91,4.21,16.98,1.65,4.25,2.95,1.25,1.45,3.36,10.95,1.49,12.75,4.25,0.29,9.95,1.65,1.45,7.95,1.45,1.66,1.65,2.95,5.95,3.75,0.42,2.95,2.98,2.95,1.65,1.65,1.95,0.38,1.65,7.95,2.55,4.25,2.95,0.85,2.95,1.45,1.65,0.42,5.95,1.25,2.1,0.85,3.75,34.0,3.75,1.45,4.25,1.25,1.65,3.75,7.62,0.55,1.95,1.45,1.7,0.36,4.5,4.95,1.95,4.21,1.25,5.17,2.55,0.42,4.95,1.95,2.55,1.28,1.65,0.42,1.95,1.65,2.1,0.85,5.95,0.65,1.45,7.65,2.1,2.95,4.95,8.47,0.95,1.25,2.95,9.95,1.65,2.55,1.65,1.25,1.25,1.25,1.25,2.51,0.85,7.49,1.65,1.45,1.95,0.65,1.25,0.42,2.1,12.75,0.85,1.7,2.1,2.95,1.25,3.36,1.65,1.95,2.55,5.45,0.55,16.95,6.04,4.21,5.95,4.95,1.06,2.55,7.49,1.25,0.55,1.95,5.95,5.95,2.51,5.91,4.3,1.65,2.51,1.25,1.25,16.98,1.25,10.95,3.35,1.45,1.65,1.25,1.65,4.21,2.95,0.42,2.55,4.95,4.95,1.25,3.36,1.25,1.95,3.36,2.51,0.85,2.55,2.55,1.65,5.91,1.7,2.1,3.36,0.42,2.1,1.65,0.36,2.95,8.5,0.42,0.42,1.25,1.66,1.06,5.2,1.28,12.75,1.25,2.95,3.75,1.66,5.95,8.5,0.55,0.85,2.95,1.25,0.85,1.25,1.25,4.21,0.85,0.42,7.95,3.36,1.25,0.38,0.85,2.95,8.95,1.65,0.85,11.02,7.95,0.85,2.25,4.95,0.85,11.02,2.1,0.85,12.75,2.55,0.42,2.95,12.75,1.69,0.85,1.25,5.06,5.91,4.65,0.95,1.25,1.65,0.85,0.65,2.95,8.47,1.66,5.91,0.42,5.95,7.95,4.21,2.95,1.25,0.85,6.35,0.65,0.42,6.75,0.42,2.55,12.75,2.95,0.85,4.95,2.55,1.25,2.95,1.28,6.75,1.95,1.66,4.3,0.53,1.65,3.75,2.1,2.1,3.36,3.75,5.95,1.25,0.95,2.95,4.21,1.66,5.91,1.69,5.49,2.55,1.65,0.65,1.66,0.85,7.95,2.95,4.25,0.55,0.65,1.45,3.75,1.85,5.95,4.95,1.25,2.55,12.75,9.95,0.85,1.25,1.25,0.42,1.69,0.42,1.69,2.95,1.25,1.65,5.91,3.36,0.55,1.25,0.85,1.25,5.95,6.45,2.95,1.28,1.95,1.25,0.85,0.42,1.25,1.65,4.95,2.95,3.95,3.36,0.55,1.95,2.1,1.66,2.1,1.25,9.95,1.95,3.75,3.75,12.72,3.75,0.43,0.85,0.85,2.95,0.81,0.85,1.25,2.1,5.95,0.85,2.95,8.95,2.1,2.55,3.75,0.42,0.85,1.65,2.55,9.95,4.21,29.79,4.95,1.65,3.75,0.21,2.55,2.1,4.21,0.85,0.55,0.85,0.85,2.95,0.65,1.06,7.95,4.25,0.55,2.95,2.1,2.51,0.65,1.25,4.25,3.75,1.25,3.36,0.55,3.75,2.55,1.95,0.42,0.42,0.42,4.21,0.85,3.75,0.43,0.42,1.65,2.95,2.51,0.85,3.25,4.95,14.43,5.45,7.95,2.1,0.42,12.75,1.45,0.85,1.66,0.85,8.47,2.1,1.85,6.75,3.75,1.25,2.95,1.66,2.95,4.25,4.95,1.25,4.21,4.95,1.25,12.75,3.75,2.95,1.65,1.95,1.95,2.98],\"xaxis\":\"x\",\"yaxis\":\"y\",\"type\":\"histogram\"},{\"alignmentgroup\":\"True\",\"hovertemplate\":\"variable=Price<br>value=%{x}<extra></extra>\",\"legendgroup\":\"Price\",\"marker\":{\"color\":\"#636efa\"},\"name\":\"Price\",\"notched\":true,\"offsetgroup\":\"Price\",\"showlegend\":false,\"x\":[7.95,2.1,0.55,1.25,4.95,0.64,5.91,3.75,1.25,1.95,1.25,12.72,0.38,1.25,2.95,5.06,8.5,6.04,1.65,4.25,4.21,3.75,5.91,2.1,10.95,4.21,13.87,0.42,0.1,2.51,2.51,2.95,4.21,0.42,1.45,2.55,1.66,4.65,5.55,2.51,0.65,2.55,1.45,9.95,1.25,2.1,1.95,1.65,0.87,2.95,0.85,0.55,1.65,0.85,8.49,0.85,5.91,4.21,2.1,2.51,1.95,6.35,0.65,2.55,8.5,1.25,10.95,0.85,13.57,0.85,0.85,2.1,3.75,1.65,12.75,7.49,1.66,1.65,7.65,1.65,2.95,0.65,2.55,0.85,0.85,2.51,0.85,5.91,4.25,4.95,18.0,1.65,1.65,10.95,2.55,1.65,1.25,2.57,2.55,2.95,0.85,0.85,1.65,0.85,0.65,2.95,8.5,8.5,0.08,1.25,1.25,6.75,6.75,3.75,2.95,1.45,1.25,5.95,4.65,0.95,0.85,2.95,1.65,6.77,2.1,2.25,4.21,1.69,0.42,1.25,1.65,1.25,2.55,1.65,2.57,1.25,2.51,5.91,0.42,1.66,5.88,0.85,0.21,0.19,1.65,1.65,1.69,0.42,4.95,2.95,3.75,1.65,1.65,1.95,1.69,0.29,5.95,8.5,2.1,4.21,2.95,7.95,1.65,0.42,1.25,1.45,1.65,3.75,0.36,10.75,12.75,2.1,1.25,4.95,2.55,0.42,5.95,1.25,1.69,1.69,1.65,4.95,1.84,1.95,4.65,1.25,0.85,5.95,1.95,0.85,0.42,1.65,4.25,1.25,4.95,0.85,2.55,1.06,0.0,1.25,4.25,3.36,0.85,5.45,1.95,7.49,1.25,0.42,7.62,1.25,2.51,1.66,0.85,3.75,1.95,0.85,2.95,4.25,2.1,3.75,1.45,0.85,0.42,8.5,3.45,8.47,8.95,3.25,0.85,1.65,0.85,2.98,2.95,0.55,3.75,1.25,1.65,0.85,7.49,0.38,1.65,3.36,1.65,34.0,3.75,1.95,5.06,4.65,3.39,1.25,1.25,8.47,2.95,4.95,0.65,0.85,4.21,0.65,4.95,2.1,2.51,3.75,0.85,0.43,8.5,1.25,2.95,2.95,7.95,2.1,5.91,2.95,0.95,1.25,2.51,1.25,3.36,1.25,2.55,2.95,4.25,2.1,0.72,7.49,4.21,2.95,0.85,0.42,2.51,0.85,3.75,1.65,3.75,0.42,12.75,1.25,1.65,1.65,0.85,1.45,0.85,0.34,2.95,0.85,9.95,4.21,1.95,2.51,2.55,9.95,4.21,1.66,0.85,9.95,0.0,1.65,2.95,1.06,1.25,1.25,4.25,1.65,8.5,16.13,1.25,7.49,2.1,11.26,0.43,0.42,10.17,1.66,0.81,5.95,4.21,14.95,1.25,0.72,3.36,3.75,1.06,8.5,6.75,2.95,0.42,0.55,11.87,0.65,2.1,1.95,2.1,1.45,2.95,79.95,1.65,4.25,2.55,4.95,2.1,2.51,4.25,1.25,1.65,4.25,1.66,122.3,3.45,7.65,9.95,1.65,3.36,9.95,1.65,2.55,2.1,0.85,0.85,2.95,3.36,4.3,5.06,0.19,2.1,3.36,1.66,2.1,5.91,5.95,1.06,2.55,34.0,2.55,7.49,0.65,2.95,7.95,8.47,2.1,3.36,2.1,1.95,2.55,2.51,2.1,2.12,9.95,4.95,4.21,1.25,0.42,2.95,5.91,0.55,0.42,38.26,12.75,2.95,9.95,16.95,5.45,0.55,3.95,2.95,0.85,4.21,0.55,7.49,0.85,0.72,1.25,2.51,6.95,1.66,5.91,4.95,4.21,0.85,3.95,0.42,1.66,1.25,1.25,2.95,34.74,1.95,1.25,2.51,0.85,2.1,1.06,6.75,2.1,0.55,6.04,0.85,0.85,0.83,3.25,2.55,7.62,1.45,1.06,1.45,2.1,2.95,9.95,1.65,12.75,1.25,3.75,0.85,0.55,1.25,0.85,0.65,1.25,1.69,5.95,0.0,1.25,0.55,2.1,4.21,1.65,5.95,1.25,1.45,0.85,2.95,2.95,1.65,8.47,8.5,2.55,2.1,0.85,8.5,1.95,1.7,0.65,2.95,1.65,1.25,0.85,4.25,0.64,0.42,0.38,1.65,2.1,12.75,0.65,0.65,4.95,0.85,1.25,1.66,1.65,0.85,4.95,3.04,0.42,16.95,1.65,1.25,5.06,0.85,0.85,2.1,1.65,0.85,8.47,3.43,2.55,0.42,9.95,1.66,0.65,1.25,12.75,12.72,5.95,4.65,3.39,6.75,1.65,4.25,0.85,2.55,2.95,3.75,2.55,1.65,7.95,1.95,0.29,4.95,1.25,0.42,2.95,5.95,1.25,4.95,5.91,4.21,16.98,1.65,4.25,2.95,1.25,1.45,3.36,10.95,1.49,12.75,4.25,0.29,9.95,1.65,1.45,7.95,1.45,1.66,1.65,2.95,5.95,3.75,0.42,2.95,2.98,2.95,1.65,1.65,1.95,0.38,1.65,7.95,2.55,4.25,2.95,0.85,2.95,1.45,1.65,0.42,5.95,1.25,2.1,0.85,3.75,34.0,3.75,1.45,4.25,1.25,1.65,3.75,7.62,0.55,1.95,1.45,1.7,0.36,4.5,4.95,1.95,4.21,1.25,5.17,2.55,0.42,4.95,1.95,2.55,1.28,1.65,0.42,1.95,1.65,2.1,0.85,5.95,0.65,1.45,7.65,2.1,2.95,4.95,8.47,0.95,1.25,2.95,9.95,1.65,2.55,1.65,1.25,1.25,1.25,1.25,2.51,0.85,7.49,1.65,1.45,1.95,0.65,1.25,0.42,2.1,12.75,0.85,1.7,2.1,2.95,1.25,3.36,1.65,1.95,2.55,5.45,0.55,16.95,6.04,4.21,5.95,4.95,1.06,2.55,7.49,1.25,0.55,1.95,5.95,5.95,2.51,5.91,4.3,1.65,2.51,1.25,1.25,16.98,1.25,10.95,3.35,1.45,1.65,1.25,1.65,4.21,2.95,0.42,2.55,4.95,4.95,1.25,3.36,1.25,1.95,3.36,2.51,0.85,2.55,2.55,1.65,5.91,1.7,2.1,3.36,0.42,2.1,1.65,0.36,2.95,8.5,0.42,0.42,1.25,1.66,1.06,5.2,1.28,12.75,1.25,2.95,3.75,1.66,5.95,8.5,0.55,0.85,2.95,1.25,0.85,1.25,1.25,4.21,0.85,0.42,7.95,3.36,1.25,0.38,0.85,2.95,8.95,1.65,0.85,11.02,7.95,0.85,2.25,4.95,0.85,11.02,2.1,0.85,12.75,2.55,0.42,2.95,12.75,1.69,0.85,1.25,5.06,5.91,4.65,0.95,1.25,1.65,0.85,0.65,2.95,8.47,1.66,5.91,0.42,5.95,7.95,4.21,2.95,1.25,0.85,6.35,0.65,0.42,6.75,0.42,2.55,12.75,2.95,0.85,4.95,2.55,1.25,2.95,1.28,6.75,1.95,1.66,4.3,0.53,1.65,3.75,2.1,2.1,3.36,3.75,5.95,1.25,0.95,2.95,4.21,1.66,5.91,1.69,5.49,2.55,1.65,0.65,1.66,0.85,7.95,2.95,4.25,0.55,0.65,1.45,3.75,1.85,5.95,4.95,1.25,2.55,12.75,9.95,0.85,1.25,1.25,0.42,1.69,0.42,1.69,2.95,1.25,1.65,5.91,3.36,0.55,1.25,0.85,1.25,5.95,6.45,2.95,1.28,1.95,1.25,0.85,0.42,1.25,1.65,4.95,2.95,3.95,3.36,0.55,1.95,2.1,1.66,2.1,1.25,9.95,1.95,3.75,3.75,12.72,3.75,0.43,0.85,0.85,2.95,0.81,0.85,1.25,2.1,5.95,0.85,2.95,8.95,2.1,2.55,3.75,0.42,0.85,1.65,2.55,9.95,4.21,29.79,4.95,1.65,3.75,0.21,2.55,2.1,4.21,0.85,0.55,0.85,0.85,2.95,0.65,1.06,7.95,4.25,0.55,2.95,2.1,2.51,0.65,1.25,4.25,3.75,1.25,3.36,0.55,3.75,2.55,1.95,0.42,0.42,0.42,4.21,0.85,3.75,0.43,0.42,1.65,2.95,2.51,0.85,3.25,4.95,14.43,5.45,7.95,2.1,0.42,12.75,1.45,0.85,1.66,0.85,8.47,2.1,1.85,6.75,3.75,1.25,2.95,1.66,2.95,4.25,4.95,1.25,4.21,4.95,1.25,12.75,3.75,2.95,1.65,1.95,1.95,2.98],\"xaxis\":\"x2\",\"yaxis\":\"y2\",\"type\":\"box\"}],                        {\"template\":{\"data\":{\"histogram2dcontour\":[{\"type\":\"histogram2dcontour\",\"colorbar\":{\"outlinewidth\":0,\"ticks\":\"\"},\"colorscale\":[[0.0,\"#0d0887\"],[0.1111111111111111,\"#46039f\"],[0.2222222222222222,\"#7201a8\"],[0.3333333333333333,\"#9c179e\"],[0.4444444444444444,\"#bd3786\"],[0.5555555555555556,\"#d8576b\"],[0.6666666666666666,\"#ed7953\"],[0.7777777777777778,\"#fb9f3a\"],[0.8888888888888888,\"#fdca26\"],[1.0,\"#f0f921\"]]}],\"choropleth\":[{\"type\":\"choropleth\",\"colorbar\":{\"outlinewidth\":0,\"ticks\":\"\"}}],\"histogram2d\":[{\"type\":\"histogram2d\",\"colorbar\":{\"outlinewidth\":0,\"ticks\":\"\"},\"colorscale\":[[0.0,\"#0d0887\"],[0.1111111111111111,\"#46039f\"],[0.2222222222222222,\"#7201a8\"],[0.3333333333333333,\"#9c179e\"],[0.4444444444444444,\"#bd3786\"],[0.5555555555555556,\"#d8576b\"],[0.6666666666666666,\"#ed7953\"],[0.7777777777777778,\"#fb9f3a\"],[0.8888888888888888,\"#fdca26\"],[1.0,\"#f0f921\"]]}],\"heatmap\":[{\"type\":\"heatmap\",\"colorbar\":{\"outlinewidth\":0,\"ticks\":\"\"},\"colorscale\":[[0.0,\"#0d0887\"],[0.1111111111111111,\"#46039f\"],[0.2222222222222222,\"#7201a8\"],[0.3333333333333333,\"#9c179e\"],[0.4444444444444444,\"#bd3786\"],[0.5555555555555556,\"#d8576b\"],[0.6666666666666666,\"#ed7953\"],[0.7777777777777778,\"#fb9f3a\"],[0.8888888888888888,\"#fdca26\"],[1.0,\"#f0f921\"]]}],\"heatmapgl\":[{\"type\":\"heatmapgl\",\"colorbar\":{\"outlinewidth\":0,\"ticks\":\"\"},\"colorscale\":[[0.0,\"#0d0887\"],[0.1111111111111111,\"#46039f\"],[0.2222222222222222,\"#7201a8\"],[0.3333333333333333,\"#9c179e\"],[0.4444444444444444,\"#bd3786\"],[0.5555555555555556,\"#d8576b\"],[0.6666666666666666,\"#ed7953\"],[0.7777777777777778,\"#fb9f3a\"],[0.8888888888888888,\"#fdca26\"],[1.0,\"#f0f921\"]]}],\"contourcarpet\":[{\"type\":\"contourcarpet\",\"colorbar\":{\"outlinewidth\":0,\"ticks\":\"\"}}],\"contour\":[{\"type\":\"contour\",\"colorbar\":{\"outlinewidth\":0,\"ticks\":\"\"},\"colorscale\":[[0.0,\"#0d0887\"],[0.1111111111111111,\"#46039f\"],[0.2222222222222222,\"#7201a8\"],[0.3333333333333333,\"#9c179e\"],[0.4444444444444444,\"#bd3786\"],[0.5555555555555556,\"#d8576b\"],[0.6666666666666666,\"#ed7953\"],[0.7777777777777778,\"#fb9f3a\"],[0.8888888888888888,\"#fdca26\"],[1.0,\"#f0f921\"]]}],\"surface\":[{\"type\":\"surface\",\"colorbar\":{\"outlinewidth\":0,\"ticks\":\"\"},\"colorscale\":[[0.0,\"#0d0887\"],[0.1111111111111111,\"#46039f\"],[0.2222222222222222,\"#7201a8\"],[0.3333333333333333,\"#9c179e\"],[0.4444444444444444,\"#bd3786\"],[0.5555555555555556,\"#d8576b\"],[0.6666666666666666,\"#ed7953\"],[0.7777777777777778,\"#fb9f3a\"],[0.8888888888888888,\"#fdca26\"],[1.0,\"#f0f921\"]]}],\"mesh3d\":[{\"type\":\"mesh3d\",\"colorbar\":{\"outlinewidth\":0,\"ticks\":\"\"}}],\"scatter\":[{\"fillpattern\":{\"fillmode\":\"overlay\",\"size\":10,\"solidity\":0.2},\"type\":\"scatter\"}],\"parcoords\":[{\"type\":\"parcoords\",\"line\":{\"colorbar\":{\"outlinewidth\":0,\"ticks\":\"\"}}}],\"scatterpolargl\":[{\"type\":\"scatterpolargl\",\"marker\":{\"colorbar\":{\"outlinewidth\":0,\"ticks\":\"\"}}}],\"bar\":[{\"error_x\":{\"color\":\"#2a3f5f\"},\"error_y\":{\"color\":\"#2a3f5f\"},\"marker\":{\"line\":{\"color\":\"#E5ECF6\",\"width\":0.5},\"pattern\":{\"fillmode\":\"overlay\",\"size\":10,\"solidity\":0.2}},\"type\":\"bar\"}],\"scattergeo\":[{\"type\":\"scattergeo\",\"marker\":{\"colorbar\":{\"outlinewidth\":0,\"ticks\":\"\"}}}],\"scatterpolar\":[{\"type\":\"scatterpolar\",\"marker\":{\"colorbar\":{\"outlinewidth\":0,\"ticks\":\"\"}}}],\"histogram\":[{\"marker\":{\"pattern\":{\"fillmode\":\"overlay\",\"size\":10,\"solidity\":0.2}},\"type\":\"histogram\"}],\"scattergl\":[{\"type\":\"scattergl\",\"marker\":{\"colorbar\":{\"outlinewidth\":0,\"ticks\":\"\"}}}],\"scatter3d\":[{\"type\":\"scatter3d\",\"line\":{\"colorbar\":{\"outlinewidth\":0,\"ticks\":\"\"}},\"marker\":{\"colorbar\":{\"outlinewidth\":0,\"ticks\":\"\"}}}],\"scattermapbox\":[{\"type\":\"scattermapbox\",\"marker\":{\"colorbar\":{\"outlinewidth\":0,\"ticks\":\"\"}}}],\"scatterternary\":[{\"type\":\"scatterternary\",\"marker\":{\"colorbar\":{\"outlinewidth\":0,\"ticks\":\"\"}}}],\"scattercarpet\":[{\"type\":\"scattercarpet\",\"marker\":{\"colorbar\":{\"outlinewidth\":0,\"ticks\":\"\"}}}],\"carpet\":[{\"aaxis\":{\"endlinecolor\":\"#2a3f5f\",\"gridcolor\":\"white\",\"linecolor\":\"white\",\"minorgridcolor\":\"white\",\"startlinecolor\":\"#2a3f5f\"},\"baxis\":{\"endlinecolor\":\"#2a3f5f\",\"gridcolor\":\"white\",\"linecolor\":\"white\",\"minorgridcolor\":\"white\",\"startlinecolor\":\"#2a3f5f\"},\"type\":\"carpet\"}],\"table\":[{\"cells\":{\"fill\":{\"color\":\"#EBF0F8\"},\"line\":{\"color\":\"white\"}},\"header\":{\"fill\":{\"color\":\"#C8D4E3\"},\"line\":{\"color\":\"white\"}},\"type\":\"table\"}],\"barpolar\":[{\"marker\":{\"line\":{\"color\":\"#E5ECF6\",\"width\":0.5},\"pattern\":{\"fillmode\":\"overlay\",\"size\":10,\"solidity\":0.2}},\"type\":\"barpolar\"}],\"pie\":[{\"automargin\":true,\"type\":\"pie\"}]},\"layout\":{\"autotypenumbers\":\"strict\",\"colorway\":[\"#636efa\",\"#EF553B\",\"#00cc96\",\"#ab63fa\",\"#FFA15A\",\"#19d3f3\",\"#FF6692\",\"#B6E880\",\"#FF97FF\",\"#FECB52\"],\"font\":{\"color\":\"#2a3f5f\"},\"hovermode\":\"closest\",\"hoverlabel\":{\"align\":\"left\"},\"paper_bgcolor\":\"white\",\"plot_bgcolor\":\"#E5ECF6\",\"polar\":{\"bgcolor\":\"#E5ECF6\",\"angularaxis\":{\"gridcolor\":\"white\",\"linecolor\":\"white\",\"ticks\":\"\"},\"radialaxis\":{\"gridcolor\":\"white\",\"linecolor\":\"white\",\"ticks\":\"\"}},\"ternary\":{\"bgcolor\":\"#E5ECF6\",\"aaxis\":{\"gridcolor\":\"white\",\"linecolor\":\"white\",\"ticks\":\"\"},\"baxis\":{\"gridcolor\":\"white\",\"linecolor\":\"white\",\"ticks\":\"\"},\"caxis\":{\"gridcolor\":\"white\",\"linecolor\":\"white\",\"ticks\":\"\"}},\"coloraxis\":{\"colorbar\":{\"outlinewidth\":0,\"ticks\":\"\"}},\"colorscale\":{\"sequential\":[[0.0,\"#0d0887\"],[0.1111111111111111,\"#46039f\"],[0.2222222222222222,\"#7201a8\"],[0.3333333333333333,\"#9c179e\"],[0.4444444444444444,\"#bd3786\"],[0.5555555555555556,\"#d8576b\"],[0.6666666666666666,\"#ed7953\"],[0.7777777777777778,\"#fb9f3a\"],[0.8888888888888888,\"#fdca26\"],[1.0,\"#f0f921\"]],\"sequentialminus\":[[0.0,\"#0d0887\"],[0.1111111111111111,\"#46039f\"],[0.2222222222222222,\"#7201a8\"],[0.3333333333333333,\"#9c179e\"],[0.4444444444444444,\"#bd3786\"],[0.5555555555555556,\"#d8576b\"],[0.6666666666666666,\"#ed7953\"],[0.7777777777777778,\"#fb9f3a\"],[0.8888888888888888,\"#fdca26\"],[1.0,\"#f0f921\"]],\"diverging\":[[0,\"#8e0152\"],[0.1,\"#c51b7d\"],[0.2,\"#de77ae\"],[0.3,\"#f1b6da\"],[0.4,\"#fde0ef\"],[0.5,\"#f7f7f7\"],[0.6,\"#e6f5d0\"],[0.7,\"#b8e186\"],[0.8,\"#7fbc41\"],[0.9,\"#4d9221\"],[1,\"#276419\"]]},\"xaxis\":{\"gridcolor\":\"white\",\"linecolor\":\"white\",\"ticks\":\"\",\"title\":{\"standoff\":15},\"zerolinecolor\":\"white\",\"automargin\":true,\"zerolinewidth\":2},\"yaxis\":{\"gridcolor\":\"white\",\"linecolor\":\"white\",\"ticks\":\"\",\"title\":{\"standoff\":15},\"zerolinecolor\":\"white\",\"automargin\":true,\"zerolinewidth\":2},\"scene\":{\"xaxis\":{\"backgroundcolor\":\"#E5ECF6\",\"gridcolor\":\"white\",\"linecolor\":\"white\",\"showbackground\":true,\"ticks\":\"\",\"zerolinecolor\":\"white\",\"gridwidth\":2},\"yaxis\":{\"backgroundcolor\":\"#E5ECF6\",\"gridcolor\":\"white\",\"linecolor\":\"white\",\"showbackground\":true,\"ticks\":\"\",\"zerolinecolor\":\"white\",\"gridwidth\":2},\"zaxis\":{\"backgroundcolor\":\"#E5ECF6\",\"gridcolor\":\"white\",\"linecolor\":\"white\",\"showbackground\":true,\"ticks\":\"\",\"zerolinecolor\":\"white\",\"gridwidth\":2}},\"shapedefaults\":{\"line\":{\"color\":\"#2a3f5f\"}},\"annotationdefaults\":{\"arrowcolor\":\"#2a3f5f\",\"arrowhead\":0,\"arrowwidth\":1},\"geo\":{\"bgcolor\":\"white\",\"landcolor\":\"#E5ECF6\",\"subunitcolor\":\"white\",\"showland\":true,\"showlakes\":true,\"lakecolor\":\"white\"},\"title\":{\"x\":0.05},\"mapbox\":{\"style\":\"light\"}}},\"xaxis\":{\"anchor\":\"y\",\"domain\":[0.0,1.0],\"title\":{\"text\":\"value\"}},\"yaxis\":{\"anchor\":\"x\",\"domain\":[0.0,0.7326],\"title\":{\"text\":\"count\"}},\"xaxis2\":{\"anchor\":\"y2\",\"domain\":[0.0,1.0],\"matches\":\"x\",\"showticklabels\":false,\"showgrid\":true},\"yaxis2\":{\"anchor\":\"x2\",\"domain\":[0.7426,1.0],\"matches\":\"y2\",\"showticklabels\":false,\"showline\":false,\"ticks\":\"\",\"showgrid\":false},\"legend\":{\"title\":{\"text\":\"variable\"},\"tracegroupgap\":0},\"title\":{\"text\":\"Price - Without Outliers\"},\"barmode\":\"relative\"},                        {\"responsive\": true}                    ).then(function(){\n",
              "                            \n",
              "var gd = document.getElementById('bb6b82c8-c6ea-4f19-ba6c-95209d92bbd8');\n",
              "var x = new MutationObserver(function (mutations, observer) {{\n",
              "        var display = window.getComputedStyle(gd).display;\n",
              "        if (!display || display === 'none') {{\n",
              "            console.log([gd, 'removed!']);\n",
              "            Plotly.purge(gd);\n",
              "            observer.disconnect();\n",
              "        }}\n",
              "}});\n",
              "\n",
              "// Listen for the removal of the full notebook cells\n",
              "var notebookContainer = gd.closest('#notebook-container');\n",
              "if (notebookContainer) {{\n",
              "    x.observe(notebookContainer, {childList: true});\n",
              "}}\n",
              "\n",
              "// Listen for the clearing of the current output cell\n",
              "var outputEl = gd.closest('.output');\n",
              "if (outputEl) {{\n",
              "    x.observe(outputEl, {childList: true});\n",
              "}}\n",
              "\n",
              "                        })                };                            </script>        </div>\n",
              "</body>\n",
              "</html>"
            ]
          },
          "metadata": {}
        }
      ],
      "source": [
        "profile_serie(df_retail['Price']) "
      ]
    },
    {
      "cell_type": "code",
      "source": [
        "df_retail[df_retail[\"Price\"] >0][\"Price\"].describe()"
      ],
      "metadata": {
        "colab": {
          "base_uri": "https://localhost:8080/"
        },
        "id": "3xZTcDPlkY7M",
        "outputId": "2ba6ede9-9fd7-44f2-b193-e36d58c0054b"
      },
      "execution_count": 8,
      "outputs": [
        {
          "output_type": "execute_result",
          "data": {
            "text/plain": [
              "count    521771.000000\n",
              "mean          4.983703\n",
              "std          96.832587\n",
              "min           0.001000\n",
              "25%           1.250000\n",
              "50%           2.100000\n",
              "75%           4.210000\n",
              "max       25111.090000\n",
              "Name: Price, dtype: float64"
            ]
          },
          "metadata": {},
          "execution_count": 8
        }
      ]
    },
    {
      "cell_type": "code",
      "source": [
        "print(f'% Datos con precio negativo: {round(df_retail[df_retail[\"Price\"]<0].shape[0] / df_retail.shape[0] * 100, 5)}%')\n",
        "print(f'N° Datos con precio negativo: {df_retail[df_retail[\"Price\"]<0].shape[0]}')\n",
        "print(f'N° Datos con precio 0: {df_retail[df_retail[\"Price\"]==0].shape[0]}')"
      ],
      "metadata": {
        "colab": {
          "base_uri": "https://localhost:8080/"
        },
        "id": "vrcwWc8KlE7U",
        "outputId": "5313da1a-2337-435d-f437-e0702ca44195"
      },
      "execution_count": 9,
      "outputs": [
        {
          "output_type": "stream",
          "name": "stdout",
          "text": [
            "% Datos con precio negativo: 0.00057%\n",
            "N° Datos con precio negativo: 3\n",
            "N° Datos con precio 0: 3687\n"
          ]
        }
      ]
    },
    {
      "cell_type": "markdown",
      "metadata": {
        "cell_id": "00021-d9508a4a-ab9e-470f-b20e-2f3b1a095d99",
        "deepnote_cell_height": 69.83332824707031,
        "deepnote_cell_type": "markdown",
        "tags": [],
        "id": "TorIj8CgUZbr"
      },
      "source": [
        "**Análisis de la primera serie (Price)**\n",
        "\n",
        "Llama la atención la presencia de precios con valores negativos (3 datos), o con precio 0 (3.687 datos).\n",
        "\n",
        "Se observa que el rango de precios es muy variable, entre 0.001 libras (omitiendo los precios iguales o menores a 0), y 25.111 libras. Esto se traduce en una distribución sesgada hacia la izquierda (con sesgo positivo), siendo el precio promedio bajo (4.7 considerando todos los valores), pero mayor que el de la mediana (2.1 considerando todos los valores). Esto se debe (promedio mayor a la mediana) debido a la presencia de valores de precios muy altos que se escapan del rango de precios de la mayoría de los datos (notar que al percentil 75 el precio es de 4.2).\n",
        "\n",
        "A su vez, la gran variabilidad de precios también se evidencia por el alto valor de la desviación estándar, de 146."
      ]
    },
    {
      "cell_type": "code",
      "execution_count": 10,
      "metadata": {
        "cell_id": "00022-d0bb6e4c-430f-42e3-9f3f-bd372817d286",
        "deepnote_cell_height": 65.03334045410156,
        "deepnote_cell_type": "code",
        "tags": [],
        "id": "JqxKVLwMUZbs",
        "colab": {
          "base_uri": "https://localhost:8080/",
          "height": 1000
        },
        "outputId": "39cbc1c6-5bbf-475b-84c5-e8c9fe9577a6"
      },
      "outputs": [
        {
          "output_type": "display_data",
          "data": {
            "text/plain": [
              "<IPython.core.display.Markdown object>"
            ],
            "text/markdown": "## Invoice Profile"
          },
          "metadata": {}
        },
        {
          "output_type": "display_data",
          "data": {
            "text/plain": [
              "Type                           category\n",
              "Number of observations           525461\n",
              "Unique                            28816\n",
              "Top                              537434\n",
              "Freq                                675\n",
              "                                       \n",
              "Missing cells                         0\n",
              "Missing cells (%)                 0.0 %\n",
              "Duplicate rows                   517456\n",
              "Duplicate rows (%)              98.48 %\n",
              "Total size in memory      2338386 bytes\n",
              "dtype: object"
            ]
          },
          "metadata": {}
        },
        {
          "output_type": "display_data",
          "data": {
            "text/html": [
              "<html>\n",
              "<head><meta charset=\"utf-8\" /></head>\n",
              "<body>\n",
              "    <div>            <script src=\"https://cdnjs.cloudflare.com/ajax/libs/mathjax/2.7.5/MathJax.js?config=TeX-AMS-MML_SVG\"></script><script type=\"text/javascript\">if (window.MathJax && window.MathJax.Hub && window.MathJax.Hub.Config) {window.MathJax.Hub.Config({SVG: {font: \"STIX-Web\"}});}</script>                <script type=\"text/javascript\">window.PlotlyConfig = {MathJaxConfig: 'local'};</script>\n",
              "        <script src=\"https://cdn.plot.ly/plotly-2.14.0.min.js\"></script>                <div id=\"12986edf-bb03-4c65-9d5c-be4868060dab\" class=\"plotly-graph-div\" style=\"height:525px; width:100%;\"></div>            <script type=\"text/javascript\">                                    window.PLOTLYENV=window.PLOTLYENV || {};                                    if (document.getElementById(\"12986edf-bb03-4c65-9d5c-be4868060dab\")) {                    Plotly.newPlot(                        \"12986edf-bb03-4c65-9d5c-be4868060dab\",                        [{\"alignmentgroup\":\"True\",\"hovertemplate\":\"x=%{x}<br>y=%{y}<extra></extra>\",\"legendgroup\":\"\",\"marker\":{\"color\":\"#636efa\",\"pattern\":{\"shape\":\"\"}},\"name\":\"\",\"offsetgroup\":\"\",\"orientation\":\"v\",\"showlegend\":false,\"textposition\":\"auto\",\"x\":[\"537434\",\"538071\",\"537638\",\"537237\",\"536876\",\"536592\",\"537823\",\"536031\",\"490074\",\"491966\",\"537240\",\"490149\",\"491969\",\"490741\",\"537666\",\"536544\",\"489857\",\"513574\",\"490745\",\"489597\",\"535835\",\"491155\",\"492414\",\"532642\",\"492782\",\"491970\",\"491043\",\"533338\",\"492425\",\"491041\",\"534859\",\"535322\",\"533348\",\"503185\",\"534709\",\"491971\",\"530850\",\"535407\",\"531843\",\"490963\",\"532139\",\"534289\",\"534459\",\"533737\",\"534319\",\"489856\",\"534389\",\"498133\",\"492303\",\"532826\",\"532419\",\"532063\",\"494918\",\"531036\",\"532953\",\"533065\",\"533740\",\"531489\",\"494782\",\"495070\",\"492783\",\"531387\",\"513099\",\"529727\",\"494814\",\"492226\",\"495239\",\"494378\",\"530060\",\"494386\",\"493073\",\"530140\",\"494016\",\"493079\",\"510983\",\"500462\",\"527520\",\"504916\",\"510772\",\"530422\",\"510519\",\"494495\",\"502746\",\"493260\",\"503823\",\"500918\",\"530332\",\"499765\",\"503426\",\"494381\",\"500356\",\"494685\",\"494147\",\"510637\",\"501080\",\"494379\",\"501161\",\"525753\",\"504933\",\"521202\"],\"xaxis\":\"x\",\"y\":[675,652,601,597,593,592,591,582,580,579,568,559,548,546,536,527,516,515,507,502,501,500,498,487,486,486,482,480,480,477,472,472,465,464,460,449,448,443,442,442,442,440,430,430,429,426,422,416,413,407,405,405,384,379,376,372,371,369,368,363,358,355,348,348,343,342,340,337,335,332,326,324,320,316,315,307,301,299,296,295,285,284,280,279,276,275,274,272,272,272,270,268,267,267,266,264,263,263,258,256],\"yaxis\":\"y\",\"type\":\"bar\"}],                        {\"template\":{\"data\":{\"histogram2dcontour\":[{\"type\":\"histogram2dcontour\",\"colorbar\":{\"outlinewidth\":0,\"ticks\":\"\"},\"colorscale\":[[0.0,\"#0d0887\"],[0.1111111111111111,\"#46039f\"],[0.2222222222222222,\"#7201a8\"],[0.3333333333333333,\"#9c179e\"],[0.4444444444444444,\"#bd3786\"],[0.5555555555555556,\"#d8576b\"],[0.6666666666666666,\"#ed7953\"],[0.7777777777777778,\"#fb9f3a\"],[0.8888888888888888,\"#fdca26\"],[1.0,\"#f0f921\"]]}],\"choropleth\":[{\"type\":\"choropleth\",\"colorbar\":{\"outlinewidth\":0,\"ticks\":\"\"}}],\"histogram2d\":[{\"type\":\"histogram2d\",\"colorbar\":{\"outlinewidth\":0,\"ticks\":\"\"},\"colorscale\":[[0.0,\"#0d0887\"],[0.1111111111111111,\"#46039f\"],[0.2222222222222222,\"#7201a8\"],[0.3333333333333333,\"#9c179e\"],[0.4444444444444444,\"#bd3786\"],[0.5555555555555556,\"#d8576b\"],[0.6666666666666666,\"#ed7953\"],[0.7777777777777778,\"#fb9f3a\"],[0.8888888888888888,\"#fdca26\"],[1.0,\"#f0f921\"]]}],\"heatmap\":[{\"type\":\"heatmap\",\"colorbar\":{\"outlinewidth\":0,\"ticks\":\"\"},\"colorscale\":[[0.0,\"#0d0887\"],[0.1111111111111111,\"#46039f\"],[0.2222222222222222,\"#7201a8\"],[0.3333333333333333,\"#9c179e\"],[0.4444444444444444,\"#bd3786\"],[0.5555555555555556,\"#d8576b\"],[0.6666666666666666,\"#ed7953\"],[0.7777777777777778,\"#fb9f3a\"],[0.8888888888888888,\"#fdca26\"],[1.0,\"#f0f921\"]]}],\"heatmapgl\":[{\"type\":\"heatmapgl\",\"colorbar\":{\"outlinewidth\":0,\"ticks\":\"\"},\"colorscale\":[[0.0,\"#0d0887\"],[0.1111111111111111,\"#46039f\"],[0.2222222222222222,\"#7201a8\"],[0.3333333333333333,\"#9c179e\"],[0.4444444444444444,\"#bd3786\"],[0.5555555555555556,\"#d8576b\"],[0.6666666666666666,\"#ed7953\"],[0.7777777777777778,\"#fb9f3a\"],[0.8888888888888888,\"#fdca26\"],[1.0,\"#f0f921\"]]}],\"contourcarpet\":[{\"type\":\"contourcarpet\",\"colorbar\":{\"outlinewidth\":0,\"ticks\":\"\"}}],\"contour\":[{\"type\":\"contour\",\"colorbar\":{\"outlinewidth\":0,\"ticks\":\"\"},\"colorscale\":[[0.0,\"#0d0887\"],[0.1111111111111111,\"#46039f\"],[0.2222222222222222,\"#7201a8\"],[0.3333333333333333,\"#9c179e\"],[0.4444444444444444,\"#bd3786\"],[0.5555555555555556,\"#d8576b\"],[0.6666666666666666,\"#ed7953\"],[0.7777777777777778,\"#fb9f3a\"],[0.8888888888888888,\"#fdca26\"],[1.0,\"#f0f921\"]]}],\"surface\":[{\"type\":\"surface\",\"colorbar\":{\"outlinewidth\":0,\"ticks\":\"\"},\"colorscale\":[[0.0,\"#0d0887\"],[0.1111111111111111,\"#46039f\"],[0.2222222222222222,\"#7201a8\"],[0.3333333333333333,\"#9c179e\"],[0.4444444444444444,\"#bd3786\"],[0.5555555555555556,\"#d8576b\"],[0.6666666666666666,\"#ed7953\"],[0.7777777777777778,\"#fb9f3a\"],[0.8888888888888888,\"#fdca26\"],[1.0,\"#f0f921\"]]}],\"mesh3d\":[{\"type\":\"mesh3d\",\"colorbar\":{\"outlinewidth\":0,\"ticks\":\"\"}}],\"scatter\":[{\"fillpattern\":{\"fillmode\":\"overlay\",\"size\":10,\"solidity\":0.2},\"type\":\"scatter\"}],\"parcoords\":[{\"type\":\"parcoords\",\"line\":{\"colorbar\":{\"outlinewidth\":0,\"ticks\":\"\"}}}],\"scatterpolargl\":[{\"type\":\"scatterpolargl\",\"marker\":{\"colorbar\":{\"outlinewidth\":0,\"ticks\":\"\"}}}],\"bar\":[{\"error_x\":{\"color\":\"#2a3f5f\"},\"error_y\":{\"color\":\"#2a3f5f\"},\"marker\":{\"line\":{\"color\":\"#E5ECF6\",\"width\":0.5},\"pattern\":{\"fillmode\":\"overlay\",\"size\":10,\"solidity\":0.2}},\"type\":\"bar\"}],\"scattergeo\":[{\"type\":\"scattergeo\",\"marker\":{\"colorbar\":{\"outlinewidth\":0,\"ticks\":\"\"}}}],\"scatterpolar\":[{\"type\":\"scatterpolar\",\"marker\":{\"colorbar\":{\"outlinewidth\":0,\"ticks\":\"\"}}}],\"histogram\":[{\"marker\":{\"pattern\":{\"fillmode\":\"overlay\",\"size\":10,\"solidity\":0.2}},\"type\":\"histogram\"}],\"scattergl\":[{\"type\":\"scattergl\",\"marker\":{\"colorbar\":{\"outlinewidth\":0,\"ticks\":\"\"}}}],\"scatter3d\":[{\"type\":\"scatter3d\",\"line\":{\"colorbar\":{\"outlinewidth\":0,\"ticks\":\"\"}},\"marker\":{\"colorbar\":{\"outlinewidth\":0,\"ticks\":\"\"}}}],\"scattermapbox\":[{\"type\":\"scattermapbox\",\"marker\":{\"colorbar\":{\"outlinewidth\":0,\"ticks\":\"\"}}}],\"scatterternary\":[{\"type\":\"scatterternary\",\"marker\":{\"colorbar\":{\"outlinewidth\":0,\"ticks\":\"\"}}}],\"scattercarpet\":[{\"type\":\"scattercarpet\",\"marker\":{\"colorbar\":{\"outlinewidth\":0,\"ticks\":\"\"}}}],\"carpet\":[{\"aaxis\":{\"endlinecolor\":\"#2a3f5f\",\"gridcolor\":\"white\",\"linecolor\":\"white\",\"minorgridcolor\":\"white\",\"startlinecolor\":\"#2a3f5f\"},\"baxis\":{\"endlinecolor\":\"#2a3f5f\",\"gridcolor\":\"white\",\"linecolor\":\"white\",\"minorgridcolor\":\"white\",\"startlinecolor\":\"#2a3f5f\"},\"type\":\"carpet\"}],\"table\":[{\"cells\":{\"fill\":{\"color\":\"#EBF0F8\"},\"line\":{\"color\":\"white\"}},\"header\":{\"fill\":{\"color\":\"#C8D4E3\"},\"line\":{\"color\":\"white\"}},\"type\":\"table\"}],\"barpolar\":[{\"marker\":{\"line\":{\"color\":\"#E5ECF6\",\"width\":0.5},\"pattern\":{\"fillmode\":\"overlay\",\"size\":10,\"solidity\":0.2}},\"type\":\"barpolar\"}],\"pie\":[{\"automargin\":true,\"type\":\"pie\"}]},\"layout\":{\"autotypenumbers\":\"strict\",\"colorway\":[\"#636efa\",\"#EF553B\",\"#00cc96\",\"#ab63fa\",\"#FFA15A\",\"#19d3f3\",\"#FF6692\",\"#B6E880\",\"#FF97FF\",\"#FECB52\"],\"font\":{\"color\":\"#2a3f5f\"},\"hovermode\":\"closest\",\"hoverlabel\":{\"align\":\"left\"},\"paper_bgcolor\":\"white\",\"plot_bgcolor\":\"#E5ECF6\",\"polar\":{\"bgcolor\":\"#E5ECF6\",\"angularaxis\":{\"gridcolor\":\"white\",\"linecolor\":\"white\",\"ticks\":\"\"},\"radialaxis\":{\"gridcolor\":\"white\",\"linecolor\":\"white\",\"ticks\":\"\"}},\"ternary\":{\"bgcolor\":\"#E5ECF6\",\"aaxis\":{\"gridcolor\":\"white\",\"linecolor\":\"white\",\"ticks\":\"\"},\"baxis\":{\"gridcolor\":\"white\",\"linecolor\":\"white\",\"ticks\":\"\"},\"caxis\":{\"gridcolor\":\"white\",\"linecolor\":\"white\",\"ticks\":\"\"}},\"coloraxis\":{\"colorbar\":{\"outlinewidth\":0,\"ticks\":\"\"}},\"colorscale\":{\"sequential\":[[0.0,\"#0d0887\"],[0.1111111111111111,\"#46039f\"],[0.2222222222222222,\"#7201a8\"],[0.3333333333333333,\"#9c179e\"],[0.4444444444444444,\"#bd3786\"],[0.5555555555555556,\"#d8576b\"],[0.6666666666666666,\"#ed7953\"],[0.7777777777777778,\"#fb9f3a\"],[0.8888888888888888,\"#fdca26\"],[1.0,\"#f0f921\"]],\"sequentialminus\":[[0.0,\"#0d0887\"],[0.1111111111111111,\"#46039f\"],[0.2222222222222222,\"#7201a8\"],[0.3333333333333333,\"#9c179e\"],[0.4444444444444444,\"#bd3786\"],[0.5555555555555556,\"#d8576b\"],[0.6666666666666666,\"#ed7953\"],[0.7777777777777778,\"#fb9f3a\"],[0.8888888888888888,\"#fdca26\"],[1.0,\"#f0f921\"]],\"diverging\":[[0,\"#8e0152\"],[0.1,\"#c51b7d\"],[0.2,\"#de77ae\"],[0.3,\"#f1b6da\"],[0.4,\"#fde0ef\"],[0.5,\"#f7f7f7\"],[0.6,\"#e6f5d0\"],[0.7,\"#b8e186\"],[0.8,\"#7fbc41\"],[0.9,\"#4d9221\"],[1,\"#276419\"]]},\"xaxis\":{\"gridcolor\":\"white\",\"linecolor\":\"white\",\"ticks\":\"\",\"title\":{\"standoff\":15},\"zerolinecolor\":\"white\",\"automargin\":true,\"zerolinewidth\":2},\"yaxis\":{\"gridcolor\":\"white\",\"linecolor\":\"white\",\"ticks\":\"\",\"title\":{\"standoff\":15},\"zerolinecolor\":\"white\",\"automargin\":true,\"zerolinewidth\":2},\"scene\":{\"xaxis\":{\"backgroundcolor\":\"#E5ECF6\",\"gridcolor\":\"white\",\"linecolor\":\"white\",\"showbackground\":true,\"ticks\":\"\",\"zerolinecolor\":\"white\",\"gridwidth\":2},\"yaxis\":{\"backgroundcolor\":\"#E5ECF6\",\"gridcolor\":\"white\",\"linecolor\":\"white\",\"showbackground\":true,\"ticks\":\"\",\"zerolinecolor\":\"white\",\"gridwidth\":2},\"zaxis\":{\"backgroundcolor\":\"#E5ECF6\",\"gridcolor\":\"white\",\"linecolor\":\"white\",\"showbackground\":true,\"ticks\":\"\",\"zerolinecolor\":\"white\",\"gridwidth\":2}},\"shapedefaults\":{\"line\":{\"color\":\"#2a3f5f\"}},\"annotationdefaults\":{\"arrowcolor\":\"#2a3f5f\",\"arrowhead\":0,\"arrowwidth\":1},\"geo\":{\"bgcolor\":\"white\",\"landcolor\":\"#E5ECF6\",\"subunitcolor\":\"white\",\"showland\":true,\"showlakes\":true,\"lakecolor\":\"white\"},\"title\":{\"x\":0.05},\"mapbox\":{\"style\":\"light\"}}},\"xaxis\":{\"anchor\":\"y\",\"domain\":[0.0,1.0],\"title\":{\"text\":\"x\"}},\"yaxis\":{\"anchor\":\"x\",\"domain\":[0.0,1.0],\"title\":{\"text\":\"y\"}},\"legend\":{\"tracegroupgap\":0},\"title\":{\"text\":\"100 Most common categories of Invoice\"},\"barmode\":\"relative\"},                        {\"responsive\": true}                    ).then(function(){\n",
              "                            \n",
              "var gd = document.getElementById('12986edf-bb03-4c65-9d5c-be4868060dab');\n",
              "var x = new MutationObserver(function (mutations, observer) {{\n",
              "        var display = window.getComputedStyle(gd).display;\n",
              "        if (!display || display === 'none') {{\n",
              "            console.log([gd, 'removed!']);\n",
              "            Plotly.purge(gd);\n",
              "            observer.disconnect();\n",
              "        }}\n",
              "}});\n",
              "\n",
              "// Listen for the removal of the full notebook cells\n",
              "var notebookContainer = gd.closest('#notebook-container');\n",
              "if (notebookContainer) {{\n",
              "    x.observe(notebookContainer, {childList: true});\n",
              "}}\n",
              "\n",
              "// Listen for the clearing of the current output cell\n",
              "var outputEl = gd.closest('.output');\n",
              "if (outputEl) {{\n",
              "    x.observe(outputEl, {childList: true});\n",
              "}}\n",
              "\n",
              "                        })                };                            </script>        </div>\n",
              "</body>\n",
              "</html>"
            ]
          },
          "metadata": {}
        },
        {
          "output_type": "display_data",
          "data": {
            "text/plain": [
              "<IPython.core.display.Markdown object>"
            ],
            "text/markdown": "## StockCode Profile"
          },
          "metadata": {}
        },
        {
          "output_type": "display_data",
          "data": {
            "text/plain": [
              "Type                           category\n",
              "Number of observations           525461\n",
              "Unique                             4632\n",
              "Top                              85123A\n",
              "Freq                               3516\n",
              "                                       \n",
              "Missing cells                         0\n",
              "Missing cells (%)                 0.0 %\n",
              "Duplicate rows                   525026\n",
              "Duplicate rows (%)              99.92 %\n",
              "Total size in memory      1220242 bytes\n",
              "dtype: object"
            ]
          },
          "metadata": {}
        },
        {
          "output_type": "display_data",
          "data": {
            "text/html": [
              "<html>\n",
              "<head><meta charset=\"utf-8\" /></head>\n",
              "<body>\n",
              "    <div>            <script src=\"https://cdnjs.cloudflare.com/ajax/libs/mathjax/2.7.5/MathJax.js?config=TeX-AMS-MML_SVG\"></script><script type=\"text/javascript\">if (window.MathJax && window.MathJax.Hub && window.MathJax.Hub.Config) {window.MathJax.Hub.Config({SVG: {font: \"STIX-Web\"}});}</script>                <script type=\"text/javascript\">window.PlotlyConfig = {MathJaxConfig: 'local'};</script>\n",
              "        <script src=\"https://cdn.plot.ly/plotly-2.14.0.min.js\"></script>                <div id=\"5db01940-d0a1-430e-ace8-aac6852bc610\" class=\"plotly-graph-div\" style=\"height:525px; width:100%;\"></div>            <script type=\"text/javascript\">                                    window.PLOTLYENV=window.PLOTLYENV || {};                                    if (document.getElementById(\"5db01940-d0a1-430e-ace8-aac6852bc610\")) {                    Plotly.newPlot(                        \"5db01940-d0a1-430e-ace8-aac6852bc610\",                        [{\"alignmentgroup\":\"True\",\"hovertemplate\":\"x=%{x}<br>y=%{y}<extra></extra>\",\"legendgroup\":\"\",\"marker\":{\"color\":\"#636efa\",\"pattern\":{\"shape\":\"\"}},\"name\":\"\",\"offsetgroup\":\"\",\"orientation\":\"v\",\"showlegend\":false,\"textposition\":\"auto\",\"x\":[\"85123A\",\"22423\",\"85099B\",\"21212\",\"21232\",\"20725\",\"84879\",\"84991\",\"21754\",\"20914\",\"21034\",\"21931\",\"21080\",\"22139\",\"21977\",\"22383\",\"22138\",\"20727\",\"82494L\",\"22470\",\"21843\",\"21755\",\"21733\",\"21231\",\"22386\",\"22411\",\"22384\",\"48138\",\"22469\",\"20685\",\"85099F\",\"22197\",\"20724\",\"22382\",\"22114\",\"22111\",\"21790\",\"47566\",\"21181\",\"22086\",\"85099C\",\"20726\",\"20728\",\"82482\",\"84946\",\"22112\",\"84836\",\"22090\",\"84970S\",\"22149\",\"84992\",\"22355\",\"21175\",\"22356\",\"21213\",\"22077\",\"22457\",\"22379\",\"POST\",\"22178\",\"M\",\"21621\",\"22083\",\"21485\",\"21535\",\"20972\",\"85152\",\"84029E\",\"21527\",\"22189\",\"21929\",\"22585\",\"48194\",\"21928\",\"20719\",\"21791\",\"21429\",\"82486\",\"82580\",\"21166\",\"21731\",\"84978\",\"22147\",\"21975\",\"21210\",\"47591D\",\"DOT\",\"22910\",\"22326\",\"48187\",\"21559\",\"22551\",\"20713\",\"20723\",\"21524\",\"22865\",\"22556\",\"82600\",\"84755\",\"84997B\"],\"xaxis\":\"x\",\"y\":[3516,2221,2057,1933,1843,1620,1458,1400,1386,1276,1232,1220,1209,1203,1196,1192,1180,1179,1165,1154,1149,1142,1130,1098,1096,1095,1093,1089,1086,1079,1074,1073,1070,1059,1051,1048,1044,1041,1038,1007,992,989,988,987,958,958,947,940,931,924,922,920,904,881,873,872,872,869,865,862,850,849,847,846,842,840,835,827,823,816,796,796,794,789,783,778,774,757,756,756,754,751,750,745,740,738,736,714,713,713,706,702,701,701,701,699,698,694,690,689],\"yaxis\":\"y\",\"type\":\"bar\"}],                        {\"template\":{\"data\":{\"histogram2dcontour\":[{\"type\":\"histogram2dcontour\",\"colorbar\":{\"outlinewidth\":0,\"ticks\":\"\"},\"colorscale\":[[0.0,\"#0d0887\"],[0.1111111111111111,\"#46039f\"],[0.2222222222222222,\"#7201a8\"],[0.3333333333333333,\"#9c179e\"],[0.4444444444444444,\"#bd3786\"],[0.5555555555555556,\"#d8576b\"],[0.6666666666666666,\"#ed7953\"],[0.7777777777777778,\"#fb9f3a\"],[0.8888888888888888,\"#fdca26\"],[1.0,\"#f0f921\"]]}],\"choropleth\":[{\"type\":\"choropleth\",\"colorbar\":{\"outlinewidth\":0,\"ticks\":\"\"}}],\"histogram2d\":[{\"type\":\"histogram2d\",\"colorbar\":{\"outlinewidth\":0,\"ticks\":\"\"},\"colorscale\":[[0.0,\"#0d0887\"],[0.1111111111111111,\"#46039f\"],[0.2222222222222222,\"#7201a8\"],[0.3333333333333333,\"#9c179e\"],[0.4444444444444444,\"#bd3786\"],[0.5555555555555556,\"#d8576b\"],[0.6666666666666666,\"#ed7953\"],[0.7777777777777778,\"#fb9f3a\"],[0.8888888888888888,\"#fdca26\"],[1.0,\"#f0f921\"]]}],\"heatmap\":[{\"type\":\"heatmap\",\"colorbar\":{\"outlinewidth\":0,\"ticks\":\"\"},\"colorscale\":[[0.0,\"#0d0887\"],[0.1111111111111111,\"#46039f\"],[0.2222222222222222,\"#7201a8\"],[0.3333333333333333,\"#9c179e\"],[0.4444444444444444,\"#bd3786\"],[0.5555555555555556,\"#d8576b\"],[0.6666666666666666,\"#ed7953\"],[0.7777777777777778,\"#fb9f3a\"],[0.8888888888888888,\"#fdca26\"],[1.0,\"#f0f921\"]]}],\"heatmapgl\":[{\"type\":\"heatmapgl\",\"colorbar\":{\"outlinewidth\":0,\"ticks\":\"\"},\"colorscale\":[[0.0,\"#0d0887\"],[0.1111111111111111,\"#46039f\"],[0.2222222222222222,\"#7201a8\"],[0.3333333333333333,\"#9c179e\"],[0.4444444444444444,\"#bd3786\"],[0.5555555555555556,\"#d8576b\"],[0.6666666666666666,\"#ed7953\"],[0.7777777777777778,\"#fb9f3a\"],[0.8888888888888888,\"#fdca26\"],[1.0,\"#f0f921\"]]}],\"contourcarpet\":[{\"type\":\"contourcarpet\",\"colorbar\":{\"outlinewidth\":0,\"ticks\":\"\"}}],\"contour\":[{\"type\":\"contour\",\"colorbar\":{\"outlinewidth\":0,\"ticks\":\"\"},\"colorscale\":[[0.0,\"#0d0887\"],[0.1111111111111111,\"#46039f\"],[0.2222222222222222,\"#7201a8\"],[0.3333333333333333,\"#9c179e\"],[0.4444444444444444,\"#bd3786\"],[0.5555555555555556,\"#d8576b\"],[0.6666666666666666,\"#ed7953\"],[0.7777777777777778,\"#fb9f3a\"],[0.8888888888888888,\"#fdca26\"],[1.0,\"#f0f921\"]]}],\"surface\":[{\"type\":\"surface\",\"colorbar\":{\"outlinewidth\":0,\"ticks\":\"\"},\"colorscale\":[[0.0,\"#0d0887\"],[0.1111111111111111,\"#46039f\"],[0.2222222222222222,\"#7201a8\"],[0.3333333333333333,\"#9c179e\"],[0.4444444444444444,\"#bd3786\"],[0.5555555555555556,\"#d8576b\"],[0.6666666666666666,\"#ed7953\"],[0.7777777777777778,\"#fb9f3a\"],[0.8888888888888888,\"#fdca26\"],[1.0,\"#f0f921\"]]}],\"mesh3d\":[{\"type\":\"mesh3d\",\"colorbar\":{\"outlinewidth\":0,\"ticks\":\"\"}}],\"scatter\":[{\"fillpattern\":{\"fillmode\":\"overlay\",\"size\":10,\"solidity\":0.2},\"type\":\"scatter\"}],\"parcoords\":[{\"type\":\"parcoords\",\"line\":{\"colorbar\":{\"outlinewidth\":0,\"ticks\":\"\"}}}],\"scatterpolargl\":[{\"type\":\"scatterpolargl\",\"marker\":{\"colorbar\":{\"outlinewidth\":0,\"ticks\":\"\"}}}],\"bar\":[{\"error_x\":{\"color\":\"#2a3f5f\"},\"error_y\":{\"color\":\"#2a3f5f\"},\"marker\":{\"line\":{\"color\":\"#E5ECF6\",\"width\":0.5},\"pattern\":{\"fillmode\":\"overlay\",\"size\":10,\"solidity\":0.2}},\"type\":\"bar\"}],\"scattergeo\":[{\"type\":\"scattergeo\",\"marker\":{\"colorbar\":{\"outlinewidth\":0,\"ticks\":\"\"}}}],\"scatterpolar\":[{\"type\":\"scatterpolar\",\"marker\":{\"colorbar\":{\"outlinewidth\":0,\"ticks\":\"\"}}}],\"histogram\":[{\"marker\":{\"pattern\":{\"fillmode\":\"overlay\",\"size\":10,\"solidity\":0.2}},\"type\":\"histogram\"}],\"scattergl\":[{\"type\":\"scattergl\",\"marker\":{\"colorbar\":{\"outlinewidth\":0,\"ticks\":\"\"}}}],\"scatter3d\":[{\"type\":\"scatter3d\",\"line\":{\"colorbar\":{\"outlinewidth\":0,\"ticks\":\"\"}},\"marker\":{\"colorbar\":{\"outlinewidth\":0,\"ticks\":\"\"}}}],\"scattermapbox\":[{\"type\":\"scattermapbox\",\"marker\":{\"colorbar\":{\"outlinewidth\":0,\"ticks\":\"\"}}}],\"scatterternary\":[{\"type\":\"scatterternary\",\"marker\":{\"colorbar\":{\"outlinewidth\":0,\"ticks\":\"\"}}}],\"scattercarpet\":[{\"type\":\"scattercarpet\",\"marker\":{\"colorbar\":{\"outlinewidth\":0,\"ticks\":\"\"}}}],\"carpet\":[{\"aaxis\":{\"endlinecolor\":\"#2a3f5f\",\"gridcolor\":\"white\",\"linecolor\":\"white\",\"minorgridcolor\":\"white\",\"startlinecolor\":\"#2a3f5f\"},\"baxis\":{\"endlinecolor\":\"#2a3f5f\",\"gridcolor\":\"white\",\"linecolor\":\"white\",\"minorgridcolor\":\"white\",\"startlinecolor\":\"#2a3f5f\"},\"type\":\"carpet\"}],\"table\":[{\"cells\":{\"fill\":{\"color\":\"#EBF0F8\"},\"line\":{\"color\":\"white\"}},\"header\":{\"fill\":{\"color\":\"#C8D4E3\"},\"line\":{\"color\":\"white\"}},\"type\":\"table\"}],\"barpolar\":[{\"marker\":{\"line\":{\"color\":\"#E5ECF6\",\"width\":0.5},\"pattern\":{\"fillmode\":\"overlay\",\"size\":10,\"solidity\":0.2}},\"type\":\"barpolar\"}],\"pie\":[{\"automargin\":true,\"type\":\"pie\"}]},\"layout\":{\"autotypenumbers\":\"strict\",\"colorway\":[\"#636efa\",\"#EF553B\",\"#00cc96\",\"#ab63fa\",\"#FFA15A\",\"#19d3f3\",\"#FF6692\",\"#B6E880\",\"#FF97FF\",\"#FECB52\"],\"font\":{\"color\":\"#2a3f5f\"},\"hovermode\":\"closest\",\"hoverlabel\":{\"align\":\"left\"},\"paper_bgcolor\":\"white\",\"plot_bgcolor\":\"#E5ECF6\",\"polar\":{\"bgcolor\":\"#E5ECF6\",\"angularaxis\":{\"gridcolor\":\"white\",\"linecolor\":\"white\",\"ticks\":\"\"},\"radialaxis\":{\"gridcolor\":\"white\",\"linecolor\":\"white\",\"ticks\":\"\"}},\"ternary\":{\"bgcolor\":\"#E5ECF6\",\"aaxis\":{\"gridcolor\":\"white\",\"linecolor\":\"white\",\"ticks\":\"\"},\"baxis\":{\"gridcolor\":\"white\",\"linecolor\":\"white\",\"ticks\":\"\"},\"caxis\":{\"gridcolor\":\"white\",\"linecolor\":\"white\",\"ticks\":\"\"}},\"coloraxis\":{\"colorbar\":{\"outlinewidth\":0,\"ticks\":\"\"}},\"colorscale\":{\"sequential\":[[0.0,\"#0d0887\"],[0.1111111111111111,\"#46039f\"],[0.2222222222222222,\"#7201a8\"],[0.3333333333333333,\"#9c179e\"],[0.4444444444444444,\"#bd3786\"],[0.5555555555555556,\"#d8576b\"],[0.6666666666666666,\"#ed7953\"],[0.7777777777777778,\"#fb9f3a\"],[0.8888888888888888,\"#fdca26\"],[1.0,\"#f0f921\"]],\"sequentialminus\":[[0.0,\"#0d0887\"],[0.1111111111111111,\"#46039f\"],[0.2222222222222222,\"#7201a8\"],[0.3333333333333333,\"#9c179e\"],[0.4444444444444444,\"#bd3786\"],[0.5555555555555556,\"#d8576b\"],[0.6666666666666666,\"#ed7953\"],[0.7777777777777778,\"#fb9f3a\"],[0.8888888888888888,\"#fdca26\"],[1.0,\"#f0f921\"]],\"diverging\":[[0,\"#8e0152\"],[0.1,\"#c51b7d\"],[0.2,\"#de77ae\"],[0.3,\"#f1b6da\"],[0.4,\"#fde0ef\"],[0.5,\"#f7f7f7\"],[0.6,\"#e6f5d0\"],[0.7,\"#b8e186\"],[0.8,\"#7fbc41\"],[0.9,\"#4d9221\"],[1,\"#276419\"]]},\"xaxis\":{\"gridcolor\":\"white\",\"linecolor\":\"white\",\"ticks\":\"\",\"title\":{\"standoff\":15},\"zerolinecolor\":\"white\",\"automargin\":true,\"zerolinewidth\":2},\"yaxis\":{\"gridcolor\":\"white\",\"linecolor\":\"white\",\"ticks\":\"\",\"title\":{\"standoff\":15},\"zerolinecolor\":\"white\",\"automargin\":true,\"zerolinewidth\":2},\"scene\":{\"xaxis\":{\"backgroundcolor\":\"#E5ECF6\",\"gridcolor\":\"white\",\"linecolor\":\"white\",\"showbackground\":true,\"ticks\":\"\",\"zerolinecolor\":\"white\",\"gridwidth\":2},\"yaxis\":{\"backgroundcolor\":\"#E5ECF6\",\"gridcolor\":\"white\",\"linecolor\":\"white\",\"showbackground\":true,\"ticks\":\"\",\"zerolinecolor\":\"white\",\"gridwidth\":2},\"zaxis\":{\"backgroundcolor\":\"#E5ECF6\",\"gridcolor\":\"white\",\"linecolor\":\"white\",\"showbackground\":true,\"ticks\":\"\",\"zerolinecolor\":\"white\",\"gridwidth\":2}},\"shapedefaults\":{\"line\":{\"color\":\"#2a3f5f\"}},\"annotationdefaults\":{\"arrowcolor\":\"#2a3f5f\",\"arrowhead\":0,\"arrowwidth\":1},\"geo\":{\"bgcolor\":\"white\",\"landcolor\":\"#E5ECF6\",\"subunitcolor\":\"white\",\"showland\":true,\"showlakes\":true,\"lakecolor\":\"white\"},\"title\":{\"x\":0.05},\"mapbox\":{\"style\":\"light\"}}},\"xaxis\":{\"anchor\":\"y\",\"domain\":[0.0,1.0],\"title\":{\"text\":\"x\"}},\"yaxis\":{\"anchor\":\"x\",\"domain\":[0.0,1.0],\"title\":{\"text\":\"y\"}},\"legend\":{\"tracegroupgap\":0},\"title\":{\"text\":\"100 Most common categories of StockCode\"},\"barmode\":\"relative\"},                        {\"responsive\": true}                    ).then(function(){\n",
              "                            \n",
              "var gd = document.getElementById('5db01940-d0a1-430e-ace8-aac6852bc610');\n",
              "var x = new MutationObserver(function (mutations, observer) {{\n",
              "        var display = window.getComputedStyle(gd).display;\n",
              "        if (!display || display === 'none') {{\n",
              "            console.log([gd, 'removed!']);\n",
              "            Plotly.purge(gd);\n",
              "            observer.disconnect();\n",
              "        }}\n",
              "}});\n",
              "\n",
              "// Listen for the removal of the full notebook cells\n",
              "var notebookContainer = gd.closest('#notebook-container');\n",
              "if (notebookContainer) {{\n",
              "    x.observe(notebookContainer, {childList: true});\n",
              "}}\n",
              "\n",
              "// Listen for the clearing of the current output cell\n",
              "var outputEl = gd.closest('.output');\n",
              "if (outputEl) {{\n",
              "    x.observe(outputEl, {childList: true});\n",
              "}}\n",
              "\n",
              "                        })                };                            </script>        </div>\n",
              "</body>\n",
              "</html>"
            ]
          },
          "metadata": {}
        },
        {
          "output_type": "display_data",
          "data": {
            "text/plain": [
              "<IPython.core.display.Markdown object>"
            ],
            "text/markdown": "## Description Profile"
          },
          "metadata": {}
        },
        {
          "output_type": "display_data",
          "data": {
            "text/plain": [
              "Type                                                  object\n",
              "Number of observations                                525461\n",
              "Unique                                                  4682\n",
              "Top                       WHITE HANGING HEART T-LIGHT HOLDER\n",
              "Freq                                                    3549\n",
              "                                                            \n",
              "Missing cells                                              0\n",
              "Missing cells (%)                                      0.0 %\n",
              "Duplicate rows                                        525198\n",
              "Duplicate rows (%)                                   99.95 %\n",
              "Total size in memory                           4203816 bytes\n",
              "dtype: object"
            ]
          },
          "metadata": {}
        },
        {
          "output_type": "display_data",
          "data": {
            "text/html": [
              "<html>\n",
              "<head><meta charset=\"utf-8\" /></head>\n",
              "<body>\n",
              "    <div>            <script src=\"https://cdnjs.cloudflare.com/ajax/libs/mathjax/2.7.5/MathJax.js?config=TeX-AMS-MML_SVG\"></script><script type=\"text/javascript\">if (window.MathJax && window.MathJax.Hub && window.MathJax.Hub.Config) {window.MathJax.Hub.Config({SVG: {font: \"STIX-Web\"}});}</script>                <script type=\"text/javascript\">window.PlotlyConfig = {MathJaxConfig: 'local'};</script>\n",
              "        <script src=\"https://cdn.plot.ly/plotly-2.14.0.min.js\"></script>                <div id=\"195be26f-6c00-478a-83c6-470ccf0bb963\" class=\"plotly-graph-div\" style=\"height:525px; width:100%;\"></div>            <script type=\"text/javascript\">                                    window.PLOTLYENV=window.PLOTLYENV || {};                                    if (document.getElementById(\"195be26f-6c00-478a-83c6-470ccf0bb963\")) {                    Plotly.newPlot(                        \"195be26f-6c00-478a-83c6-470ccf0bb963\",                        [{\"alignmentgroup\":\"True\",\"hovertemplate\":\"x=%{x}<br>y=%{y}<extra></extra>\",\"legendgroup\":\"\",\"marker\":{\"color\":\"#636efa\",\"pattern\":{\"shape\":\"\"}},\"name\":\"\",\"offsetgroup\":\"\",\"orientation\":\"v\",\"showlegend\":false,\"textposition\":\"auto\",\"x\":[\"WHITE HANGING HEART T-LIGHT HOLDER\",\"nan\",\"REGENCY CAKESTAND 3 TIER\",\"STRAWBERRY CERAMIC TRINKET BOX\",\"PACK OF 72 RETRO SPOT CAKE CASES\",\"ASSORTED COLOUR BIRD ORNAMENT\",\"60 TEATIME FAIRY CAKE CASES\",\"HOME BUILDING BLOCK WORD\",\"JUMBO BAG RED RETROSPOT\",\"LUNCH BAG RED SPOTTY\",\"REX CASH+CARRY JUMBO SHOPPER\",\"JUMBO STORAGE BAG SUKI\",\"PACK OF 60 PINK PAISLEY CAKE CASES\",\"WOODEN FRAME ANTIQUE WHITE \",\"LUNCH BAG  BLACK SKULL.\",\"BAKING SET 9 PIECE RETROSPOT \",\"LUNCH BAG SUKI  DESIGN \",\"HEART OF WICKER LARGE\",\"LOVE BUILDING BLOCK WORD\",\"RED HANGING HEART T-LIGHT HOLDER\",\"SWEETHEART CERAMIC TRINKET BOX\",\"JUMBO SHOPPER VINTAGE RED PAISLEY\",\"JUMBO BAG STRAWBERRY\",\"HEART OF WICKER SMALL\",\"HOT WATER BOTTLE TEA AND SYMPATHY\",\"SCOTTIE DOG HOT WATER BOTTLE\",\"VINTAGE SNAP CARDS\",\"PARTY BUNTING\",\"LUNCH BAG SPACEBOY DESIGN \",\"PAPER CHAIN KIT 50'S CHRISTMAS \",\"JUMBO  BAG BAROQUE BLACK WHITE\",\"LUNCH BAG WOODLAND\",\"LUNCH BAG CARS BLUE\",\"WOODEN PICTURE FRAME WHITE FINISH\",\"HANGING HEART ZINC T-LIGHT HOLDER\",\"SET/20 RED SPOTTY PAPER NAPKINS \",\"ANTIQUE SILVER TEA GLASS ETCHED\",\"CHOCOLATE HOT WATER BOTTLE\",\"SET/5 RED SPOTTY LID GLASS BOWLS\",\"SMALL POPCORN HOLDER\",\"ZINC METAL HEART DECORATION\",\"FELTCRAFT 6 FLOWER FRIENDS\",\"72 SWEETHEART FAIRY CAKE CASES\",\"GIN + TONIC DIET METAL SIGN\",\"PACK OF 72 SKULL CAKE CASES\",\"NATURAL SLATE HEART CHALKBOARD \",\"6 RIBBONS RUSTIC CHARM\",\"RECYCLING BAG RETROSPOT \",\"POSTAGE\",\"VICTORIAN GLASS HANGING T-LIGHT\",\"LUNCH BAG PINK RETROSPOT\",\"PLEASE ONE PERSON METAL SIGN\",\"Manual\",\"VINTAGE UNION JACK BUNTING\",\"PINK CREAM FELT CRAFT TRINKET BOX \",\"HAND OVER THE CHOCOLATE   SIGN \",\"JUMBO BAG PINK WITH WHITE SPOTS\",\"RED WOOLLY HOTTIE WHITE HEART.\",\"CREAM HEART CARD HOLDER\",\"RETRO SPOT TEA SET CERAMIC 11 PC \",\"RED SPOTTY CHARLOTTE BAG\",\"PAPER BUNTING RETRO SPOTS\",\"PACK OF 6 BIRDY GIFT TAGS\",\"JUMBO BAG PINK VINTAGE PAISLEY\",\"JUMBO BAG SCANDINAVIAN PAISLEY\",\"WOODLAND CHARLOTTE BAG\",\"VINTAGE HEADS AND TAILS CARD GAME \",\"RED GINGHAM ROSE JEWELLERY BOX\",\"WOOD S/3 CABINET ANT WHITE FINISH\",\"RED RETROSPOT CAKE STAND\",\"BATHROOM METAL SIGN\",\"COOK WITH WINE METAL SIGN \",\"RED TOADSTOOL LED NIGHT LIGHT\",\"FELTCRAFT BUTTERFLY HEARTS\",\"HANGING HEART JAR T-LIGHT HOLDER\",\"PACK OF 60 DINOSAUR CAKE CASES\",\"DOTCOM POSTAGE\",\"PAPER CHAIN KIT VINTAGE CHRISTMAS\",\"ROUND SNACK BOXES SET OF4 WOODLAND \",\"PLASTERS IN TIN SPACEBOY\",\"STRAWBERRY CHARLOTTE BAG\",\"HAND WARMER OWL DESIGN\",\"JUMBO BAG OWLS\",\"PLASTERS IN TIN CIRCUS PARADE \",\"NO SINGING METAL SIGN\",\"COLOUR GLASS T-LIGHT HOLDER HANGING\",\"PACK 20 ENGLISH ROSE PAPER NAPKINS\",\"DOOR MAT UNION FLAG\",\"PINK BLUE FELT CRAFT TRINKET BOX\",\"SINGLE HEART ZINC T-LIGHT HOLDER\",\"LADIES & GENTLEMEN METAL SIGN\",\"WOOD 2 DRAWER CABINET WHITE FINISH\",\"HAND WARMER SCOTTY DOG DESIGN\",\"GRAND CHOCOLATECANDLE\",\"JUMBO STORAGE BAG SKULLS\",\"KNITTED UNION FLAG HOT WATER BOTTLE\",\"EDWARDIAN PARASOL NATURAL\",\"HEART IVORY TRELLIS SMALL\",\"LOVEBIRD HANGING DECORATION WHITE \",\"HAND WARMER BIRD DESIGN\"],\"xaxis\":\"x\",\"y\":[3549,2928,2212,1843,1466,1457,1400,1386,1310,1274,1232,1220,1196,1190,1179,1176,1157,1151,1142,1129,1096,1095,1091,1082,1050,1048,1044,1038,1014,1005,1002,989,987,986,968,967,958,958,952,951,947,924,922,903,873,871,870,869,862,862,856,855,854,849,840,834,829,827,814,813,808,802,796,794,786,783,778,773,757,756,756,753,753,750,750,745,735,710,708,702,701,699,699,698,694,690,684,683,681,679,678,676,672,667,655,649,647,646,645,644],\"yaxis\":\"y\",\"type\":\"bar\"}],                        {\"template\":{\"data\":{\"histogram2dcontour\":[{\"type\":\"histogram2dcontour\",\"colorbar\":{\"outlinewidth\":0,\"ticks\":\"\"},\"colorscale\":[[0.0,\"#0d0887\"],[0.1111111111111111,\"#46039f\"],[0.2222222222222222,\"#7201a8\"],[0.3333333333333333,\"#9c179e\"],[0.4444444444444444,\"#bd3786\"],[0.5555555555555556,\"#d8576b\"],[0.6666666666666666,\"#ed7953\"],[0.7777777777777778,\"#fb9f3a\"],[0.8888888888888888,\"#fdca26\"],[1.0,\"#f0f921\"]]}],\"choropleth\":[{\"type\":\"choropleth\",\"colorbar\":{\"outlinewidth\":0,\"ticks\":\"\"}}],\"histogram2d\":[{\"type\":\"histogram2d\",\"colorbar\":{\"outlinewidth\":0,\"ticks\":\"\"},\"colorscale\":[[0.0,\"#0d0887\"],[0.1111111111111111,\"#46039f\"],[0.2222222222222222,\"#7201a8\"],[0.3333333333333333,\"#9c179e\"],[0.4444444444444444,\"#bd3786\"],[0.5555555555555556,\"#d8576b\"],[0.6666666666666666,\"#ed7953\"],[0.7777777777777778,\"#fb9f3a\"],[0.8888888888888888,\"#fdca26\"],[1.0,\"#f0f921\"]]}],\"heatmap\":[{\"type\":\"heatmap\",\"colorbar\":{\"outlinewidth\":0,\"ticks\":\"\"},\"colorscale\":[[0.0,\"#0d0887\"],[0.1111111111111111,\"#46039f\"],[0.2222222222222222,\"#7201a8\"],[0.3333333333333333,\"#9c179e\"],[0.4444444444444444,\"#bd3786\"],[0.5555555555555556,\"#d8576b\"],[0.6666666666666666,\"#ed7953\"],[0.7777777777777778,\"#fb9f3a\"],[0.8888888888888888,\"#fdca26\"],[1.0,\"#f0f921\"]]}],\"heatmapgl\":[{\"type\":\"heatmapgl\",\"colorbar\":{\"outlinewidth\":0,\"ticks\":\"\"},\"colorscale\":[[0.0,\"#0d0887\"],[0.1111111111111111,\"#46039f\"],[0.2222222222222222,\"#7201a8\"],[0.3333333333333333,\"#9c179e\"],[0.4444444444444444,\"#bd3786\"],[0.5555555555555556,\"#d8576b\"],[0.6666666666666666,\"#ed7953\"],[0.7777777777777778,\"#fb9f3a\"],[0.8888888888888888,\"#fdca26\"],[1.0,\"#f0f921\"]]}],\"contourcarpet\":[{\"type\":\"contourcarpet\",\"colorbar\":{\"outlinewidth\":0,\"ticks\":\"\"}}],\"contour\":[{\"type\":\"contour\",\"colorbar\":{\"outlinewidth\":0,\"ticks\":\"\"},\"colorscale\":[[0.0,\"#0d0887\"],[0.1111111111111111,\"#46039f\"],[0.2222222222222222,\"#7201a8\"],[0.3333333333333333,\"#9c179e\"],[0.4444444444444444,\"#bd3786\"],[0.5555555555555556,\"#d8576b\"],[0.6666666666666666,\"#ed7953\"],[0.7777777777777778,\"#fb9f3a\"],[0.8888888888888888,\"#fdca26\"],[1.0,\"#f0f921\"]]}],\"surface\":[{\"type\":\"surface\",\"colorbar\":{\"outlinewidth\":0,\"ticks\":\"\"},\"colorscale\":[[0.0,\"#0d0887\"],[0.1111111111111111,\"#46039f\"],[0.2222222222222222,\"#7201a8\"],[0.3333333333333333,\"#9c179e\"],[0.4444444444444444,\"#bd3786\"],[0.5555555555555556,\"#d8576b\"],[0.6666666666666666,\"#ed7953\"],[0.7777777777777778,\"#fb9f3a\"],[0.8888888888888888,\"#fdca26\"],[1.0,\"#f0f921\"]]}],\"mesh3d\":[{\"type\":\"mesh3d\",\"colorbar\":{\"outlinewidth\":0,\"ticks\":\"\"}}],\"scatter\":[{\"fillpattern\":{\"fillmode\":\"overlay\",\"size\":10,\"solidity\":0.2},\"type\":\"scatter\"}],\"parcoords\":[{\"type\":\"parcoords\",\"line\":{\"colorbar\":{\"outlinewidth\":0,\"ticks\":\"\"}}}],\"scatterpolargl\":[{\"type\":\"scatterpolargl\",\"marker\":{\"colorbar\":{\"outlinewidth\":0,\"ticks\":\"\"}}}],\"bar\":[{\"error_x\":{\"color\":\"#2a3f5f\"},\"error_y\":{\"color\":\"#2a3f5f\"},\"marker\":{\"line\":{\"color\":\"#E5ECF6\",\"width\":0.5},\"pattern\":{\"fillmode\":\"overlay\",\"size\":10,\"solidity\":0.2}},\"type\":\"bar\"}],\"scattergeo\":[{\"type\":\"scattergeo\",\"marker\":{\"colorbar\":{\"outlinewidth\":0,\"ticks\":\"\"}}}],\"scatterpolar\":[{\"type\":\"scatterpolar\",\"marker\":{\"colorbar\":{\"outlinewidth\":0,\"ticks\":\"\"}}}],\"histogram\":[{\"marker\":{\"pattern\":{\"fillmode\":\"overlay\",\"size\":10,\"solidity\":0.2}},\"type\":\"histogram\"}],\"scattergl\":[{\"type\":\"scattergl\",\"marker\":{\"colorbar\":{\"outlinewidth\":0,\"ticks\":\"\"}}}],\"scatter3d\":[{\"type\":\"scatter3d\",\"line\":{\"colorbar\":{\"outlinewidth\":0,\"ticks\":\"\"}},\"marker\":{\"colorbar\":{\"outlinewidth\":0,\"ticks\":\"\"}}}],\"scattermapbox\":[{\"type\":\"scattermapbox\",\"marker\":{\"colorbar\":{\"outlinewidth\":0,\"ticks\":\"\"}}}],\"scatterternary\":[{\"type\":\"scatterternary\",\"marker\":{\"colorbar\":{\"outlinewidth\":0,\"ticks\":\"\"}}}],\"scattercarpet\":[{\"type\":\"scattercarpet\",\"marker\":{\"colorbar\":{\"outlinewidth\":0,\"ticks\":\"\"}}}],\"carpet\":[{\"aaxis\":{\"endlinecolor\":\"#2a3f5f\",\"gridcolor\":\"white\",\"linecolor\":\"white\",\"minorgridcolor\":\"white\",\"startlinecolor\":\"#2a3f5f\"},\"baxis\":{\"endlinecolor\":\"#2a3f5f\",\"gridcolor\":\"white\",\"linecolor\":\"white\",\"minorgridcolor\":\"white\",\"startlinecolor\":\"#2a3f5f\"},\"type\":\"carpet\"}],\"table\":[{\"cells\":{\"fill\":{\"color\":\"#EBF0F8\"},\"line\":{\"color\":\"white\"}},\"header\":{\"fill\":{\"color\":\"#C8D4E3\"},\"line\":{\"color\":\"white\"}},\"type\":\"table\"}],\"barpolar\":[{\"marker\":{\"line\":{\"color\":\"#E5ECF6\",\"width\":0.5},\"pattern\":{\"fillmode\":\"overlay\",\"size\":10,\"solidity\":0.2}},\"type\":\"barpolar\"}],\"pie\":[{\"automargin\":true,\"type\":\"pie\"}]},\"layout\":{\"autotypenumbers\":\"strict\",\"colorway\":[\"#636efa\",\"#EF553B\",\"#00cc96\",\"#ab63fa\",\"#FFA15A\",\"#19d3f3\",\"#FF6692\",\"#B6E880\",\"#FF97FF\",\"#FECB52\"],\"font\":{\"color\":\"#2a3f5f\"},\"hovermode\":\"closest\",\"hoverlabel\":{\"align\":\"left\"},\"paper_bgcolor\":\"white\",\"plot_bgcolor\":\"#E5ECF6\",\"polar\":{\"bgcolor\":\"#E5ECF6\",\"angularaxis\":{\"gridcolor\":\"white\",\"linecolor\":\"white\",\"ticks\":\"\"},\"radialaxis\":{\"gridcolor\":\"white\",\"linecolor\":\"white\",\"ticks\":\"\"}},\"ternary\":{\"bgcolor\":\"#E5ECF6\",\"aaxis\":{\"gridcolor\":\"white\",\"linecolor\":\"white\",\"ticks\":\"\"},\"baxis\":{\"gridcolor\":\"white\",\"linecolor\":\"white\",\"ticks\":\"\"},\"caxis\":{\"gridcolor\":\"white\",\"linecolor\":\"white\",\"ticks\":\"\"}},\"coloraxis\":{\"colorbar\":{\"outlinewidth\":0,\"ticks\":\"\"}},\"colorscale\":{\"sequential\":[[0.0,\"#0d0887\"],[0.1111111111111111,\"#46039f\"],[0.2222222222222222,\"#7201a8\"],[0.3333333333333333,\"#9c179e\"],[0.4444444444444444,\"#bd3786\"],[0.5555555555555556,\"#d8576b\"],[0.6666666666666666,\"#ed7953\"],[0.7777777777777778,\"#fb9f3a\"],[0.8888888888888888,\"#fdca26\"],[1.0,\"#f0f921\"]],\"sequentialminus\":[[0.0,\"#0d0887\"],[0.1111111111111111,\"#46039f\"],[0.2222222222222222,\"#7201a8\"],[0.3333333333333333,\"#9c179e\"],[0.4444444444444444,\"#bd3786\"],[0.5555555555555556,\"#d8576b\"],[0.6666666666666666,\"#ed7953\"],[0.7777777777777778,\"#fb9f3a\"],[0.8888888888888888,\"#fdca26\"],[1.0,\"#f0f921\"]],\"diverging\":[[0,\"#8e0152\"],[0.1,\"#c51b7d\"],[0.2,\"#de77ae\"],[0.3,\"#f1b6da\"],[0.4,\"#fde0ef\"],[0.5,\"#f7f7f7\"],[0.6,\"#e6f5d0\"],[0.7,\"#b8e186\"],[0.8,\"#7fbc41\"],[0.9,\"#4d9221\"],[1,\"#276419\"]]},\"xaxis\":{\"gridcolor\":\"white\",\"linecolor\":\"white\",\"ticks\":\"\",\"title\":{\"standoff\":15},\"zerolinecolor\":\"white\",\"automargin\":true,\"zerolinewidth\":2},\"yaxis\":{\"gridcolor\":\"white\",\"linecolor\":\"white\",\"ticks\":\"\",\"title\":{\"standoff\":15},\"zerolinecolor\":\"white\",\"automargin\":true,\"zerolinewidth\":2},\"scene\":{\"xaxis\":{\"backgroundcolor\":\"#E5ECF6\",\"gridcolor\":\"white\",\"linecolor\":\"white\",\"showbackground\":true,\"ticks\":\"\",\"zerolinecolor\":\"white\",\"gridwidth\":2},\"yaxis\":{\"backgroundcolor\":\"#E5ECF6\",\"gridcolor\":\"white\",\"linecolor\":\"white\",\"showbackground\":true,\"ticks\":\"\",\"zerolinecolor\":\"white\",\"gridwidth\":2},\"zaxis\":{\"backgroundcolor\":\"#E5ECF6\",\"gridcolor\":\"white\",\"linecolor\":\"white\",\"showbackground\":true,\"ticks\":\"\",\"zerolinecolor\":\"white\",\"gridwidth\":2}},\"shapedefaults\":{\"line\":{\"color\":\"#2a3f5f\"}},\"annotationdefaults\":{\"arrowcolor\":\"#2a3f5f\",\"arrowhead\":0,\"arrowwidth\":1},\"geo\":{\"bgcolor\":\"white\",\"landcolor\":\"#E5ECF6\",\"subunitcolor\":\"white\",\"showland\":true,\"showlakes\":true,\"lakecolor\":\"white\"},\"title\":{\"x\":0.05},\"mapbox\":{\"style\":\"light\"}}},\"xaxis\":{\"anchor\":\"y\",\"domain\":[0.0,1.0],\"title\":{\"text\":\"x\"}},\"yaxis\":{\"anchor\":\"x\",\"domain\":[0.0,1.0],\"title\":{\"text\":\"y\"}},\"legend\":{\"tracegroupgap\":0},\"title\":{\"text\":\"100 Most common categories of Description\"},\"barmode\":\"relative\"},                        {\"responsive\": true}                    ).then(function(){\n",
              "                            \n",
              "var gd = document.getElementById('195be26f-6c00-478a-83c6-470ccf0bb963');\n",
              "var x = new MutationObserver(function (mutations, observer) {{\n",
              "        var display = window.getComputedStyle(gd).display;\n",
              "        if (!display || display === 'none') {{\n",
              "            console.log([gd, 'removed!']);\n",
              "            Plotly.purge(gd);\n",
              "            observer.disconnect();\n",
              "        }}\n",
              "}});\n",
              "\n",
              "// Listen for the removal of the full notebook cells\n",
              "var notebookContainer = gd.closest('#notebook-container');\n",
              "if (notebookContainer) {{\n",
              "    x.observe(notebookContainer, {childList: true});\n",
              "}}\n",
              "\n",
              "// Listen for the clearing of the current output cell\n",
              "var outputEl = gd.closest('.output');\n",
              "if (outputEl) {{\n",
              "    x.observe(outputEl, {childList: true});\n",
              "}}\n",
              "\n",
              "                        })                };                            </script>        </div>\n",
              "</body>\n",
              "</html>"
            ]
          },
          "metadata": {}
        },
        {
          "output_type": "display_data",
          "data": {
            "text/plain": [
              "<IPython.core.display.Markdown object>"
            ],
            "text/markdown": "## Quantity Profile"
          },
          "metadata": {}
        },
        {
          "output_type": "display_data",
          "data": {
            "text/plain": [
              "Type                              int64\n",
              "Number of observations         525461.0\n",
              "Mean                          10.337667\n",
              "Std                           107.42411\n",
              "Min                             -9600.0\n",
              "25%                                 1.0\n",
              "50%                                 3.0\n",
              "75%                                10.0\n",
              "Max                             19152.0\n",
              "Negative                          12326\n",
              "Negative (%)                     2.35 %\n",
              "Zeros                                 0\n",
              "Zeros (%)                         0.0 %\n",
              "Kurt                        6277.666908\n",
              "Skew                          36.044617\n",
              "                                       \n",
              "Missing cells                         0\n",
              "Missing cells (%)                 0.0 %\n",
              "Duplicate rows                   525122\n",
              "Duplicate rows (%)              99.94 %\n",
              "Total size in memory      4203816 bytes\n",
              "dtype: object"
            ]
          },
          "metadata": {}
        },
        {
          "output_type": "display_data",
          "data": {
            "text/html": [
              "<html>\n",
              "<head><meta charset=\"utf-8\" /></head>\n",
              "<body>\n",
              "    <div>            <script src=\"https://cdnjs.cloudflare.com/ajax/libs/mathjax/2.7.5/MathJax.js?config=TeX-AMS-MML_SVG\"></script><script type=\"text/javascript\">if (window.MathJax && window.MathJax.Hub && window.MathJax.Hub.Config) {window.MathJax.Hub.Config({SVG: {font: \"STIX-Web\"}});}</script>                <script type=\"text/javascript\">window.PlotlyConfig = {MathJaxConfig: 'local'};</script>\n",
              "        <script src=\"https://cdn.plot.ly/plotly-2.14.0.min.js\"></script>                <div id=\"0db7fcb9-c047-40ac-bfb0-a9981538a869\" class=\"plotly-graph-div\" style=\"height:525px; width:100%;\"></div>            <script type=\"text/javascript\">                                    window.PLOTLYENV=window.PLOTLYENV || {};                                    if (document.getElementById(\"0db7fcb9-c047-40ac-bfb0-a9981538a869\")) {                    Plotly.newPlot(                        \"0db7fcb9-c047-40ac-bfb0-a9981538a869\",                        [{\"alignmentgroup\":\"True\",\"bingroup\":\"x\",\"hovertemplate\":\"variable=Quantity<br>value=%{x}<br>count=%{y}<extra></extra>\",\"legendgroup\":\"Quantity\",\"marker\":{\"color\":\"#636efa\",\"pattern\":{\"shape\":\"\"}},\"name\":\"Quantity\",\"offsetgroup\":\"Quantity\",\"orientation\":\"v\",\"showlegend\":true,\"x\":[6,3,48,12,12,-96,1,6,12,16,1,1,96,12,6,1,16,1,12,6,8,1,3,3,2,1,2,25,100,1,7,12,1,25,100,6,1,5,30,1,12,1,-13,1,24,3,6,10,1,12,2,2,12,2,1,4,1,1,3,1,1,3,2,2,2,3,1,10,1,24,24,4,1,10,3,3,1,3,12,1,1,24,2,24,12,2,36,1,24,1,2,8,200,32,36,2,12,3,9,6,1,10,10,25,12,8,-2,1,567,6,2,2,1,18,6,1,-12,6,1,1,12,6,3,2,2,1,1,16,25,12,20,20,6,2,26,10,5,1,12,3,160,3,1,12,2,2,2,75,2,6,3,40,2,1,8,1,2,2,2,1,3,2,12,3,12,12,-1,2,384,1,1,1,3,9,6,120,3,12,48,8,5,3,6,1,1,12,2,3,10,1,12,10,4,12,1,12,1,300,-26,48,2,1,2,1,24,2,24,50,1,12,1,7,36,6,10,10,2,1,6,1,12,2,24,8,6,1,1,2,2,12,6,12,6,2,16,2,1,1,2,2,1,2,10,1,2,6,1,20,4,3,6,1,-6,6,8,12,3,1,1,8,1,2,12,3,2,1,6,6,2,1,1,1,4,12,3,2,1,2,6,4,1,5,-1,2,1,2,12,36,1,24,2,6,4,4,1,6,4,12,12,28,12,200,6,48,2,1,-2,1,6,2,1,1,1,2,-160,-1,2,24,12,1,2,1,4,1,10,1,3,1,14,12,1,1,1,2,1,1,24,192,1,3,72,3,2,1,25,1,2,2,12,4,6,9,6,1,1,8,6,2,4,3,4,1,2,1,8,1,5,12,2,2,1,12,10,48,10,12,6,6,2,1,4,12,1,1,1,6,1,3,72,90,7,6,2,4,18,2,1,1,4,1,10,6,1,2,6,1,16,2,10,25,1,1,4,25,1,1,6,2,1,2,12,1,2,12,6,2,2,-3,192,10,4,3,2,1,1,2,12,-4,24,1,1,4,3,1,10,2,1,12,6,72,2,6,24,1,1,10,1,4,6,1,3,96,96,4,1,-1,12,1,2,1,2,24,12,12,144,12,12,12,-12,14,2,1,2,3,2,1,24,1,1,5,12,1,2,1,12,12,1,4,1,1,2,12,1,1,2,96,1,36,10,12,2,36,48,3,1,36,1,5,24,3,1,12,1,1,12,1,4,1,1,12,12,1,1,1,72,2,1,24,6,1,3,12,2,6,4,2,2,24,6,2,24,1,3,-2,2,48,3,4,12,6,4,8,12,3,2,1,2,12,2,1,12,1,2,2,4,2,12,1,5,24,2,12,1,100,1,24,6,7,6,1,1,5,8,1,96,12,4,40,1,8,24,8,2,16,12,2,16,1,12,1,1,1,1,24,12,6,3,1,48,12,60,1,72,5,6,2,2,12,3,6,2,3,4,1,1,24,48,24,12,1,1,3,24,12,12,2,1,4,10,12,6,2,-1,10,8,3,12,16,1,4,1,1,4,1,2,12,12,7,25,6,2,10,1,6,6,12,1,96,4,3,4,16,2,1,1,2,1,48,42,2,12,24,3,1,3,-1,2,2,1,10,1,1,1,1,1,6,1,4,12,2,20,1,6,25,80,3,1,1,3,1,8,1,1,12,64,1,10,1,2,12,1,5,24,12,2,4,2,12,12,24,3,144,1,7,-1,72,1,6,1,3,4,12,18,2,24,6,1,6,1,8,48,3,2,6,48,6,1,6,12,12,1,2,12,6,1,12,1,2,12,1,2,6,6,20,144,20,1,1,1,3,1,4,2,12,24,6,1,1,3,12,6,2,1,4,12,4,10,12,24,4,25,1,2,8,1,3,1,1,1,3,4,3,1,1,120,10,4,5,12,1,1,3,2,1,30,1,1,1,8,1,32,1,1,1,12,1,12,3,2,1,2,1,96,-10,6,8,6,2,2,24,1,2,6,48,25,8,2,10,7,5,1,24,4,12,5,3,3,4,16,12,8,10,12,1,3,3,6,1,1,25,5,2,2,5,6,1,20,4,1,2,2,1,8,1,3,1,24,6,6,2,2,1,4,2,3,12,12,4,12,2,2,1,1,4,100,2,72,12,6,2,24,1,5,1,6,16,288,1,2,24,6,2,-1,1,6,20,2,4,3,1,24,2,3,6,12,6,100,1,10,1,2,6,1,1,3,10,6,4,2,2,2,12,30,1,12,10,2,12,1,8,48,2,4,1,6,1,6,1,4,12,2,3,1,1,4,5,1,1,8,1],\"xaxis\":\"x\",\"yaxis\":\"y\",\"type\":\"histogram\"},{\"alignmentgroup\":\"True\",\"hovertemplate\":\"variable=Quantity<br>value=%{x}<extra></extra>\",\"legendgroup\":\"Quantity\",\"marker\":{\"color\":\"#636efa\"},\"name\":\"Quantity\",\"notched\":true,\"offsetgroup\":\"Quantity\",\"showlegend\":false,\"x\":[6,3,48,12,12,-96,1,6,12,16,1,1,96,12,6,1,16,1,12,6,8,1,3,3,2,1,2,25,100,1,7,12,1,25,100,6,1,5,30,1,12,1,-13,1,24,3,6,10,1,12,2,2,12,2,1,4,1,1,3,1,1,3,2,2,2,3,1,10,1,24,24,4,1,10,3,3,1,3,12,1,1,24,2,24,12,2,36,1,24,1,2,8,200,32,36,2,12,3,9,6,1,10,10,25,12,8,-2,1,567,6,2,2,1,18,6,1,-12,6,1,1,12,6,3,2,2,1,1,16,25,12,20,20,6,2,26,10,5,1,12,3,160,3,1,12,2,2,2,75,2,6,3,40,2,1,8,1,2,2,2,1,3,2,12,3,12,12,-1,2,384,1,1,1,3,9,6,120,3,12,48,8,5,3,6,1,1,12,2,3,10,1,12,10,4,12,1,12,1,300,-26,48,2,1,2,1,24,2,24,50,1,12,1,7,36,6,10,10,2,1,6,1,12,2,24,8,6,1,1,2,2,12,6,12,6,2,16,2,1,1,2,2,1,2,10,1,2,6,1,20,4,3,6,1,-6,6,8,12,3,1,1,8,1,2,12,3,2,1,6,6,2,1,1,1,4,12,3,2,1,2,6,4,1,5,-1,2,1,2,12,36,1,24,2,6,4,4,1,6,4,12,12,28,12,200,6,48,2,1,-2,1,6,2,1,1,1,2,-160,-1,2,24,12,1,2,1,4,1,10,1,3,1,14,12,1,1,1,2,1,1,24,192,1,3,72,3,2,1,25,1,2,2,12,4,6,9,6,1,1,8,6,2,4,3,4,1,2,1,8,1,5,12,2,2,1,12,10,48,10,12,6,6,2,1,4,12,1,1,1,6,1,3,72,90,7,6,2,4,18,2,1,1,4,1,10,6,1,2,6,1,16,2,10,25,1,1,4,25,1,1,6,2,1,2,12,1,2,12,6,2,2,-3,192,10,4,3,2,1,1,2,12,-4,24,1,1,4,3,1,10,2,1,12,6,72,2,6,24,1,1,10,1,4,6,1,3,96,96,4,1,-1,12,1,2,1,2,24,12,12,144,12,12,12,-12,14,2,1,2,3,2,1,24,1,1,5,12,1,2,1,12,12,1,4,1,1,2,12,1,1,2,96,1,36,10,12,2,36,48,3,1,36,1,5,24,3,1,12,1,1,12,1,4,1,1,12,12,1,1,1,72,2,1,24,6,1,3,12,2,6,4,2,2,24,6,2,24,1,3,-2,2,48,3,4,12,6,4,8,12,3,2,1,2,12,2,1,12,1,2,2,4,2,12,1,5,24,2,12,1,100,1,24,6,7,6,1,1,5,8,1,96,12,4,40,1,8,24,8,2,16,12,2,16,1,12,1,1,1,1,24,12,6,3,1,48,12,60,1,72,5,6,2,2,12,3,6,2,3,4,1,1,24,48,24,12,1,1,3,24,12,12,2,1,4,10,12,6,2,-1,10,8,3,12,16,1,4,1,1,4,1,2,12,12,7,25,6,2,10,1,6,6,12,1,96,4,3,4,16,2,1,1,2,1,48,42,2,12,24,3,1,3,-1,2,2,1,10,1,1,1,1,1,6,1,4,12,2,20,1,6,25,80,3,1,1,3,1,8,1,1,12,64,1,10,1,2,12,1,5,24,12,2,4,2,12,12,24,3,144,1,7,-1,72,1,6,1,3,4,12,18,2,24,6,1,6,1,8,48,3,2,6,48,6,1,6,12,12,1,2,12,6,1,12,1,2,12,1,2,6,6,20,144,20,1,1,1,3,1,4,2,12,24,6,1,1,3,12,6,2,1,4,12,4,10,12,24,4,25,1,2,8,1,3,1,1,1,3,4,3,1,1,120,10,4,5,12,1,1,3,2,1,30,1,1,1,8,1,32,1,1,1,12,1,12,3,2,1,2,1,96,-10,6,8,6,2,2,24,1,2,6,48,25,8,2,10,7,5,1,24,4,12,5,3,3,4,16,12,8,10,12,1,3,3,6,1,1,25,5,2,2,5,6,1,20,4,1,2,2,1,8,1,3,1,24,6,6,2,2,1,4,2,3,12,12,4,12,2,2,1,1,4,100,2,72,12,6,2,24,1,5,1,6,16,288,1,2,24,6,2,-1,1,6,20,2,4,3,1,24,2,3,6,12,6,100,1,10,1,2,6,1,1,3,10,6,4,2,2,2,12,30,1,12,10,2,12,1,8,48,2,4,1,6,1,6,1,4,12,2,3,1,1,4,5,1,1,8,1],\"xaxis\":\"x2\",\"yaxis\":\"y2\",\"type\":\"box\"}],                        {\"template\":{\"data\":{\"histogram2dcontour\":[{\"type\":\"histogram2dcontour\",\"colorbar\":{\"outlinewidth\":0,\"ticks\":\"\"},\"colorscale\":[[0.0,\"#0d0887\"],[0.1111111111111111,\"#46039f\"],[0.2222222222222222,\"#7201a8\"],[0.3333333333333333,\"#9c179e\"],[0.4444444444444444,\"#bd3786\"],[0.5555555555555556,\"#d8576b\"],[0.6666666666666666,\"#ed7953\"],[0.7777777777777778,\"#fb9f3a\"],[0.8888888888888888,\"#fdca26\"],[1.0,\"#f0f921\"]]}],\"choropleth\":[{\"type\":\"choropleth\",\"colorbar\":{\"outlinewidth\":0,\"ticks\":\"\"}}],\"histogram2d\":[{\"type\":\"histogram2d\",\"colorbar\":{\"outlinewidth\":0,\"ticks\":\"\"},\"colorscale\":[[0.0,\"#0d0887\"],[0.1111111111111111,\"#46039f\"],[0.2222222222222222,\"#7201a8\"],[0.3333333333333333,\"#9c179e\"],[0.4444444444444444,\"#bd3786\"],[0.5555555555555556,\"#d8576b\"],[0.6666666666666666,\"#ed7953\"],[0.7777777777777778,\"#fb9f3a\"],[0.8888888888888888,\"#fdca26\"],[1.0,\"#f0f921\"]]}],\"heatmap\":[{\"type\":\"heatmap\",\"colorbar\":{\"outlinewidth\":0,\"ticks\":\"\"},\"colorscale\":[[0.0,\"#0d0887\"],[0.1111111111111111,\"#46039f\"],[0.2222222222222222,\"#7201a8\"],[0.3333333333333333,\"#9c179e\"],[0.4444444444444444,\"#bd3786\"],[0.5555555555555556,\"#d8576b\"],[0.6666666666666666,\"#ed7953\"],[0.7777777777777778,\"#fb9f3a\"],[0.8888888888888888,\"#fdca26\"],[1.0,\"#f0f921\"]]}],\"heatmapgl\":[{\"type\":\"heatmapgl\",\"colorbar\":{\"outlinewidth\":0,\"ticks\":\"\"},\"colorscale\":[[0.0,\"#0d0887\"],[0.1111111111111111,\"#46039f\"],[0.2222222222222222,\"#7201a8\"],[0.3333333333333333,\"#9c179e\"],[0.4444444444444444,\"#bd3786\"],[0.5555555555555556,\"#d8576b\"],[0.6666666666666666,\"#ed7953\"],[0.7777777777777778,\"#fb9f3a\"],[0.8888888888888888,\"#fdca26\"],[1.0,\"#f0f921\"]]}],\"contourcarpet\":[{\"type\":\"contourcarpet\",\"colorbar\":{\"outlinewidth\":0,\"ticks\":\"\"}}],\"contour\":[{\"type\":\"contour\",\"colorbar\":{\"outlinewidth\":0,\"ticks\":\"\"},\"colorscale\":[[0.0,\"#0d0887\"],[0.1111111111111111,\"#46039f\"],[0.2222222222222222,\"#7201a8\"],[0.3333333333333333,\"#9c179e\"],[0.4444444444444444,\"#bd3786\"],[0.5555555555555556,\"#d8576b\"],[0.6666666666666666,\"#ed7953\"],[0.7777777777777778,\"#fb9f3a\"],[0.8888888888888888,\"#fdca26\"],[1.0,\"#f0f921\"]]}],\"surface\":[{\"type\":\"surface\",\"colorbar\":{\"outlinewidth\":0,\"ticks\":\"\"},\"colorscale\":[[0.0,\"#0d0887\"],[0.1111111111111111,\"#46039f\"],[0.2222222222222222,\"#7201a8\"],[0.3333333333333333,\"#9c179e\"],[0.4444444444444444,\"#bd3786\"],[0.5555555555555556,\"#d8576b\"],[0.6666666666666666,\"#ed7953\"],[0.7777777777777778,\"#fb9f3a\"],[0.8888888888888888,\"#fdca26\"],[1.0,\"#f0f921\"]]}],\"mesh3d\":[{\"type\":\"mesh3d\",\"colorbar\":{\"outlinewidth\":0,\"ticks\":\"\"}}],\"scatter\":[{\"fillpattern\":{\"fillmode\":\"overlay\",\"size\":10,\"solidity\":0.2},\"type\":\"scatter\"}],\"parcoords\":[{\"type\":\"parcoords\",\"line\":{\"colorbar\":{\"outlinewidth\":0,\"ticks\":\"\"}}}],\"scatterpolargl\":[{\"type\":\"scatterpolargl\",\"marker\":{\"colorbar\":{\"outlinewidth\":0,\"ticks\":\"\"}}}],\"bar\":[{\"error_x\":{\"color\":\"#2a3f5f\"},\"error_y\":{\"color\":\"#2a3f5f\"},\"marker\":{\"line\":{\"color\":\"#E5ECF6\",\"width\":0.5},\"pattern\":{\"fillmode\":\"overlay\",\"size\":10,\"solidity\":0.2}},\"type\":\"bar\"}],\"scattergeo\":[{\"type\":\"scattergeo\",\"marker\":{\"colorbar\":{\"outlinewidth\":0,\"ticks\":\"\"}}}],\"scatterpolar\":[{\"type\":\"scatterpolar\",\"marker\":{\"colorbar\":{\"outlinewidth\":0,\"ticks\":\"\"}}}],\"histogram\":[{\"marker\":{\"pattern\":{\"fillmode\":\"overlay\",\"size\":10,\"solidity\":0.2}},\"type\":\"histogram\"}],\"scattergl\":[{\"type\":\"scattergl\",\"marker\":{\"colorbar\":{\"outlinewidth\":0,\"ticks\":\"\"}}}],\"scatter3d\":[{\"type\":\"scatter3d\",\"line\":{\"colorbar\":{\"outlinewidth\":0,\"ticks\":\"\"}},\"marker\":{\"colorbar\":{\"outlinewidth\":0,\"ticks\":\"\"}}}],\"scattermapbox\":[{\"type\":\"scattermapbox\",\"marker\":{\"colorbar\":{\"outlinewidth\":0,\"ticks\":\"\"}}}],\"scatterternary\":[{\"type\":\"scatterternary\",\"marker\":{\"colorbar\":{\"outlinewidth\":0,\"ticks\":\"\"}}}],\"scattercarpet\":[{\"type\":\"scattercarpet\",\"marker\":{\"colorbar\":{\"outlinewidth\":0,\"ticks\":\"\"}}}],\"carpet\":[{\"aaxis\":{\"endlinecolor\":\"#2a3f5f\",\"gridcolor\":\"white\",\"linecolor\":\"white\",\"minorgridcolor\":\"white\",\"startlinecolor\":\"#2a3f5f\"},\"baxis\":{\"endlinecolor\":\"#2a3f5f\",\"gridcolor\":\"white\",\"linecolor\":\"white\",\"minorgridcolor\":\"white\",\"startlinecolor\":\"#2a3f5f\"},\"type\":\"carpet\"}],\"table\":[{\"cells\":{\"fill\":{\"color\":\"#EBF0F8\"},\"line\":{\"color\":\"white\"}},\"header\":{\"fill\":{\"color\":\"#C8D4E3\"},\"line\":{\"color\":\"white\"}},\"type\":\"table\"}],\"barpolar\":[{\"marker\":{\"line\":{\"color\":\"#E5ECF6\",\"width\":0.5},\"pattern\":{\"fillmode\":\"overlay\",\"size\":10,\"solidity\":0.2}},\"type\":\"barpolar\"}],\"pie\":[{\"automargin\":true,\"type\":\"pie\"}]},\"layout\":{\"autotypenumbers\":\"strict\",\"colorway\":[\"#636efa\",\"#EF553B\",\"#00cc96\",\"#ab63fa\",\"#FFA15A\",\"#19d3f3\",\"#FF6692\",\"#B6E880\",\"#FF97FF\",\"#FECB52\"],\"font\":{\"color\":\"#2a3f5f\"},\"hovermode\":\"closest\",\"hoverlabel\":{\"align\":\"left\"},\"paper_bgcolor\":\"white\",\"plot_bgcolor\":\"#E5ECF6\",\"polar\":{\"bgcolor\":\"#E5ECF6\",\"angularaxis\":{\"gridcolor\":\"white\",\"linecolor\":\"white\",\"ticks\":\"\"},\"radialaxis\":{\"gridcolor\":\"white\",\"linecolor\":\"white\",\"ticks\":\"\"}},\"ternary\":{\"bgcolor\":\"#E5ECF6\",\"aaxis\":{\"gridcolor\":\"white\",\"linecolor\":\"white\",\"ticks\":\"\"},\"baxis\":{\"gridcolor\":\"white\",\"linecolor\":\"white\",\"ticks\":\"\"},\"caxis\":{\"gridcolor\":\"white\",\"linecolor\":\"white\",\"ticks\":\"\"}},\"coloraxis\":{\"colorbar\":{\"outlinewidth\":0,\"ticks\":\"\"}},\"colorscale\":{\"sequential\":[[0.0,\"#0d0887\"],[0.1111111111111111,\"#46039f\"],[0.2222222222222222,\"#7201a8\"],[0.3333333333333333,\"#9c179e\"],[0.4444444444444444,\"#bd3786\"],[0.5555555555555556,\"#d8576b\"],[0.6666666666666666,\"#ed7953\"],[0.7777777777777778,\"#fb9f3a\"],[0.8888888888888888,\"#fdca26\"],[1.0,\"#f0f921\"]],\"sequentialminus\":[[0.0,\"#0d0887\"],[0.1111111111111111,\"#46039f\"],[0.2222222222222222,\"#7201a8\"],[0.3333333333333333,\"#9c179e\"],[0.4444444444444444,\"#bd3786\"],[0.5555555555555556,\"#d8576b\"],[0.6666666666666666,\"#ed7953\"],[0.7777777777777778,\"#fb9f3a\"],[0.8888888888888888,\"#fdca26\"],[1.0,\"#f0f921\"]],\"diverging\":[[0,\"#8e0152\"],[0.1,\"#c51b7d\"],[0.2,\"#de77ae\"],[0.3,\"#f1b6da\"],[0.4,\"#fde0ef\"],[0.5,\"#f7f7f7\"],[0.6,\"#e6f5d0\"],[0.7,\"#b8e186\"],[0.8,\"#7fbc41\"],[0.9,\"#4d9221\"],[1,\"#276419\"]]},\"xaxis\":{\"gridcolor\":\"white\",\"linecolor\":\"white\",\"ticks\":\"\",\"title\":{\"standoff\":15},\"zerolinecolor\":\"white\",\"automargin\":true,\"zerolinewidth\":2},\"yaxis\":{\"gridcolor\":\"white\",\"linecolor\":\"white\",\"ticks\":\"\",\"title\":{\"standoff\":15},\"zerolinecolor\":\"white\",\"automargin\":true,\"zerolinewidth\":2},\"scene\":{\"xaxis\":{\"backgroundcolor\":\"#E5ECF6\",\"gridcolor\":\"white\",\"linecolor\":\"white\",\"showbackground\":true,\"ticks\":\"\",\"zerolinecolor\":\"white\",\"gridwidth\":2},\"yaxis\":{\"backgroundcolor\":\"#E5ECF6\",\"gridcolor\":\"white\",\"linecolor\":\"white\",\"showbackground\":true,\"ticks\":\"\",\"zerolinecolor\":\"white\",\"gridwidth\":2},\"zaxis\":{\"backgroundcolor\":\"#E5ECF6\",\"gridcolor\":\"white\",\"linecolor\":\"white\",\"showbackground\":true,\"ticks\":\"\",\"zerolinecolor\":\"white\",\"gridwidth\":2}},\"shapedefaults\":{\"line\":{\"color\":\"#2a3f5f\"}},\"annotationdefaults\":{\"arrowcolor\":\"#2a3f5f\",\"arrowhead\":0,\"arrowwidth\":1},\"geo\":{\"bgcolor\":\"white\",\"landcolor\":\"#E5ECF6\",\"subunitcolor\":\"white\",\"showland\":true,\"showlakes\":true,\"lakecolor\":\"white\"},\"title\":{\"x\":0.05},\"mapbox\":{\"style\":\"light\"}}},\"xaxis\":{\"anchor\":\"y\",\"domain\":[0.0,1.0],\"title\":{\"text\":\"value\"}},\"yaxis\":{\"anchor\":\"x\",\"domain\":[0.0,0.7326],\"title\":{\"text\":\"count\"}},\"xaxis2\":{\"anchor\":\"y2\",\"domain\":[0.0,1.0],\"matches\":\"x\",\"showticklabels\":false,\"showgrid\":true},\"yaxis2\":{\"anchor\":\"x2\",\"domain\":[0.7426,1.0],\"matches\":\"y2\",\"showticklabels\":false,\"showline\":false,\"ticks\":\"\",\"showgrid\":false},\"legend\":{\"title\":{\"text\":\"variable\"},\"tracegroupgap\":0},\"title\":{\"text\":\"Quantity - With Outliers\"},\"barmode\":\"relative\"},                        {\"responsive\": true}                    ).then(function(){\n",
              "                            \n",
              "var gd = document.getElementById('0db7fcb9-c047-40ac-bfb0-a9981538a869');\n",
              "var x = new MutationObserver(function (mutations, observer) {{\n",
              "        var display = window.getComputedStyle(gd).display;\n",
              "        if (!display || display === 'none') {{\n",
              "            console.log([gd, 'removed!']);\n",
              "            Plotly.purge(gd);\n",
              "            observer.disconnect();\n",
              "        }}\n",
              "}});\n",
              "\n",
              "// Listen for the removal of the full notebook cells\n",
              "var notebookContainer = gd.closest('#notebook-container');\n",
              "if (notebookContainer) {{\n",
              "    x.observe(notebookContainer, {childList: true});\n",
              "}}\n",
              "\n",
              "// Listen for the clearing of the current output cell\n",
              "var outputEl = gd.closest('.output');\n",
              "if (outputEl) {{\n",
              "    x.observe(outputEl, {childList: true});\n",
              "}}\n",
              "\n",
              "                        })                };                            </script>        </div>\n",
              "</body>\n",
              "</html>"
            ]
          },
          "metadata": {}
        },
        {
          "output_type": "display_data",
          "data": {
            "text/html": [
              "<html>\n",
              "<head><meta charset=\"utf-8\" /></head>\n",
              "<body>\n",
              "    <div>            <script src=\"https://cdnjs.cloudflare.com/ajax/libs/mathjax/2.7.5/MathJax.js?config=TeX-AMS-MML_SVG\"></script><script type=\"text/javascript\">if (window.MathJax && window.MathJax.Hub && window.MathJax.Hub.Config) {window.MathJax.Hub.Config({SVG: {font: \"STIX-Web\"}});}</script>                <script type=\"text/javascript\">window.PlotlyConfig = {MathJaxConfig: 'local'};</script>\n",
              "        <script src=\"https://cdn.plot.ly/plotly-2.14.0.min.js\"></script>                <div id=\"5be1324c-4700-4c05-8d02-5d31d670e3df\" class=\"plotly-graph-div\" style=\"height:525px; width:100%;\"></div>            <script type=\"text/javascript\">                                    window.PLOTLYENV=window.PLOTLYENV || {};                                    if (document.getElementById(\"5be1324c-4700-4c05-8d02-5d31d670e3df\")) {                    Plotly.newPlot(                        \"5be1324c-4700-4c05-8d02-5d31d670e3df\",                        [{\"alignmentgroup\":\"True\",\"bingroup\":\"x\",\"hovertemplate\":\"variable=Quantity<br>value=%{x}<br>count=%{y}<extra></extra>\",\"legendgroup\":\"Quantity\",\"marker\":{\"color\":\"#636efa\",\"pattern\":{\"shape\":\"\"}},\"name\":\"Quantity\",\"offsetgroup\":\"Quantity\",\"orientation\":\"v\",\"showlegend\":true,\"x\":[6,3,48,12,12,1,6,12,16,1,1,96,12,6,1,16,1,12,6,8,1,3,3,2,1,2,25,100,1,7,12,1,25,100,6,1,5,30,1,12,1,-13,1,24,3,6,10,1,12,2,2,12,2,1,4,1,1,3,1,1,3,2,2,2,3,1,10,1,24,24,4,1,10,3,3,1,3,12,1,1,24,2,24,12,2,36,1,24,1,2,8,32,36,2,12,3,9,6,1,10,10,25,12,8,-2,1,6,2,2,1,18,6,1,-12,6,1,1,12,6,3,2,2,1,1,16,25,12,20,20,6,2,26,10,5,1,12,3,3,1,12,2,2,2,75,2,6,3,40,2,1,8,1,2,2,2,1,3,2,12,3,12,12,-1,2,1,1,1,3,9,6,3,12,48,8,5,3,6,1,1,12,2,3,10,1,12,10,4,12,1,12,1,-26,48,2,1,2,1,24,2,24,50,1,12,1,7,36,6,10,10,2,1,6,1,12,2,24,8,6,1,1,2,2,12,6,12,6,2,16,2,1,1,2,2,1,2,10,1,2,6,1,20,4,3,6,1,-6,6,8,12,3,1,1,8,1,2,12,3,2,1,6,6,2,1,1,1,4,12,3,2,1,2,6,4,1,5,-1,2,1,2,12,36,1,24,2,6,4,4,1,6,4,12,12,28,12,6,48,2,1,-2,1,6,2,1,1,1,2,-1,2,24,12,1,2,1,4,1,10,1,3,1,14,12,1,1,1,2,1,1,24,1,3,72,3,2,1,25,1,2,2,12,4,6,9,6,1,1,8,6,2,4,3,4,1,2,1,8,1,5,12,2,2,1,12,10,48,10,12,6,6,2,1,4,12,1,1,1,6,1,3,72,90,7,6,2,4,18,2,1,1,4,1,10,6,1,2,6,1,16,2,10,25,1,1,4,25,1,1,6,2,1,2,12,1,2,12,6,2,2,-3,10,4,3,2,1,1,2,12,-4,24,1,1,4,3,1,10,2,1,12,6,72,2,6,24,1,1,10,1,4,6,1,3,96,96,4,1,-1,12,1,2,1,2,24,12,12,12,12,12,-12,14,2,1,2,3,2,1,24,1,1,5,12,1,2,1,12,12,1,4,1,1,2,12,1,1,2,96,1,36,10,12,2,36,48,3,1,36,1,5,24,3,1,12,1,1,12,1,4,1,1,12,12,1,1,1,72,2,1,24,6,1,3,12,2,6,4,2,2,24,6,2,24,1,3,-2,2,48,3,4,12,6,4,8,12,3,2,1,2,12,2,1,12,1,2,2,4,2,12,1,5,24,2,12,1,100,1,24,6,7,6,1,1,5,8,1,96,12,4,40,1,8,24,8,2,16,12,2,16,1,12,1,1,1,1,24,12,6,3,1,48,12,60,1,72,5,6,2,2,12,3,6,2,3,4,1,1,24,48,24,12,1,1,3,24,12,12,2,1,4,10,12,6,2,-1,10,8,3,12,16,1,4,1,1,4,1,2,12,12,7,25,6,2,10,1,6,6,12,1,96,4,3,4,16,2,1,1,2,1,48,42,2,12,24,3,1,3,-1,2,2,1,10,1,1,1,1,1,6,1,4,12,2,20,1,6,25,80,3,1,1,3,1,8,1,1,12,64,1,10,1,2,12,1,5,24,12,2,4,2,12,12,24,3,1,7,-1,72,1,6,1,3,4,12,18,2,24,6,1,6,1,8,48,3,2,6,48,6,1,6,12,12,1,2,12,6,1,12,1,2,12,1,2,6,6,20,20,1,1,1,3,1,4,2,12,24,6,1,1,3,12,6,2,1,4,12,4,10,12,24,4,25,1,2,8,1,3,1,1,1,3,4,3,1,1,10,4,5,12,1,1,3,2,1,30,1,1,1,8,1,32,1,1,1,12,1,12,3,2,1,2,1,96,-10,6,8,6,2,2,24,1,2,6,48,25,8,2,10,7,5,1,24,4,12,5,3,3,4,16,12,8,10,12,1,3,3,6,1,1,25,5,2,2,5,6,1,20,4,1,2,2,1,8,1,3,1,24,6,6,2,2,1,4,2,3,12,12,4,12,2,2,1,1,4,100,2,72,12,6,2,24,1,5,1,6,16,1,2,24,6,2,-1,1,6,20,2,4,3,1,24,2,3,6,12,6,100,1,10,1,2,6,1,1,3,10,6,4,2,2,2,12,30,1,12,10,2,12,1,8,48,2,4,1,6,1,6,1,4,12,2,3,1,1,4,5,1,1,8,1],\"xaxis\":\"x\",\"yaxis\":\"y\",\"type\":\"histogram\"},{\"alignmentgroup\":\"True\",\"hovertemplate\":\"variable=Quantity<br>value=%{x}<extra></extra>\",\"legendgroup\":\"Quantity\",\"marker\":{\"color\":\"#636efa\"},\"name\":\"Quantity\",\"notched\":true,\"offsetgroup\":\"Quantity\",\"showlegend\":false,\"x\":[6,3,48,12,12,1,6,12,16,1,1,96,12,6,1,16,1,12,6,8,1,3,3,2,1,2,25,100,1,7,12,1,25,100,6,1,5,30,1,12,1,-13,1,24,3,6,10,1,12,2,2,12,2,1,4,1,1,3,1,1,3,2,2,2,3,1,10,1,24,24,4,1,10,3,3,1,3,12,1,1,24,2,24,12,2,36,1,24,1,2,8,32,36,2,12,3,9,6,1,10,10,25,12,8,-2,1,6,2,2,1,18,6,1,-12,6,1,1,12,6,3,2,2,1,1,16,25,12,20,20,6,2,26,10,5,1,12,3,3,1,12,2,2,2,75,2,6,3,40,2,1,8,1,2,2,2,1,3,2,12,3,12,12,-1,2,1,1,1,3,9,6,3,12,48,8,5,3,6,1,1,12,2,3,10,1,12,10,4,12,1,12,1,-26,48,2,1,2,1,24,2,24,50,1,12,1,7,36,6,10,10,2,1,6,1,12,2,24,8,6,1,1,2,2,12,6,12,6,2,16,2,1,1,2,2,1,2,10,1,2,6,1,20,4,3,6,1,-6,6,8,12,3,1,1,8,1,2,12,3,2,1,6,6,2,1,1,1,4,12,3,2,1,2,6,4,1,5,-1,2,1,2,12,36,1,24,2,6,4,4,1,6,4,12,12,28,12,6,48,2,1,-2,1,6,2,1,1,1,2,-1,2,24,12,1,2,1,4,1,10,1,3,1,14,12,1,1,1,2,1,1,24,1,3,72,3,2,1,25,1,2,2,12,4,6,9,6,1,1,8,6,2,4,3,4,1,2,1,8,1,5,12,2,2,1,12,10,48,10,12,6,6,2,1,4,12,1,1,1,6,1,3,72,90,7,6,2,4,18,2,1,1,4,1,10,6,1,2,6,1,16,2,10,25,1,1,4,25,1,1,6,2,1,2,12,1,2,12,6,2,2,-3,10,4,3,2,1,1,2,12,-4,24,1,1,4,3,1,10,2,1,12,6,72,2,6,24,1,1,10,1,4,6,1,3,96,96,4,1,-1,12,1,2,1,2,24,12,12,12,12,12,-12,14,2,1,2,3,2,1,24,1,1,5,12,1,2,1,12,12,1,4,1,1,2,12,1,1,2,96,1,36,10,12,2,36,48,3,1,36,1,5,24,3,1,12,1,1,12,1,4,1,1,12,12,1,1,1,72,2,1,24,6,1,3,12,2,6,4,2,2,24,6,2,24,1,3,-2,2,48,3,4,12,6,4,8,12,3,2,1,2,12,2,1,12,1,2,2,4,2,12,1,5,24,2,12,1,100,1,24,6,7,6,1,1,5,8,1,96,12,4,40,1,8,24,8,2,16,12,2,16,1,12,1,1,1,1,24,12,6,3,1,48,12,60,1,72,5,6,2,2,12,3,6,2,3,4,1,1,24,48,24,12,1,1,3,24,12,12,2,1,4,10,12,6,2,-1,10,8,3,12,16,1,4,1,1,4,1,2,12,12,7,25,6,2,10,1,6,6,12,1,96,4,3,4,16,2,1,1,2,1,48,42,2,12,24,3,1,3,-1,2,2,1,10,1,1,1,1,1,6,1,4,12,2,20,1,6,25,80,3,1,1,3,1,8,1,1,12,64,1,10,1,2,12,1,5,24,12,2,4,2,12,12,24,3,1,7,-1,72,1,6,1,3,4,12,18,2,24,6,1,6,1,8,48,3,2,6,48,6,1,6,12,12,1,2,12,6,1,12,1,2,12,1,2,6,6,20,20,1,1,1,3,1,4,2,12,24,6,1,1,3,12,6,2,1,4,12,4,10,12,24,4,25,1,2,8,1,3,1,1,1,3,4,3,1,1,10,4,5,12,1,1,3,2,1,30,1,1,1,8,1,32,1,1,1,12,1,12,3,2,1,2,1,96,-10,6,8,6,2,2,24,1,2,6,48,25,8,2,10,7,5,1,24,4,12,5,3,3,4,16,12,8,10,12,1,3,3,6,1,1,25,5,2,2,5,6,1,20,4,1,2,2,1,8,1,3,1,24,6,6,2,2,1,4,2,3,12,12,4,12,2,2,1,1,4,100,2,72,12,6,2,24,1,5,1,6,16,1,2,24,6,2,-1,1,6,20,2,4,3,1,24,2,3,6,12,6,100,1,10,1,2,6,1,1,3,10,6,4,2,2,2,12,30,1,12,10,2,12,1,8,48,2,4,1,6,1,6,1,4,12,2,3,1,1,4,5,1,1,8,1],\"xaxis\":\"x2\",\"yaxis\":\"y2\",\"type\":\"box\"}],                        {\"template\":{\"data\":{\"histogram2dcontour\":[{\"type\":\"histogram2dcontour\",\"colorbar\":{\"outlinewidth\":0,\"ticks\":\"\"},\"colorscale\":[[0.0,\"#0d0887\"],[0.1111111111111111,\"#46039f\"],[0.2222222222222222,\"#7201a8\"],[0.3333333333333333,\"#9c179e\"],[0.4444444444444444,\"#bd3786\"],[0.5555555555555556,\"#d8576b\"],[0.6666666666666666,\"#ed7953\"],[0.7777777777777778,\"#fb9f3a\"],[0.8888888888888888,\"#fdca26\"],[1.0,\"#f0f921\"]]}],\"choropleth\":[{\"type\":\"choropleth\",\"colorbar\":{\"outlinewidth\":0,\"ticks\":\"\"}}],\"histogram2d\":[{\"type\":\"histogram2d\",\"colorbar\":{\"outlinewidth\":0,\"ticks\":\"\"},\"colorscale\":[[0.0,\"#0d0887\"],[0.1111111111111111,\"#46039f\"],[0.2222222222222222,\"#7201a8\"],[0.3333333333333333,\"#9c179e\"],[0.4444444444444444,\"#bd3786\"],[0.5555555555555556,\"#d8576b\"],[0.6666666666666666,\"#ed7953\"],[0.7777777777777778,\"#fb9f3a\"],[0.8888888888888888,\"#fdca26\"],[1.0,\"#f0f921\"]]}],\"heatmap\":[{\"type\":\"heatmap\",\"colorbar\":{\"outlinewidth\":0,\"ticks\":\"\"},\"colorscale\":[[0.0,\"#0d0887\"],[0.1111111111111111,\"#46039f\"],[0.2222222222222222,\"#7201a8\"],[0.3333333333333333,\"#9c179e\"],[0.4444444444444444,\"#bd3786\"],[0.5555555555555556,\"#d8576b\"],[0.6666666666666666,\"#ed7953\"],[0.7777777777777778,\"#fb9f3a\"],[0.8888888888888888,\"#fdca26\"],[1.0,\"#f0f921\"]]}],\"heatmapgl\":[{\"type\":\"heatmapgl\",\"colorbar\":{\"outlinewidth\":0,\"ticks\":\"\"},\"colorscale\":[[0.0,\"#0d0887\"],[0.1111111111111111,\"#46039f\"],[0.2222222222222222,\"#7201a8\"],[0.3333333333333333,\"#9c179e\"],[0.4444444444444444,\"#bd3786\"],[0.5555555555555556,\"#d8576b\"],[0.6666666666666666,\"#ed7953\"],[0.7777777777777778,\"#fb9f3a\"],[0.8888888888888888,\"#fdca26\"],[1.0,\"#f0f921\"]]}],\"contourcarpet\":[{\"type\":\"contourcarpet\",\"colorbar\":{\"outlinewidth\":0,\"ticks\":\"\"}}],\"contour\":[{\"type\":\"contour\",\"colorbar\":{\"outlinewidth\":0,\"ticks\":\"\"},\"colorscale\":[[0.0,\"#0d0887\"],[0.1111111111111111,\"#46039f\"],[0.2222222222222222,\"#7201a8\"],[0.3333333333333333,\"#9c179e\"],[0.4444444444444444,\"#bd3786\"],[0.5555555555555556,\"#d8576b\"],[0.6666666666666666,\"#ed7953\"],[0.7777777777777778,\"#fb9f3a\"],[0.8888888888888888,\"#fdca26\"],[1.0,\"#f0f921\"]]}],\"surface\":[{\"type\":\"surface\",\"colorbar\":{\"outlinewidth\":0,\"ticks\":\"\"},\"colorscale\":[[0.0,\"#0d0887\"],[0.1111111111111111,\"#46039f\"],[0.2222222222222222,\"#7201a8\"],[0.3333333333333333,\"#9c179e\"],[0.4444444444444444,\"#bd3786\"],[0.5555555555555556,\"#d8576b\"],[0.6666666666666666,\"#ed7953\"],[0.7777777777777778,\"#fb9f3a\"],[0.8888888888888888,\"#fdca26\"],[1.0,\"#f0f921\"]]}],\"mesh3d\":[{\"type\":\"mesh3d\",\"colorbar\":{\"outlinewidth\":0,\"ticks\":\"\"}}],\"scatter\":[{\"fillpattern\":{\"fillmode\":\"overlay\",\"size\":10,\"solidity\":0.2},\"type\":\"scatter\"}],\"parcoords\":[{\"type\":\"parcoords\",\"line\":{\"colorbar\":{\"outlinewidth\":0,\"ticks\":\"\"}}}],\"scatterpolargl\":[{\"type\":\"scatterpolargl\",\"marker\":{\"colorbar\":{\"outlinewidth\":0,\"ticks\":\"\"}}}],\"bar\":[{\"error_x\":{\"color\":\"#2a3f5f\"},\"error_y\":{\"color\":\"#2a3f5f\"},\"marker\":{\"line\":{\"color\":\"#E5ECF6\",\"width\":0.5},\"pattern\":{\"fillmode\":\"overlay\",\"size\":10,\"solidity\":0.2}},\"type\":\"bar\"}],\"scattergeo\":[{\"type\":\"scattergeo\",\"marker\":{\"colorbar\":{\"outlinewidth\":0,\"ticks\":\"\"}}}],\"scatterpolar\":[{\"type\":\"scatterpolar\",\"marker\":{\"colorbar\":{\"outlinewidth\":0,\"ticks\":\"\"}}}],\"histogram\":[{\"marker\":{\"pattern\":{\"fillmode\":\"overlay\",\"size\":10,\"solidity\":0.2}},\"type\":\"histogram\"}],\"scattergl\":[{\"type\":\"scattergl\",\"marker\":{\"colorbar\":{\"outlinewidth\":0,\"ticks\":\"\"}}}],\"scatter3d\":[{\"type\":\"scatter3d\",\"line\":{\"colorbar\":{\"outlinewidth\":0,\"ticks\":\"\"}},\"marker\":{\"colorbar\":{\"outlinewidth\":0,\"ticks\":\"\"}}}],\"scattermapbox\":[{\"type\":\"scattermapbox\",\"marker\":{\"colorbar\":{\"outlinewidth\":0,\"ticks\":\"\"}}}],\"scatterternary\":[{\"type\":\"scatterternary\",\"marker\":{\"colorbar\":{\"outlinewidth\":0,\"ticks\":\"\"}}}],\"scattercarpet\":[{\"type\":\"scattercarpet\",\"marker\":{\"colorbar\":{\"outlinewidth\":0,\"ticks\":\"\"}}}],\"carpet\":[{\"aaxis\":{\"endlinecolor\":\"#2a3f5f\",\"gridcolor\":\"white\",\"linecolor\":\"white\",\"minorgridcolor\":\"white\",\"startlinecolor\":\"#2a3f5f\"},\"baxis\":{\"endlinecolor\":\"#2a3f5f\",\"gridcolor\":\"white\",\"linecolor\":\"white\",\"minorgridcolor\":\"white\",\"startlinecolor\":\"#2a3f5f\"},\"type\":\"carpet\"}],\"table\":[{\"cells\":{\"fill\":{\"color\":\"#EBF0F8\"},\"line\":{\"color\":\"white\"}},\"header\":{\"fill\":{\"color\":\"#C8D4E3\"},\"line\":{\"color\":\"white\"}},\"type\":\"table\"}],\"barpolar\":[{\"marker\":{\"line\":{\"color\":\"#E5ECF6\",\"width\":0.5},\"pattern\":{\"fillmode\":\"overlay\",\"size\":10,\"solidity\":0.2}},\"type\":\"barpolar\"}],\"pie\":[{\"automargin\":true,\"type\":\"pie\"}]},\"layout\":{\"autotypenumbers\":\"strict\",\"colorway\":[\"#636efa\",\"#EF553B\",\"#00cc96\",\"#ab63fa\",\"#FFA15A\",\"#19d3f3\",\"#FF6692\",\"#B6E880\",\"#FF97FF\",\"#FECB52\"],\"font\":{\"color\":\"#2a3f5f\"},\"hovermode\":\"closest\",\"hoverlabel\":{\"align\":\"left\"},\"paper_bgcolor\":\"white\",\"plot_bgcolor\":\"#E5ECF6\",\"polar\":{\"bgcolor\":\"#E5ECF6\",\"angularaxis\":{\"gridcolor\":\"white\",\"linecolor\":\"white\",\"ticks\":\"\"},\"radialaxis\":{\"gridcolor\":\"white\",\"linecolor\":\"white\",\"ticks\":\"\"}},\"ternary\":{\"bgcolor\":\"#E5ECF6\",\"aaxis\":{\"gridcolor\":\"white\",\"linecolor\":\"white\",\"ticks\":\"\"},\"baxis\":{\"gridcolor\":\"white\",\"linecolor\":\"white\",\"ticks\":\"\"},\"caxis\":{\"gridcolor\":\"white\",\"linecolor\":\"white\",\"ticks\":\"\"}},\"coloraxis\":{\"colorbar\":{\"outlinewidth\":0,\"ticks\":\"\"}},\"colorscale\":{\"sequential\":[[0.0,\"#0d0887\"],[0.1111111111111111,\"#46039f\"],[0.2222222222222222,\"#7201a8\"],[0.3333333333333333,\"#9c179e\"],[0.4444444444444444,\"#bd3786\"],[0.5555555555555556,\"#d8576b\"],[0.6666666666666666,\"#ed7953\"],[0.7777777777777778,\"#fb9f3a\"],[0.8888888888888888,\"#fdca26\"],[1.0,\"#f0f921\"]],\"sequentialminus\":[[0.0,\"#0d0887\"],[0.1111111111111111,\"#46039f\"],[0.2222222222222222,\"#7201a8\"],[0.3333333333333333,\"#9c179e\"],[0.4444444444444444,\"#bd3786\"],[0.5555555555555556,\"#d8576b\"],[0.6666666666666666,\"#ed7953\"],[0.7777777777777778,\"#fb9f3a\"],[0.8888888888888888,\"#fdca26\"],[1.0,\"#f0f921\"]],\"diverging\":[[0,\"#8e0152\"],[0.1,\"#c51b7d\"],[0.2,\"#de77ae\"],[0.3,\"#f1b6da\"],[0.4,\"#fde0ef\"],[0.5,\"#f7f7f7\"],[0.6,\"#e6f5d0\"],[0.7,\"#b8e186\"],[0.8,\"#7fbc41\"],[0.9,\"#4d9221\"],[1,\"#276419\"]]},\"xaxis\":{\"gridcolor\":\"white\",\"linecolor\":\"white\",\"ticks\":\"\",\"title\":{\"standoff\":15},\"zerolinecolor\":\"white\",\"automargin\":true,\"zerolinewidth\":2},\"yaxis\":{\"gridcolor\":\"white\",\"linecolor\":\"white\",\"ticks\":\"\",\"title\":{\"standoff\":15},\"zerolinecolor\":\"white\",\"automargin\":true,\"zerolinewidth\":2},\"scene\":{\"xaxis\":{\"backgroundcolor\":\"#E5ECF6\",\"gridcolor\":\"white\",\"linecolor\":\"white\",\"showbackground\":true,\"ticks\":\"\",\"zerolinecolor\":\"white\",\"gridwidth\":2},\"yaxis\":{\"backgroundcolor\":\"#E5ECF6\",\"gridcolor\":\"white\",\"linecolor\":\"white\",\"showbackground\":true,\"ticks\":\"\",\"zerolinecolor\":\"white\",\"gridwidth\":2},\"zaxis\":{\"backgroundcolor\":\"#E5ECF6\",\"gridcolor\":\"white\",\"linecolor\":\"white\",\"showbackground\":true,\"ticks\":\"\",\"zerolinecolor\":\"white\",\"gridwidth\":2}},\"shapedefaults\":{\"line\":{\"color\":\"#2a3f5f\"}},\"annotationdefaults\":{\"arrowcolor\":\"#2a3f5f\",\"arrowhead\":0,\"arrowwidth\":1},\"geo\":{\"bgcolor\":\"white\",\"landcolor\":\"#E5ECF6\",\"subunitcolor\":\"white\",\"showland\":true,\"showlakes\":true,\"lakecolor\":\"white\"},\"title\":{\"x\":0.05},\"mapbox\":{\"style\":\"light\"}}},\"xaxis\":{\"anchor\":\"y\",\"domain\":[0.0,1.0],\"title\":{\"text\":\"value\"}},\"yaxis\":{\"anchor\":\"x\",\"domain\":[0.0,0.7326],\"title\":{\"text\":\"count\"}},\"xaxis2\":{\"anchor\":\"y2\",\"domain\":[0.0,1.0],\"matches\":\"x\",\"showticklabels\":false,\"showgrid\":true},\"yaxis2\":{\"anchor\":\"x2\",\"domain\":[0.7426,1.0],\"matches\":\"y2\",\"showticklabels\":false,\"showline\":false,\"ticks\":\"\",\"showgrid\":false},\"legend\":{\"title\":{\"text\":\"variable\"},\"tracegroupgap\":0},\"title\":{\"text\":\"Quantity - Without Outliers\"},\"barmode\":\"relative\"},                        {\"responsive\": true}                    ).then(function(){\n",
              "                            \n",
              "var gd = document.getElementById('5be1324c-4700-4c05-8d02-5d31d670e3df');\n",
              "var x = new MutationObserver(function (mutations, observer) {{\n",
              "        var display = window.getComputedStyle(gd).display;\n",
              "        if (!display || display === 'none') {{\n",
              "            console.log([gd, 'removed!']);\n",
              "            Plotly.purge(gd);\n",
              "            observer.disconnect();\n",
              "        }}\n",
              "}});\n",
              "\n",
              "// Listen for the removal of the full notebook cells\n",
              "var notebookContainer = gd.closest('#notebook-container');\n",
              "if (notebookContainer) {{\n",
              "    x.observe(notebookContainer, {childList: true});\n",
              "}}\n",
              "\n",
              "// Listen for the clearing of the current output cell\n",
              "var outputEl = gd.closest('.output');\n",
              "if (outputEl) {{\n",
              "    x.observe(outputEl, {childList: true});\n",
              "}}\n",
              "\n",
              "                        })                };                            </script>        </div>\n",
              "</body>\n",
              "</html>"
            ]
          },
          "metadata": {}
        },
        {
          "output_type": "display_data",
          "data": {
            "text/plain": [
              "<IPython.core.display.Markdown object>"
            ],
            "text/markdown": "## InvoiceDate Profile"
          },
          "metadata": {}
        },
        {
          "output_type": "display_data",
          "data": {
            "text/plain": [
              "Type                                     datetime64[ns]\n",
              "Number of observations                           525461\n",
              "Mean                      2010-06-28 11:37:36.845017856\n",
              "Min                                 2009-12-01 07:45:00\n",
              "25%                                 2010-03-21 12:20:00\n",
              "50%                                 2010-07-06 09:51:00\n",
              "75%                                 2010-10-15 12:45:00\n",
              "Max                                 2010-12-09 20:01:00\n",
              "                                                       \n",
              "Missing cells                                         0\n",
              "Missing cells (%)                                 0.0 %\n",
              "Duplicate rows                                   520400\n",
              "Duplicate rows (%)                              99.04 %\n",
              "Total size in memory                      4203816 bytes\n",
              "dtype: object"
            ]
          },
          "metadata": {}
        },
        {
          "output_type": "display_data",
          "data": {
            "text/html": [
              "<html>\n",
              "<head><meta charset=\"utf-8\" /></head>\n",
              "<body>\n",
              "    <div>            <script src=\"https://cdnjs.cloudflare.com/ajax/libs/mathjax/2.7.5/MathJax.js?config=TeX-AMS-MML_SVG\"></script><script type=\"text/javascript\">if (window.MathJax && window.MathJax.Hub && window.MathJax.Hub.Config) {window.MathJax.Hub.Config({SVG: {font: \"STIX-Web\"}});}</script>                <script type=\"text/javascript\">window.PlotlyConfig = {MathJaxConfig: 'local'};</script>\n",
              "        <script src=\"https://cdn.plot.ly/plotly-2.14.0.min.js\"></script>                <div id=\"d3d59ce7-2dc6-4246-a081-e7aeff57f2fb\" class=\"plotly-graph-div\" style=\"height:525px; width:100%;\"></div>            <script type=\"text/javascript\">                                    window.PLOTLYENV=window.PLOTLYENV || {};                                    if (document.getElementById(\"d3d59ce7-2dc6-4246-a081-e7aeff57f2fb\")) {                    Plotly.newPlot(                        \"d3d59ce7-2dc6-4246-a081-e7aeff57f2fb\",                        [{\"alignmentgroup\":\"True\",\"bingroup\":\"x\",\"hovertemplate\":\"variable=InvoiceDate<br>value=%{x}<br>count=%{y}<extra></extra>\",\"legendgroup\":\"InvoiceDate\",\"marker\":{\"color\":\"#636efa\",\"pattern\":{\"shape\":\"\"}},\"name\":\"InvoiceDate\",\"offsetgroup\":\"InvoiceDate\",\"orientation\":\"v\",\"showlegend\":true,\"x\":[\"2010-10-14T12:54:00\",\"2010-11-07T16:29:00\",\"2010-10-03T14:08:00\",\"2010-06-11T11:45:00\",\"2009-12-20T10:08:00\",\"2010-08-01T11:23:00\",\"2010-03-26T12:53:00\",\"2010-11-16T18:07:00\",\"2010-06-27T13:16:00\",\"2010-11-26T16:31:00\",\"2010-11-16T12:22:00\",\"2010-06-04T15:50:00\",\"2009-12-02T12:28:00\",\"2010-01-18T08:58:00\",\"2010-11-17T11:33:00\",\"2010-06-04T14:59:00\",\"2010-05-16T15:39:00\",\"2009-12-10T09:49:00\",\"2010-04-29T13:54:00\",\"2010-07-29T13:55:00\",\"2010-03-30T14:29:00\",\"2009-12-03T19:13:00\",\"2010-05-07T14:28:00\",\"2010-09-12T10:30:00\",\"2010-08-02T14:02:00\",\"2010-09-24T16:06:00\",\"2009-12-10T09:49:00\",\"2010-09-19T13:05:00\",\"2010-04-07T14:10:00\",\"2010-07-22T12:13:00\",\"2010-06-21T15:13:00\",\"2010-06-17T10:47:00\",\"2010-04-30T13:41:00\",\"2010-01-27T09:44:00\",\"2010-06-03T19:47:00\",\"2010-04-29T14:16:00\",\"2010-10-21T18:01:00\",\"2010-10-03T11:52:00\",\"2009-12-10T14:50:00\",\"2010-05-04T15:48:00\",\"2010-09-28T11:50:00\",\"2010-03-25T14:22:00\",\"2010-11-28T13:23:00\",\"2010-11-04T11:55:00\",\"2010-06-29T14:11:00\",\"2010-08-25T13:05:00\",\"2010-08-12T14:53:00\",\"2010-01-26T11:24:00\",\"2009-12-18T17:15:00\",\"2010-04-29T13:54:00\",\"2010-05-27T12:24:00\",\"2010-08-31T12:48:00\",\"2010-10-11T14:05:00\",\"2010-11-21T12:29:00\",\"2010-10-29T14:12:00\",\"2010-11-09T14:13:00\",\"2010-09-07T17:19:00\",\"2010-08-18T11:34:00\",\"2010-11-15T12:43:00\",\"2010-07-09T14:58:00\",\"2010-03-26T14:16:00\",\"2010-02-14T12:22:00\",\"2010-11-21T15:56:00\",\"2010-03-22T14:30:00\",\"2010-06-06T15:01:00\",\"2010-03-07T13:48:00\",\"2010-07-26T11:46:00\",\"2010-06-07T14:46:00\",\"2010-09-14T17:50:00\",\"2009-12-09T14:20:00\",\"2010-08-04T16:07:00\",\"2010-02-21T14:57:00\",\"2010-04-28T11:54:00\",\"2010-08-06T08:57:00\",\"2010-10-18T15:27:00\",\"2010-04-27T12:20:00\",\"2010-01-18T13:15:00\",\"2010-02-02T15:49:00\",\"2010-09-23T10:45:00\",\"2010-07-25T15:44:00\",\"2010-01-14T16:16:00\",\"2009-12-16T13:49:00\",\"2010-08-26T20:07:00\",\"2010-06-28T12:04:00\",\"2010-10-13T10:46:00\",\"2010-09-27T11:41:00\",\"2010-07-16T09:05:00\",\"2010-10-18T09:28:00\",\"2010-11-03T10:47:00\",\"2010-11-04T13:04:00\",\"2010-08-15T12:40:00\",\"2010-06-08T14:10:00\",\"2010-06-29T15:17:00\",\"2010-06-28T08:28:00\",\"2010-09-27T13:22:00\",\"2010-11-07T13:30:00\",\"2010-09-14T13:32:00\",\"2009-12-14T17:16:00\",\"2010-07-25T11:31:00\",\"2010-02-04T08:56:00\",\"2010-03-10T12:17:00\",\"2009-12-09T13:22:00\",\"2010-11-24T16:16:00\",\"2010-04-16T13:34:00\",\"2010-10-14T14:18:00\",\"2010-10-26T14:00:00\",\"2010-04-15T13:03:00\",\"2010-09-24T12:39:00\",\"2010-08-09T13:10:00\",\"2009-12-10T15:56:00\",\"2010-09-02T12:53:00\",\"2009-12-15T14:34:00\",\"2009-12-16T17:34:00\",\"2010-07-01T10:41:00\",\"2010-03-26T14:51:00\",\"2010-11-02T16:20:00\",\"2010-11-02T10:38:00\",\"2010-04-25T13:49:00\",\"2010-10-07T13:21:00\",\"2010-03-30T12:36:00\",\"2010-03-28T14:53:00\",\"2009-12-15T10:36:00\",\"2010-10-05T13:14:00\",\"2010-05-06T15:09:00\",\"2010-10-12T15:46:00\",\"2010-05-27T12:31:00\",\"2010-06-22T16:28:00\",\"2010-08-09T12:28:00\",\"2010-05-10T17:09:00\",\"2010-11-28T10:33:00\",\"2010-09-16T19:17:00\",\"2010-05-05T08:53:00\",\"2010-04-22T09:54:00\",\"2010-01-14T14:48:00\",\"2009-12-10T09:49:00\",\"2010-04-28T13:34:00\",\"2010-03-26T12:53:00\",\"2010-03-29T14:53:00\",\"2010-03-05T09:09:00\",\"2010-04-27T16:45:00\",\"2010-04-27T09:30:00\",\"2010-10-01T10:33:00\",\"2010-03-02T13:09:00\",\"2009-12-14T13:19:00\",\"2010-11-14T16:32:00\",\"2010-08-23T14:38:00\",\"2010-08-24T17:21:00\",\"2010-11-09T12:47:00\",\"2010-10-21T16:30:00\",\"2010-10-28T09:29:00\",\"2010-11-16T14:15:00\",\"2010-02-03T11:58:00\",\"2010-06-09T13:08:00\",\"2009-12-06T15:48:00\",\"2010-09-09T10:50:00\",\"2010-09-02T13:27:00\",\"2010-11-12T14:28:00\",\"2010-06-17T17:41:00\",\"2010-11-30T12:05:00\",\"2010-09-02T17:52:00\",\"2010-07-28T14:54:00\",\"2010-11-02T18:08:00\",\"2010-04-13T16:33:00\",\"2010-10-31T14:40:00\",\"2009-12-01T12:52:00\",\"2010-07-02T15:55:00\",\"2010-09-02T14:33:00\",\"2009-12-06T12:17:00\",\"2010-04-07T16:13:00\",\"2010-02-22T12:05:00\",\"2010-05-24T10:44:00\",\"2010-08-18T16:54:00\",\"2010-10-04T12:36:00\",\"2010-12-06T14:36:00\",\"2010-03-19T11:10:00\",\"2010-11-03T13:13:00\",\"2010-09-16T14:34:00\",\"2010-02-28T10:25:00\",\"2010-05-20T13:41:00\",\"2010-03-25T12:43:00\",\"2010-06-07T11:32:00\",\"2010-01-28T12:36:00\",\"2010-12-09T14:09:00\",\"2010-08-08T12:35:00\",\"2010-09-27T12:50:00\",\"2010-04-16T15:55:00\",\"2010-06-22T14:21:00\",\"2010-03-03T08:42:00\",\"2010-09-29T12:41:00\",\"2010-05-13T16:49:00\",\"2010-06-01T16:06:00\",\"2010-07-06T14:38:00\",\"2010-09-28T16:12:00\",\"2010-03-10T10:25:00\",\"2010-11-02T14:02:00\",\"2009-12-05T12:36:00\",\"2010-11-25T13:29:00\",\"2010-01-07T10:57:00\",\"2010-02-23T12:26:00\",\"2010-03-03T17:18:00\",\"2010-02-01T13:25:00\",\"2010-11-01T16:45:00\",\"2010-11-16T12:22:00\",\"2010-12-06T14:51:00\",\"2010-01-06T10:17:00\",\"2010-03-26T14:01:00\",\"2010-01-14T18:56:00\",\"2010-06-17T12:21:00\",\"2010-09-21T15:46:00\",\"2010-04-28T15:00:00\",\"2010-09-23T14:47:00\",\"2010-04-19T10:43:00\",\"2010-11-09T10:35:00\",\"2009-12-23T13:00:00\",\"2010-02-02T10:06:00\",\"2010-06-30T11:32:00\",\"2010-10-20T14:42:00\",\"2010-06-02T14:48:00\",\"2010-01-28T14:31:00\",\"2010-05-30T15:58:00\",\"2010-05-25T10:14:00\",\"2010-11-07T12:03:00\",\"2010-11-01T13:33:00\",\"2010-04-27T13:48:00\",\"2009-12-17T12:04:00\",\"2010-12-07T15:28:00\",\"2010-04-20T16:00:00\",\"2010-12-06T13:41:00\",\"2009-12-17T12:32:00\",\"2010-08-04T15:52:00\",\"2010-01-04T12:57:00\",\"2010-06-09T14:13:00\",\"2010-03-18T14:14:00\",\"2010-04-06T15:10:00\",\"2010-11-24T10:30:00\",\"2010-10-18T17:11:00\",\"2010-04-09T17:13:00\",\"2010-11-29T16:45:00\",\"2010-07-02T08:26:00\",\"2010-06-15T14:42:00\",\"2010-10-11T11:34:00\",\"2010-09-02T17:52:00\",\"2010-03-10T13:08:00\",\"2010-11-01T11:35:00\",\"2010-11-09T14:13:00\",\"2009-12-04T10:57:00\",\"2010-08-11T15:46:00\",\"2010-03-25T12:39:00\",\"2010-07-05T11:54:00\",\"2010-04-13T11:43:00\",\"2010-03-07T16:12:00\",\"2010-10-11T13:49:00\",\"2010-09-30T11:45:00\",\"2009-12-03T10:20:00\",\"2010-11-28T11:33:00\",\"2010-04-26T10:31:00\",\"2010-05-18T15:13:00\",\"2010-07-19T16:10:00\",\"2010-10-14T13:09:00\",\"2010-08-22T16:07:00\",\"2010-08-31T12:41:00\",\"2009-12-02T15:08:00\",\"2010-05-04T11:51:00\",\"2010-06-04T12:23:00\",\"2010-10-06T14:34:00\",\"2010-10-24T13:57:00\",\"2010-10-12T15:46:00\",\"2010-11-07T12:04:00\",\"2010-05-24T12:25:00\",\"2010-11-11T15:49:00\",\"2010-11-22T13:02:00\",\"2010-06-25T13:35:00\",\"2009-12-11T13:52:00\",\"2010-02-21T12:43:00\",\"2010-09-24T16:06:00\",\"2010-05-06T20:01:00\",\"2010-04-28T11:55:00\",\"2010-06-08T14:52:00\",\"2010-08-12T10:12:00\",\"2010-07-15T11:44:00\",\"2010-04-07T11:04:00\",\"2010-02-07T13:30:00\",\"2010-12-08T13:18:00\",\"2010-08-15T11:22:00\",\"2010-11-22T11:37:00\",\"2010-08-31T12:35:00\",\"2010-10-07T16:14:00\",\"2010-08-19T16:19:00\",\"2010-12-06T09:58:00\",\"2010-05-20T17:57:00\",\"2010-09-27T12:45:00\",\"2010-03-26T14:01:00\",\"2010-05-14T12:52:00\",\"2010-11-24T12:43:00\",\"2010-03-21T11:32:00\",\"2010-08-04T10:52:00\",\"2010-05-07T17:28:00\",\"2010-07-08T13:07:00\",\"2010-08-03T12:55:00\",\"2009-12-06T15:41:00\",\"2010-07-19T12:53:00\",\"2010-02-17T14:34:00\",\"2010-08-11T12:20:00\",\"2010-10-26T13:44:00\",\"2010-11-14T12:07:00\",\"2010-10-07T10:19:00\",\"2010-07-08T15:14:00\",\"2010-06-07T10:54:00\",\"2010-02-09T09:47:00\",\"2009-12-16T15:13:00\",\"2010-01-13T17:51:00\",\"2010-06-24T11:31:00\",\"2010-02-28T15:01:00\",\"2010-03-24T13:30:00\",\"2010-08-12T17:01:00\",\"2010-06-14T13:35:00\",\"2009-12-07T12:32:00\",\"2010-04-23T10:20:00\",\"2010-01-14T14:32:00\",\"2009-12-01T17:08:00\",\"2010-03-23T15:47:00\",\"2010-11-16T13:04:00\",\"2010-04-08T11:20:00\",\"2010-06-22T16:28:00\",\"2010-08-24T11:57:00\",\"2010-04-26T16:21:00\",\"2010-11-08T12:28:00\",\"2009-12-02T14:36:00\",\"2010-03-30T14:29:00\",\"2010-10-05T13:48:00\",\"2010-10-18T13:18:00\",\"2010-03-23T14:06:00\",\"2010-06-17T13:48:00\",\"2010-04-11T13:09:00\",\"2010-01-13T17:44:00\",\"2010-01-20T13:10:00\",\"2010-10-01T12:17:00\",\"2010-09-13T10:46:00\",\"2010-09-08T13:57:00\",\"2010-01-24T12:15:00\",\"2010-06-23T13:16:00\",\"2010-09-13T17:25:00\",\"2010-04-15T12:20:00\",\"2010-09-24T13:30:00\",\"2010-02-23T13:59:00\",\"2010-06-27T13:09:00\",\"2010-04-19T11:19:00\",\"2010-11-23T14:06:00\",\"2010-04-28T09:18:00\",\"2010-07-29T16:35:00\",\"2010-11-30T13:02:00\",\"2010-05-02T15:10:00\",\"2010-10-07T14:11:00\",\"2010-11-26T15:51:00\",\"2010-12-02T15:46:00\",\"2010-10-20T11:58:00\",\"2010-11-12T15:46:00\",\"2010-01-29T17:55:00\",\"2010-10-18T15:27:00\",\"2010-04-29T17:01:00\",\"2010-07-01T12:02:00\",\"2010-08-23T15:44:00\",\"2010-10-10T10:49:00\",\"2010-09-13T12:56:00\",\"2010-03-16T13:44:00\",\"2009-12-22T15:06:00\",\"2010-12-05T12:57:00\",\"2010-11-10T16:40:00\",\"2010-06-14T14:06:00\",\"2010-06-21T12:17:00\",\"2010-05-04T15:48:00\",\"2010-01-10T12:43:00\",\"2010-11-12T15:05:00\",\"2010-04-18T12:49:00\",\"2010-03-24T16:33:00\",\"2010-11-25T19:16:00\",\"2010-02-02T13:13:00\",\"2010-08-29T15:07:00\",\"2010-01-13T17:08:00\",\"2010-01-11T09:31:00\",\"2010-12-01T14:32:00\",\"2010-06-20T16:06:00\",\"2010-01-14T15:10:00\",\"2010-09-28T15:07:00\",\"2010-03-12T11:19:00\",\"2010-06-15T12:14:00\",\"2010-04-19T11:13:00\",\"2010-05-19T15:24:00\",\"2010-07-30T17:08:00\",\"2010-01-26T10:25:00\",\"2010-05-10T13:43:00\",\"2010-10-15T15:46:00\",\"2010-09-03T14:22:00\",\"2010-11-12T12:15:00\",\"2010-02-22T14:28:00\",\"2010-06-09T11:23:00\",\"2010-11-03T09:36:00\",\"2010-09-29T13:44:00\",\"2010-11-12T09:18:00\",\"2010-02-14T13:39:00\",\"2010-10-14T17:44:00\",\"2010-07-28T09:41:00\",\"2010-12-06T16:57:00\",\"2010-10-26T12:54:00\",\"2010-11-23T11:26:00\",\"2010-03-08T16:30:00\",\"2010-08-12T13:38:00\",\"2010-08-31T15:36:00\",\"2010-11-12T15:20:00\",\"2010-10-17T16:16:00\",\"2010-03-02T12:18:00\",\"2010-11-12T17:00:00\",\"2010-02-18T12:36:00\",\"2010-03-10T10:50:00\",\"2010-11-23T16:53:00\",\"2010-03-31T13:22:00\",\"2010-10-11T14:32:00\",\"2009-12-06T12:52:00\",\"2010-03-07T13:00:00\",\"2010-09-28T15:51:00\",\"2010-03-29T17:17:00\",\"2009-12-16T16:04:00\",\"2010-11-15T15:10:00\",\"2010-02-02T10:15:00\",\"2010-09-13T11:28:00\",\"2010-05-07T14:02:00\",\"2010-03-16T10:58:00\",\"2010-03-22T15:52:00\",\"2010-10-13T10:53:00\",\"2010-05-06T16:27:00\",\"2010-11-15T12:17:00\",\"2010-07-15T11:47:00\",\"2010-06-29T13:12:00\",\"2010-04-21T15:04:00\",\"2010-11-07T12:28:00\",\"2010-11-25T15:19:00\",\"2010-07-26T14:32:00\",\"2010-03-30T15:47:00\",\"2010-10-20T10:50:00\",\"2010-11-12T09:18:00\",\"2010-06-07T15:31:00\",\"2010-08-22T14:31:00\",\"2009-12-03T20:03:00\",\"2009-12-16T17:01:00\",\"2010-08-10T12:06:00\",\"2010-09-17T13:20:00\",\"2010-06-17T13:48:00\",\"2010-03-09T14:16:00\",\"2010-06-11T12:45:00\",\"2010-08-10T16:10:00\",\"2010-08-16T15:31:00\",\"2010-11-11T14:08:00\",\"2010-08-04T14:50:00\",\"2009-12-09T09:51:00\",\"2010-12-05T12:43:00\",\"2010-11-23T16:18:00\",\"2009-12-04T09:43:00\",\"2010-08-17T11:52:00\",\"2009-12-04T11:07:00\",\"2010-10-25T16:57:00\",\"2010-07-29T19:56:00\",\"2010-10-14T10:00:00\",\"2010-03-14T13:40:00\",\"2010-11-16T13:04:00\",\"2010-10-18T12:49:00\",\"2010-06-10T17:27:00\",\"2010-01-21T09:37:00\",\"2010-06-09T14:43:00\",\"2010-04-18T14:35:00\",\"2010-01-04T12:30:00\",\"2010-12-03T11:36:00\",\"2009-12-10T19:35:00\",\"2010-02-05T08:43:00\",\"2010-07-09T14:55:00\",\"2010-06-15T11:46:00\",\"2010-06-15T15:23:00\",\"2010-04-18T12:05:00\",\"2010-08-16T12:00:00\",\"2010-03-19T17:13:00\",\"2009-12-03T19:31:00\",\"2010-11-14T11:54:00\",\"2010-11-24T12:04:00\",\"2010-10-25T16:57:00\",\"2010-08-18T16:54:00\",\"2009-12-08T12:38:00\",\"2010-06-10T13:52:00\",\"2010-09-29T13:08:00\",\"2010-07-07T16:29:00\",\"2010-09-09T12:37:00\",\"2010-09-06T10:19:00\",\"2010-04-20T11:30:00\",\"2010-11-24T13:56:00\",\"2010-11-11T13:26:00\",\"2010-06-08T14:52:00\",\"2010-08-02T15:26:00\",\"2010-08-08T10:46:00\",\"2010-08-12T14:32:00\",\"2010-05-28T12:37:00\",\"2009-12-16T17:01:00\",\"2010-01-25T15:23:00\",\"2010-06-07T14:48:00\",\"2010-09-29T10:26:00\",\"2010-10-01T14:07:00\",\"2010-04-23T16:16:00\",\"2010-08-15T14:01:00\",\"2010-05-26T11:12:00\",\"2009-12-13T13:53:00\",\"2010-01-05T10:18:00\",\"2010-04-23T13:12:00\",\"2010-10-05T13:21:00\",\"2010-03-12T15:13:00\",\"2010-06-03T09:29:00\",\"2010-05-28T12:11:00\",\"2009-12-01T09:08:00\",\"2010-10-11T13:53:00\",\"2010-11-05T10:23:00\",\"2010-01-20T17:50:00\",\"2010-03-16T16:18:00\",\"2010-06-18T13:22:00\",\"2010-06-01T12:00:00\",\"2009-12-09T09:51:00\",\"2010-07-01T14:24:00\",\"2010-11-10T16:38:00\",\"2009-12-10T18:27:00\",\"2010-09-20T11:45:00\",\"2010-03-12T11:19:00\",\"2010-10-20T15:25:00\",\"2010-08-31T12:41:00\",\"2010-06-16T14:34:00\",\"2010-07-16T09:24:00\",\"2010-03-26T11:37:00\",\"2010-10-07T14:28:00\",\"2009-12-01T14:28:00\",\"2010-05-30T13:35:00\",\"2010-07-15T14:08:00\",\"2010-05-25T13:21:00\",\"2010-10-07T10:19:00\",\"2010-10-28T18:54:00\",\"2010-07-27T12:39:00\",\"2010-01-08T15:16:00\",\"2010-08-16T12:36:00\",\"2010-05-04T12:16:00\",\"2010-11-25T19:36:00\",\"2010-09-22T11:37:00\",\"2010-01-28T12:20:00\",\"2010-01-28T15:51:00\",\"2010-03-09T14:32:00\",\"2010-10-07T10:37:00\",\"2010-06-09T12:11:00\",\"2010-01-31T12:15:00\",\"2010-02-15T14:47:00\",\"2010-11-25T13:51:00\",\"2010-02-19T17:40:00\",\"2010-03-02T11:33:00\",\"2010-01-04T12:30:00\",\"2010-02-01T13:45:00\",\"2010-10-19T09:10:00\",\"2010-01-21T11:51:00\",\"2010-06-09T14:41:00\",\"2010-06-24T16:25:00\",\"2010-01-14T14:06:00\",\"2010-11-25T14:03:00\",\"2010-06-03T17:15:00\",\"2010-08-26T12:35:00\",\"2010-11-12T15:20:00\",\"2010-06-17T13:48:00\",\"2010-06-21T13:18:00\",\"2010-11-26T13:22:00\",\"2010-12-05T12:26:00\",\"2010-10-03T14:13:00\",\"2010-01-07T11:22:00\",\"2010-04-29T11:18:00\",\"2010-01-14T16:16:00\",\"2010-01-18T12:55:00\",\"2010-09-20T12:15:00\",\"2010-11-07T13:08:00\",\"2010-01-19T15:45:00\",\"2009-12-15T17:05:00\",\"2010-02-08T11:06:00\",\"2010-01-20T10:48:00\",\"2010-10-31T14:09:00\",\"2010-03-21T12:20:00\",\"2010-08-17T12:03:00\",\"2010-02-15T11:22:00\",\"2010-11-21T12:40:00\",\"2010-02-17T12:12:00\",\"2009-12-06T10:26:00\",\"2010-11-25T13:18:00\",\"2010-10-14T18:02:00\",\"2010-06-16T16:04:00\",\"2010-10-10T16:01:00\",\"2010-01-25T13:14:00\",\"2010-10-27T08:36:00\",\"2010-12-03T15:05:00\",\"2010-07-21T14:43:00\",\"2010-05-07T14:56:00\",\"2010-05-19T14:22:00\",\"2010-11-08T14:19:00\",\"2010-12-08T12:17:00\",\"2010-10-21T15:38:00\",\"2010-09-14T16:15:00\",\"2010-09-16T12:27:00\",\"2010-08-03T14:23:00\",\"2010-11-17T12:44:00\",\"2010-05-06T11:44:00\",\"2010-08-08T14:37:00\",\"2010-04-22T12:58:00\",\"2010-03-07T12:06:00\",\"2010-10-24T11:18:00\",\"2010-10-27T14:05:00\",\"2010-07-19T12:17:00\",\"2010-11-03T13:47:00\",\"2010-02-25T13:23:00\",\"2010-08-18T16:54:00\",\"2010-08-16T14:59:00\",\"2010-06-06T15:01:00\",\"2010-06-15T12:22:00\",\"2010-08-17T12:03:00\",\"2010-07-04T13:10:00\",\"2010-11-19T12:56:00\",\"2010-09-28T14:44:00\",\"2009-12-22T09:41:00\",\"2010-06-14T16:25:00\",\"2010-01-04T09:24:00\",\"2010-08-26T15:42:00\",\"2010-04-25T11:43:00\",\"2010-06-04T14:54:00\",\"2010-07-14T13:01:00\",\"2009-12-16T17:01:00\",\"2010-09-23T13:26:00\",\"2010-11-10T13:23:00\",\"2010-10-18T12:58:00\",\"2010-04-25T11:43:00\",\"2010-04-06T12:39:00\",\"2010-11-17T09:22:00\",\"2010-06-09T10:52:00\",\"2010-06-17T09:30:00\",\"2010-08-23T11:58:00\",\"2010-10-31T12:36:00\",\"2009-12-16T17:36:00\",\"2010-11-30T17:43:00\",\"2010-03-23T12:18:00\",\"2010-09-02T13:29:00\",\"2010-09-07T09:31:00\",\"2010-02-17T12:03:00\",\"2010-11-17T16:48:00\",\"2010-10-20T17:12:00\",\"2010-04-15T16:35:00\",\"2010-11-19T13:07:00\",\"2010-09-19T16:20:00\",\"2010-12-09T14:19:00\",\"2010-02-28T14:12:00\",\"2010-04-07T10:36:00\",\"2010-08-15T13:26:00\",\"2010-03-01T09:58:00\",\"2010-02-19T17:40:00\",\"2010-10-07T14:24:00\",\"2010-02-08T15:11:00\",\"2010-10-18T14:07:00\",\"2010-06-15T12:11:00\",\"2010-09-10T13:27:00\",\"2010-08-18T11:34:00\",\"2010-05-27T11:11:00\",\"2009-12-10T18:27:00\",\"2010-10-05T17:55:00\",\"2010-07-20T09:04:00\",\"2010-05-28T10:08:00\",\"2010-07-04T13:31:00\",\"2010-07-08T10:07:00\",\"2010-01-22T14:17:00\",\"2009-12-15T17:25:00\",\"2010-08-03T10:30:00\",\"2009-12-22T09:41:00\",\"2009-12-03T13:09:00\",\"2010-04-28T14:25:00\",\"2009-12-04T10:57:00\",\"2010-11-03T09:36:00\",\"2010-03-12T10:41:00\",\"2010-09-02T14:52:00\",\"2010-11-28T14:13:00\",\"2010-09-16T14:52:00\",\"2010-04-23T11:43:00\",\"2010-10-22T14:04:00\",\"2009-12-22T15:13:00\",\"2010-11-23T16:53:00\",\"2010-03-29T11:49:00\",\"2010-11-10T12:09:00\",\"2010-06-14T12:41:00\",\"2010-09-28T09:13:00\",\"2010-03-09T14:16:00\",\"2010-08-22T12:52:00\",\"2010-10-19T12:50:00\",\"2010-03-25T13:16:00\",\"2010-02-14T15:30:00\",\"2010-08-29T10:16:00\",\"2010-08-25T11:35:00\",\"2010-10-26T12:14:00\",\"2010-06-02T11:54:00\",\"2009-12-16T17:01:00\",\"2010-10-20T13:42:00\",\"2010-02-08T16:53:00\",\"2009-12-07T15:15:00\",\"2010-01-26T13:04:00\",\"2010-11-17T09:22:00\",\"2010-02-16T14:32:00\",\"2010-01-29T11:45:00\",\"2010-10-11T11:34:00\",\"2009-12-13T13:31:00\",\"2010-10-29T12:07:00\",\"2010-04-29T15:34:00\",\"2010-04-11T16:06:00\",\"2010-11-29T12:06:00\",\"2010-03-23T08:40:00\",\"2010-03-30T10:55:00\",\"2010-01-26T10:25:00\",\"2010-08-03T14:38:00\",\"2010-10-13T13:12:00\",\"2010-10-18T17:11:00\",\"2010-04-19T11:13:00\",\"2009-12-02T15:15:00\",\"2010-07-15T12:30:00\",\"2010-11-23T09:12:00\",\"2010-10-28T10:16:00\",\"2010-10-15T16:04:00\",\"2010-10-19T16:38:00\",\"2010-05-12T12:09:00\",\"2010-08-22T11:47:00\",\"2010-11-12T09:18:00\",\"2009-12-07T18:02:00\",\"2010-10-07T12:30:00\",\"2010-10-12T13:19:00\",\"2010-09-23T12:19:00\",\"2010-10-29T14:12:00\",\"2010-05-19T11:59:00\",\"2010-07-02T13:25:00\",\"2010-08-13T17:13:00\",\"2010-10-13T14:57:00\",\"2010-11-14T16:12:00\",\"2010-10-20T12:53:00\",\"2010-01-06T12:16:00\",\"2010-03-04T12:06:00\",\"2010-11-25T11:04:00\",\"2009-12-22T09:52:00\",\"2010-10-18T09:28:00\",\"2010-07-08T11:42:00\",\"2010-11-12T15:40:00\",\"2010-08-03T13:03:00\",\"2010-09-13T15:12:00\",\"2010-11-15T09:32:00\",\"2010-02-17T11:27:00\",\"2010-07-11T15:34:00\",\"2009-12-01T09:50:00\",\"2010-05-16T16:05:00\",\"2010-11-25T13:36:00\",\"2010-03-08T13:17:00\",\"2010-04-09T16:54:00\",\"2010-05-17T14:17:00\",\"2010-02-02T16:42:00\",\"2010-06-14T14:49:00\",\"2010-02-23T14:16:00\",\"2010-06-14T12:01:00\",\"2010-01-24T12:15:00\",\"2010-05-24T12:01:00\",\"2010-10-06T14:40:00\",\"2009-12-18T12:59:00\",\"2010-04-30T17:18:00\",\"2010-02-22T17:10:00\",\"2010-10-11T13:57:00\",\"2010-09-27T09:55:00\",\"2010-06-03T09:06:00\",\"2010-08-03T15:17:00\",\"2010-06-27T13:09:00\",\"2010-09-30T17:18:00\",\"2010-08-15T16:00:00\",\"2009-12-17T15:44:00\",\"2010-11-22T15:24:00\",\"2010-06-24T11:46:00\",\"2010-05-19T15:10:00\",\"2010-04-11T14:28:00\",\"2010-03-19T13:41:00\",\"2010-06-16T12:48:00\",\"2010-02-02T13:13:00\",\"2010-11-21T16:02:00\",\"2010-10-01T11:43:00\",\"2010-04-13T13:33:00\",\"2010-06-23T13:19:00\",\"2010-03-01T14:01:00\",\"2010-12-09T16:35:00\",\"2010-02-01T17:18:00\",\"2010-04-28T16:26:00\",\"2010-09-27T12:50:00\",\"2010-11-21T16:13:00\",\"2010-05-27T12:17:00\",\"2010-03-03T16:33:00\",\"2010-02-17T12:03:00\",\"2010-03-01T15:36:00\",\"2010-03-03T15:28:00\",\"2010-11-17T09:22:00\",\"2010-11-03T09:36:00\",\"2010-02-01T14:52:00\",\"2010-04-06T16:37:00\",\"2010-02-23T14:48:00\",\"2010-06-14T11:24:00\",\"2010-09-24T12:18:00\",\"2010-11-12T14:02:00\",\"2009-12-16T12:29:00\",\"2010-07-26T10:35:00\",\"2010-01-12T17:24:00\",\"2010-11-08T09:56:00\",\"2010-06-16T14:26:00\",\"2010-03-24T10:28:00\",\"2010-10-24T12:51:00\",\"2010-10-13T10:46:00\",\"2010-07-14T12:19:00\",\"2010-12-05T12:53:00\",\"2010-11-23T12:00:00\",\"2010-10-08T11:45:00\",\"2010-03-19T14:05:00\",\"2010-11-24T15:23:00\",\"2010-03-31T17:28:00\",\"2010-09-13T14:26:00\",\"2010-11-09T15:20:00\",\"2010-11-10T14:48:00\",\"2009-12-22T14:31:00\",\"2010-05-06T10:04:00\",\"2010-03-08T16:30:00\",\"2010-10-05T10:35:00\",\"2010-12-05T12:35:00\",\"2010-11-04T18:00:00\",\"2010-08-12T16:41:00\",\"2010-11-24T15:03:00\",\"2010-10-28T09:29:00\",\"2010-10-08T17:28:00\",\"2010-09-19T16:18:00\",\"2010-09-17T14:54:00\",\"2010-12-07T15:31:00\",\"2010-09-02T17:52:00\",\"2010-11-05T11:58:00\",\"2010-12-05T15:15:00\",\"2009-12-04T17:31:00\",\"2010-09-05T11:59:00\",\"2010-11-10T10:50:00\",\"2010-03-26T14:01:00\",\"2010-05-18T11:40:00\",\"2010-10-20T10:22:00\",\"2010-02-14T14:10:00\",\"2010-03-29T16:47:00\",\"2010-05-13T15:41:00\",\"2010-05-26T14:38:00\",\"2010-01-15T13:15:00\",\"2010-01-25T13:22:00\",\"2010-09-21T12:49:00\",\"2010-11-10T15:20:00\",\"2010-03-04T10:14:00\",\"2010-03-10T10:50:00\",\"2010-02-15T13:27:00\",\"2010-06-15T12:35:00\",\"2010-08-11T16:44:00\",\"2010-11-16T13:03:00\",\"2010-02-22T11:42:00\",\"2009-12-21T17:14:00\",\"2010-07-27T13:52:00\",\"2010-11-10T11:47:00\",\"2010-12-02T16:34:00\",\"2010-10-08T10:23:00\",\"2010-04-14T10:13:00\",\"2009-12-17T13:36:00\",\"2010-05-07T16:46:00\",\"2010-03-03T12:16:00\",\"2010-04-23T16:16:00\",\"2010-09-09T15:49:00\",\"2010-06-16T14:12:00\",\"2010-10-18T16:52:00\",\"2010-10-29T08:23:00\",\"2010-10-24T10:41:00\",\"2010-11-12T12:44:00\",\"2010-11-01T09:33:00\",\"2010-01-07T13:07:00\",\"2010-04-26T11:57:00\",\"2010-07-20T09:04:00\",\"2010-10-05T13:01:00\",\"2010-02-26T10:11:00\",\"2010-07-07T09:39:00\",\"2009-12-04T14:29:00\",\"2010-08-15T14:01:00\",\"2010-02-25T15:07:00\",\"2010-05-24T14:55:00\",\"2010-10-31T13:12:00\",\"2010-05-05T14:42:00\",\"2010-03-25T13:55:00\",\"2010-11-14T16:16:00\",\"2010-01-18T12:48:00\",\"2010-03-31T17:28:00\",\"2010-08-04T10:57:00\",\"2010-04-01T14:52:00\",\"2010-03-15T16:05:00\",\"2010-04-30T15:57:00\",\"2010-10-12T16:38:00\",\"2010-09-24T12:43:00\",\"2010-04-01T15:04:00\",\"2010-03-15T16:13:00\",\"2010-12-06T16:57:00\",\"2010-01-27T16:41:00\",\"2010-11-30T12:05:00\",\"2010-04-18T11:24:00\",\"2010-05-05T14:42:00\",\"2010-05-06T16:50:00\",\"2010-06-06T15:47:00\",\"2010-11-10T13:08:00\",\"2010-04-13T13:26:00\",\"2010-03-23T11:01:00\",\"2010-04-25T13:40:00\",\"2010-10-24T10:33:00\",\"2010-01-29T13:53:00\",\"2010-08-22T14:31:00\",\"2010-11-22T15:50:00\",\"2010-02-09T12:01:00\",\"2010-01-25T13:14:00\",\"2010-08-26T12:10:00\",\"2010-11-16T12:50:00\",\"2010-04-15T13:52:00\",\"2010-03-08T12:35:00\",\"2010-01-14T17:43:00\",\"2010-10-01T10:24:00\",\"2010-04-25T15:48:00\",\"2010-12-09T19:28:00\",\"2010-01-31T15:47:00\",\"2010-09-06T11:32:00\",\"2010-11-23T13:59:00\",\"2010-07-29T11:22:00\",\"2010-10-21T10:46:00\",\"2010-11-04T13:04:00\",\"2010-08-10T11:49:00\",\"2010-11-25T15:19:00\",\"2010-01-11T12:29:00\",\"2010-08-06T09:18:00\",\"2010-05-06T15:17:00\",\"2010-08-10T13:28:00\",\"2010-11-01T11:48:00\",\"2010-06-28T11:39:00\",\"2010-10-06T12:36:00\",\"2010-04-18T12:31:00\",\"2010-11-11T12:50:00\",\"2010-12-08T14:25:00\",\"2010-10-17T13:02:00\",\"2009-12-09T15:16:00\",\"2009-12-21T11:08:00\",\"2010-08-27T13:53:00\",\"2010-10-10T13:31:00\",\"2010-03-12T11:19:00\",\"2010-09-09T10:37:00\",\"2010-01-25T09:53:00\",\"2010-10-18T12:11:00\",\"2010-08-31T14:40:00\",\"2010-07-29T18:30:00\",\"2010-05-11T13:30:00\",\"2010-01-05T11:29:00\",\"2010-11-12T09:18:00\",\"2010-09-24T12:31:00\",\"2010-11-15T12:50:00\",\"2010-12-09T14:09:00\",\"2010-01-26T12:30:00\",\"2010-02-08T16:23:00\",\"2010-02-28T15:01:00\",\"2010-02-25T13:40:00\",\"2010-10-26T10:34:00\",\"2010-02-17T14:39:00\",\"2010-09-05T15:27:00\",\"2010-09-01T17:17:00\",\"2010-04-21T15:34:00\",\"2010-06-24T12:49:00\",\"2010-02-03T08:15:00\",\"2010-11-10T12:09:00\",\"2010-10-07T16:48:00\",\"2010-04-16T12:43:00\",\"2010-04-01T12:26:00\",\"2010-10-26T14:47:00\",\"2010-10-17T16:06:00\",\"2010-11-04T14:49:00\",\"2010-11-05T12:09:00\",\"2010-10-07T09:12:00\",\"2010-03-07T14:50:00\",\"2010-10-19T12:15:00\",\"2010-03-03T14:20:00\",\"2009-12-10T17:09:00\",\"2010-11-02T13:57:00\",\"2010-08-01T13:48:00\",\"2010-01-05T12:20:00\",\"2010-01-14T18:56:00\",\"2010-11-16T15:46:00\",\"2010-10-07T14:28:00\",\"2010-03-31T12:21:00\",\"2009-12-02T14:34:00\",\"2010-04-14T13:50:00\",\"2010-12-01T15:08:00\",\"2010-04-29T10:54:00\",\"2010-11-29T10:50:00\",\"2010-10-10T13:38:00\",\"2010-01-21T14:01:00\",\"2010-05-10T09:55:00\"],\"xaxis\":\"x\",\"yaxis\":\"y\",\"type\":\"histogram\"},{\"alignmentgroup\":\"True\",\"hovertemplate\":\"variable=InvoiceDate<br>value=%{x}<extra></extra>\",\"legendgroup\":\"InvoiceDate\",\"marker\":{\"color\":\"#636efa\"},\"name\":\"InvoiceDate\",\"notched\":true,\"offsetgroup\":\"InvoiceDate\",\"showlegend\":false,\"x\":[\"2010-10-14T12:54:00\",\"2010-11-07T16:29:00\",\"2010-10-03T14:08:00\",\"2010-06-11T11:45:00\",\"2009-12-20T10:08:00\",\"2010-08-01T11:23:00\",\"2010-03-26T12:53:00\",\"2010-11-16T18:07:00\",\"2010-06-27T13:16:00\",\"2010-11-26T16:31:00\",\"2010-11-16T12:22:00\",\"2010-06-04T15:50:00\",\"2009-12-02T12:28:00\",\"2010-01-18T08:58:00\",\"2010-11-17T11:33:00\",\"2010-06-04T14:59:00\",\"2010-05-16T15:39:00\",\"2009-12-10T09:49:00\",\"2010-04-29T13:54:00\",\"2010-07-29T13:55:00\",\"2010-03-30T14:29:00\",\"2009-12-03T19:13:00\",\"2010-05-07T14:28:00\",\"2010-09-12T10:30:00\",\"2010-08-02T14:02:00\",\"2010-09-24T16:06:00\",\"2009-12-10T09:49:00\",\"2010-09-19T13:05:00\",\"2010-04-07T14:10:00\",\"2010-07-22T12:13:00\",\"2010-06-21T15:13:00\",\"2010-06-17T10:47:00\",\"2010-04-30T13:41:00\",\"2010-01-27T09:44:00\",\"2010-06-03T19:47:00\",\"2010-04-29T14:16:00\",\"2010-10-21T18:01:00\",\"2010-10-03T11:52:00\",\"2009-12-10T14:50:00\",\"2010-05-04T15:48:00\",\"2010-09-28T11:50:00\",\"2010-03-25T14:22:00\",\"2010-11-28T13:23:00\",\"2010-11-04T11:55:00\",\"2010-06-29T14:11:00\",\"2010-08-25T13:05:00\",\"2010-08-12T14:53:00\",\"2010-01-26T11:24:00\",\"2009-12-18T17:15:00\",\"2010-04-29T13:54:00\",\"2010-05-27T12:24:00\",\"2010-08-31T12:48:00\",\"2010-10-11T14:05:00\",\"2010-11-21T12:29:00\",\"2010-10-29T14:12:00\",\"2010-11-09T14:13:00\",\"2010-09-07T17:19:00\",\"2010-08-18T11:34:00\",\"2010-11-15T12:43:00\",\"2010-07-09T14:58:00\",\"2010-03-26T14:16:00\",\"2010-02-14T12:22:00\",\"2010-11-21T15:56:00\",\"2010-03-22T14:30:00\",\"2010-06-06T15:01:00\",\"2010-03-07T13:48:00\",\"2010-07-26T11:46:00\",\"2010-06-07T14:46:00\",\"2010-09-14T17:50:00\",\"2009-12-09T14:20:00\",\"2010-08-04T16:07:00\",\"2010-02-21T14:57:00\",\"2010-04-28T11:54:00\",\"2010-08-06T08:57:00\",\"2010-10-18T15:27:00\",\"2010-04-27T12:20:00\",\"2010-01-18T13:15:00\",\"2010-02-02T15:49:00\",\"2010-09-23T10:45:00\",\"2010-07-25T15:44:00\",\"2010-01-14T16:16:00\",\"2009-12-16T13:49:00\",\"2010-08-26T20:07:00\",\"2010-06-28T12:04:00\",\"2010-10-13T10:46:00\",\"2010-09-27T11:41:00\",\"2010-07-16T09:05:00\",\"2010-10-18T09:28:00\",\"2010-11-03T10:47:00\",\"2010-11-04T13:04:00\",\"2010-08-15T12:40:00\",\"2010-06-08T14:10:00\",\"2010-06-29T15:17:00\",\"2010-06-28T08:28:00\",\"2010-09-27T13:22:00\",\"2010-11-07T13:30:00\",\"2010-09-14T13:32:00\",\"2009-12-14T17:16:00\",\"2010-07-25T11:31:00\",\"2010-02-04T08:56:00\",\"2010-03-10T12:17:00\",\"2009-12-09T13:22:00\",\"2010-11-24T16:16:00\",\"2010-04-16T13:34:00\",\"2010-10-14T14:18:00\",\"2010-10-26T14:00:00\",\"2010-04-15T13:03:00\",\"2010-09-24T12:39:00\",\"2010-08-09T13:10:00\",\"2009-12-10T15:56:00\",\"2010-09-02T12:53:00\",\"2009-12-15T14:34:00\",\"2009-12-16T17:34:00\",\"2010-07-01T10:41:00\",\"2010-03-26T14:51:00\",\"2010-11-02T16:20:00\",\"2010-11-02T10:38:00\",\"2010-04-25T13:49:00\",\"2010-10-07T13:21:00\",\"2010-03-30T12:36:00\",\"2010-03-28T14:53:00\",\"2009-12-15T10:36:00\",\"2010-10-05T13:14:00\",\"2010-05-06T15:09:00\",\"2010-10-12T15:46:00\",\"2010-05-27T12:31:00\",\"2010-06-22T16:28:00\",\"2010-08-09T12:28:00\",\"2010-05-10T17:09:00\",\"2010-11-28T10:33:00\",\"2010-09-16T19:17:00\",\"2010-05-05T08:53:00\",\"2010-04-22T09:54:00\",\"2010-01-14T14:48:00\",\"2009-12-10T09:49:00\",\"2010-04-28T13:34:00\",\"2010-03-26T12:53:00\",\"2010-03-29T14:53:00\",\"2010-03-05T09:09:00\",\"2010-04-27T16:45:00\",\"2010-04-27T09:30:00\",\"2010-10-01T10:33:00\",\"2010-03-02T13:09:00\",\"2009-12-14T13:19:00\",\"2010-11-14T16:32:00\",\"2010-08-23T14:38:00\",\"2010-08-24T17:21:00\",\"2010-11-09T12:47:00\",\"2010-10-21T16:30:00\",\"2010-10-28T09:29:00\",\"2010-11-16T14:15:00\",\"2010-02-03T11:58:00\",\"2010-06-09T13:08:00\",\"2009-12-06T15:48:00\",\"2010-09-09T10:50:00\",\"2010-09-02T13:27:00\",\"2010-11-12T14:28:00\",\"2010-06-17T17:41:00\",\"2010-11-30T12:05:00\",\"2010-09-02T17:52:00\",\"2010-07-28T14:54:00\",\"2010-11-02T18:08:00\",\"2010-04-13T16:33:00\",\"2010-10-31T14:40:00\",\"2009-12-01T12:52:00\",\"2010-07-02T15:55:00\",\"2010-09-02T14:33:00\",\"2009-12-06T12:17:00\",\"2010-04-07T16:13:00\",\"2010-02-22T12:05:00\",\"2010-05-24T10:44:00\",\"2010-08-18T16:54:00\",\"2010-10-04T12:36:00\",\"2010-12-06T14:36:00\",\"2010-03-19T11:10:00\",\"2010-11-03T13:13:00\",\"2010-09-16T14:34:00\",\"2010-02-28T10:25:00\",\"2010-05-20T13:41:00\",\"2010-03-25T12:43:00\",\"2010-06-07T11:32:00\",\"2010-01-28T12:36:00\",\"2010-12-09T14:09:00\",\"2010-08-08T12:35:00\",\"2010-09-27T12:50:00\",\"2010-04-16T15:55:00\",\"2010-06-22T14:21:00\",\"2010-03-03T08:42:00\",\"2010-09-29T12:41:00\",\"2010-05-13T16:49:00\",\"2010-06-01T16:06:00\",\"2010-07-06T14:38:00\",\"2010-09-28T16:12:00\",\"2010-03-10T10:25:00\",\"2010-11-02T14:02:00\",\"2009-12-05T12:36:00\",\"2010-11-25T13:29:00\",\"2010-01-07T10:57:00\",\"2010-02-23T12:26:00\",\"2010-03-03T17:18:00\",\"2010-02-01T13:25:00\",\"2010-11-01T16:45:00\",\"2010-11-16T12:22:00\",\"2010-12-06T14:51:00\",\"2010-01-06T10:17:00\",\"2010-03-26T14:01:00\",\"2010-01-14T18:56:00\",\"2010-06-17T12:21:00\",\"2010-09-21T15:46:00\",\"2010-04-28T15:00:00\",\"2010-09-23T14:47:00\",\"2010-04-19T10:43:00\",\"2010-11-09T10:35:00\",\"2009-12-23T13:00:00\",\"2010-02-02T10:06:00\",\"2010-06-30T11:32:00\",\"2010-10-20T14:42:00\",\"2010-06-02T14:48:00\",\"2010-01-28T14:31:00\",\"2010-05-30T15:58:00\",\"2010-05-25T10:14:00\",\"2010-11-07T12:03:00\",\"2010-11-01T13:33:00\",\"2010-04-27T13:48:00\",\"2009-12-17T12:04:00\",\"2010-12-07T15:28:00\",\"2010-04-20T16:00:00\",\"2010-12-06T13:41:00\",\"2009-12-17T12:32:00\",\"2010-08-04T15:52:00\",\"2010-01-04T12:57:00\",\"2010-06-09T14:13:00\",\"2010-03-18T14:14:00\",\"2010-04-06T15:10:00\",\"2010-11-24T10:30:00\",\"2010-10-18T17:11:00\",\"2010-04-09T17:13:00\",\"2010-11-29T16:45:00\",\"2010-07-02T08:26:00\",\"2010-06-15T14:42:00\",\"2010-10-11T11:34:00\",\"2010-09-02T17:52:00\",\"2010-03-10T13:08:00\",\"2010-11-01T11:35:00\",\"2010-11-09T14:13:00\",\"2009-12-04T10:57:00\",\"2010-08-11T15:46:00\",\"2010-03-25T12:39:00\",\"2010-07-05T11:54:00\",\"2010-04-13T11:43:00\",\"2010-03-07T16:12:00\",\"2010-10-11T13:49:00\",\"2010-09-30T11:45:00\",\"2009-12-03T10:20:00\",\"2010-11-28T11:33:00\",\"2010-04-26T10:31:00\",\"2010-05-18T15:13:00\",\"2010-07-19T16:10:00\",\"2010-10-14T13:09:00\",\"2010-08-22T16:07:00\",\"2010-08-31T12:41:00\",\"2009-12-02T15:08:00\",\"2010-05-04T11:51:00\",\"2010-06-04T12:23:00\",\"2010-10-06T14:34:00\",\"2010-10-24T13:57:00\",\"2010-10-12T15:46:00\",\"2010-11-07T12:04:00\",\"2010-05-24T12:25:00\",\"2010-11-11T15:49:00\",\"2010-11-22T13:02:00\",\"2010-06-25T13:35:00\",\"2009-12-11T13:52:00\",\"2010-02-21T12:43:00\",\"2010-09-24T16:06:00\",\"2010-05-06T20:01:00\",\"2010-04-28T11:55:00\",\"2010-06-08T14:52:00\",\"2010-08-12T10:12:00\",\"2010-07-15T11:44:00\",\"2010-04-07T11:04:00\",\"2010-02-07T13:30:00\",\"2010-12-08T13:18:00\",\"2010-08-15T11:22:00\",\"2010-11-22T11:37:00\",\"2010-08-31T12:35:00\",\"2010-10-07T16:14:00\",\"2010-08-19T16:19:00\",\"2010-12-06T09:58:00\",\"2010-05-20T17:57:00\",\"2010-09-27T12:45:00\",\"2010-03-26T14:01:00\",\"2010-05-14T12:52:00\",\"2010-11-24T12:43:00\",\"2010-03-21T11:32:00\",\"2010-08-04T10:52:00\",\"2010-05-07T17:28:00\",\"2010-07-08T13:07:00\",\"2010-08-03T12:55:00\",\"2009-12-06T15:41:00\",\"2010-07-19T12:53:00\",\"2010-02-17T14:34:00\",\"2010-08-11T12:20:00\",\"2010-10-26T13:44:00\",\"2010-11-14T12:07:00\",\"2010-10-07T10:19:00\",\"2010-07-08T15:14:00\",\"2010-06-07T10:54:00\",\"2010-02-09T09:47:00\",\"2009-12-16T15:13:00\",\"2010-01-13T17:51:00\",\"2010-06-24T11:31:00\",\"2010-02-28T15:01:00\",\"2010-03-24T13:30:00\",\"2010-08-12T17:01:00\",\"2010-06-14T13:35:00\",\"2009-12-07T12:32:00\",\"2010-04-23T10:20:00\",\"2010-01-14T14:32:00\",\"2009-12-01T17:08:00\",\"2010-03-23T15:47:00\",\"2010-11-16T13:04:00\",\"2010-04-08T11:20:00\",\"2010-06-22T16:28:00\",\"2010-08-24T11:57:00\",\"2010-04-26T16:21:00\",\"2010-11-08T12:28:00\",\"2009-12-02T14:36:00\",\"2010-03-30T14:29:00\",\"2010-10-05T13:48:00\",\"2010-10-18T13:18:00\",\"2010-03-23T14:06:00\",\"2010-06-17T13:48:00\",\"2010-04-11T13:09:00\",\"2010-01-13T17:44:00\",\"2010-01-20T13:10:00\",\"2010-10-01T12:17:00\",\"2010-09-13T10:46:00\",\"2010-09-08T13:57:00\",\"2010-01-24T12:15:00\",\"2010-06-23T13:16:00\",\"2010-09-13T17:25:00\",\"2010-04-15T12:20:00\",\"2010-09-24T13:30:00\",\"2010-02-23T13:59:00\",\"2010-06-27T13:09:00\",\"2010-04-19T11:19:00\",\"2010-11-23T14:06:00\",\"2010-04-28T09:18:00\",\"2010-07-29T16:35:00\",\"2010-11-30T13:02:00\",\"2010-05-02T15:10:00\",\"2010-10-07T14:11:00\",\"2010-11-26T15:51:00\",\"2010-12-02T15:46:00\",\"2010-10-20T11:58:00\",\"2010-11-12T15:46:00\",\"2010-01-29T17:55:00\",\"2010-10-18T15:27:00\",\"2010-04-29T17:01:00\",\"2010-07-01T12:02:00\",\"2010-08-23T15:44:00\",\"2010-10-10T10:49:00\",\"2010-09-13T12:56:00\",\"2010-03-16T13:44:00\",\"2009-12-22T15:06:00\",\"2010-12-05T12:57:00\",\"2010-11-10T16:40:00\",\"2010-06-14T14:06:00\",\"2010-06-21T12:17:00\",\"2010-05-04T15:48:00\",\"2010-01-10T12:43:00\",\"2010-11-12T15:05:00\",\"2010-04-18T12:49:00\",\"2010-03-24T16:33:00\",\"2010-11-25T19:16:00\",\"2010-02-02T13:13:00\",\"2010-08-29T15:07:00\",\"2010-01-13T17:08:00\",\"2010-01-11T09:31:00\",\"2010-12-01T14:32:00\",\"2010-06-20T16:06:00\",\"2010-01-14T15:10:00\",\"2010-09-28T15:07:00\",\"2010-03-12T11:19:00\",\"2010-06-15T12:14:00\",\"2010-04-19T11:13:00\",\"2010-05-19T15:24:00\",\"2010-07-30T17:08:00\",\"2010-01-26T10:25:00\",\"2010-05-10T13:43:00\",\"2010-10-15T15:46:00\",\"2010-09-03T14:22:00\",\"2010-11-12T12:15:00\",\"2010-02-22T14:28:00\",\"2010-06-09T11:23:00\",\"2010-11-03T09:36:00\",\"2010-09-29T13:44:00\",\"2010-11-12T09:18:00\",\"2010-02-14T13:39:00\",\"2010-10-14T17:44:00\",\"2010-07-28T09:41:00\",\"2010-12-06T16:57:00\",\"2010-10-26T12:54:00\",\"2010-11-23T11:26:00\",\"2010-03-08T16:30:00\",\"2010-08-12T13:38:00\",\"2010-08-31T15:36:00\",\"2010-11-12T15:20:00\",\"2010-10-17T16:16:00\",\"2010-03-02T12:18:00\",\"2010-11-12T17:00:00\",\"2010-02-18T12:36:00\",\"2010-03-10T10:50:00\",\"2010-11-23T16:53:00\",\"2010-03-31T13:22:00\",\"2010-10-11T14:32:00\",\"2009-12-06T12:52:00\",\"2010-03-07T13:00:00\",\"2010-09-28T15:51:00\",\"2010-03-29T17:17:00\",\"2009-12-16T16:04:00\",\"2010-11-15T15:10:00\",\"2010-02-02T10:15:00\",\"2010-09-13T11:28:00\",\"2010-05-07T14:02:00\",\"2010-03-16T10:58:00\",\"2010-03-22T15:52:00\",\"2010-10-13T10:53:00\",\"2010-05-06T16:27:00\",\"2010-11-15T12:17:00\",\"2010-07-15T11:47:00\",\"2010-06-29T13:12:00\",\"2010-04-21T15:04:00\",\"2010-11-07T12:28:00\",\"2010-11-25T15:19:00\",\"2010-07-26T14:32:00\",\"2010-03-30T15:47:00\",\"2010-10-20T10:50:00\",\"2010-11-12T09:18:00\",\"2010-06-07T15:31:00\",\"2010-08-22T14:31:00\",\"2009-12-03T20:03:00\",\"2009-12-16T17:01:00\",\"2010-08-10T12:06:00\",\"2010-09-17T13:20:00\",\"2010-06-17T13:48:00\",\"2010-03-09T14:16:00\",\"2010-06-11T12:45:00\",\"2010-08-10T16:10:00\",\"2010-08-16T15:31:00\",\"2010-11-11T14:08:00\",\"2010-08-04T14:50:00\",\"2009-12-09T09:51:00\",\"2010-12-05T12:43:00\",\"2010-11-23T16:18:00\",\"2009-12-04T09:43:00\",\"2010-08-17T11:52:00\",\"2009-12-04T11:07:00\",\"2010-10-25T16:57:00\",\"2010-07-29T19:56:00\",\"2010-10-14T10:00:00\",\"2010-03-14T13:40:00\",\"2010-11-16T13:04:00\",\"2010-10-18T12:49:00\",\"2010-06-10T17:27:00\",\"2010-01-21T09:37:00\",\"2010-06-09T14:43:00\",\"2010-04-18T14:35:00\",\"2010-01-04T12:30:00\",\"2010-12-03T11:36:00\",\"2009-12-10T19:35:00\",\"2010-02-05T08:43:00\",\"2010-07-09T14:55:00\",\"2010-06-15T11:46:00\",\"2010-06-15T15:23:00\",\"2010-04-18T12:05:00\",\"2010-08-16T12:00:00\",\"2010-03-19T17:13:00\",\"2009-12-03T19:31:00\",\"2010-11-14T11:54:00\",\"2010-11-24T12:04:00\",\"2010-10-25T16:57:00\",\"2010-08-18T16:54:00\",\"2009-12-08T12:38:00\",\"2010-06-10T13:52:00\",\"2010-09-29T13:08:00\",\"2010-07-07T16:29:00\",\"2010-09-09T12:37:00\",\"2010-09-06T10:19:00\",\"2010-04-20T11:30:00\",\"2010-11-24T13:56:00\",\"2010-11-11T13:26:00\",\"2010-06-08T14:52:00\",\"2010-08-02T15:26:00\",\"2010-08-08T10:46:00\",\"2010-08-12T14:32:00\",\"2010-05-28T12:37:00\",\"2009-12-16T17:01:00\",\"2010-01-25T15:23:00\",\"2010-06-07T14:48:00\",\"2010-09-29T10:26:00\",\"2010-10-01T14:07:00\",\"2010-04-23T16:16:00\",\"2010-08-15T14:01:00\",\"2010-05-26T11:12:00\",\"2009-12-13T13:53:00\",\"2010-01-05T10:18:00\",\"2010-04-23T13:12:00\",\"2010-10-05T13:21:00\",\"2010-03-12T15:13:00\",\"2010-06-03T09:29:00\",\"2010-05-28T12:11:00\",\"2009-12-01T09:08:00\",\"2010-10-11T13:53:00\",\"2010-11-05T10:23:00\",\"2010-01-20T17:50:00\",\"2010-03-16T16:18:00\",\"2010-06-18T13:22:00\",\"2010-06-01T12:00:00\",\"2009-12-09T09:51:00\",\"2010-07-01T14:24:00\",\"2010-11-10T16:38:00\",\"2009-12-10T18:27:00\",\"2010-09-20T11:45:00\",\"2010-03-12T11:19:00\",\"2010-10-20T15:25:00\",\"2010-08-31T12:41:00\",\"2010-06-16T14:34:00\",\"2010-07-16T09:24:00\",\"2010-03-26T11:37:00\",\"2010-10-07T14:28:00\",\"2009-12-01T14:28:00\",\"2010-05-30T13:35:00\",\"2010-07-15T14:08:00\",\"2010-05-25T13:21:00\",\"2010-10-07T10:19:00\",\"2010-10-28T18:54:00\",\"2010-07-27T12:39:00\",\"2010-01-08T15:16:00\",\"2010-08-16T12:36:00\",\"2010-05-04T12:16:00\",\"2010-11-25T19:36:00\",\"2010-09-22T11:37:00\",\"2010-01-28T12:20:00\",\"2010-01-28T15:51:00\",\"2010-03-09T14:32:00\",\"2010-10-07T10:37:00\",\"2010-06-09T12:11:00\",\"2010-01-31T12:15:00\",\"2010-02-15T14:47:00\",\"2010-11-25T13:51:00\",\"2010-02-19T17:40:00\",\"2010-03-02T11:33:00\",\"2010-01-04T12:30:00\",\"2010-02-01T13:45:00\",\"2010-10-19T09:10:00\",\"2010-01-21T11:51:00\",\"2010-06-09T14:41:00\",\"2010-06-24T16:25:00\",\"2010-01-14T14:06:00\",\"2010-11-25T14:03:00\",\"2010-06-03T17:15:00\",\"2010-08-26T12:35:00\",\"2010-11-12T15:20:00\",\"2010-06-17T13:48:00\",\"2010-06-21T13:18:00\",\"2010-11-26T13:22:00\",\"2010-12-05T12:26:00\",\"2010-10-03T14:13:00\",\"2010-01-07T11:22:00\",\"2010-04-29T11:18:00\",\"2010-01-14T16:16:00\",\"2010-01-18T12:55:00\",\"2010-09-20T12:15:00\",\"2010-11-07T13:08:00\",\"2010-01-19T15:45:00\",\"2009-12-15T17:05:00\",\"2010-02-08T11:06:00\",\"2010-01-20T10:48:00\",\"2010-10-31T14:09:00\",\"2010-03-21T12:20:00\",\"2010-08-17T12:03:00\",\"2010-02-15T11:22:00\",\"2010-11-21T12:40:00\",\"2010-02-17T12:12:00\",\"2009-12-06T10:26:00\",\"2010-11-25T13:18:00\",\"2010-10-14T18:02:00\",\"2010-06-16T16:04:00\",\"2010-10-10T16:01:00\",\"2010-01-25T13:14:00\",\"2010-10-27T08:36:00\",\"2010-12-03T15:05:00\",\"2010-07-21T14:43:00\",\"2010-05-07T14:56:00\",\"2010-05-19T14:22:00\",\"2010-11-08T14:19:00\",\"2010-12-08T12:17:00\",\"2010-10-21T15:38:00\",\"2010-09-14T16:15:00\",\"2010-09-16T12:27:00\",\"2010-08-03T14:23:00\",\"2010-11-17T12:44:00\",\"2010-05-06T11:44:00\",\"2010-08-08T14:37:00\",\"2010-04-22T12:58:00\",\"2010-03-07T12:06:00\",\"2010-10-24T11:18:00\",\"2010-10-27T14:05:00\",\"2010-07-19T12:17:00\",\"2010-11-03T13:47:00\",\"2010-02-25T13:23:00\",\"2010-08-18T16:54:00\",\"2010-08-16T14:59:00\",\"2010-06-06T15:01:00\",\"2010-06-15T12:22:00\",\"2010-08-17T12:03:00\",\"2010-07-04T13:10:00\",\"2010-11-19T12:56:00\",\"2010-09-28T14:44:00\",\"2009-12-22T09:41:00\",\"2010-06-14T16:25:00\",\"2010-01-04T09:24:00\",\"2010-08-26T15:42:00\",\"2010-04-25T11:43:00\",\"2010-06-04T14:54:00\",\"2010-07-14T13:01:00\",\"2009-12-16T17:01:00\",\"2010-09-23T13:26:00\",\"2010-11-10T13:23:00\",\"2010-10-18T12:58:00\",\"2010-04-25T11:43:00\",\"2010-04-06T12:39:00\",\"2010-11-17T09:22:00\",\"2010-06-09T10:52:00\",\"2010-06-17T09:30:00\",\"2010-08-23T11:58:00\",\"2010-10-31T12:36:00\",\"2009-12-16T17:36:00\",\"2010-11-30T17:43:00\",\"2010-03-23T12:18:00\",\"2010-09-02T13:29:00\",\"2010-09-07T09:31:00\",\"2010-02-17T12:03:00\",\"2010-11-17T16:48:00\",\"2010-10-20T17:12:00\",\"2010-04-15T16:35:00\",\"2010-11-19T13:07:00\",\"2010-09-19T16:20:00\",\"2010-12-09T14:19:00\",\"2010-02-28T14:12:00\",\"2010-04-07T10:36:00\",\"2010-08-15T13:26:00\",\"2010-03-01T09:58:00\",\"2010-02-19T17:40:00\",\"2010-10-07T14:24:00\",\"2010-02-08T15:11:00\",\"2010-10-18T14:07:00\",\"2010-06-15T12:11:00\",\"2010-09-10T13:27:00\",\"2010-08-18T11:34:00\",\"2010-05-27T11:11:00\",\"2009-12-10T18:27:00\",\"2010-10-05T17:55:00\",\"2010-07-20T09:04:00\",\"2010-05-28T10:08:00\",\"2010-07-04T13:31:00\",\"2010-07-08T10:07:00\",\"2010-01-22T14:17:00\",\"2009-12-15T17:25:00\",\"2010-08-03T10:30:00\",\"2009-12-22T09:41:00\",\"2009-12-03T13:09:00\",\"2010-04-28T14:25:00\",\"2009-12-04T10:57:00\",\"2010-11-03T09:36:00\",\"2010-03-12T10:41:00\",\"2010-09-02T14:52:00\",\"2010-11-28T14:13:00\",\"2010-09-16T14:52:00\",\"2010-04-23T11:43:00\",\"2010-10-22T14:04:00\",\"2009-12-22T15:13:00\",\"2010-11-23T16:53:00\",\"2010-03-29T11:49:00\",\"2010-11-10T12:09:00\",\"2010-06-14T12:41:00\",\"2010-09-28T09:13:00\",\"2010-03-09T14:16:00\",\"2010-08-22T12:52:00\",\"2010-10-19T12:50:00\",\"2010-03-25T13:16:00\",\"2010-02-14T15:30:00\",\"2010-08-29T10:16:00\",\"2010-08-25T11:35:00\",\"2010-10-26T12:14:00\",\"2010-06-02T11:54:00\",\"2009-12-16T17:01:00\",\"2010-10-20T13:42:00\",\"2010-02-08T16:53:00\",\"2009-12-07T15:15:00\",\"2010-01-26T13:04:00\",\"2010-11-17T09:22:00\",\"2010-02-16T14:32:00\",\"2010-01-29T11:45:00\",\"2010-10-11T11:34:00\",\"2009-12-13T13:31:00\",\"2010-10-29T12:07:00\",\"2010-04-29T15:34:00\",\"2010-04-11T16:06:00\",\"2010-11-29T12:06:00\",\"2010-03-23T08:40:00\",\"2010-03-30T10:55:00\",\"2010-01-26T10:25:00\",\"2010-08-03T14:38:00\",\"2010-10-13T13:12:00\",\"2010-10-18T17:11:00\",\"2010-04-19T11:13:00\",\"2009-12-02T15:15:00\",\"2010-07-15T12:30:00\",\"2010-11-23T09:12:00\",\"2010-10-28T10:16:00\",\"2010-10-15T16:04:00\",\"2010-10-19T16:38:00\",\"2010-05-12T12:09:00\",\"2010-08-22T11:47:00\",\"2010-11-12T09:18:00\",\"2009-12-07T18:02:00\",\"2010-10-07T12:30:00\",\"2010-10-12T13:19:00\",\"2010-09-23T12:19:00\",\"2010-10-29T14:12:00\",\"2010-05-19T11:59:00\",\"2010-07-02T13:25:00\",\"2010-08-13T17:13:00\",\"2010-10-13T14:57:00\",\"2010-11-14T16:12:00\",\"2010-10-20T12:53:00\",\"2010-01-06T12:16:00\",\"2010-03-04T12:06:00\",\"2010-11-25T11:04:00\",\"2009-12-22T09:52:00\",\"2010-10-18T09:28:00\",\"2010-07-08T11:42:00\",\"2010-11-12T15:40:00\",\"2010-08-03T13:03:00\",\"2010-09-13T15:12:00\",\"2010-11-15T09:32:00\",\"2010-02-17T11:27:00\",\"2010-07-11T15:34:00\",\"2009-12-01T09:50:00\",\"2010-05-16T16:05:00\",\"2010-11-25T13:36:00\",\"2010-03-08T13:17:00\",\"2010-04-09T16:54:00\",\"2010-05-17T14:17:00\",\"2010-02-02T16:42:00\",\"2010-06-14T14:49:00\",\"2010-02-23T14:16:00\",\"2010-06-14T12:01:00\",\"2010-01-24T12:15:00\",\"2010-05-24T12:01:00\",\"2010-10-06T14:40:00\",\"2009-12-18T12:59:00\",\"2010-04-30T17:18:00\",\"2010-02-22T17:10:00\",\"2010-10-11T13:57:00\",\"2010-09-27T09:55:00\",\"2010-06-03T09:06:00\",\"2010-08-03T15:17:00\",\"2010-06-27T13:09:00\",\"2010-09-30T17:18:00\",\"2010-08-15T16:00:00\",\"2009-12-17T15:44:00\",\"2010-11-22T15:24:00\",\"2010-06-24T11:46:00\",\"2010-05-19T15:10:00\",\"2010-04-11T14:28:00\",\"2010-03-19T13:41:00\",\"2010-06-16T12:48:00\",\"2010-02-02T13:13:00\",\"2010-11-21T16:02:00\",\"2010-10-01T11:43:00\",\"2010-04-13T13:33:00\",\"2010-06-23T13:19:00\",\"2010-03-01T14:01:00\",\"2010-12-09T16:35:00\",\"2010-02-01T17:18:00\",\"2010-04-28T16:26:00\",\"2010-09-27T12:50:00\",\"2010-11-21T16:13:00\",\"2010-05-27T12:17:00\",\"2010-03-03T16:33:00\",\"2010-02-17T12:03:00\",\"2010-03-01T15:36:00\",\"2010-03-03T15:28:00\",\"2010-11-17T09:22:00\",\"2010-11-03T09:36:00\",\"2010-02-01T14:52:00\",\"2010-04-06T16:37:00\",\"2010-02-23T14:48:00\",\"2010-06-14T11:24:00\",\"2010-09-24T12:18:00\",\"2010-11-12T14:02:00\",\"2009-12-16T12:29:00\",\"2010-07-26T10:35:00\",\"2010-01-12T17:24:00\",\"2010-11-08T09:56:00\",\"2010-06-16T14:26:00\",\"2010-03-24T10:28:00\",\"2010-10-24T12:51:00\",\"2010-10-13T10:46:00\",\"2010-07-14T12:19:00\",\"2010-12-05T12:53:00\",\"2010-11-23T12:00:00\",\"2010-10-08T11:45:00\",\"2010-03-19T14:05:00\",\"2010-11-24T15:23:00\",\"2010-03-31T17:28:00\",\"2010-09-13T14:26:00\",\"2010-11-09T15:20:00\",\"2010-11-10T14:48:00\",\"2009-12-22T14:31:00\",\"2010-05-06T10:04:00\",\"2010-03-08T16:30:00\",\"2010-10-05T10:35:00\",\"2010-12-05T12:35:00\",\"2010-11-04T18:00:00\",\"2010-08-12T16:41:00\",\"2010-11-24T15:03:00\",\"2010-10-28T09:29:00\",\"2010-10-08T17:28:00\",\"2010-09-19T16:18:00\",\"2010-09-17T14:54:00\",\"2010-12-07T15:31:00\",\"2010-09-02T17:52:00\",\"2010-11-05T11:58:00\",\"2010-12-05T15:15:00\",\"2009-12-04T17:31:00\",\"2010-09-05T11:59:00\",\"2010-11-10T10:50:00\",\"2010-03-26T14:01:00\",\"2010-05-18T11:40:00\",\"2010-10-20T10:22:00\",\"2010-02-14T14:10:00\",\"2010-03-29T16:47:00\",\"2010-05-13T15:41:00\",\"2010-05-26T14:38:00\",\"2010-01-15T13:15:00\",\"2010-01-25T13:22:00\",\"2010-09-21T12:49:00\",\"2010-11-10T15:20:00\",\"2010-03-04T10:14:00\",\"2010-03-10T10:50:00\",\"2010-02-15T13:27:00\",\"2010-06-15T12:35:00\",\"2010-08-11T16:44:00\",\"2010-11-16T13:03:00\",\"2010-02-22T11:42:00\",\"2009-12-21T17:14:00\",\"2010-07-27T13:52:00\",\"2010-11-10T11:47:00\",\"2010-12-02T16:34:00\",\"2010-10-08T10:23:00\",\"2010-04-14T10:13:00\",\"2009-12-17T13:36:00\",\"2010-05-07T16:46:00\",\"2010-03-03T12:16:00\",\"2010-04-23T16:16:00\",\"2010-09-09T15:49:00\",\"2010-06-16T14:12:00\",\"2010-10-18T16:52:00\",\"2010-10-29T08:23:00\",\"2010-10-24T10:41:00\",\"2010-11-12T12:44:00\",\"2010-11-01T09:33:00\",\"2010-01-07T13:07:00\",\"2010-04-26T11:57:00\",\"2010-07-20T09:04:00\",\"2010-10-05T13:01:00\",\"2010-02-26T10:11:00\",\"2010-07-07T09:39:00\",\"2009-12-04T14:29:00\",\"2010-08-15T14:01:00\",\"2010-02-25T15:07:00\",\"2010-05-24T14:55:00\",\"2010-10-31T13:12:00\",\"2010-05-05T14:42:00\",\"2010-03-25T13:55:00\",\"2010-11-14T16:16:00\",\"2010-01-18T12:48:00\",\"2010-03-31T17:28:00\",\"2010-08-04T10:57:00\",\"2010-04-01T14:52:00\",\"2010-03-15T16:05:00\",\"2010-04-30T15:57:00\",\"2010-10-12T16:38:00\",\"2010-09-24T12:43:00\",\"2010-04-01T15:04:00\",\"2010-03-15T16:13:00\",\"2010-12-06T16:57:00\",\"2010-01-27T16:41:00\",\"2010-11-30T12:05:00\",\"2010-04-18T11:24:00\",\"2010-05-05T14:42:00\",\"2010-05-06T16:50:00\",\"2010-06-06T15:47:00\",\"2010-11-10T13:08:00\",\"2010-04-13T13:26:00\",\"2010-03-23T11:01:00\",\"2010-04-25T13:40:00\",\"2010-10-24T10:33:00\",\"2010-01-29T13:53:00\",\"2010-08-22T14:31:00\",\"2010-11-22T15:50:00\",\"2010-02-09T12:01:00\",\"2010-01-25T13:14:00\",\"2010-08-26T12:10:00\",\"2010-11-16T12:50:00\",\"2010-04-15T13:52:00\",\"2010-03-08T12:35:00\",\"2010-01-14T17:43:00\",\"2010-10-01T10:24:00\",\"2010-04-25T15:48:00\",\"2010-12-09T19:28:00\",\"2010-01-31T15:47:00\",\"2010-09-06T11:32:00\",\"2010-11-23T13:59:00\",\"2010-07-29T11:22:00\",\"2010-10-21T10:46:00\",\"2010-11-04T13:04:00\",\"2010-08-10T11:49:00\",\"2010-11-25T15:19:00\",\"2010-01-11T12:29:00\",\"2010-08-06T09:18:00\",\"2010-05-06T15:17:00\",\"2010-08-10T13:28:00\",\"2010-11-01T11:48:00\",\"2010-06-28T11:39:00\",\"2010-10-06T12:36:00\",\"2010-04-18T12:31:00\",\"2010-11-11T12:50:00\",\"2010-12-08T14:25:00\",\"2010-10-17T13:02:00\",\"2009-12-09T15:16:00\",\"2009-12-21T11:08:00\",\"2010-08-27T13:53:00\",\"2010-10-10T13:31:00\",\"2010-03-12T11:19:00\",\"2010-09-09T10:37:00\",\"2010-01-25T09:53:00\",\"2010-10-18T12:11:00\",\"2010-08-31T14:40:00\",\"2010-07-29T18:30:00\",\"2010-05-11T13:30:00\",\"2010-01-05T11:29:00\",\"2010-11-12T09:18:00\",\"2010-09-24T12:31:00\",\"2010-11-15T12:50:00\",\"2010-12-09T14:09:00\",\"2010-01-26T12:30:00\",\"2010-02-08T16:23:00\",\"2010-02-28T15:01:00\",\"2010-02-25T13:40:00\",\"2010-10-26T10:34:00\",\"2010-02-17T14:39:00\",\"2010-09-05T15:27:00\",\"2010-09-01T17:17:00\",\"2010-04-21T15:34:00\",\"2010-06-24T12:49:00\",\"2010-02-03T08:15:00\",\"2010-11-10T12:09:00\",\"2010-10-07T16:48:00\",\"2010-04-16T12:43:00\",\"2010-04-01T12:26:00\",\"2010-10-26T14:47:00\",\"2010-10-17T16:06:00\",\"2010-11-04T14:49:00\",\"2010-11-05T12:09:00\",\"2010-10-07T09:12:00\",\"2010-03-07T14:50:00\",\"2010-10-19T12:15:00\",\"2010-03-03T14:20:00\",\"2009-12-10T17:09:00\",\"2010-11-02T13:57:00\",\"2010-08-01T13:48:00\",\"2010-01-05T12:20:00\",\"2010-01-14T18:56:00\",\"2010-11-16T15:46:00\",\"2010-10-07T14:28:00\",\"2010-03-31T12:21:00\",\"2009-12-02T14:34:00\",\"2010-04-14T13:50:00\",\"2010-12-01T15:08:00\",\"2010-04-29T10:54:00\",\"2010-11-29T10:50:00\",\"2010-10-10T13:38:00\",\"2010-01-21T14:01:00\",\"2010-05-10T09:55:00\"],\"xaxis\":\"x2\",\"yaxis\":\"y2\",\"type\":\"box\"}],                        {\"template\":{\"data\":{\"histogram2dcontour\":[{\"type\":\"histogram2dcontour\",\"colorbar\":{\"outlinewidth\":0,\"ticks\":\"\"},\"colorscale\":[[0.0,\"#0d0887\"],[0.1111111111111111,\"#46039f\"],[0.2222222222222222,\"#7201a8\"],[0.3333333333333333,\"#9c179e\"],[0.4444444444444444,\"#bd3786\"],[0.5555555555555556,\"#d8576b\"],[0.6666666666666666,\"#ed7953\"],[0.7777777777777778,\"#fb9f3a\"],[0.8888888888888888,\"#fdca26\"],[1.0,\"#f0f921\"]]}],\"choropleth\":[{\"type\":\"choropleth\",\"colorbar\":{\"outlinewidth\":0,\"ticks\":\"\"}}],\"histogram2d\":[{\"type\":\"histogram2d\",\"colorbar\":{\"outlinewidth\":0,\"ticks\":\"\"},\"colorscale\":[[0.0,\"#0d0887\"],[0.1111111111111111,\"#46039f\"],[0.2222222222222222,\"#7201a8\"],[0.3333333333333333,\"#9c179e\"],[0.4444444444444444,\"#bd3786\"],[0.5555555555555556,\"#d8576b\"],[0.6666666666666666,\"#ed7953\"],[0.7777777777777778,\"#fb9f3a\"],[0.8888888888888888,\"#fdca26\"],[1.0,\"#f0f921\"]]}],\"heatmap\":[{\"type\":\"heatmap\",\"colorbar\":{\"outlinewidth\":0,\"ticks\":\"\"},\"colorscale\":[[0.0,\"#0d0887\"],[0.1111111111111111,\"#46039f\"],[0.2222222222222222,\"#7201a8\"],[0.3333333333333333,\"#9c179e\"],[0.4444444444444444,\"#bd3786\"],[0.5555555555555556,\"#d8576b\"],[0.6666666666666666,\"#ed7953\"],[0.7777777777777778,\"#fb9f3a\"],[0.8888888888888888,\"#fdca26\"],[1.0,\"#f0f921\"]]}],\"heatmapgl\":[{\"type\":\"heatmapgl\",\"colorbar\":{\"outlinewidth\":0,\"ticks\":\"\"},\"colorscale\":[[0.0,\"#0d0887\"],[0.1111111111111111,\"#46039f\"],[0.2222222222222222,\"#7201a8\"],[0.3333333333333333,\"#9c179e\"],[0.4444444444444444,\"#bd3786\"],[0.5555555555555556,\"#d8576b\"],[0.6666666666666666,\"#ed7953\"],[0.7777777777777778,\"#fb9f3a\"],[0.8888888888888888,\"#fdca26\"],[1.0,\"#f0f921\"]]}],\"contourcarpet\":[{\"type\":\"contourcarpet\",\"colorbar\":{\"outlinewidth\":0,\"ticks\":\"\"}}],\"contour\":[{\"type\":\"contour\",\"colorbar\":{\"outlinewidth\":0,\"ticks\":\"\"},\"colorscale\":[[0.0,\"#0d0887\"],[0.1111111111111111,\"#46039f\"],[0.2222222222222222,\"#7201a8\"],[0.3333333333333333,\"#9c179e\"],[0.4444444444444444,\"#bd3786\"],[0.5555555555555556,\"#d8576b\"],[0.6666666666666666,\"#ed7953\"],[0.7777777777777778,\"#fb9f3a\"],[0.8888888888888888,\"#fdca26\"],[1.0,\"#f0f921\"]]}],\"surface\":[{\"type\":\"surface\",\"colorbar\":{\"outlinewidth\":0,\"ticks\":\"\"},\"colorscale\":[[0.0,\"#0d0887\"],[0.1111111111111111,\"#46039f\"],[0.2222222222222222,\"#7201a8\"],[0.3333333333333333,\"#9c179e\"],[0.4444444444444444,\"#bd3786\"],[0.5555555555555556,\"#d8576b\"],[0.6666666666666666,\"#ed7953\"],[0.7777777777777778,\"#fb9f3a\"],[0.8888888888888888,\"#fdca26\"],[1.0,\"#f0f921\"]]}],\"mesh3d\":[{\"type\":\"mesh3d\",\"colorbar\":{\"outlinewidth\":0,\"ticks\":\"\"}}],\"scatter\":[{\"fillpattern\":{\"fillmode\":\"overlay\",\"size\":10,\"solidity\":0.2},\"type\":\"scatter\"}],\"parcoords\":[{\"type\":\"parcoords\",\"line\":{\"colorbar\":{\"outlinewidth\":0,\"ticks\":\"\"}}}],\"scatterpolargl\":[{\"type\":\"scatterpolargl\",\"marker\":{\"colorbar\":{\"outlinewidth\":0,\"ticks\":\"\"}}}],\"bar\":[{\"error_x\":{\"color\":\"#2a3f5f\"},\"error_y\":{\"color\":\"#2a3f5f\"},\"marker\":{\"line\":{\"color\":\"#E5ECF6\",\"width\":0.5},\"pattern\":{\"fillmode\":\"overlay\",\"size\":10,\"solidity\":0.2}},\"type\":\"bar\"}],\"scattergeo\":[{\"type\":\"scattergeo\",\"marker\":{\"colorbar\":{\"outlinewidth\":0,\"ticks\":\"\"}}}],\"scatterpolar\":[{\"type\":\"scatterpolar\",\"marker\":{\"colorbar\":{\"outlinewidth\":0,\"ticks\":\"\"}}}],\"histogram\":[{\"marker\":{\"pattern\":{\"fillmode\":\"overlay\",\"size\":10,\"solidity\":0.2}},\"type\":\"histogram\"}],\"scattergl\":[{\"type\":\"scattergl\",\"marker\":{\"colorbar\":{\"outlinewidth\":0,\"ticks\":\"\"}}}],\"scatter3d\":[{\"type\":\"scatter3d\",\"line\":{\"colorbar\":{\"outlinewidth\":0,\"ticks\":\"\"}},\"marker\":{\"colorbar\":{\"outlinewidth\":0,\"ticks\":\"\"}}}],\"scattermapbox\":[{\"type\":\"scattermapbox\",\"marker\":{\"colorbar\":{\"outlinewidth\":0,\"ticks\":\"\"}}}],\"scatterternary\":[{\"type\":\"scatterternary\",\"marker\":{\"colorbar\":{\"outlinewidth\":0,\"ticks\":\"\"}}}],\"scattercarpet\":[{\"type\":\"scattercarpet\",\"marker\":{\"colorbar\":{\"outlinewidth\":0,\"ticks\":\"\"}}}],\"carpet\":[{\"aaxis\":{\"endlinecolor\":\"#2a3f5f\",\"gridcolor\":\"white\",\"linecolor\":\"white\",\"minorgridcolor\":\"white\",\"startlinecolor\":\"#2a3f5f\"},\"baxis\":{\"endlinecolor\":\"#2a3f5f\",\"gridcolor\":\"white\",\"linecolor\":\"white\",\"minorgridcolor\":\"white\",\"startlinecolor\":\"#2a3f5f\"},\"type\":\"carpet\"}],\"table\":[{\"cells\":{\"fill\":{\"color\":\"#EBF0F8\"},\"line\":{\"color\":\"white\"}},\"header\":{\"fill\":{\"color\":\"#C8D4E3\"},\"line\":{\"color\":\"white\"}},\"type\":\"table\"}],\"barpolar\":[{\"marker\":{\"line\":{\"color\":\"#E5ECF6\",\"width\":0.5},\"pattern\":{\"fillmode\":\"overlay\",\"size\":10,\"solidity\":0.2}},\"type\":\"barpolar\"}],\"pie\":[{\"automargin\":true,\"type\":\"pie\"}]},\"layout\":{\"autotypenumbers\":\"strict\",\"colorway\":[\"#636efa\",\"#EF553B\",\"#00cc96\",\"#ab63fa\",\"#FFA15A\",\"#19d3f3\",\"#FF6692\",\"#B6E880\",\"#FF97FF\",\"#FECB52\"],\"font\":{\"color\":\"#2a3f5f\"},\"hovermode\":\"closest\",\"hoverlabel\":{\"align\":\"left\"},\"paper_bgcolor\":\"white\",\"plot_bgcolor\":\"#E5ECF6\",\"polar\":{\"bgcolor\":\"#E5ECF6\",\"angularaxis\":{\"gridcolor\":\"white\",\"linecolor\":\"white\",\"ticks\":\"\"},\"radialaxis\":{\"gridcolor\":\"white\",\"linecolor\":\"white\",\"ticks\":\"\"}},\"ternary\":{\"bgcolor\":\"#E5ECF6\",\"aaxis\":{\"gridcolor\":\"white\",\"linecolor\":\"white\",\"ticks\":\"\"},\"baxis\":{\"gridcolor\":\"white\",\"linecolor\":\"white\",\"ticks\":\"\"},\"caxis\":{\"gridcolor\":\"white\",\"linecolor\":\"white\",\"ticks\":\"\"}},\"coloraxis\":{\"colorbar\":{\"outlinewidth\":0,\"ticks\":\"\"}},\"colorscale\":{\"sequential\":[[0.0,\"#0d0887\"],[0.1111111111111111,\"#46039f\"],[0.2222222222222222,\"#7201a8\"],[0.3333333333333333,\"#9c179e\"],[0.4444444444444444,\"#bd3786\"],[0.5555555555555556,\"#d8576b\"],[0.6666666666666666,\"#ed7953\"],[0.7777777777777778,\"#fb9f3a\"],[0.8888888888888888,\"#fdca26\"],[1.0,\"#f0f921\"]],\"sequentialminus\":[[0.0,\"#0d0887\"],[0.1111111111111111,\"#46039f\"],[0.2222222222222222,\"#7201a8\"],[0.3333333333333333,\"#9c179e\"],[0.4444444444444444,\"#bd3786\"],[0.5555555555555556,\"#d8576b\"],[0.6666666666666666,\"#ed7953\"],[0.7777777777777778,\"#fb9f3a\"],[0.8888888888888888,\"#fdca26\"],[1.0,\"#f0f921\"]],\"diverging\":[[0,\"#8e0152\"],[0.1,\"#c51b7d\"],[0.2,\"#de77ae\"],[0.3,\"#f1b6da\"],[0.4,\"#fde0ef\"],[0.5,\"#f7f7f7\"],[0.6,\"#e6f5d0\"],[0.7,\"#b8e186\"],[0.8,\"#7fbc41\"],[0.9,\"#4d9221\"],[1,\"#276419\"]]},\"xaxis\":{\"gridcolor\":\"white\",\"linecolor\":\"white\",\"ticks\":\"\",\"title\":{\"standoff\":15},\"zerolinecolor\":\"white\",\"automargin\":true,\"zerolinewidth\":2},\"yaxis\":{\"gridcolor\":\"white\",\"linecolor\":\"white\",\"ticks\":\"\",\"title\":{\"standoff\":15},\"zerolinecolor\":\"white\",\"automargin\":true,\"zerolinewidth\":2},\"scene\":{\"xaxis\":{\"backgroundcolor\":\"#E5ECF6\",\"gridcolor\":\"white\",\"linecolor\":\"white\",\"showbackground\":true,\"ticks\":\"\",\"zerolinecolor\":\"white\",\"gridwidth\":2},\"yaxis\":{\"backgroundcolor\":\"#E5ECF6\",\"gridcolor\":\"white\",\"linecolor\":\"white\",\"showbackground\":true,\"ticks\":\"\",\"zerolinecolor\":\"white\",\"gridwidth\":2},\"zaxis\":{\"backgroundcolor\":\"#E5ECF6\",\"gridcolor\":\"white\",\"linecolor\":\"white\",\"showbackground\":true,\"ticks\":\"\",\"zerolinecolor\":\"white\",\"gridwidth\":2}},\"shapedefaults\":{\"line\":{\"color\":\"#2a3f5f\"}},\"annotationdefaults\":{\"arrowcolor\":\"#2a3f5f\",\"arrowhead\":0,\"arrowwidth\":1},\"geo\":{\"bgcolor\":\"white\",\"landcolor\":\"#E5ECF6\",\"subunitcolor\":\"white\",\"showland\":true,\"showlakes\":true,\"lakecolor\":\"white\"},\"title\":{\"x\":0.05},\"mapbox\":{\"style\":\"light\"}}},\"xaxis\":{\"anchor\":\"y\",\"domain\":[0.0,1.0],\"title\":{\"text\":\"value\"}},\"yaxis\":{\"anchor\":\"x\",\"domain\":[0.0,0.7326],\"title\":{\"text\":\"count\"}},\"xaxis2\":{\"anchor\":\"y2\",\"domain\":[0.0,1.0],\"matches\":\"x\",\"showticklabels\":false,\"showgrid\":true},\"yaxis2\":{\"anchor\":\"x2\",\"domain\":[0.7426,1.0],\"matches\":\"y2\",\"showticklabels\":false,\"showline\":false,\"ticks\":\"\",\"showgrid\":false},\"legend\":{\"title\":{\"text\":\"variable\"},\"tracegroupgap\":0},\"title\":{\"text\":\"InvoiceDate\"},\"barmode\":\"relative\"},                        {\"responsive\": true}                    ).then(function(){\n",
              "                            \n",
              "var gd = document.getElementById('d3d59ce7-2dc6-4246-a081-e7aeff57f2fb');\n",
              "var x = new MutationObserver(function (mutations, observer) {{\n",
              "        var display = window.getComputedStyle(gd).display;\n",
              "        if (!display || display === 'none') {{\n",
              "            console.log([gd, 'removed!']);\n",
              "            Plotly.purge(gd);\n",
              "            observer.disconnect();\n",
              "        }}\n",
              "}});\n",
              "\n",
              "// Listen for the removal of the full notebook cells\n",
              "var notebookContainer = gd.closest('#notebook-container');\n",
              "if (notebookContainer) {{\n",
              "    x.observe(notebookContainer, {childList: true});\n",
              "}}\n",
              "\n",
              "// Listen for the clearing of the current output cell\n",
              "var outputEl = gd.closest('.output');\n",
              "if (outputEl) {{\n",
              "    x.observe(outputEl, {childList: true});\n",
              "}}\n",
              "\n",
              "                        })                };                            </script>        </div>\n",
              "</body>\n",
              "</html>"
            ]
          },
          "metadata": {}
        },
        {
          "output_type": "display_data",
          "data": {
            "text/plain": [
              "<IPython.core.display.Markdown object>"
            ],
            "text/markdown": "## Customer ID Profile"
          },
          "metadata": {}
        },
        {
          "output_type": "display_data",
          "data": {
            "text/plain": [
              "Type                           category\n",
              "Number of observations         417534.0\n",
              "Unique                           4383.0\n",
              "Top                             14911.0\n",
              "Freq                             5710.0\n",
              "                                       \n",
              "Missing cells                    107927\n",
              "Missing cells (%)               20.54 %\n",
              "Duplicate rows                   525327\n",
              "Duplicate rows (%)              99.97 %\n",
              "Total size in memory      1218250 bytes\n",
              "dtype: object"
            ]
          },
          "metadata": {}
        },
        {
          "output_type": "display_data",
          "data": {
            "text/html": [
              "<html>\n",
              "<head><meta charset=\"utf-8\" /></head>\n",
              "<body>\n",
              "    <div>            <script src=\"https://cdnjs.cloudflare.com/ajax/libs/mathjax/2.7.5/MathJax.js?config=TeX-AMS-MML_SVG\"></script><script type=\"text/javascript\">if (window.MathJax && window.MathJax.Hub && window.MathJax.Hub.Config) {window.MathJax.Hub.Config({SVG: {font: \"STIX-Web\"}});}</script>                <script type=\"text/javascript\">window.PlotlyConfig = {MathJaxConfig: 'local'};</script>\n",
              "        <script src=\"https://cdn.plot.ly/plotly-2.14.0.min.js\"></script>                <div id=\"7419b7b2-c18b-4f9e-8ccf-e296099362ec\" class=\"plotly-graph-div\" style=\"height:525px; width:100%;\"></div>            <script type=\"text/javascript\">                                    window.PLOTLYENV=window.PLOTLYENV || {};                                    if (document.getElementById(\"7419b7b2-c18b-4f9e-8ccf-e296099362ec\")) {                    Plotly.newPlot(                        \"7419b7b2-c18b-4f9e-8ccf-e296099362ec\",                        [{\"alignmentgroup\":\"True\",\"hovertemplate\":\"x=%{x}<br>y=%{y}<extra></extra>\",\"legendgroup\":\"\",\"marker\":{\"color\":\"#636efa\",\"pattern\":{\"shape\":\"\"}},\"name\":\"\",\"offsetgroup\":\"\",\"orientation\":\"v\",\"showlegend\":false,\"textposition\":\"auto\",\"x\":[\"14911.0\",\"17841.0\",\"14606.0\",\"14156.0\",\"12748.0\",\"17850.0\",\"16549.0\",\"15311.0\",\"14527.0\",\"14646.0\",\"16782.0\",\"13089.0\",\"15005.0\",\"17377.0\",\"13081.0\",\"15039.0\",\"13564.0\",\"14298.0\",\"15768.0\",\"14680.0\",\"17448.0\",\"17920.0\",\"17589.0\",\"17511.0\",\"13694.0\",\"13093.0\",\"15998.0\",\"12921.0\",\"15719.0\",\"12681.0\",\"14505.0\",\"13174.0\",\"17085.0\",\"15555.0\",\"14667.0\",\"14081.0\",\"12471.0\",\"17243.0\",\"16779.0\",\"16984.0\",\"13137.0\",\"17068.0\",\"13230.0\",\"16713.0\",\"17231.0\",\"16161.0\",\"13069.0\",\"13001.0\",\"14415.0\",\"17865.0\",\"14159.0\",\"17238.0\",\"15808.0\",\"15547.0\",\"12472.0\",\"14044.0\",\"16327.0\",\"18102.0\",\"12835.0\",\"14030.0\",\"13050.0\",\"14085.0\",\"15898.0\",\"17338.0\",\"15581.0\",\"15867.0\",\"13097.0\",\"14049.0\",\"13451.0\",\"16938.0\",\"15358.0\",\"15061.0\",\"16710.0\",\"13206.0\",\"15571.0\",\"16550.0\",\"17757.0\",\"14040.0\",\"16409.0\",\"13869.0\",\"17611.0\",\"14031.0\",\"16746.0\",\"17965.0\",\"16072.0\",\"18069.0\",\"12867.0\",\"17799.0\",\"16686.0\",\"14535.0\",\"15856.0\",\"17576.0\",\"12682.0\",\"17364.0\",\"17346.0\",\"12949.0\",\"13319.0\",\"13148.0\",\"18041.0\",\"15615.0\"],\"xaxis\":\"x\",\"y\":[5710,5114,3927,2710,2665,2515,2274,2226,1826,1805,1703,1581,1388,1377,1369,1302,1233,1228,1213,1138,1133,1110,1100,1058,973,941,937,871,856,848,823,818,816,807,799,795,767,748,745,742,737,730,728,720,706,700,693,689,689,673,673,665,664,658,658,643,635,635,630,627,625,618,616,611,610,605,605,602,600,595,591,588,585,584,578,578,573,567,559,553,551,547,545,535,533,528,525,523,521,519,519,518,517,511,509,506,498,494,489,485],\"yaxis\":\"y\",\"type\":\"bar\"}],                        {\"template\":{\"data\":{\"histogram2dcontour\":[{\"type\":\"histogram2dcontour\",\"colorbar\":{\"outlinewidth\":0,\"ticks\":\"\"},\"colorscale\":[[0.0,\"#0d0887\"],[0.1111111111111111,\"#46039f\"],[0.2222222222222222,\"#7201a8\"],[0.3333333333333333,\"#9c179e\"],[0.4444444444444444,\"#bd3786\"],[0.5555555555555556,\"#d8576b\"],[0.6666666666666666,\"#ed7953\"],[0.7777777777777778,\"#fb9f3a\"],[0.8888888888888888,\"#fdca26\"],[1.0,\"#f0f921\"]]}],\"choropleth\":[{\"type\":\"choropleth\",\"colorbar\":{\"outlinewidth\":0,\"ticks\":\"\"}}],\"histogram2d\":[{\"type\":\"histogram2d\",\"colorbar\":{\"outlinewidth\":0,\"ticks\":\"\"},\"colorscale\":[[0.0,\"#0d0887\"],[0.1111111111111111,\"#46039f\"],[0.2222222222222222,\"#7201a8\"],[0.3333333333333333,\"#9c179e\"],[0.4444444444444444,\"#bd3786\"],[0.5555555555555556,\"#d8576b\"],[0.6666666666666666,\"#ed7953\"],[0.7777777777777778,\"#fb9f3a\"],[0.8888888888888888,\"#fdca26\"],[1.0,\"#f0f921\"]]}],\"heatmap\":[{\"type\":\"heatmap\",\"colorbar\":{\"outlinewidth\":0,\"ticks\":\"\"},\"colorscale\":[[0.0,\"#0d0887\"],[0.1111111111111111,\"#46039f\"],[0.2222222222222222,\"#7201a8\"],[0.3333333333333333,\"#9c179e\"],[0.4444444444444444,\"#bd3786\"],[0.5555555555555556,\"#d8576b\"],[0.6666666666666666,\"#ed7953\"],[0.7777777777777778,\"#fb9f3a\"],[0.8888888888888888,\"#fdca26\"],[1.0,\"#f0f921\"]]}],\"heatmapgl\":[{\"type\":\"heatmapgl\",\"colorbar\":{\"outlinewidth\":0,\"ticks\":\"\"},\"colorscale\":[[0.0,\"#0d0887\"],[0.1111111111111111,\"#46039f\"],[0.2222222222222222,\"#7201a8\"],[0.3333333333333333,\"#9c179e\"],[0.4444444444444444,\"#bd3786\"],[0.5555555555555556,\"#d8576b\"],[0.6666666666666666,\"#ed7953\"],[0.7777777777777778,\"#fb9f3a\"],[0.8888888888888888,\"#fdca26\"],[1.0,\"#f0f921\"]]}],\"contourcarpet\":[{\"type\":\"contourcarpet\",\"colorbar\":{\"outlinewidth\":0,\"ticks\":\"\"}}],\"contour\":[{\"type\":\"contour\",\"colorbar\":{\"outlinewidth\":0,\"ticks\":\"\"},\"colorscale\":[[0.0,\"#0d0887\"],[0.1111111111111111,\"#46039f\"],[0.2222222222222222,\"#7201a8\"],[0.3333333333333333,\"#9c179e\"],[0.4444444444444444,\"#bd3786\"],[0.5555555555555556,\"#d8576b\"],[0.6666666666666666,\"#ed7953\"],[0.7777777777777778,\"#fb9f3a\"],[0.8888888888888888,\"#fdca26\"],[1.0,\"#f0f921\"]]}],\"surface\":[{\"type\":\"surface\",\"colorbar\":{\"outlinewidth\":0,\"ticks\":\"\"},\"colorscale\":[[0.0,\"#0d0887\"],[0.1111111111111111,\"#46039f\"],[0.2222222222222222,\"#7201a8\"],[0.3333333333333333,\"#9c179e\"],[0.4444444444444444,\"#bd3786\"],[0.5555555555555556,\"#d8576b\"],[0.6666666666666666,\"#ed7953\"],[0.7777777777777778,\"#fb9f3a\"],[0.8888888888888888,\"#fdca26\"],[1.0,\"#f0f921\"]]}],\"mesh3d\":[{\"type\":\"mesh3d\",\"colorbar\":{\"outlinewidth\":0,\"ticks\":\"\"}}],\"scatter\":[{\"fillpattern\":{\"fillmode\":\"overlay\",\"size\":10,\"solidity\":0.2},\"type\":\"scatter\"}],\"parcoords\":[{\"type\":\"parcoords\",\"line\":{\"colorbar\":{\"outlinewidth\":0,\"ticks\":\"\"}}}],\"scatterpolargl\":[{\"type\":\"scatterpolargl\",\"marker\":{\"colorbar\":{\"outlinewidth\":0,\"ticks\":\"\"}}}],\"bar\":[{\"error_x\":{\"color\":\"#2a3f5f\"},\"error_y\":{\"color\":\"#2a3f5f\"},\"marker\":{\"line\":{\"color\":\"#E5ECF6\",\"width\":0.5},\"pattern\":{\"fillmode\":\"overlay\",\"size\":10,\"solidity\":0.2}},\"type\":\"bar\"}],\"scattergeo\":[{\"type\":\"scattergeo\",\"marker\":{\"colorbar\":{\"outlinewidth\":0,\"ticks\":\"\"}}}],\"scatterpolar\":[{\"type\":\"scatterpolar\",\"marker\":{\"colorbar\":{\"outlinewidth\":0,\"ticks\":\"\"}}}],\"histogram\":[{\"marker\":{\"pattern\":{\"fillmode\":\"overlay\",\"size\":10,\"solidity\":0.2}},\"type\":\"histogram\"}],\"scattergl\":[{\"type\":\"scattergl\",\"marker\":{\"colorbar\":{\"outlinewidth\":0,\"ticks\":\"\"}}}],\"scatter3d\":[{\"type\":\"scatter3d\",\"line\":{\"colorbar\":{\"outlinewidth\":0,\"ticks\":\"\"}},\"marker\":{\"colorbar\":{\"outlinewidth\":0,\"ticks\":\"\"}}}],\"scattermapbox\":[{\"type\":\"scattermapbox\",\"marker\":{\"colorbar\":{\"outlinewidth\":0,\"ticks\":\"\"}}}],\"scatterternary\":[{\"type\":\"scatterternary\",\"marker\":{\"colorbar\":{\"outlinewidth\":0,\"ticks\":\"\"}}}],\"scattercarpet\":[{\"type\":\"scattercarpet\",\"marker\":{\"colorbar\":{\"outlinewidth\":0,\"ticks\":\"\"}}}],\"carpet\":[{\"aaxis\":{\"endlinecolor\":\"#2a3f5f\",\"gridcolor\":\"white\",\"linecolor\":\"white\",\"minorgridcolor\":\"white\",\"startlinecolor\":\"#2a3f5f\"},\"baxis\":{\"endlinecolor\":\"#2a3f5f\",\"gridcolor\":\"white\",\"linecolor\":\"white\",\"minorgridcolor\":\"white\",\"startlinecolor\":\"#2a3f5f\"},\"type\":\"carpet\"}],\"table\":[{\"cells\":{\"fill\":{\"color\":\"#EBF0F8\"},\"line\":{\"color\":\"white\"}},\"header\":{\"fill\":{\"color\":\"#C8D4E3\"},\"line\":{\"color\":\"white\"}},\"type\":\"table\"}],\"barpolar\":[{\"marker\":{\"line\":{\"color\":\"#E5ECF6\",\"width\":0.5},\"pattern\":{\"fillmode\":\"overlay\",\"size\":10,\"solidity\":0.2}},\"type\":\"barpolar\"}],\"pie\":[{\"automargin\":true,\"type\":\"pie\"}]},\"layout\":{\"autotypenumbers\":\"strict\",\"colorway\":[\"#636efa\",\"#EF553B\",\"#00cc96\",\"#ab63fa\",\"#FFA15A\",\"#19d3f3\",\"#FF6692\",\"#B6E880\",\"#FF97FF\",\"#FECB52\"],\"font\":{\"color\":\"#2a3f5f\"},\"hovermode\":\"closest\",\"hoverlabel\":{\"align\":\"left\"},\"paper_bgcolor\":\"white\",\"plot_bgcolor\":\"#E5ECF6\",\"polar\":{\"bgcolor\":\"#E5ECF6\",\"angularaxis\":{\"gridcolor\":\"white\",\"linecolor\":\"white\",\"ticks\":\"\"},\"radialaxis\":{\"gridcolor\":\"white\",\"linecolor\":\"white\",\"ticks\":\"\"}},\"ternary\":{\"bgcolor\":\"#E5ECF6\",\"aaxis\":{\"gridcolor\":\"white\",\"linecolor\":\"white\",\"ticks\":\"\"},\"baxis\":{\"gridcolor\":\"white\",\"linecolor\":\"white\",\"ticks\":\"\"},\"caxis\":{\"gridcolor\":\"white\",\"linecolor\":\"white\",\"ticks\":\"\"}},\"coloraxis\":{\"colorbar\":{\"outlinewidth\":0,\"ticks\":\"\"}},\"colorscale\":{\"sequential\":[[0.0,\"#0d0887\"],[0.1111111111111111,\"#46039f\"],[0.2222222222222222,\"#7201a8\"],[0.3333333333333333,\"#9c179e\"],[0.4444444444444444,\"#bd3786\"],[0.5555555555555556,\"#d8576b\"],[0.6666666666666666,\"#ed7953\"],[0.7777777777777778,\"#fb9f3a\"],[0.8888888888888888,\"#fdca26\"],[1.0,\"#f0f921\"]],\"sequentialminus\":[[0.0,\"#0d0887\"],[0.1111111111111111,\"#46039f\"],[0.2222222222222222,\"#7201a8\"],[0.3333333333333333,\"#9c179e\"],[0.4444444444444444,\"#bd3786\"],[0.5555555555555556,\"#d8576b\"],[0.6666666666666666,\"#ed7953\"],[0.7777777777777778,\"#fb9f3a\"],[0.8888888888888888,\"#fdca26\"],[1.0,\"#f0f921\"]],\"diverging\":[[0,\"#8e0152\"],[0.1,\"#c51b7d\"],[0.2,\"#de77ae\"],[0.3,\"#f1b6da\"],[0.4,\"#fde0ef\"],[0.5,\"#f7f7f7\"],[0.6,\"#e6f5d0\"],[0.7,\"#b8e186\"],[0.8,\"#7fbc41\"],[0.9,\"#4d9221\"],[1,\"#276419\"]]},\"xaxis\":{\"gridcolor\":\"white\",\"linecolor\":\"white\",\"ticks\":\"\",\"title\":{\"standoff\":15},\"zerolinecolor\":\"white\",\"automargin\":true,\"zerolinewidth\":2},\"yaxis\":{\"gridcolor\":\"white\",\"linecolor\":\"white\",\"ticks\":\"\",\"title\":{\"standoff\":15},\"zerolinecolor\":\"white\",\"automargin\":true,\"zerolinewidth\":2},\"scene\":{\"xaxis\":{\"backgroundcolor\":\"#E5ECF6\",\"gridcolor\":\"white\",\"linecolor\":\"white\",\"showbackground\":true,\"ticks\":\"\",\"zerolinecolor\":\"white\",\"gridwidth\":2},\"yaxis\":{\"backgroundcolor\":\"#E5ECF6\",\"gridcolor\":\"white\",\"linecolor\":\"white\",\"showbackground\":true,\"ticks\":\"\",\"zerolinecolor\":\"white\",\"gridwidth\":2},\"zaxis\":{\"backgroundcolor\":\"#E5ECF6\",\"gridcolor\":\"white\",\"linecolor\":\"white\",\"showbackground\":true,\"ticks\":\"\",\"zerolinecolor\":\"white\",\"gridwidth\":2}},\"shapedefaults\":{\"line\":{\"color\":\"#2a3f5f\"}},\"annotationdefaults\":{\"arrowcolor\":\"#2a3f5f\",\"arrowhead\":0,\"arrowwidth\":1},\"geo\":{\"bgcolor\":\"white\",\"landcolor\":\"#E5ECF6\",\"subunitcolor\":\"white\",\"showland\":true,\"showlakes\":true,\"lakecolor\":\"white\"},\"title\":{\"x\":0.05},\"mapbox\":{\"style\":\"light\"}}},\"xaxis\":{\"anchor\":\"y\",\"domain\":[0.0,1.0],\"title\":{\"text\":\"x\"}},\"yaxis\":{\"anchor\":\"x\",\"domain\":[0.0,1.0],\"title\":{\"text\":\"y\"}},\"legend\":{\"tracegroupgap\":0},\"title\":{\"text\":\"100 Most common categories of Customer ID\"},\"barmode\":\"relative\"},                        {\"responsive\": true}                    ).then(function(){\n",
              "                            \n",
              "var gd = document.getElementById('7419b7b2-c18b-4f9e-8ccf-e296099362ec');\n",
              "var x = new MutationObserver(function (mutations, observer) {{\n",
              "        var display = window.getComputedStyle(gd).display;\n",
              "        if (!display || display === 'none') {{\n",
              "            console.log([gd, 'removed!']);\n",
              "            Plotly.purge(gd);\n",
              "            observer.disconnect();\n",
              "        }}\n",
              "}});\n",
              "\n",
              "// Listen for the removal of the full notebook cells\n",
              "var notebookContainer = gd.closest('#notebook-container');\n",
              "if (notebookContainer) {{\n",
              "    x.observe(notebookContainer, {childList: true});\n",
              "}}\n",
              "\n",
              "// Listen for the clearing of the current output cell\n",
              "var outputEl = gd.closest('.output');\n",
              "if (outputEl) {{\n",
              "    x.observe(outputEl, {childList: true});\n",
              "}}\n",
              "\n",
              "                        })                };                            </script>        </div>\n",
              "</body>\n",
              "</html>"
            ]
          },
          "metadata": {}
        },
        {
          "output_type": "display_data",
          "data": {
            "text/plain": [
              "<IPython.core.display.Markdown object>"
            ],
            "text/markdown": "## Country Profile"
          },
          "metadata": {}
        },
        {
          "output_type": "display_data",
          "data": {
            "text/plain": [
              "Type                              object\n",
              "Number of observations            525461\n",
              "Unique                                40\n",
              "Top                       United Kingdom\n",
              "Freq                              485852\n",
              "                                        \n",
              "Missing cells                          0\n",
              "Missing cells (%)                  0.0 %\n",
              "Duplicate rows                    525461\n",
              "Duplicate rows (%)               100.0 %\n",
              "Total size in memory       4203816 bytes\n",
              "dtype: object"
            ]
          },
          "metadata": {}
        },
        {
          "output_type": "display_data",
          "data": {
            "text/html": [
              "<html>\n",
              "<head><meta charset=\"utf-8\" /></head>\n",
              "<body>\n",
              "    <div>            <script src=\"https://cdnjs.cloudflare.com/ajax/libs/mathjax/2.7.5/MathJax.js?config=TeX-AMS-MML_SVG\"></script><script type=\"text/javascript\">if (window.MathJax && window.MathJax.Hub && window.MathJax.Hub.Config) {window.MathJax.Hub.Config({SVG: {font: \"STIX-Web\"}});}</script>                <script type=\"text/javascript\">window.PlotlyConfig = {MathJaxConfig: 'local'};</script>\n",
              "        <script src=\"https://cdn.plot.ly/plotly-2.14.0.min.js\"></script>                <div id=\"5eaa1d4c-dd94-4749-a43f-7b9b2e7c5f1c\" class=\"plotly-graph-div\" style=\"height:525px; width:100%;\"></div>            <script type=\"text/javascript\">                                    window.PLOTLYENV=window.PLOTLYENV || {};                                    if (document.getElementById(\"5eaa1d4c-dd94-4749-a43f-7b9b2e7c5f1c\")) {                    Plotly.newPlot(                        \"5eaa1d4c-dd94-4749-a43f-7b9b2e7c5f1c\",                        [{\"alignmentgroup\":\"True\",\"hovertemplate\":\"x=%{x}<br>y=%{y}<extra></extra>\",\"legendgroup\":\"\",\"marker\":{\"color\":\"#636efa\",\"pattern\":{\"shape\":\"\"}},\"name\":\"\",\"offsetgroup\":\"\",\"orientation\":\"v\",\"showlegend\":false,\"textposition\":\"auto\",\"x\":[\"United Kingdom\",\"EIRE\",\"Germany\",\"France\",\"Netherlands\",\"Spain\",\"Switzerland\",\"Portugal\",\"Belgium\",\"Channel Islands\",\"Sweden\",\"Italy\",\"Australia\",\"Cyprus\",\"Austria\",\"Greece\",\"United Arab Emirates\",\"Denmark\",\"Norway\",\"Finland\",\"Unspecified\",\"USA\",\"Japan\",\"Poland\",\"Malta\",\"Lithuania\",\"Singapore\",\"RSA\",\"Bahrain\",\"Canada\",\"Hong Kong\",\"Thailand\",\"Israel\",\"Iceland\",\"Korea\",\"Brazil\",\"West Indies\",\"Bermuda\",\"Nigeria\",\"Lebanon\"],\"xaxis\":\"x\",\"y\":[485852,9670,8129,5772,2769,1278,1187,1101,1054,906,902,731,654,554,537,517,432,428,369,354,310,244,224,194,172,154,117,111,107,77,76,76,74,71,63,62,54,34,32,13],\"yaxis\":\"y\",\"type\":\"bar\"}],                        {\"template\":{\"data\":{\"histogram2dcontour\":[{\"type\":\"histogram2dcontour\",\"colorbar\":{\"outlinewidth\":0,\"ticks\":\"\"},\"colorscale\":[[0.0,\"#0d0887\"],[0.1111111111111111,\"#46039f\"],[0.2222222222222222,\"#7201a8\"],[0.3333333333333333,\"#9c179e\"],[0.4444444444444444,\"#bd3786\"],[0.5555555555555556,\"#d8576b\"],[0.6666666666666666,\"#ed7953\"],[0.7777777777777778,\"#fb9f3a\"],[0.8888888888888888,\"#fdca26\"],[1.0,\"#f0f921\"]]}],\"choropleth\":[{\"type\":\"choropleth\",\"colorbar\":{\"outlinewidth\":0,\"ticks\":\"\"}}],\"histogram2d\":[{\"type\":\"histogram2d\",\"colorbar\":{\"outlinewidth\":0,\"ticks\":\"\"},\"colorscale\":[[0.0,\"#0d0887\"],[0.1111111111111111,\"#46039f\"],[0.2222222222222222,\"#7201a8\"],[0.3333333333333333,\"#9c179e\"],[0.4444444444444444,\"#bd3786\"],[0.5555555555555556,\"#d8576b\"],[0.6666666666666666,\"#ed7953\"],[0.7777777777777778,\"#fb9f3a\"],[0.8888888888888888,\"#fdca26\"],[1.0,\"#f0f921\"]]}],\"heatmap\":[{\"type\":\"heatmap\",\"colorbar\":{\"outlinewidth\":0,\"ticks\":\"\"},\"colorscale\":[[0.0,\"#0d0887\"],[0.1111111111111111,\"#46039f\"],[0.2222222222222222,\"#7201a8\"],[0.3333333333333333,\"#9c179e\"],[0.4444444444444444,\"#bd3786\"],[0.5555555555555556,\"#d8576b\"],[0.6666666666666666,\"#ed7953\"],[0.7777777777777778,\"#fb9f3a\"],[0.8888888888888888,\"#fdca26\"],[1.0,\"#f0f921\"]]}],\"heatmapgl\":[{\"type\":\"heatmapgl\",\"colorbar\":{\"outlinewidth\":0,\"ticks\":\"\"},\"colorscale\":[[0.0,\"#0d0887\"],[0.1111111111111111,\"#46039f\"],[0.2222222222222222,\"#7201a8\"],[0.3333333333333333,\"#9c179e\"],[0.4444444444444444,\"#bd3786\"],[0.5555555555555556,\"#d8576b\"],[0.6666666666666666,\"#ed7953\"],[0.7777777777777778,\"#fb9f3a\"],[0.8888888888888888,\"#fdca26\"],[1.0,\"#f0f921\"]]}],\"contourcarpet\":[{\"type\":\"contourcarpet\",\"colorbar\":{\"outlinewidth\":0,\"ticks\":\"\"}}],\"contour\":[{\"type\":\"contour\",\"colorbar\":{\"outlinewidth\":0,\"ticks\":\"\"},\"colorscale\":[[0.0,\"#0d0887\"],[0.1111111111111111,\"#46039f\"],[0.2222222222222222,\"#7201a8\"],[0.3333333333333333,\"#9c179e\"],[0.4444444444444444,\"#bd3786\"],[0.5555555555555556,\"#d8576b\"],[0.6666666666666666,\"#ed7953\"],[0.7777777777777778,\"#fb9f3a\"],[0.8888888888888888,\"#fdca26\"],[1.0,\"#f0f921\"]]}],\"surface\":[{\"type\":\"surface\",\"colorbar\":{\"outlinewidth\":0,\"ticks\":\"\"},\"colorscale\":[[0.0,\"#0d0887\"],[0.1111111111111111,\"#46039f\"],[0.2222222222222222,\"#7201a8\"],[0.3333333333333333,\"#9c179e\"],[0.4444444444444444,\"#bd3786\"],[0.5555555555555556,\"#d8576b\"],[0.6666666666666666,\"#ed7953\"],[0.7777777777777778,\"#fb9f3a\"],[0.8888888888888888,\"#fdca26\"],[1.0,\"#f0f921\"]]}],\"mesh3d\":[{\"type\":\"mesh3d\",\"colorbar\":{\"outlinewidth\":0,\"ticks\":\"\"}}],\"scatter\":[{\"fillpattern\":{\"fillmode\":\"overlay\",\"size\":10,\"solidity\":0.2},\"type\":\"scatter\"}],\"parcoords\":[{\"type\":\"parcoords\",\"line\":{\"colorbar\":{\"outlinewidth\":0,\"ticks\":\"\"}}}],\"scatterpolargl\":[{\"type\":\"scatterpolargl\",\"marker\":{\"colorbar\":{\"outlinewidth\":0,\"ticks\":\"\"}}}],\"bar\":[{\"error_x\":{\"color\":\"#2a3f5f\"},\"error_y\":{\"color\":\"#2a3f5f\"},\"marker\":{\"line\":{\"color\":\"#E5ECF6\",\"width\":0.5},\"pattern\":{\"fillmode\":\"overlay\",\"size\":10,\"solidity\":0.2}},\"type\":\"bar\"}],\"scattergeo\":[{\"type\":\"scattergeo\",\"marker\":{\"colorbar\":{\"outlinewidth\":0,\"ticks\":\"\"}}}],\"scatterpolar\":[{\"type\":\"scatterpolar\",\"marker\":{\"colorbar\":{\"outlinewidth\":0,\"ticks\":\"\"}}}],\"histogram\":[{\"marker\":{\"pattern\":{\"fillmode\":\"overlay\",\"size\":10,\"solidity\":0.2}},\"type\":\"histogram\"}],\"scattergl\":[{\"type\":\"scattergl\",\"marker\":{\"colorbar\":{\"outlinewidth\":0,\"ticks\":\"\"}}}],\"scatter3d\":[{\"type\":\"scatter3d\",\"line\":{\"colorbar\":{\"outlinewidth\":0,\"ticks\":\"\"}},\"marker\":{\"colorbar\":{\"outlinewidth\":0,\"ticks\":\"\"}}}],\"scattermapbox\":[{\"type\":\"scattermapbox\",\"marker\":{\"colorbar\":{\"outlinewidth\":0,\"ticks\":\"\"}}}],\"scatterternary\":[{\"type\":\"scatterternary\",\"marker\":{\"colorbar\":{\"outlinewidth\":0,\"ticks\":\"\"}}}],\"scattercarpet\":[{\"type\":\"scattercarpet\",\"marker\":{\"colorbar\":{\"outlinewidth\":0,\"ticks\":\"\"}}}],\"carpet\":[{\"aaxis\":{\"endlinecolor\":\"#2a3f5f\",\"gridcolor\":\"white\",\"linecolor\":\"white\",\"minorgridcolor\":\"white\",\"startlinecolor\":\"#2a3f5f\"},\"baxis\":{\"endlinecolor\":\"#2a3f5f\",\"gridcolor\":\"white\",\"linecolor\":\"white\",\"minorgridcolor\":\"white\",\"startlinecolor\":\"#2a3f5f\"},\"type\":\"carpet\"}],\"table\":[{\"cells\":{\"fill\":{\"color\":\"#EBF0F8\"},\"line\":{\"color\":\"white\"}},\"header\":{\"fill\":{\"color\":\"#C8D4E3\"},\"line\":{\"color\":\"white\"}},\"type\":\"table\"}],\"barpolar\":[{\"marker\":{\"line\":{\"color\":\"#E5ECF6\",\"width\":0.5},\"pattern\":{\"fillmode\":\"overlay\",\"size\":10,\"solidity\":0.2}},\"type\":\"barpolar\"}],\"pie\":[{\"automargin\":true,\"type\":\"pie\"}]},\"layout\":{\"autotypenumbers\":\"strict\",\"colorway\":[\"#636efa\",\"#EF553B\",\"#00cc96\",\"#ab63fa\",\"#FFA15A\",\"#19d3f3\",\"#FF6692\",\"#B6E880\",\"#FF97FF\",\"#FECB52\"],\"font\":{\"color\":\"#2a3f5f\"},\"hovermode\":\"closest\",\"hoverlabel\":{\"align\":\"left\"},\"paper_bgcolor\":\"white\",\"plot_bgcolor\":\"#E5ECF6\",\"polar\":{\"bgcolor\":\"#E5ECF6\",\"angularaxis\":{\"gridcolor\":\"white\",\"linecolor\":\"white\",\"ticks\":\"\"},\"radialaxis\":{\"gridcolor\":\"white\",\"linecolor\":\"white\",\"ticks\":\"\"}},\"ternary\":{\"bgcolor\":\"#E5ECF6\",\"aaxis\":{\"gridcolor\":\"white\",\"linecolor\":\"white\",\"ticks\":\"\"},\"baxis\":{\"gridcolor\":\"white\",\"linecolor\":\"white\",\"ticks\":\"\"},\"caxis\":{\"gridcolor\":\"white\",\"linecolor\":\"white\",\"ticks\":\"\"}},\"coloraxis\":{\"colorbar\":{\"outlinewidth\":0,\"ticks\":\"\"}},\"colorscale\":{\"sequential\":[[0.0,\"#0d0887\"],[0.1111111111111111,\"#46039f\"],[0.2222222222222222,\"#7201a8\"],[0.3333333333333333,\"#9c179e\"],[0.4444444444444444,\"#bd3786\"],[0.5555555555555556,\"#d8576b\"],[0.6666666666666666,\"#ed7953\"],[0.7777777777777778,\"#fb9f3a\"],[0.8888888888888888,\"#fdca26\"],[1.0,\"#f0f921\"]],\"sequentialminus\":[[0.0,\"#0d0887\"],[0.1111111111111111,\"#46039f\"],[0.2222222222222222,\"#7201a8\"],[0.3333333333333333,\"#9c179e\"],[0.4444444444444444,\"#bd3786\"],[0.5555555555555556,\"#d8576b\"],[0.6666666666666666,\"#ed7953\"],[0.7777777777777778,\"#fb9f3a\"],[0.8888888888888888,\"#fdca26\"],[1.0,\"#f0f921\"]],\"diverging\":[[0,\"#8e0152\"],[0.1,\"#c51b7d\"],[0.2,\"#de77ae\"],[0.3,\"#f1b6da\"],[0.4,\"#fde0ef\"],[0.5,\"#f7f7f7\"],[0.6,\"#e6f5d0\"],[0.7,\"#b8e186\"],[0.8,\"#7fbc41\"],[0.9,\"#4d9221\"],[1,\"#276419\"]]},\"xaxis\":{\"gridcolor\":\"white\",\"linecolor\":\"white\",\"ticks\":\"\",\"title\":{\"standoff\":15},\"zerolinecolor\":\"white\",\"automargin\":true,\"zerolinewidth\":2},\"yaxis\":{\"gridcolor\":\"white\",\"linecolor\":\"white\",\"ticks\":\"\",\"title\":{\"standoff\":15},\"zerolinecolor\":\"white\",\"automargin\":true,\"zerolinewidth\":2},\"scene\":{\"xaxis\":{\"backgroundcolor\":\"#E5ECF6\",\"gridcolor\":\"white\",\"linecolor\":\"white\",\"showbackground\":true,\"ticks\":\"\",\"zerolinecolor\":\"white\",\"gridwidth\":2},\"yaxis\":{\"backgroundcolor\":\"#E5ECF6\",\"gridcolor\":\"white\",\"linecolor\":\"white\",\"showbackground\":true,\"ticks\":\"\",\"zerolinecolor\":\"white\",\"gridwidth\":2},\"zaxis\":{\"backgroundcolor\":\"#E5ECF6\",\"gridcolor\":\"white\",\"linecolor\":\"white\",\"showbackground\":true,\"ticks\":\"\",\"zerolinecolor\":\"white\",\"gridwidth\":2}},\"shapedefaults\":{\"line\":{\"color\":\"#2a3f5f\"}},\"annotationdefaults\":{\"arrowcolor\":\"#2a3f5f\",\"arrowhead\":0,\"arrowwidth\":1},\"geo\":{\"bgcolor\":\"white\",\"landcolor\":\"#E5ECF6\",\"subunitcolor\":\"white\",\"showland\":true,\"showlakes\":true,\"lakecolor\":\"white\"},\"title\":{\"x\":0.05},\"mapbox\":{\"style\":\"light\"}}},\"xaxis\":{\"anchor\":\"y\",\"domain\":[0.0,1.0],\"title\":{\"text\":\"x\"}},\"yaxis\":{\"anchor\":\"x\",\"domain\":[0.0,1.0],\"title\":{\"text\":\"y\"}},\"legend\":{\"tracegroupgap\":0},\"title\":{\"text\":\"100 Most common categories of Country\"},\"barmode\":\"relative\"},                        {\"responsive\": true}                    ).then(function(){\n",
              "                            \n",
              "var gd = document.getElementById('5eaa1d4c-dd94-4749-a43f-7b9b2e7c5f1c');\n",
              "var x = new MutationObserver(function (mutations, observer) {{\n",
              "        var display = window.getComputedStyle(gd).display;\n",
              "        if (!display || display === 'none') {{\n",
              "            console.log([gd, 'removed!']);\n",
              "            Plotly.purge(gd);\n",
              "            observer.disconnect();\n",
              "        }}\n",
              "}});\n",
              "\n",
              "// Listen for the removal of the full notebook cells\n",
              "var notebookContainer = gd.closest('#notebook-container');\n",
              "if (notebookContainer) {{\n",
              "    x.observe(notebookContainer, {childList: true});\n",
              "}}\n",
              "\n",
              "// Listen for the clearing of the current output cell\n",
              "var outputEl = gd.closest('.output');\n",
              "if (outputEl) {{\n",
              "    x.observe(outputEl, {childList: true});\n",
              "}}\n",
              "\n",
              "                        })                };                            </script>        </div>\n",
              "</body>\n",
              "</html>"
            ]
          },
          "metadata": {}
        },
        {
          "output_type": "execute_result",
          "data": {
            "text/plain": [
              "Invoice        None\n",
              "StockCode      None\n",
              "Description    None\n",
              "Quantity       None\n",
              "InvoiceDate    None\n",
              "Customer ID    None\n",
              "Country        None\n",
              "dtype: object"
            ]
          },
          "metadata": {},
          "execution_count": 10
        }
      ],
      "source": [
        "# Aplicamos la función para todas las columnas excepto Price que\n",
        "# el gráfico se encuentra arriba...\n",
        "(pd.concat([df_retail.loc[:, 'Invoice':'InvoiceDate'],\n",
        "            df_retail.loc[:, 'Customer ID':'Country']], \n",
        "           axis=1)\n",
        "  .apply(lambda x: profile_serie(x)))"
      ]
    },
    {
      "cell_type": "markdown",
      "metadata": {
        "cell_id": "00023-ecb7fa4e-63ba-490c-8da7-211532bff49b",
        "deepnote_cell_height": 69.83332824707031,
        "deepnote_cell_type": "markdown",
        "tags": [],
        "id": "BAE9WCl2UZbt"
      },
      "source": [
        "**Análisis de la segunda serie (Invoice)**\n",
        "\n",
        "Corresponde al ID de la boleta asociada a una transacción, \n",
        "por lo tanto toda observación tiene una boleta asociada.\n",
        "\n",
        "Se reportan 28.816 transacciones diferentes, donde la mayor venta (en cuanto a cantidad de productos diferentes) contiene 675 tipos de productos distintos. \n",
        "Cada registro se encuentra separado el tipo de objeto que fue vendido, de hecho la mayoría de las observaciones no son únicas, solo hay un poco más del 1.5% de los registros que corresponden  a ventas de un solo tipo de producto. \n",
        "\n",
        "**Nota:** La estructura que se esta\n",
        "ocupando para esta variable es `dtype=category`, lo que ahorra memoria versus que si se considerara esta variable como `object`."
      ]
    },
    {
      "cell_type": "markdown",
      "source": [
        "**Análisis de la tercera serie (StockCode)**\n",
        "\n",
        "Corresponde al código del producto (variable categórica). Todo producto tiene un código asociado, por lo que no se reportan valores nulos, y existen 4.632 productos diferentes.\n",
        "\n",
        "Al analizar las frecuencias, se observa que el producto presente en mayor cantidad de ventas corresponde al producto de código 85123A, el cual está presente en 3.516 facturas. La presencia de este producto es atípicamente alta, ya que el segundo producto con mayor presencia en distintas facturas aparece en 2.221 facturas. El centésimo producto más frecuentes aparece en 689 facturas.\n",
        "\n",
        "Solo existen 435 (0.08% de los datos) productos que aparecen en una sola factura."
      ],
      "metadata": {
        "id": "q1sc4Z2vSJh_"
      }
    },
    {
      "cell_type": "markdown",
      "source": [
        "**Análisis de la cuarta serie (Description)**\n",
        "\n",
        "Corresponde al nombre del producto (variable categórica). No existe valores nulos, por lo que todos los productos cuentan con un nombre.\n",
        "\n",
        "Se observa que la cantidad de nombres únicos de productos, 4.682, es mayor a la de códigos únicos, 4.632. Por tanto, se deduce que existen códigos que están asociados a más de 1 nombre de producto.\n",
        "\n",
        "El nombre de producto presente en mayor cantidad de facturas es \"WHITE HANGING HEART T-LIGHT HOLDER\", con 3.549 ocurrencias, que también es levemente mayor a la frecuencia del código de producto más frecuente. \n",
        "\n",
        "Para las 100 Description más frecuentes, la distribución de frecuencias es similar a la del código producto, lo cual tiene sentido, ya que se espera una fuerte asociación entre estas dos variables, al explicar ambas la identificación de un producto."
      ],
      "metadata": {
        "id": "ywn5OpemUxvw"
      }
    },
    {
      "cell_type": "markdown",
      "source": [
        "**Análisis de la quinta serie (Quantity)**\n",
        "\n",
        "Corresponde a la cantidad de productos comprados para un mismo producto específico en una venta (variable numérica entera). \n",
        "\n",
        "Al igual que para el caso del precio, llama la atención la presencia de valores negativos (2.35% de las cantidades).\n",
        "\n",
        "Se observa que, incluso eliminando los valores _outliers_, la distribución es sesgada hacia la izquierda (sesgo positivo), concentrándose la mayor cantidad de cantidades de producto entre 0 y 1 producto (270 cantidades).\n",
        "\n",
        "Se destaca también la presencia de una venta con cantidad de 19.152, pero considerando hasta el percentil 75 la mayoría de las cantidades son entre 1 y 10."
      ],
      "metadata": {
        "id": "OuVuRQljXks7"
      }
    },
    {
      "cell_type": "markdown",
      "source": [
        "**Análisis de la sexta serie (InvoiceDate)**\n",
        "\n",
        "Corresponde a la fecha de la venta. Se observa que las ventas se realizaron entre el primero de diciembre de 2009 y el 9 de diciembre de 2010, por lo que el periodo cubierto es de aproximadamente 1 año.\n",
        "\n",
        "Debido a que solo se tiene 1 año, no es posible evaluar si existe estacionalidad u otras caaracterísticas de una serie temporal. Se debe destacar que probablemente el gráfico escogido no es el más apropiado para explorar el comportamiento de una serie temporal. Pareciera haber una cierta tendencia al aumento de ventas en el tiempo, pero no queda tan claro."
      ],
      "metadata": {
        "id": "AXS9UueeX7fm"
      }
    },
    {
      "cell_type": "markdown",
      "source": [
        "**Análisis de la séptima serie (Customer ID)**\n",
        "\n",
        "Existen 4.383 únicos ID de clietes entre las ventas. Hay 107.927 registros (i.e. 20.54%) que no se encuentran asociados a un cliente (datos nulos)."
      ],
      "metadata": {
        "id": "CZkoYTKiX_fT"
      }
    },
    {
      "cell_type": "markdown",
      "source": [
        "**Análisis de la octava serie (Country)**\n",
        "\n",
        "La mayoría de las observaciones se encuentran asociadas\n",
        "a _United Kingdom_, correspondientes a un total de 485.852 registros (i.e. 92.46%). Los siguientes paises que lo siguen es Irlanda con 9670, luego Alemania con 8129, Francia con 5772, y el resto de las registros se reparten en 36 países que agrupan 16.038 filas."
      ],
      "metadata": {
        "id": "xDcgCEj_YGuG"
      }
    },
    {
      "cell_type": "markdown",
      "metadata": {
        "cell_id": "00023-70400e15-a0f7-41f7-98a5-4b81f1d3315a",
        "deepnote_cell_height": 144.23333740234375,
        "deepnote_cell_type": "markdown",
        "tags": [],
        "id": "4-17e--GUZbt"
      },
      "source": [
        "### 1.2.2 Análisis Multivariado y Datos Faltantes [1 ptos]\n",
        "\n",
        "En segundo lugar encontrará la función ``profile_df()`` que recibe un dataframe como entrada y realiza un análisis bivariado de todas las variables numéricas que conforman el dataframe, un analisis de la correlación de Pearson entre las variables numericas del dataframe y la matriz de datos faltantes."
      ]
    },
    {
      "cell_type": "code",
      "execution_count": 11,
      "metadata": {
        "cell_id": "00024-527d7ab1-22cb-461d-bb32-57ed65f2f2ab",
        "deepnote_cell_height": 530.0333251953125,
        "deepnote_cell_type": "code",
        "deepnote_to_be_reexecuted": false,
        "execution_millis": 2,
        "execution_start": 1634322697785,
        "owner_user_id": "badcc427-fd3d-4615-9296-faa43ec69cfb",
        "source_hash": "ac31b9bd",
        "tags": [],
        "id": "9YWxEIA8UZbu"
      },
      "outputs": [],
      "source": [
        "def profile_df(dataframe_in):\n",
        "    df = dataframe_in.copy()\n",
        "\n",
        "    list_type = []\n",
        "    for col in list(df.columns):\n",
        "        if is_numeric_dtype(df[col]) or \\\n",
        "        pd.core.dtypes.common.is_datetime_or_timedelta_dtype(df[col]):\n",
        "            list_type.append(col)\n",
        "\n",
        "    \n",
        "    display(Markdown('## Bivariant Analysis:'))\n",
        "    for i in range(len(list_type)):\n",
        "        for j in range(i+1, len(list_type)):\n",
        "            plt.scatter(df[list_type[i]], df[list_type[j]])\n",
        "            plt.xlabel(list_type[i]) \n",
        "            plt.ylabel(list_type[j]) \n",
        "            plt.title(f\"{list_type[i]} v/s {list_type[j]}\")\n",
        "            plt.show()\n",
        "\n",
        "    display(Markdown('## Correlation:'))\n",
        "    fig_corr = px.imshow(df.corr())\n",
        "    fig_corr.show()\n",
        "\n",
        "    display(Markdown('## Missing Matrix:'))\n",
        "    fig, ax = plt.subplots(figsize=[15, 10])\n",
        "    msno.matrix(df, ax=ax, sparkline=False)"
      ]
    },
    {
      "cell_type": "code",
      "source": [
        "profile_df(df_retail)"
      ],
      "metadata": {
        "colab": {
          "base_uri": "https://localhost:8080/",
          "height": 1000
        },
        "id": "CUDl60qzqKaB",
        "outputId": "7d1f1dbc-567b-4a4a-8e78-3d7b58402a97"
      },
      "execution_count": 12,
      "outputs": [
        {
          "output_type": "display_data",
          "data": {
            "text/plain": [
              "<IPython.core.display.Markdown object>"
            ],
            "text/markdown": "## Bivariant Analysis:"
          },
          "metadata": {}
        },
        {
          "output_type": "display_data",
          "data": {
            "text/plain": [
              "<Figure size 432x288 with 1 Axes>"
            ],
            "image/png": "[encoded data removed]"
          },
          "metadata": {
            "needs_background": "light"
          }
        },
        {
          "output_type": "display_data",
          "data": {
            "text/plain": [
              "<Figure size 432x288 with 1 Axes>"
            ],
            "image/png": "[encoded data removed]"
          },
          "metadata": {
            "needs_background": "light"
          }
        },
        {
          "output_type": "display_data",
          "data": {
            "text/plain": [
              "<Figure size 432x288 with 1 Axes>"
            ],
            "image/png": "[encoded data removed]"
          },
          "metadata": {
            "needs_background": "light"
          }
        },
        {
          "output_type": "display_data",
          "data": {
            "text/plain": [
              "<IPython.core.display.Markdown object>"
            ],
            "text/markdown": "## Correlation:"
          },
          "metadata": {}
        },
        {
          "output_type": "display_data",
          "data": {
            "text/html": [
              "<html>\n",
              "<head><meta charset=\"utf-8\" /></head>\n",
              "<body>\n",
              "    <div>            <script src=\"https://cdnjs.cloudflare.com/ajax/libs/mathjax/2.7.5/MathJax.js?config=TeX-AMS-MML_SVG\"></script><script type=\"text/javascript\">if (window.MathJax && window.MathJax.Hub && window.MathJax.Hub.Config) {window.MathJax.Hub.Config({SVG: {font: \"STIX-Web\"}});}</script>                <script type=\"text/javascript\">window.PlotlyConfig = {MathJaxConfig: 'local'};</script>\n",
              "        <script src=\"https://cdn.plot.ly/plotly-2.14.0.min.js\"></script>                <div id=\"482d6e54-2a01-49b3-baa9-620132a5bdd0\" class=\"plotly-graph-div\" style=\"height:525px; width:100%;\"></div>            <script type=\"text/javascript\">                                    window.PLOTLYENV=window.PLOTLYENV || {};                                    if (document.getElementById(\"482d6e54-2a01-49b3-baa9-620132a5bdd0\")) {                    Plotly.newPlot(                        \"482d6e54-2a01-49b3-baa9-620132a5bdd0\",                        [{\"coloraxis\":\"coloraxis\",\"name\":\"0\",\"x\":[\"Quantity\",\"Price\"],\"y\":[\"Quantity\",\"Price\"],\"z\":[[1.0,-0.0019313304222704135],[-0.0019313304222704135,1.0]],\"type\":\"heatmap\",\"xaxis\":\"x\",\"yaxis\":\"y\",\"hovertemplate\":\"x: %{x}<br>y: %{y}<br>color: %{z}<extra></extra>\"}],                        {\"template\":{\"data\":{\"histogram2dcontour\":[{\"type\":\"histogram2dcontour\",\"colorbar\":{\"outlinewidth\":0,\"ticks\":\"\"},\"colorscale\":[[0.0,\"#0d0887\"],[0.1111111111111111,\"#46039f\"],[0.2222222222222222,\"#7201a8\"],[0.3333333333333333,\"#9c179e\"],[0.4444444444444444,\"#bd3786\"],[0.5555555555555556,\"#d8576b\"],[0.6666666666666666,\"#ed7953\"],[0.7777777777777778,\"#fb9f3a\"],[0.8888888888888888,\"#fdca26\"],[1.0,\"#f0f921\"]]}],\"choropleth\":[{\"type\":\"choropleth\",\"colorbar\":{\"outlinewidth\":0,\"ticks\":\"\"}}],\"histogram2d\":[{\"type\":\"histogram2d\",\"colorbar\":{\"outlinewidth\":0,\"ticks\":\"\"},\"colorscale\":[[0.0,\"#0d0887\"],[0.1111111111111111,\"#46039f\"],[0.2222222222222222,\"#7201a8\"],[0.3333333333333333,\"#9c179e\"],[0.4444444444444444,\"#bd3786\"],[0.5555555555555556,\"#d8576b\"],[0.6666666666666666,\"#ed7953\"],[0.7777777777777778,\"#fb9f3a\"],[0.8888888888888888,\"#fdca26\"],[1.0,\"#f0f921\"]]}],\"heatmap\":[{\"type\":\"heatmap\",\"colorbar\":{\"outlinewidth\":0,\"ticks\":\"\"},\"colorscale\":[[0.0,\"#0d0887\"],[0.1111111111111111,\"#46039f\"],[0.2222222222222222,\"#7201a8\"],[0.3333333333333333,\"#9c179e\"],[0.4444444444444444,\"#bd3786\"],[0.5555555555555556,\"#d8576b\"],[0.6666666666666666,\"#ed7953\"],[0.7777777777777778,\"#fb9f3a\"],[0.8888888888888888,\"#fdca26\"],[1.0,\"#f0f921\"]]}],\"heatmapgl\":[{\"type\":\"heatmapgl\",\"colorbar\":{\"outlinewidth\":0,\"ticks\":\"\"},\"colorscale\":[[0.0,\"#0d0887\"],[0.1111111111111111,\"#46039f\"],[0.2222222222222222,\"#7201a8\"],[0.3333333333333333,\"#9c179e\"],[0.4444444444444444,\"#bd3786\"],[0.5555555555555556,\"#d8576b\"],[0.6666666666666666,\"#ed7953\"],[0.7777777777777778,\"#fb9f3a\"],[0.8888888888888888,\"#fdca26\"],[1.0,\"#f0f921\"]]}],\"contourcarpet\":[{\"type\":\"contourcarpet\",\"colorbar\":{\"outlinewidth\":0,\"ticks\":\"\"}}],\"contour\":[{\"type\":\"contour\",\"colorbar\":{\"outlinewidth\":0,\"ticks\":\"\"},\"colorscale\":[[0.0,\"#0d0887\"],[0.1111111111111111,\"#46039f\"],[0.2222222222222222,\"#7201a8\"],[0.3333333333333333,\"#9c179e\"],[0.4444444444444444,\"#bd3786\"],[0.5555555555555556,\"#d8576b\"],[0.6666666666666666,\"#ed7953\"],[0.7777777777777778,\"#fb9f3a\"],[0.8888888888888888,\"#fdca26\"],[1.0,\"#f0f921\"]]}],\"surface\":[{\"type\":\"surface\",\"colorbar\":{\"outlinewidth\":0,\"ticks\":\"\"},\"colorscale\":[[0.0,\"#0d0887\"],[0.1111111111111111,\"#46039f\"],[0.2222222222222222,\"#7201a8\"],[0.3333333333333333,\"#9c179e\"],[0.4444444444444444,\"#bd3786\"],[0.5555555555555556,\"#d8576b\"],[0.6666666666666666,\"#ed7953\"],[0.7777777777777778,\"#fb9f3a\"],[0.8888888888888888,\"#fdca26\"],[1.0,\"#f0f921\"]]}],\"mesh3d\":[{\"type\":\"mesh3d\",\"colorbar\":{\"outlinewidth\":0,\"ticks\":\"\"}}],\"scatter\":[{\"fillpattern\":{\"fillmode\":\"overlay\",\"size\":10,\"solidity\":0.2},\"type\":\"scatter\"}],\"parcoords\":[{\"type\":\"parcoords\",\"line\":{\"colorbar\":{\"outlinewidth\":0,\"ticks\":\"\"}}}],\"scatterpolargl\":[{\"type\":\"scatterpolargl\",\"marker\":{\"colorbar\":{\"outlinewidth\":0,\"ticks\":\"\"}}}],\"bar\":[{\"error_x\":{\"color\":\"#2a3f5f\"},\"error_y\":{\"color\":\"#2a3f5f\"},\"marker\":{\"line\":{\"color\":\"#E5ECF6\",\"width\":0.5},\"pattern\":{\"fillmode\":\"overlay\",\"size\":10,\"solidity\":0.2}},\"type\":\"bar\"}],\"scattergeo\":[{\"type\":\"scattergeo\",\"marker\":{\"colorbar\":{\"outlinewidth\":0,\"ticks\":\"\"}}}],\"scatterpolar\":[{\"type\":\"scatterpolar\",\"marker\":{\"colorbar\":{\"outlinewidth\":0,\"ticks\":\"\"}}}],\"histogram\":[{\"marker\":{\"pattern\":{\"fillmode\":\"overlay\",\"size\":10,\"solidity\":0.2}},\"type\":\"histogram\"}],\"scattergl\":[{\"type\":\"scattergl\",\"marker\":{\"colorbar\":{\"outlinewidth\":0,\"ticks\":\"\"}}}],\"scatter3d\":[{\"type\":\"scatter3d\",\"line\":{\"colorbar\":{\"outlinewidth\":0,\"ticks\":\"\"}},\"marker\":{\"colorbar\":{\"outlinewidth\":0,\"ticks\":\"\"}}}],\"scattermapbox\":[{\"type\":\"scattermapbox\",\"marker\":{\"colorbar\":{\"outlinewidth\":0,\"ticks\":\"\"}}}],\"scatterternary\":[{\"type\":\"scatterternary\",\"marker\":{\"colorbar\":{\"outlinewidth\":0,\"ticks\":\"\"}}}],\"scattercarpet\":[{\"type\":\"scattercarpet\",\"marker\":{\"colorbar\":{\"outlinewidth\":0,\"ticks\":\"\"}}}],\"carpet\":[{\"aaxis\":{\"endlinecolor\":\"#2a3f5f\",\"gridcolor\":\"white\",\"linecolor\":\"white\",\"minorgridcolor\":\"white\",\"startlinecolor\":\"#2a3f5f\"},\"baxis\":{\"endlinecolor\":\"#2a3f5f\",\"gridcolor\":\"white\",\"linecolor\":\"white\",\"minorgridcolor\":\"white\",\"startlinecolor\":\"#2a3f5f\"},\"type\":\"carpet\"}],\"table\":[{\"cells\":{\"fill\":{\"color\":\"#EBF0F8\"},\"line\":{\"color\":\"white\"}},\"header\":{\"fill\":{\"color\":\"#C8D4E3\"},\"line\":{\"color\":\"white\"}},\"type\":\"table\"}],\"barpolar\":[{\"marker\":{\"line\":{\"color\":\"#E5ECF6\",\"width\":0.5},\"pattern\":{\"fillmode\":\"overlay\",\"size\":10,\"solidity\":0.2}},\"type\":\"barpolar\"}],\"pie\":[{\"automargin\":true,\"type\":\"pie\"}]},\"layout\":{\"autotypenumbers\":\"strict\",\"colorway\":[\"#636efa\",\"#EF553B\",\"#00cc96\",\"#ab63fa\",\"#FFA15A\",\"#19d3f3\",\"#FF6692\",\"#B6E880\",\"#FF97FF\",\"#FECB52\"],\"font\":{\"color\":\"#2a3f5f\"},\"hovermode\":\"closest\",\"hoverlabel\":{\"align\":\"left\"},\"paper_bgcolor\":\"white\",\"plot_bgcolor\":\"#E5ECF6\",\"polar\":{\"bgcolor\":\"#E5ECF6\",\"angularaxis\":{\"gridcolor\":\"white\",\"linecolor\":\"white\",\"ticks\":\"\"},\"radialaxis\":{\"gridcolor\":\"white\",\"linecolor\":\"white\",\"ticks\":\"\"}},\"ternary\":{\"bgcolor\":\"#E5ECF6\",\"aaxis\":{\"gridcolor\":\"white\",\"linecolor\":\"white\",\"ticks\":\"\"},\"baxis\":{\"gridcolor\":\"white\",\"linecolor\":\"white\",\"ticks\":\"\"},\"caxis\":{\"gridcolor\":\"white\",\"linecolor\":\"white\",\"ticks\":\"\"}},\"coloraxis\":{\"colorbar\":{\"outlinewidth\":0,\"ticks\":\"\"}},\"colorscale\":{\"sequential\":[[0.0,\"#0d0887\"],[0.1111111111111111,\"#46039f\"],[0.2222222222222222,\"#7201a8\"],[0.3333333333333333,\"#9c179e\"],[0.4444444444444444,\"#bd3786\"],[0.5555555555555556,\"#d8576b\"],[0.6666666666666666,\"#ed7953\"],[0.7777777777777778,\"#fb9f3a\"],[0.8888888888888888,\"#fdca26\"],[1.0,\"#f0f921\"]],\"sequentialminus\":[[0.0,\"#0d0887\"],[0.1111111111111111,\"#46039f\"],[0.2222222222222222,\"#7201a8\"],[0.3333333333333333,\"#9c179e\"],[0.4444444444444444,\"#bd3786\"],[0.5555555555555556,\"#d8576b\"],[0.6666666666666666,\"#ed7953\"],[0.7777777777777778,\"#fb9f3a\"],[0.8888888888888888,\"#fdca26\"],[1.0,\"#f0f921\"]],\"diverging\":[[0,\"#8e0152\"],[0.1,\"#c51b7d\"],[0.2,\"#de77ae\"],[0.3,\"#f1b6da\"],[0.4,\"#fde0ef\"],[0.5,\"#f7f7f7\"],[0.6,\"#e6f5d0\"],[0.7,\"#b8e186\"],[0.8,\"#7fbc41\"],[0.9,\"#4d9221\"],[1,\"#276419\"]]},\"xaxis\":{\"gridcolor\":\"white\",\"linecolor\":\"white\",\"ticks\":\"\",\"title\":{\"standoff\":15},\"zerolinecolor\":\"white\",\"automargin\":true,\"zerolinewidth\":2},\"yaxis\":{\"gridcolor\":\"white\",\"linecolor\":\"white\",\"ticks\":\"\",\"title\":{\"standoff\":15},\"zerolinecolor\":\"white\",\"automargin\":true,\"zerolinewidth\":2},\"scene\":{\"xaxis\":{\"backgroundcolor\":\"#E5ECF6\",\"gridcolor\":\"white\",\"linecolor\":\"white\",\"showbackground\":true,\"ticks\":\"\",\"zerolinecolor\":\"white\",\"gridwidth\":2},\"yaxis\":{\"backgroundcolor\":\"#E5ECF6\",\"gridcolor\":\"white\",\"linecolor\":\"white\",\"showbackground\":true,\"ticks\":\"\",\"zerolinecolor\":\"white\",\"gridwidth\":2},\"zaxis\":{\"backgroundcolor\":\"#E5ECF6\",\"gridcolor\":\"white\",\"linecolor\":\"white\",\"showbackground\":true,\"ticks\":\"\",\"zerolinecolor\":\"white\",\"gridwidth\":2}},\"shapedefaults\":{\"line\":{\"color\":\"#2a3f5f\"}},\"annotationdefaults\":{\"arrowcolor\":\"#2a3f5f\",\"arrowhead\":0,\"arrowwidth\":1},\"geo\":{\"bgcolor\":\"white\",\"landcolor\":\"#E5ECF6\",\"subunitcolor\":\"white\",\"showland\":true,\"showlakes\":true,\"lakecolor\":\"white\"},\"title\":{\"x\":0.05},\"mapbox\":{\"style\":\"light\"}}},\"xaxis\":{\"anchor\":\"y\",\"domain\":[0.0,1.0],\"scaleanchor\":\"y\",\"constrain\":\"domain\"},\"yaxis\":{\"anchor\":\"x\",\"domain\":[0.0,1.0],\"autorange\":\"reversed\",\"constrain\":\"domain\"},\"coloraxis\":{\"colorscale\":[[0.0,\"#0d0887\"],[0.1111111111111111,\"#46039f\"],[0.2222222222222222,\"#7201a8\"],[0.3333333333333333,\"#9c179e\"],[0.4444444444444444,\"#bd3786\"],[0.5555555555555556,\"#d8576b\"],[0.6666666666666666,\"#ed7953\"],[0.7777777777777778,\"#fb9f3a\"],[0.8888888888888888,\"#fdca26\"],[1.0,\"#f0f921\"]]},\"margin\":{\"t\":60}},                        {\"responsive\": true}                    ).then(function(){\n",
              "                            \n",
              "var gd = document.getElementById('482d6e54-2a01-49b3-baa9-620132a5bdd0');\n",
              "var x = new MutationObserver(function (mutations, observer) {{\n",
              "        var display = window.getComputedStyle(gd).display;\n",
              "        if (!display || display === 'none') {{\n",
              "            console.log([gd, 'removed!']);\n",
              "            Plotly.purge(gd);\n",
              "            observer.disconnect();\n",
              "        }}\n",
              "}});\n",
              "\n",
              "// Listen for the removal of the full notebook cells\n",
              "var notebookContainer = gd.closest('#notebook-container');\n",
              "if (notebookContainer) {{\n",
              "    x.observe(notebookContainer, {childList: true});\n",
              "}}\n",
              "\n",
              "// Listen for the clearing of the current output cell\n",
              "var outputEl = gd.closest('.output');\n",
              "if (outputEl) {{\n",
              "    x.observe(outputEl, {childList: true});\n",
              "}}\n",
              "\n",
              "                        })                };                            </script>        </div>\n",
              "</body>\n",
              "</html>"
            ]
          },
          "metadata": {}
        },
        {
          "output_type": "display_data",
          "data": {
            "text/plain": [
              "<IPython.core.display.Markdown object>"
            ],
            "text/markdown": "## Missing Matrix:"
          },
          "metadata": {}
        },
        {
          "output_type": "display_data",
          "data": {
            "text/plain": [
              "<Figure size 1080x720 with 1 Axes>"
            ],
            "image/png": "[encoded data removed]"
          },
          "metadata": {
            "needs_background": "light"
          }
        }
      ]
    },
    {
      "cell_type": "markdown",
      "source": [
        "**Observaciones:**\n",
        "\n",
        "\n",
        "1. No se detecta asociaciones importantes con la variable precio y otras variables. **TODO**: Hay una fecha particular que tiene valores extremos,\n",
        "o demasiado disasociados entre el precio y la cantidad, ver como se comportan\n",
        "si filtramos estas observaciones. \n",
        "2. Destaca la gran cantidad de datos nulos presentes en la columna `CustomerId`, siendo esta además la única columna con datos nulos.\n",
        "3. Dado lo anterior, y sumado a que no se. encuentran concentrados en algún\n",
        "sector de las filas, no se determina ningún patrón que pueda explicar los datos\n",
        "nulos en la columna `CustomerId`. Al menos, apartir de la visualización _missing matrix_."
      ],
      "metadata": {
        "id": "jMlZ_GBxqXiC"
      }
    },
    {
      "cell_type": "markdown",
      "metadata": {
        "cell_id": "00026-df20962a-a04e-4edd-9d19-3acc252a7f29",
        "deepnote_cell_height": 239.43333435058594,
        "deepnote_cell_type": "markdown",
        "tags": [],
        "id": "yb1xjnHNUZbv"
      },
      "source": [
        "### 1.2.3 Limpieza de Datos [1 pto]\n",
        "\n",
        "Como pudo ver en las secciones anteriores, los datos presentan valores erroneos, es por esto que se le solicita que realice una función que permita limpiar el dataset. Realice esta función en base observaciones propias y considere como imposible tener cantidades negativas en las ventas.\n",
        "\n",
        "Una vez realizada la función, realice nuevamente el análisis exploratorio y comente las principales diferencias.\n",
        "\n",
        "**Respuesta:**\n",
        "\n",
        "- Se considerará que un producto no puede tener precio negativo.\n",
        "- Se considerará que un producto no puede tener cantidades negativas.\n",
        "- Los casos en que no se cumpla esto, se reemplazará el valor original por `np.nan`.\n",
        "- Los valores atípicos extremos (sobre el percentil 99%) para las variables quantity y price también se reemplazarán por nulos, por alejarse demasiado del rango de valores de la mayoría de datos.\n",
        "- Se eliminan la columna de Customer ID por tener gran cantidad de nulos, ya que además su imputación es difícil por ser un identificador único del cliente, y no es una variable muy útil desde el punto de vista analítico de asociación al momento de identificar grupos.\n",
        "\n",
        "\n",
        "Luego al realizar nuevamente el análisis univariado, las principales diferencias se dan, como era esperado, en las variables quantity y price, las cuales cambian su distribución disminuyendo el sesgo, el cual igual de todas formas se mantiene, solo que en menor medida."
      ]
    },
    {
      "cell_type": "code",
      "execution_count": 13,
      "metadata": {
        "cell_id": "00027-c103a1ac-7b8e-4ad8-af70-1385769b6c33",
        "deepnote_cell_height": 65.03334045410156,
        "deepnote_cell_type": "code",
        "tags": [],
        "id": "BMmjvAKRUZbv"
      },
      "outputs": [],
      "source": [
        "def limpiar_df(\n",
        "    data,\n",
        "    columns_drop=[\"Customer ID\"],\n",
        "    columns_clean = [\"Price\", \"Quantity\"]\n",
        "):\n",
        "  # Selección de atributos\n",
        "  df_proc = data.copy().drop(columns=columns_drop)\n",
        "\n",
        "  # Se reemplaza por nulos\n",
        "  for c in columns_clean:\n",
        "    df_proc[columns_clean] = np.where(\n",
        "        (df_proc[columns_clean] < 0)\n",
        "        | (df_proc[columns_clean] > df_proc[columns_clean].quantile(.99)),\n",
        "        np.nan,\n",
        "        df_proc[columns_clean]\n",
        "    )\n",
        "\n",
        "  # Se explora nuevamente la frecuencia de nulos\n",
        "  msno.matrix(df_proc);\n",
        "  plt.title(\"Nulos previo a la limpieza\")\n",
        "\n",
        "  # Porcentaje de nulos previo a limpieza\n",
        "  print(\"% Nulos previo a la limpieza\")\n",
        "  print(round(df_proc[columns_clean].isna().sum() / df_proc.shape[0] * 100, 2))\n",
        "\n",
        "  return df_proc.dropna()"
      ]
    },
    {
      "cell_type": "code",
      "source": [
        "# Se limpia\n",
        "df_proc = limpiar_df(df_retail)"
      ],
      "metadata": {
        "colab": {
          "base_uri": "https://localhost:8080/",
          "height": 668
        },
        "id": "2OC4FyB8-IEA",
        "outputId": "c4f7ec90-28de-4695-97b6-c267b94abc36"
      },
      "execution_count": 14,
      "outputs": [
        {
          "output_type": "stream",
          "name": "stdout",
          "text": [
            "% Nulos previo a la limpieza\n",
            "Price       1.84\n",
            "Quantity    4.10\n",
            "dtype: float64\n"
          ]
        },
        {
          "output_type": "display_data",
          "data": {
            "text/plain": [
              "<Figure size 1800x720 with 2 Axes>"
            ],
            "image/png": "[encoded data removed]"
          },
          "metadata": {
            "needs_background": "light"
          }
        }
      ]
    },
    {
      "cell_type": "code",
      "source": [
        "# Se repite análisis univariado\n",
        "df_proc.apply(lambda x: profile_serie(x))"
      ],
      "metadata": {
        "colab": {
          "base_uri": "https://localhost:8080/",
          "height": 1000
        },
        "id": "Om9FB6DEBJrt",
        "outputId": "215a473e-0e7f-4111-b69d-333ef6679566"
      },
      "execution_count": 15,
      "outputs": [
        {
          "output_type": "display_data",
          "data": {
            "text/plain": [
              "<IPython.core.display.Markdown object>"
            ],
            "text/markdown": "## Invoice Profile"
          },
          "metadata": {}
        },
        {
          "output_type": "display_data",
          "data": {
            "text/plain": [
              "Type                           category\n",
              "Number of observations           494870\n",
              "Unique                            20767\n",
              "Top                              537434\n",
              "Freq                                650\n",
              "                                       \n",
              "Missing cells                         0\n",
              "Missing cells (%)                 0.0 %\n",
              "Duplicate rows                   492364\n",
              "Duplicate rows (%)              99.49 %\n",
              "Total size in memory      6236036 bytes\n",
              "dtype: object"
            ]
          },
          "metadata": {}
        },
        {
          "output_type": "display_data",
          "data": {
            "text/html": [
              "<html>\n",
              "<head><meta charset=\"utf-8\" /></head>\n",
              "<body>\n",
              "    <div>            <script src=\"https://cdnjs.cloudflare.com/ajax/libs/mathjax/2.7.5/MathJax.js?config=TeX-AMS-MML_SVG\"></script><script type=\"text/javascript\">if (window.MathJax && window.MathJax.Hub && window.MathJax.Hub.Config) {window.MathJax.Hub.Config({SVG: {font: \"STIX-Web\"}});}</script>                <script type=\"text/javascript\">window.PlotlyConfig = {MathJaxConfig: 'local'};</script>\n",
              "        <script src=\"https://cdn.plot.ly/plotly-2.14.0.min.js\"></script>                <div id=\"6f9771bf-e3f8-41b6-a8c2-060a6d1f8651\" class=\"plotly-graph-div\" style=\"height:525px; width:100%;\"></div>            <script type=\"text/javascript\">                                    window.PLOTLYENV=window.PLOTLYENV || {};                                    if (document.getElementById(\"6f9771bf-e3f8-41b6-a8c2-060a6d1f8651\")) {                    Plotly.newPlot(                        \"6f9771bf-e3f8-41b6-a8c2-060a6d1f8651\",                        [{\"alignmentgroup\":\"True\",\"hovertemplate\":\"x=%{x}<br>y=%{y}<extra></extra>\",\"legendgroup\":\"\",\"marker\":{\"color\":\"#636efa\",\"pattern\":{\"shape\":\"\"}},\"name\":\"\",\"offsetgroup\":\"\",\"orientation\":\"v\",\"showlegend\":false,\"textposition\":\"auto\",\"x\":[\"537434\",\"538071\",\"537638\",\"536876\",\"537823\",\"537237\",\"536592\",\"536031\",\"491966\",\"490074\",\"537240\",\"490149\",\"490741\",\"491969\",\"537666\",\"536544\",\"489857\",\"513574\",\"489597\",\"490745\",\"491155\",\"535835\",\"532642\",\"492414\",\"491970\",\"491043\",\"533338\",\"491041\",\"492425\",\"535322\",\"492782\",\"534859\",\"533348\",\"534709\",\"503185\",\"491971\",\"531843\",\"530850\",\"532139\",\"535407\",\"490963\",\"534289\",\"534319\",\"534459\",\"533737\",\"489856\",\"534389\",\"532826\",\"532419\",\"498133\",\"492303\",\"532063\",\"494918\",\"531036\",\"533065\",\"532953\",\"495070\",\"531489\",\"533740\",\"494782\",\"531387\",\"492783\",\"529727\",\"494814\",\"513099\",\"495239\",\"494378\",\"492226\",\"494386\",\"530060\",\"493073\",\"530140\",\"494016\",\"510983\",\"500462\",\"527520\",\"510772\",\"493079\",\"530422\",\"504916\",\"494495\",\"502746\",\"510519\",\"493260\",\"500356\",\"503823\",\"494381\",\"530332\",\"499765\",\"494147\",\"500918\",\"494685\",\"501080\",\"494379\",\"525753\",\"503426\",\"531382\",\"511522\",\"521202\",\"510637\"],\"xaxis\":\"x\",\"y\":[650,626,585,574,574,574,564,563,556,548,541,535,523,519,516,510,491,486,485,484,476,475,470,467,467,466,463,461,458,458,457,451,449,444,444,431,430,429,426,424,423,422,416,414,411,410,410,398,392,388,387,385,370,364,363,359,355,355,351,348,342,335,334,332,331,331,326,324,320,318,314,311,307,304,290,290,286,285,284,282,272,272,271,267,266,264,262,261,259,259,256,255,254,254,253,252,251,251,249,249],\"yaxis\":\"y\",\"type\":\"bar\"}],                        {\"template\":{\"data\":{\"histogram2dcontour\":[{\"type\":\"histogram2dcontour\",\"colorbar\":{\"outlinewidth\":0,\"ticks\":\"\"},\"colorscale\":[[0.0,\"#0d0887\"],[0.1111111111111111,\"#46039f\"],[0.2222222222222222,\"#7201a8\"],[0.3333333333333333,\"#9c179e\"],[0.4444444444444444,\"#bd3786\"],[0.5555555555555556,\"#d8576b\"],[0.6666666666666666,\"#ed7953\"],[0.7777777777777778,\"#fb9f3a\"],[0.8888888888888888,\"#fdca26\"],[1.0,\"#f0f921\"]]}],\"choropleth\":[{\"type\":\"choropleth\",\"colorbar\":{\"outlinewidth\":0,\"ticks\":\"\"}}],\"histogram2d\":[{\"type\":\"histogram2d\",\"colorbar\":{\"outlinewidth\":0,\"ticks\":\"\"},\"colorscale\":[[0.0,\"#0d0887\"],[0.1111111111111111,\"#46039f\"],[0.2222222222222222,\"#7201a8\"],[0.3333333333333333,\"#9c179e\"],[0.4444444444444444,\"#bd3786\"],[0.5555555555555556,\"#d8576b\"],[0.6666666666666666,\"#ed7953\"],[0.7777777777777778,\"#fb9f3a\"],[0.8888888888888888,\"#fdca26\"],[1.0,\"#f0f921\"]]}],\"heatmap\":[{\"type\":\"heatmap\",\"colorbar\":{\"outlinewidth\":0,\"ticks\":\"\"},\"colorscale\":[[0.0,\"#0d0887\"],[0.1111111111111111,\"#46039f\"],[0.2222222222222222,\"#7201a8\"],[0.3333333333333333,\"#9c179e\"],[0.4444444444444444,\"#bd3786\"],[0.5555555555555556,\"#d8576b\"],[0.6666666666666666,\"#ed7953\"],[0.7777777777777778,\"#fb9f3a\"],[0.8888888888888888,\"#fdca26\"],[1.0,\"#f0f921\"]]}],\"heatmapgl\":[{\"type\":\"heatmapgl\",\"colorbar\":{\"outlinewidth\":0,\"ticks\":\"\"},\"colorscale\":[[0.0,\"#0d0887\"],[0.1111111111111111,\"#46039f\"],[0.2222222222222222,\"#7201a8\"],[0.3333333333333333,\"#9c179e\"],[0.4444444444444444,\"#bd3786\"],[0.5555555555555556,\"#d8576b\"],[0.6666666666666666,\"#ed7953\"],[0.7777777777777778,\"#fb9f3a\"],[0.8888888888888888,\"#fdca26\"],[1.0,\"#f0f921\"]]}],\"contourcarpet\":[{\"type\":\"contourcarpet\",\"colorbar\":{\"outlinewidth\":0,\"ticks\":\"\"}}],\"contour\":[{\"type\":\"contour\",\"colorbar\":{\"outlinewidth\":0,\"ticks\":\"\"},\"colorscale\":[[0.0,\"#0d0887\"],[0.1111111111111111,\"#46039f\"],[0.2222222222222222,\"#7201a8\"],[0.3333333333333333,\"#9c179e\"],[0.4444444444444444,\"#bd3786\"],[0.5555555555555556,\"#d8576b\"],[0.6666666666666666,\"#ed7953\"],[0.7777777777777778,\"#fb9f3a\"],[0.8888888888888888,\"#fdca26\"],[1.0,\"#f0f921\"]]}],\"surface\":[{\"type\":\"surface\",\"colorbar\":{\"outlinewidth\":0,\"ticks\":\"\"},\"colorscale\":[[0.0,\"#0d0887\"],[0.1111111111111111,\"#46039f\"],[0.2222222222222222,\"#7201a8\"],[0.3333333333333333,\"#9c179e\"],[0.4444444444444444,\"#bd3786\"],[0.5555555555555556,\"#d8576b\"],[0.6666666666666666,\"#ed7953\"],[0.7777777777777778,\"#fb9f3a\"],[0.8888888888888888,\"#fdca26\"],[1.0,\"#f0f921\"]]}],\"mesh3d\":[{\"type\":\"mesh3d\",\"colorbar\":{\"outlinewidth\":0,\"ticks\":\"\"}}],\"scatter\":[{\"fillpattern\":{\"fillmode\":\"overlay\",\"size\":10,\"solidity\":0.2},\"type\":\"scatter\"}],\"parcoords\":[{\"type\":\"parcoords\",\"line\":{\"colorbar\":{\"outlinewidth\":0,\"ticks\":\"\"}}}],\"scatterpolargl\":[{\"type\":\"scatterpolargl\",\"marker\":{\"colorbar\":{\"outlinewidth\":0,\"ticks\":\"\"}}}],\"bar\":[{\"error_x\":{\"color\":\"#2a3f5f\"},\"error_y\":{\"color\":\"#2a3f5f\"},\"marker\":{\"line\":{\"color\":\"#E5ECF6\",\"width\":0.5},\"pattern\":{\"fillmode\":\"overlay\",\"size\":10,\"solidity\":0.2}},\"type\":\"bar\"}],\"scattergeo\":[{\"type\":\"scattergeo\",\"marker\":{\"colorbar\":{\"outlinewidth\":0,\"ticks\":\"\"}}}],\"scatterpolar\":[{\"type\":\"scatterpolar\",\"marker\":{\"colorbar\":{\"outlinewidth\":0,\"ticks\":\"\"}}}],\"histogram\":[{\"marker\":{\"pattern\":{\"fillmode\":\"overlay\",\"size\":10,\"solidity\":0.2}},\"type\":\"histogram\"}],\"scattergl\":[{\"type\":\"scattergl\",\"marker\":{\"colorbar\":{\"outlinewidth\":0,\"ticks\":\"\"}}}],\"scatter3d\":[{\"type\":\"scatter3d\",\"line\":{\"colorbar\":{\"outlinewidth\":0,\"ticks\":\"\"}},\"marker\":{\"colorbar\":{\"outlinewidth\":0,\"ticks\":\"\"}}}],\"scattermapbox\":[{\"type\":\"scattermapbox\",\"marker\":{\"colorbar\":{\"outlinewidth\":0,\"ticks\":\"\"}}}],\"scatterternary\":[{\"type\":\"scatterternary\",\"marker\":{\"colorbar\":{\"outlinewidth\":0,\"ticks\":\"\"}}}],\"scattercarpet\":[{\"type\":\"scattercarpet\",\"marker\":{\"colorbar\":{\"outlinewidth\":0,\"ticks\":\"\"}}}],\"carpet\":[{\"aaxis\":{\"endlinecolor\":\"#2a3f5f\",\"gridcolor\":\"white\",\"linecolor\":\"white\",\"minorgridcolor\":\"white\",\"startlinecolor\":\"#2a3f5f\"},\"baxis\":{\"endlinecolor\":\"#2a3f5f\",\"gridcolor\":\"white\",\"linecolor\":\"white\",\"minorgridcolor\":\"white\",\"startlinecolor\":\"#2a3f5f\"},\"type\":\"carpet\"}],\"table\":[{\"cells\":{\"fill\":{\"color\":\"#EBF0F8\"},\"line\":{\"color\":\"white\"}},\"header\":{\"fill\":{\"color\":\"#C8D4E3\"},\"line\":{\"color\":\"white\"}},\"type\":\"table\"}],\"barpolar\":[{\"marker\":{\"line\":{\"color\":\"#E5ECF6\",\"width\":0.5},\"pattern\":{\"fillmode\":\"overlay\",\"size\":10,\"solidity\":0.2}},\"type\":\"barpolar\"}],\"pie\":[{\"automargin\":true,\"type\":\"pie\"}]},\"layout\":{\"autotypenumbers\":\"strict\",\"colorway\":[\"#636efa\",\"#EF553B\",\"#00cc96\",\"#ab63fa\",\"#FFA15A\",\"#19d3f3\",\"#FF6692\",\"#B6E880\",\"#FF97FF\",\"#FECB52\"],\"font\":{\"color\":\"#2a3f5f\"},\"hovermode\":\"closest\",\"hoverlabel\":{\"align\":\"left\"},\"paper_bgcolor\":\"white\",\"plot_bgcolor\":\"#E5ECF6\",\"polar\":{\"bgcolor\":\"#E5ECF6\",\"angularaxis\":{\"gridcolor\":\"white\",\"linecolor\":\"white\",\"ticks\":\"\"},\"radialaxis\":{\"gridcolor\":\"white\",\"linecolor\":\"white\",\"ticks\":\"\"}},\"ternary\":{\"bgcolor\":\"#E5ECF6\",\"aaxis\":{\"gridcolor\":\"white\",\"linecolor\":\"white\",\"ticks\":\"\"},\"baxis\":{\"gridcolor\":\"white\",\"linecolor\":\"white\",\"ticks\":\"\"},\"caxis\":{\"gridcolor\":\"white\",\"linecolor\":\"white\",\"ticks\":\"\"}},\"coloraxis\":{\"colorbar\":{\"outlinewidth\":0,\"ticks\":\"\"}},\"colorscale\":{\"sequential\":[[0.0,\"#0d0887\"],[0.1111111111111111,\"#46039f\"],[0.2222222222222222,\"#7201a8\"],[0.3333333333333333,\"#9c179e\"],[0.4444444444444444,\"#bd3786\"],[0.5555555555555556,\"#d8576b\"],[0.6666666666666666,\"#ed7953\"],[0.7777777777777778,\"#fb9f3a\"],[0.8888888888888888,\"#fdca26\"],[1.0,\"#f0f921\"]],\"sequentialminus\":[[0.0,\"#0d0887\"],[0.1111111111111111,\"#46039f\"],[0.2222222222222222,\"#7201a8\"],[0.3333333333333333,\"#9c179e\"],[0.4444444444444444,\"#bd3786\"],[0.5555555555555556,\"#d8576b\"],[0.6666666666666666,\"#ed7953\"],[0.7777777777777778,\"#fb9f3a\"],[0.8888888888888888,\"#fdca26\"],[1.0,\"#f0f921\"]],\"diverging\":[[0,\"#8e0152\"],[0.1,\"#c51b7d\"],[0.2,\"#de77ae\"],[0.3,\"#f1b6da\"],[0.4,\"#fde0ef\"],[0.5,\"#f7f7f7\"],[0.6,\"#e6f5d0\"],[0.7,\"#b8e186\"],[0.8,\"#7fbc41\"],[0.9,\"#4d9221\"],[1,\"#276419\"]]},\"xaxis\":{\"gridcolor\":\"white\",\"linecolor\":\"white\",\"ticks\":\"\",\"title\":{\"standoff\":15},\"zerolinecolor\":\"white\",\"automargin\":true,\"zerolinewidth\":2},\"yaxis\":{\"gridcolor\":\"white\",\"linecolor\":\"white\",\"ticks\":\"\",\"title\":{\"standoff\":15},\"zerolinecolor\":\"white\",\"automargin\":true,\"zerolinewidth\":2},\"scene\":{\"xaxis\":{\"backgroundcolor\":\"#E5ECF6\",\"gridcolor\":\"white\",\"linecolor\":\"white\",\"showbackground\":true,\"ticks\":\"\",\"zerolinecolor\":\"white\",\"gridwidth\":2},\"yaxis\":{\"backgroundcolor\":\"#E5ECF6\",\"gridcolor\":\"white\",\"linecolor\":\"white\",\"showbackground\":true,\"ticks\":\"\",\"zerolinecolor\":\"white\",\"gridwidth\":2},\"zaxis\":{\"backgroundcolor\":\"#E5ECF6\",\"gridcolor\":\"white\",\"linecolor\":\"white\",\"showbackground\":true,\"ticks\":\"\",\"zerolinecolor\":\"white\",\"gridwidth\":2}},\"shapedefaults\":{\"line\":{\"color\":\"#2a3f5f\"}},\"annotationdefaults\":{\"arrowcolor\":\"#2a3f5f\",\"arrowhead\":0,\"arrowwidth\":1},\"geo\":{\"bgcolor\":\"white\",\"landcolor\":\"#E5ECF6\",\"subunitcolor\":\"white\",\"showland\":true,\"showlakes\":true,\"lakecolor\":\"white\"},\"title\":{\"x\":0.05},\"mapbox\":{\"style\":\"light\"}}},\"xaxis\":{\"anchor\":\"y\",\"domain\":[0.0,1.0],\"title\":{\"text\":\"x\"}},\"yaxis\":{\"anchor\":\"x\",\"domain\":[0.0,1.0],\"title\":{\"text\":\"y\"}},\"legend\":{\"tracegroupgap\":0},\"title\":{\"text\":\"100 Most common categories of Invoice\"},\"barmode\":\"relative\"},                        {\"responsive\": true}                    ).then(function(){\n",
              "                            \n",
              "var gd = document.getElementById('6f9771bf-e3f8-41b6-a8c2-060a6d1f8651');\n",
              "var x = new MutationObserver(function (mutations, observer) {{\n",
              "        var display = window.getComputedStyle(gd).display;\n",
              "        if (!display || display === 'none') {{\n",
              "            console.log([gd, 'removed!']);\n",
              "            Plotly.purge(gd);\n",
              "            observer.disconnect();\n",
              "        }}\n",
              "}});\n",
              "\n",
              "// Listen for the removal of the full notebook cells\n",
              "var notebookContainer = gd.closest('#notebook-container');\n",
              "if (notebookContainer) {{\n",
              "    x.observe(notebookContainer, {childList: true});\n",
              "}}\n",
              "\n",
              "// Listen for the clearing of the current output cell\n",
              "var outputEl = gd.closest('.output');\n",
              "if (outputEl) {{\n",
              "    x.observe(outputEl, {childList: true});\n",
              "}}\n",
              "\n",
              "                        })                };                            </script>        </div>\n",
              "</body>\n",
              "</html>"
            ]
          },
          "metadata": {}
        },
        {
          "output_type": "display_data",
          "data": {
            "text/plain": [
              "<IPython.core.display.Markdown object>"
            ],
            "text/markdown": "## StockCode Profile"
          },
          "metadata": {}
        },
        {
          "output_type": "display_data",
          "data": {
            "text/plain": [
              "Type                           category\n",
              "Number of observations           494870\n",
              "Unique                             4229\n",
              "Top                              85123A\n",
              "Freq                               3339\n",
              "                                       \n",
              "Missing cells                         0\n",
              "Missing cells (%)                 0.0 %\n",
              "Duplicate rows                   494668\n",
              "Duplicate rows (%)              99.96 %\n",
              "Total size in memory      5117892 bytes\n",
              "dtype: object"
            ]
          },
          "metadata": {}
        },
        {
          "output_type": "display_data",
          "data": {
            "text/html": [
              "<html>\n",
              "<head><meta charset=\"utf-8\" /></head>\n",
              "<body>\n",
              "    <div>            <script src=\"https://cdnjs.cloudflare.com/ajax/libs/mathjax/2.7.5/MathJax.js?config=TeX-AMS-MML_SVG\"></script><script type=\"text/javascript\">if (window.MathJax && window.MathJax.Hub && window.MathJax.Hub.Config) {window.MathJax.Hub.Config({SVG: {font: \"STIX-Web\"}});}</script>                <script type=\"text/javascript\">window.PlotlyConfig = {MathJaxConfig: 'local'};</script>\n",
              "        <script src=\"https://cdn.plot.ly/plotly-2.14.0.min.js\"></script>                <div id=\"037da3bb-b308-43b1-a579-1572200c13d5\" class=\"plotly-graph-div\" style=\"height:525px; width:100%;\"></div>            <script type=\"text/javascript\">                                    window.PLOTLYENV=window.PLOTLYENV || {};                                    if (document.getElementById(\"037da3bb-b308-43b1-a579-1572200c13d5\")) {                    Plotly.newPlot(                        \"037da3bb-b308-43b1-a579-1572200c13d5\",                        [{\"alignmentgroup\":\"True\",\"hovertemplate\":\"x=%{x}<br>y=%{y}<extra></extra>\",\"legendgroup\":\"\",\"marker\":{\"color\":\"#636efa\",\"pattern\":{\"shape\":\"\"}},\"name\":\"\",\"offsetgroup\":\"\",\"orientation\":\"v\",\"showlegend\":false,\"textposition\":\"auto\",\"x\":[\"85123A\",\"85099B\",\"21212\",\"22423\",\"21232\",\"20725\",\"21754\",\"84879\",\"84991\",\"21034\",\"20914\",\"22139\",\"22383\",\"22470\",\"82494L\",\"21931\",\"21080\",\"21755\",\"21977\",\"20727\",\"21733\",\"48138\",\"22469\",\"22384\",\"20685\",\"21231\",\"22114\",\"22111\",\"22382\",\"22411\",\"47566\",\"21790\",\"21181\",\"22386\",\"20724\",\"22138\",\"85099F\",\"82482\",\"22197\",\"22112\",\"22086\",\"20726\",\"20728\",\"84836\",\"22090\",\"84946\",\"21843\",\"85099C\",\"22149\",\"21175\",\"84970S\",\"84992\",\"22457\",\"22379\",\"22077\",\"22356\",\"22355\",\"21485\",\"85152\",\"22083\",\"84029E\",\"21213\",\"20972\",\"21535\",\"22178\",\"22189\",\"48194\",\"21621\",\"22585\",\"21429\",\"21791\",\"82580\",\"22147\",\"20719\",\"21166\",\"47591D\",\"84978\",\"21210\",\"21929\",\"21731\",\"21928\",\"48187\",\"21975\",\"21559\",\"82486\",\"22326\",\"22910\",\"82600\",\"21524\",\"84997B\",\"22556\",\"22865\",\"85150\",\"22352\",\"22551\",\"20723\",\"21533\",\"20713\",\"84520B\",\"84997D\"],\"xaxis\":\"x\",\"y\":[3339,1787,1751,1724,1687,1508,1376,1324,1309,1226,1205,1160,1147,1139,1139,1138,1136,1129,1118,1116,1102,1078,1068,1053,1051,1043,1038,1037,1032,1031,1023,1021,1016,1009,1004,993,976,968,954,951,950,942,934,923,920,917,915,907,901,890,881,867,852,851,851,850,841,839,820,817,814,807,807,805,799,795,779,768,760,759,754,742,737,734,731,729,721,711,709,709,703,699,693,691,691,689,686,684,683,682,673,672,671,669,668,664,662,657,654,651],\"yaxis\":\"y\",\"type\":\"bar\"}],                        {\"template\":{\"data\":{\"histogram2dcontour\":[{\"type\":\"histogram2dcontour\",\"colorbar\":{\"outlinewidth\":0,\"ticks\":\"\"},\"colorscale\":[[0.0,\"#0d0887\"],[0.1111111111111111,\"#46039f\"],[0.2222222222222222,\"#7201a8\"],[0.3333333333333333,\"#9c179e\"],[0.4444444444444444,\"#bd3786\"],[0.5555555555555556,\"#d8576b\"],[0.6666666666666666,\"#ed7953\"],[0.7777777777777778,\"#fb9f3a\"],[0.8888888888888888,\"#fdca26\"],[1.0,\"#f0f921\"]]}],\"choropleth\":[{\"type\":\"choropleth\",\"colorbar\":{\"outlinewidth\":0,\"ticks\":\"\"}}],\"histogram2d\":[{\"type\":\"histogram2d\",\"colorbar\":{\"outlinewidth\":0,\"ticks\":\"\"},\"colorscale\":[[0.0,\"#0d0887\"],[0.1111111111111111,\"#46039f\"],[0.2222222222222222,\"#7201a8\"],[0.3333333333333333,\"#9c179e\"],[0.4444444444444444,\"#bd3786\"],[0.5555555555555556,\"#d8576b\"],[0.6666666666666666,\"#ed7953\"],[0.7777777777777778,\"#fb9f3a\"],[0.8888888888888888,\"#fdca26\"],[1.0,\"#f0f921\"]]}],\"heatmap\":[{\"type\":\"heatmap\",\"colorbar\":{\"outlinewidth\":0,\"ticks\":\"\"},\"colorscale\":[[0.0,\"#0d0887\"],[0.1111111111111111,\"#46039f\"],[0.2222222222222222,\"#7201a8\"],[0.3333333333333333,\"#9c179e\"],[0.4444444444444444,\"#bd3786\"],[0.5555555555555556,\"#d8576b\"],[0.6666666666666666,\"#ed7953\"],[0.7777777777777778,\"#fb9f3a\"],[0.8888888888888888,\"#fdca26\"],[1.0,\"#f0f921\"]]}],\"heatmapgl\":[{\"type\":\"heatmapgl\",\"colorbar\":{\"outlinewidth\":0,\"ticks\":\"\"},\"colorscale\":[[0.0,\"#0d0887\"],[0.1111111111111111,\"#46039f\"],[0.2222222222222222,\"#7201a8\"],[0.3333333333333333,\"#9c179e\"],[0.4444444444444444,\"#bd3786\"],[0.5555555555555556,\"#d8576b\"],[0.6666666666666666,\"#ed7953\"],[0.7777777777777778,\"#fb9f3a\"],[0.8888888888888888,\"#fdca26\"],[1.0,\"#f0f921\"]]}],\"contourcarpet\":[{\"type\":\"contourcarpet\",\"colorbar\":{\"outlinewidth\":0,\"ticks\":\"\"}}],\"contour\":[{\"type\":\"contour\",\"colorbar\":{\"outlinewidth\":0,\"ticks\":\"\"},\"colorscale\":[[0.0,\"#0d0887\"],[0.1111111111111111,\"#46039f\"],[0.2222222222222222,\"#7201a8\"],[0.3333333333333333,\"#9c179e\"],[0.4444444444444444,\"#bd3786\"],[0.5555555555555556,\"#d8576b\"],[0.6666666666666666,\"#ed7953\"],[0.7777777777777778,\"#fb9f3a\"],[0.8888888888888888,\"#fdca26\"],[1.0,\"#f0f921\"]]}],\"surface\":[{\"type\":\"surface\",\"colorbar\":{\"outlinewidth\":0,\"ticks\":\"\"},\"colorscale\":[[0.0,\"#0d0887\"],[0.1111111111111111,\"#46039f\"],[0.2222222222222222,\"#7201a8\"],[0.3333333333333333,\"#9c179e\"],[0.4444444444444444,\"#bd3786\"],[0.5555555555555556,\"#d8576b\"],[0.6666666666666666,\"#ed7953\"],[0.7777777777777778,\"#fb9f3a\"],[0.8888888888888888,\"#fdca26\"],[1.0,\"#f0f921\"]]}],\"mesh3d\":[{\"type\":\"mesh3d\",\"colorbar\":{\"outlinewidth\":0,\"ticks\":\"\"}}],\"scatter\":[{\"fillpattern\":{\"fillmode\":\"overlay\",\"size\":10,\"solidity\":0.2},\"type\":\"scatter\"}],\"parcoords\":[{\"type\":\"parcoords\",\"line\":{\"colorbar\":{\"outlinewidth\":0,\"ticks\":\"\"}}}],\"scatterpolargl\":[{\"type\":\"scatterpolargl\",\"marker\":{\"colorbar\":{\"outlinewidth\":0,\"ticks\":\"\"}}}],\"bar\":[{\"error_x\":{\"color\":\"#2a3f5f\"},\"error_y\":{\"color\":\"#2a3f5f\"},\"marker\":{\"line\":{\"color\":\"#E5ECF6\",\"width\":0.5},\"pattern\":{\"fillmode\":\"overlay\",\"size\":10,\"solidity\":0.2}},\"type\":\"bar\"}],\"scattergeo\":[{\"type\":\"scattergeo\",\"marker\":{\"colorbar\":{\"outlinewidth\":0,\"ticks\":\"\"}}}],\"scatterpolar\":[{\"type\":\"scatterpolar\",\"marker\":{\"colorbar\":{\"outlinewidth\":0,\"ticks\":\"\"}}}],\"histogram\":[{\"marker\":{\"pattern\":{\"fillmode\":\"overlay\",\"size\":10,\"solidity\":0.2}},\"type\":\"histogram\"}],\"scattergl\":[{\"type\":\"scattergl\",\"marker\":{\"colorbar\":{\"outlinewidth\":0,\"ticks\":\"\"}}}],\"scatter3d\":[{\"type\":\"scatter3d\",\"line\":{\"colorbar\":{\"outlinewidth\":0,\"ticks\":\"\"}},\"marker\":{\"colorbar\":{\"outlinewidth\":0,\"ticks\":\"\"}}}],\"scattermapbox\":[{\"type\":\"scattermapbox\",\"marker\":{\"colorbar\":{\"outlinewidth\":0,\"ticks\":\"\"}}}],\"scatterternary\":[{\"type\":\"scatterternary\",\"marker\":{\"colorbar\":{\"outlinewidth\":0,\"ticks\":\"\"}}}],\"scattercarpet\":[{\"type\":\"scattercarpet\",\"marker\":{\"colorbar\":{\"outlinewidth\":0,\"ticks\":\"\"}}}],\"carpet\":[{\"aaxis\":{\"endlinecolor\":\"#2a3f5f\",\"gridcolor\":\"white\",\"linecolor\":\"white\",\"minorgridcolor\":\"white\",\"startlinecolor\":\"#2a3f5f\"},\"baxis\":{\"endlinecolor\":\"#2a3f5f\",\"gridcolor\":\"white\",\"linecolor\":\"white\",\"minorgridcolor\":\"white\",\"startlinecolor\":\"#2a3f5f\"},\"type\":\"carpet\"}],\"table\":[{\"cells\":{\"fill\":{\"color\":\"#EBF0F8\"},\"line\":{\"color\":\"white\"}},\"header\":{\"fill\":{\"color\":\"#C8D4E3\"},\"line\":{\"color\":\"white\"}},\"type\":\"table\"}],\"barpolar\":[{\"marker\":{\"line\":{\"color\":\"#E5ECF6\",\"width\":0.5},\"pattern\":{\"fillmode\":\"overlay\",\"size\":10,\"solidity\":0.2}},\"type\":\"barpolar\"}],\"pie\":[{\"automargin\":true,\"type\":\"pie\"}]},\"layout\":{\"autotypenumbers\":\"strict\",\"colorway\":[\"#636efa\",\"#EF553B\",\"#00cc96\",\"#ab63fa\",\"#FFA15A\",\"#19d3f3\",\"#FF6692\",\"#B6E880\",\"#FF97FF\",\"#FECB52\"],\"font\":{\"color\":\"#2a3f5f\"},\"hovermode\":\"closest\",\"hoverlabel\":{\"align\":\"left\"},\"paper_bgcolor\":\"white\",\"plot_bgcolor\":\"#E5ECF6\",\"polar\":{\"bgcolor\":\"#E5ECF6\",\"angularaxis\":{\"gridcolor\":\"white\",\"linecolor\":\"white\",\"ticks\":\"\"},\"radialaxis\":{\"gridcolor\":\"white\",\"linecolor\":\"white\",\"ticks\":\"\"}},\"ternary\":{\"bgcolor\":\"#E5ECF6\",\"aaxis\":{\"gridcolor\":\"white\",\"linecolor\":\"white\",\"ticks\":\"\"},\"baxis\":{\"gridcolor\":\"white\",\"linecolor\":\"white\",\"ticks\":\"\"},\"caxis\":{\"gridcolor\":\"white\",\"linecolor\":\"white\",\"ticks\":\"\"}},\"coloraxis\":{\"colorbar\":{\"outlinewidth\":0,\"ticks\":\"\"}},\"colorscale\":{\"sequential\":[[0.0,\"#0d0887\"],[0.1111111111111111,\"#46039f\"],[0.2222222222222222,\"#7201a8\"],[0.3333333333333333,\"#9c179e\"],[0.4444444444444444,\"#bd3786\"],[0.5555555555555556,\"#d8576b\"],[0.6666666666666666,\"#ed7953\"],[0.7777777777777778,\"#fb9f3a\"],[0.8888888888888888,\"#fdca26\"],[1.0,\"#f0f921\"]],\"sequentialminus\":[[0.0,\"#0d0887\"],[0.1111111111111111,\"#46039f\"],[0.2222222222222222,\"#7201a8\"],[0.3333333333333333,\"#9c179e\"],[0.4444444444444444,\"#bd3786\"],[0.5555555555555556,\"#d8576b\"],[0.6666666666666666,\"#ed7953\"],[0.7777777777777778,\"#fb9f3a\"],[0.8888888888888888,\"#fdca26\"],[1.0,\"#f0f921\"]],\"diverging\":[[0,\"#8e0152\"],[0.1,\"#c51b7d\"],[0.2,\"#de77ae\"],[0.3,\"#f1b6da\"],[0.4,\"#fde0ef\"],[0.5,\"#f7f7f7\"],[0.6,\"#e6f5d0\"],[0.7,\"#b8e186\"],[0.8,\"#7fbc41\"],[0.9,\"#4d9221\"],[1,\"#276419\"]]},\"xaxis\":{\"gridcolor\":\"white\",\"linecolor\":\"white\",\"ticks\":\"\",\"title\":{\"standoff\":15},\"zerolinecolor\":\"white\",\"automargin\":true,\"zerolinewidth\":2},\"yaxis\":{\"gridcolor\":\"white\",\"linecolor\":\"white\",\"ticks\":\"\",\"title\":{\"standoff\":15},\"zerolinecolor\":\"white\",\"automargin\":true,\"zerolinewidth\":2},\"scene\":{\"xaxis\":{\"backgroundcolor\":\"#E5ECF6\",\"gridcolor\":\"white\",\"linecolor\":\"white\",\"showbackground\":true,\"ticks\":\"\",\"zerolinecolor\":\"white\",\"gridwidth\":2},\"yaxis\":{\"backgroundcolor\":\"#E5ECF6\",\"gridcolor\":\"white\",\"linecolor\":\"white\",\"showbackground\":true,\"ticks\":\"\",\"zerolinecolor\":\"white\",\"gridwidth\":2},\"zaxis\":{\"backgroundcolor\":\"#E5ECF6\",\"gridcolor\":\"white\",\"linecolor\":\"white\",\"showbackground\":true,\"ticks\":\"\",\"zerolinecolor\":\"white\",\"gridwidth\":2}},\"shapedefaults\":{\"line\":{\"color\":\"#2a3f5f\"}},\"annotationdefaults\":{\"arrowcolor\":\"#2a3f5f\",\"arrowhead\":0,\"arrowwidth\":1},\"geo\":{\"bgcolor\":\"white\",\"landcolor\":\"#E5ECF6\",\"subunitcolor\":\"white\",\"showland\":true,\"showlakes\":true,\"lakecolor\":\"white\"},\"title\":{\"x\":0.05},\"mapbox\":{\"style\":\"light\"}}},\"xaxis\":{\"anchor\":\"y\",\"domain\":[0.0,1.0],\"title\":{\"text\":\"x\"}},\"yaxis\":{\"anchor\":\"x\",\"domain\":[0.0,1.0],\"title\":{\"text\":\"y\"}},\"legend\":{\"tracegroupgap\":0},\"title\":{\"text\":\"100 Most common categories of StockCode\"},\"barmode\":\"relative\"},                        {\"responsive\": true}                    ).then(function(){\n",
              "                            \n",
              "var gd = document.getElementById('037da3bb-b308-43b1-a579-1572200c13d5');\n",
              "var x = new MutationObserver(function (mutations, observer) {{\n",
              "        var display = window.getComputedStyle(gd).display;\n",
              "        if (!display || display === 'none') {{\n",
              "            console.log([gd, 'removed!']);\n",
              "            Plotly.purge(gd);\n",
              "            observer.disconnect();\n",
              "        }}\n",
              "}});\n",
              "\n",
              "// Listen for the removal of the full notebook cells\n",
              "var notebookContainer = gd.closest('#notebook-container');\n",
              "if (notebookContainer) {{\n",
              "    x.observe(notebookContainer, {childList: true});\n",
              "}}\n",
              "\n",
              "// Listen for the clearing of the current output cell\n",
              "var outputEl = gd.closest('.output');\n",
              "if (outputEl) {{\n",
              "    x.observe(outputEl, {childList: true});\n",
              "}}\n",
              "\n",
              "                        })                };                            </script>        </div>\n",
              "</body>\n",
              "</html>"
            ]
          },
          "metadata": {}
        },
        {
          "output_type": "display_data",
          "data": {
            "text/plain": [
              "<IPython.core.display.Markdown object>"
            ],
            "text/markdown": "## Description Profile"
          },
          "metadata": {}
        },
        {
          "output_type": "display_data",
          "data": {
            "text/plain": [
              "Type                                                  object\n",
              "Number of observations                                494870\n",
              "Unique                                                  4459\n",
              "Top                       WHITE HANGING HEART T-LIGHT HOLDER\n",
              "Freq                                                    3373\n",
              "                                                            \n",
              "Missing cells                                              0\n",
              "Missing cells (%)                                      0.0 %\n",
              "Duplicate rows                                        494679\n",
              "Duplicate rows (%)                                   99.96 %\n",
              "Total size in memory                           7917920 bytes\n",
              "dtype: object"
            ]
          },
          "metadata": {}
        },
        {
          "output_type": "display_data",
          "data": {
            "text/html": [
              "<html>\n",
              "<head><meta charset=\"utf-8\" /></head>\n",
              "<body>\n",
              "    <div>            <script src=\"https://cdnjs.cloudflare.com/ajax/libs/mathjax/2.7.5/MathJax.js?config=TeX-AMS-MML_SVG\"></script><script type=\"text/javascript\">if (window.MathJax && window.MathJax.Hub && window.MathJax.Hub.Config) {window.MathJax.Hub.Config({SVG: {font: \"STIX-Web\"}});}</script>                <script type=\"text/javascript\">window.PlotlyConfig = {MathJaxConfig: 'local'};</script>\n",
              "        <script src=\"https://cdn.plot.ly/plotly-2.14.0.min.js\"></script>                <div id=\"5a063533-8f8d-4618-a967-3330e258e86a\" class=\"plotly-graph-div\" style=\"height:525px; width:100%;\"></div>            <script type=\"text/javascript\">                                    window.PLOTLYENV=window.PLOTLYENV || {};                                    if (document.getElementById(\"5a063533-8f8d-4618-a967-3330e258e86a\")) {                    Plotly.newPlot(                        \"5a063533-8f8d-4618-a967-3330e258e86a\",                        [{\"alignmentgroup\":\"True\",\"hovertemplate\":\"x=%{x}<br>y=%{y}<extra></extra>\",\"legendgroup\":\"\",\"marker\":{\"color\":\"#636efa\",\"pattern\":{\"shape\":\"\"}},\"name\":\"\",\"offsetgroup\":\"\",\"orientation\":\"v\",\"showlegend\":false,\"textposition\":\"auto\",\"x\":[\"WHITE HANGING HEART T-LIGHT HOLDER\",\"REGENCY CAKESTAND 3 TIER\",\"STRAWBERRY CERAMIC TRINKET BOX\",\"HOME BUILDING BLOCK WORD\",\"PACK OF 72 RETRO SPOT CAKE CASES\",\"ASSORTED COLOUR BIRD ORNAMENT\",\"60 TEATIME FAIRY CAKE CASES\",\"REX CASH+CARRY JUMBO SHOPPER\",\"LUNCH BAG RED SPOTTY\",\"WOODEN FRAME ANTIQUE WHITE \",\"JUMBO BAG RED RETROSPOT\",\"JUMBO STORAGE BAG SUKI\",\"HEART OF WICKER LARGE\",\"LOVE BUILDING BLOCK WORD\",\"PACK OF 60 PINK PAISLEY CAKE CASES\",\"LUNCH BAG  BLACK SKULL.\",\"LUNCH BAG SUKI  DESIGN \",\"RED HANGING HEART T-LIGHT HOLDER\",\"HEART OF WICKER SMALL\",\"SWEETHEART CERAMIC TRINKET BOX\",\"HOT WATER BOTTLE TEA AND SYMPATHY\",\"SCOTTIE DOG HOT WATER BOTTLE\",\"JUMBO SHOPPER VINTAGE RED PAISLEY\",\"PARTY BUNTING\",\"VINTAGE SNAP CARDS\",\"JUMBO BAG STRAWBERRY\",\"BAKING SET 9 PIECE RETROSPOT \",\"LUNCH BAG SPACEBOY DESIGN \",\"WOODEN PICTURE FRAME WHITE FINISH\",\"CHOCOLATE HOT WATER BOTTLE\",\"PAPER CHAIN KIT 50'S CHRISTMAS \",\"LUNCH BAG WOODLAND\",\"LUNCH BAG CARS BLUE\",\"ZINC METAL HEART DECORATION\",\"HANGING HEART ZINC T-LIGHT HOLDER\",\"ANTIQUE SILVER TEA GLASS ETCHED\",\"JUMBO  BAG BAROQUE BLACK WHITE\",\"nan\",\"SET/20 RED SPOTTY PAPER NAPKINS \",\"FELTCRAFT 6 FLOWER FRIENDS\",\"SET/5 RED SPOTTY LID GLASS BOWLS\",\"GIN + TONIC DIET METAL SIGN\",\"72 SWEETHEART FAIRY CAKE CASES\",\"NATURAL SLATE HEART CHALKBOARD \",\"RECYCLING BAG RETROSPOT \",\"6 RIBBONS RUSTIC CHARM\",\"SMALL POPCORN HOLDER\",\"PLEASE ONE PERSON METAL SIGN\",\"LUNCH BAG PINK RETROSPOT\",\"HAND OVER THE CHOCOLATE   SIGN \",\"RED WOOLLY HOTTIE WHITE HEART.\",\"PINK CREAM FELT CRAFT TRINKET BOX \",\"PACK OF 72 SKULL CAKE CASES\",\"VICTORIAN GLASS HANGING T-LIGHT\",\"CREAM HEART CARD HOLDER\",\"PAPER BUNTING RETRO SPOTS\",\"RETRO SPOT TEA SET CERAMIC 11 PC \",\"VINTAGE UNION JACK BUNTING\",\"JUMBO BAG PINK WITH WHITE SPOTS\",\"PACK OF 6 BIRDY GIFT TAGS\",\"RED GINGHAM ROSE JEWELLERY BOX\",\"VINTAGE HEADS AND TAILS CARD GAME \",\"RED SPOTTY CHARLOTTE BAG\",\"BATHROOM METAL SIGN\",\"FELTCRAFT BUTTERFLY HEARTS\",\"WOODLAND CHARLOTTE BAG\",\"COOK WITH WINE METAL SIGN \",\"HANGING HEART JAR T-LIGHT HOLDER\",\"JUMBO BAG PINK VINTAGE PAISLEY\",\"RED TOADSTOOL LED NIGHT LIGHT\",\"JUMBO BAG SCANDINAVIAN PAISLEY\",\"PACK OF 60 DINOSAUR CAKE CASES\",\"WOOD S/3 CABINET ANT WHITE FINISH\",\"ROUND SNACK BOXES SET OF4 WOODLAND \",\"PAPER CHAIN KIT VINTAGE CHRISTMAS\",\"NO SINGING METAL SIGN\",\"DOOR MAT UNION FLAG\",\"PLASTERS IN TIN CIRCUS PARADE \",\"HAND WARMER OWL DESIGN\",\"LADIES & GENTLEMEN METAL SIGN\",\"PLASTERS IN TIN SPACEBOY\",\"STRAWBERRY CHARLOTTE BAG\",\"PACK 20 ENGLISH ROSE PAPER NAPKINS\",\"JUMBO BAG OWLS\",\"SINGLE HEART ZINC T-LIGHT HOLDER\",\"HAND WARMER SCOTTY DOG DESIGN\",\"GRAND CHOCOLATECANDLE\",\"PINK BLUE FELT CRAFT TRINKET BOX\",\"KNITTED UNION FLAG HOT WATER BOTTLE\",\"LOVEBIRD HANGING DECORATION WHITE \",\"HEART IVORY TRELLIS SMALL\",\"WOOD 2 DRAWER CABINET WHITE FINISH\",\"POTTERING IN THE SHED METAL SIGN\",\"JUMBO STORAGE BAG SKULLS\",\"FAWN BLUE HOT WATER BOTTLE\",\"EDWARDIAN PARASOL NATURAL\",\"HAND WARMER BIRD DESIGN\",\"PLASTERS IN TIN WOODLAND ANIMALS\",\"RED RETROSPOT CAKE STAND\",\"RECIPE BOX PANTRY YELLOW DESIGN\"],\"xaxis\":\"x\",\"y\":[3373,1724,1687,1376,1326,1324,1309,1226,1178,1166,1138,1138,1138,1129,1118,1116,1113,1102,1065,1043,1038,1037,1031,1022,1021,993,991,989,968,951,949,942,934,923,918,917,917,906,905,901,895,890,867,852,851,850,849,836,820,820,814,807,807,799,795,784,779,768,761,760,759,754,751,742,737,734,729,721,709,709,700,693,691,685,684,684,679,673,672,670,668,664,664,656,654,648,646,645,642,640,632,632,626,625,624,621,620,618,616,614],\"yaxis\":\"y\",\"type\":\"bar\"}],                        {\"template\":{\"data\":{\"histogram2dcontour\":[{\"type\":\"histogram2dcontour\",\"colorbar\":{\"outlinewidth\":0,\"ticks\":\"\"},\"colorscale\":[[0.0,\"#0d0887\"],[0.1111111111111111,\"#46039f\"],[0.2222222222222222,\"#7201a8\"],[0.3333333333333333,\"#9c179e\"],[0.4444444444444444,\"#bd3786\"],[0.5555555555555556,\"#d8576b\"],[0.6666666666666666,\"#ed7953\"],[0.7777777777777778,\"#fb9f3a\"],[0.8888888888888888,\"#fdca26\"],[1.0,\"#f0f921\"]]}],\"choropleth\":[{\"type\":\"choropleth\",\"colorbar\":{\"outlinewidth\":0,\"ticks\":\"\"}}],\"histogram2d\":[{\"type\":\"histogram2d\",\"colorbar\":{\"outlinewidth\":0,\"ticks\":\"\"},\"colorscale\":[[0.0,\"#0d0887\"],[0.1111111111111111,\"#46039f\"],[0.2222222222222222,\"#7201a8\"],[0.3333333333333333,\"#9c179e\"],[0.4444444444444444,\"#bd3786\"],[0.5555555555555556,\"#d8576b\"],[0.6666666666666666,\"#ed7953\"],[0.7777777777777778,\"#fb9f3a\"],[0.8888888888888888,\"#fdca26\"],[1.0,\"#f0f921\"]]}],\"heatmap\":[{\"type\":\"heatmap\",\"colorbar\":{\"outlinewidth\":0,\"ticks\":\"\"},\"colorscale\":[[0.0,\"#0d0887\"],[0.1111111111111111,\"#46039f\"],[0.2222222222222222,\"#7201a8\"],[0.3333333333333333,\"#9c179e\"],[0.4444444444444444,\"#bd3786\"],[0.5555555555555556,\"#d8576b\"],[0.6666666666666666,\"#ed7953\"],[0.7777777777777778,\"#fb9f3a\"],[0.8888888888888888,\"#fdca26\"],[1.0,\"#f0f921\"]]}],\"heatmapgl\":[{\"type\":\"heatmapgl\",\"colorbar\":{\"outlinewidth\":0,\"ticks\":\"\"},\"colorscale\":[[0.0,\"#0d0887\"],[0.1111111111111111,\"#46039f\"],[0.2222222222222222,\"#7201a8\"],[0.3333333333333333,\"#9c179e\"],[0.4444444444444444,\"#bd3786\"],[0.5555555555555556,\"#d8576b\"],[0.6666666666666666,\"#ed7953\"],[0.7777777777777778,\"#fb9f3a\"],[0.8888888888888888,\"#fdca26\"],[1.0,\"#f0f921\"]]}],\"contourcarpet\":[{\"type\":\"contourcarpet\",\"colorbar\":{\"outlinewidth\":0,\"ticks\":\"\"}}],\"contour\":[{\"type\":\"contour\",\"colorbar\":{\"outlinewidth\":0,\"ticks\":\"\"},\"colorscale\":[[0.0,\"#0d0887\"],[0.1111111111111111,\"#46039f\"],[0.2222222222222222,\"#7201a8\"],[0.3333333333333333,\"#9c179e\"],[0.4444444444444444,\"#bd3786\"],[0.5555555555555556,\"#d8576b\"],[0.6666666666666666,\"#ed7953\"],[0.7777777777777778,\"#fb9f3a\"],[0.8888888888888888,\"#fdca26\"],[1.0,\"#f0f921\"]]}],\"surface\":[{\"type\":\"surface\",\"colorbar\":{\"outlinewidth\":0,\"ticks\":\"\"},\"colorscale\":[[0.0,\"#0d0887\"],[0.1111111111111111,\"#46039f\"],[0.2222222222222222,\"#7201a8\"],[0.3333333333333333,\"#9c179e\"],[0.4444444444444444,\"#bd3786\"],[0.5555555555555556,\"#d8576b\"],[0.6666666666666666,\"#ed7953\"],[0.7777777777777778,\"#fb9f3a\"],[0.8888888888888888,\"#fdca26\"],[1.0,\"#f0f921\"]]}],\"mesh3d\":[{\"type\":\"mesh3d\",\"colorbar\":{\"outlinewidth\":0,\"ticks\":\"\"}}],\"scatter\":[{\"fillpattern\":{\"fillmode\":\"overlay\",\"size\":10,\"solidity\":0.2},\"type\":\"scatter\"}],\"parcoords\":[{\"type\":\"parcoords\",\"line\":{\"colorbar\":{\"outlinewidth\":0,\"ticks\":\"\"}}}],\"scatterpolargl\":[{\"type\":\"scatterpolargl\",\"marker\":{\"colorbar\":{\"outlinewidth\":0,\"ticks\":\"\"}}}],\"bar\":[{\"error_x\":{\"color\":\"#2a3f5f\"},\"error_y\":{\"color\":\"#2a3f5f\"},\"marker\":{\"line\":{\"color\":\"#E5ECF6\",\"width\":0.5},\"pattern\":{\"fillmode\":\"overlay\",\"size\":10,\"solidity\":0.2}},\"type\":\"bar\"}],\"scattergeo\":[{\"type\":\"scattergeo\",\"marker\":{\"colorbar\":{\"outlinewidth\":0,\"ticks\":\"\"}}}],\"scatterpolar\":[{\"type\":\"scatterpolar\",\"marker\":{\"colorbar\":{\"outlinewidth\":0,\"ticks\":\"\"}}}],\"histogram\":[{\"marker\":{\"pattern\":{\"fillmode\":\"overlay\",\"size\":10,\"solidity\":0.2}},\"type\":\"histogram\"}],\"scattergl\":[{\"type\":\"scattergl\",\"marker\":{\"colorbar\":{\"outlinewidth\":0,\"ticks\":\"\"}}}],\"scatter3d\":[{\"type\":\"scatter3d\",\"line\":{\"colorbar\":{\"outlinewidth\":0,\"ticks\":\"\"}},\"marker\":{\"colorbar\":{\"outlinewidth\":0,\"ticks\":\"\"}}}],\"scattermapbox\":[{\"type\":\"scattermapbox\",\"marker\":{\"colorbar\":{\"outlinewidth\":0,\"ticks\":\"\"}}}],\"scatterternary\":[{\"type\":\"scatterternary\",\"marker\":{\"colorbar\":{\"outlinewidth\":0,\"ticks\":\"\"}}}],\"scattercarpet\":[{\"type\":\"scattercarpet\",\"marker\":{\"colorbar\":{\"outlinewidth\":0,\"ticks\":\"\"}}}],\"carpet\":[{\"aaxis\":{\"endlinecolor\":\"#2a3f5f\",\"gridcolor\":\"white\",\"linecolor\":\"white\",\"minorgridcolor\":\"white\",\"startlinecolor\":\"#2a3f5f\"},\"baxis\":{\"endlinecolor\":\"#2a3f5f\",\"gridcolor\":\"white\",\"linecolor\":\"white\",\"minorgridcolor\":\"white\",\"startlinecolor\":\"#2a3f5f\"},\"type\":\"carpet\"}],\"table\":[{\"cells\":{\"fill\":{\"color\":\"#EBF0F8\"},\"line\":{\"color\":\"white\"}},\"header\":{\"fill\":{\"color\":\"#C8D4E3\"},\"line\":{\"color\":\"white\"}},\"type\":\"table\"}],\"barpolar\":[{\"marker\":{\"line\":{\"color\":\"#E5ECF6\",\"width\":0.5},\"pattern\":{\"fillmode\":\"overlay\",\"size\":10,\"solidity\":0.2}},\"type\":\"barpolar\"}],\"pie\":[{\"automargin\":true,\"type\":\"pie\"}]},\"layout\":{\"autotypenumbers\":\"strict\",\"colorway\":[\"#636efa\",\"#EF553B\",\"#00cc96\",\"#ab63fa\",\"#FFA15A\",\"#19d3f3\",\"#FF6692\",\"#B6E880\",\"#FF97FF\",\"#FECB52\"],\"font\":{\"color\":\"#2a3f5f\"},\"hovermode\":\"closest\",\"hoverlabel\":{\"align\":\"left\"},\"paper_bgcolor\":\"white\",\"plot_bgcolor\":\"#E5ECF6\",\"polar\":{\"bgcolor\":\"#E5ECF6\",\"angularaxis\":{\"gridcolor\":\"white\",\"linecolor\":\"white\",\"ticks\":\"\"},\"radialaxis\":{\"gridcolor\":\"white\",\"linecolor\":\"white\",\"ticks\":\"\"}},\"ternary\":{\"bgcolor\":\"#E5ECF6\",\"aaxis\":{\"gridcolor\":\"white\",\"linecolor\":\"white\",\"ticks\":\"\"},\"baxis\":{\"gridcolor\":\"white\",\"linecolor\":\"white\",\"ticks\":\"\"},\"caxis\":{\"gridcolor\":\"white\",\"linecolor\":\"white\",\"ticks\":\"\"}},\"coloraxis\":{\"colorbar\":{\"outlinewidth\":0,\"ticks\":\"\"}},\"colorscale\":{\"sequential\":[[0.0,\"#0d0887\"],[0.1111111111111111,\"#46039f\"],[0.2222222222222222,\"#7201a8\"],[0.3333333333333333,\"#9c179e\"],[0.4444444444444444,\"#bd3786\"],[0.5555555555555556,\"#d8576b\"],[0.6666666666666666,\"#ed7953\"],[0.7777777777777778,\"#fb9f3a\"],[0.8888888888888888,\"#fdca26\"],[1.0,\"#f0f921\"]],\"sequentialminus\":[[0.0,\"#0d0887\"],[0.1111111111111111,\"#46039f\"],[0.2222222222222222,\"#7201a8\"],[0.3333333333333333,\"#9c179e\"],[0.4444444444444444,\"#bd3786\"],[0.5555555555555556,\"#d8576b\"],[0.6666666666666666,\"#ed7953\"],[0.7777777777777778,\"#fb9f3a\"],[0.8888888888888888,\"#fdca26\"],[1.0,\"#f0f921\"]],\"diverging\":[[0,\"#8e0152\"],[0.1,\"#c51b7d\"],[0.2,\"#de77ae\"],[0.3,\"#f1b6da\"],[0.4,\"#fde0ef\"],[0.5,\"#f7f7f7\"],[0.6,\"#e6f5d0\"],[0.7,\"#b8e186\"],[0.8,\"#7fbc41\"],[0.9,\"#4d9221\"],[1,\"#276419\"]]},\"xaxis\":{\"gridcolor\":\"white\",\"linecolor\":\"white\",\"ticks\":\"\",\"title\":{\"standoff\":15},\"zerolinecolor\":\"white\",\"automargin\":true,\"zerolinewidth\":2},\"yaxis\":{\"gridcolor\":\"white\",\"linecolor\":\"white\",\"ticks\":\"\",\"title\":{\"standoff\":15},\"zerolinecolor\":\"white\",\"automargin\":true,\"zerolinewidth\":2},\"scene\":{\"xaxis\":{\"backgroundcolor\":\"#E5ECF6\",\"gridcolor\":\"white\",\"linecolor\":\"white\",\"showbackground\":true,\"ticks\":\"\",\"zerolinecolor\":\"white\",\"gridwidth\":2},\"yaxis\":{\"backgroundcolor\":\"#E5ECF6\",\"gridcolor\":\"white\",\"linecolor\":\"white\",\"showbackground\":true,\"ticks\":\"\",\"zerolinecolor\":\"white\",\"gridwidth\":2},\"zaxis\":{\"backgroundcolor\":\"#E5ECF6\",\"gridcolor\":\"white\",\"linecolor\":\"white\",\"showbackground\":true,\"ticks\":\"\",\"zerolinecolor\":\"white\",\"gridwidth\":2}},\"shapedefaults\":{\"line\":{\"color\":\"#2a3f5f\"}},\"annotationdefaults\":{\"arrowcolor\":\"#2a3f5f\",\"arrowhead\":0,\"arrowwidth\":1},\"geo\":{\"bgcolor\":\"white\",\"landcolor\":\"#E5ECF6\",\"subunitcolor\":\"white\",\"showland\":true,\"showlakes\":true,\"lakecolor\":\"white\"},\"title\":{\"x\":0.05},\"mapbox\":{\"style\":\"light\"}}},\"xaxis\":{\"anchor\":\"y\",\"domain\":[0.0,1.0],\"title\":{\"text\":\"x\"}},\"yaxis\":{\"anchor\":\"x\",\"domain\":[0.0,1.0],\"title\":{\"text\":\"y\"}},\"legend\":{\"tracegroupgap\":0},\"title\":{\"text\":\"100 Most common categories of Description\"},\"barmode\":\"relative\"},                        {\"responsive\": true}                    ).then(function(){\n",
              "                            \n",
              "var gd = document.getElementById('5a063533-8f8d-4618-a967-3330e258e86a');\n",
              "var x = new MutationObserver(function (mutations, observer) {{\n",
              "        var display = window.getComputedStyle(gd).display;\n",
              "        if (!display || display === 'none') {{\n",
              "            console.log([gd, 'removed!']);\n",
              "            Plotly.purge(gd);\n",
              "            observer.disconnect();\n",
              "        }}\n",
              "}});\n",
              "\n",
              "// Listen for the removal of the full notebook cells\n",
              "var notebookContainer = gd.closest('#notebook-container');\n",
              "if (notebookContainer) {{\n",
              "    x.observe(notebookContainer, {childList: true});\n",
              "}}\n",
              "\n",
              "// Listen for the clearing of the current output cell\n",
              "var outputEl = gd.closest('.output');\n",
              "if (outputEl) {{\n",
              "    x.observe(outputEl, {childList: true});\n",
              "}}\n",
              "\n",
              "                        })                };                            </script>        </div>\n",
              "</body>\n",
              "</html>"
            ]
          },
          "metadata": {}
        },
        {
          "output_type": "display_data",
          "data": {
            "text/plain": [
              "<IPython.core.display.Markdown object>"
            ],
            "text/markdown": "## Quantity Profile"
          },
          "metadata": {}
        },
        {
          "output_type": "display_data",
          "data": {
            "text/plain": [
              "Type                            float64\n",
              "Number of observations         494870.0\n",
              "Mean                           7.328862\n",
              "Std                           10.000047\n",
              "Min                                 1.0\n",
              "25%                                 1.0\n",
              "50%                                 3.0\n",
              "75%                                10.0\n",
              "Max                                72.0\n",
              "Negative                              0\n",
              "Negative (%)                      0.0 %\n",
              "Zeros                                 0\n",
              "Zeros (%)                         0.0 %\n",
              "Kurt                          11.621627\n",
              "Skew                           3.008192\n",
              "                                       \n",
              "Missing cells                         0\n",
              "Missing cells (%)                 0.0 %\n",
              "Duplicate rows                   494870\n",
              "Duplicate rows (%)              100.0 %\n",
              "Total size in memory      7917920 bytes\n",
              "dtype: object"
            ]
          },
          "metadata": {}
        },
        {
          "output_type": "display_data",
          "data": {
            "text/html": [
              "<html>\n",
              "<head><meta charset=\"utf-8\" /></head>\n",
              "<body>\n",
              "    <div>            <script src=\"https://cdnjs.cloudflare.com/ajax/libs/mathjax/2.7.5/MathJax.js?config=TeX-AMS-MML_SVG\"></script><script type=\"text/javascript\">if (window.MathJax && window.MathJax.Hub && window.MathJax.Hub.Config) {window.MathJax.Hub.Config({SVG: {font: \"STIX-Web\"}});}</script>                <script type=\"text/javascript\">window.PlotlyConfig = {MathJaxConfig: 'local'};</script>\n",
              "        <script src=\"https://cdn.plot.ly/plotly-2.14.0.min.js\"></script>                <div id=\"244b22d4-6024-4dce-974c-04df3f93ef7e\" class=\"plotly-graph-div\" style=\"height:525px; width:100%;\"></div>            <script type=\"text/javascript\">                                    window.PLOTLYENV=window.PLOTLYENV || {};                                    if (document.getElementById(\"244b22d4-6024-4dce-974c-04df3f93ef7e\")) {                    Plotly.newPlot(                        \"244b22d4-6024-4dce-974c-04df3f93ef7e\",                        [{\"alignmentgroup\":\"True\",\"bingroup\":\"x\",\"hovertemplate\":\"variable=Quantity<br>value=%{x}<br>count=%{y}<extra></extra>\",\"legendgroup\":\"Quantity\",\"marker\":{\"color\":\"#636efa\",\"pattern\":{\"shape\":\"\"}},\"name\":\"Quantity\",\"offsetgroup\":\"Quantity\",\"orientation\":\"v\",\"showlegend\":true,\"x\":[1.0,1.0,3.0,24.0,1.0,5.0,8.0,1.0,4.0,1.0,5.0,1.0,2.0,5.0,1.0,4.0,2.0,1.0,12.0,24.0,1.0,1.0,6.0,6.0,12.0,1.0,5.0,24.0,3.0,1.0,6.0,1.0,5.0,7.0,6.0,12.0,20.0,1.0,1.0,4.0,6.0,3.0,12.0,9.0,4.0,6.0,1.0,1.0,3.0,2.0,5.0,6.0,25.0,24.0,2.0,12.0,6.0,4.0,2.0,1.0,2.0,3.0,24.0,6.0,12.0,1.0,2.0,12.0,12.0,8.0,2.0,1.0,1.0,5.0,3.0,2.0,1.0,1.0,12.0,12.0,2.0,6.0,1.0,2.0,3.0,1.0,4.0,12.0,4.0,3.0,1.0,4.0,3.0,1.0,1.0,6.0,2.0,6.0,2.0,6.0,4.0,2.0,2.0,10.0,12.0,2.0,25.0,1.0,12.0,4.0,48.0,1.0,1.0,4.0,1.0,1.0,24.0,1.0,24.0,4.0,1.0,2.0,6.0,12.0,10.0,1.0,4.0,1.0,1.0,3.0,1.0,25.0,6.0,1.0,12.0,12.0,2.0,1.0,25.0,5.0,16.0,24.0,12.0,1.0,6.0,2.0,12.0,6.0,6.0,1.0,24.0,1.0,24.0,1.0,1.0,2.0,2.0,1.0,1.0,1.0,2.0,1.0,1.0,4.0,2.0,12.0,1.0,24.0,3.0,1.0,1.0,12.0,1.0,1.0,8.0,3.0,2.0,12.0,1.0,2.0,2.0,1.0,1.0,3.0,1.0,6.0,5.0,1.0,2.0,10.0,6.0,3.0,3.0,1.0,4.0,12.0,2.0,1.0,6.0,12.0,10.0,12.0,4.0,1.0,12.0,6.0,2.0,2.0,6.0,10.0,2.0,3.0,60.0,10.0,24.0,2.0,1.0,6.0,24.0,7.0,1.0,4.0,4.0,3.0,2.0,2.0,1.0,12.0,1.0,1.0,1.0,6.0,3.0,6.0,6.0,24.0,12.0,5.0,1.0,1.0,3.0,1.0,1.0,1.0,8.0,24.0,10.0,4.0,1.0,8.0,2.0,5.0,1.0,6.0,2.0,3.0,1.0,1.0,2.0,2.0,2.0,2.0,20.0,2.0,6.0,2.0,2.0,6.0,12.0,1.0,8.0,2.0,6.0,1.0,1.0,12.0,6.0,60.0,1.0,6.0,2.0,1.0,24.0,1.0,7.0,1.0,1.0,5.0,6.0,1.0,4.0,6.0,12.0,6.0,2.0,2.0,2.0,5.0,1.0,1.0,3.0,2.0,1.0,6.0,6.0,1.0,4.0,25.0,24.0,12.0,1.0,1.0,1.0,2.0,24.0,24.0,1.0,10.0,3.0,6.0,1.0,5.0,1.0,2.0,12.0,1.0,2.0,1.0,36.0,1.0,8.0,3.0,1.0,16.0,2.0,3.0,2.0,12.0,1.0,1.0,1.0,10.0,1.0,1.0,2.0,6.0,4.0,1.0,2.0,2.0,12.0,2.0,4.0,12.0,1.0,6.0,2.0,5.0,6.0,1.0,3.0,4.0,24.0,10.0,4.0,1.0,4.0,1.0,4.0,24.0,24.0,1.0,1.0,1.0,2.0,1.0,4.0,50.0,3.0,3.0,25.0,1.0,1.0,1.0,4.0,2.0,3.0,9.0,10.0,6.0,6.0,1.0,12.0,1.0,2.0,2.0,3.0,1.0,3.0,6.0,1.0,5.0,25.0,5.0,10.0,1.0,5.0,48.0,3.0,8.0,1.0,1.0,5.0,2.0,3.0,12.0,12.0,24.0,12.0,1.0,1.0,1.0,2.0,4.0,12.0,6.0,5.0,32.0,48.0,1.0,24.0,6.0,2.0,2.0,2.0,4.0,1.0,6.0,1.0,16.0,1.0,1.0,2.0,1.0,1.0,12.0,3.0,4.0,1.0,36.0,1.0,3.0,2.0,12.0,2.0,8.0,2.0,1.0,4.0,6.0,12.0,6.0,6.0,24.0,1.0,16.0,12.0,1.0,1.0,24.0,10.0,1.0,6.0,48.0,3.0,1.0,1.0,12.0,5.0,6.0,10.0,3.0,1.0,1.0,12.0,1.0,2.0,12.0,2.0,8.0,10.0,1.0,12.0,2.0,2.0,1.0,1.0,3.0,12.0,1.0,1.0,1.0,3.0,3.0,12.0,12.0,4.0,4.0,1.0,1.0,1.0,2.0,1.0,3.0,12.0,12.0,6.0,12.0,11.0,3.0,1.0,2.0,8.0,12.0,36.0,12.0,1.0,8.0,25.0,1.0,2.0,4.0,2.0,3.0,2.0,3.0,1.0,1.0,1.0,6.0,4.0,1.0,6.0,25.0,1.0,2.0,2.0,2.0,8.0,12.0,1.0,12.0,36.0,4.0,6.0,2.0,1.0,12.0,48.0,3.0,4.0,2.0,1.0,6.0,1.0,1.0,12.0,4.0,4.0,1.0,12.0,1.0,3.0,1.0,2.0,1.0,5.0,4.0,1.0,12.0,1.0,2.0,12.0,2.0,1.0,1.0,36.0,6.0,1.0,24.0,3.0,16.0,6.0,10.0,2.0,61.0,6.0,12.0,24.0,8.0,3.0,12.0,6.0,2.0,4.0,1.0,1.0,2.0,3.0,1.0,8.0,72.0,1.0,16.0,3.0,1.0,3.0,48.0,24.0,3.0,8.0,12.0,10.0,6.0,1.0,2.0,5.0,1.0,48.0,1.0,2.0,1.0,12.0,2.0,24.0,1.0,1.0,10.0,10.0,2.0,1.0,1.0,12.0,2.0,5.0,2.0,1.0,1.0,48.0,2.0,6.0,24.0,30.0,12.0,8.0,1.0,12.0,36.0,40.0,2.0,12.0,12.0,1.0,12.0,6.0,12.0,1.0,12.0,2.0,30.0,1.0,1.0,6.0,1.0,2.0,48.0,6.0,1.0,8.0,1.0,6.0,3.0,24.0,8.0,12.0,8.0,4.0,1.0,40.0,2.0,48.0,6.0,3.0,1.0,4.0,3.0,12.0,1.0,12.0,6.0,4.0,1.0,3.0,12.0,1.0,5.0,2.0,18.0,2.0,2.0,24.0,4.0,6.0,2.0,3.0,2.0,4.0,1.0,2.0,2.0,4.0,1.0,3.0,1.0,12.0,24.0,16.0,6.0,1.0,1.0,1.0,10.0,2.0,2.0,12.0,30.0,25.0,8.0,4.0,3.0,1.0,1.0,2.0,3.0,8.0,10.0,7.0,6.0,48.0,10.0,4.0,12.0,10.0,8.0,25.0,50.0,10.0,10.0,12.0,1.0,1.0,2.0,5.0,1.0,2.0,1.0,3.0,1.0,10.0,12.0,24.0,2.0,3.0,12.0,4.0,1.0,12.0,12.0,16.0,8.0,8.0,6.0,1.0,2.0,3.0,10.0,1.0,1.0,1.0,3.0,1.0,1.0,1.0,8.0,1.0,25.0,2.0,24.0,3.0,1.0,6.0,12.0,1.0,24.0,12.0,10.0,1.0,1.0,24.0,24.0,1.0,1.0,24.0,12.0,6.0,12.0,12.0,40.0,26.0,3.0,5.0,7.0,1.0,7.0,6.0,1.0,1.0,2.0,1.0,12.0,12.0,10.0,6.0,2.0,1.0,1.0,2.0,6.0,2.0,1.0,2.0,12.0,2.0,1.0,36.0,3.0,2.0,6.0,1.0,4.0,24.0,6.0,1.0,4.0,1.0,3.0,12.0,2.0,6.0,2.0,3.0,1.0,24.0,1.0,1.0,4.0,1.0,12.0,4.0,3.0,1.0,2.0,12.0,6.0,2.0,5.0,2.0,2.0,2.0,6.0,3.0,5.0,6.0,2.0,1.0,6.0,1.0,3.0,1.0,2.0,1.0,1.0,2.0,3.0,3.0,1.0,12.0,10.0,1.0,1.0,25.0,1.0,1.0,4.0,2.0,2.0,6.0,1.0,10.0,6.0,48.0,48.0,6.0,2.0,1.0,1.0,25.0,36.0,1.0,3.0,72.0,1.0,48.0,1.0,12.0,1.0,6.0,3.0,8.0,1.0,1.0,6.0,5.0,3.0,4.0,1.0,1.0,12.0,1.0,25.0,8.0,24.0,12.0,12.0,1.0,16.0,12.0,1.0,2.0,1.0,12.0,25.0,12.0,1.0,6.0,6.0,2.0,6.0,1.0,10.0,2.0,1.0,12.0,1.0,2.0,12.0,1.0,4.0,2.0,1.0,10.0,4.0,5.0,2.0,10.0,8.0,4.0,12.0,1.0,2.0,2.0,12.0,12.0,1.0,3.0,3.0,1.0,1.0,3.0,8.0,2.0,12.0,2.0,12.0,1.0,1.0,1.0,2.0,2.0,1.0],\"xaxis\":\"x\",\"yaxis\":\"y\",\"type\":\"histogram\"},{\"alignmentgroup\":\"True\",\"hovertemplate\":\"variable=Quantity<br>value=%{x}<extra></extra>\",\"legendgroup\":\"Quantity\",\"marker\":{\"color\":\"#636efa\"},\"name\":\"Quantity\",\"notched\":true,\"offsetgroup\":\"Quantity\",\"showlegend\":false,\"x\":[1.0,1.0,3.0,24.0,1.0,5.0,8.0,1.0,4.0,1.0,5.0,1.0,2.0,5.0,1.0,4.0,2.0,1.0,12.0,24.0,1.0,1.0,6.0,6.0,12.0,1.0,5.0,24.0,3.0,1.0,6.0,1.0,5.0,7.0,6.0,12.0,20.0,1.0,1.0,4.0,6.0,3.0,12.0,9.0,4.0,6.0,1.0,1.0,3.0,2.0,5.0,6.0,25.0,24.0,2.0,12.0,6.0,4.0,2.0,1.0,2.0,3.0,24.0,6.0,12.0,1.0,2.0,12.0,12.0,8.0,2.0,1.0,1.0,5.0,3.0,2.0,1.0,1.0,12.0,12.0,2.0,6.0,1.0,2.0,3.0,1.0,4.0,12.0,4.0,3.0,1.0,4.0,3.0,1.0,1.0,6.0,2.0,6.0,2.0,6.0,4.0,2.0,2.0,10.0,12.0,2.0,25.0,1.0,12.0,4.0,48.0,1.0,1.0,4.0,1.0,1.0,24.0,1.0,24.0,4.0,1.0,2.0,6.0,12.0,10.0,1.0,4.0,1.0,1.0,3.0,1.0,25.0,6.0,1.0,12.0,12.0,2.0,1.0,25.0,5.0,16.0,24.0,12.0,1.0,6.0,2.0,12.0,6.0,6.0,1.0,24.0,1.0,24.0,1.0,1.0,2.0,2.0,1.0,1.0,1.0,2.0,1.0,1.0,4.0,2.0,12.0,1.0,24.0,3.0,1.0,1.0,12.0,1.0,1.0,8.0,3.0,2.0,12.0,1.0,2.0,2.0,1.0,1.0,3.0,1.0,6.0,5.0,1.0,2.0,10.0,6.0,3.0,3.0,1.0,4.0,12.0,2.0,1.0,6.0,12.0,10.0,12.0,4.0,1.0,12.0,6.0,2.0,2.0,6.0,10.0,2.0,3.0,60.0,10.0,24.0,2.0,1.0,6.0,24.0,7.0,1.0,4.0,4.0,3.0,2.0,2.0,1.0,12.0,1.0,1.0,1.0,6.0,3.0,6.0,6.0,24.0,12.0,5.0,1.0,1.0,3.0,1.0,1.0,1.0,8.0,24.0,10.0,4.0,1.0,8.0,2.0,5.0,1.0,6.0,2.0,3.0,1.0,1.0,2.0,2.0,2.0,2.0,20.0,2.0,6.0,2.0,2.0,6.0,12.0,1.0,8.0,2.0,6.0,1.0,1.0,12.0,6.0,60.0,1.0,6.0,2.0,1.0,24.0,1.0,7.0,1.0,1.0,5.0,6.0,1.0,4.0,6.0,12.0,6.0,2.0,2.0,2.0,5.0,1.0,1.0,3.0,2.0,1.0,6.0,6.0,1.0,4.0,25.0,24.0,12.0,1.0,1.0,1.0,2.0,24.0,24.0,1.0,10.0,3.0,6.0,1.0,5.0,1.0,2.0,12.0,1.0,2.0,1.0,36.0,1.0,8.0,3.0,1.0,16.0,2.0,3.0,2.0,12.0,1.0,1.0,1.0,10.0,1.0,1.0,2.0,6.0,4.0,1.0,2.0,2.0,12.0,2.0,4.0,12.0,1.0,6.0,2.0,5.0,6.0,1.0,3.0,4.0,24.0,10.0,4.0,1.0,4.0,1.0,4.0,24.0,24.0,1.0,1.0,1.0,2.0,1.0,4.0,50.0,3.0,3.0,25.0,1.0,1.0,1.0,4.0,2.0,3.0,9.0,10.0,6.0,6.0,1.0,12.0,1.0,2.0,2.0,3.0,1.0,3.0,6.0,1.0,5.0,25.0,5.0,10.0,1.0,5.0,48.0,3.0,8.0,1.0,1.0,5.0,2.0,3.0,12.0,12.0,24.0,12.0,1.0,1.0,1.0,2.0,4.0,12.0,6.0,5.0,32.0,48.0,1.0,24.0,6.0,2.0,2.0,2.0,4.0,1.0,6.0,1.0,16.0,1.0,1.0,2.0,1.0,1.0,12.0,3.0,4.0,1.0,36.0,1.0,3.0,2.0,12.0,2.0,8.0,2.0,1.0,4.0,6.0,12.0,6.0,6.0,24.0,1.0,16.0,12.0,1.0,1.0,24.0,10.0,1.0,6.0,48.0,3.0,1.0,1.0,12.0,5.0,6.0,10.0,3.0,1.0,1.0,12.0,1.0,2.0,12.0,2.0,8.0,10.0,1.0,12.0,2.0,2.0,1.0,1.0,3.0,12.0,1.0,1.0,1.0,3.0,3.0,12.0,12.0,4.0,4.0,1.0,1.0,1.0,2.0,1.0,3.0,12.0,12.0,6.0,12.0,11.0,3.0,1.0,2.0,8.0,12.0,36.0,12.0,1.0,8.0,25.0,1.0,2.0,4.0,2.0,3.0,2.0,3.0,1.0,1.0,1.0,6.0,4.0,1.0,6.0,25.0,1.0,2.0,2.0,2.0,8.0,12.0,1.0,12.0,36.0,4.0,6.0,2.0,1.0,12.0,48.0,3.0,4.0,2.0,1.0,6.0,1.0,1.0,12.0,4.0,4.0,1.0,12.0,1.0,3.0,1.0,2.0,1.0,5.0,4.0,1.0,12.0,1.0,2.0,12.0,2.0,1.0,1.0,36.0,6.0,1.0,24.0,3.0,16.0,6.0,10.0,2.0,61.0,6.0,12.0,24.0,8.0,3.0,12.0,6.0,2.0,4.0,1.0,1.0,2.0,3.0,1.0,8.0,72.0,1.0,16.0,3.0,1.0,3.0,48.0,24.0,3.0,8.0,12.0,10.0,6.0,1.0,2.0,5.0,1.0,48.0,1.0,2.0,1.0,12.0,2.0,24.0,1.0,1.0,10.0,10.0,2.0,1.0,1.0,12.0,2.0,5.0,2.0,1.0,1.0,48.0,2.0,6.0,24.0,30.0,12.0,8.0,1.0,12.0,36.0,40.0,2.0,12.0,12.0,1.0,12.0,6.0,12.0,1.0,12.0,2.0,30.0,1.0,1.0,6.0,1.0,2.0,48.0,6.0,1.0,8.0,1.0,6.0,3.0,24.0,8.0,12.0,8.0,4.0,1.0,40.0,2.0,48.0,6.0,3.0,1.0,4.0,3.0,12.0,1.0,12.0,6.0,4.0,1.0,3.0,12.0,1.0,5.0,2.0,18.0,2.0,2.0,24.0,4.0,6.0,2.0,3.0,2.0,4.0,1.0,2.0,2.0,4.0,1.0,3.0,1.0,12.0,24.0,16.0,6.0,1.0,1.0,1.0,10.0,2.0,2.0,12.0,30.0,25.0,8.0,4.0,3.0,1.0,1.0,2.0,3.0,8.0,10.0,7.0,6.0,48.0,10.0,4.0,12.0,10.0,8.0,25.0,50.0,10.0,10.0,12.0,1.0,1.0,2.0,5.0,1.0,2.0,1.0,3.0,1.0,10.0,12.0,24.0,2.0,3.0,12.0,4.0,1.0,12.0,12.0,16.0,8.0,8.0,6.0,1.0,2.0,3.0,10.0,1.0,1.0,1.0,3.0,1.0,1.0,1.0,8.0,1.0,25.0,2.0,24.0,3.0,1.0,6.0,12.0,1.0,24.0,12.0,10.0,1.0,1.0,24.0,24.0,1.0,1.0,24.0,12.0,6.0,12.0,12.0,40.0,26.0,3.0,5.0,7.0,1.0,7.0,6.0,1.0,1.0,2.0,1.0,12.0,12.0,10.0,6.0,2.0,1.0,1.0,2.0,6.0,2.0,1.0,2.0,12.0,2.0,1.0,36.0,3.0,2.0,6.0,1.0,4.0,24.0,6.0,1.0,4.0,1.0,3.0,12.0,2.0,6.0,2.0,3.0,1.0,24.0,1.0,1.0,4.0,1.0,12.0,4.0,3.0,1.0,2.0,12.0,6.0,2.0,5.0,2.0,2.0,2.0,6.0,3.0,5.0,6.0,2.0,1.0,6.0,1.0,3.0,1.0,2.0,1.0,1.0,2.0,3.0,3.0,1.0,12.0,10.0,1.0,1.0,25.0,1.0,1.0,4.0,2.0,2.0,6.0,1.0,10.0,6.0,48.0,48.0,6.0,2.0,1.0,1.0,25.0,36.0,1.0,3.0,72.0,1.0,48.0,1.0,12.0,1.0,6.0,3.0,8.0,1.0,1.0,6.0,5.0,3.0,4.0,1.0,1.0,12.0,1.0,25.0,8.0,24.0,12.0,12.0,1.0,16.0,12.0,1.0,2.0,1.0,12.0,25.0,12.0,1.0,6.0,6.0,2.0,6.0,1.0,10.0,2.0,1.0,12.0,1.0,2.0,12.0,1.0,4.0,2.0,1.0,10.0,4.0,5.0,2.0,10.0,8.0,4.0,12.0,1.0,2.0,2.0,12.0,12.0,1.0,3.0,3.0,1.0,1.0,3.0,8.0,2.0,12.0,2.0,12.0,1.0,1.0,1.0,2.0,2.0,1.0],\"xaxis\":\"x2\",\"yaxis\":\"y2\",\"type\":\"box\"}],                        {\"template\":{\"data\":{\"histogram2dcontour\":[{\"type\":\"histogram2dcontour\",\"colorbar\":{\"outlinewidth\":0,\"ticks\":\"\"},\"colorscale\":[[0.0,\"#0d0887\"],[0.1111111111111111,\"#46039f\"],[0.2222222222222222,\"#7201a8\"],[0.3333333333333333,\"#9c179e\"],[0.4444444444444444,\"#bd3786\"],[0.5555555555555556,\"#d8576b\"],[0.6666666666666666,\"#ed7953\"],[0.7777777777777778,\"#fb9f3a\"],[0.8888888888888888,\"#fdca26\"],[1.0,\"#f0f921\"]]}],\"choropleth\":[{\"type\":\"choropleth\",\"colorbar\":{\"outlinewidth\":0,\"ticks\":\"\"}}],\"histogram2d\":[{\"type\":\"histogram2d\",\"colorbar\":{\"outlinewidth\":0,\"ticks\":\"\"},\"colorscale\":[[0.0,\"#0d0887\"],[0.1111111111111111,\"#46039f\"],[0.2222222222222222,\"#7201a8\"],[0.3333333333333333,\"#9c179e\"],[0.4444444444444444,\"#bd3786\"],[0.5555555555555556,\"#d8576b\"],[0.6666666666666666,\"#ed7953\"],[0.7777777777777778,\"#fb9f3a\"],[0.8888888888888888,\"#fdca26\"],[1.0,\"#f0f921\"]]}],\"heatmap\":[{\"type\":\"heatmap\",\"colorbar\":{\"outlinewidth\":0,\"ticks\":\"\"},\"colorscale\":[[0.0,\"#0d0887\"],[0.1111111111111111,\"#46039f\"],[0.2222222222222222,\"#7201a8\"],[0.3333333333333333,\"#9c179e\"],[0.4444444444444444,\"#bd3786\"],[0.5555555555555556,\"#d8576b\"],[0.6666666666666666,\"#ed7953\"],[0.7777777777777778,\"#fb9f3a\"],[0.8888888888888888,\"#fdca26\"],[1.0,\"#f0f921\"]]}],\"heatmapgl\":[{\"type\":\"heatmapgl\",\"colorbar\":{\"outlinewidth\":0,\"ticks\":\"\"},\"colorscale\":[[0.0,\"#0d0887\"],[0.1111111111111111,\"#46039f\"],[0.2222222222222222,\"#7201a8\"],[0.3333333333333333,\"#9c179e\"],[0.4444444444444444,\"#bd3786\"],[0.5555555555555556,\"#d8576b\"],[0.6666666666666666,\"#ed7953\"],[0.7777777777777778,\"#fb9f3a\"],[0.8888888888888888,\"#fdca26\"],[1.0,\"#f0f921\"]]}],\"contourcarpet\":[{\"type\":\"contourcarpet\",\"colorbar\":{\"outlinewidth\":0,\"ticks\":\"\"}}],\"contour\":[{\"type\":\"contour\",\"colorbar\":{\"outlinewidth\":0,\"ticks\":\"\"},\"colorscale\":[[0.0,\"#0d0887\"],[0.1111111111111111,\"#46039f\"],[0.2222222222222222,\"#7201a8\"],[0.3333333333333333,\"#9c179e\"],[0.4444444444444444,\"#bd3786\"],[0.5555555555555556,\"#d8576b\"],[0.6666666666666666,\"#ed7953\"],[0.7777777777777778,\"#fb9f3a\"],[0.8888888888888888,\"#fdca26\"],[1.0,\"#f0f921\"]]}],\"surface\":[{\"type\":\"surface\",\"colorbar\":{\"outlinewidth\":0,\"ticks\":\"\"},\"colorscale\":[[0.0,\"#0d0887\"],[0.1111111111111111,\"#46039f\"],[0.2222222222222222,\"#7201a8\"],[0.3333333333333333,\"#9c179e\"],[0.4444444444444444,\"#bd3786\"],[0.5555555555555556,\"#d8576b\"],[0.6666666666666666,\"#ed7953\"],[0.7777777777777778,\"#fb9f3a\"],[0.8888888888888888,\"#fdca26\"],[1.0,\"#f0f921\"]]}],\"mesh3d\":[{\"type\":\"mesh3d\",\"colorbar\":{\"outlinewidth\":0,\"ticks\":\"\"}}],\"scatter\":[{\"fillpattern\":{\"fillmode\":\"overlay\",\"size\":10,\"solidity\":0.2},\"type\":\"scatter\"}],\"parcoords\":[{\"type\":\"parcoords\",\"line\":{\"colorbar\":{\"outlinewidth\":0,\"ticks\":\"\"}}}],\"scatterpolargl\":[{\"type\":\"scatterpolargl\",\"marker\":{\"colorbar\":{\"outlinewidth\":0,\"ticks\":\"\"}}}],\"bar\":[{\"error_x\":{\"color\":\"#2a3f5f\"},\"error_y\":{\"color\":\"#2a3f5f\"},\"marker\":{\"line\":{\"color\":\"#E5ECF6\",\"width\":0.5},\"pattern\":{\"fillmode\":\"overlay\",\"size\":10,\"solidity\":0.2}},\"type\":\"bar\"}],\"scattergeo\":[{\"type\":\"scattergeo\",\"marker\":{\"colorbar\":{\"outlinewidth\":0,\"ticks\":\"\"}}}],\"scatterpolar\":[{\"type\":\"scatterpolar\",\"marker\":{\"colorbar\":{\"outlinewidth\":0,\"ticks\":\"\"}}}],\"histogram\":[{\"marker\":{\"pattern\":{\"fillmode\":\"overlay\",\"size\":10,\"solidity\":0.2}},\"type\":\"histogram\"}],\"scattergl\":[{\"type\":\"scattergl\",\"marker\":{\"colorbar\":{\"outlinewidth\":0,\"ticks\":\"\"}}}],\"scatter3d\":[{\"type\":\"scatter3d\",\"line\":{\"colorbar\":{\"outlinewidth\":0,\"ticks\":\"\"}},\"marker\":{\"colorbar\":{\"outlinewidth\":0,\"ticks\":\"\"}}}],\"scattermapbox\":[{\"type\":\"scattermapbox\",\"marker\":{\"colorbar\":{\"outlinewidth\":0,\"ticks\":\"\"}}}],\"scatterternary\":[{\"type\":\"scatterternary\",\"marker\":{\"colorbar\":{\"outlinewidth\":0,\"ticks\":\"\"}}}],\"scattercarpet\":[{\"type\":\"scattercarpet\",\"marker\":{\"colorbar\":{\"outlinewidth\":0,\"ticks\":\"\"}}}],\"carpet\":[{\"aaxis\":{\"endlinecolor\":\"#2a3f5f\",\"gridcolor\":\"white\",\"linecolor\":\"white\",\"minorgridcolor\":\"white\",\"startlinecolor\":\"#2a3f5f\"},\"baxis\":{\"endlinecolor\":\"#2a3f5f\",\"gridcolor\":\"white\",\"linecolor\":\"white\",\"minorgridcolor\":\"white\",\"startlinecolor\":\"#2a3f5f\"},\"type\":\"carpet\"}],\"table\":[{\"cells\":{\"fill\":{\"color\":\"#EBF0F8\"},\"line\":{\"color\":\"white\"}},\"header\":{\"fill\":{\"color\":\"#C8D4E3\"},\"line\":{\"color\":\"white\"}},\"type\":\"table\"}],\"barpolar\":[{\"marker\":{\"line\":{\"color\":\"#E5ECF6\",\"width\":0.5},\"pattern\":{\"fillmode\":\"overlay\",\"size\":10,\"solidity\":0.2}},\"type\":\"barpolar\"}],\"pie\":[{\"automargin\":true,\"type\":\"pie\"}]},\"layout\":{\"autotypenumbers\":\"strict\",\"colorway\":[\"#636efa\",\"#EF553B\",\"#00cc96\",\"#ab63fa\",\"#FFA15A\",\"#19d3f3\",\"#FF6692\",\"#B6E880\",\"#FF97FF\",\"#FECB52\"],\"font\":{\"color\":\"#2a3f5f\"},\"hovermode\":\"closest\",\"hoverlabel\":{\"align\":\"left\"},\"paper_bgcolor\":\"white\",\"plot_bgcolor\":\"#E5ECF6\",\"polar\":{\"bgcolor\":\"#E5ECF6\",\"angularaxis\":{\"gridcolor\":\"white\",\"linecolor\":\"white\",\"ticks\":\"\"},\"radialaxis\":{\"gridcolor\":\"white\",\"linecolor\":\"white\",\"ticks\":\"\"}},\"ternary\":{\"bgcolor\":\"#E5ECF6\",\"aaxis\":{\"gridcolor\":\"white\",\"linecolor\":\"white\",\"ticks\":\"\"},\"baxis\":{\"gridcolor\":\"white\",\"linecolor\":\"white\",\"ticks\":\"\"},\"caxis\":{\"gridcolor\":\"white\",\"linecolor\":\"white\",\"ticks\":\"\"}},\"coloraxis\":{\"colorbar\":{\"outlinewidth\":0,\"ticks\":\"\"}},\"colorscale\":{\"sequential\":[[0.0,\"#0d0887\"],[0.1111111111111111,\"#46039f\"],[0.2222222222222222,\"#7201a8\"],[0.3333333333333333,\"#9c179e\"],[0.4444444444444444,\"#bd3786\"],[0.5555555555555556,\"#d8576b\"],[0.6666666666666666,\"#ed7953\"],[0.7777777777777778,\"#fb9f3a\"],[0.8888888888888888,\"#fdca26\"],[1.0,\"#f0f921\"]],\"sequentialminus\":[[0.0,\"#0d0887\"],[0.1111111111111111,\"#46039f\"],[0.2222222222222222,\"#7201a8\"],[0.3333333333333333,\"#9c179e\"],[0.4444444444444444,\"#bd3786\"],[0.5555555555555556,\"#d8576b\"],[0.6666666666666666,\"#ed7953\"],[0.7777777777777778,\"#fb9f3a\"],[0.8888888888888888,\"#fdca26\"],[1.0,\"#f0f921\"]],\"diverging\":[[0,\"#8e0152\"],[0.1,\"#c51b7d\"],[0.2,\"#de77ae\"],[0.3,\"#f1b6da\"],[0.4,\"#fde0ef\"],[0.5,\"#f7f7f7\"],[0.6,\"#e6f5d0\"],[0.7,\"#b8e186\"],[0.8,\"#7fbc41\"],[0.9,\"#4d9221\"],[1,\"#276419\"]]},\"xaxis\":{\"gridcolor\":\"white\",\"linecolor\":\"white\",\"ticks\":\"\",\"title\":{\"standoff\":15},\"zerolinecolor\":\"white\",\"automargin\":true,\"zerolinewidth\":2},\"yaxis\":{\"gridcolor\":\"white\",\"linecolor\":\"white\",\"ticks\":\"\",\"title\":{\"standoff\":15},\"zerolinecolor\":\"white\",\"automargin\":true,\"zerolinewidth\":2},\"scene\":{\"xaxis\":{\"backgroundcolor\":\"#E5ECF6\",\"gridcolor\":\"white\",\"linecolor\":\"white\",\"showbackground\":true,\"ticks\":\"\",\"zerolinecolor\":\"white\",\"gridwidth\":2},\"yaxis\":{\"backgroundcolor\":\"#E5ECF6\",\"gridcolor\":\"white\",\"linecolor\":\"white\",\"showbackground\":true,\"ticks\":\"\",\"zerolinecolor\":\"white\",\"gridwidth\":2},\"zaxis\":{\"backgroundcolor\":\"#E5ECF6\",\"gridcolor\":\"white\",\"linecolor\":\"white\",\"showbackground\":true,\"ticks\":\"\",\"zerolinecolor\":\"white\",\"gridwidth\":2}},\"shapedefaults\":{\"line\":{\"color\":\"#2a3f5f\"}},\"annotationdefaults\":{\"arrowcolor\":\"#2a3f5f\",\"arrowhead\":0,\"arrowwidth\":1},\"geo\":{\"bgcolor\":\"white\",\"landcolor\":\"#E5ECF6\",\"subunitcolor\":\"white\",\"showland\":true,\"showlakes\":true,\"lakecolor\":\"white\"},\"title\":{\"x\":0.05},\"mapbox\":{\"style\":\"light\"}}},\"xaxis\":{\"anchor\":\"y\",\"domain\":[0.0,1.0],\"title\":{\"text\":\"value\"}},\"yaxis\":{\"anchor\":\"x\",\"domain\":[0.0,0.7326],\"title\":{\"text\":\"count\"}},\"xaxis2\":{\"anchor\":\"y2\",\"domain\":[0.0,1.0],\"matches\":\"x\",\"showticklabels\":false,\"showgrid\":true},\"yaxis2\":{\"anchor\":\"x2\",\"domain\":[0.7426,1.0],\"matches\":\"y2\",\"showticklabels\":false,\"showline\":false,\"ticks\":\"\",\"showgrid\":false},\"legend\":{\"title\":{\"text\":\"variable\"},\"tracegroupgap\":0},\"title\":{\"text\":\"Quantity - With Outliers\"},\"barmode\":\"relative\"},                        {\"responsive\": true}                    ).then(function(){\n",
              "                            \n",
              "var gd = document.getElementById('244b22d4-6024-4dce-974c-04df3f93ef7e');\n",
              "var x = new MutationObserver(function (mutations, observer) {{\n",
              "        var display = window.getComputedStyle(gd).display;\n",
              "        if (!display || display === 'none') {{\n",
              "            console.log([gd, 'removed!']);\n",
              "            Plotly.purge(gd);\n",
              "            observer.disconnect();\n",
              "        }}\n",
              "}});\n",
              "\n",
              "// Listen for the removal of the full notebook cells\n",
              "var notebookContainer = gd.closest('#notebook-container');\n",
              "if (notebookContainer) {{\n",
              "    x.observe(notebookContainer, {childList: true});\n",
              "}}\n",
              "\n",
              "// Listen for the clearing of the current output cell\n",
              "var outputEl = gd.closest('.output');\n",
              "if (outputEl) {{\n",
              "    x.observe(outputEl, {childList: true});\n",
              "}}\n",
              "\n",
              "                        })                };                            </script>        </div>\n",
              "</body>\n",
              "</html>"
            ]
          },
          "metadata": {}
        },
        {
          "output_type": "display_data",
          "data": {
            "text/html": [
              "<html>\n",
              "<head><meta charset=\"utf-8\" /></head>\n",
              "<body>\n",
              "    <div>            <script src=\"https://cdnjs.cloudflare.com/ajax/libs/mathjax/2.7.5/MathJax.js?config=TeX-AMS-MML_SVG\"></script><script type=\"text/javascript\">if (window.MathJax && window.MathJax.Hub && window.MathJax.Hub.Config) {window.MathJax.Hub.Config({SVG: {font: \"STIX-Web\"}});}</script>                <script type=\"text/javascript\">window.PlotlyConfig = {MathJaxConfig: 'local'};</script>\n",
              "        <script src=\"https://cdn.plot.ly/plotly-2.14.0.min.js\"></script>                <div id=\"25f02a53-24b9-4e6f-9d4a-0d2fd6c24d24\" class=\"plotly-graph-div\" style=\"height:525px; width:100%;\"></div>            <script type=\"text/javascript\">                                    window.PLOTLYENV=window.PLOTLYENV || {};                                    if (document.getElementById(\"25f02a53-24b9-4e6f-9d4a-0d2fd6c24d24\")) {                    Plotly.newPlot(                        \"25f02a53-24b9-4e6f-9d4a-0d2fd6c24d24\",                        [{\"alignmentgroup\":\"True\",\"bingroup\":\"x\",\"hovertemplate\":\"variable=Quantity<br>value=%{x}<br>count=%{y}<extra></extra>\",\"legendgroup\":\"Quantity\",\"marker\":{\"color\":\"#636efa\",\"pattern\":{\"shape\":\"\"}},\"name\":\"Quantity\",\"offsetgroup\":\"Quantity\",\"orientation\":\"v\",\"showlegend\":true,\"x\":[1.0,1.0,3.0,24.0,1.0,5.0,8.0,1.0,4.0,1.0,5.0,1.0,2.0,5.0,1.0,4.0,2.0,1.0,12.0,24.0,1.0,1.0,6.0,6.0,12.0,1.0,5.0,24.0,3.0,1.0,6.0,1.0,5.0,7.0,6.0,12.0,20.0,1.0,1.0,4.0,6.0,3.0,12.0,9.0,4.0,6.0,1.0,1.0,3.0,2.0,5.0,6.0,25.0,24.0,2.0,12.0,6.0,4.0,2.0,1.0,2.0,3.0,24.0,6.0,12.0,1.0,2.0,12.0,12.0,8.0,2.0,1.0,1.0,5.0,3.0,2.0,1.0,1.0,12.0,12.0,2.0,6.0,1.0,2.0,3.0,1.0,4.0,12.0,4.0,3.0,1.0,4.0,3.0,1.0,1.0,6.0,2.0,6.0,2.0,6.0,4.0,2.0,2.0,10.0,12.0,2.0,25.0,1.0,12.0,4.0,1.0,1.0,4.0,1.0,1.0,24.0,1.0,24.0,4.0,1.0,2.0,6.0,12.0,10.0,1.0,4.0,1.0,1.0,3.0,1.0,25.0,6.0,1.0,12.0,12.0,2.0,1.0,25.0,5.0,16.0,24.0,12.0,1.0,6.0,2.0,12.0,6.0,6.0,1.0,24.0,1.0,24.0,1.0,1.0,2.0,2.0,1.0,1.0,1.0,2.0,1.0,1.0,4.0,2.0,12.0,1.0,24.0,3.0,1.0,1.0,12.0,1.0,1.0,8.0,3.0,2.0,12.0,1.0,2.0,2.0,1.0,1.0,3.0,1.0,6.0,5.0,1.0,2.0,10.0,6.0,3.0,3.0,1.0,4.0,12.0,2.0,1.0,6.0,12.0,10.0,12.0,4.0,1.0,12.0,6.0,2.0,2.0,6.0,10.0,2.0,3.0,10.0,24.0,2.0,1.0,6.0,24.0,7.0,1.0,4.0,4.0,3.0,2.0,2.0,1.0,12.0,1.0,1.0,1.0,6.0,3.0,6.0,6.0,24.0,12.0,5.0,1.0,1.0,3.0,1.0,1.0,1.0,8.0,24.0,10.0,4.0,1.0,8.0,2.0,5.0,1.0,6.0,2.0,3.0,1.0,1.0,2.0,2.0,2.0,2.0,20.0,2.0,6.0,2.0,2.0,6.0,12.0,1.0,8.0,2.0,6.0,1.0,1.0,12.0,6.0,1.0,6.0,2.0,1.0,24.0,1.0,7.0,1.0,1.0,5.0,6.0,1.0,4.0,6.0,12.0,6.0,2.0,2.0,2.0,5.0,1.0,1.0,3.0,2.0,1.0,6.0,6.0,1.0,4.0,25.0,24.0,12.0,1.0,1.0,1.0,2.0,24.0,24.0,1.0,10.0,3.0,6.0,1.0,5.0,1.0,2.0,12.0,1.0,2.0,1.0,36.0,1.0,8.0,3.0,1.0,16.0,2.0,3.0,2.0,12.0,1.0,1.0,1.0,10.0,1.0,1.0,2.0,6.0,4.0,1.0,2.0,2.0,12.0,2.0,4.0,12.0,1.0,6.0,2.0,5.0,6.0,1.0,3.0,4.0,24.0,10.0,4.0,1.0,4.0,1.0,4.0,24.0,24.0,1.0,1.0,1.0,2.0,1.0,4.0,3.0,3.0,25.0,1.0,1.0,1.0,4.0,2.0,3.0,9.0,10.0,6.0,6.0,1.0,12.0,1.0,2.0,2.0,3.0,1.0,3.0,6.0,1.0,5.0,25.0,5.0,10.0,1.0,5.0,3.0,8.0,1.0,1.0,5.0,2.0,3.0,12.0,12.0,24.0,12.0,1.0,1.0,1.0,2.0,4.0,12.0,6.0,5.0,32.0,1.0,24.0,6.0,2.0,2.0,2.0,4.0,1.0,6.0,1.0,16.0,1.0,1.0,2.0,1.0,1.0,12.0,3.0,4.0,1.0,36.0,1.0,3.0,2.0,12.0,2.0,8.0,2.0,1.0,4.0,6.0,12.0,6.0,6.0,24.0,1.0,16.0,12.0,1.0,1.0,24.0,10.0,1.0,6.0,3.0,1.0,1.0,12.0,5.0,6.0,10.0,3.0,1.0,1.0,12.0,1.0,2.0,12.0,2.0,8.0,10.0,1.0,12.0,2.0,2.0,1.0,1.0,3.0,12.0,1.0,1.0,1.0,3.0,3.0,12.0,12.0,4.0,4.0,1.0,1.0,1.0,2.0,1.0,3.0,12.0,12.0,6.0,12.0,11.0,3.0,1.0,2.0,8.0,12.0,36.0,12.0,1.0,8.0,25.0,1.0,2.0,4.0,2.0,3.0,2.0,3.0,1.0,1.0,1.0,6.0,4.0,1.0,6.0,25.0,1.0,2.0,2.0,2.0,8.0,12.0,1.0,12.0,36.0,4.0,6.0,2.0,1.0,12.0,3.0,4.0,2.0,1.0,6.0,1.0,1.0,12.0,4.0,4.0,1.0,12.0,1.0,3.0,1.0,2.0,1.0,5.0,4.0,1.0,12.0,1.0,2.0,12.0,2.0,1.0,1.0,36.0,6.0,1.0,24.0,3.0,16.0,6.0,10.0,2.0,6.0,12.0,24.0,8.0,3.0,12.0,6.0,2.0,4.0,1.0,1.0,2.0,3.0,1.0,8.0,1.0,16.0,3.0,1.0,3.0,24.0,3.0,8.0,12.0,10.0,6.0,1.0,2.0,5.0,1.0,1.0,2.0,1.0,12.0,2.0,24.0,1.0,1.0,10.0,10.0,2.0,1.0,1.0,12.0,2.0,5.0,2.0,1.0,1.0,2.0,6.0,24.0,30.0,12.0,8.0,1.0,12.0,36.0,2.0,12.0,12.0,1.0,12.0,6.0,12.0,1.0,12.0,2.0,30.0,1.0,1.0,6.0,1.0,2.0,6.0,1.0,8.0,1.0,6.0,3.0,24.0,8.0,12.0,8.0,4.0,1.0,2.0,6.0,3.0,1.0,4.0,3.0,12.0,1.0,12.0,6.0,4.0,1.0,3.0,12.0,1.0,5.0,2.0,18.0,2.0,2.0,24.0,4.0,6.0,2.0,3.0,2.0,4.0,1.0,2.0,2.0,4.0,1.0,3.0,1.0,12.0,24.0,16.0,6.0,1.0,1.0,1.0,10.0,2.0,2.0,12.0,30.0,25.0,8.0,4.0,3.0,1.0,1.0,2.0,3.0,8.0,10.0,7.0,6.0,10.0,4.0,12.0,10.0,8.0,25.0,10.0,10.0,12.0,1.0,1.0,2.0,5.0,1.0,2.0,1.0,3.0,1.0,10.0,12.0,24.0,2.0,3.0,12.0,4.0,1.0,12.0,12.0,16.0,8.0,8.0,6.0,1.0,2.0,3.0,10.0,1.0,1.0,1.0,3.0,1.0,1.0,1.0,8.0,1.0,25.0,2.0,24.0,3.0,1.0,6.0,12.0,1.0,24.0,12.0,10.0,1.0,1.0,24.0,24.0,1.0,1.0,24.0,12.0,6.0,12.0,12.0,26.0,3.0,5.0,7.0,1.0,7.0,6.0,1.0,1.0,2.0,1.0,12.0,12.0,10.0,6.0,2.0,1.0,1.0,2.0,6.0,2.0,1.0,2.0,12.0,2.0,1.0,36.0,3.0,2.0,6.0,1.0,4.0,24.0,6.0,1.0,4.0,1.0,3.0,12.0,2.0,6.0,2.0,3.0,1.0,24.0,1.0,1.0,4.0,1.0,12.0,4.0,3.0,1.0,2.0,12.0,6.0,2.0,5.0,2.0,2.0,2.0,6.0,3.0,5.0,6.0,2.0,1.0,6.0,1.0,3.0,1.0,2.0,1.0,1.0,2.0,3.0,3.0,1.0,12.0,10.0,1.0,1.0,25.0,1.0,1.0,4.0,2.0,2.0,6.0,1.0,10.0,6.0,6.0,2.0,1.0,1.0,25.0,36.0,1.0,3.0,1.0,1.0,12.0,1.0,6.0,3.0,8.0,1.0,1.0,6.0,5.0,3.0,4.0,1.0,1.0,12.0,1.0,25.0,8.0,24.0,12.0,12.0,1.0,16.0,12.0,1.0,2.0,1.0,12.0,25.0,12.0,1.0,6.0,6.0,2.0,6.0,1.0,10.0,2.0,1.0,12.0,1.0,2.0,12.0,1.0,4.0,2.0,1.0,10.0,4.0,5.0,2.0,10.0,8.0,4.0,12.0,1.0,2.0,2.0,12.0,12.0,1.0,3.0,3.0,1.0,1.0,3.0,8.0,2.0,12.0,2.0,12.0,1.0,1.0,1.0,2.0,2.0,1.0],\"xaxis\":\"x\",\"yaxis\":\"y\",\"type\":\"histogram\"},{\"alignmentgroup\":\"True\",\"hovertemplate\":\"variable=Quantity<br>value=%{x}<extra></extra>\",\"legendgroup\":\"Quantity\",\"marker\":{\"color\":\"#636efa\"},\"name\":\"Quantity\",\"notched\":true,\"offsetgroup\":\"Quantity\",\"showlegend\":false,\"x\":[1.0,1.0,3.0,24.0,1.0,5.0,8.0,1.0,4.0,1.0,5.0,1.0,2.0,5.0,1.0,4.0,2.0,1.0,12.0,24.0,1.0,1.0,6.0,6.0,12.0,1.0,5.0,24.0,3.0,1.0,6.0,1.0,5.0,7.0,6.0,12.0,20.0,1.0,1.0,4.0,6.0,3.0,12.0,9.0,4.0,6.0,1.0,1.0,3.0,2.0,5.0,6.0,25.0,24.0,2.0,12.0,6.0,4.0,2.0,1.0,2.0,3.0,24.0,6.0,12.0,1.0,2.0,12.0,12.0,8.0,2.0,1.0,1.0,5.0,3.0,2.0,1.0,1.0,12.0,12.0,2.0,6.0,1.0,2.0,3.0,1.0,4.0,12.0,4.0,3.0,1.0,4.0,3.0,1.0,1.0,6.0,2.0,6.0,2.0,6.0,4.0,2.0,2.0,10.0,12.0,2.0,25.0,1.0,12.0,4.0,1.0,1.0,4.0,1.0,1.0,24.0,1.0,24.0,4.0,1.0,2.0,6.0,12.0,10.0,1.0,4.0,1.0,1.0,3.0,1.0,25.0,6.0,1.0,12.0,12.0,2.0,1.0,25.0,5.0,16.0,24.0,12.0,1.0,6.0,2.0,12.0,6.0,6.0,1.0,24.0,1.0,24.0,1.0,1.0,2.0,2.0,1.0,1.0,1.0,2.0,1.0,1.0,4.0,2.0,12.0,1.0,24.0,3.0,1.0,1.0,12.0,1.0,1.0,8.0,3.0,2.0,12.0,1.0,2.0,2.0,1.0,1.0,3.0,1.0,6.0,5.0,1.0,2.0,10.0,6.0,3.0,3.0,1.0,4.0,12.0,2.0,1.0,6.0,12.0,10.0,12.0,4.0,1.0,12.0,6.0,2.0,2.0,6.0,10.0,2.0,3.0,10.0,24.0,2.0,1.0,6.0,24.0,7.0,1.0,4.0,4.0,3.0,2.0,2.0,1.0,12.0,1.0,1.0,1.0,6.0,3.0,6.0,6.0,24.0,12.0,5.0,1.0,1.0,3.0,1.0,1.0,1.0,8.0,24.0,10.0,4.0,1.0,8.0,2.0,5.0,1.0,6.0,2.0,3.0,1.0,1.0,2.0,2.0,2.0,2.0,20.0,2.0,6.0,2.0,2.0,6.0,12.0,1.0,8.0,2.0,6.0,1.0,1.0,12.0,6.0,1.0,6.0,2.0,1.0,24.0,1.0,7.0,1.0,1.0,5.0,6.0,1.0,4.0,6.0,12.0,6.0,2.0,2.0,2.0,5.0,1.0,1.0,3.0,2.0,1.0,6.0,6.0,1.0,4.0,25.0,24.0,12.0,1.0,1.0,1.0,2.0,24.0,24.0,1.0,10.0,3.0,6.0,1.0,5.0,1.0,2.0,12.0,1.0,2.0,1.0,36.0,1.0,8.0,3.0,1.0,16.0,2.0,3.0,2.0,12.0,1.0,1.0,1.0,10.0,1.0,1.0,2.0,6.0,4.0,1.0,2.0,2.0,12.0,2.0,4.0,12.0,1.0,6.0,2.0,5.0,6.0,1.0,3.0,4.0,24.0,10.0,4.0,1.0,4.0,1.0,4.0,24.0,24.0,1.0,1.0,1.0,2.0,1.0,4.0,3.0,3.0,25.0,1.0,1.0,1.0,4.0,2.0,3.0,9.0,10.0,6.0,6.0,1.0,12.0,1.0,2.0,2.0,3.0,1.0,3.0,6.0,1.0,5.0,25.0,5.0,10.0,1.0,5.0,3.0,8.0,1.0,1.0,5.0,2.0,3.0,12.0,12.0,24.0,12.0,1.0,1.0,1.0,2.0,4.0,12.0,6.0,5.0,32.0,1.0,24.0,6.0,2.0,2.0,2.0,4.0,1.0,6.0,1.0,16.0,1.0,1.0,2.0,1.0,1.0,12.0,3.0,4.0,1.0,36.0,1.0,3.0,2.0,12.0,2.0,8.0,2.0,1.0,4.0,6.0,12.0,6.0,6.0,24.0,1.0,16.0,12.0,1.0,1.0,24.0,10.0,1.0,6.0,3.0,1.0,1.0,12.0,5.0,6.0,10.0,3.0,1.0,1.0,12.0,1.0,2.0,12.0,2.0,8.0,10.0,1.0,12.0,2.0,2.0,1.0,1.0,3.0,12.0,1.0,1.0,1.0,3.0,3.0,12.0,12.0,4.0,4.0,1.0,1.0,1.0,2.0,1.0,3.0,12.0,12.0,6.0,12.0,11.0,3.0,1.0,2.0,8.0,12.0,36.0,12.0,1.0,8.0,25.0,1.0,2.0,4.0,2.0,3.0,2.0,3.0,1.0,1.0,1.0,6.0,4.0,1.0,6.0,25.0,1.0,2.0,2.0,2.0,8.0,12.0,1.0,12.0,36.0,4.0,6.0,2.0,1.0,12.0,3.0,4.0,2.0,1.0,6.0,1.0,1.0,12.0,4.0,4.0,1.0,12.0,1.0,3.0,1.0,2.0,1.0,5.0,4.0,1.0,12.0,1.0,2.0,12.0,2.0,1.0,1.0,36.0,6.0,1.0,24.0,3.0,16.0,6.0,10.0,2.0,6.0,12.0,24.0,8.0,3.0,12.0,6.0,2.0,4.0,1.0,1.0,2.0,3.0,1.0,8.0,1.0,16.0,3.0,1.0,3.0,24.0,3.0,8.0,12.0,10.0,6.0,1.0,2.0,5.0,1.0,1.0,2.0,1.0,12.0,2.0,24.0,1.0,1.0,10.0,10.0,2.0,1.0,1.0,12.0,2.0,5.0,2.0,1.0,1.0,2.0,6.0,24.0,30.0,12.0,8.0,1.0,12.0,36.0,2.0,12.0,12.0,1.0,12.0,6.0,12.0,1.0,12.0,2.0,30.0,1.0,1.0,6.0,1.0,2.0,6.0,1.0,8.0,1.0,6.0,3.0,24.0,8.0,12.0,8.0,4.0,1.0,2.0,6.0,3.0,1.0,4.0,3.0,12.0,1.0,12.0,6.0,4.0,1.0,3.0,12.0,1.0,5.0,2.0,18.0,2.0,2.0,24.0,4.0,6.0,2.0,3.0,2.0,4.0,1.0,2.0,2.0,4.0,1.0,3.0,1.0,12.0,24.0,16.0,6.0,1.0,1.0,1.0,10.0,2.0,2.0,12.0,30.0,25.0,8.0,4.0,3.0,1.0,1.0,2.0,3.0,8.0,10.0,7.0,6.0,10.0,4.0,12.0,10.0,8.0,25.0,10.0,10.0,12.0,1.0,1.0,2.0,5.0,1.0,2.0,1.0,3.0,1.0,10.0,12.0,24.0,2.0,3.0,12.0,4.0,1.0,12.0,12.0,16.0,8.0,8.0,6.0,1.0,2.0,3.0,10.0,1.0,1.0,1.0,3.0,1.0,1.0,1.0,8.0,1.0,25.0,2.0,24.0,3.0,1.0,6.0,12.0,1.0,24.0,12.0,10.0,1.0,1.0,24.0,24.0,1.0,1.0,24.0,12.0,6.0,12.0,12.0,26.0,3.0,5.0,7.0,1.0,7.0,6.0,1.0,1.0,2.0,1.0,12.0,12.0,10.0,6.0,2.0,1.0,1.0,2.0,6.0,2.0,1.0,2.0,12.0,2.0,1.0,36.0,3.0,2.0,6.0,1.0,4.0,24.0,6.0,1.0,4.0,1.0,3.0,12.0,2.0,6.0,2.0,3.0,1.0,24.0,1.0,1.0,4.0,1.0,12.0,4.0,3.0,1.0,2.0,12.0,6.0,2.0,5.0,2.0,2.0,2.0,6.0,3.0,5.0,6.0,2.0,1.0,6.0,1.0,3.0,1.0,2.0,1.0,1.0,2.0,3.0,3.0,1.0,12.0,10.0,1.0,1.0,25.0,1.0,1.0,4.0,2.0,2.0,6.0,1.0,10.0,6.0,6.0,2.0,1.0,1.0,25.0,36.0,1.0,3.0,1.0,1.0,12.0,1.0,6.0,3.0,8.0,1.0,1.0,6.0,5.0,3.0,4.0,1.0,1.0,12.0,1.0,25.0,8.0,24.0,12.0,12.0,1.0,16.0,12.0,1.0,2.0,1.0,12.0,25.0,12.0,1.0,6.0,6.0,2.0,6.0,1.0,10.0,2.0,1.0,12.0,1.0,2.0,12.0,1.0,4.0,2.0,1.0,10.0,4.0,5.0,2.0,10.0,8.0,4.0,12.0,1.0,2.0,2.0,12.0,12.0,1.0,3.0,3.0,1.0,1.0,3.0,8.0,2.0,12.0,2.0,12.0,1.0,1.0,1.0,2.0,2.0,1.0],\"xaxis\":\"x2\",\"yaxis\":\"y2\",\"type\":\"box\"}],                        {\"template\":{\"data\":{\"histogram2dcontour\":[{\"type\":\"histogram2dcontour\",\"colorbar\":{\"outlinewidth\":0,\"ticks\":\"\"},\"colorscale\":[[0.0,\"#0d0887\"],[0.1111111111111111,\"#46039f\"],[0.2222222222222222,\"#7201a8\"],[0.3333333333333333,\"#9c179e\"],[0.4444444444444444,\"#bd3786\"],[0.5555555555555556,\"#d8576b\"],[0.6666666666666666,\"#ed7953\"],[0.7777777777777778,\"#fb9f3a\"],[0.8888888888888888,\"#fdca26\"],[1.0,\"#f0f921\"]]}],\"choropleth\":[{\"type\":\"choropleth\",\"colorbar\":{\"outlinewidth\":0,\"ticks\":\"\"}}],\"histogram2d\":[{\"type\":\"histogram2d\",\"colorbar\":{\"outlinewidth\":0,\"ticks\":\"\"},\"colorscale\":[[0.0,\"#0d0887\"],[0.1111111111111111,\"#46039f\"],[0.2222222222222222,\"#7201a8\"],[0.3333333333333333,\"#9c179e\"],[0.4444444444444444,\"#bd3786\"],[0.5555555555555556,\"#d8576b\"],[0.6666666666666666,\"#ed7953\"],[0.7777777777777778,\"#fb9f3a\"],[0.8888888888888888,\"#fdca26\"],[1.0,\"#f0f921\"]]}],\"heatmap\":[{\"type\":\"heatmap\",\"colorbar\":{\"outlinewidth\":0,\"ticks\":\"\"},\"colorscale\":[[0.0,\"#0d0887\"],[0.1111111111111111,\"#46039f\"],[0.2222222222222222,\"#7201a8\"],[0.3333333333333333,\"#9c179e\"],[0.4444444444444444,\"#bd3786\"],[0.5555555555555556,\"#d8576b\"],[0.6666666666666666,\"#ed7953\"],[0.7777777777777778,\"#fb9f3a\"],[0.8888888888888888,\"#fdca26\"],[1.0,\"#f0f921\"]]}],\"heatmapgl\":[{\"type\":\"heatmapgl\",\"colorbar\":{\"outlinewidth\":0,\"ticks\":\"\"},\"colorscale\":[[0.0,\"#0d0887\"],[0.1111111111111111,\"#46039f\"],[0.2222222222222222,\"#7201a8\"],[0.3333333333333333,\"#9c179e\"],[0.4444444444444444,\"#bd3786\"],[0.5555555555555556,\"#d8576b\"],[0.6666666666666666,\"#ed7953\"],[0.7777777777777778,\"#fb9f3a\"],[0.8888888888888888,\"#fdca26\"],[1.0,\"#f0f921\"]]}],\"contourcarpet\":[{\"type\":\"contourcarpet\",\"colorbar\":{\"outlinewidth\":0,\"ticks\":\"\"}}],\"contour\":[{\"type\":\"contour\",\"colorbar\":{\"outlinewidth\":0,\"ticks\":\"\"},\"colorscale\":[[0.0,\"#0d0887\"],[0.1111111111111111,\"#46039f\"],[0.2222222222222222,\"#7201a8\"],[0.3333333333333333,\"#9c179e\"],[0.4444444444444444,\"#bd3786\"],[0.5555555555555556,\"#d8576b\"],[0.6666666666666666,\"#ed7953\"],[0.7777777777777778,\"#fb9f3a\"],[0.8888888888888888,\"#fdca26\"],[1.0,\"#f0f921\"]]}],\"surface\":[{\"type\":\"surface\",\"colorbar\":{\"outlinewidth\":0,\"ticks\":\"\"},\"colorscale\":[[0.0,\"#0d0887\"],[0.1111111111111111,\"#46039f\"],[0.2222222222222222,\"#7201a8\"],[0.3333333333333333,\"#9c179e\"],[0.4444444444444444,\"#bd3786\"],[0.5555555555555556,\"#d8576b\"],[0.6666666666666666,\"#ed7953\"],[0.7777777777777778,\"#fb9f3a\"],[0.8888888888888888,\"#fdca26\"],[1.0,\"#f0f921\"]]}],\"mesh3d\":[{\"type\":\"mesh3d\",\"colorbar\":{\"outlinewidth\":0,\"ticks\":\"\"}}],\"scatter\":[{\"fillpattern\":{\"fillmode\":\"overlay\",\"size\":10,\"solidity\":0.2},\"type\":\"scatter\"}],\"parcoords\":[{\"type\":\"parcoords\",\"line\":{\"colorbar\":{\"outlinewidth\":0,\"ticks\":\"\"}}}],\"scatterpolargl\":[{\"type\":\"scatterpolargl\",\"marker\":{\"colorbar\":{\"outlinewidth\":0,\"ticks\":\"\"}}}],\"bar\":[{\"error_x\":{\"color\":\"#2a3f5f\"},\"error_y\":{\"color\":\"#2a3f5f\"},\"marker\":{\"line\":{\"color\":\"#E5ECF6\",\"width\":0.5},\"pattern\":{\"fillmode\":\"overlay\",\"size\":10,\"solidity\":0.2}},\"type\":\"bar\"}],\"scattergeo\":[{\"type\":\"scattergeo\",\"marker\":{\"colorbar\":{\"outlinewidth\":0,\"ticks\":\"\"}}}],\"scatterpolar\":[{\"type\":\"scatterpolar\",\"marker\":{\"colorbar\":{\"outlinewidth\":0,\"ticks\":\"\"}}}],\"histogram\":[{\"marker\":{\"pattern\":{\"fillmode\":\"overlay\",\"size\":10,\"solidity\":0.2}},\"type\":\"histogram\"}],\"scattergl\":[{\"type\":\"scattergl\",\"marker\":{\"colorbar\":{\"outlinewidth\":0,\"ticks\":\"\"}}}],\"scatter3d\":[{\"type\":\"scatter3d\",\"line\":{\"colorbar\":{\"outlinewidth\":0,\"ticks\":\"\"}},\"marker\":{\"colorbar\":{\"outlinewidth\":0,\"ticks\":\"\"}}}],\"scattermapbox\":[{\"type\":\"scattermapbox\",\"marker\":{\"colorbar\":{\"outlinewidth\":0,\"ticks\":\"\"}}}],\"scatterternary\":[{\"type\":\"scatterternary\",\"marker\":{\"colorbar\":{\"outlinewidth\":0,\"ticks\":\"\"}}}],\"scattercarpet\":[{\"type\":\"scattercarpet\",\"marker\":{\"colorbar\":{\"outlinewidth\":0,\"ticks\":\"\"}}}],\"carpet\":[{\"aaxis\":{\"endlinecolor\":\"#2a3f5f\",\"gridcolor\":\"white\",\"linecolor\":\"white\",\"minorgridcolor\":\"white\",\"startlinecolor\":\"#2a3f5f\"},\"baxis\":{\"endlinecolor\":\"#2a3f5f\",\"gridcolor\":\"white\",\"linecolor\":\"white\",\"minorgridcolor\":\"white\",\"startlinecolor\":\"#2a3f5f\"},\"type\":\"carpet\"}],\"table\":[{\"cells\":{\"fill\":{\"color\":\"#EBF0F8\"},\"line\":{\"color\":\"white\"}},\"header\":{\"fill\":{\"color\":\"#C8D4E3\"},\"line\":{\"color\":\"white\"}},\"type\":\"table\"}],\"barpolar\":[{\"marker\":{\"line\":{\"color\":\"#E5ECF6\",\"width\":0.5},\"pattern\":{\"fillmode\":\"overlay\",\"size\":10,\"solidity\":0.2}},\"type\":\"barpolar\"}],\"pie\":[{\"automargin\":true,\"type\":\"pie\"}]},\"layout\":{\"autotypenumbers\":\"strict\",\"colorway\":[\"#636efa\",\"#EF553B\",\"#00cc96\",\"#ab63fa\",\"#FFA15A\",\"#19d3f3\",\"#FF6692\",\"#B6E880\",\"#FF97FF\",\"#FECB52\"],\"font\":{\"color\":\"#2a3f5f\"},\"hovermode\":\"closest\",\"hoverlabel\":{\"align\":\"left\"},\"paper_bgcolor\":\"white\",\"plot_bgcolor\":\"#E5ECF6\",\"polar\":{\"bgcolor\":\"#E5ECF6\",\"angularaxis\":{\"gridcolor\":\"white\",\"linecolor\":\"white\",\"ticks\":\"\"},\"radialaxis\":{\"gridcolor\":\"white\",\"linecolor\":\"white\",\"ticks\":\"\"}},\"ternary\":{\"bgcolor\":\"#E5ECF6\",\"aaxis\":{\"gridcolor\":\"white\",\"linecolor\":\"white\",\"ticks\":\"\"},\"baxis\":{\"gridcolor\":\"white\",\"linecolor\":\"white\",\"ticks\":\"\"},\"caxis\":{\"gridcolor\":\"white\",\"linecolor\":\"white\",\"ticks\":\"\"}},\"coloraxis\":{\"colorbar\":{\"outlinewidth\":0,\"ticks\":\"\"}},\"colorscale\":{\"sequential\":[[0.0,\"#0d0887\"],[0.1111111111111111,\"#46039f\"],[0.2222222222222222,\"#7201a8\"],[0.3333333333333333,\"#9c179e\"],[0.4444444444444444,\"#bd3786\"],[0.5555555555555556,\"#d8576b\"],[0.6666666666666666,\"#ed7953\"],[0.7777777777777778,\"#fb9f3a\"],[0.8888888888888888,\"#fdca26\"],[1.0,\"#f0f921\"]],\"sequentialminus\":[[0.0,\"#0d0887\"],[0.1111111111111111,\"#46039f\"],[0.2222222222222222,\"#7201a8\"],[0.3333333333333333,\"#9c179e\"],[0.4444444444444444,\"#bd3786\"],[0.5555555555555556,\"#d8576b\"],[0.6666666666666666,\"#ed7953\"],[0.7777777777777778,\"#fb9f3a\"],[0.8888888888888888,\"#fdca26\"],[1.0,\"#f0f921\"]],\"diverging\":[[0,\"#8e0152\"],[0.1,\"#c51b7d\"],[0.2,\"#de77ae\"],[0.3,\"#f1b6da\"],[0.4,\"#fde0ef\"],[0.5,\"#f7f7f7\"],[0.6,\"#e6f5d0\"],[0.7,\"#b8e186\"],[0.8,\"#7fbc41\"],[0.9,\"#4d9221\"],[1,\"#276419\"]]},\"xaxis\":{\"gridcolor\":\"white\",\"linecolor\":\"white\",\"ticks\":\"\",\"title\":{\"standoff\":15},\"zerolinecolor\":\"white\",\"automargin\":true,\"zerolinewidth\":2},\"yaxis\":{\"gridcolor\":\"white\",\"linecolor\":\"white\",\"ticks\":\"\",\"title\":{\"standoff\":15},\"zerolinecolor\":\"white\",\"automargin\":true,\"zerolinewidth\":2},\"scene\":{\"xaxis\":{\"backgroundcolor\":\"#E5ECF6\",\"gridcolor\":\"white\",\"linecolor\":\"white\",\"showbackground\":true,\"ticks\":\"\",\"zerolinecolor\":\"white\",\"gridwidth\":2},\"yaxis\":{\"backgroundcolor\":\"#E5ECF6\",\"gridcolor\":\"white\",\"linecolor\":\"white\",\"showbackground\":true,\"ticks\":\"\",\"zerolinecolor\":\"white\",\"gridwidth\":2},\"zaxis\":{\"backgroundcolor\":\"#E5ECF6\",\"gridcolor\":\"white\",\"linecolor\":\"white\",\"showbackground\":true,\"ticks\":\"\",\"zerolinecolor\":\"white\",\"gridwidth\":2}},\"shapedefaults\":{\"line\":{\"color\":\"#2a3f5f\"}},\"annotationdefaults\":{\"arrowcolor\":\"#2a3f5f\",\"arrowhead\":0,\"arrowwidth\":1},\"geo\":{\"bgcolor\":\"white\",\"landcolor\":\"#E5ECF6\",\"subunitcolor\":\"white\",\"showland\":true,\"showlakes\":true,\"lakecolor\":\"white\"},\"title\":{\"x\":0.05},\"mapbox\":{\"style\":\"light\"}}},\"xaxis\":{\"anchor\":\"y\",\"domain\":[0.0,1.0],\"title\":{\"text\":\"value\"}},\"yaxis\":{\"anchor\":\"x\",\"domain\":[0.0,0.7326],\"title\":{\"text\":\"count\"}},\"xaxis2\":{\"anchor\":\"y2\",\"domain\":[0.0,1.0],\"matches\":\"x\",\"showticklabels\":false,\"showgrid\":true},\"yaxis2\":{\"anchor\":\"x2\",\"domain\":[0.7426,1.0],\"matches\":\"y2\",\"showticklabels\":false,\"showline\":false,\"ticks\":\"\",\"showgrid\":false},\"legend\":{\"title\":{\"text\":\"variable\"},\"tracegroupgap\":0},\"title\":{\"text\":\"Quantity - Without Outliers\"},\"barmode\":\"relative\"},                        {\"responsive\": true}                    ).then(function(){\n",
              "                            \n",
              "var gd = document.getElementById('25f02a53-24b9-4e6f-9d4a-0d2fd6c24d24');\n",
              "var x = new MutationObserver(function (mutations, observer) {{\n",
              "        var display = window.getComputedStyle(gd).display;\n",
              "        if (!display || display === 'none') {{\n",
              "            console.log([gd, 'removed!']);\n",
              "            Plotly.purge(gd);\n",
              "            observer.disconnect();\n",
              "        }}\n",
              "}});\n",
              "\n",
              "// Listen for the removal of the full notebook cells\n",
              "var notebookContainer = gd.closest('#notebook-container');\n",
              "if (notebookContainer) {{\n",
              "    x.observe(notebookContainer, {childList: true});\n",
              "}}\n",
              "\n",
              "// Listen for the clearing of the current output cell\n",
              "var outputEl = gd.closest('.output');\n",
              "if (outputEl) {{\n",
              "    x.observe(outputEl, {childList: true});\n",
              "}}\n",
              "\n",
              "                        })                };                            </script>        </div>\n",
              "</body>\n",
              "</html>"
            ]
          },
          "metadata": {}
        },
        {
          "output_type": "display_data",
          "data": {
            "text/plain": [
              "<IPython.core.display.Markdown object>"
            ],
            "text/markdown": "## InvoiceDate Profile"
          },
          "metadata": {}
        },
        {
          "output_type": "display_data",
          "data": {
            "text/plain": [
              "Type                                     datetime64[ns]\n",
              "Number of observations                           494870\n",
              "Mean                      2010-06-29 02:43:46.645583616\n",
              "Min                                 2009-12-01 07:45:00\n",
              "25%                                 2010-03-21 15:23:00\n",
              "50%                                 2010-07-07 11:21:00\n",
              "75%                                 2010-10-17 11:58:00\n",
              "Max                                 2010-12-09 20:01:00\n",
              "                                                       \n",
              "Missing cells                                         0\n",
              "Missing cells (%)                                 0.0 %\n",
              "Duplicate rows                                   493146\n",
              "Duplicate rows (%)                              99.65 %\n",
              "Total size in memory                      7917920 bytes\n",
              "dtype: object"
            ]
          },
          "metadata": {}
        },
        {
          "output_type": "display_data",
          "data": {
            "text/html": [
              "<html>\n",
              "<head><meta charset=\"utf-8\" /></head>\n",
              "<body>\n",
              "    <div>            <script src=\"https://cdnjs.cloudflare.com/ajax/libs/mathjax/2.7.5/MathJax.js?config=TeX-AMS-MML_SVG\"></script><script type=\"text/javascript\">if (window.MathJax && window.MathJax.Hub && window.MathJax.Hub.Config) {window.MathJax.Hub.Config({SVG: {font: \"STIX-Web\"}});}</script>                <script type=\"text/javascript\">window.PlotlyConfig = {MathJaxConfig: 'local'};</script>\n",
              "        <script src=\"https://cdn.plot.ly/plotly-2.14.0.min.js\"></script>                <div id=\"176441f1-2603-4bfa-ab53-c1043760cae0\" class=\"plotly-graph-div\" style=\"height:525px; width:100%;\"></div>            <script type=\"text/javascript\">                                    window.PLOTLYENV=window.PLOTLYENV || {};                                    if (document.getElementById(\"176441f1-2603-4bfa-ab53-c1043760cae0\")) {                    Plotly.newPlot(                        \"176441f1-2603-4bfa-ab53-c1043760cae0\",                        [{\"alignmentgroup\":\"True\",\"bingroup\":\"x\",\"hovertemplate\":\"variable=InvoiceDate<br>value=%{x}<br>count=%{y}<extra></extra>\",\"legendgroup\":\"InvoiceDate\",\"marker\":{\"color\":\"#636efa\",\"pattern\":{\"shape\":\"\"}},\"name\":\"InvoiceDate\",\"offsetgroup\":\"InvoiceDate\",\"orientation\":\"v\",\"showlegend\":true,\"x\":[\"2009-12-14T18:37:00\",\"2010-02-19T18:04:00\",\"2010-11-22T15:01:00\",\"2010-09-13T10:40:00\",\"2010-04-29T11:18:00\",\"2010-05-09T16:10:00\",\"2010-06-02T11:54:00\",\"2010-10-27T16:04:00\",\"2010-06-23T08:14:00\",\"2010-11-18T14:07:00\",\"2010-12-06T15:25:00\",\"2010-12-07T15:54:00\",\"2010-07-13T15:44:00\",\"2010-11-30T13:26:00\",\"2010-09-02T17:52:00\",\"2010-07-06T09:51:00\",\"2010-11-15T09:32:00\",\"2010-05-16T12:44:00\",\"2010-09-30T14:46:00\",\"2010-09-13T12:29:00\",\"2010-11-07T16:29:00\",\"2010-10-01T12:00:00\",\"2010-06-06T15:49:00\",\"2010-07-13T11:57:00\",\"2009-12-17T10:27:00\",\"2009-12-21T17:14:00\",\"2010-08-19T13:06:00\",\"2010-03-04T15:44:00\",\"2010-04-28T15:00:00\",\"2010-11-01T11:35:00\",\"2010-08-22T15:39:00\",\"2010-01-18T13:20:00\",\"2010-12-02T14:09:00\",\"2010-08-12T14:39:00\",\"2010-01-31T10:10:00\",\"2009-12-01T12:20:00\",\"2010-08-19T13:04:00\",\"2010-03-26T17:24:00\",\"2010-11-02T13:57:00\",\"2010-03-24T12:23:00\",\"2010-10-10T15:27:00\",\"2010-08-23T14:38:00\",\"2010-07-07T12:43:00\",\"2010-05-26T15:06:00\",\"2010-11-12T10:11:00\",\"2010-06-14T14:06:00\",\"2010-06-01T13:49:00\",\"2010-03-15T16:05:00\",\"2010-04-29T13:29:00\",\"2010-11-15T13:27:00\",\"2010-10-06T13:25:00\",\"2010-10-31T15:18:00\",\"2010-10-31T15:39:00\",\"2010-08-12T16:27:00\",\"2010-11-25T13:29:00\",\"2010-09-14T15:30:00\",\"2010-11-30T10:43:00\",\"2010-06-30T11:57:00\",\"2010-10-01T12:07:00\",\"2010-07-21T12:11:00\",\"2010-09-14T14:35:00\",\"2010-02-01T17:18:00\",\"2010-04-09T14:38:00\",\"2010-03-18T14:14:00\",\"2010-05-18T11:33:00\",\"2010-11-24T09:54:00\",\"2010-05-20T09:55:00\",\"2010-11-07T12:51:00\",\"2010-06-29T14:11:00\",\"2010-11-02T17:24:00\",\"2010-11-17T14:05:00\",\"2010-09-17T13:30:00\",\"2010-03-19T16:43:00\",\"2010-02-28T12:29:00\",\"2010-04-01T18:48:00\",\"2010-05-24T15:57:00\",\"2010-10-17T14:30:00\",\"2010-01-27T17:44:00\",\"2010-09-29T10:22:00\",\"2010-04-30T15:57:00\",\"2010-05-26T09:00:00\",\"2010-11-05T16:42:00\",\"2010-05-16T12:56:00\",\"2010-06-10T12:21:00\",\"2010-01-27T10:56:00\",\"2009-12-07T18:02:00\",\"2010-06-27T13:00:00\",\"2010-03-07T10:49:00\",\"2010-06-03T11:12:00\",\"2010-10-24T11:47:00\",\"2010-11-08T12:28:00\",\"2010-03-26T13:44:00\",\"2010-09-10T17:19:00\",\"2010-04-26T12:51:00\",\"2010-11-29T09:46:00\",\"2010-09-12T11:38:00\",\"2010-07-05T12:50:00\",\"2010-09-10T15:57:00\",\"2010-11-28T11:37:00\",\"2010-03-10T14:50:00\",\"2010-11-04T14:39:00\",\"2010-07-06T11:29:00\",\"2009-12-14T18:03:00\",\"2010-07-01T09:56:00\",\"2010-03-11T10:52:00\",\"2010-11-17T11:40:00\",\"2010-10-11T09:42:00\",\"2010-10-17T13:06:00\",\"2010-09-27T10:09:00\",\"2010-04-21T12:06:00\",\"2010-11-12T12:32:00\",\"2010-07-20T17:20:00\",\"2010-12-05T12:42:00\",\"2010-10-27T12:55:00\",\"2010-07-07T11:57:00\",\"2009-12-02T14:43:00\",\"2010-11-21T11:47:00\",\"2010-03-26T12:53:00\",\"2010-11-16T16:01:00\",\"2010-04-08T14:28:00\",\"2010-11-24T14:21:00\",\"2010-04-16T11:54:00\",\"2009-12-20T11:50:00\",\"2010-10-17T11:20:00\",\"2010-08-25T14:38:00\",\"2010-11-24T14:49:00\",\"2010-03-01T14:48:00\",\"2010-01-14T14:48:00\",\"2010-11-19T11:37:00\",\"2010-03-28T12:55:00\",\"2010-03-08T12:35:00\",\"2010-10-19T13:20:00\",\"2010-05-14T10:47:00\",\"2010-09-13T13:42:00\",\"2010-01-15T16:52:00\",\"2010-11-14T15:27:00\",\"2010-11-30T13:07:00\",\"2010-08-31T15:28:00\",\"2010-10-31T14:59:00\",\"2010-10-13T13:41:00\",\"2010-05-09T12:06:00\",\"2010-02-16T15:25:00\",\"2010-11-25T19:32:00\",\"2010-11-03T11:34:00\",\"2010-12-05T12:35:00\",\"2010-01-17T14:07:00\",\"2010-10-29T12:06:00\",\"2010-06-01T15:05:00\",\"2010-11-23T13:36:00\",\"2010-06-14T11:24:00\",\"2010-02-24T11:51:00\",\"2010-01-15T11:30:00\",\"2010-05-27T09:49:00\",\"2010-11-11T14:36:00\",\"2010-09-24T16:06:00\",\"2010-03-25T14:56:00\",\"2010-07-11T10:28:00\",\"2010-09-15T15:14:00\",\"2010-09-16T20:04:00\",\"2010-09-08T11:56:00\",\"2010-06-03T14:02:00\",\"2010-08-27T12:18:00\",\"2010-09-28T17:18:00\",\"2010-07-23T10:50:00\",\"2010-11-18T14:17:00\",\"2010-01-18T10:23:00\",\"2010-04-23T12:14:00\",\"2010-11-22T13:15:00\",\"2010-04-08T11:36:00\",\"2010-04-28T16:49:00\",\"2010-09-02T17:52:00\",\"2010-10-11T15:59:00\",\"2010-01-24T12:12:00\",\"2010-05-25T17:22:00\",\"2010-01-22T14:17:00\",\"2010-08-23T09:23:00\",\"2010-01-14T17:43:00\",\"2009-12-03T15:49:00\",\"2009-12-22T14:31:00\",\"2010-01-07T12:37:00\",\"2009-12-03T11:46:00\",\"2010-09-15T13:21:00\",\"2010-05-07T14:02:00\",\"2010-06-06T12:13:00\",\"2010-09-29T14:36:00\",\"2010-05-24T11:00:00\",\"2010-10-26T16:47:00\",\"2010-01-11T09:37:00\",\"2010-12-09T14:09:00\",\"2010-01-31T15:45:00\",\"2010-04-11T15:54:00\",\"2010-05-30T11:02:00\",\"2010-06-13T14:53:00\",\"2010-03-30T12:36:00\",\"2010-10-31T12:56:00\",\"2010-10-07T17:26:00\",\"2010-02-22T11:13:00\",\"2010-04-19T10:59:00\",\"2010-05-11T10:45:00\",\"2010-04-08T17:00:00\",\"2010-09-09T13:51:00\",\"2010-11-16T12:28:00\",\"2010-09-21T12:22:00\",\"2010-01-14T14:18:00\",\"2010-04-16T15:12:00\",\"2010-11-08T16:07:00\",\"2010-07-25T16:06:00\",\"2010-03-08T12:40:00\",\"2010-02-16T10:41:00\",\"2010-03-30T10:49:00\",\"2010-01-28T15:43:00\",\"2010-01-19T13:33:00\",\"2010-06-15T12:22:00\",\"2010-08-31T16:21:00\",\"2010-11-11T15:25:00\",\"2010-10-31T14:14:00\",\"2010-10-17T14:44:00\",\"2010-09-12T11:47:00\",\"2010-05-27T13:10:00\",\"2010-11-14T16:16:00\",\"2009-12-02T11:55:00\",\"2010-06-29T13:13:00\",\"2010-01-25T09:08:00\",\"2010-10-26T11:32:00\",\"2010-02-21T12:25:00\",\"2010-09-05T10:44:00\",\"2010-09-28T12:58:00\",\"2010-10-27T15:40:00\",\"2010-04-27T10:50:00\",\"2010-06-02T14:24:00\",\"2009-12-01T11:45:00\",\"2010-03-31T14:31:00\",\"2010-10-05T08:45:00\",\"2010-11-01T14:45:00\",\"2010-02-14T15:38:00\",\"2010-09-15T13:35:00\",\"2010-12-07T13:20:00\",\"2010-11-25T12:18:00\",\"2010-08-31T15:28:00\",\"2010-10-03T11:35:00\",\"2010-11-18T18:23:00\",\"2010-05-26T11:27:00\",\"2010-01-27T17:44:00\",\"2010-05-04T15:48:00\",\"2010-08-02T12:37:00\",\"2010-10-31T14:11:00\",\"2010-02-24T12:51:00\",\"2009-12-04T12:33:00\",\"2010-09-23T12:18:00\",\"2010-07-16T10:22:00\",\"2010-04-12T14:48:00\",\"2010-06-03T14:02:00\",\"2010-03-21T15:23:00\",\"2010-11-07T16:29:00\",\"2010-07-27T15:32:00\",\"2010-11-23T09:12:00\",\"2010-03-07T15:34:00\",\"2010-02-19T09:49:00\",\"2009-12-16T11:57:00\",\"2009-12-13T15:17:00\",\"2010-06-07T12:43:00\",\"2009-12-03T14:39:00\",\"2010-05-12T12:17:00\",\"2010-03-08T16:53:00\",\"2010-07-12T15:00:00\",\"2010-05-28T12:37:00\",\"2010-04-06T15:37:00\",\"2009-12-06T15:41:00\",\"2010-10-17T10:46:00\",\"2010-03-21T14:55:00\",\"2010-12-02T12:50:00\",\"2010-01-29T09:21:00\",\"2010-03-07T15:25:00\",\"2010-07-07T11:31:00\",\"2010-11-28T13:21:00\",\"2009-12-04T12:59:00\",\"2010-11-23T13:59:00\",\"2010-04-07T14:12:00\",\"2010-09-05T10:54:00\",\"2010-03-19T14:02:00\",\"2010-11-02T13:57:00\",\"2010-04-19T11:19:00\",\"2010-08-25T09:44:00\",\"2010-10-19T10:41:00\",\"2010-02-11T15:02:00\",\"2010-12-06T11:26:00\",\"2010-11-05T11:58:00\",\"2010-08-13T18:25:00\",\"2010-08-01T13:48:00\",\"2010-05-19T17:49:00\",\"2010-04-15T10:49:00\",\"2010-02-22T13:31:00\",\"2010-07-05T11:54:00\",\"2010-06-06T10:30:00\",\"2010-11-10T12:09:00\",\"2009-12-06T12:07:00\",\"2010-06-25T11:49:00\",\"2010-04-09T14:55:00\",\"2010-11-01T11:35:00\",\"2009-12-14T18:37:00\",\"2010-11-19T13:21:00\",\"2010-02-10T10:36:00\",\"2010-01-20T11:49:00\",\"2010-10-25T10:00:00\",\"2010-06-30T12:35:00\",\"2010-03-31T17:28:00\",\"2010-10-08T12:35:00\",\"2010-10-19T11:22:00\",\"2010-11-05T15:07:00\",\"2010-07-02T11:44:00\",\"2009-12-02T13:00:00\",\"2010-08-10T12:08:00\",\"2010-03-22T16:16:00\",\"2010-11-12T09:18:00\",\"2010-08-24T11:41:00\",\"2010-08-29T12:07:00\",\"2010-06-02T15:40:00\",\"2010-11-05T11:42:00\",\"2010-11-15T14:26:00\",\"2010-02-19T10:41:00\",\"2010-11-11T19:14:00\",\"2010-10-20T14:42:00\",\"2010-01-11T09:35:00\",\"2010-07-11T14:06:00\",\"2010-06-11T13:55:00\",\"2010-04-13T14:27:00\",\"2010-11-05T11:58:00\",\"2010-02-10T17:59:00\",\"2009-12-09T16:50:00\",\"2010-01-29T17:55:00\",\"2010-11-24T12:06:00\",\"2010-01-28T17:13:00\",\"2009-12-02T14:43:00\",\"2010-03-31T15:42:00\",\"2010-09-27T11:41:00\",\"2010-07-30T12:30:00\",\"2010-07-25T11:24:00\",\"2009-12-02T11:18:00\",\"2010-07-19T10:31:00\",\"2010-10-26T14:47:00\",\"2010-04-09T17:13:00\",\"2010-09-02T18:13:00\",\"2010-11-23T12:54:00\",\"2010-06-22T14:21:00\",\"2010-03-07T16:12:00\",\"2009-12-15T13:50:00\",\"2010-08-12T11:47:00\",\"2010-07-04T13:33:00\",\"2010-11-08T15:12:00\",\"2010-12-02T13:49:00\",\"2009-12-09T15:03:00\",\"2010-06-18T14:57:00\",\"2010-11-05T14:21:00\",\"2010-09-03T12:33:00\",\"2010-06-27T13:16:00\",\"2010-02-28T14:24:00\",\"2010-10-31T14:42:00\",\"2010-10-26T14:37:00\",\"2009-12-04T08:46:00\",\"2010-12-06T12:41:00\",\"2009-12-06T12:26:00\",\"2010-05-12T12:18:00\",\"2010-04-28T13:59:00\",\"2010-03-09T09:49:00\",\"2010-06-03T14:02:00\",\"2010-06-11T10:05:00\",\"2010-08-22T16:05:00\",\"2010-05-17T15:48:00\",\"2010-10-18T09:13:00\",\"2010-09-15T11:56:00\",\"2010-06-25T15:18:00\",\"2010-11-11T18:24:00\",\"2010-11-17T15:31:00\",\"2009-12-02T13:26:00\",\"2010-03-24T17:43:00\",\"2010-01-13T17:08:00\",\"2010-09-26T13:53:00\",\"2010-02-16T14:32:00\",\"2010-08-11T16:14:00\",\"2010-11-18T14:17:00\",\"2010-10-13T15:07:00\",\"2010-12-05T15:12:00\",\"2010-11-10T16:06:00\",\"2010-01-18T13:24:00\",\"2010-10-19T09:07:00\",\"2010-04-19T12:45:00\",\"2010-06-30T11:57:00\",\"2010-08-16T16:54:00\",\"2010-09-09T19:23:00\",\"2010-04-25T12:36:00\",\"2010-08-17T10:12:00\",\"2009-12-21T14:33:00\",\"2010-03-01T09:58:00\",\"2010-10-25T14:01:00\",\"2010-03-26T13:13:00\",\"2010-03-19T14:02:00\",\"2010-10-17T11:58:00\",\"2010-11-12T15:21:00\",\"2010-07-28T14:02:00\",\"2010-03-21T15:17:00\",\"2010-09-08T14:57:00\",\"2010-11-28T13:43:00\",\"2010-02-04T12:08:00\",\"2010-11-25T15:19:00\",\"2010-02-03T15:53:00\",\"2010-11-29T16:45:00\",\"2009-12-02T10:15:00\",\"2010-04-27T11:15:00\",\"2010-02-19T09:37:00\",\"2010-06-09T13:56:00\",\"2010-04-30T14:09:00\",\"2010-01-10T10:26:00\",\"2009-12-10T15:52:00\",\"2009-12-01T13:41:00\",\"2010-05-24T16:08:00\",\"2010-02-28T14:03:00\",\"2010-08-19T14:13:00\",\"2010-05-11T13:29:00\",\"2010-08-09T08:41:00\",\"2010-11-03T13:18:00\",\"2010-01-25T09:54:00\",\"2010-11-17T09:23:00\",\"2010-03-25T14:22:00\",\"2010-03-05T16:02:00\",\"2010-06-22T14:45:00\",\"2010-01-08T10:30:00\",\"2010-02-21T15:48:00\",\"2010-09-07T10:17:00\",\"2010-10-05T11:24:00\",\"2010-11-19T13:06:00\",\"2009-12-06T12:42:00\",\"2010-06-09T13:56:00\",\"2010-10-19T10:20:00\",\"2010-07-16T09:34:00\",\"2010-11-07T14:51:00\",\"2010-10-22T17:07:00\",\"2009-12-16T17:58:00\",\"2010-02-15T08:41:00\",\"2010-11-01T16:45:00\",\"2010-06-28T15:37:00\",\"2010-08-18T11:34:00\",\"2010-01-11T09:37:00\",\"2010-08-06T14:15:00\",\"2010-12-09T14:09:00\",\"2010-10-15T12:45:00\",\"2010-04-21T13:20:00\",\"2010-08-24T14:47:00\",\"2010-02-23T13:22:00\",\"2010-09-16T11:32:00\",\"2010-06-10T13:17:00\",\"2009-12-23T15:30:00\",\"2010-09-24T11:34:00\",\"2010-04-25T12:15:00\",\"2010-03-25T17:18:00\",\"2010-01-11T09:31:00\",\"2010-06-06T11:11:00\",\"2010-01-18T13:24:00\",\"2010-07-11T13:34:00\",\"2010-09-21T15:51:00\",\"2010-06-09T13:24:00\",\"2010-06-29T14:11:00\",\"2010-02-02T10:47:00\",\"2010-01-26T12:10:00\",\"2010-09-15T11:22:00\",\"2010-10-01T15:28:00\",\"2010-08-31T15:03:00\",\"2010-01-12T11:45:00\",\"2010-12-07T15:28:00\",\"2010-01-20T11:49:00\",\"2010-10-03T14:23:00\",\"2010-06-23T11:34:00\",\"2010-03-21T14:16:00\",\"2010-09-22T14:07:00\",\"2010-09-02T16:14:00\",\"2010-11-22T15:01:00\",\"2010-02-24T10:42:00\",\"2010-04-29T16:45:00\",\"2010-05-18T16:09:00\",\"2010-08-10T12:40:00\",\"2010-03-17T12:14:00\",\"2010-05-17T09:03:00\",\"2010-09-09T17:46:00\",\"2010-11-04T12:18:00\",\"2010-11-10T09:34:00\",\"2009-12-16T09:41:00\",\"2010-02-28T13:33:00\",\"2010-03-22T16:16:00\",\"2010-11-01T13:41:00\",\"2010-08-10T12:37:00\",\"2010-03-22T10:08:00\",\"2010-08-27T10:40:00\",\"2010-10-22T14:04:00\",\"2010-01-31T15:45:00\",\"2010-11-14T13:11:00\",\"2010-03-15T16:13:00\",\"2010-05-02T15:10:00\",\"2010-01-19T09:05:00\",\"2010-04-27T12:12:00\",\"2010-01-31T13:30:00\",\"2010-12-09T14:09:00\",\"2010-11-29T16:45:00\",\"2010-11-14T15:19:00\",\"2010-10-08T10:59:00\",\"2010-04-12T12:50:00\",\"2010-01-07T13:56:00\",\"2010-11-23T11:00:00\",\"2010-01-18T16:47:00\",\"2010-11-30T17:43:00\",\"2009-12-01T14:45:00\",\"2010-08-02T13:50:00\",\"2010-12-08T12:46:00\",\"2010-11-25T13:42:00\",\"2010-07-13T13:29:00\",\"2010-11-12T17:00:00\",\"2009-12-06T11:57:00\",\"2009-12-14T16:36:00\",\"2010-07-01T09:36:00\",\"2010-06-29T14:49:00\",\"2010-10-25T16:57:00\",\"2010-05-19T15:10:00\",\"2010-01-24T12:15:00\",\"2010-09-24T12:24:00\",\"2010-11-19T15:50:00\",\"2010-11-01T08:57:00\",\"2009-12-17T13:17:00\",\"2010-10-07T12:30:00\",\"2010-11-24T09:55:00\",\"2010-11-19T14:29:00\",\"2010-06-17T15:08:00\",\"2010-05-09T12:30:00\",\"2010-02-10T11:14:00\",\"2010-09-26T12:58:00\",\"2010-07-22T11:53:00\",\"2010-08-26T20:07:00\",\"2010-11-23T11:52:00\",\"2010-03-30T10:55:00\",\"2010-11-14T16:32:00\",\"2010-03-12T11:19:00\",\"2010-11-09T12:39:00\",\"2010-02-25T13:19:00\",\"2010-11-21T14:13:00\",\"2010-09-26T16:06:00\",\"2010-10-20T10:09:00\",\"2010-09-14T16:25:00\",\"2009-12-06T12:52:00\",\"2010-06-28T11:11:00\",\"2010-04-27T14:04:00\",\"2010-07-06T10:41:00\",\"2010-03-05T11:56:00\",\"2010-01-05T09:16:00\",\"2010-12-06T12:44:00\",\"2010-11-28T11:45:00\",\"2010-11-03T14:52:00\",\"2010-11-16T17:17:00\",\"2010-10-26T11:23:00\",\"2010-03-12T11:48:00\",\"2010-06-24T15:03:00\",\"2010-01-06T09:45:00\",\"2010-07-28T12:58:00\",\"2010-11-25T14:56:00\",\"2009-12-17T16:18:00\",\"2010-10-29T14:12:00\",\"2010-11-26T11:20:00\",\"2010-07-22T17:21:00\",\"2010-07-06T09:51:00\",\"2010-11-08T13:05:00\",\"2010-04-06T16:24:00\",\"2009-12-02T09:57:00\",\"2010-02-03T15:52:00\",\"2010-02-03T12:46:00\",\"2010-11-17T10:34:00\",\"2010-09-16T20:04:00\",\"2010-10-10T13:38:00\",\"2010-05-02T12:12:00\",\"2010-11-18T13:55:00\",\"2010-01-26T12:22:00\",\"2010-11-07T13:45:00\",\"2010-09-06T13:26:00\",\"2009-12-14T17:57:00\",\"2010-10-13T15:17:00\",\"2010-06-08T15:25:00\",\"2010-11-21T15:58:00\",\"2010-10-05T18:51:00\",\"2009-12-16T12:17:00\",\"2010-10-24T13:28:00\",\"2010-10-19T15:36:00\",\"2010-01-28T12:59:00\",\"2010-04-28T15:00:00\",\"2010-10-27T14:10:00\",\"2010-11-04T11:48:00\",\"2010-05-13T16:49:00\",\"2010-03-29T12:19:00\",\"2010-07-22T14:20:00\",\"2010-02-26T10:11:00\",\"2010-01-21T14:30:00\",\"2009-12-02T12:26:00\",\"2010-04-08T14:28:00\",\"2010-04-11T15:38:00\",\"2010-06-04T13:47:00\",\"2010-04-30T10:44:00\",\"2009-12-15T14:30:00\",\"2010-05-07T14:56:00\",\"2010-11-12T09:39:00\",\"2010-06-03T14:02:00\",\"2010-07-14T12:07:00\",\"2009-12-04T16:52:00\",\"2010-02-08T17:12:00\",\"2010-03-11T10:30:00\",\"2010-12-06T16:57:00\",\"2010-04-27T16:45:00\",\"2010-07-25T11:31:00\",\"2010-03-17T13:03:00\",\"2009-12-01T13:29:00\",\"2010-01-25T12:08:00\",\"2010-10-06T15:33:00\",\"2010-10-07T10:19:00\",\"2010-01-12T13:22:00\",\"2010-10-03T11:35:00\",\"2010-09-13T14:56:00\",\"2010-12-06T17:26:00\",\"2010-11-05T09:35:00\",\"2010-01-26T10:32:00\",\"2010-11-11T12:40:00\",\"2010-05-04T14:37:00\",\"2010-09-15T13:21:00\",\"2010-08-16T12:36:00\",\"2009-12-08T17:44:00\",\"2010-02-18T18:29:00\",\"2010-09-17T14:50:00\",\"2010-12-08T14:25:00\",\"2010-02-16T13:32:00\",\"2009-12-11T11:26:00\",\"2010-11-26T12:13:00\",\"2010-04-25T12:34:00\",\"2010-04-16T11:51:00\",\"2010-06-10T13:17:00\",\"2010-11-02T14:02:00\",\"2010-07-12T13:00:00\",\"2010-09-19T14:51:00\",\"2010-12-09T14:09:00\",\"2010-09-23T14:08:00\",\"2010-08-10T12:08:00\",\"2010-02-09T12:05:00\",\"2010-11-23T13:36:00\",\"2009-12-16T17:01:00\",\"2010-03-11T10:30:00\",\"2010-08-31T15:36:00\",\"2010-01-13T17:08:00\",\"2010-10-08T12:44:00\",\"2010-07-25T15:40:00\",\"2010-02-07T14:07:00\",\"2010-12-02T14:47:00\",\"2010-10-05T16:59:00\",\"2010-04-22T11:21:00\",\"2010-10-18T11:16:00\",\"2010-10-29T14:12:00\",\"2010-07-08T16:56:00\",\"2010-08-13T18:07:00\",\"2010-10-18T10:42:00\",\"2010-06-14T14:27:00\",\"2010-10-11T14:45:00\",\"2010-09-22T11:40:00\",\"2010-11-29T12:00:00\",\"2010-03-10T14:49:00\",\"2009-12-11T15:37:00\",\"2010-11-08T15:34:00\",\"2009-12-16T17:58:00\",\"2010-10-11T16:24:00\",\"2010-07-13T15:44:00\",\"2010-06-25T14:23:00\",\"2010-09-21T12:36:00\",\"2010-07-29T17:30:00\",\"2010-06-06T11:20:00\",\"2010-11-07T15:30:00\",\"2010-05-26T11:46:00\",\"2010-03-30T12:35:00\",\"2010-11-29T12:26:00\",\"2010-04-01T15:04:00\",\"2010-02-18T13:34:00\",\"2010-11-14T15:22:00\",\"2010-04-15T14:10:00\",\"2010-08-20T12:45:00\",\"2010-05-20T11:55:00\",\"2010-07-11T11:02:00\",\"2010-04-27T13:48:00\",\"2010-04-15T14:26:00\",\"2010-10-20T13:25:00\",\"2010-12-01T14:32:00\",\"2010-09-24T10:29:00\",\"2010-05-05T15:43:00\",\"2010-10-29T10:10:00\",\"2010-11-19T16:41:00\",\"2010-10-17T13:10:00\",\"2010-06-06T13:42:00\",\"2010-11-01T16:24:00\",\"2010-11-21T12:21:00\",\"2010-01-27T13:29:00\",\"2010-01-11T09:37:00\",\"2009-12-02T13:06:00\",\"2010-11-23T15:55:00\",\"2010-03-31T17:31:00\",\"2010-05-17T14:36:00\",\"2010-12-03T14:27:00\",\"2010-09-27T11:38:00\",\"2010-02-16T13:49:00\",\"2009-12-01T12:14:00\",\"2010-04-08T11:59:00\",\"2010-12-05T12:00:00\",\"2010-03-08T12:40:00\",\"2010-10-04T12:19:00\",\"2010-06-11T08:25:00\",\"2010-06-17T14:53:00\",\"2009-12-15T09:34:00\",\"2010-05-11T11:29:00\",\"2010-10-06T08:17:00\",\"2010-09-10T11:09:00\",\"2010-03-04T12:13:00\",\"2010-07-14T12:46:00\",\"2010-04-15T19:22:00\",\"2010-04-07T14:59:00\",\"2010-07-07T14:32:00\",\"2010-10-24T12:24:00\",\"2010-11-15T16:22:00\",\"2010-03-03T12:34:00\",\"2010-09-02T15:51:00\",\"2010-09-17T12:25:00\",\"2010-09-15T14:51:00\",\"2010-11-10T13:17:00\",\"2010-02-16T13:49:00\",\"2010-11-22T15:01:00\",\"2010-10-04T14:30:00\",\"2010-11-18T11:09:00\",\"2010-06-06T12:52:00\",\"2010-02-16T10:55:00\",\"2010-09-10T15:57:00\",\"2010-07-23T12:32:00\",\"2010-06-17T18:22:00\",\"2010-11-01T16:01:00\",\"2010-06-03T15:50:00\",\"2010-10-21T13:57:00\",\"2010-06-03T14:02:00\",\"2010-02-07T15:07:00\",\"2010-05-09T11:29:00\",\"2010-01-28T19:41:00\",\"2010-11-17T10:34:00\",\"2009-12-14T15:06:00\",\"2010-01-14T16:33:00\",\"2010-12-02T14:06:00\",\"2010-10-12T08:08:00\",\"2010-10-19T11:24:00\",\"2010-09-23T19:48:00\",\"2010-01-27T11:55:00\",\"2010-08-25T12:55:00\",\"2010-01-28T12:06:00\",\"2010-01-15T16:58:00\",\"2010-09-13T15:12:00\",\"2010-11-02T09:30:00\",\"2010-01-31T15:45:00\",\"2010-01-22T14:17:00\",\"2010-10-20T14:58:00\",\"2010-11-23T13:36:00\",\"2010-10-22T15:57:00\",\"2010-10-25T10:40:00\",\"2010-05-18T15:13:00\",\"2010-11-22T11:37:00\",\"2010-11-29T11:51:00\",\"2010-04-26T16:36:00\",\"2010-07-12T11:59:00\",\"2010-11-09T14:45:00\",\"2010-11-18T11:02:00\",\"2010-10-20T13:05:00\",\"2010-08-26T12:10:00\",\"2010-02-17T11:44:00\",\"2010-06-30T10:20:00\",\"2010-02-04T12:08:00\",\"2010-10-19T11:10:00\",\"2010-03-15T17:14:00\",\"2009-12-23T13:41:00\",\"2010-09-26T14:15:00\",\"2009-12-10T14:44:00\",\"2010-10-08T14:40:00\",\"2010-02-21T15:47:00\",\"2010-12-07T15:28:00\",\"2010-10-29T11:42:00\",\"2010-11-23T11:12:00\",\"2010-02-26T14:23:00\",\"2009-12-22T09:45:00\",\"2010-10-29T15:00:00\",\"2010-07-18T11:36:00\",\"2010-06-22T16:21:00\",\"2010-01-26T17:51:00\",\"2010-01-12T15:48:00\",\"2010-08-19T19:39:00\",\"2010-05-04T13:31:00\",\"2010-10-05T17:55:00\",\"2010-02-18T09:00:00\",\"2010-12-01T12:49:00\",\"2010-02-28T13:25:00\",\"2010-09-07T13:20:00\",\"2010-12-09T17:27:00\",\"2010-02-09T11:37:00\",\"2010-11-24T10:21:00\",\"2009-12-16T17:01:00\",\"2010-05-10T14:47:00\",\"2010-02-18T17:12:00\",\"2010-10-17T10:57:00\",\"2010-06-24T11:28:00\",\"2009-12-02T14:43:00\",\"2010-03-04T13:39:00\",\"2010-08-06T09:28:00\",\"2010-03-23T14:06:00\",\"2010-12-03T11:36:00\",\"2010-03-30T12:27:00\",\"2010-06-07T10:24:00\",\"2010-11-17T14:25:00\",\"2010-08-25T14:34:00\",\"2010-11-26T15:37:00\",\"2010-06-24T09:58:00\",\"2010-03-02T13:25:00\",\"2010-11-29T15:53:00\",\"2010-05-18T16:09:00\",\"2010-03-10T12:13:00\",\"2010-04-29T11:18:00\",\"2010-11-19T11:32:00\",\"2010-11-01T13:33:00\",\"2010-11-14T13:42:00\",\"2010-03-08T12:08:00\",\"2009-12-04T12:54:00\",\"2010-11-10T13:47:00\",\"2010-05-24T10:58:00\",\"2010-10-21T14:47:00\",\"2010-04-11T15:54:00\",\"2010-06-03T19:05:00\",\"2010-06-23T11:39:00\",\"2010-11-26T14:41:00\",\"2010-06-03T14:02:00\",\"2010-07-14T12:05:00\",\"2010-03-29T12:32:00\",\"2010-03-25T16:29:00\",\"2009-12-16T17:01:00\",\"2009-12-16T13:40:00\",\"2010-05-17T13:51:00\",\"2010-11-04T16:03:00\",\"2010-10-28T10:00:00\",\"2010-10-31T16:21:00\",\"2010-11-26T14:41:00\",\"2010-02-11T13:07:00\",\"2009-12-10T12:10:00\",\"2010-11-07T17:40:00\",\"2010-08-19T13:06:00\",\"2010-12-02T10:17:00\",\"2010-11-26T13:50:00\",\"2010-09-13T13:29:00\",\"2010-09-12T14:02:00\",\"2010-01-14T14:48:00\",\"2010-10-25T11:33:00\",\"2010-01-22T14:17:00\",\"2010-04-28T11:54:00\",\"2010-06-21T14:49:00\",\"2010-12-06T10:08:00\",\"2009-12-04T12:36:00\",\"2010-07-12T14:52:00\",\"2010-11-08T09:56:00\",\"2010-06-03T11:35:00\",\"2010-08-31T17:31:00\",\"2010-08-02T09:38:00\",\"2010-01-05T13:23:00\",\"2010-06-28T12:38:00\",\"2010-02-21T16:02:00\",\"2010-11-14T15:05:00\",\"2010-11-28T13:21:00\",\"2010-06-22T14:21:00\",\"2010-06-28T10:19:00\",\"2010-09-07T14:54:00\",\"2010-11-04T12:27:00\",\"2010-10-07T10:19:00\",\"2009-12-11T16:11:00\",\"2010-10-11T15:09:00\",\"2010-01-11T11:30:00\",\"2010-11-04T09:06:00\",\"2010-10-18T12:07:00\",\"2010-09-08T13:52:00\",\"2010-05-27T14:28:00\",\"2010-10-15T14:10:00\",\"2010-12-06T14:05:00\",\"2010-07-25T11:31:00\",\"2010-03-28T16:04:00\",\"2010-06-28T08:24:00\",\"2010-11-01T16:45:00\",\"2010-02-24T14:24:00\",\"2010-01-14T17:43:00\",\"2010-10-20T13:09:00\",\"2010-06-25T15:13:00\",\"2010-12-09T14:09:00\",\"2010-02-04T14:19:00\",\"2010-11-10T12:09:00\",\"2010-10-11T12:33:00\",\"2010-02-25T09:33:00\",\"2009-12-14T18:03:00\",\"2010-05-18T16:09:00\",\"2010-09-06T11:32:00\",\"2010-05-25T12:03:00\",\"2010-11-24T11:13:00\",\"2010-12-01T14:32:00\",\"2010-07-07T16:29:00\",\"2010-11-04T12:39:00\",\"2010-02-25T13:23:00\",\"2010-02-01T17:18:00\",\"2010-01-05T15:29:00\",\"2009-12-14T13:10:00\",\"2010-09-29T13:14:00\",\"2010-05-11T14:40:00\",\"2009-12-05T15:18:00\",\"2010-08-13T14:46:00\",\"2010-05-13T13:31:00\",\"2010-10-04T16:44:00\",\"2010-10-12T10:44:00\",\"2010-03-10T12:50:00\",\"2009-12-03T14:39:00\",\"2010-10-08T10:00:00\",\"2010-02-18T15:13:00\",\"2009-12-22T14:31:00\",\"2010-11-30T11:51:00\",\"2010-06-14T11:24:00\",\"2010-07-05T09:59:00\",\"2010-03-15T17:32:00\",\"2010-07-11T13:34:00\",\"2010-06-20T13:43:00\",\"2010-09-23T10:44:00\",\"2010-09-30T19:57:00\",\"2010-11-18T13:27:00\",\"2010-06-17T18:17:00\",\"2010-03-04T11:11:00\",\"2009-12-14T17:34:00\",\"2010-01-11T08:49:00\",\"2010-06-08T12:44:00\",\"2010-03-23T09:57:00\",\"2010-01-14T09:33:00\",\"2010-09-08T13:46:00\",\"2010-10-10T10:22:00\",\"2010-11-21T11:06:00\",\"2010-12-08T10:36:00\",\"2010-10-08T12:08:00\",\"2010-04-06T15:09:00\",\"2010-09-29T14:36:00\",\"2009-12-03T09:44:00\",\"2010-06-14T14:03:00\",\"2010-03-22T13:11:00\",\"2010-01-11T09:31:00\",\"2010-07-22T16:01:00\",\"2010-10-27T13:29:00\",\"2010-03-04T14:36:00\",\"2010-11-09T10:13:00\",\"2010-09-19T13:45:00\",\"2010-08-20T16:21:00\",\"2010-11-16T13:43:00\",\"2010-10-06T12:42:00\",\"2010-09-01T09:25:00\",\"2010-11-21T10:49:00\",\"2010-01-31T15:45:00\",\"2010-07-29T19:56:00\",\"2010-06-15T14:03:00\",\"2010-06-10T10:23:00\",\"2010-10-13T16:20:00\",\"2010-01-26T08:44:00\",\"2010-05-10T10:11:00\",\"2010-08-12T10:35:00\",\"2010-06-08T17:48:00\",\"2010-11-07T14:51:00\",\"2010-11-26T14:22:00\",\"2010-10-01T15:10:00\",\"2010-11-16T13:57:00\",\"2010-07-25T12:53:00\",\"2010-08-06T13:38:00\",\"2010-07-05T12:34:00\",\"2010-11-24T14:29:00\",\"2010-08-13T14:40:00\",\"2010-09-17T13:38:00\",\"2010-07-22T15:06:00\",\"2009-12-10T15:33:00\",\"2010-07-06T08:46:00\",\"2010-08-05T15:46:00\",\"2010-04-28T13:59:00\",\"2009-12-16T17:58:00\",\"2009-12-02T16:02:00\",\"2010-12-03T13:59:00\",\"2010-09-20T14:49:00\",\"2010-05-20T13:06:00\",\"2010-03-09T15:22:00\",\"2010-10-18T15:24:00\",\"2010-04-09T16:05:00\",\"2010-07-25T11:37:00\",\"2010-03-17T15:37:00\",\"2010-07-08T10:26:00\",\"2010-12-07T15:34:00\",\"2010-09-28T15:23:00\",\"2009-12-03T14:39:00\",\"2010-01-14T09:41:00\",\"2010-09-23T11:46:00\",\"2010-11-28T13:21:00\"],\"xaxis\":\"x\",\"yaxis\":\"y\",\"type\":\"histogram\"},{\"alignmentgroup\":\"True\",\"hovertemplate\":\"variable=InvoiceDate<br>value=%{x}<extra></extra>\",\"legendgroup\":\"InvoiceDate\",\"marker\":{\"color\":\"#636efa\"},\"name\":\"InvoiceDate\",\"notched\":true,\"offsetgroup\":\"InvoiceDate\",\"showlegend\":false,\"x\":[\"2009-12-14T18:37:00\",\"2010-02-19T18:04:00\",\"2010-11-22T15:01:00\",\"2010-09-13T10:40:00\",\"2010-04-29T11:18:00\",\"2010-05-09T16:10:00\",\"2010-06-02T11:54:00\",\"2010-10-27T16:04:00\",\"2010-06-23T08:14:00\",\"2010-11-18T14:07:00\",\"2010-12-06T15:25:00\",\"2010-12-07T15:54:00\",\"2010-07-13T15:44:00\",\"2010-11-30T13:26:00\",\"2010-09-02T17:52:00\",\"2010-07-06T09:51:00\",\"2010-11-15T09:32:00\",\"2010-05-16T12:44:00\",\"2010-09-30T14:46:00\",\"2010-09-13T12:29:00\",\"2010-11-07T16:29:00\",\"2010-10-01T12:00:00\",\"2010-06-06T15:49:00\",\"2010-07-13T11:57:00\",\"2009-12-17T10:27:00\",\"2009-12-21T17:14:00\",\"2010-08-19T13:06:00\",\"2010-03-04T15:44:00\",\"2010-04-28T15:00:00\",\"2010-11-01T11:35:00\",\"2010-08-22T15:39:00\",\"2010-01-18T13:20:00\",\"2010-12-02T14:09:00\",\"2010-08-12T14:39:00\",\"2010-01-31T10:10:00\",\"2009-12-01T12:20:00\",\"2010-08-19T13:04:00\",\"2010-03-26T17:24:00\",\"2010-11-02T13:57:00\",\"2010-03-24T12:23:00\",\"2010-10-10T15:27:00\",\"2010-08-23T14:38:00\",\"2010-07-07T12:43:00\",\"2010-05-26T15:06:00\",\"2010-11-12T10:11:00\",\"2010-06-14T14:06:00\",\"2010-06-01T13:49:00\",\"2010-03-15T16:05:00\",\"2010-04-29T13:29:00\",\"2010-11-15T13:27:00\",\"2010-10-06T13:25:00\",\"2010-10-31T15:18:00\",\"2010-10-31T15:39:00\",\"2010-08-12T16:27:00\",\"2010-11-25T13:29:00\",\"2010-09-14T15:30:00\",\"2010-11-30T10:43:00\",\"2010-06-30T11:57:00\",\"2010-10-01T12:07:00\",\"2010-07-21T12:11:00\",\"2010-09-14T14:35:00\",\"2010-02-01T17:18:00\",\"2010-04-09T14:38:00\",\"2010-03-18T14:14:00\",\"2010-05-18T11:33:00\",\"2010-11-24T09:54:00\",\"2010-05-20T09:55:00\",\"2010-11-07T12:51:00\",\"2010-06-29T14:11:00\",\"2010-11-02T17:24:00\",\"2010-11-17T14:05:00\",\"2010-09-17T13:30:00\",\"2010-03-19T16:43:00\",\"2010-02-28T12:29:00\",\"2010-04-01T18:48:00\",\"2010-05-24T15:57:00\",\"2010-10-17T14:30:00\",\"2010-01-27T17:44:00\",\"2010-09-29T10:22:00\",\"2010-04-30T15:57:00\",\"2010-05-26T09:00:00\",\"2010-11-05T16:42:00\",\"2010-05-16T12:56:00\",\"2010-06-10T12:21:00\",\"2010-01-27T10:56:00\",\"2009-12-07T18:02:00\",\"2010-06-27T13:00:00\",\"2010-03-07T10:49:00\",\"2010-06-03T11:12:00\",\"2010-10-24T11:47:00\",\"2010-11-08T12:28:00\",\"2010-03-26T13:44:00\",\"2010-09-10T17:19:00\",\"2010-04-26T12:51:00\",\"2010-11-29T09:46:00\",\"2010-09-12T11:38:00\",\"2010-07-05T12:50:00\",\"2010-09-10T15:57:00\",\"2010-11-28T11:37:00\",\"2010-03-10T14:50:00\",\"2010-11-04T14:39:00\",\"2010-07-06T11:29:00\",\"2009-12-14T18:03:00\",\"2010-07-01T09:56:00\",\"2010-03-11T10:52:00\",\"2010-11-17T11:40:00\",\"2010-10-11T09:42:00\",\"2010-10-17T13:06:00\",\"2010-09-27T10:09:00\",\"2010-04-21T12:06:00\",\"2010-11-12T12:32:00\",\"2010-07-20T17:20:00\",\"2010-12-05T12:42:00\",\"2010-10-27T12:55:00\",\"2010-07-07T11:57:00\",\"2009-12-02T14:43:00\",\"2010-11-21T11:47:00\",\"2010-03-26T12:53:00\",\"2010-11-16T16:01:00\",\"2010-04-08T14:28:00\",\"2010-11-24T14:21:00\",\"2010-04-16T11:54:00\",\"2009-12-20T11:50:00\",\"2010-10-17T11:20:00\",\"2010-08-25T14:38:00\",\"2010-11-24T14:49:00\",\"2010-03-01T14:48:00\",\"2010-01-14T14:48:00\",\"2010-11-19T11:37:00\",\"2010-03-28T12:55:00\",\"2010-03-08T12:35:00\",\"2010-10-19T13:20:00\",\"2010-05-14T10:47:00\",\"2010-09-13T13:42:00\",\"2010-01-15T16:52:00\",\"2010-11-14T15:27:00\",\"2010-11-30T13:07:00\",\"2010-08-31T15:28:00\",\"2010-10-31T14:59:00\",\"2010-10-13T13:41:00\",\"2010-05-09T12:06:00\",\"2010-02-16T15:25:00\",\"2010-11-25T19:32:00\",\"2010-11-03T11:34:00\",\"2010-12-05T12:35:00\",\"2010-01-17T14:07:00\",\"2010-10-29T12:06:00\",\"2010-06-01T15:05:00\",\"2010-11-23T13:36:00\",\"2010-06-14T11:24:00\",\"2010-02-24T11:51:00\",\"2010-01-15T11:30:00\",\"2010-05-27T09:49:00\",\"2010-11-11T14:36:00\",\"2010-09-24T16:06:00\",\"2010-03-25T14:56:00\",\"2010-07-11T10:28:00\",\"2010-09-15T15:14:00\",\"2010-09-16T20:04:00\",\"2010-09-08T11:56:00\",\"2010-06-03T14:02:00\",\"2010-08-27T12:18:00\",\"2010-09-28T17:18:00\",\"2010-07-23T10:50:00\",\"2010-11-18T14:17:00\",\"2010-01-18T10:23:00\",\"2010-04-23T12:14:00\",\"2010-11-22T13:15:00\",\"2010-04-08T11:36:00\",\"2010-04-28T16:49:00\",\"2010-09-02T17:52:00\",\"2010-10-11T15:59:00\",\"2010-01-24T12:12:00\",\"2010-05-25T17:22:00\",\"2010-01-22T14:17:00\",\"2010-08-23T09:23:00\",\"2010-01-14T17:43:00\",\"2009-12-03T15:49:00\",\"2009-12-22T14:31:00\",\"2010-01-07T12:37:00\",\"2009-12-03T11:46:00\",\"2010-09-15T13:21:00\",\"2010-05-07T14:02:00\",\"2010-06-06T12:13:00\",\"2010-09-29T14:36:00\",\"2010-05-24T11:00:00\",\"2010-10-26T16:47:00\",\"2010-01-11T09:37:00\",\"2010-12-09T14:09:00\",\"2010-01-31T15:45:00\",\"2010-04-11T15:54:00\",\"2010-05-30T11:02:00\",\"2010-06-13T14:53:00\",\"2010-03-30T12:36:00\",\"2010-10-31T12:56:00\",\"2010-10-07T17:26:00\",\"2010-02-22T11:13:00\",\"2010-04-19T10:59:00\",\"2010-05-11T10:45:00\",\"2010-04-08T17:00:00\",\"2010-09-09T13:51:00\",\"2010-11-16T12:28:00\",\"2010-09-21T12:22:00\",\"2010-01-14T14:18:00\",\"2010-04-16T15:12:00\",\"2010-11-08T16:07:00\",\"2010-07-25T16:06:00\",\"2010-03-08T12:40:00\",\"2010-02-16T10:41:00\",\"2010-03-30T10:49:00\",\"2010-01-28T15:43:00\",\"2010-01-19T13:33:00\",\"2010-06-15T12:22:00\",\"2010-08-31T16:21:00\",\"2010-11-11T15:25:00\",\"2010-10-31T14:14:00\",\"2010-10-17T14:44:00\",\"2010-09-12T11:47:00\",\"2010-05-27T13:10:00\",\"2010-11-14T16:16:00\",\"2009-12-02T11:55:00\",\"2010-06-29T13:13:00\",\"2010-01-25T09:08:00\",\"2010-10-26T11:32:00\",\"2010-02-21T12:25:00\",\"2010-09-05T10:44:00\",\"2010-09-28T12:58:00\",\"2010-10-27T15:40:00\",\"2010-04-27T10:50:00\",\"2010-06-02T14:24:00\",\"2009-12-01T11:45:00\",\"2010-03-31T14:31:00\",\"2010-10-05T08:45:00\",\"2010-11-01T14:45:00\",\"2010-02-14T15:38:00\",\"2010-09-15T13:35:00\",\"2010-12-07T13:20:00\",\"2010-11-25T12:18:00\",\"2010-08-31T15:28:00\",\"2010-10-03T11:35:00\",\"2010-11-18T18:23:00\",\"2010-05-26T11:27:00\",\"2010-01-27T17:44:00\",\"2010-05-04T15:48:00\",\"2010-08-02T12:37:00\",\"2010-10-31T14:11:00\",\"2010-02-24T12:51:00\",\"2009-12-04T12:33:00\",\"2010-09-23T12:18:00\",\"2010-07-16T10:22:00\",\"2010-04-12T14:48:00\",\"2010-06-03T14:02:00\",\"2010-03-21T15:23:00\",\"2010-11-07T16:29:00\",\"2010-07-27T15:32:00\",\"2010-11-23T09:12:00\",\"2010-03-07T15:34:00\",\"2010-02-19T09:49:00\",\"2009-12-16T11:57:00\",\"2009-12-13T15:17:00\",\"2010-06-07T12:43:00\",\"2009-12-03T14:39:00\",\"2010-05-12T12:17:00\",\"2010-03-08T16:53:00\",\"2010-07-12T15:00:00\",\"2010-05-28T12:37:00\",\"2010-04-06T15:37:00\",\"2009-12-06T15:41:00\",\"2010-10-17T10:46:00\",\"2010-03-21T14:55:00\",\"2010-12-02T12:50:00\",\"2010-01-29T09:21:00\",\"2010-03-07T15:25:00\",\"2010-07-07T11:31:00\",\"2010-11-28T13:21:00\",\"2009-12-04T12:59:00\",\"2010-11-23T13:59:00\",\"2010-04-07T14:12:00\",\"2010-09-05T10:54:00\",\"2010-03-19T14:02:00\",\"2010-11-02T13:57:00\",\"2010-04-19T11:19:00\",\"2010-08-25T09:44:00\",\"2010-10-19T10:41:00\",\"2010-02-11T15:02:00\",\"2010-12-06T11:26:00\",\"2010-11-05T11:58:00\",\"2010-08-13T18:25:00\",\"2010-08-01T13:48:00\",\"2010-05-19T17:49:00\",\"2010-04-15T10:49:00\",\"2010-02-22T13:31:00\",\"2010-07-05T11:54:00\",\"2010-06-06T10:30:00\",\"2010-11-10T12:09:00\",\"2009-12-06T12:07:00\",\"2010-06-25T11:49:00\",\"2010-04-09T14:55:00\",\"2010-11-01T11:35:00\",\"2009-12-14T18:37:00\",\"2010-11-19T13:21:00\",\"2010-02-10T10:36:00\",\"2010-01-20T11:49:00\",\"2010-10-25T10:00:00\",\"2010-06-30T12:35:00\",\"2010-03-31T17:28:00\",\"2010-10-08T12:35:00\",\"2010-10-19T11:22:00\",\"2010-11-05T15:07:00\",\"2010-07-02T11:44:00\",\"2009-12-02T13:00:00\",\"2010-08-10T12:08:00\",\"2010-03-22T16:16:00\",\"2010-11-12T09:18:00\",\"2010-08-24T11:41:00\",\"2010-08-29T12:07:00\",\"2010-06-02T15:40:00\",\"2010-11-05T11:42:00\",\"2010-11-15T14:26:00\",\"2010-02-19T10:41:00\",\"2010-11-11T19:14:00\",\"2010-10-20T14:42:00\",\"2010-01-11T09:35:00\",\"2010-07-11T14:06:00\",\"2010-06-11T13:55:00\",\"2010-04-13T14:27:00\",\"2010-11-05T11:58:00\",\"2010-02-10T17:59:00\",\"2009-12-09T16:50:00\",\"2010-01-29T17:55:00\",\"2010-11-24T12:06:00\",\"2010-01-28T17:13:00\",\"2009-12-02T14:43:00\",\"2010-03-31T15:42:00\",\"2010-09-27T11:41:00\",\"2010-07-30T12:30:00\",\"2010-07-25T11:24:00\",\"2009-12-02T11:18:00\",\"2010-07-19T10:31:00\",\"2010-10-26T14:47:00\",\"2010-04-09T17:13:00\",\"2010-09-02T18:13:00\",\"2010-11-23T12:54:00\",\"2010-06-22T14:21:00\",\"2010-03-07T16:12:00\",\"2009-12-15T13:50:00\",\"2010-08-12T11:47:00\",\"2010-07-04T13:33:00\",\"2010-11-08T15:12:00\",\"2010-12-02T13:49:00\",\"2009-12-09T15:03:00\",\"2010-06-18T14:57:00\",\"2010-11-05T14:21:00\",\"2010-09-03T12:33:00\",\"2010-06-27T13:16:00\",\"2010-02-28T14:24:00\",\"2010-10-31T14:42:00\",\"2010-10-26T14:37:00\",\"2009-12-04T08:46:00\",\"2010-12-06T12:41:00\",\"2009-12-06T12:26:00\",\"2010-05-12T12:18:00\",\"2010-04-28T13:59:00\",\"2010-03-09T09:49:00\",\"2010-06-03T14:02:00\",\"2010-06-11T10:05:00\",\"2010-08-22T16:05:00\",\"2010-05-17T15:48:00\",\"2010-10-18T09:13:00\",\"2010-09-15T11:56:00\",\"2010-06-25T15:18:00\",\"2010-11-11T18:24:00\",\"2010-11-17T15:31:00\",\"2009-12-02T13:26:00\",\"2010-03-24T17:43:00\",\"2010-01-13T17:08:00\",\"2010-09-26T13:53:00\",\"2010-02-16T14:32:00\",\"2010-08-11T16:14:00\",\"2010-11-18T14:17:00\",\"2010-10-13T15:07:00\",\"2010-12-05T15:12:00\",\"2010-11-10T16:06:00\",\"2010-01-18T13:24:00\",\"2010-10-19T09:07:00\",\"2010-04-19T12:45:00\",\"2010-06-30T11:57:00\",\"2010-08-16T16:54:00\",\"2010-09-09T19:23:00\",\"2010-04-25T12:36:00\",\"2010-08-17T10:12:00\",\"2009-12-21T14:33:00\",\"2010-03-01T09:58:00\",\"2010-10-25T14:01:00\",\"2010-03-26T13:13:00\",\"2010-03-19T14:02:00\",\"2010-10-17T11:58:00\",\"2010-11-12T15:21:00\",\"2010-07-28T14:02:00\",\"2010-03-21T15:17:00\",\"2010-09-08T14:57:00\",\"2010-11-28T13:43:00\",\"2010-02-04T12:08:00\",\"2010-11-25T15:19:00\",\"2010-02-03T15:53:00\",\"2010-11-29T16:45:00\",\"2009-12-02T10:15:00\",\"2010-04-27T11:15:00\",\"2010-02-19T09:37:00\",\"2010-06-09T13:56:00\",\"2010-04-30T14:09:00\",\"2010-01-10T10:26:00\",\"2009-12-10T15:52:00\",\"2009-12-01T13:41:00\",\"2010-05-24T16:08:00\",\"2010-02-28T14:03:00\",\"2010-08-19T14:13:00\",\"2010-05-11T13:29:00\",\"2010-08-09T08:41:00\",\"2010-11-03T13:18:00\",\"2010-01-25T09:54:00\",\"2010-11-17T09:23:00\",\"2010-03-25T14:22:00\",\"2010-03-05T16:02:00\",\"2010-06-22T14:45:00\",\"2010-01-08T10:30:00\",\"2010-02-21T15:48:00\",\"2010-09-07T10:17:00\",\"2010-10-05T11:24:00\",\"2010-11-19T13:06:00\",\"2009-12-06T12:42:00\",\"2010-06-09T13:56:00\",\"2010-10-19T10:20:00\",\"2010-07-16T09:34:00\",\"2010-11-07T14:51:00\",\"2010-10-22T17:07:00\",\"2009-12-16T17:58:00\",\"2010-02-15T08:41:00\",\"2010-11-01T16:45:00\",\"2010-06-28T15:37:00\",\"2010-08-18T11:34:00\",\"2010-01-11T09:37:00\",\"2010-08-06T14:15:00\",\"2010-12-09T14:09:00\",\"2010-10-15T12:45:00\",\"2010-04-21T13:20:00\",\"2010-08-24T14:47:00\",\"2010-02-23T13:22:00\",\"2010-09-16T11:32:00\",\"2010-06-10T13:17:00\",\"2009-12-23T15:30:00\",\"2010-09-24T11:34:00\",\"2010-04-25T12:15:00\",\"2010-03-25T17:18:00\",\"2010-01-11T09:31:00\",\"2010-06-06T11:11:00\",\"2010-01-18T13:24:00\",\"2010-07-11T13:34:00\",\"2010-09-21T15:51:00\",\"2010-06-09T13:24:00\",\"2010-06-29T14:11:00\",\"2010-02-02T10:47:00\",\"2010-01-26T12:10:00\",\"2010-09-15T11:22:00\",\"2010-10-01T15:28:00\",\"2010-08-31T15:03:00\",\"2010-01-12T11:45:00\",\"2010-12-07T15:28:00\",\"2010-01-20T11:49:00\",\"2010-10-03T14:23:00\",\"2010-06-23T11:34:00\",\"2010-03-21T14:16:00\",\"2010-09-22T14:07:00\",\"2010-09-02T16:14:00\",\"2010-11-22T15:01:00\",\"2010-02-24T10:42:00\",\"2010-04-29T16:45:00\",\"2010-05-18T16:09:00\",\"2010-08-10T12:40:00\",\"2010-03-17T12:14:00\",\"2010-05-17T09:03:00\",\"2010-09-09T17:46:00\",\"2010-11-04T12:18:00\",\"2010-11-10T09:34:00\",\"2009-12-16T09:41:00\",\"2010-02-28T13:33:00\",\"2010-03-22T16:16:00\",\"2010-11-01T13:41:00\",\"2010-08-10T12:37:00\",\"2010-03-22T10:08:00\",\"2010-08-27T10:40:00\",\"2010-10-22T14:04:00\",\"2010-01-31T15:45:00\",\"2010-11-14T13:11:00\",\"2010-03-15T16:13:00\",\"2010-05-02T15:10:00\",\"2010-01-19T09:05:00\",\"2010-04-27T12:12:00\",\"2010-01-31T13:30:00\",\"2010-12-09T14:09:00\",\"2010-11-29T16:45:00\",\"2010-11-14T15:19:00\",\"2010-10-08T10:59:00\",\"2010-04-12T12:50:00\",\"2010-01-07T13:56:00\",\"2010-11-23T11:00:00\",\"2010-01-18T16:47:00\",\"2010-11-30T17:43:00\",\"2009-12-01T14:45:00\",\"2010-08-02T13:50:00\",\"2010-12-08T12:46:00\",\"2010-11-25T13:42:00\",\"2010-07-13T13:29:00\",\"2010-11-12T17:00:00\",\"2009-12-06T11:57:00\",\"2009-12-14T16:36:00\",\"2010-07-01T09:36:00\",\"2010-06-29T14:49:00\",\"2010-10-25T16:57:00\",\"2010-05-19T15:10:00\",\"2010-01-24T12:15:00\",\"2010-09-24T12:24:00\",\"2010-11-19T15:50:00\",\"2010-11-01T08:57:00\",\"2009-12-17T13:17:00\",\"2010-10-07T12:30:00\",\"2010-11-24T09:55:00\",\"2010-11-19T14:29:00\",\"2010-06-17T15:08:00\",\"2010-05-09T12:30:00\",\"2010-02-10T11:14:00\",\"2010-09-26T12:58:00\",\"2010-07-22T11:53:00\",\"2010-08-26T20:07:00\",\"2010-11-23T11:52:00\",\"2010-03-30T10:55:00\",\"2010-11-14T16:32:00\",\"2010-03-12T11:19:00\",\"2010-11-09T12:39:00\",\"2010-02-25T13:19:00\",\"2010-11-21T14:13:00\",\"2010-09-26T16:06:00\",\"2010-10-20T10:09:00\",\"2010-09-14T16:25:00\",\"2009-12-06T12:52:00\",\"2010-06-28T11:11:00\",\"2010-04-27T14:04:00\",\"2010-07-06T10:41:00\",\"2010-03-05T11:56:00\",\"2010-01-05T09:16:00\",\"2010-12-06T12:44:00\",\"2010-11-28T11:45:00\",\"2010-11-03T14:52:00\",\"2010-11-16T17:17:00\",\"2010-10-26T11:23:00\",\"2010-03-12T11:48:00\",\"2010-06-24T15:03:00\",\"2010-01-06T09:45:00\",\"2010-07-28T12:58:00\",\"2010-11-25T14:56:00\",\"2009-12-17T16:18:00\",\"2010-10-29T14:12:00\",\"2010-11-26T11:20:00\",\"2010-07-22T17:21:00\",\"2010-07-06T09:51:00\",\"2010-11-08T13:05:00\",\"2010-04-06T16:24:00\",\"2009-12-02T09:57:00\",\"2010-02-03T15:52:00\",\"2010-02-03T12:46:00\",\"2010-11-17T10:34:00\",\"2010-09-16T20:04:00\",\"2010-10-10T13:38:00\",\"2010-05-02T12:12:00\",\"2010-11-18T13:55:00\",\"2010-01-26T12:22:00\",\"2010-11-07T13:45:00\",\"2010-09-06T13:26:00\",\"2009-12-14T17:57:00\",\"2010-10-13T15:17:00\",\"2010-06-08T15:25:00\",\"2010-11-21T15:58:00\",\"2010-10-05T18:51:00\",\"2009-12-16T12:17:00\",\"2010-10-24T13:28:00\",\"2010-10-19T15:36:00\",\"2010-01-28T12:59:00\",\"2010-04-28T15:00:00\",\"2010-10-27T14:10:00\",\"2010-11-04T11:48:00\",\"2010-05-13T16:49:00\",\"2010-03-29T12:19:00\",\"2010-07-22T14:20:00\",\"2010-02-26T10:11:00\",\"2010-01-21T14:30:00\",\"2009-12-02T12:26:00\",\"2010-04-08T14:28:00\",\"2010-04-11T15:38:00\",\"2010-06-04T13:47:00\",\"2010-04-30T10:44:00\",\"2009-12-15T14:30:00\",\"2010-05-07T14:56:00\",\"2010-11-12T09:39:00\",\"2010-06-03T14:02:00\",\"2010-07-14T12:07:00\",\"2009-12-04T16:52:00\",\"2010-02-08T17:12:00\",\"2010-03-11T10:30:00\",\"2010-12-06T16:57:00\",\"2010-04-27T16:45:00\",\"2010-07-25T11:31:00\",\"2010-03-17T13:03:00\",\"2009-12-01T13:29:00\",\"2010-01-25T12:08:00\",\"2010-10-06T15:33:00\",\"2010-10-07T10:19:00\",\"2010-01-12T13:22:00\",\"2010-10-03T11:35:00\",\"2010-09-13T14:56:00\",\"2010-12-06T17:26:00\",\"2010-11-05T09:35:00\",\"2010-01-26T10:32:00\",\"2010-11-11T12:40:00\",\"2010-05-04T14:37:00\",\"2010-09-15T13:21:00\",\"2010-08-16T12:36:00\",\"2009-12-08T17:44:00\",\"2010-02-18T18:29:00\",\"2010-09-17T14:50:00\",\"2010-12-08T14:25:00\",\"2010-02-16T13:32:00\",\"2009-12-11T11:26:00\",\"2010-11-26T12:13:00\",\"2010-04-25T12:34:00\",\"2010-04-16T11:51:00\",\"2010-06-10T13:17:00\",\"2010-11-02T14:02:00\",\"2010-07-12T13:00:00\",\"2010-09-19T14:51:00\",\"2010-12-09T14:09:00\",\"2010-09-23T14:08:00\",\"2010-08-10T12:08:00\",\"2010-02-09T12:05:00\",\"2010-11-23T13:36:00\",\"2009-12-16T17:01:00\",\"2010-03-11T10:30:00\",\"2010-08-31T15:36:00\",\"2010-01-13T17:08:00\",\"2010-10-08T12:44:00\",\"2010-07-25T15:40:00\",\"2010-02-07T14:07:00\",\"2010-12-02T14:47:00\",\"2010-10-05T16:59:00\",\"2010-04-22T11:21:00\",\"2010-10-18T11:16:00\",\"2010-10-29T14:12:00\",\"2010-07-08T16:56:00\",\"2010-08-13T18:07:00\",\"2010-10-18T10:42:00\",\"2010-06-14T14:27:00\",\"2010-10-11T14:45:00\",\"2010-09-22T11:40:00\",\"2010-11-29T12:00:00\",\"2010-03-10T14:49:00\",\"2009-12-11T15:37:00\",\"2010-11-08T15:34:00\",\"2009-12-16T17:58:00\",\"2010-10-11T16:24:00\",\"2010-07-13T15:44:00\",\"2010-06-25T14:23:00\",\"2010-09-21T12:36:00\",\"2010-07-29T17:30:00\",\"2010-06-06T11:20:00\",\"2010-11-07T15:30:00\",\"2010-05-26T11:46:00\",\"2010-03-30T12:35:00\",\"2010-11-29T12:26:00\",\"2010-04-01T15:04:00\",\"2010-02-18T13:34:00\",\"2010-11-14T15:22:00\",\"2010-04-15T14:10:00\",\"2010-08-20T12:45:00\",\"2010-05-20T11:55:00\",\"2010-07-11T11:02:00\",\"2010-04-27T13:48:00\",\"2010-04-15T14:26:00\",\"2010-10-20T13:25:00\",\"2010-12-01T14:32:00\",\"2010-09-24T10:29:00\",\"2010-05-05T15:43:00\",\"2010-10-29T10:10:00\",\"2010-11-19T16:41:00\",\"2010-10-17T13:10:00\",\"2010-06-06T13:42:00\",\"2010-11-01T16:24:00\",\"2010-11-21T12:21:00\",\"2010-01-27T13:29:00\",\"2010-01-11T09:37:00\",\"2009-12-02T13:06:00\",\"2010-11-23T15:55:00\",\"2010-03-31T17:31:00\",\"2010-05-17T14:36:00\",\"2010-12-03T14:27:00\",\"2010-09-27T11:38:00\",\"2010-02-16T13:49:00\",\"2009-12-01T12:14:00\",\"2010-04-08T11:59:00\",\"2010-12-05T12:00:00\",\"2010-03-08T12:40:00\",\"2010-10-04T12:19:00\",\"2010-06-11T08:25:00\",\"2010-06-17T14:53:00\",\"2009-12-15T09:34:00\",\"2010-05-11T11:29:00\",\"2010-10-06T08:17:00\",\"2010-09-10T11:09:00\",\"2010-03-04T12:13:00\",\"2010-07-14T12:46:00\",\"2010-04-15T19:22:00\",\"2010-04-07T14:59:00\",\"2010-07-07T14:32:00\",\"2010-10-24T12:24:00\",\"2010-11-15T16:22:00\",\"2010-03-03T12:34:00\",\"2010-09-02T15:51:00\",\"2010-09-17T12:25:00\",\"2010-09-15T14:51:00\",\"2010-11-10T13:17:00\",\"2010-02-16T13:49:00\",\"2010-11-22T15:01:00\",\"2010-10-04T14:30:00\",\"2010-11-18T11:09:00\",\"2010-06-06T12:52:00\",\"2010-02-16T10:55:00\",\"2010-09-10T15:57:00\",\"2010-07-23T12:32:00\",\"2010-06-17T18:22:00\",\"2010-11-01T16:01:00\",\"2010-06-03T15:50:00\",\"2010-10-21T13:57:00\",\"2010-06-03T14:02:00\",\"2010-02-07T15:07:00\",\"2010-05-09T11:29:00\",\"2010-01-28T19:41:00\",\"2010-11-17T10:34:00\",\"2009-12-14T15:06:00\",\"2010-01-14T16:33:00\",\"2010-12-02T14:06:00\",\"2010-10-12T08:08:00\",\"2010-10-19T11:24:00\",\"2010-09-23T19:48:00\",\"2010-01-27T11:55:00\",\"2010-08-25T12:55:00\",\"2010-01-28T12:06:00\",\"2010-01-15T16:58:00\",\"2010-09-13T15:12:00\",\"2010-11-02T09:30:00\",\"2010-01-31T15:45:00\",\"2010-01-22T14:17:00\",\"2010-10-20T14:58:00\",\"2010-11-23T13:36:00\",\"2010-10-22T15:57:00\",\"2010-10-25T10:40:00\",\"2010-05-18T15:13:00\",\"2010-11-22T11:37:00\",\"2010-11-29T11:51:00\",\"2010-04-26T16:36:00\",\"2010-07-12T11:59:00\",\"2010-11-09T14:45:00\",\"2010-11-18T11:02:00\",\"2010-10-20T13:05:00\",\"2010-08-26T12:10:00\",\"2010-02-17T11:44:00\",\"2010-06-30T10:20:00\",\"2010-02-04T12:08:00\",\"2010-10-19T11:10:00\",\"2010-03-15T17:14:00\",\"2009-12-23T13:41:00\",\"2010-09-26T14:15:00\",\"2009-12-10T14:44:00\",\"2010-10-08T14:40:00\",\"2010-02-21T15:47:00\",\"2010-12-07T15:28:00\",\"2010-10-29T11:42:00\",\"2010-11-23T11:12:00\",\"2010-02-26T14:23:00\",\"2009-12-22T09:45:00\",\"2010-10-29T15:00:00\",\"2010-07-18T11:36:00\",\"2010-06-22T16:21:00\",\"2010-01-26T17:51:00\",\"2010-01-12T15:48:00\",\"2010-08-19T19:39:00\",\"2010-05-04T13:31:00\",\"2010-10-05T17:55:00\",\"2010-02-18T09:00:00\",\"2010-12-01T12:49:00\",\"2010-02-28T13:25:00\",\"2010-09-07T13:20:00\",\"2010-12-09T17:27:00\",\"2010-02-09T11:37:00\",\"2010-11-24T10:21:00\",\"2009-12-16T17:01:00\",\"2010-05-10T14:47:00\",\"2010-02-18T17:12:00\",\"2010-10-17T10:57:00\",\"2010-06-24T11:28:00\",\"2009-12-02T14:43:00\",\"2010-03-04T13:39:00\",\"2010-08-06T09:28:00\",\"2010-03-23T14:06:00\",\"2010-12-03T11:36:00\",\"2010-03-30T12:27:00\",\"2010-06-07T10:24:00\",\"2010-11-17T14:25:00\",\"2010-08-25T14:34:00\",\"2010-11-26T15:37:00\",\"2010-06-24T09:58:00\",\"2010-03-02T13:25:00\",\"2010-11-29T15:53:00\",\"2010-05-18T16:09:00\",\"2010-03-10T12:13:00\",\"2010-04-29T11:18:00\",\"2010-11-19T11:32:00\",\"2010-11-01T13:33:00\",\"2010-11-14T13:42:00\",\"2010-03-08T12:08:00\",\"2009-12-04T12:54:00\",\"2010-11-10T13:47:00\",\"2010-05-24T10:58:00\",\"2010-10-21T14:47:00\",\"2010-04-11T15:54:00\",\"2010-06-03T19:05:00\",\"2010-06-23T11:39:00\",\"2010-11-26T14:41:00\",\"2010-06-03T14:02:00\",\"2010-07-14T12:05:00\",\"2010-03-29T12:32:00\",\"2010-03-25T16:29:00\",\"2009-12-16T17:01:00\",\"2009-12-16T13:40:00\",\"2010-05-17T13:51:00\",\"2010-11-04T16:03:00\",\"2010-10-28T10:00:00\",\"2010-10-31T16:21:00\",\"2010-11-26T14:41:00\",\"2010-02-11T13:07:00\",\"2009-12-10T12:10:00\",\"2010-11-07T17:40:00\",\"2010-08-19T13:06:00\",\"2010-12-02T10:17:00\",\"2010-11-26T13:50:00\",\"2010-09-13T13:29:00\",\"2010-09-12T14:02:00\",\"2010-01-14T14:48:00\",\"2010-10-25T11:33:00\",\"2010-01-22T14:17:00\",\"2010-04-28T11:54:00\",\"2010-06-21T14:49:00\",\"2010-12-06T10:08:00\",\"2009-12-04T12:36:00\",\"2010-07-12T14:52:00\",\"2010-11-08T09:56:00\",\"2010-06-03T11:35:00\",\"2010-08-31T17:31:00\",\"2010-08-02T09:38:00\",\"2010-01-05T13:23:00\",\"2010-06-28T12:38:00\",\"2010-02-21T16:02:00\",\"2010-11-14T15:05:00\",\"2010-11-28T13:21:00\",\"2010-06-22T14:21:00\",\"2010-06-28T10:19:00\",\"2010-09-07T14:54:00\",\"2010-11-04T12:27:00\",\"2010-10-07T10:19:00\",\"2009-12-11T16:11:00\",\"2010-10-11T15:09:00\",\"2010-01-11T11:30:00\",\"2010-11-04T09:06:00\",\"2010-10-18T12:07:00\",\"2010-09-08T13:52:00\",\"2010-05-27T14:28:00\",\"2010-10-15T14:10:00\",\"2010-12-06T14:05:00\",\"2010-07-25T11:31:00\",\"2010-03-28T16:04:00\",\"2010-06-28T08:24:00\",\"2010-11-01T16:45:00\",\"2010-02-24T14:24:00\",\"2010-01-14T17:43:00\",\"2010-10-20T13:09:00\",\"2010-06-25T15:13:00\",\"2010-12-09T14:09:00\",\"2010-02-04T14:19:00\",\"2010-11-10T12:09:00\",\"2010-10-11T12:33:00\",\"2010-02-25T09:33:00\",\"2009-12-14T18:03:00\",\"2010-05-18T16:09:00\",\"2010-09-06T11:32:00\",\"2010-05-25T12:03:00\",\"2010-11-24T11:13:00\",\"2010-12-01T14:32:00\",\"2010-07-07T16:29:00\",\"2010-11-04T12:39:00\",\"2010-02-25T13:23:00\",\"2010-02-01T17:18:00\",\"2010-01-05T15:29:00\",\"2009-12-14T13:10:00\",\"2010-09-29T13:14:00\",\"2010-05-11T14:40:00\",\"2009-12-05T15:18:00\",\"2010-08-13T14:46:00\",\"2010-05-13T13:31:00\",\"2010-10-04T16:44:00\",\"2010-10-12T10:44:00\",\"2010-03-10T12:50:00\",\"2009-12-03T14:39:00\",\"2010-10-08T10:00:00\",\"2010-02-18T15:13:00\",\"2009-12-22T14:31:00\",\"2010-11-30T11:51:00\",\"2010-06-14T11:24:00\",\"2010-07-05T09:59:00\",\"2010-03-15T17:32:00\",\"2010-07-11T13:34:00\",\"2010-06-20T13:43:00\",\"2010-09-23T10:44:00\",\"2010-09-30T19:57:00\",\"2010-11-18T13:27:00\",\"2010-06-17T18:17:00\",\"2010-03-04T11:11:00\",\"2009-12-14T17:34:00\",\"2010-01-11T08:49:00\",\"2010-06-08T12:44:00\",\"2010-03-23T09:57:00\",\"2010-01-14T09:33:00\",\"2010-09-08T13:46:00\",\"2010-10-10T10:22:00\",\"2010-11-21T11:06:00\",\"2010-12-08T10:36:00\",\"2010-10-08T12:08:00\",\"2010-04-06T15:09:00\",\"2010-09-29T14:36:00\",\"2009-12-03T09:44:00\",\"2010-06-14T14:03:00\",\"2010-03-22T13:11:00\",\"2010-01-11T09:31:00\",\"2010-07-22T16:01:00\",\"2010-10-27T13:29:00\",\"2010-03-04T14:36:00\",\"2010-11-09T10:13:00\",\"2010-09-19T13:45:00\",\"2010-08-20T16:21:00\",\"2010-11-16T13:43:00\",\"2010-10-06T12:42:00\",\"2010-09-01T09:25:00\",\"2010-11-21T10:49:00\",\"2010-01-31T15:45:00\",\"2010-07-29T19:56:00\",\"2010-06-15T14:03:00\",\"2010-06-10T10:23:00\",\"2010-10-13T16:20:00\",\"2010-01-26T08:44:00\",\"2010-05-10T10:11:00\",\"2010-08-12T10:35:00\",\"2010-06-08T17:48:00\",\"2010-11-07T14:51:00\",\"2010-11-26T14:22:00\",\"2010-10-01T15:10:00\",\"2010-11-16T13:57:00\",\"2010-07-25T12:53:00\",\"2010-08-06T13:38:00\",\"2010-07-05T12:34:00\",\"2010-11-24T14:29:00\",\"2010-08-13T14:40:00\",\"2010-09-17T13:38:00\",\"2010-07-22T15:06:00\",\"2009-12-10T15:33:00\",\"2010-07-06T08:46:00\",\"2010-08-05T15:46:00\",\"2010-04-28T13:59:00\",\"2009-12-16T17:58:00\",\"2009-12-02T16:02:00\",\"2010-12-03T13:59:00\",\"2010-09-20T14:49:00\",\"2010-05-20T13:06:00\",\"2010-03-09T15:22:00\",\"2010-10-18T15:24:00\",\"2010-04-09T16:05:00\",\"2010-07-25T11:37:00\",\"2010-03-17T15:37:00\",\"2010-07-08T10:26:00\",\"2010-12-07T15:34:00\",\"2010-09-28T15:23:00\",\"2009-12-03T14:39:00\",\"2010-01-14T09:41:00\",\"2010-09-23T11:46:00\",\"2010-11-28T13:21:00\"],\"xaxis\":\"x2\",\"yaxis\":\"y2\",\"type\":\"box\"}],                        {\"template\":{\"data\":{\"histogram2dcontour\":[{\"type\":\"histogram2dcontour\",\"colorbar\":{\"outlinewidth\":0,\"ticks\":\"\"},\"colorscale\":[[0.0,\"#0d0887\"],[0.1111111111111111,\"#46039f\"],[0.2222222222222222,\"#7201a8\"],[0.3333333333333333,\"#9c179e\"],[0.4444444444444444,\"#bd3786\"],[0.5555555555555556,\"#d8576b\"],[0.6666666666666666,\"#ed7953\"],[0.7777777777777778,\"#fb9f3a\"],[0.8888888888888888,\"#fdca26\"],[1.0,\"#f0f921\"]]}],\"choropleth\":[{\"type\":\"choropleth\",\"colorbar\":{\"outlinewidth\":0,\"ticks\":\"\"}}],\"histogram2d\":[{\"type\":\"histogram2d\",\"colorbar\":{\"outlinewidth\":0,\"ticks\":\"\"},\"colorscale\":[[0.0,\"#0d0887\"],[0.1111111111111111,\"#46039f\"],[0.2222222222222222,\"#7201a8\"],[0.3333333333333333,\"#9c179e\"],[0.4444444444444444,\"#bd3786\"],[0.5555555555555556,\"#d8576b\"],[0.6666666666666666,\"#ed7953\"],[0.7777777777777778,\"#fb9f3a\"],[0.8888888888888888,\"#fdca26\"],[1.0,\"#f0f921\"]]}],\"heatmap\":[{\"type\":\"heatmap\",\"colorbar\":{\"outlinewidth\":0,\"ticks\":\"\"},\"colorscale\":[[0.0,\"#0d0887\"],[0.1111111111111111,\"#46039f\"],[0.2222222222222222,\"#7201a8\"],[0.3333333333333333,\"#9c179e\"],[0.4444444444444444,\"#bd3786\"],[0.5555555555555556,\"#d8576b\"],[0.6666666666666666,\"#ed7953\"],[0.7777777777777778,\"#fb9f3a\"],[0.8888888888888888,\"#fdca26\"],[1.0,\"#f0f921\"]]}],\"heatmapgl\":[{\"type\":\"heatmapgl\",\"colorbar\":{\"outlinewidth\":0,\"ticks\":\"\"},\"colorscale\":[[0.0,\"#0d0887\"],[0.1111111111111111,\"#46039f\"],[0.2222222222222222,\"#7201a8\"],[0.3333333333333333,\"#9c179e\"],[0.4444444444444444,\"#bd3786\"],[0.5555555555555556,\"#d8576b\"],[0.6666666666666666,\"#ed7953\"],[0.7777777777777778,\"#fb9f3a\"],[0.8888888888888888,\"#fdca26\"],[1.0,\"#f0f921\"]]}],\"contourcarpet\":[{\"type\":\"contourcarpet\",\"colorbar\":{\"outlinewidth\":0,\"ticks\":\"\"}}],\"contour\":[{\"type\":\"contour\",\"colorbar\":{\"outlinewidth\":0,\"ticks\":\"\"},\"colorscale\":[[0.0,\"#0d0887\"],[0.1111111111111111,\"#46039f\"],[0.2222222222222222,\"#7201a8\"],[0.3333333333333333,\"#9c179e\"],[0.4444444444444444,\"#bd3786\"],[0.5555555555555556,\"#d8576b\"],[0.6666666666666666,\"#ed7953\"],[0.7777777777777778,\"#fb9f3a\"],[0.8888888888888888,\"#fdca26\"],[1.0,\"#f0f921\"]]}],\"surface\":[{\"type\":\"surface\",\"colorbar\":{\"outlinewidth\":0,\"ticks\":\"\"},\"colorscale\":[[0.0,\"#0d0887\"],[0.1111111111111111,\"#46039f\"],[0.2222222222222222,\"#7201a8\"],[0.3333333333333333,\"#9c179e\"],[0.4444444444444444,\"#bd3786\"],[0.5555555555555556,\"#d8576b\"],[0.6666666666666666,\"#ed7953\"],[0.7777777777777778,\"#fb9f3a\"],[0.8888888888888888,\"#fdca26\"],[1.0,\"#f0f921\"]]}],\"mesh3d\":[{\"type\":\"mesh3d\",\"colorbar\":{\"outlinewidth\":0,\"ticks\":\"\"}}],\"scatter\":[{\"fillpattern\":{\"fillmode\":\"overlay\",\"size\":10,\"solidity\":0.2},\"type\":\"scatter\"}],\"parcoords\":[{\"type\":\"parcoords\",\"line\":{\"colorbar\":{\"outlinewidth\":0,\"ticks\":\"\"}}}],\"scatterpolargl\":[{\"type\":\"scatterpolargl\",\"marker\":{\"colorbar\":{\"outlinewidth\":0,\"ticks\":\"\"}}}],\"bar\":[{\"error_x\":{\"color\":\"#2a3f5f\"},\"error_y\":{\"color\":\"#2a3f5f\"},\"marker\":{\"line\":{\"color\":\"#E5ECF6\",\"width\":0.5},\"pattern\":{\"fillmode\":\"overlay\",\"size\":10,\"solidity\":0.2}},\"type\":\"bar\"}],\"scattergeo\":[{\"type\":\"scattergeo\",\"marker\":{\"colorbar\":{\"outlinewidth\":0,\"ticks\":\"\"}}}],\"scatterpolar\":[{\"type\":\"scatterpolar\",\"marker\":{\"colorbar\":{\"outlinewidth\":0,\"ticks\":\"\"}}}],\"histogram\":[{\"marker\":{\"pattern\":{\"fillmode\":\"overlay\",\"size\":10,\"solidity\":0.2}},\"type\":\"histogram\"}],\"scattergl\":[{\"type\":\"scattergl\",\"marker\":{\"colorbar\":{\"outlinewidth\":0,\"ticks\":\"\"}}}],\"scatter3d\":[{\"type\":\"scatter3d\",\"line\":{\"colorbar\":{\"outlinewidth\":0,\"ticks\":\"\"}},\"marker\":{\"colorbar\":{\"outlinewidth\":0,\"ticks\":\"\"}}}],\"scattermapbox\":[{\"type\":\"scattermapbox\",\"marker\":{\"colorbar\":{\"outlinewidth\":0,\"ticks\":\"\"}}}],\"scatterternary\":[{\"type\":\"scatterternary\",\"marker\":{\"colorbar\":{\"outlinewidth\":0,\"ticks\":\"\"}}}],\"scattercarpet\":[{\"type\":\"scattercarpet\",\"marker\":{\"colorbar\":{\"outlinewidth\":0,\"ticks\":\"\"}}}],\"carpet\":[{\"aaxis\":{\"endlinecolor\":\"#2a3f5f\",\"gridcolor\":\"white\",\"linecolor\":\"white\",\"minorgridcolor\":\"white\",\"startlinecolor\":\"#2a3f5f\"},\"baxis\":{\"endlinecolor\":\"#2a3f5f\",\"gridcolor\":\"white\",\"linecolor\":\"white\",\"minorgridcolor\":\"white\",\"startlinecolor\":\"#2a3f5f\"},\"type\":\"carpet\"}],\"table\":[{\"cells\":{\"fill\":{\"color\":\"#EBF0F8\"},\"line\":{\"color\":\"white\"}},\"header\":{\"fill\":{\"color\":\"#C8D4E3\"},\"line\":{\"color\":\"white\"}},\"type\":\"table\"}],\"barpolar\":[{\"marker\":{\"line\":{\"color\":\"#E5ECF6\",\"width\":0.5},\"pattern\":{\"fillmode\":\"overlay\",\"size\":10,\"solidity\":0.2}},\"type\":\"barpolar\"}],\"pie\":[{\"automargin\":true,\"type\":\"pie\"}]},\"layout\":{\"autotypenumbers\":\"strict\",\"colorway\":[\"#636efa\",\"#EF553B\",\"#00cc96\",\"#ab63fa\",\"#FFA15A\",\"#19d3f3\",\"#FF6692\",\"#B6E880\",\"#FF97FF\",\"#FECB52\"],\"font\":{\"color\":\"#2a3f5f\"},\"hovermode\":\"closest\",\"hoverlabel\":{\"align\":\"left\"},\"paper_bgcolor\":\"white\",\"plot_bgcolor\":\"#E5ECF6\",\"polar\":{\"bgcolor\":\"#E5ECF6\",\"angularaxis\":{\"gridcolor\":\"white\",\"linecolor\":\"white\",\"ticks\":\"\"},\"radialaxis\":{\"gridcolor\":\"white\",\"linecolor\":\"white\",\"ticks\":\"\"}},\"ternary\":{\"bgcolor\":\"#E5ECF6\",\"aaxis\":{\"gridcolor\":\"white\",\"linecolor\":\"white\",\"ticks\":\"\"},\"baxis\":{\"gridcolor\":\"white\",\"linecolor\":\"white\",\"ticks\":\"\"},\"caxis\":{\"gridcolor\":\"white\",\"linecolor\":\"white\",\"ticks\":\"\"}},\"coloraxis\":{\"colorbar\":{\"outlinewidth\":0,\"ticks\":\"\"}},\"colorscale\":{\"sequential\":[[0.0,\"#0d0887\"],[0.1111111111111111,\"#46039f\"],[0.2222222222222222,\"#7201a8\"],[0.3333333333333333,\"#9c179e\"],[0.4444444444444444,\"#bd3786\"],[0.5555555555555556,\"#d8576b\"],[0.6666666666666666,\"#ed7953\"],[0.7777777777777778,\"#fb9f3a\"],[0.8888888888888888,\"#fdca26\"],[1.0,\"#f0f921\"]],\"sequentialminus\":[[0.0,\"#0d0887\"],[0.1111111111111111,\"#46039f\"],[0.2222222222222222,\"#7201a8\"],[0.3333333333333333,\"#9c179e\"],[0.4444444444444444,\"#bd3786\"],[0.5555555555555556,\"#d8576b\"],[0.6666666666666666,\"#ed7953\"],[0.7777777777777778,\"#fb9f3a\"],[0.8888888888888888,\"#fdca26\"],[1.0,\"#f0f921\"]],\"diverging\":[[0,\"#8e0152\"],[0.1,\"#c51b7d\"],[0.2,\"#de77ae\"],[0.3,\"#f1b6da\"],[0.4,\"#fde0ef\"],[0.5,\"#f7f7f7\"],[0.6,\"#e6f5d0\"],[0.7,\"#b8e186\"],[0.8,\"#7fbc41\"],[0.9,\"#4d9221\"],[1,\"#276419\"]]},\"xaxis\":{\"gridcolor\":\"white\",\"linecolor\":\"white\",\"ticks\":\"\",\"title\":{\"standoff\":15},\"zerolinecolor\":\"white\",\"automargin\":true,\"zerolinewidth\":2},\"yaxis\":{\"gridcolor\":\"white\",\"linecolor\":\"white\",\"ticks\":\"\",\"title\":{\"standoff\":15},\"zerolinecolor\":\"white\",\"automargin\":true,\"zerolinewidth\":2},\"scene\":{\"xaxis\":{\"backgroundcolor\":\"#E5ECF6\",\"gridcolor\":\"white\",\"linecolor\":\"white\",\"showbackground\":true,\"ticks\":\"\",\"zerolinecolor\":\"white\",\"gridwidth\":2},\"yaxis\":{\"backgroundcolor\":\"#E5ECF6\",\"gridcolor\":\"white\",\"linecolor\":\"white\",\"showbackground\":true,\"ticks\":\"\",\"zerolinecolor\":\"white\",\"gridwidth\":2},\"zaxis\":{\"backgroundcolor\":\"#E5ECF6\",\"gridcolor\":\"white\",\"linecolor\":\"white\",\"showbackground\":true,\"ticks\":\"\",\"zerolinecolor\":\"white\",\"gridwidth\":2}},\"shapedefaults\":{\"line\":{\"color\":\"#2a3f5f\"}},\"annotationdefaults\":{\"arrowcolor\":\"#2a3f5f\",\"arrowhead\":0,\"arrowwidth\":1},\"geo\":{\"bgcolor\":\"white\",\"landcolor\":\"#E5ECF6\",\"subunitcolor\":\"white\",\"showland\":true,\"showlakes\":true,\"lakecolor\":\"white\"},\"title\":{\"x\":0.05},\"mapbox\":{\"style\":\"light\"}}},\"xaxis\":{\"anchor\":\"y\",\"domain\":[0.0,1.0],\"title\":{\"text\":\"value\"}},\"yaxis\":{\"anchor\":\"x\",\"domain\":[0.0,0.7326],\"title\":{\"text\":\"count\"}},\"xaxis2\":{\"anchor\":\"y2\",\"domain\":[0.0,1.0],\"matches\":\"x\",\"showticklabels\":false,\"showgrid\":true},\"yaxis2\":{\"anchor\":\"x2\",\"domain\":[0.7426,1.0],\"matches\":\"y2\",\"showticklabels\":false,\"showline\":false,\"ticks\":\"\",\"showgrid\":false},\"legend\":{\"title\":{\"text\":\"variable\"},\"tracegroupgap\":0},\"title\":{\"text\":\"InvoiceDate\"},\"barmode\":\"relative\"},                        {\"responsive\": true}                    ).then(function(){\n",
              "                            \n",
              "var gd = document.getElementById('176441f1-2603-4bfa-ab53-c1043760cae0');\n",
              "var x = new MutationObserver(function (mutations, observer) {{\n",
              "        var display = window.getComputedStyle(gd).display;\n",
              "        if (!display || display === 'none') {{\n",
              "            console.log([gd, 'removed!']);\n",
              "            Plotly.purge(gd);\n",
              "            observer.disconnect();\n",
              "        }}\n",
              "}});\n",
              "\n",
              "// Listen for the removal of the full notebook cells\n",
              "var notebookContainer = gd.closest('#notebook-container');\n",
              "if (notebookContainer) {{\n",
              "    x.observe(notebookContainer, {childList: true});\n",
              "}}\n",
              "\n",
              "// Listen for the clearing of the current output cell\n",
              "var outputEl = gd.closest('.output');\n",
              "if (outputEl) {{\n",
              "    x.observe(outputEl, {childList: true});\n",
              "}}\n",
              "\n",
              "                        })                };                            </script>        </div>\n",
              "</body>\n",
              "</html>"
            ]
          },
          "metadata": {}
        },
        {
          "output_type": "display_data",
          "data": {
            "text/plain": [
              "<IPython.core.display.Markdown object>"
            ],
            "text/markdown": "## Price Profile"
          },
          "metadata": {}
        },
        {
          "output_type": "display_data",
          "data": {
            "text/plain": [
              "Type                            float64\n",
              "Number of observations         494870.0\n",
              "Mean                           3.129088\n",
              "Std                            2.768948\n",
              "Min                                 0.0\n",
              "25%                                1.25\n",
              "50%                                 2.1\n",
              "75%                                4.21\n",
              "Max                               14.95\n",
              "Negative                              0\n",
              "Negative (%)                      0.0 %\n",
              "Zeros                              1331\n",
              "Zeros (%)                        0.27 %\n",
              "Kurt                           2.958312\n",
              "Skew                            1.72624\n",
              "                                       \n",
              "Missing cells                         0\n",
              "Missing cells (%)                 0.0 %\n",
              "Duplicate rows                   494792\n",
              "Duplicate rows (%)              99.98 %\n",
              "Total size in memory      7917920 bytes\n",
              "dtype: object"
            ]
          },
          "metadata": {}
        },
        {
          "output_type": "display_data",
          "data": {
            "text/html": [
              "<html>\n",
              "<head><meta charset=\"utf-8\" /></head>\n",
              "<body>\n",
              "    <div>            <script src=\"https://cdnjs.cloudflare.com/ajax/libs/mathjax/2.7.5/MathJax.js?config=TeX-AMS-MML_SVG\"></script><script type=\"text/javascript\">if (window.MathJax && window.MathJax.Hub && window.MathJax.Hub.Config) {window.MathJax.Hub.Config({SVG: {font: \"STIX-Web\"}});}</script>                <script type=\"text/javascript\">window.PlotlyConfig = {MathJaxConfig: 'local'};</script>\n",
              "        <script src=\"https://cdn.plot.ly/plotly-2.14.0.min.js\"></script>                <div id=\"d7a4647d-73eb-4609-ad51-bc9d2e510a78\" class=\"plotly-graph-div\" style=\"height:525px; width:100%;\"></div>            <script type=\"text/javascript\">                                    window.PLOTLYENV=window.PLOTLYENV || {};                                    if (document.getElementById(\"d7a4647d-73eb-4609-ad51-bc9d2e510a78\")) {                    Plotly.newPlot(                        \"d7a4647d-73eb-4609-ad51-bc9d2e510a78\",                        [{\"alignmentgroup\":\"True\",\"bingroup\":\"x\",\"hovertemplate\":\"variable=Price<br>value=%{x}<br>count=%{y}<extra></extra>\",\"legendgroup\":\"Price\",\"marker\":{\"color\":\"#636efa\",\"pattern\":{\"shape\":\"\"}},\"name\":\"Price\",\"offsetgroup\":\"Price\",\"orientation\":\"v\",\"showlegend\":true,\"x\":[5.17,4.21,1.25,0.85,2.51,2.1,3.36,0.55,7.49,5.06,0.85,6.75,1.28,7.95,5.91,3.36,1.66,1.25,1.25,0.85,0.85,0.0,2.95,0.42,0.85,4.25,1.25,0.75,12.75,2.51,4.95,1.66,1.65,0.0,5.95,0.19,1.95,2.95,4.21,4.25,2.55,2.55,1.25,1.45,4.25,4.95,11.87,2.95,5.95,0.85,1.69,2.55,0.42,0.85,2.95,1.25,5.95,2.95,3.75,3.36,9.95,1.28,0.55,2.95,7.65,3.36,7.95,0.55,0.85,0.85,1.65,7.95,7.62,1.25,4.95,9.95,0.85,14.43,2.95,1.25,9.95,1.25,2.55,12.75,9.95,2.57,4.95,1.95,2.55,8.5,3.75,3.75,2.1,1.65,0.85,1.65,3.75,1.95,1.45,2.55,2.95,2.55,1.7,0.85,1.25,1.65,0.42,1.25,1.45,1.95,1.25,2.55,3.75,2.95,6.77,6.04,0.85,2.51,0.29,3.75,9.95,12.75,6.75,8.5,1.65,1.65,1.25,3.75,3.75,1.65,4.21,0.42,2.95,3.75,2.95,3.75,0.95,0.85,0.42,1.65,1.25,5.45,0.55,1.65,2.95,4.65,0.85,1.65,0.85,4.21,0.85,1.25,0.65,1.45,3.36,3.36,1.25,13.57,4.65,3.75,1.66,1.25,2.51,1.25,1.25,1.65,7.49,3.35,2.51,2.1,7.62,1.25,0.42,8.5,0.85,4.95,11.02,0.42,2.57,2.95,1.95,2.12,4.95,3.75,2.51,9.95,1.65,2.57,7.62,1.25,3.45,2.55,1.25,0.42,0.85,0.85,8.5,4.21,12.75,6.35,6.75,0.85,1.25,1.95,0.42,5.95,5.95,8.47,2.95,1.65,6.75,5.95,3.75,2.95,0.65,7.95,3.75,1.25,0.65,1.25,1.45,7.49,5.95,4.95,2.95,8.5,4.95,1.95,12.75,1.65,3.75,2.55,6.35,2.95,1.69,1.69,1.65,0.65,3.75,0.85,4.95,2.95,2.51,0.81,1.95,0.29,6.35,3.75,2.1,1.69,1.65,1.66,1.25,2.1,1.25,1.66,1.25,1.66,3.43,1.95,9.95,2.57,0.85,5.91,1.25,3.75,4.21,2.95,1.25,0.85,1.25,5.95,3.75,4.95,2.95,5.45,2.95,6.35,1.45,0.85,1.66,1.66,0.42,12.75,3.95,1.95,9.32,5.06,2.95,5.95,0.85,2.95,0.36,2.95,1.95,8.5,3.75,0.85,3.36,6.04,2.95,7.49,1.45,2.95,1.65,2.51,3.75,0.42,0.12,1.65,2.1,3.36,5.91,3.36,0.42,0.29,1.95,6.75,4.25,2.95,2.1,0.95,6.04,7.95,0.65,1.25,6.77,7.62,9.45,1.66,2.1,7.95,3.46,1.25,0.85,2.25,3.75,1.65,0.85,2.51,0.38,1.25,3.75,4.65,2.95,2.95,1.65,4.95,3.75,2.1,1.65,9.95,5.95,1.65,1.25,1.65,4.25,2.1,2.95,1.25,1.25,3.75,0.85,1.25,6.77,8.47,0.29,2.55,6.75,0.42,1.25,0.65,7.95,1.25,2.51,1.66,2.55,1.65,2.95,0.85,0.42,6.35,6.75,5.06,3.75,12.75,2.95,2.95,1.65,2.55,3.75,3.49,1.25,2.95,0.85,1.65,3.75,14.43,3.25,2.95,7.95,3.75,0.21,3.36,5.95,4.95,9.95,1.45,2.51,2.55,0.0,3.75,4.65,2.1,3.95,0.42,1.25,0.42,0.42,1.65,11.87,8.47,3.75,1.25,3.75,2.55,1.65,10.95,0.42,0.81,3.45,2.95,8.5,8.5,2.95,1.25,5.17,2.1,1.28,0.85,1.66,0.65,7.49,1.66,8.5,0.36,5.91,3.95,1.25,0.21,3.04,0.65,2.1,0.29,0.65,3.75,13.57,1.65,1.65,0.65,1.25,1.95,1.25,0.85,1.25,5.95,2.55,4.21,5.95,1.69,0.85,12.75,5.95,0.19,2.1,8.47,2.55,0.29,0.85,2.55,0.85,2.95,4.95,4.21,3.75,4.25,1.66,0.85,6.45,0.85,1.95,10.17,0.85,3.25,3.75,1.65,10.17,14.95,0.42,11.02,3.36,8.95,2.55,4.95,0.85,0.85,1.25,4.25,8.65,8.47,1.65,2.1,4.95,3.36,3.75,1.95,2.55,1.25,0.43,1.25,1.25,1.65,0.85,0.42,0.85,2.1,2.51,4.21,0.42,1.95,1.95,7.25,3.75,1.65,5.95,3.95,1.95,1.28,4.95,1.25,1.25,1.65,2.95,0.42,2.95,3.25,8.95,9.95,0.85,2.95,2.55,1.25,0.85,4.95,2.95,7.5,0.0,1.25,0.42,5.95,3.75,3.36,3.36,7.95,1.28,1.65,1.25,5.95,6.75,1.49,1.65,1.95,0.85,2.55,1.66,3.75,1.65,0.42,3.43,2.1,7.62,4.95,0.85,4.25,2.95,1.28,1.25,2.1,8.47,1.65,0.85,3.39,2.95,1.65,1.69,0.21,1.65,1.45,1.25,0.85,3.95,1.25,2.1,4.21,10.95,1.95,0.85,3.36,11.02,12.72,1.65,1.06,3.75,1.25,1.69,4.21,4.95,0.42,0.55,2.1,0.85,1.45,0.85,1.95,1.95,4.21,1.65,3.75,1.25,0.85,7.49,1.65,0.42,3.95,1.25,9.95,1.95,0.85,2.95,4.21,1.25,14.43,0.85,4.95,7.78,2.51,2.51,8.47,1.65,1.25,2.95,0.85,1.95,7.65,2.1,4.21,0.55,2.51,2.65,0.65,0.85,2.1,1.66,0.85,0.85,1.25,1.7,1.95,0.43,1.95,4.95,0.55,2.55,2.1,3.75,0.42,4.25,5.91,1.25,2.1,2.1,4.25,0.85,2.95,1.69,0.85,3.95,11.87,2.55,1.65,1.69,2.95,1.95,2.95,3.75,2.1,2.1,11.26,1.25,2.55,0.81,8.5,7.62,1.45,0.65,2.95,2.95,2.55,0.43,2.1,0.42,1.65,6.35,4.65,12.75,2.1,1.45,2.95,4.25,11.87,1.45,12.75,1.25,0.95,1.65,1.65,0.65,1.95,1.65,1.65,8.47,1.45,2.1,0.85,1.65,0.85,0.42,1.69,4.95,1.25,1.66,5.95,1.65,1.65,1.45,2.1,1.95,1.06,0.29,0.85,2.1,1.25,1.95,1.95,0.42,0.42,1.65,1.25,0.85,2.55,4.95,0.85,1.65,3.36,1.66,5.95,1.65,0.55,4.65,1.25,3.39,7.49,2.55,1.45,1.25,2.51,0.42,2.95,1.25,2.1,1.95,0.85,7.62,9.95,3.75,1.55,7.78,3.75,3.75,3.36,12.72,3.75,1.25,1.95,4.25,0.42,3.75,0.55,2.51,1.95,2.55,8.95,2.57,3.95,1.25,1.95,1.65,13.87,0.55,0.55,4.21,2.51,1.06,0.42,2.1,1.25,1.65,1.65,2.95,4.95,1.65,0.85,7.62,0.85,4.95,0.29,1.05,1.25,14.95,1.65,1.65,1.65,4.65,2.95,9.32,1.66,2.55,2.95,2.1,8.65,6.75,1.25,1.65,1.66,0.42,7.62,9.95,3.75,3.25,1.65,1.65,2.95,2.1,4.25,1.25,1.65,0.85,2.95,0.65,4.21,1.25,1.66,0.85,1.45,1.65,3.75,3.75,1.65,9.95,1.65,2.1,2.55,1.25,1.25,2.55,1.66,6.75,0.85,6.75,2.95,4.95,1.95,1.25,2.51,0.55,2.95,0.85,5.95,1.66,14.95,0.84,2.55,3.36,2.51,4.25,4.25,1.25,9.95,4.3,7.95,0.42,4.25,4.95,4.21,12.75,3.75,0.65,4.21,5.95,7.95,1.25,0.29,2.95,12.72,2.1,5.91,0.42,0.85,2.57,4.95,4.25,13.0,1.25,1.66,2.55,2.51,0.85,1.25,3.75,1.49,1.65,2.55,1.25,2.95,3.95,2.51,2.1,1.65,2.95,0.42,1.45,0.29,1.25,2.1,0.85,0.65,1.25,1.66,3.43,4.95,0.85,0.42,1.45,3.75,0.43,0.85,2.95,2.95,1.95,1.25,2.95,7.49,0.42,3.36,6.75,0.85,7.62,4.21,1.25,1.95,1.65,1.25,0.42,7.49,1.95,1.95,1.65,1.65,1.66,2.95,6.75,1.65,0.85,2.57,1.25,5.95,0.85,2.95,2.1,6.75,7.49,1.95,5.95,1.95,1.28,2.95,12.13,4.21,2.95,6.95],\"xaxis\":\"x\",\"yaxis\":\"y\",\"type\":\"histogram\"},{\"alignmentgroup\":\"True\",\"hovertemplate\":\"variable=Price<br>value=%{x}<extra></extra>\",\"legendgroup\":\"Price\",\"marker\":{\"color\":\"#636efa\"},\"name\":\"Price\",\"notched\":true,\"offsetgroup\":\"Price\",\"showlegend\":false,\"x\":[5.17,4.21,1.25,0.85,2.51,2.1,3.36,0.55,7.49,5.06,0.85,6.75,1.28,7.95,5.91,3.36,1.66,1.25,1.25,0.85,0.85,0.0,2.95,0.42,0.85,4.25,1.25,0.75,12.75,2.51,4.95,1.66,1.65,0.0,5.95,0.19,1.95,2.95,4.21,4.25,2.55,2.55,1.25,1.45,4.25,4.95,11.87,2.95,5.95,0.85,1.69,2.55,0.42,0.85,2.95,1.25,5.95,2.95,3.75,3.36,9.95,1.28,0.55,2.95,7.65,3.36,7.95,0.55,0.85,0.85,1.65,7.95,7.62,1.25,4.95,9.95,0.85,14.43,2.95,1.25,9.95,1.25,2.55,12.75,9.95,2.57,4.95,1.95,2.55,8.5,3.75,3.75,2.1,1.65,0.85,1.65,3.75,1.95,1.45,2.55,2.95,2.55,1.7,0.85,1.25,1.65,0.42,1.25,1.45,1.95,1.25,2.55,3.75,2.95,6.77,6.04,0.85,2.51,0.29,3.75,9.95,12.75,6.75,8.5,1.65,1.65,1.25,3.75,3.75,1.65,4.21,0.42,2.95,3.75,2.95,3.75,0.95,0.85,0.42,1.65,1.25,5.45,0.55,1.65,2.95,4.65,0.85,1.65,0.85,4.21,0.85,1.25,0.65,1.45,3.36,3.36,1.25,13.57,4.65,3.75,1.66,1.25,2.51,1.25,1.25,1.65,7.49,3.35,2.51,2.1,7.62,1.25,0.42,8.5,0.85,4.95,11.02,0.42,2.57,2.95,1.95,2.12,4.95,3.75,2.51,9.95,1.65,2.57,7.62,1.25,3.45,2.55,1.25,0.42,0.85,0.85,8.5,4.21,12.75,6.35,6.75,0.85,1.25,1.95,0.42,5.95,5.95,8.47,2.95,1.65,6.75,5.95,3.75,2.95,0.65,7.95,3.75,1.25,0.65,1.25,1.45,7.49,5.95,4.95,2.95,8.5,4.95,1.95,12.75,1.65,3.75,2.55,6.35,2.95,1.69,1.69,1.65,0.65,3.75,0.85,4.95,2.95,2.51,0.81,1.95,0.29,6.35,3.75,2.1,1.69,1.65,1.66,1.25,2.1,1.25,1.66,1.25,1.66,3.43,1.95,9.95,2.57,0.85,5.91,1.25,3.75,4.21,2.95,1.25,0.85,1.25,5.95,3.75,4.95,2.95,5.45,2.95,6.35,1.45,0.85,1.66,1.66,0.42,12.75,3.95,1.95,9.32,5.06,2.95,5.95,0.85,2.95,0.36,2.95,1.95,8.5,3.75,0.85,3.36,6.04,2.95,7.49,1.45,2.95,1.65,2.51,3.75,0.42,0.12,1.65,2.1,3.36,5.91,3.36,0.42,0.29,1.95,6.75,4.25,2.95,2.1,0.95,6.04,7.95,0.65,1.25,6.77,7.62,9.45,1.66,2.1,7.95,3.46,1.25,0.85,2.25,3.75,1.65,0.85,2.51,0.38,1.25,3.75,4.65,2.95,2.95,1.65,4.95,3.75,2.1,1.65,9.95,5.95,1.65,1.25,1.65,4.25,2.1,2.95,1.25,1.25,3.75,0.85,1.25,6.77,8.47,0.29,2.55,6.75,0.42,1.25,0.65,7.95,1.25,2.51,1.66,2.55,1.65,2.95,0.85,0.42,6.35,6.75,5.06,3.75,12.75,2.95,2.95,1.65,2.55,3.75,3.49,1.25,2.95,0.85,1.65,3.75,14.43,3.25,2.95,7.95,3.75,0.21,3.36,5.95,4.95,9.95,1.45,2.51,2.55,0.0,3.75,4.65,2.1,3.95,0.42,1.25,0.42,0.42,1.65,11.87,8.47,3.75,1.25,3.75,2.55,1.65,10.95,0.42,0.81,3.45,2.95,8.5,8.5,2.95,1.25,5.17,2.1,1.28,0.85,1.66,0.65,7.49,1.66,8.5,0.36,5.91,3.95,1.25,0.21,3.04,0.65,2.1,0.29,0.65,3.75,13.57,1.65,1.65,0.65,1.25,1.95,1.25,0.85,1.25,5.95,2.55,4.21,5.95,1.69,0.85,12.75,5.95,0.19,2.1,8.47,2.55,0.29,0.85,2.55,0.85,2.95,4.95,4.21,3.75,4.25,1.66,0.85,6.45,0.85,1.95,10.17,0.85,3.25,3.75,1.65,10.17,14.95,0.42,11.02,3.36,8.95,2.55,4.95,0.85,0.85,1.25,4.25,8.65,8.47,1.65,2.1,4.95,3.36,3.75,1.95,2.55,1.25,0.43,1.25,1.25,1.65,0.85,0.42,0.85,2.1,2.51,4.21,0.42,1.95,1.95,7.25,3.75,1.65,5.95,3.95,1.95,1.28,4.95,1.25,1.25,1.65,2.95,0.42,2.95,3.25,8.95,9.95,0.85,2.95,2.55,1.25,0.85,4.95,2.95,7.5,0.0,1.25,0.42,5.95,3.75,3.36,3.36,7.95,1.28,1.65,1.25,5.95,6.75,1.49,1.65,1.95,0.85,2.55,1.66,3.75,1.65,0.42,3.43,2.1,7.62,4.95,0.85,4.25,2.95,1.28,1.25,2.1,8.47,1.65,0.85,3.39,2.95,1.65,1.69,0.21,1.65,1.45,1.25,0.85,3.95,1.25,2.1,4.21,10.95,1.95,0.85,3.36,11.02,12.72,1.65,1.06,3.75,1.25,1.69,4.21,4.95,0.42,0.55,2.1,0.85,1.45,0.85,1.95,1.95,4.21,1.65,3.75,1.25,0.85,7.49,1.65,0.42,3.95,1.25,9.95,1.95,0.85,2.95,4.21,1.25,14.43,0.85,4.95,7.78,2.51,2.51,8.47,1.65,1.25,2.95,0.85,1.95,7.65,2.1,4.21,0.55,2.51,2.65,0.65,0.85,2.1,1.66,0.85,0.85,1.25,1.7,1.95,0.43,1.95,4.95,0.55,2.55,2.1,3.75,0.42,4.25,5.91,1.25,2.1,2.1,4.25,0.85,2.95,1.69,0.85,3.95,11.87,2.55,1.65,1.69,2.95,1.95,2.95,3.75,2.1,2.1,11.26,1.25,2.55,0.81,8.5,7.62,1.45,0.65,2.95,2.95,2.55,0.43,2.1,0.42,1.65,6.35,4.65,12.75,2.1,1.45,2.95,4.25,11.87,1.45,12.75,1.25,0.95,1.65,1.65,0.65,1.95,1.65,1.65,8.47,1.45,2.1,0.85,1.65,0.85,0.42,1.69,4.95,1.25,1.66,5.95,1.65,1.65,1.45,2.1,1.95,1.06,0.29,0.85,2.1,1.25,1.95,1.95,0.42,0.42,1.65,1.25,0.85,2.55,4.95,0.85,1.65,3.36,1.66,5.95,1.65,0.55,4.65,1.25,3.39,7.49,2.55,1.45,1.25,2.51,0.42,2.95,1.25,2.1,1.95,0.85,7.62,9.95,3.75,1.55,7.78,3.75,3.75,3.36,12.72,3.75,1.25,1.95,4.25,0.42,3.75,0.55,2.51,1.95,2.55,8.95,2.57,3.95,1.25,1.95,1.65,13.87,0.55,0.55,4.21,2.51,1.06,0.42,2.1,1.25,1.65,1.65,2.95,4.95,1.65,0.85,7.62,0.85,4.95,0.29,1.05,1.25,14.95,1.65,1.65,1.65,4.65,2.95,9.32,1.66,2.55,2.95,2.1,8.65,6.75,1.25,1.65,1.66,0.42,7.62,9.95,3.75,3.25,1.65,1.65,2.95,2.1,4.25,1.25,1.65,0.85,2.95,0.65,4.21,1.25,1.66,0.85,1.45,1.65,3.75,3.75,1.65,9.95,1.65,2.1,2.55,1.25,1.25,2.55,1.66,6.75,0.85,6.75,2.95,4.95,1.95,1.25,2.51,0.55,2.95,0.85,5.95,1.66,14.95,0.84,2.55,3.36,2.51,4.25,4.25,1.25,9.95,4.3,7.95,0.42,4.25,4.95,4.21,12.75,3.75,0.65,4.21,5.95,7.95,1.25,0.29,2.95,12.72,2.1,5.91,0.42,0.85,2.57,4.95,4.25,13.0,1.25,1.66,2.55,2.51,0.85,1.25,3.75,1.49,1.65,2.55,1.25,2.95,3.95,2.51,2.1,1.65,2.95,0.42,1.45,0.29,1.25,2.1,0.85,0.65,1.25,1.66,3.43,4.95,0.85,0.42,1.45,3.75,0.43,0.85,2.95,2.95,1.95,1.25,2.95,7.49,0.42,3.36,6.75,0.85,7.62,4.21,1.25,1.95,1.65,1.25,0.42,7.49,1.95,1.95,1.65,1.65,1.66,2.95,6.75,1.65,0.85,2.57,1.25,5.95,0.85,2.95,2.1,6.75,7.49,1.95,5.95,1.95,1.28,2.95,12.13,4.21,2.95,6.95],\"xaxis\":\"x2\",\"yaxis\":\"y2\",\"type\":\"box\"}],                        {\"template\":{\"data\":{\"histogram2dcontour\":[{\"type\":\"histogram2dcontour\",\"colorbar\":{\"outlinewidth\":0,\"ticks\":\"\"},\"colorscale\":[[0.0,\"#0d0887\"],[0.1111111111111111,\"#46039f\"],[0.2222222222222222,\"#7201a8\"],[0.3333333333333333,\"#9c179e\"],[0.4444444444444444,\"#bd3786\"],[0.5555555555555556,\"#d8576b\"],[0.6666666666666666,\"#ed7953\"],[0.7777777777777778,\"#fb9f3a\"],[0.8888888888888888,\"#fdca26\"],[1.0,\"#f0f921\"]]}],\"choropleth\":[{\"type\":\"choropleth\",\"colorbar\":{\"outlinewidth\":0,\"ticks\":\"\"}}],\"histogram2d\":[{\"type\":\"histogram2d\",\"colorbar\":{\"outlinewidth\":0,\"ticks\":\"\"},\"colorscale\":[[0.0,\"#0d0887\"],[0.1111111111111111,\"#46039f\"],[0.2222222222222222,\"#7201a8\"],[0.3333333333333333,\"#9c179e\"],[0.4444444444444444,\"#bd3786\"],[0.5555555555555556,\"#d8576b\"],[0.6666666666666666,\"#ed7953\"],[0.7777777777777778,\"#fb9f3a\"],[0.8888888888888888,\"#fdca26\"],[1.0,\"#f0f921\"]]}],\"heatmap\":[{\"type\":\"heatmap\",\"colorbar\":{\"outlinewidth\":0,\"ticks\":\"\"},\"colorscale\":[[0.0,\"#0d0887\"],[0.1111111111111111,\"#46039f\"],[0.2222222222222222,\"#7201a8\"],[0.3333333333333333,\"#9c179e\"],[0.4444444444444444,\"#bd3786\"],[0.5555555555555556,\"#d8576b\"],[0.6666666666666666,\"#ed7953\"],[0.7777777777777778,\"#fb9f3a\"],[0.8888888888888888,\"#fdca26\"],[1.0,\"#f0f921\"]]}],\"heatmapgl\":[{\"type\":\"heatmapgl\",\"colorbar\":{\"outlinewidth\":0,\"ticks\":\"\"},\"colorscale\":[[0.0,\"#0d0887\"],[0.1111111111111111,\"#46039f\"],[0.2222222222222222,\"#7201a8\"],[0.3333333333333333,\"#9c179e\"],[0.4444444444444444,\"#bd3786\"],[0.5555555555555556,\"#d8576b\"],[0.6666666666666666,\"#ed7953\"],[0.7777777777777778,\"#fb9f3a\"],[0.8888888888888888,\"#fdca26\"],[1.0,\"#f0f921\"]]}],\"contourcarpet\":[{\"type\":\"contourcarpet\",\"colorbar\":{\"outlinewidth\":0,\"ticks\":\"\"}}],\"contour\":[{\"type\":\"contour\",\"colorbar\":{\"outlinewidth\":0,\"ticks\":\"\"},\"colorscale\":[[0.0,\"#0d0887\"],[0.1111111111111111,\"#46039f\"],[0.2222222222222222,\"#7201a8\"],[0.3333333333333333,\"#9c179e\"],[0.4444444444444444,\"#bd3786\"],[0.5555555555555556,\"#d8576b\"],[0.6666666666666666,\"#ed7953\"],[0.7777777777777778,\"#fb9f3a\"],[0.8888888888888888,\"#fdca26\"],[1.0,\"#f0f921\"]]}],\"surface\":[{\"type\":\"surface\",\"colorbar\":{\"outlinewidth\":0,\"ticks\":\"\"},\"colorscale\":[[0.0,\"#0d0887\"],[0.1111111111111111,\"#46039f\"],[0.2222222222222222,\"#7201a8\"],[0.3333333333333333,\"#9c179e\"],[0.4444444444444444,\"#bd3786\"],[0.5555555555555556,\"#d8576b\"],[0.6666666666666666,\"#ed7953\"],[0.7777777777777778,\"#fb9f3a\"],[0.8888888888888888,\"#fdca26\"],[1.0,\"#f0f921\"]]}],\"mesh3d\":[{\"type\":\"mesh3d\",\"colorbar\":{\"outlinewidth\":0,\"ticks\":\"\"}}],\"scatter\":[{\"fillpattern\":{\"fillmode\":\"overlay\",\"size\":10,\"solidity\":0.2},\"type\":\"scatter\"}],\"parcoords\":[{\"type\":\"parcoords\",\"line\":{\"colorbar\":{\"outlinewidth\":0,\"ticks\":\"\"}}}],\"scatterpolargl\":[{\"type\":\"scatterpolargl\",\"marker\":{\"colorbar\":{\"outlinewidth\":0,\"ticks\":\"\"}}}],\"bar\":[{\"error_x\":{\"color\":\"#2a3f5f\"},\"error_y\":{\"color\":\"#2a3f5f\"},\"marker\":{\"line\":{\"color\":\"#E5ECF6\",\"width\":0.5},\"pattern\":{\"fillmode\":\"overlay\",\"size\":10,\"solidity\":0.2}},\"type\":\"bar\"}],\"scattergeo\":[{\"type\":\"scattergeo\",\"marker\":{\"colorbar\":{\"outlinewidth\":0,\"ticks\":\"\"}}}],\"scatterpolar\":[{\"type\":\"scatterpolar\",\"marker\":{\"colorbar\":{\"outlinewidth\":0,\"ticks\":\"\"}}}],\"histogram\":[{\"marker\":{\"pattern\":{\"fillmode\":\"overlay\",\"size\":10,\"solidity\":0.2}},\"type\":\"histogram\"}],\"scattergl\":[{\"type\":\"scattergl\",\"marker\":{\"colorbar\":{\"outlinewidth\":0,\"ticks\":\"\"}}}],\"scatter3d\":[{\"type\":\"scatter3d\",\"line\":{\"colorbar\":{\"outlinewidth\":0,\"ticks\":\"\"}},\"marker\":{\"colorbar\":{\"outlinewidth\":0,\"ticks\":\"\"}}}],\"scattermapbox\":[{\"type\":\"scattermapbox\",\"marker\":{\"colorbar\":{\"outlinewidth\":0,\"ticks\":\"\"}}}],\"scatterternary\":[{\"type\":\"scatterternary\",\"marker\":{\"colorbar\":{\"outlinewidth\":0,\"ticks\":\"\"}}}],\"scattercarpet\":[{\"type\":\"scattercarpet\",\"marker\":{\"colorbar\":{\"outlinewidth\":0,\"ticks\":\"\"}}}],\"carpet\":[{\"aaxis\":{\"endlinecolor\":\"#2a3f5f\",\"gridcolor\":\"white\",\"linecolor\":\"white\",\"minorgridcolor\":\"white\",\"startlinecolor\":\"#2a3f5f\"},\"baxis\":{\"endlinecolor\":\"#2a3f5f\",\"gridcolor\":\"white\",\"linecolor\":\"white\",\"minorgridcolor\":\"white\",\"startlinecolor\":\"#2a3f5f\"},\"type\":\"carpet\"}],\"table\":[{\"cells\":{\"fill\":{\"color\":\"#EBF0F8\"},\"line\":{\"color\":\"white\"}},\"header\":{\"fill\":{\"color\":\"#C8D4E3\"},\"line\":{\"color\":\"white\"}},\"type\":\"table\"}],\"barpolar\":[{\"marker\":{\"line\":{\"color\":\"#E5ECF6\",\"width\":0.5},\"pattern\":{\"fillmode\":\"overlay\",\"size\":10,\"solidity\":0.2}},\"type\":\"barpolar\"}],\"pie\":[{\"automargin\":true,\"type\":\"pie\"}]},\"layout\":{\"autotypenumbers\":\"strict\",\"colorway\":[\"#636efa\",\"#EF553B\",\"#00cc96\",\"#ab63fa\",\"#FFA15A\",\"#19d3f3\",\"#FF6692\",\"#B6E880\",\"#FF97FF\",\"#FECB52\"],\"font\":{\"color\":\"#2a3f5f\"},\"hovermode\":\"closest\",\"hoverlabel\":{\"align\":\"left\"},\"paper_bgcolor\":\"white\",\"plot_bgcolor\":\"#E5ECF6\",\"polar\":{\"bgcolor\":\"#E5ECF6\",\"angularaxis\":{\"gridcolor\":\"white\",\"linecolor\":\"white\",\"ticks\":\"\"},\"radialaxis\":{\"gridcolor\":\"white\",\"linecolor\":\"white\",\"ticks\":\"\"}},\"ternary\":{\"bgcolor\":\"#E5ECF6\",\"aaxis\":{\"gridcolor\":\"white\",\"linecolor\":\"white\",\"ticks\":\"\"},\"baxis\":{\"gridcolor\":\"white\",\"linecolor\":\"white\",\"ticks\":\"\"},\"caxis\":{\"gridcolor\":\"white\",\"linecolor\":\"white\",\"ticks\":\"\"}},\"coloraxis\":{\"colorbar\":{\"outlinewidth\":0,\"ticks\":\"\"}},\"colorscale\":{\"sequential\":[[0.0,\"#0d0887\"],[0.1111111111111111,\"#46039f\"],[0.2222222222222222,\"#7201a8\"],[0.3333333333333333,\"#9c179e\"],[0.4444444444444444,\"#bd3786\"],[0.5555555555555556,\"#d8576b\"],[0.6666666666666666,\"#ed7953\"],[0.7777777777777778,\"#fb9f3a\"],[0.8888888888888888,\"#fdca26\"],[1.0,\"#f0f921\"]],\"sequentialminus\":[[0.0,\"#0d0887\"],[0.1111111111111111,\"#46039f\"],[0.2222222222222222,\"#7201a8\"],[0.3333333333333333,\"#9c179e\"],[0.4444444444444444,\"#bd3786\"],[0.5555555555555556,\"#d8576b\"],[0.6666666666666666,\"#ed7953\"],[0.7777777777777778,\"#fb9f3a\"],[0.8888888888888888,\"#fdca26\"],[1.0,\"#f0f921\"]],\"diverging\":[[0,\"#8e0152\"],[0.1,\"#c51b7d\"],[0.2,\"#de77ae\"],[0.3,\"#f1b6da\"],[0.4,\"#fde0ef\"],[0.5,\"#f7f7f7\"],[0.6,\"#e6f5d0\"],[0.7,\"#b8e186\"],[0.8,\"#7fbc41\"],[0.9,\"#4d9221\"],[1,\"#276419\"]]},\"xaxis\":{\"gridcolor\":\"white\",\"linecolor\":\"white\",\"ticks\":\"\",\"title\":{\"standoff\":15},\"zerolinecolor\":\"white\",\"automargin\":true,\"zerolinewidth\":2},\"yaxis\":{\"gridcolor\":\"white\",\"linecolor\":\"white\",\"ticks\":\"\",\"title\":{\"standoff\":15},\"zerolinecolor\":\"white\",\"automargin\":true,\"zerolinewidth\":2},\"scene\":{\"xaxis\":{\"backgroundcolor\":\"#E5ECF6\",\"gridcolor\":\"white\",\"linecolor\":\"white\",\"showbackground\":true,\"ticks\":\"\",\"zerolinecolor\":\"white\",\"gridwidth\":2},\"yaxis\":{\"backgroundcolor\":\"#E5ECF6\",\"gridcolor\":\"white\",\"linecolor\":\"white\",\"showbackground\":true,\"ticks\":\"\",\"zerolinecolor\":\"white\",\"gridwidth\":2},\"zaxis\":{\"backgroundcolor\":\"#E5ECF6\",\"gridcolor\":\"white\",\"linecolor\":\"white\",\"showbackground\":true,\"ticks\":\"\",\"zerolinecolor\":\"white\",\"gridwidth\":2}},\"shapedefaults\":{\"line\":{\"color\":\"#2a3f5f\"}},\"annotationdefaults\":{\"arrowcolor\":\"#2a3f5f\",\"arrowhead\":0,\"arrowwidth\":1},\"geo\":{\"bgcolor\":\"white\",\"landcolor\":\"#E5ECF6\",\"subunitcolor\":\"white\",\"showland\":true,\"showlakes\":true,\"lakecolor\":\"white\"},\"title\":{\"x\":0.05},\"mapbox\":{\"style\":\"light\"}}},\"xaxis\":{\"anchor\":\"y\",\"domain\":[0.0,1.0],\"title\":{\"text\":\"value\"}},\"yaxis\":{\"anchor\":\"x\",\"domain\":[0.0,0.7326],\"title\":{\"text\":\"count\"}},\"xaxis2\":{\"anchor\":\"y2\",\"domain\":[0.0,1.0],\"matches\":\"x\",\"showticklabels\":false,\"showgrid\":true},\"yaxis2\":{\"anchor\":\"x2\",\"domain\":[0.7426,1.0],\"matches\":\"y2\",\"showticklabels\":false,\"showline\":false,\"ticks\":\"\",\"showgrid\":false},\"legend\":{\"title\":{\"text\":\"variable\"},\"tracegroupgap\":0},\"title\":{\"text\":\"Price - With Outliers\"},\"barmode\":\"relative\"},                        {\"responsive\": true}                    ).then(function(){\n",
              "                            \n",
              "var gd = document.getElementById('d7a4647d-73eb-4609-ad51-bc9d2e510a78');\n",
              "var x = new MutationObserver(function (mutations, observer) {{\n",
              "        var display = window.getComputedStyle(gd).display;\n",
              "        if (!display || display === 'none') {{\n",
              "            console.log([gd, 'removed!']);\n",
              "            Plotly.purge(gd);\n",
              "            observer.disconnect();\n",
              "        }}\n",
              "}});\n",
              "\n",
              "// Listen for the removal of the full notebook cells\n",
              "var notebookContainer = gd.closest('#notebook-container');\n",
              "if (notebookContainer) {{\n",
              "    x.observe(notebookContainer, {childList: true});\n",
              "}}\n",
              "\n",
              "// Listen for the clearing of the current output cell\n",
              "var outputEl = gd.closest('.output');\n",
              "if (outputEl) {{\n",
              "    x.observe(outputEl, {childList: true});\n",
              "}}\n",
              "\n",
              "                        })                };                            </script>        </div>\n",
              "</body>\n",
              "</html>"
            ]
          },
          "metadata": {}
        },
        {
          "output_type": "display_data",
          "data": {
            "text/html": [
              "<html>\n",
              "<head><meta charset=\"utf-8\" /></head>\n",
              "<body>\n",
              "    <div>            <script src=\"https://cdnjs.cloudflare.com/ajax/libs/mathjax/2.7.5/MathJax.js?config=TeX-AMS-MML_SVG\"></script><script type=\"text/javascript\">if (window.MathJax && window.MathJax.Hub && window.MathJax.Hub.Config) {window.MathJax.Hub.Config({SVG: {font: \"STIX-Web\"}});}</script>                <script type=\"text/javascript\">window.PlotlyConfig = {MathJaxConfig: 'local'};</script>\n",
              "        <script src=\"https://cdn.plot.ly/plotly-2.14.0.min.js\"></script>                <div id=\"b2b7314b-83c3-4cca-98b6-eb4b6103f413\" class=\"plotly-graph-div\" style=\"height:525px; width:100%;\"></div>            <script type=\"text/javascript\">                                    window.PLOTLYENV=window.PLOTLYENV || {};                                    if (document.getElementById(\"b2b7314b-83c3-4cca-98b6-eb4b6103f413\")) {                    Plotly.newPlot(                        \"b2b7314b-83c3-4cca-98b6-eb4b6103f413\",                        [{\"alignmentgroup\":\"True\",\"bingroup\":\"x\",\"hovertemplate\":\"variable=Price<br>value=%{x}<br>count=%{y}<extra></extra>\",\"legendgroup\":\"Price\",\"marker\":{\"color\":\"#636efa\",\"pattern\":{\"shape\":\"\"}},\"name\":\"Price\",\"offsetgroup\":\"Price\",\"orientation\":\"v\",\"showlegend\":true,\"x\":[5.17,4.21,1.25,0.85,2.51,2.1,3.36,0.55,7.49,5.06,0.85,6.75,1.28,7.95,5.91,3.36,1.66,1.25,1.25,0.85,0.85,0.0,2.95,0.42,0.85,4.25,1.25,0.75,2.51,4.95,1.66,1.65,0.0,5.95,0.19,1.95,2.95,4.21,4.25,2.55,2.55,1.25,1.45,4.25,4.95,11.87,2.95,5.95,0.85,1.69,2.55,0.42,0.85,2.95,1.25,5.95,2.95,3.75,3.36,9.95,1.28,0.55,2.95,7.65,3.36,7.95,0.55,0.85,0.85,1.65,7.95,7.62,1.25,4.95,9.95,0.85,2.95,1.25,9.95,1.25,2.55,9.95,2.57,4.95,1.95,2.55,8.5,3.75,3.75,2.1,1.65,0.85,1.65,3.75,1.95,1.45,2.55,2.95,2.55,1.7,0.85,1.25,1.65,0.42,1.25,1.45,1.95,1.25,2.55,3.75,2.95,6.77,6.04,0.85,2.51,0.29,3.75,9.95,6.75,8.5,1.65,1.65,1.25,3.75,3.75,1.65,4.21,0.42,2.95,3.75,2.95,3.75,0.95,0.85,0.42,1.65,1.25,5.45,0.55,1.65,2.95,4.65,0.85,1.65,0.85,4.21,0.85,1.25,0.65,1.45,3.36,3.36,1.25,4.65,3.75,1.66,1.25,2.51,1.25,1.25,1.65,7.49,3.35,2.51,2.1,7.62,1.25,0.42,8.5,0.85,4.95,11.02,0.42,2.57,2.95,1.95,2.12,4.95,3.75,2.51,9.95,1.65,2.57,7.62,1.25,3.45,2.55,1.25,0.42,0.85,0.85,8.5,4.21,6.35,6.75,0.85,1.25,1.95,0.42,5.95,5.95,8.47,2.95,1.65,6.75,5.95,3.75,2.95,0.65,7.95,3.75,1.25,0.65,1.25,1.45,7.49,5.95,4.95,2.95,8.5,4.95,1.95,1.65,3.75,2.55,6.35,2.95,1.69,1.69,1.65,0.65,3.75,0.85,4.95,2.95,2.51,0.81,1.95,0.29,6.35,3.75,2.1,1.69,1.65,1.66,1.25,2.1,1.25,1.66,1.25,1.66,3.43,1.95,9.95,2.57,0.85,5.91,1.25,3.75,4.21,2.95,1.25,0.85,1.25,5.95,3.75,4.95,2.95,5.45,2.95,6.35,1.45,0.85,1.66,1.66,0.42,3.95,1.95,9.32,5.06,2.95,5.95,0.85,2.95,0.36,2.95,1.95,8.5,3.75,0.85,3.36,6.04,2.95,7.49,1.45,2.95,1.65,2.51,3.75,0.42,0.12,1.65,2.1,3.36,5.91,3.36,0.42,0.29,1.95,6.75,4.25,2.95,2.1,0.95,6.04,7.95,0.65,1.25,6.77,7.62,9.45,1.66,2.1,7.95,3.46,1.25,0.85,2.25,3.75,1.65,0.85,2.51,0.38,1.25,3.75,4.65,2.95,2.95,1.65,4.95,3.75,2.1,1.65,9.95,5.95,1.65,1.25,1.65,4.25,2.1,2.95,1.25,1.25,3.75,0.85,1.25,6.77,8.47,0.29,2.55,6.75,0.42,1.25,0.65,7.95,1.25,2.51,1.66,2.55,1.65,2.95,0.85,0.42,6.35,6.75,5.06,3.75,2.95,2.95,1.65,2.55,3.75,3.49,1.25,2.95,0.85,1.65,3.75,3.25,2.95,7.95,3.75,0.21,3.36,5.95,4.95,9.95,1.45,2.51,2.55,0.0,3.75,4.65,2.1,3.95,0.42,1.25,0.42,0.42,1.65,11.87,8.47,3.75,1.25,3.75,2.55,1.65,10.95,0.42,0.81,3.45,2.95,8.5,8.5,2.95,1.25,5.17,2.1,1.28,0.85,1.66,0.65,7.49,1.66,8.5,0.36,5.91,3.95,1.25,0.21,3.04,0.65,2.1,0.29,0.65,3.75,1.65,1.65,0.65,1.25,1.95,1.25,0.85,1.25,5.95,2.55,4.21,5.95,1.69,0.85,5.95,0.19,2.1,8.47,2.55,0.29,0.85,2.55,0.85,2.95,4.95,4.21,3.75,4.25,1.66,0.85,6.45,0.85,1.95,10.17,0.85,3.25,3.75,1.65,10.17,0.42,11.02,3.36,8.95,2.55,4.95,0.85,0.85,1.25,4.25,8.65,8.47,1.65,2.1,4.95,3.36,3.75,1.95,2.55,1.25,0.43,1.25,1.25,1.65,0.85,0.42,0.85,2.1,2.51,4.21,0.42,1.95,1.95,7.25,3.75,1.65,5.95,3.95,1.95,1.28,4.95,1.25,1.25,1.65,2.95,0.42,2.95,3.25,8.95,9.95,0.85,2.95,2.55,1.25,0.85,4.95,2.95,7.5,0.0,1.25,0.42,5.95,3.75,3.36,3.36,7.95,1.28,1.65,1.25,5.95,6.75,1.49,1.65,1.95,0.85,2.55,1.66,3.75,1.65,0.42,3.43,2.1,7.62,4.95,0.85,4.25,2.95,1.28,1.25,2.1,8.47,1.65,0.85,3.39,2.95,1.65,1.69,0.21,1.65,1.45,1.25,0.85,3.95,1.25,2.1,4.21,10.95,1.95,0.85,3.36,11.02,1.65,1.06,3.75,1.25,1.69,4.21,4.95,0.42,0.55,2.1,0.85,1.45,0.85,1.95,1.95,4.21,1.65,3.75,1.25,0.85,7.49,1.65,0.42,3.95,1.25,9.95,1.95,0.85,2.95,4.21,1.25,0.85,4.95,7.78,2.51,2.51,8.47,1.65,1.25,2.95,0.85,1.95,7.65,2.1,4.21,0.55,2.51,2.65,0.65,0.85,2.1,1.66,0.85,0.85,1.25,1.7,1.95,0.43,1.95,4.95,0.55,2.55,2.1,3.75,0.42,4.25,5.91,1.25,2.1,2.1,4.25,0.85,2.95,1.69,0.85,3.95,11.87,2.55,1.65,1.69,2.95,1.95,2.95,3.75,2.1,2.1,11.26,1.25,2.55,0.81,8.5,7.62,1.45,0.65,2.95,2.95,2.55,0.43,2.1,0.42,1.65,6.35,4.65,2.1,1.45,2.95,4.25,11.87,1.45,1.25,0.95,1.65,1.65,0.65,1.95,1.65,1.65,8.47,1.45,2.1,0.85,1.65,0.85,0.42,1.69,4.95,1.25,1.66,5.95,1.65,1.65,1.45,2.1,1.95,1.06,0.29,0.85,2.1,1.25,1.95,1.95,0.42,0.42,1.65,1.25,0.85,2.55,4.95,0.85,1.65,3.36,1.66,5.95,1.65,0.55,4.65,1.25,3.39,7.49,2.55,1.45,1.25,2.51,0.42,2.95,1.25,2.1,1.95,0.85,7.62,9.95,3.75,1.55,7.78,3.75,3.75,3.36,3.75,1.25,1.95,4.25,0.42,3.75,0.55,2.51,1.95,2.55,8.95,2.57,3.95,1.25,1.95,1.65,0.55,0.55,4.21,2.51,1.06,0.42,2.1,1.25,1.65,1.65,2.95,4.95,1.65,0.85,7.62,0.85,4.95,0.29,1.05,1.25,1.65,1.65,1.65,4.65,2.95,9.32,1.66,2.55,2.95,2.1,8.65,6.75,1.25,1.65,1.66,0.42,7.62,9.95,3.75,3.25,1.65,1.65,2.95,2.1,4.25,1.25,1.65,0.85,2.95,0.65,4.21,1.25,1.66,0.85,1.45,1.65,3.75,3.75,1.65,9.95,1.65,2.1,2.55,1.25,1.25,2.55,1.66,6.75,0.85,6.75,2.95,4.95,1.95,1.25,2.51,0.55,2.95,0.85,5.95,1.66,0.84,2.55,3.36,2.51,4.25,4.25,1.25,9.95,4.3,7.95,0.42,4.25,4.95,4.21,3.75,0.65,4.21,5.95,7.95,1.25,0.29,2.95,2.1,5.91,0.42,0.85,2.57,4.95,4.25,1.25,1.66,2.55,2.51,0.85,1.25,3.75,1.49,1.65,2.55,1.25,2.95,3.95,2.51,2.1,1.65,2.95,0.42,1.45,0.29,1.25,2.1,0.85,0.65,1.25,1.66,3.43,4.95,0.85,0.42,1.45,3.75,0.43,0.85,2.95,2.95,1.95,1.25,2.95,7.49,0.42,3.36,6.75,0.85,7.62,4.21,1.25,1.95,1.65,1.25,0.42,7.49,1.95,1.95,1.65,1.65,1.66,2.95,6.75,1.65,0.85,2.57,1.25,5.95,0.85,2.95,2.1,6.75,7.49,1.95,5.95,1.95,1.28,2.95,4.21,2.95,6.95],\"xaxis\":\"x\",\"yaxis\":\"y\",\"type\":\"histogram\"},{\"alignmentgroup\":\"True\",\"hovertemplate\":\"variable=Price<br>value=%{x}<extra></extra>\",\"legendgroup\":\"Price\",\"marker\":{\"color\":\"#636efa\"},\"name\":\"Price\",\"notched\":true,\"offsetgroup\":\"Price\",\"showlegend\":false,\"x\":[5.17,4.21,1.25,0.85,2.51,2.1,3.36,0.55,7.49,5.06,0.85,6.75,1.28,7.95,5.91,3.36,1.66,1.25,1.25,0.85,0.85,0.0,2.95,0.42,0.85,4.25,1.25,0.75,2.51,4.95,1.66,1.65,0.0,5.95,0.19,1.95,2.95,4.21,4.25,2.55,2.55,1.25,1.45,4.25,4.95,11.87,2.95,5.95,0.85,1.69,2.55,0.42,0.85,2.95,1.25,5.95,2.95,3.75,3.36,9.95,1.28,0.55,2.95,7.65,3.36,7.95,0.55,0.85,0.85,1.65,7.95,7.62,1.25,4.95,9.95,0.85,2.95,1.25,9.95,1.25,2.55,9.95,2.57,4.95,1.95,2.55,8.5,3.75,3.75,2.1,1.65,0.85,1.65,3.75,1.95,1.45,2.55,2.95,2.55,1.7,0.85,1.25,1.65,0.42,1.25,1.45,1.95,1.25,2.55,3.75,2.95,6.77,6.04,0.85,2.51,0.29,3.75,9.95,6.75,8.5,1.65,1.65,1.25,3.75,3.75,1.65,4.21,0.42,2.95,3.75,2.95,3.75,0.95,0.85,0.42,1.65,1.25,5.45,0.55,1.65,2.95,4.65,0.85,1.65,0.85,4.21,0.85,1.25,0.65,1.45,3.36,3.36,1.25,4.65,3.75,1.66,1.25,2.51,1.25,1.25,1.65,7.49,3.35,2.51,2.1,7.62,1.25,0.42,8.5,0.85,4.95,11.02,0.42,2.57,2.95,1.95,2.12,4.95,3.75,2.51,9.95,1.65,2.57,7.62,1.25,3.45,2.55,1.25,0.42,0.85,0.85,8.5,4.21,6.35,6.75,0.85,1.25,1.95,0.42,5.95,5.95,8.47,2.95,1.65,6.75,5.95,3.75,2.95,0.65,7.95,3.75,1.25,0.65,1.25,1.45,7.49,5.95,4.95,2.95,8.5,4.95,1.95,1.65,3.75,2.55,6.35,2.95,1.69,1.69,1.65,0.65,3.75,0.85,4.95,2.95,2.51,0.81,1.95,0.29,6.35,3.75,2.1,1.69,1.65,1.66,1.25,2.1,1.25,1.66,1.25,1.66,3.43,1.95,9.95,2.57,0.85,5.91,1.25,3.75,4.21,2.95,1.25,0.85,1.25,5.95,3.75,4.95,2.95,5.45,2.95,6.35,1.45,0.85,1.66,1.66,0.42,3.95,1.95,9.32,5.06,2.95,5.95,0.85,2.95,0.36,2.95,1.95,8.5,3.75,0.85,3.36,6.04,2.95,7.49,1.45,2.95,1.65,2.51,3.75,0.42,0.12,1.65,2.1,3.36,5.91,3.36,0.42,0.29,1.95,6.75,4.25,2.95,2.1,0.95,6.04,7.95,0.65,1.25,6.77,7.62,9.45,1.66,2.1,7.95,3.46,1.25,0.85,2.25,3.75,1.65,0.85,2.51,0.38,1.25,3.75,4.65,2.95,2.95,1.65,4.95,3.75,2.1,1.65,9.95,5.95,1.65,1.25,1.65,4.25,2.1,2.95,1.25,1.25,3.75,0.85,1.25,6.77,8.47,0.29,2.55,6.75,0.42,1.25,0.65,7.95,1.25,2.51,1.66,2.55,1.65,2.95,0.85,0.42,6.35,6.75,5.06,3.75,2.95,2.95,1.65,2.55,3.75,3.49,1.25,2.95,0.85,1.65,3.75,3.25,2.95,7.95,3.75,0.21,3.36,5.95,4.95,9.95,1.45,2.51,2.55,0.0,3.75,4.65,2.1,3.95,0.42,1.25,0.42,0.42,1.65,11.87,8.47,3.75,1.25,3.75,2.55,1.65,10.95,0.42,0.81,3.45,2.95,8.5,8.5,2.95,1.25,5.17,2.1,1.28,0.85,1.66,0.65,7.49,1.66,8.5,0.36,5.91,3.95,1.25,0.21,3.04,0.65,2.1,0.29,0.65,3.75,1.65,1.65,0.65,1.25,1.95,1.25,0.85,1.25,5.95,2.55,4.21,5.95,1.69,0.85,5.95,0.19,2.1,8.47,2.55,0.29,0.85,2.55,0.85,2.95,4.95,4.21,3.75,4.25,1.66,0.85,6.45,0.85,1.95,10.17,0.85,3.25,3.75,1.65,10.17,0.42,11.02,3.36,8.95,2.55,4.95,0.85,0.85,1.25,4.25,8.65,8.47,1.65,2.1,4.95,3.36,3.75,1.95,2.55,1.25,0.43,1.25,1.25,1.65,0.85,0.42,0.85,2.1,2.51,4.21,0.42,1.95,1.95,7.25,3.75,1.65,5.95,3.95,1.95,1.28,4.95,1.25,1.25,1.65,2.95,0.42,2.95,3.25,8.95,9.95,0.85,2.95,2.55,1.25,0.85,4.95,2.95,7.5,0.0,1.25,0.42,5.95,3.75,3.36,3.36,7.95,1.28,1.65,1.25,5.95,6.75,1.49,1.65,1.95,0.85,2.55,1.66,3.75,1.65,0.42,3.43,2.1,7.62,4.95,0.85,4.25,2.95,1.28,1.25,2.1,8.47,1.65,0.85,3.39,2.95,1.65,1.69,0.21,1.65,1.45,1.25,0.85,3.95,1.25,2.1,4.21,10.95,1.95,0.85,3.36,11.02,1.65,1.06,3.75,1.25,1.69,4.21,4.95,0.42,0.55,2.1,0.85,1.45,0.85,1.95,1.95,4.21,1.65,3.75,1.25,0.85,7.49,1.65,0.42,3.95,1.25,9.95,1.95,0.85,2.95,4.21,1.25,0.85,4.95,7.78,2.51,2.51,8.47,1.65,1.25,2.95,0.85,1.95,7.65,2.1,4.21,0.55,2.51,2.65,0.65,0.85,2.1,1.66,0.85,0.85,1.25,1.7,1.95,0.43,1.95,4.95,0.55,2.55,2.1,3.75,0.42,4.25,5.91,1.25,2.1,2.1,4.25,0.85,2.95,1.69,0.85,3.95,11.87,2.55,1.65,1.69,2.95,1.95,2.95,3.75,2.1,2.1,11.26,1.25,2.55,0.81,8.5,7.62,1.45,0.65,2.95,2.95,2.55,0.43,2.1,0.42,1.65,6.35,4.65,2.1,1.45,2.95,4.25,11.87,1.45,1.25,0.95,1.65,1.65,0.65,1.95,1.65,1.65,8.47,1.45,2.1,0.85,1.65,0.85,0.42,1.69,4.95,1.25,1.66,5.95,1.65,1.65,1.45,2.1,1.95,1.06,0.29,0.85,2.1,1.25,1.95,1.95,0.42,0.42,1.65,1.25,0.85,2.55,4.95,0.85,1.65,3.36,1.66,5.95,1.65,0.55,4.65,1.25,3.39,7.49,2.55,1.45,1.25,2.51,0.42,2.95,1.25,2.1,1.95,0.85,7.62,9.95,3.75,1.55,7.78,3.75,3.75,3.36,3.75,1.25,1.95,4.25,0.42,3.75,0.55,2.51,1.95,2.55,8.95,2.57,3.95,1.25,1.95,1.65,0.55,0.55,4.21,2.51,1.06,0.42,2.1,1.25,1.65,1.65,2.95,4.95,1.65,0.85,7.62,0.85,4.95,0.29,1.05,1.25,1.65,1.65,1.65,4.65,2.95,9.32,1.66,2.55,2.95,2.1,8.65,6.75,1.25,1.65,1.66,0.42,7.62,9.95,3.75,3.25,1.65,1.65,2.95,2.1,4.25,1.25,1.65,0.85,2.95,0.65,4.21,1.25,1.66,0.85,1.45,1.65,3.75,3.75,1.65,9.95,1.65,2.1,2.55,1.25,1.25,2.55,1.66,6.75,0.85,6.75,2.95,4.95,1.95,1.25,2.51,0.55,2.95,0.85,5.95,1.66,0.84,2.55,3.36,2.51,4.25,4.25,1.25,9.95,4.3,7.95,0.42,4.25,4.95,4.21,3.75,0.65,4.21,5.95,7.95,1.25,0.29,2.95,2.1,5.91,0.42,0.85,2.57,4.95,4.25,1.25,1.66,2.55,2.51,0.85,1.25,3.75,1.49,1.65,2.55,1.25,2.95,3.95,2.51,2.1,1.65,2.95,0.42,1.45,0.29,1.25,2.1,0.85,0.65,1.25,1.66,3.43,4.95,0.85,0.42,1.45,3.75,0.43,0.85,2.95,2.95,1.95,1.25,2.95,7.49,0.42,3.36,6.75,0.85,7.62,4.21,1.25,1.95,1.65,1.25,0.42,7.49,1.95,1.95,1.65,1.65,1.66,2.95,6.75,1.65,0.85,2.57,1.25,5.95,0.85,2.95,2.1,6.75,7.49,1.95,5.95,1.95,1.28,2.95,4.21,2.95,6.95],\"xaxis\":\"x2\",\"yaxis\":\"y2\",\"type\":\"box\"}],                        {\"template\":{\"data\":{\"histogram2dcontour\":[{\"type\":\"histogram2dcontour\",\"colorbar\":{\"outlinewidth\":0,\"ticks\":\"\"},\"colorscale\":[[0.0,\"#0d0887\"],[0.1111111111111111,\"#46039f\"],[0.2222222222222222,\"#7201a8\"],[0.3333333333333333,\"#9c179e\"],[0.4444444444444444,\"#bd3786\"],[0.5555555555555556,\"#d8576b\"],[0.6666666666666666,\"#ed7953\"],[0.7777777777777778,\"#fb9f3a\"],[0.8888888888888888,\"#fdca26\"],[1.0,\"#f0f921\"]]}],\"choropleth\":[{\"type\":\"choropleth\",\"colorbar\":{\"outlinewidth\":0,\"ticks\":\"\"}}],\"histogram2d\":[{\"type\":\"histogram2d\",\"colorbar\":{\"outlinewidth\":0,\"ticks\":\"\"},\"colorscale\":[[0.0,\"#0d0887\"],[0.1111111111111111,\"#46039f\"],[0.2222222222222222,\"#7201a8\"],[0.3333333333333333,\"#9c179e\"],[0.4444444444444444,\"#bd3786\"],[0.5555555555555556,\"#d8576b\"],[0.6666666666666666,\"#ed7953\"],[0.7777777777777778,\"#fb9f3a\"],[0.8888888888888888,\"#fdca26\"],[1.0,\"#f0f921\"]]}],\"heatmap\":[{\"type\":\"heatmap\",\"colorbar\":{\"outlinewidth\":0,\"ticks\":\"\"},\"colorscale\":[[0.0,\"#0d0887\"],[0.1111111111111111,\"#46039f\"],[0.2222222222222222,\"#7201a8\"],[0.3333333333333333,\"#9c179e\"],[0.4444444444444444,\"#bd3786\"],[0.5555555555555556,\"#d8576b\"],[0.6666666666666666,\"#ed7953\"],[0.7777777777777778,\"#fb9f3a\"],[0.8888888888888888,\"#fdca26\"],[1.0,\"#f0f921\"]]}],\"heatmapgl\":[{\"type\":\"heatmapgl\",\"colorbar\":{\"outlinewidth\":0,\"ticks\":\"\"},\"colorscale\":[[0.0,\"#0d0887\"],[0.1111111111111111,\"#46039f\"],[0.2222222222222222,\"#7201a8\"],[0.3333333333333333,\"#9c179e\"],[0.4444444444444444,\"#bd3786\"],[0.5555555555555556,\"#d8576b\"],[0.6666666666666666,\"#ed7953\"],[0.7777777777777778,\"#fb9f3a\"],[0.8888888888888888,\"#fdca26\"],[1.0,\"#f0f921\"]]}],\"contourcarpet\":[{\"type\":\"contourcarpet\",\"colorbar\":{\"outlinewidth\":0,\"ticks\":\"\"}}],\"contour\":[{\"type\":\"contour\",\"colorbar\":{\"outlinewidth\":0,\"ticks\":\"\"},\"colorscale\":[[0.0,\"#0d0887\"],[0.1111111111111111,\"#46039f\"],[0.2222222222222222,\"#7201a8\"],[0.3333333333333333,\"#9c179e\"],[0.4444444444444444,\"#bd3786\"],[0.5555555555555556,\"#d8576b\"],[0.6666666666666666,\"#ed7953\"],[0.7777777777777778,\"#fb9f3a\"],[0.8888888888888888,\"#fdca26\"],[1.0,\"#f0f921\"]]}],\"surface\":[{\"type\":\"surface\",\"colorbar\":{\"outlinewidth\":0,\"ticks\":\"\"},\"colorscale\":[[0.0,\"#0d0887\"],[0.1111111111111111,\"#46039f\"],[0.2222222222222222,\"#7201a8\"],[0.3333333333333333,\"#9c179e\"],[0.4444444444444444,\"#bd3786\"],[0.5555555555555556,\"#d8576b\"],[0.6666666666666666,\"#ed7953\"],[0.7777777777777778,\"#fb9f3a\"],[0.8888888888888888,\"#fdca26\"],[1.0,\"#f0f921\"]]}],\"mesh3d\":[{\"type\":\"mesh3d\",\"colorbar\":{\"outlinewidth\":0,\"ticks\":\"\"}}],\"scatter\":[{\"fillpattern\":{\"fillmode\":\"overlay\",\"size\":10,\"solidity\":0.2},\"type\":\"scatter\"}],\"parcoords\":[{\"type\":\"parcoords\",\"line\":{\"colorbar\":{\"outlinewidth\":0,\"ticks\":\"\"}}}],\"scatterpolargl\":[{\"type\":\"scatterpolargl\",\"marker\":{\"colorbar\":{\"outlinewidth\":0,\"ticks\":\"\"}}}],\"bar\":[{\"error_x\":{\"color\":\"#2a3f5f\"},\"error_y\":{\"color\":\"#2a3f5f\"},\"marker\":{\"line\":{\"color\":\"#E5ECF6\",\"width\":0.5},\"pattern\":{\"fillmode\":\"overlay\",\"size\":10,\"solidity\":0.2}},\"type\":\"bar\"}],\"scattergeo\":[{\"type\":\"scattergeo\",\"marker\":{\"colorbar\":{\"outlinewidth\":0,\"ticks\":\"\"}}}],\"scatterpolar\":[{\"type\":\"scatterpolar\",\"marker\":{\"colorbar\":{\"outlinewidth\":0,\"ticks\":\"\"}}}],\"histogram\":[{\"marker\":{\"pattern\":{\"fillmode\":\"overlay\",\"size\":10,\"solidity\":0.2}},\"type\":\"histogram\"}],\"scattergl\":[{\"type\":\"scattergl\",\"marker\":{\"colorbar\":{\"outlinewidth\":0,\"ticks\":\"\"}}}],\"scatter3d\":[{\"type\":\"scatter3d\",\"line\":{\"colorbar\":{\"outlinewidth\":0,\"ticks\":\"\"}},\"marker\":{\"colorbar\":{\"outlinewidth\":0,\"ticks\":\"\"}}}],\"scattermapbox\":[{\"type\":\"scattermapbox\",\"marker\":{\"colorbar\":{\"outlinewidth\":0,\"ticks\":\"\"}}}],\"scatterternary\":[{\"type\":\"scatterternary\",\"marker\":{\"colorbar\":{\"outlinewidth\":0,\"ticks\":\"\"}}}],\"scattercarpet\":[{\"type\":\"scattercarpet\",\"marker\":{\"colorbar\":{\"outlinewidth\":0,\"ticks\":\"\"}}}],\"carpet\":[{\"aaxis\":{\"endlinecolor\":\"#2a3f5f\",\"gridcolor\":\"white\",\"linecolor\":\"white\",\"minorgridcolor\":\"white\",\"startlinecolor\":\"#2a3f5f\"},\"baxis\":{\"endlinecolor\":\"#2a3f5f\",\"gridcolor\":\"white\",\"linecolor\":\"white\",\"minorgridcolor\":\"white\",\"startlinecolor\":\"#2a3f5f\"},\"type\":\"carpet\"}],\"table\":[{\"cells\":{\"fill\":{\"color\":\"#EBF0F8\"},\"line\":{\"color\":\"white\"}},\"header\":{\"fill\":{\"color\":\"#C8D4E3\"},\"line\":{\"color\":\"white\"}},\"type\":\"table\"}],\"barpolar\":[{\"marker\":{\"line\":{\"color\":\"#E5ECF6\",\"width\":0.5},\"pattern\":{\"fillmode\":\"overlay\",\"size\":10,\"solidity\":0.2}},\"type\":\"barpolar\"}],\"pie\":[{\"automargin\":true,\"type\":\"pie\"}]},\"layout\":{\"autotypenumbers\":\"strict\",\"colorway\":[\"#636efa\",\"#EF553B\",\"#00cc96\",\"#ab63fa\",\"#FFA15A\",\"#19d3f3\",\"#FF6692\",\"#B6E880\",\"#FF97FF\",\"#FECB52\"],\"font\":{\"color\":\"#2a3f5f\"},\"hovermode\":\"closest\",\"hoverlabel\":{\"align\":\"left\"},\"paper_bgcolor\":\"white\",\"plot_bgcolor\":\"#E5ECF6\",\"polar\":{\"bgcolor\":\"#E5ECF6\",\"angularaxis\":{\"gridcolor\":\"white\",\"linecolor\":\"white\",\"ticks\":\"\"},\"radialaxis\":{\"gridcolor\":\"white\",\"linecolor\":\"white\",\"ticks\":\"\"}},\"ternary\":{\"bgcolor\":\"#E5ECF6\",\"aaxis\":{\"gridcolor\":\"white\",\"linecolor\":\"white\",\"ticks\":\"\"},\"baxis\":{\"gridcolor\":\"white\",\"linecolor\":\"white\",\"ticks\":\"\"},\"caxis\":{\"gridcolor\":\"white\",\"linecolor\":\"white\",\"ticks\":\"\"}},\"coloraxis\":{\"colorbar\":{\"outlinewidth\":0,\"ticks\":\"\"}},\"colorscale\":{\"sequential\":[[0.0,\"#0d0887\"],[0.1111111111111111,\"#46039f\"],[0.2222222222222222,\"#7201a8\"],[0.3333333333333333,\"#9c179e\"],[0.4444444444444444,\"#bd3786\"],[0.5555555555555556,\"#d8576b\"],[0.6666666666666666,\"#ed7953\"],[0.7777777777777778,\"#fb9f3a\"],[0.8888888888888888,\"#fdca26\"],[1.0,\"#f0f921\"]],\"sequentialminus\":[[0.0,\"#0d0887\"],[0.1111111111111111,\"#46039f\"],[0.2222222222222222,\"#7201a8\"],[0.3333333333333333,\"#9c179e\"],[0.4444444444444444,\"#bd3786\"],[0.5555555555555556,\"#d8576b\"],[0.6666666666666666,\"#ed7953\"],[0.7777777777777778,\"#fb9f3a\"],[0.8888888888888888,\"#fdca26\"],[1.0,\"#f0f921\"]],\"diverging\":[[0,\"#8e0152\"],[0.1,\"#c51b7d\"],[0.2,\"#de77ae\"],[0.3,\"#f1b6da\"],[0.4,\"#fde0ef\"],[0.5,\"#f7f7f7\"],[0.6,\"#e6f5d0\"],[0.7,\"#b8e186\"],[0.8,\"#7fbc41\"],[0.9,\"#4d9221\"],[1,\"#276419\"]]},\"xaxis\":{\"gridcolor\":\"white\",\"linecolor\":\"white\",\"ticks\":\"\",\"title\":{\"standoff\":15},\"zerolinecolor\":\"white\",\"automargin\":true,\"zerolinewidth\":2},\"yaxis\":{\"gridcolor\":\"white\",\"linecolor\":\"white\",\"ticks\":\"\",\"title\":{\"standoff\":15},\"zerolinecolor\":\"white\",\"automargin\":true,\"zerolinewidth\":2},\"scene\":{\"xaxis\":{\"backgroundcolor\":\"#E5ECF6\",\"gridcolor\":\"white\",\"linecolor\":\"white\",\"showbackground\":true,\"ticks\":\"\",\"zerolinecolor\":\"white\",\"gridwidth\":2},\"yaxis\":{\"backgroundcolor\":\"#E5ECF6\",\"gridcolor\":\"white\",\"linecolor\":\"white\",\"showbackground\":true,\"ticks\":\"\",\"zerolinecolor\":\"white\",\"gridwidth\":2},\"zaxis\":{\"backgroundcolor\":\"#E5ECF6\",\"gridcolor\":\"white\",\"linecolor\":\"white\",\"showbackground\":true,\"ticks\":\"\",\"zerolinecolor\":\"white\",\"gridwidth\":2}},\"shapedefaults\":{\"line\":{\"color\":\"#2a3f5f\"}},\"annotationdefaults\":{\"arrowcolor\":\"#2a3f5f\",\"arrowhead\":0,\"arrowwidth\":1},\"geo\":{\"bgcolor\":\"white\",\"landcolor\":\"#E5ECF6\",\"subunitcolor\":\"white\",\"showland\":true,\"showlakes\":true,\"lakecolor\":\"white\"},\"title\":{\"x\":0.05},\"mapbox\":{\"style\":\"light\"}}},\"xaxis\":{\"anchor\":\"y\",\"domain\":[0.0,1.0],\"title\":{\"text\":\"value\"}},\"yaxis\":{\"anchor\":\"x\",\"domain\":[0.0,0.7326],\"title\":{\"text\":\"count\"}},\"xaxis2\":{\"anchor\":\"y2\",\"domain\":[0.0,1.0],\"matches\":\"x\",\"showticklabels\":false,\"showgrid\":true},\"yaxis2\":{\"anchor\":\"x2\",\"domain\":[0.7426,1.0],\"matches\":\"y2\",\"showticklabels\":false,\"showline\":false,\"ticks\":\"\",\"showgrid\":false},\"legend\":{\"title\":{\"text\":\"variable\"},\"tracegroupgap\":0},\"title\":{\"text\":\"Price - Without Outliers\"},\"barmode\":\"relative\"},                        {\"responsive\": true}                    ).then(function(){\n",
              "                            \n",
              "var gd = document.getElementById('b2b7314b-83c3-4cca-98b6-eb4b6103f413');\n",
              "var x = new MutationObserver(function (mutations, observer) {{\n",
              "        var display = window.getComputedStyle(gd).display;\n",
              "        if (!display || display === 'none') {{\n",
              "            console.log([gd, 'removed!']);\n",
              "            Plotly.purge(gd);\n",
              "            observer.disconnect();\n",
              "        }}\n",
              "}});\n",
              "\n",
              "// Listen for the removal of the full notebook cells\n",
              "var notebookContainer = gd.closest('#notebook-container');\n",
              "if (notebookContainer) {{\n",
              "    x.observe(notebookContainer, {childList: true});\n",
              "}}\n",
              "\n",
              "// Listen for the clearing of the current output cell\n",
              "var outputEl = gd.closest('.output');\n",
              "if (outputEl) {{\n",
              "    x.observe(outputEl, {childList: true});\n",
              "}}\n",
              "\n",
              "                        })                };                            </script>        </div>\n",
              "</body>\n",
              "</html>"
            ]
          },
          "metadata": {}
        },
        {
          "output_type": "display_data",
          "data": {
            "text/plain": [
              "<IPython.core.display.Markdown object>"
            ],
            "text/markdown": "## Country Profile"
          },
          "metadata": {}
        },
        {
          "output_type": "display_data",
          "data": {
            "text/plain": [
              "Type                              object\n",
              "Number of observations            494870\n",
              "Unique                                40\n",
              "Top                       United Kingdom\n",
              "Freq                              459787\n",
              "                                        \n",
              "Missing cells                          0\n",
              "Missing cells (%)                  0.0 %\n",
              "Duplicate rows                    494870\n",
              "Duplicate rows (%)               100.0 %\n",
              "Total size in memory       7917920 bytes\n",
              "dtype: object"
            ]
          },
          "metadata": {}
        },
        {
          "output_type": "display_data",
          "data": {
            "text/html": [
              "<html>\n",
              "<head><meta charset=\"utf-8\" /></head>\n",
              "<body>\n",
              "    <div>            <script src=\"https://cdnjs.cloudflare.com/ajax/libs/mathjax/2.7.5/MathJax.js?config=TeX-AMS-MML_SVG\"></script><script type=\"text/javascript\">if (window.MathJax && window.MathJax.Hub && window.MathJax.Hub.Config) {window.MathJax.Hub.Config({SVG: {font: \"STIX-Web\"}});}</script>                <script type=\"text/javascript\">window.PlotlyConfig = {MathJaxConfig: 'local'};</script>\n",
              "        <script src=\"https://cdn.plot.ly/plotly-2.14.0.min.js\"></script>                <div id=\"eade901a-2324-497c-9798-83ae42ecb13e\" class=\"plotly-graph-div\" style=\"height:525px; width:100%;\"></div>            <script type=\"text/javascript\">                                    window.PLOTLYENV=window.PLOTLYENV || {};                                    if (document.getElementById(\"eade901a-2324-497c-9798-83ae42ecb13e\")) {                    Plotly.newPlot(                        \"eade901a-2324-497c-9798-83ae42ecb13e\",                        [{\"alignmentgroup\":\"True\",\"hovertemplate\":\"x=%{x}<br>y=%{y}<extra></extra>\",\"legendgroup\":\"\",\"marker\":{\"color\":\"#636efa\",\"pattern\":{\"shape\":\"\"}},\"name\":\"\",\"offsetgroup\":\"\",\"orientation\":\"v\",\"showlegend\":false,\"textposition\":\"auto\",\"x\":[\"United Kingdom\",\"EIRE\",\"Germany\",\"France\",\"Netherlands\",\"Spain\",\"Switzerland\",\"Portugal\",\"Belgium\",\"Channel Islands\",\"Italy\",\"Sweden\",\"Australia\",\"Cyprus\",\"Greece\",\"Austria\",\"United Arab Emirates\",\"Norway\",\"Denmark\",\"Finland\",\"Unspecified\",\"USA\",\"Poland\",\"Malta\",\"Lithuania\",\"Japan\",\"Singapore\",\"Bahrain\",\"RSA\",\"Canada\",\"Israel\",\"Iceland\",\"Thailand\",\"Brazil\",\"Hong Kong\",\"West Indies\",\"Korea\",\"Bermuda\",\"Nigeria\",\"Lebanon\"],\"xaxis\":\"x\",\"y\":[459787,8849,7264,5210,1789,1152,1090,1027,975,770,678,673,563,526,507,500,388,355,340,339,304,225,181,167,154,143,116,105,105,77,72,71,66,62,61,54,53,32,29,11],\"yaxis\":\"y\",\"type\":\"bar\"}],                        {\"template\":{\"data\":{\"histogram2dcontour\":[{\"type\":\"histogram2dcontour\",\"colorbar\":{\"outlinewidth\":0,\"ticks\":\"\"},\"colorscale\":[[0.0,\"#0d0887\"],[0.1111111111111111,\"#46039f\"],[0.2222222222222222,\"#7201a8\"],[0.3333333333333333,\"#9c179e\"],[0.4444444444444444,\"#bd3786\"],[0.5555555555555556,\"#d8576b\"],[0.6666666666666666,\"#ed7953\"],[0.7777777777777778,\"#fb9f3a\"],[0.8888888888888888,\"#fdca26\"],[1.0,\"#f0f921\"]]}],\"choropleth\":[{\"type\":\"choropleth\",\"colorbar\":{\"outlinewidth\":0,\"ticks\":\"\"}}],\"histogram2d\":[{\"type\":\"histogram2d\",\"colorbar\":{\"outlinewidth\":0,\"ticks\":\"\"},\"colorscale\":[[0.0,\"#0d0887\"],[0.1111111111111111,\"#46039f\"],[0.2222222222222222,\"#7201a8\"],[0.3333333333333333,\"#9c179e\"],[0.4444444444444444,\"#bd3786\"],[0.5555555555555556,\"#d8576b\"],[0.6666666666666666,\"#ed7953\"],[0.7777777777777778,\"#fb9f3a\"],[0.8888888888888888,\"#fdca26\"],[1.0,\"#f0f921\"]]}],\"heatmap\":[{\"type\":\"heatmap\",\"colorbar\":{\"outlinewidth\":0,\"ticks\":\"\"},\"colorscale\":[[0.0,\"#0d0887\"],[0.1111111111111111,\"#46039f\"],[0.2222222222222222,\"#7201a8\"],[0.3333333333333333,\"#9c179e\"],[0.4444444444444444,\"#bd3786\"],[0.5555555555555556,\"#d8576b\"],[0.6666666666666666,\"#ed7953\"],[0.7777777777777778,\"#fb9f3a\"],[0.8888888888888888,\"#fdca26\"],[1.0,\"#f0f921\"]]}],\"heatmapgl\":[{\"type\":\"heatmapgl\",\"colorbar\":{\"outlinewidth\":0,\"ticks\":\"\"},\"colorscale\":[[0.0,\"#0d0887\"],[0.1111111111111111,\"#46039f\"],[0.2222222222222222,\"#7201a8\"],[0.3333333333333333,\"#9c179e\"],[0.4444444444444444,\"#bd3786\"],[0.5555555555555556,\"#d8576b\"],[0.6666666666666666,\"#ed7953\"],[0.7777777777777778,\"#fb9f3a\"],[0.8888888888888888,\"#fdca26\"],[1.0,\"#f0f921\"]]}],\"contourcarpet\":[{\"type\":\"contourcarpet\",\"colorbar\":{\"outlinewidth\":0,\"ticks\":\"\"}}],\"contour\":[{\"type\":\"contour\",\"colorbar\":{\"outlinewidth\":0,\"ticks\":\"\"},\"colorscale\":[[0.0,\"#0d0887\"],[0.1111111111111111,\"#46039f\"],[0.2222222222222222,\"#7201a8\"],[0.3333333333333333,\"#9c179e\"],[0.4444444444444444,\"#bd3786\"],[0.5555555555555556,\"#d8576b\"],[0.6666666666666666,\"#ed7953\"],[0.7777777777777778,\"#fb9f3a\"],[0.8888888888888888,\"#fdca26\"],[1.0,\"#f0f921\"]]}],\"surface\":[{\"type\":\"surface\",\"colorbar\":{\"outlinewidth\":0,\"ticks\":\"\"},\"colorscale\":[[0.0,\"#0d0887\"],[0.1111111111111111,\"#46039f\"],[0.2222222222222222,\"#7201a8\"],[0.3333333333333333,\"#9c179e\"],[0.4444444444444444,\"#bd3786\"],[0.5555555555555556,\"#d8576b\"],[0.6666666666666666,\"#ed7953\"],[0.7777777777777778,\"#fb9f3a\"],[0.8888888888888888,\"#fdca26\"],[1.0,\"#f0f921\"]]}],\"mesh3d\":[{\"type\":\"mesh3d\",\"colorbar\":{\"outlinewidth\":0,\"ticks\":\"\"}}],\"scatter\":[{\"fillpattern\":{\"fillmode\":\"overlay\",\"size\":10,\"solidity\":0.2},\"type\":\"scatter\"}],\"parcoords\":[{\"type\":\"parcoords\",\"line\":{\"colorbar\":{\"outlinewidth\":0,\"ticks\":\"\"}}}],\"scatterpolargl\":[{\"type\":\"scatterpolargl\",\"marker\":{\"colorbar\":{\"outlinewidth\":0,\"ticks\":\"\"}}}],\"bar\":[{\"error_x\":{\"color\":\"#2a3f5f\"},\"error_y\":{\"color\":\"#2a3f5f\"},\"marker\":{\"line\":{\"color\":\"#E5ECF6\",\"width\":0.5},\"pattern\":{\"fillmode\":\"overlay\",\"size\":10,\"solidity\":0.2}},\"type\":\"bar\"}],\"scattergeo\":[{\"type\":\"scattergeo\",\"marker\":{\"colorbar\":{\"outlinewidth\":0,\"ticks\":\"\"}}}],\"scatterpolar\":[{\"type\":\"scatterpolar\",\"marker\":{\"colorbar\":{\"outlinewidth\":0,\"ticks\":\"\"}}}],\"histogram\":[{\"marker\":{\"pattern\":{\"fillmode\":\"overlay\",\"size\":10,\"solidity\":0.2}},\"type\":\"histogram\"}],\"scattergl\":[{\"type\":\"scattergl\",\"marker\":{\"colorbar\":{\"outlinewidth\":0,\"ticks\":\"\"}}}],\"scatter3d\":[{\"type\":\"scatter3d\",\"line\":{\"colorbar\":{\"outlinewidth\":0,\"ticks\":\"\"}},\"marker\":{\"colorbar\":{\"outlinewidth\":0,\"ticks\":\"\"}}}],\"scattermapbox\":[{\"type\":\"scattermapbox\",\"marker\":{\"colorbar\":{\"outlinewidth\":0,\"ticks\":\"\"}}}],\"scatterternary\":[{\"type\":\"scatterternary\",\"marker\":{\"colorbar\":{\"outlinewidth\":0,\"ticks\":\"\"}}}],\"scattercarpet\":[{\"type\":\"scattercarpet\",\"marker\":{\"colorbar\":{\"outlinewidth\":0,\"ticks\":\"\"}}}],\"carpet\":[{\"aaxis\":{\"endlinecolor\":\"#2a3f5f\",\"gridcolor\":\"white\",\"linecolor\":\"white\",\"minorgridcolor\":\"white\",\"startlinecolor\":\"#2a3f5f\"},\"baxis\":{\"endlinecolor\":\"#2a3f5f\",\"gridcolor\":\"white\",\"linecolor\":\"white\",\"minorgridcolor\":\"white\",\"startlinecolor\":\"#2a3f5f\"},\"type\":\"carpet\"}],\"table\":[{\"cells\":{\"fill\":{\"color\":\"#EBF0F8\"},\"line\":{\"color\":\"white\"}},\"header\":{\"fill\":{\"color\":\"#C8D4E3\"},\"line\":{\"color\":\"white\"}},\"type\":\"table\"}],\"barpolar\":[{\"marker\":{\"line\":{\"color\":\"#E5ECF6\",\"width\":0.5},\"pattern\":{\"fillmode\":\"overlay\",\"size\":10,\"solidity\":0.2}},\"type\":\"barpolar\"}],\"pie\":[{\"automargin\":true,\"type\":\"pie\"}]},\"layout\":{\"autotypenumbers\":\"strict\",\"colorway\":[\"#636efa\",\"#EF553B\",\"#00cc96\",\"#ab63fa\",\"#FFA15A\",\"#19d3f3\",\"#FF6692\",\"#B6E880\",\"#FF97FF\",\"#FECB52\"],\"font\":{\"color\":\"#2a3f5f\"},\"hovermode\":\"closest\",\"hoverlabel\":{\"align\":\"left\"},\"paper_bgcolor\":\"white\",\"plot_bgcolor\":\"#E5ECF6\",\"polar\":{\"bgcolor\":\"#E5ECF6\",\"angularaxis\":{\"gridcolor\":\"white\",\"linecolor\":\"white\",\"ticks\":\"\"},\"radialaxis\":{\"gridcolor\":\"white\",\"linecolor\":\"white\",\"ticks\":\"\"}},\"ternary\":{\"bgcolor\":\"#E5ECF6\",\"aaxis\":{\"gridcolor\":\"white\",\"linecolor\":\"white\",\"ticks\":\"\"},\"baxis\":{\"gridcolor\":\"white\",\"linecolor\":\"white\",\"ticks\":\"\"},\"caxis\":{\"gridcolor\":\"white\",\"linecolor\":\"white\",\"ticks\":\"\"}},\"coloraxis\":{\"colorbar\":{\"outlinewidth\":0,\"ticks\":\"\"}},\"colorscale\":{\"sequential\":[[0.0,\"#0d0887\"],[0.1111111111111111,\"#46039f\"],[0.2222222222222222,\"#7201a8\"],[0.3333333333333333,\"#9c179e\"],[0.4444444444444444,\"#bd3786\"],[0.5555555555555556,\"#d8576b\"],[0.6666666666666666,\"#ed7953\"],[0.7777777777777778,\"#fb9f3a\"],[0.8888888888888888,\"#fdca26\"],[1.0,\"#f0f921\"]],\"sequentialminus\":[[0.0,\"#0d0887\"],[0.1111111111111111,\"#46039f\"],[0.2222222222222222,\"#7201a8\"],[0.3333333333333333,\"#9c179e\"],[0.4444444444444444,\"#bd3786\"],[0.5555555555555556,\"#d8576b\"],[0.6666666666666666,\"#ed7953\"],[0.7777777777777778,\"#fb9f3a\"],[0.8888888888888888,\"#fdca26\"],[1.0,\"#f0f921\"]],\"diverging\":[[0,\"#8e0152\"],[0.1,\"#c51b7d\"],[0.2,\"#de77ae\"],[0.3,\"#f1b6da\"],[0.4,\"#fde0ef\"],[0.5,\"#f7f7f7\"],[0.6,\"#e6f5d0\"],[0.7,\"#b8e186\"],[0.8,\"#7fbc41\"],[0.9,\"#4d9221\"],[1,\"#276419\"]]},\"xaxis\":{\"gridcolor\":\"white\",\"linecolor\":\"white\",\"ticks\":\"\",\"title\":{\"standoff\":15},\"zerolinecolor\":\"white\",\"automargin\":true,\"zerolinewidth\":2},\"yaxis\":{\"gridcolor\":\"white\",\"linecolor\":\"white\",\"ticks\":\"\",\"title\":{\"standoff\":15},\"zerolinecolor\":\"white\",\"automargin\":true,\"zerolinewidth\":2},\"scene\":{\"xaxis\":{\"backgroundcolor\":\"#E5ECF6\",\"gridcolor\":\"white\",\"linecolor\":\"white\",\"showbackground\":true,\"ticks\":\"\",\"zerolinecolor\":\"white\",\"gridwidth\":2},\"yaxis\":{\"backgroundcolor\":\"#E5ECF6\",\"gridcolor\":\"white\",\"linecolor\":\"white\",\"showbackground\":true,\"ticks\":\"\",\"zerolinecolor\":\"white\",\"gridwidth\":2},\"zaxis\":{\"backgroundcolor\":\"#E5ECF6\",\"gridcolor\":\"white\",\"linecolor\":\"white\",\"showbackground\":true,\"ticks\":\"\",\"zerolinecolor\":\"white\",\"gridwidth\":2}},\"shapedefaults\":{\"line\":{\"color\":\"#2a3f5f\"}},\"annotationdefaults\":{\"arrowcolor\":\"#2a3f5f\",\"arrowhead\":0,\"arrowwidth\":1},\"geo\":{\"bgcolor\":\"white\",\"landcolor\":\"#E5ECF6\",\"subunitcolor\":\"white\",\"showland\":true,\"showlakes\":true,\"lakecolor\":\"white\"},\"title\":{\"x\":0.05},\"mapbox\":{\"style\":\"light\"}}},\"xaxis\":{\"anchor\":\"y\",\"domain\":[0.0,1.0],\"title\":{\"text\":\"x\"}},\"yaxis\":{\"anchor\":\"x\",\"domain\":[0.0,1.0],\"title\":{\"text\":\"y\"}},\"legend\":{\"tracegroupgap\":0},\"title\":{\"text\":\"100 Most common categories of Country\"},\"barmode\":\"relative\"},                        {\"responsive\": true}                    ).then(function(){\n",
              "                            \n",
              "var gd = document.getElementById('eade901a-2324-497c-9798-83ae42ecb13e');\n",
              "var x = new MutationObserver(function (mutations, observer) {{\n",
              "        var display = window.getComputedStyle(gd).display;\n",
              "        if (!display || display === 'none') {{\n",
              "            console.log([gd, 'removed!']);\n",
              "            Plotly.purge(gd);\n",
              "            observer.disconnect();\n",
              "        }}\n",
              "}});\n",
              "\n",
              "// Listen for the removal of the full notebook cells\n",
              "var notebookContainer = gd.closest('#notebook-container');\n",
              "if (notebookContainer) {{\n",
              "    x.observe(notebookContainer, {childList: true});\n",
              "}}\n",
              "\n",
              "// Listen for the clearing of the current output cell\n",
              "var outputEl = gd.closest('.output');\n",
              "if (outputEl) {{\n",
              "    x.observe(outputEl, {childList: true});\n",
              "}}\n",
              "\n",
              "                        })                };                            </script>        </div>\n",
              "</body>\n",
              "</html>"
            ]
          },
          "metadata": {}
        },
        {
          "output_type": "execute_result",
          "data": {
            "text/plain": [
              "Invoice        None\n",
              "StockCode      None\n",
              "Description    None\n",
              "Quantity       None\n",
              "InvoiceDate    None\n",
              "Price          None\n",
              "Country        None\n",
              "dtype: object"
            ]
          },
          "metadata": {},
          "execution_count": 15
        }
      ]
    },
    {
      "cell_type": "markdown",
      "metadata": {
        "cell_id": "00028-b5630b67-565d-42f3-a387-f67a80dda8ea",
        "deepnote_cell_height": 61.03334045410156,
        "deepnote_cell_type": "markdown",
        "id": "dkyp81nkBghF"
      },
      "source": [
        "### 1.2.4 Obtención de TOPs [0.75 ptos]"
      ]
    },
    {
      "cell_type": "markdown",
      "metadata": {
        "cell_id": "00029-71382778-46fe-4d49-9481-afec1667525a",
        "deepnote_cell_height": 177.43333435058594,
        "deepnote_cell_type": "markdown",
        "id": "FqWpKnmn6W0y"
      },
      "source": [
        "Sin considerar los comentarios realizados en la sección 1.2 , *Don Mora* les pide obtener el **Top de 30 productos que generan más ganancias** para la tienda de retail. Deben considerar todo el registro temporal presente en el dataset y entregar la información en un gráfico de barras de los ingresos/cantidades v/s el nombre de los productos (Utilice `plotly`). ¿Los artículos más vendidos son los mismos que generan más ganancias?, Comente los resultados obtenidos.\n",
        "\n",
        "**Resultados:**\n",
        "- Se debe tomar en cuenta que para este análisis se considerará como \"producto único\" (identificable) en base al _código de producto_ (`StockCode`). Es decir, si dos productos tienen distinto nombre, pero comparten el mismo código, se considerará que corresponden al mismo producto.\n",
        "- Primero se calcula la cantidad total de ingresos por cada producto en cada factura, considerando su precio unitario y la cantidad vendida. \n",
        "- Luego se suma esta cantidad agrupando por producto, considerando todo el periodo disponible en los datos. Con ello, se ordena por esta cantidad obtenida de mayor a menor, y luego se selecciona los primeros 30 resultados.\n",
        "- Finalmente se hace un cruce con el nombre de los productos para poder graficar; En caso de cruces duplicados (código de producto asociado a más de 1 nombre de producto), se considera el primer nombre de producto en orden alfabético.\n",
        "- Se observa que existen 2 productos que generan valores de ganancia muy por sobre el resto de los productos. Estos corresponden a _REGENCY CAKESTAND 3 TIER_ y _WHITE HANGING HEART T-LIGHT HOLDER_, los cuales tienen ingresos totales por sobre las 100.000 libras. En cambio, el tercer producto que genera mayor ganancia es _PARTY BUNTING_, que genera menos de la mitad de esta cantidad de ganancia, siendo alrededor de 45.000 libras. El último producto del \"top\" corresponde a _BAKING SET 9 PIECE RETROSPOT_, que generó alrededor de 20.000 libras de ingreso."
      ]
    },
    {
      "cell_type": "code",
      "execution_count": 16,
      "metadata": {
        "cell_id": "00029-6e40375f-f1de-4643-8460-b3b2f74ec335",
        "deepnote_cell_height": 65.03334045410156,
        "deepnote_cell_type": "code",
        "tags": [],
        "id": "058roqRrUZbx",
        "colab": {
          "base_uri": "https://localhost:8080/"
        },
        "outputId": "28c57f2b-1156-4d50-c507-fd35651d247c"
      },
      "outputs": [
        {
          "output_type": "execute_result",
          "data": {
            "text/plain": [
              "count    494870.000000\n",
              "mean         14.794256\n",
              "std          23.153252\n",
              "min           0.000000\n",
              "25%           3.750000\n",
              "50%           9.900000\n",
              "75%          17.000000\n",
              "max         867.000000\n",
              "Name: ingreso_total_producto, dtype: float64"
            ]
          },
          "metadata": {},
          "execution_count": 16
        }
      ],
      "source": [
        "# Se obtiene y explora el ingreso total por producto\n",
        "df_proc[\"ingreso_total_producto\"] = df_proc[\"Quantity\"] * df_proc[\"Price\"]\n",
        "df_proc[\"ingreso_total_producto\"].describe()"
      ]
    },
    {
      "cell_type": "code",
      "source": [
        "# Se obtiene el total por producto considerando todas las facturas\n",
        "# Se selecciona los 30 que generan mayore ingreso\n",
        "top_30 = df_proc.groupby([\"StockCode\"]).agg({\n",
        "    \"ingreso_total_producto\": \"sum\"\n",
        "}).reset_index().sort_values(by=[\n",
        "    \"ingreso_total_producto\"\n",
        "], ascending=False).head(30)\n",
        "\n",
        "top_30"
      ],
      "metadata": {
        "colab": {
          "base_uri": "https://localhost:8080/",
          "height": 979
        },
        "id": "SYNYq-FSEh27",
        "outputId": "a3293830-07e6-44c6-802f-e64d57e0b725"
      },
      "execution_count": 17,
      "outputs": [
        {
          "output_type": "execute_result",
          "data": {
            "text/plain": [
              "     StockCode  ingreso_total_producto\n",
              "1608     22423               117636.47\n",
              "4149    85123A               111553.20\n",
              "2314     47566                41597.66\n",
              "1108     21843                37483.88\n",
              "2328     48138                37070.03\n",
              "2676     84879                36047.04\n",
              "4134    85099B                35783.78\n",
              "112      20685                34726.65\n",
              "1030     21754                31029.77\n",
              "1294     22086                29633.58\n",
              "564      21232                29548.84\n",
              "1322     22114                28361.56\n",
              "902      21621                28313.69\n",
              "1347     22139                27479.50\n",
              "1320     22112                26876.94\n",
              "1319     22111                26356.47\n",
              "300      20914                26306.66\n",
              "1011     21733                25697.47\n",
              "2968    15056N                24970.50\n",
              "2433     79321                24652.87\n",
              "3596    82494L                24360.51\n",
              "147      20725                24033.16\n",
              "1031     21755                23069.28\n",
              "1298     22090                21720.14\n",
              "2276     37503                21213.60\n",
              "1652     22470                20790.88\n",
              "3614    84029E                20760.24\n",
              "2967   15056BL                20720.05\n",
              "2706     84946                20671.32\n",
              "1346     22138                20349.44"
            ],
            "text/html": [
              "\n",
              "  <div id=\"df-4b8573e9-5215-4437-8469-f676a78428fd\">\n",
              "    <div class=\"colab-df-container\">\n",
              "      <div>\n",
              "<style scoped>\n",
              "    .dataframe tbody tr th:only-of-type {\n",
              "        vertical-align: middle;\n",
              "    }\n",
              "\n",
              "    .dataframe tbody tr th {\n",
              "        vertical-align: top;\n",
              "    }\n",
              "\n",
              "    .dataframe thead th {\n",
              "        text-align: right;\n",
              "    }\n",
              "</style>\n",
              "<table border=\"1\" class=\"dataframe\">\n",
              "  <thead>\n",
              "    <tr style=\"text-align: right;\">\n",
              "      <th></th>\n",
              "      <th>StockCode</th>\n",
              "      <th>ingreso_total_producto</th>\n",
              "    </tr>\n",
              "  </thead>\n",
              "  <tbody>\n",
              "    <tr>\n",
              "      <th>1608</th>\n",
              "      <td>22423</td>\n",
              "      <td>117636.47</td>\n",
              "    </tr>\n",
              "    <tr>\n",
              "      <th>4149</th>\n",
              "      <td>85123A</td>\n",
              "      <td>111553.20</td>\n",
              "    </tr>\n",
              "    <tr>\n",
              "      <th>2314</th>\n",
              "      <td>47566</td>\n",
              "      <td>41597.66</td>\n",
              "    </tr>\n",
              "    <tr>\n",
              "      <th>1108</th>\n",
              "      <td>21843</td>\n",
              "      <td>37483.88</td>\n",
              "    </tr>\n",
              "    <tr>\n",
              "      <th>2328</th>\n",
              "      <td>48138</td>\n",
              "      <td>37070.03</td>\n",
              "    </tr>\n",
              "    <tr>\n",
              "      <th>2676</th>\n",
              "      <td>84879</td>\n",
              "      <td>36047.04</td>\n",
              "    </tr>\n",
              "    <tr>\n",
              "      <th>4134</th>\n",
              "      <td>85099B</td>\n",
              "      <td>35783.78</td>\n",
              "    </tr>\n",
              "    <tr>\n",
              "      <th>112</th>\n",
              "      <td>20685</td>\n",
              "      <td>34726.65</td>\n",
              "    </tr>\n",
              "    <tr>\n",
              "      <th>1030</th>\n",
              "      <td>21754</td>\n",
              "      <td>31029.77</td>\n",
              "    </tr>\n",
              "    <tr>\n",
              "      <th>1294</th>\n",
              "      <td>22086</td>\n",
              "      <td>29633.58</td>\n",
              "    </tr>\n",
              "    <tr>\n",
              "      <th>564</th>\n",
              "      <td>21232</td>\n",
              "      <td>29548.84</td>\n",
              "    </tr>\n",
              "    <tr>\n",
              "      <th>1322</th>\n",
              "      <td>22114</td>\n",
              "      <td>28361.56</td>\n",
              "    </tr>\n",
              "    <tr>\n",
              "      <th>902</th>\n",
              "      <td>21621</td>\n",
              "      <td>28313.69</td>\n",
              "    </tr>\n",
              "    <tr>\n",
              "      <th>1347</th>\n",
              "      <td>22139</td>\n",
              "      <td>27479.50</td>\n",
              "    </tr>\n",
              "    <tr>\n",
              "      <th>1320</th>\n",
              "      <td>22112</td>\n",
              "      <td>26876.94</td>\n",
              "    </tr>\n",
              "    <tr>\n",
              "      <th>1319</th>\n",
              "      <td>22111</td>\n",
              "      <td>26356.47</td>\n",
              "    </tr>\n",
              "    <tr>\n",
              "      <th>300</th>\n",
              "      <td>20914</td>\n",
              "      <td>26306.66</td>\n",
              "    </tr>\n",
              "    <tr>\n",
              "      <th>1011</th>\n",
              "      <td>21733</td>\n",
              "      <td>25697.47</td>\n",
              "    </tr>\n",
              "    <tr>\n",
              "      <th>2968</th>\n",
              "      <td>15056N</td>\n",
              "      <td>24970.50</td>\n",
              "    </tr>\n",
              "    <tr>\n",
              "      <th>2433</th>\n",
              "      <td>79321</td>\n",
              "      <td>24652.87</td>\n",
              "    </tr>\n",
              "    <tr>\n",
              "      <th>3596</th>\n",
              "      <td>82494L</td>\n",
              "      <td>24360.51</td>\n",
              "    </tr>\n",
              "    <tr>\n",
              "      <th>147</th>\n",
              "      <td>20725</td>\n",
              "      <td>24033.16</td>\n",
              "    </tr>\n",
              "    <tr>\n",
              "      <th>1031</th>\n",
              "      <td>21755</td>\n",
              "      <td>23069.28</td>\n",
              "    </tr>\n",
              "    <tr>\n",
              "      <th>1298</th>\n",
              "      <td>22090</td>\n",
              "      <td>21720.14</td>\n",
              "    </tr>\n",
              "    <tr>\n",
              "      <th>2276</th>\n",
              "      <td>37503</td>\n",
              "      <td>21213.60</td>\n",
              "    </tr>\n",
              "    <tr>\n",
              "      <th>1652</th>\n",
              "      <td>22470</td>\n",
              "      <td>20790.88</td>\n",
              "    </tr>\n",
              "    <tr>\n",
              "      <th>3614</th>\n",
              "      <td>84029E</td>\n",
              "      <td>20760.24</td>\n",
              "    </tr>\n",
              "    <tr>\n",
              "      <th>2967</th>\n",
              "      <td>15056BL</td>\n",
              "      <td>20720.05</td>\n",
              "    </tr>\n",
              "    <tr>\n",
              "      <th>2706</th>\n",
              "      <td>84946</td>\n",
              "      <td>20671.32</td>\n",
              "    </tr>\n",
              "    <tr>\n",
              "      <th>1346</th>\n",
              "      <td>22138</td>\n",
              "      <td>20349.44</td>\n",
              "    </tr>\n",
              "  </tbody>\n",
              "</table>\n",
              "</div>\n",
              "      <button class=\"colab-df-convert\" onclick=\"convertToInteractive('df-4b8573e9-5215-4437-8469-f676a78428fd')\"\n",
              "              title=\"Convert this dataframe to an interactive table.\"\n",
              "              style=\"display:none;\">\n",
              "        \n",
              "  <svg xmlns=\"http://www.w3.org/2000/svg\" height=\"24px\"viewBox=\"0 0 24 24\"\n",
              "       width=\"24px\">\n",
              "    <path d=\"M0 0h24v24H0V0z\" fill=\"none\"/>\n",
              "    <path d=\"M18.56 5.44l.94 2.06.94-2.06 2.06-.94-2.06-.94-.94-2.06-.94 2.06-2.06.94zm-11 1L8.5 8.5l.94-2.06 2.06-.94-2.06-.94L8.5 2.5l-.94 2.06-2.06.94zm10 10l.94 2.06.94-2.06 2.06-.94-2.06-.94-.94-2.06-.94 2.06-2.06.94z\"/><path d=\"M17.41 7.96l-1.37-1.37c-.4-.4-.92-.59-1.43-.59-.52 0-1.04.2-1.43.59L10.3 9.45l-7.72 7.72c-.78.78-.78 2.05 0 2.83L4 21.41c.39.39.9.59 1.41.59.51 0 1.02-.2 1.41-.59l7.78-7.78 2.81-2.81c.8-.78.8-2.07 0-2.86zM5.41 20L4 18.59l7.72-7.72 1.47 1.35L5.41 20z\"/>\n",
              "  </svg>\n",
              "      </button>\n",
              "      \n",
              "  <style>\n",
              "    .colab-df-container {\n",
              "      display:flex;\n",
              "      flex-wrap:wrap;\n",
              "      gap: 12px;\n",
              "    }\n",
              "\n",
              "    .colab-df-convert {\n",
              "      background-color: #E8F0FE;\n",
              "      border: none;\n",
              "      border-radius: 50%;\n",
              "      cursor: pointer;\n",
              "      display: none;\n",
              "      fill: #1967D2;\n",
              "      height: 32px;\n",
              "      padding: 0 0 0 0;\n",
              "      width: 32px;\n",
              "    }\n",
              "\n",
              "    .colab-df-convert:hover {\n",
              "      background-color: #E2EBFA;\n",
              "      box-shadow: 0px 1px 2px rgba(60, 64, 67, 0.3), 0px 1px 3px 1px rgba(60, 64, 67, 0.15);\n",
              "      fill: #174EA6;\n",
              "    }\n",
              "\n",
              "    [theme=dark] .colab-df-convert {\n",
              "      background-color: #3B4455;\n",
              "      fill: #D2E3FC;\n",
              "    }\n",
              "\n",
              "    [theme=dark] .colab-df-convert:hover {\n",
              "      background-color: #434B5C;\n",
              "      box-shadow: 0px 1px 3px 1px rgba(0, 0, 0, 0.15);\n",
              "      filter: drop-shadow(0px 1px 2px rgba(0, 0, 0, 0.3));\n",
              "      fill: #FFFFFF;\n",
              "    }\n",
              "  </style>\n",
              "\n",
              "      <script>\n",
              "        const buttonEl =\n",
              "          document.querySelector('#df-4b8573e9-5215-4437-8469-f676a78428fd button.colab-df-convert');\n",
              "        buttonEl.style.display =\n",
              "          google.colab.kernel.accessAllowed ? 'block' : 'none';\n",
              "\n",
              "        async function convertToInteractive(key) {\n",
              "          const element = document.querySelector('#df-4b8573e9-5215-4437-8469-f676a78428fd');\n",
              "          const dataTable =\n",
              "            await google.colab.kernel.invokeFunction('convertToInteractive',\n",
              "                                                     [key], {});\n",
              "          if (!dataTable) return;\n",
              "\n",
              "          const docLinkHtml = 'Like what you see? Visit the ' +\n",
              "            '<a target=\"_blank\" href=https://colab.research.google.com/notebooks/data_table.ipynb>data table notebook</a>'\n",
              "            + ' to learn more about interactive tables.';\n",
              "          element.innerHTML = '';\n",
              "          dataTable['output_type'] = 'display_data';\n",
              "          await google.colab.output.renderOutput(dataTable, element);\n",
              "          const docLink = document.createElement('div');\n",
              "          docLink.innerHTML = docLinkHtml;\n",
              "          element.appendChild(docLink);\n",
              "        }\n",
              "      </script>\n",
              "    </div>\n",
              "  </div>\n",
              "  "
            ]
          },
          "metadata": {},
          "execution_count": 17
        }
      ]
    },
    {
      "cell_type": "code",
      "source": [
        "# Se prepara datos para gráfico\n",
        "df_plot_top_30 = pd.merge(\n",
        "    top_30,\n",
        "    df_proc[[\"StockCode\", \"Description\"]].drop_duplicates(),\n",
        "    how=\"left\"\n",
        ").sort_values(by=[\n",
        "    \"Description\"\n",
        "]).drop_duplicates(subset=[\n",
        "    \"StockCode\"\n",
        "], keep=\"first\").drop(columns=[\n",
        "    \"StockCode\"\n",
        "]).sort_values(by=[\n",
        "    \"ingreso_total_producto\"\n",
        "], ascending=False)\n",
        "\n",
        "assert df_plot_top_30.shape[0] == top_30.shape[0] == 30"
      ],
      "metadata": {
        "id": "yFQLu_8RF3Dg"
      },
      "execution_count": 18,
      "outputs": []
    },
    {
      "cell_type": "code",
      "source": [
        "df_plot_top_30.head(3)"
      ],
      "metadata": {
        "colab": {
          "base_uri": "https://localhost:8080/",
          "height": 142
        },
        "id": "HCsmCBYjJTQH",
        "outputId": "f0867666-d102-4794-c5c9-3d7fa6ca8145"
      },
      "execution_count": 19,
      "outputs": [
        {
          "output_type": "execute_result",
          "data": {
            "text/plain": [
              "   ingreso_total_producto                         Description\n",
              "0               117636.47            REGENCY CAKESTAND 3 TIER\n",
              "1               111553.20  WHITE HANGING HEART T-LIGHT HOLDER\n",
              "2                41597.66                       PARTY BUNTING"
            ],
            "text/html": [
              "\n",
              "  <div id=\"df-f42fe06c-b102-4f14-b27a-00fc68243e9f\">\n",
              "    <div class=\"colab-df-container\">\n",
              "      <div>\n",
              "<style scoped>\n",
              "    .dataframe tbody tr th:only-of-type {\n",
              "        vertical-align: middle;\n",
              "    }\n",
              "\n",
              "    .dataframe tbody tr th {\n",
              "        vertical-align: top;\n",
              "    }\n",
              "\n",
              "    .dataframe thead th {\n",
              "        text-align: right;\n",
              "    }\n",
              "</style>\n",
              "<table border=\"1\" class=\"dataframe\">\n",
              "  <thead>\n",
              "    <tr style=\"text-align: right;\">\n",
              "      <th></th>\n",
              "      <th>ingreso_total_producto</th>\n",
              "      <th>Description</th>\n",
              "    </tr>\n",
              "  </thead>\n",
              "  <tbody>\n",
              "    <tr>\n",
              "      <th>0</th>\n",
              "      <td>117636.47</td>\n",
              "      <td>REGENCY CAKESTAND 3 TIER</td>\n",
              "    </tr>\n",
              "    <tr>\n",
              "      <th>1</th>\n",
              "      <td>111553.20</td>\n",
              "      <td>WHITE HANGING HEART T-LIGHT HOLDER</td>\n",
              "    </tr>\n",
              "    <tr>\n",
              "      <th>2</th>\n",
              "      <td>41597.66</td>\n",
              "      <td>PARTY BUNTING</td>\n",
              "    </tr>\n",
              "  </tbody>\n",
              "</table>\n",
              "</div>\n",
              "      <button class=\"colab-df-convert\" onclick=\"convertToInteractive('df-f42fe06c-b102-4f14-b27a-00fc68243e9f')\"\n",
              "              title=\"Convert this dataframe to an interactive table.\"\n",
              "              style=\"display:none;\">\n",
              "        \n",
              "  <svg xmlns=\"http://www.w3.org/2000/svg\" height=\"24px\"viewBox=\"0 0 24 24\"\n",
              "       width=\"24px\">\n",
              "    <path d=\"M0 0h24v24H0V0z\" fill=\"none\"/>\n",
              "    <path d=\"M18.56 5.44l.94 2.06.94-2.06 2.06-.94-2.06-.94-.94-2.06-.94 2.06-2.06.94zm-11 1L8.5 8.5l.94-2.06 2.06-.94-2.06-.94L8.5 2.5l-.94 2.06-2.06.94zm10 10l.94 2.06.94-2.06 2.06-.94-2.06-.94-.94-2.06-.94 2.06-2.06.94z\"/><path d=\"M17.41 7.96l-1.37-1.37c-.4-.4-.92-.59-1.43-.59-.52 0-1.04.2-1.43.59L10.3 9.45l-7.72 7.72c-.78.78-.78 2.05 0 2.83L4 21.41c.39.39.9.59 1.41.59.51 0 1.02-.2 1.41-.59l7.78-7.78 2.81-2.81c.8-.78.8-2.07 0-2.86zM5.41 20L4 18.59l7.72-7.72 1.47 1.35L5.41 20z\"/>\n",
              "  </svg>\n",
              "      </button>\n",
              "      \n",
              "  <style>\n",
              "    .colab-df-container {\n",
              "      display:flex;\n",
              "      flex-wrap:wrap;\n",
              "      gap: 12px;\n",
              "    }\n",
              "\n",
              "    .colab-df-convert {\n",
              "      background-color: #E8F0FE;\n",
              "      border: none;\n",
              "      border-radius: 50%;\n",
              "      cursor: pointer;\n",
              "      display: none;\n",
              "      fill: #1967D2;\n",
              "      height: 32px;\n",
              "      padding: 0 0 0 0;\n",
              "      width: 32px;\n",
              "    }\n",
              "\n",
              "    .colab-df-convert:hover {\n",
              "      background-color: #E2EBFA;\n",
              "      box-shadow: 0px 1px 2px rgba(60, 64, 67, 0.3), 0px 1px 3px 1px rgba(60, 64, 67, 0.15);\n",
              "      fill: #174EA6;\n",
              "    }\n",
              "\n",
              "    [theme=dark] .colab-df-convert {\n",
              "      background-color: #3B4455;\n",
              "      fill: #D2E3FC;\n",
              "    }\n",
              "\n",
              "    [theme=dark] .colab-df-convert:hover {\n",
              "      background-color: #434B5C;\n",
              "      box-shadow: 0px 1px 3px 1px rgba(0, 0, 0, 0.15);\n",
              "      filter: drop-shadow(0px 1px 2px rgba(0, 0, 0, 0.3));\n",
              "      fill: #FFFFFF;\n",
              "    }\n",
              "  </style>\n",
              "\n",
              "      <script>\n",
              "        const buttonEl =\n",
              "          document.querySelector('#df-f42fe06c-b102-4f14-b27a-00fc68243e9f button.colab-df-convert');\n",
              "        buttonEl.style.display =\n",
              "          google.colab.kernel.accessAllowed ? 'block' : 'none';\n",
              "\n",
              "        async function convertToInteractive(key) {\n",
              "          const element = document.querySelector('#df-f42fe06c-b102-4f14-b27a-00fc68243e9f');\n",
              "          const dataTable =\n",
              "            await google.colab.kernel.invokeFunction('convertToInteractive',\n",
              "                                                     [key], {});\n",
              "          if (!dataTable) return;\n",
              "\n",
              "          const docLinkHtml = 'Like what you see? Visit the ' +\n",
              "            '<a target=\"_blank\" href=https://colab.research.google.com/notebooks/data_table.ipynb>data table notebook</a>'\n",
              "            + ' to learn more about interactive tables.';\n",
              "          element.innerHTML = '';\n",
              "          dataTable['output_type'] = 'display_data';\n",
              "          await google.colab.output.renderOutput(dataTable, element);\n",
              "          const docLink = document.createElement('div');\n",
              "          docLink.innerHTML = docLinkHtml;\n",
              "          element.appendChild(docLink);\n",
              "        }\n",
              "      </script>\n",
              "    </div>\n",
              "  </div>\n",
              "  "
            ]
          },
          "metadata": {},
          "execution_count": 19
        }
      ]
    },
    {
      "cell_type": "code",
      "source": [
        "df_plot_top_30.tail(1)"
      ],
      "metadata": {
        "colab": {
          "base_uri": "https://localhost:8080/",
          "height": 80
        },
        "id": "BOCoGjHxJzdo",
        "outputId": "8d43c949-383c-4e8b-f9b5-36bb0597e8ee"
      },
      "execution_count": 20,
      "outputs": [
        {
          "output_type": "execute_result",
          "data": {
            "text/plain": [
              "    ingreso_total_producto                    Description\n",
              "48                20349.44  BAKING SET 9 PIECE RETROSPOT "
            ],
            "text/html": [
              "\n",
              "  <div id=\"df-ac549fd9-d7b9-4ba1-ba58-cf36b49aa58a\">\n",
              "    <div class=\"colab-df-container\">\n",
              "      <div>\n",
              "<style scoped>\n",
              "    .dataframe tbody tr th:only-of-type {\n",
              "        vertical-align: middle;\n",
              "    }\n",
              "\n",
              "    .dataframe tbody tr th {\n",
              "        vertical-align: top;\n",
              "    }\n",
              "\n",
              "    .dataframe thead th {\n",
              "        text-align: right;\n",
              "    }\n",
              "</style>\n",
              "<table border=\"1\" class=\"dataframe\">\n",
              "  <thead>\n",
              "    <tr style=\"text-align: right;\">\n",
              "      <th></th>\n",
              "      <th>ingreso_total_producto</th>\n",
              "      <th>Description</th>\n",
              "    </tr>\n",
              "  </thead>\n",
              "  <tbody>\n",
              "    <tr>\n",
              "      <th>48</th>\n",
              "      <td>20349.44</td>\n",
              "      <td>BAKING SET 9 PIECE RETROSPOT</td>\n",
              "    </tr>\n",
              "  </tbody>\n",
              "</table>\n",
              "</div>\n",
              "      <button class=\"colab-df-convert\" onclick=\"convertToInteractive('df-ac549fd9-d7b9-4ba1-ba58-cf36b49aa58a')\"\n",
              "              title=\"Convert this dataframe to an interactive table.\"\n",
              "              style=\"display:none;\">\n",
              "        \n",
              "  <svg xmlns=\"http://www.w3.org/2000/svg\" height=\"24px\"viewBox=\"0 0 24 24\"\n",
              "       width=\"24px\">\n",
              "    <path d=\"M0 0h24v24H0V0z\" fill=\"none\"/>\n",
              "    <path d=\"M18.56 5.44l.94 2.06.94-2.06 2.06-.94-2.06-.94-.94-2.06-.94 2.06-2.06.94zm-11 1L8.5 8.5l.94-2.06 2.06-.94-2.06-.94L8.5 2.5l-.94 2.06-2.06.94zm10 10l.94 2.06.94-2.06 2.06-.94-2.06-.94-.94-2.06-.94 2.06-2.06.94z\"/><path d=\"M17.41 7.96l-1.37-1.37c-.4-.4-.92-.59-1.43-.59-.52 0-1.04.2-1.43.59L10.3 9.45l-7.72 7.72c-.78.78-.78 2.05 0 2.83L4 21.41c.39.39.9.59 1.41.59.51 0 1.02-.2 1.41-.59l7.78-7.78 2.81-2.81c.8-.78.8-2.07 0-2.86zM5.41 20L4 18.59l7.72-7.72 1.47 1.35L5.41 20z\"/>\n",
              "  </svg>\n",
              "      </button>\n",
              "      \n",
              "  <style>\n",
              "    .colab-df-container {\n",
              "      display:flex;\n",
              "      flex-wrap:wrap;\n",
              "      gap: 12px;\n",
              "    }\n",
              "\n",
              "    .colab-df-convert {\n",
              "      background-color: #E8F0FE;\n",
              "      border: none;\n",
              "      border-radius: 50%;\n",
              "      cursor: pointer;\n",
              "      display: none;\n",
              "      fill: #1967D2;\n",
              "      height: 32px;\n",
              "      padding: 0 0 0 0;\n",
              "      width: 32px;\n",
              "    }\n",
              "\n",
              "    .colab-df-convert:hover {\n",
              "      background-color: #E2EBFA;\n",
              "      box-shadow: 0px 1px 2px rgba(60, 64, 67, 0.3), 0px 1px 3px 1px rgba(60, 64, 67, 0.15);\n",
              "      fill: #174EA6;\n",
              "    }\n",
              "\n",
              "    [theme=dark] .colab-df-convert {\n",
              "      background-color: #3B4455;\n",
              "      fill: #D2E3FC;\n",
              "    }\n",
              "\n",
              "    [theme=dark] .colab-df-convert:hover {\n",
              "      background-color: #434B5C;\n",
              "      box-shadow: 0px 1px 3px 1px rgba(0, 0, 0, 0.15);\n",
              "      filter: drop-shadow(0px 1px 2px rgba(0, 0, 0, 0.3));\n",
              "      fill: #FFFFFF;\n",
              "    }\n",
              "  </style>\n",
              "\n",
              "      <script>\n",
              "        const buttonEl =\n",
              "          document.querySelector('#df-ac549fd9-d7b9-4ba1-ba58-cf36b49aa58a button.colab-df-convert');\n",
              "        buttonEl.style.display =\n",
              "          google.colab.kernel.accessAllowed ? 'block' : 'none';\n",
              "\n",
              "        async function convertToInteractive(key) {\n",
              "          const element = document.querySelector('#df-ac549fd9-d7b9-4ba1-ba58-cf36b49aa58a');\n",
              "          const dataTable =\n",
              "            await google.colab.kernel.invokeFunction('convertToInteractive',\n",
              "                                                     [key], {});\n",
              "          if (!dataTable) return;\n",
              "\n",
              "          const docLinkHtml = 'Like what you see? Visit the ' +\n",
              "            '<a target=\"_blank\" href=https://colab.research.google.com/notebooks/data_table.ipynb>data table notebook</a>'\n",
              "            + ' to learn more about interactive tables.';\n",
              "          element.innerHTML = '';\n",
              "          dataTable['output_type'] = 'display_data';\n",
              "          await google.colab.output.renderOutput(dataTable, element);\n",
              "          const docLink = document.createElement('div');\n",
              "          docLink.innerHTML = docLinkHtml;\n",
              "          element.appendChild(docLink);\n",
              "        }\n",
              "      </script>\n",
              "    </div>\n",
              "  </div>\n",
              "  "
            ]
          },
          "metadata": {},
          "execution_count": 20
        }
      ]
    },
    {
      "cell_type": "code",
      "source": [
        "# Gráfico\n",
        "fig = px.bar(\n",
        "    df_plot_top_30,\n",
        "    x=\"Description\",\n",
        "    y=\"ingreso_total_producto\",\n",
        "    title=f\"Top de 30 productos que generan más ganancias\",\n",
        "    labels={\n",
        "        \"Description\": \"Nombre del producto\",\n",
        "        \"ingreso_total_producto\": \"Ingreso total del producto\",\n",
        "    }\n",
        ")\n",
        "\n",
        "fig.show()"
      ],
      "metadata": {
        "colab": {
          "base_uri": "https://localhost:8080/",
          "height": 542
        },
        "id": "iR5_QePcHFLm",
        "outputId": "019714e3-50a9-4d28-e00b-3ae3b945a9d2"
      },
      "execution_count": 21,
      "outputs": [
        {
          "output_type": "display_data",
          "data": {
            "text/html": [
              "<html>\n",
              "<head><meta charset=\"utf-8\" /></head>\n",
              "<body>\n",
              "    <div>            <script src=\"https://cdnjs.cloudflare.com/ajax/libs/mathjax/2.7.5/MathJax.js?config=TeX-AMS-MML_SVG\"></script><script type=\"text/javascript\">if (window.MathJax && window.MathJax.Hub && window.MathJax.Hub.Config) {window.MathJax.Hub.Config({SVG: {font: \"STIX-Web\"}});}</script>                <script type=\"text/javascript\">window.PlotlyConfig = {MathJaxConfig: 'local'};</script>\n",
              "        <script src=\"https://cdn.plot.ly/plotly-2.14.0.min.js\"></script>                <div id=\"53d9ac21-c1fe-46cc-87c6-6126141c5036\" class=\"plotly-graph-div\" style=\"height:525px; width:100%;\"></div>            <script type=\"text/javascript\">                                    window.PLOTLYENV=window.PLOTLYENV || {};                                    if (document.getElementById(\"53d9ac21-c1fe-46cc-87c6-6126141c5036\")) {                    Plotly.newPlot(                        \"53d9ac21-c1fe-46cc-87c6-6126141c5036\",                        [{\"alignmentgroup\":\"True\",\"hovertemplate\":\"Nombre del producto=%{x}<br>Ingreso total del producto=%{y}<extra></extra>\",\"legendgroup\":\"\",\"marker\":{\"color\":\"#636efa\",\"pattern\":{\"shape\":\"\"}},\"name\":\"\",\"offsetgroup\":\"\",\"orientation\":\"v\",\"showlegend\":false,\"textposition\":\"auto\",\"x\":[\"REGENCY CAKESTAND 3 TIER\",\"WHITE HANGING HEART T-LIGHT HOLDER\",\"PARTY BUNTING\",\"RED RETROSPOT CAKE STAND\",\"DOOR MAT UNION FLAG\",\"ASSORTED COLOUR BIRD ORNAMENT\",\"JUMBO BAG RED RETROSPOT\",\"DOOR MAT RED SPOT\",\"HOME BUILDING BLOCK WORD\",\"PAPER CHAIN KIT 50'S CHRISTMAS \",\"STRAWBERRY CERAMIC TRINKET BOX\",\"HOT WATER BOTTLE TEA AND SYMPATHY\",\"VINTAGE UNION JACK BUNTING\",\"11 PC CERAMIC TEA SET POLKADOT\",\"CHOCOLATE HOT WATER BOTTLE\",\"SCOTTIE DOG HOT WATER BOTTLE\",\"SET/5 RED RETROSPOT LID GLASS BOWLS\",\"RED HANGING HEART T-LIGHT HOLDER\",\"EDWARDIAN PARASOL NATURAL\",\"CHILLI LIGHTS\",\"WOODEN FRAME ANTIQUE WHITE \",\"LUNCH BAG RED RETROSPOT\",\"LOVE BUILDING BLOCK WORD\",\"PAPER BUNTING RETRO SPOTS\",\"TEA TIME CAKE STAND IN GIFT BOX\",\"HEART OF WICKER LARGE\",\"RED WOOLLY HOTTIE WHITE HEART.\",\"EDWARDIAN PARASOL BLACK\",\"ANTIQUE SILVER TEA GLASS ETCHED\",\"BAKING SET 9 PIECE RETROSPOT \"],\"xaxis\":\"x\",\"y\":[117636.47,111553.2,41597.66,37483.88,37070.03,36047.04,35783.78,34726.65,31029.77,29633.58,29548.84,28361.56,28313.69,27479.5,26876.940000000002,26356.47,26306.66,25697.47,24970.5,24652.87,24360.510000000002,24033.16,23069.280000000002,21720.140000000003,21213.6,20790.88,20760.24,20720.05,20671.32,20349.440000000002],\"yaxis\":\"y\",\"type\":\"bar\"}],                        {\"template\":{\"data\":{\"histogram2dcontour\":[{\"type\":\"histogram2dcontour\",\"colorbar\":{\"outlinewidth\":0,\"ticks\":\"\"},\"colorscale\":[[0.0,\"#0d0887\"],[0.1111111111111111,\"#46039f\"],[0.2222222222222222,\"#7201a8\"],[0.3333333333333333,\"#9c179e\"],[0.4444444444444444,\"#bd3786\"],[0.5555555555555556,\"#d8576b\"],[0.6666666666666666,\"#ed7953\"],[0.7777777777777778,\"#fb9f3a\"],[0.8888888888888888,\"#fdca26\"],[1.0,\"#f0f921\"]]}],\"choropleth\":[{\"type\":\"choropleth\",\"colorbar\":{\"outlinewidth\":0,\"ticks\":\"\"}}],\"histogram2d\":[{\"type\":\"histogram2d\",\"colorbar\":{\"outlinewidth\":0,\"ticks\":\"\"},\"colorscale\":[[0.0,\"#0d0887\"],[0.1111111111111111,\"#46039f\"],[0.2222222222222222,\"#7201a8\"],[0.3333333333333333,\"#9c179e\"],[0.4444444444444444,\"#bd3786\"],[0.5555555555555556,\"#d8576b\"],[0.6666666666666666,\"#ed7953\"],[0.7777777777777778,\"#fb9f3a\"],[0.8888888888888888,\"#fdca26\"],[1.0,\"#f0f921\"]]}],\"heatmap\":[{\"type\":\"heatmap\",\"colorbar\":{\"outlinewidth\":0,\"ticks\":\"\"},\"colorscale\":[[0.0,\"#0d0887\"],[0.1111111111111111,\"#46039f\"],[0.2222222222222222,\"#7201a8\"],[0.3333333333333333,\"#9c179e\"],[0.4444444444444444,\"#bd3786\"],[0.5555555555555556,\"#d8576b\"],[0.6666666666666666,\"#ed7953\"],[0.7777777777777778,\"#fb9f3a\"],[0.8888888888888888,\"#fdca26\"],[1.0,\"#f0f921\"]]}],\"heatmapgl\":[{\"type\":\"heatmapgl\",\"colorbar\":{\"outlinewidth\":0,\"ticks\":\"\"},\"colorscale\":[[0.0,\"#0d0887\"],[0.1111111111111111,\"#46039f\"],[0.2222222222222222,\"#7201a8\"],[0.3333333333333333,\"#9c179e\"],[0.4444444444444444,\"#bd3786\"],[0.5555555555555556,\"#d8576b\"],[0.6666666666666666,\"#ed7953\"],[0.7777777777777778,\"#fb9f3a\"],[0.8888888888888888,\"#fdca26\"],[1.0,\"#f0f921\"]]}],\"contourcarpet\":[{\"type\":\"contourcarpet\",\"colorbar\":{\"outlinewidth\":0,\"ticks\":\"\"}}],\"contour\":[{\"type\":\"contour\",\"colorbar\":{\"outlinewidth\":0,\"ticks\":\"\"},\"colorscale\":[[0.0,\"#0d0887\"],[0.1111111111111111,\"#46039f\"],[0.2222222222222222,\"#7201a8\"],[0.3333333333333333,\"#9c179e\"],[0.4444444444444444,\"#bd3786\"],[0.5555555555555556,\"#d8576b\"],[0.6666666666666666,\"#ed7953\"],[0.7777777777777778,\"#fb9f3a\"],[0.8888888888888888,\"#fdca26\"],[1.0,\"#f0f921\"]]}],\"surface\":[{\"type\":\"surface\",\"colorbar\":{\"outlinewidth\":0,\"ticks\":\"\"},\"colorscale\":[[0.0,\"#0d0887\"],[0.1111111111111111,\"#46039f\"],[0.2222222222222222,\"#7201a8\"],[0.3333333333333333,\"#9c179e\"],[0.4444444444444444,\"#bd3786\"],[0.5555555555555556,\"#d8576b\"],[0.6666666666666666,\"#ed7953\"],[0.7777777777777778,\"#fb9f3a\"],[0.8888888888888888,\"#fdca26\"],[1.0,\"#f0f921\"]]}],\"mesh3d\":[{\"type\":\"mesh3d\",\"colorbar\":{\"outlinewidth\":0,\"ticks\":\"\"}}],\"scatter\":[{\"fillpattern\":{\"fillmode\":\"overlay\",\"size\":10,\"solidity\":0.2},\"type\":\"scatter\"}],\"parcoords\":[{\"type\":\"parcoords\",\"line\":{\"colorbar\":{\"outlinewidth\":0,\"ticks\":\"\"}}}],\"scatterpolargl\":[{\"type\":\"scatterpolargl\",\"marker\":{\"colorbar\":{\"outlinewidth\":0,\"ticks\":\"\"}}}],\"bar\":[{\"error_x\":{\"color\":\"#2a3f5f\"},\"error_y\":{\"color\":\"#2a3f5f\"},\"marker\":{\"line\":{\"color\":\"#E5ECF6\",\"width\":0.5},\"pattern\":{\"fillmode\":\"overlay\",\"size\":10,\"solidity\":0.2}},\"type\":\"bar\"}],\"scattergeo\":[{\"type\":\"scattergeo\",\"marker\":{\"colorbar\":{\"outlinewidth\":0,\"ticks\":\"\"}}}],\"scatterpolar\":[{\"type\":\"scatterpolar\",\"marker\":{\"colorbar\":{\"outlinewidth\":0,\"ticks\":\"\"}}}],\"histogram\":[{\"marker\":{\"pattern\":{\"fillmode\":\"overlay\",\"size\":10,\"solidity\":0.2}},\"type\":\"histogram\"}],\"scattergl\":[{\"type\":\"scattergl\",\"marker\":{\"colorbar\":{\"outlinewidth\":0,\"ticks\":\"\"}}}],\"scatter3d\":[{\"type\":\"scatter3d\",\"line\":{\"colorbar\":{\"outlinewidth\":0,\"ticks\":\"\"}},\"marker\":{\"colorbar\":{\"outlinewidth\":0,\"ticks\":\"\"}}}],\"scattermapbox\":[{\"type\":\"scattermapbox\",\"marker\":{\"colorbar\":{\"outlinewidth\":0,\"ticks\":\"\"}}}],\"scatterternary\":[{\"type\":\"scatterternary\",\"marker\":{\"colorbar\":{\"outlinewidth\":0,\"ticks\":\"\"}}}],\"scattercarpet\":[{\"type\":\"scattercarpet\",\"marker\":{\"colorbar\":{\"outlinewidth\":0,\"ticks\":\"\"}}}],\"carpet\":[{\"aaxis\":{\"endlinecolor\":\"#2a3f5f\",\"gridcolor\":\"white\",\"linecolor\":\"white\",\"minorgridcolor\":\"white\",\"startlinecolor\":\"#2a3f5f\"},\"baxis\":{\"endlinecolor\":\"#2a3f5f\",\"gridcolor\":\"white\",\"linecolor\":\"white\",\"minorgridcolor\":\"white\",\"startlinecolor\":\"#2a3f5f\"},\"type\":\"carpet\"}],\"table\":[{\"cells\":{\"fill\":{\"color\":\"#EBF0F8\"},\"line\":{\"color\":\"white\"}},\"header\":{\"fill\":{\"color\":\"#C8D4E3\"},\"line\":{\"color\":\"white\"}},\"type\":\"table\"}],\"barpolar\":[{\"marker\":{\"line\":{\"color\":\"#E5ECF6\",\"width\":0.5},\"pattern\":{\"fillmode\":\"overlay\",\"size\":10,\"solidity\":0.2}},\"type\":\"barpolar\"}],\"pie\":[{\"automargin\":true,\"type\":\"pie\"}]},\"layout\":{\"autotypenumbers\":\"strict\",\"colorway\":[\"#636efa\",\"#EF553B\",\"#00cc96\",\"#ab63fa\",\"#FFA15A\",\"#19d3f3\",\"#FF6692\",\"#B6E880\",\"#FF97FF\",\"#FECB52\"],\"font\":{\"color\":\"#2a3f5f\"},\"hovermode\":\"closest\",\"hoverlabel\":{\"align\":\"left\"},\"paper_bgcolor\":\"white\",\"plot_bgcolor\":\"#E5ECF6\",\"polar\":{\"bgcolor\":\"#E5ECF6\",\"angularaxis\":{\"gridcolor\":\"white\",\"linecolor\":\"white\",\"ticks\":\"\"},\"radialaxis\":{\"gridcolor\":\"white\",\"linecolor\":\"white\",\"ticks\":\"\"}},\"ternary\":{\"bgcolor\":\"#E5ECF6\",\"aaxis\":{\"gridcolor\":\"white\",\"linecolor\":\"white\",\"ticks\":\"\"},\"baxis\":{\"gridcolor\":\"white\",\"linecolor\":\"white\",\"ticks\":\"\"},\"caxis\":{\"gridcolor\":\"white\",\"linecolor\":\"white\",\"ticks\":\"\"}},\"coloraxis\":{\"colorbar\":{\"outlinewidth\":0,\"ticks\":\"\"}},\"colorscale\":{\"sequential\":[[0.0,\"#0d0887\"],[0.1111111111111111,\"#46039f\"],[0.2222222222222222,\"#7201a8\"],[0.3333333333333333,\"#9c179e\"],[0.4444444444444444,\"#bd3786\"],[0.5555555555555556,\"#d8576b\"],[0.6666666666666666,\"#ed7953\"],[0.7777777777777778,\"#fb9f3a\"],[0.8888888888888888,\"#fdca26\"],[1.0,\"#f0f921\"]],\"sequentialminus\":[[0.0,\"#0d0887\"],[0.1111111111111111,\"#46039f\"],[0.2222222222222222,\"#7201a8\"],[0.3333333333333333,\"#9c179e\"],[0.4444444444444444,\"#bd3786\"],[0.5555555555555556,\"#d8576b\"],[0.6666666666666666,\"#ed7953\"],[0.7777777777777778,\"#fb9f3a\"],[0.8888888888888888,\"#fdca26\"],[1.0,\"#f0f921\"]],\"diverging\":[[0,\"#8e0152\"],[0.1,\"#c51b7d\"],[0.2,\"#de77ae\"],[0.3,\"#f1b6da\"],[0.4,\"#fde0ef\"],[0.5,\"#f7f7f7\"],[0.6,\"#e6f5d0\"],[0.7,\"#b8e186\"],[0.8,\"#7fbc41\"],[0.9,\"#4d9221\"],[1,\"#276419\"]]},\"xaxis\":{\"gridcolor\":\"white\",\"linecolor\":\"white\",\"ticks\":\"\",\"title\":{\"standoff\":15},\"zerolinecolor\":\"white\",\"automargin\":true,\"zerolinewidth\":2},\"yaxis\":{\"gridcolor\":\"white\",\"linecolor\":\"white\",\"ticks\":\"\",\"title\":{\"standoff\":15},\"zerolinecolor\":\"white\",\"automargin\":true,\"zerolinewidth\":2},\"scene\":{\"xaxis\":{\"backgroundcolor\":\"#E5ECF6\",\"gridcolor\":\"white\",\"linecolor\":\"white\",\"showbackground\":true,\"ticks\":\"\",\"zerolinecolor\":\"white\",\"gridwidth\":2},\"yaxis\":{\"backgroundcolor\":\"#E5ECF6\",\"gridcolor\":\"white\",\"linecolor\":\"white\",\"showbackground\":true,\"ticks\":\"\",\"zerolinecolor\":\"white\",\"gridwidth\":2},\"zaxis\":{\"backgroundcolor\":\"#E5ECF6\",\"gridcolor\":\"white\",\"linecolor\":\"white\",\"showbackground\":true,\"ticks\":\"\",\"zerolinecolor\":\"white\",\"gridwidth\":2}},\"shapedefaults\":{\"line\":{\"color\":\"#2a3f5f\"}},\"annotationdefaults\":{\"arrowcolor\":\"#2a3f5f\",\"arrowhead\":0,\"arrowwidth\":1},\"geo\":{\"bgcolor\":\"white\",\"landcolor\":\"#E5ECF6\",\"subunitcolor\":\"white\",\"showland\":true,\"showlakes\":true,\"lakecolor\":\"white\"},\"title\":{\"x\":0.05},\"mapbox\":{\"style\":\"light\"}}},\"xaxis\":{\"anchor\":\"y\",\"domain\":[0.0,1.0],\"title\":{\"text\":\"Nombre del producto\"}},\"yaxis\":{\"anchor\":\"x\",\"domain\":[0.0,1.0],\"title\":{\"text\":\"Ingreso total del producto\"}},\"legend\":{\"tracegroupgap\":0},\"title\":{\"text\":\"Top de 30 productos que generan m\\u00e1s ganancias\"},\"barmode\":\"relative\"},                        {\"responsive\": true}                    ).then(function(){\n",
              "                            \n",
              "var gd = document.getElementById('53d9ac21-c1fe-46cc-87c6-6126141c5036');\n",
              "var x = new MutationObserver(function (mutations, observer) {{\n",
              "        var display = window.getComputedStyle(gd).display;\n",
              "        if (!display || display === 'none') {{\n",
              "            console.log([gd, 'removed!']);\n",
              "            Plotly.purge(gd);\n",
              "            observer.disconnect();\n",
              "        }}\n",
              "}});\n",
              "\n",
              "// Listen for the removal of the full notebook cells\n",
              "var notebookContainer = gd.closest('#notebook-container');\n",
              "if (notebookContainer) {{\n",
              "    x.observe(notebookContainer, {childList: true});\n",
              "}}\n",
              "\n",
              "// Listen for the clearing of the current output cell\n",
              "var outputEl = gd.closest('.output');\n",
              "if (outputEl) {{\n",
              "    x.observe(outputEl, {childList: true});\n",
              "}}\n",
              "\n",
              "                        })                };                            </script>        </div>\n",
              "</body>\n",
              "</html>"
            ]
          },
          "metadata": {}
        }
      ]
    },
    {
      "cell_type": "markdown",
      "metadata": {
        "cell_id": "00032-61832905-3832-49f7-884b-4ffdd1045252",
        "deepnote_cell_height": 61.03334045410156,
        "deepnote_cell_type": "markdown",
        "tags": [],
        "id": "7Qnyw1HcUZbx"
      },
      "source": [
        "### 1.2.5 Visualización del registro temporal [0,75 ptos]"
      ]
    },
    {
      "cell_type": "markdown",
      "metadata": {
        "cell_id": "00033-7886e714-8ad0-4387-b204-9d01f927df14",
        "deepnote_cell_height": 118.63333129882812,
        "deepnote_cell_type": "markdown",
        "tags": [],
        "id": "J1TR_GLjUZby"
      },
      "source": [
        "El dueño del retail en su afán por saber más sobre los datos de su firma les solicita que grafiquen las ventas respecto al tiempo. Con esto les aclara que durante el día tienen muchas variaciones en sus ventas, por lo que les recomienda que consideren el registro temporal como `año-mes-día`. ¿Es posible observar datos extraños?, Comente lo que observa del gráfico."
      ]
    },
    {
      "cell_type": "code",
      "execution_count": 22,
      "metadata": {
        "cell_id": "00034-de869967-0472-43f2-b4c7-63ec649e6447",
        "deepnote_cell_height": 98.03334045410156,
        "deepnote_cell_type": "code",
        "deepnote_to_be_reexecuted": false,
        "execution_millis": 1,
        "execution_start": 1634274396771,
        "id": "SBr7gQOAkmGV",
        "source_hash": "1c692b9d"
      },
      "outputs": [],
      "source": [
        "def plot_ventas(dataframe):\n",
        "  # 1. Crear una copia del DataFrame\n",
        "  ts = dataframe.copy()\n",
        "\n",
        "  # 2. Crear columnas ventas = price * quantity\n",
        "  ts['Ventas'] = ts['Price'] * ts['Quantity']\n",
        "  \n",
        "  # 3.  Agregar InvoiceDate como rowIndex del DataFrame\n",
        "  ts.index = ts['InvoiceDate']\n",
        "\n",
        "  # 4. Seleccionar variables relevantes\n",
        "  ts = ts[['Country', 'Ventas']]\n",
        "\n",
        "  # 5. Agregar ventas por día\n",
        "  ts = ts.resample('D').sum()\n",
        "\n",
        "  # 6. Agregar otra columna con las ventas acumuladas\n",
        "  ts = pd.concat([ts, ts.rolling(30, center=False).sum()], axis=1)\n",
        "  ts.columns = pd.Index(['Ventas', 'Ventas acumuladas'])\n",
        "\n",
        "  # 7. Crear gráficos\n",
        "  fig = px.line(ts, y='Ventas',\n",
        "                title='Ventas diarias para el período 12/2009 - 12/2010')\n",
        "  fig.show()\n",
        "\n",
        "  fig2 = px.line(ts, y='Ventas acumuladas',\n",
        "                title='Ventas acumuladas de 30 días, para el período 12/2009 - 12/2010')\n",
        "  fig2.show()"
      ]
    },
    {
      "cell_type": "code",
      "source": [
        "plot_ventas(df_proc)"
      ],
      "metadata": {
        "colab": {
          "base_uri": "https://localhost:8080/",
          "height": 1000
        },
        "id": "97v1EdIQULEe",
        "outputId": "46826ff8-a2ab-481a-931f-50afdb03ca73"
      },
      "execution_count": 23,
      "outputs": [
        {
          "output_type": "display_data",
          "data": {
            "text/html": [
              "<html>\n",
              "<head><meta charset=\"utf-8\" /></head>\n",
              "<body>\n",
              "    <div>            <script src=\"https://cdnjs.cloudflare.com/ajax/libs/mathjax/2.7.5/MathJax.js?config=TeX-AMS-MML_SVG\"></script><script type=\"text/javascript\">if (window.MathJax && window.MathJax.Hub && window.MathJax.Hub.Config) {window.MathJax.Hub.Config({SVG: {font: \"STIX-Web\"}});}</script>                <script type=\"text/javascript\">window.PlotlyConfig = {MathJaxConfig: 'local'};</script>\n",
              "        <script src=\"https://cdn.plot.ly/plotly-2.14.0.min.js\"></script>                <div id=\"df784175-5e08-4ce7-b03b-6b4491920383\" class=\"plotly-graph-div\" style=\"height:525px; width:100%;\"></div>            <script type=\"text/javascript\">                                    window.PLOTLYENV=window.PLOTLYENV || {};                                    if (document.getElementById(\"df784175-5e08-4ce7-b03b-6b4491920383\")) {                    Plotly.newPlot(                        \"df784175-5e08-4ce7-b03b-6b4491920383\",                        [{\"hovertemplate\":\"InvoiceDate=%{x}<br>Ventas=%{y}<extra></extra>\",\"legendgroup\":\"\",\"line\":{\"color\":\"#636efa\",\"dash\":\"solid\"},\"marker\":{\"symbol\":\"circle\"},\"mode\":\"lines\",\"name\":\"\",\"orientation\":\"v\",\"showlegend\":false,\"x\":[\"2009-12-01T00:00:00\",\"2009-12-02T00:00:00\",\"2009-12-03T00:00:00\",\"2009-12-04T00:00:00\",\"2009-12-05T00:00:00\",\"2009-12-06T00:00:00\",\"2009-12-07T00:00:00\",\"2009-12-08T00:00:00\",\"2009-12-09T00:00:00\",\"2009-12-10T00:00:00\",\"2009-12-11T00:00:00\",\"2009-12-12T00:00:00\",\"2009-12-13T00:00:00\",\"2009-12-14T00:00:00\",\"2009-12-15T00:00:00\",\"2009-12-16T00:00:00\",\"2009-12-17T00:00:00\",\"2009-12-18T00:00:00\",\"2009-12-19T00:00:00\",\"2009-12-20T00:00:00\",\"2009-12-21T00:00:00\",\"2009-12-22T00:00:00\",\"2009-12-23T00:00:00\",\"2009-12-24T00:00:00\",\"2009-12-25T00:00:00\",\"2009-12-26T00:00:00\",\"2009-12-27T00:00:00\",\"2009-12-28T00:00:00\",\"2009-12-29T00:00:00\",\"2009-12-30T00:00:00\",\"2009-12-31T00:00:00\",\"2010-01-01T00:00:00\",\"2010-01-02T00:00:00\",\"2010-01-03T00:00:00\",\"2010-01-04T00:00:00\",\"2010-01-05T00:00:00\",\"2010-01-06T00:00:00\",\"2010-01-07T00:00:00\",\"2010-01-08T00:00:00\",\"2010-01-09T00:00:00\",\"2010-01-10T00:00:00\",\"2010-01-11T00:00:00\",\"2010-01-12T00:00:00\",\"2010-01-13T00:00:00\",\"2010-01-14T00:00:00\",\"2010-01-15T00:00:00\",\"2010-01-16T00:00:00\",\"2010-01-17T00:00:00\",\"2010-01-18T00:00:00\",\"2010-01-19T00:00:00\",\"2010-01-20T00:00:00\",\"2010-01-21T00:00:00\",\"2010-01-22T00:00:00\",\"2010-01-23T00:00:00\",\"2010-01-24T00:00:00\",\"2010-01-25T00:00:00\",\"2010-01-26T00:00:00\",\"2010-01-27T00:00:00\",\"2010-01-28T00:00:00\",\"2010-01-29T00:00:00\",\"2010-01-30T00:00:00\",\"2010-01-31T00:00:00\",\"2010-02-01T00:00:00\",\"2010-02-02T00:00:00\",\"2010-02-03T00:00:00\",\"2010-02-04T00:00:00\",\"2010-02-05T00:00:00\",\"2010-02-06T00:00:00\",\"2010-02-07T00:00:00\",\"2010-02-08T00:00:00\",\"2010-02-09T00:00:00\",\"2010-02-10T00:00:00\",\"2010-02-11T00:00:00\",\"2010-02-12T00:00:00\",\"2010-02-13T00:00:00\",\"2010-02-14T00:00:00\",\"2010-02-15T00:00:00\",\"2010-02-16T00:00:00\",\"2010-02-17T00:00:00\",\"2010-02-18T00:00:00\",\"2010-02-19T00:00:00\",\"2010-02-20T00:00:00\",\"2010-02-21T00:00:00\",\"2010-02-22T00:00:00\",\"2010-02-23T00:00:00\",\"2010-02-24T00:00:00\",\"2010-02-25T00:00:00\",\"2010-02-26T00:00:00\",\"2010-02-27T00:00:00\",\"2010-02-28T00:00:00\",\"2010-03-01T00:00:00\",\"2010-03-02T00:00:00\",\"2010-03-03T00:00:00\",\"2010-03-04T00:00:00\",\"2010-03-05T00:00:00\",\"2010-03-06T00:00:00\",\"2010-03-07T00:00:00\",\"2010-03-08T00:00:00\",\"2010-03-09T00:00:00\",\"2010-03-10T00:00:00\",\"2010-03-11T00:00:00\",\"2010-03-12T00:00:00\",\"2010-03-13T00:00:00\",\"2010-03-14T00:00:00\",\"2010-03-15T00:00:00\",\"2010-03-16T00:00:00\",\"2010-03-17T00:00:00\",\"2010-03-18T00:00:00\",\"2010-03-19T00:00:00\",\"2010-03-20T00:00:00\",\"2010-03-21T00:00:00\",\"2010-03-22T00:00:00\",\"2010-03-23T00:00:00\",\"2010-03-24T00:00:00\",\"2010-03-25T00:00:00\",\"2010-03-26T00:00:00\",\"2010-03-27T00:00:00\",\"2010-03-28T00:00:00\",\"2010-03-29T00:00:00\",\"2010-03-30T00:00:00\",\"2010-03-31T00:00:00\",\"2010-04-01T00:00:00\",\"2010-04-02T00:00:00\",\"2010-04-03T00:00:00\",\"2010-04-04T00:00:00\",\"2010-04-05T00:00:00\",\"2010-04-06T00:00:00\",\"2010-04-07T00:00:00\",\"2010-04-08T00:00:00\",\"2010-04-09T00:00:00\",\"2010-04-10T00:00:00\",\"2010-04-11T00:00:00\",\"2010-04-12T00:00:00\",\"2010-04-13T00:00:00\",\"2010-04-14T00:00:00\",\"2010-04-15T00:00:00\",\"2010-04-16T00:00:00\",\"2010-04-17T00:00:00\",\"2010-04-18T00:00:00\",\"2010-04-19T00:00:00\",\"2010-04-20T00:00:00\",\"2010-04-21T00:00:00\",\"2010-04-22T00:00:00\",\"2010-04-23T00:00:00\",\"2010-04-24T00:00:00\",\"2010-04-25T00:00:00\",\"2010-04-26T00:00:00\",\"2010-04-27T00:00:00\",\"2010-04-28T00:00:00\",\"2010-04-29T00:00:00\",\"2010-04-30T00:00:00\",\"2010-05-01T00:00:00\",\"2010-05-02T00:00:00\",\"2010-05-03T00:00:00\",\"2010-05-04T00:00:00\",\"2010-05-05T00:00:00\",\"2010-05-06T00:00:00\",\"2010-05-07T00:00:00\",\"2010-05-08T00:00:00\",\"2010-05-09T00:00:00\",\"2010-05-10T00:00:00\",\"2010-05-11T00:00:00\",\"2010-05-12T00:00:00\",\"2010-05-13T00:00:00\",\"2010-05-14T00:00:00\",\"2010-05-15T00:00:00\",\"2010-05-16T00:00:00\",\"2010-05-17T00:00:00\",\"2010-05-18T00:00:00\",\"2010-05-19T00:00:00\",\"2010-05-20T00:00:00\",\"2010-05-21T00:00:00\",\"2010-05-22T00:00:00\",\"2010-05-23T00:00:00\",\"2010-05-24T00:00:00\",\"2010-05-25T00:00:00\",\"2010-05-26T00:00:00\",\"2010-05-27T00:00:00\",\"2010-05-28T00:00:00\",\"2010-05-29T00:00:00\",\"2010-05-30T00:00:00\",\"2010-05-31T00:00:00\",\"2010-06-01T00:00:00\",\"2010-06-02T00:00:00\",\"2010-06-03T00:00:00\",\"2010-06-04T00:00:00\",\"2010-06-05T00:00:00\",\"2010-06-06T00:00:00\",\"2010-06-07T00:00:00\",\"2010-06-08T00:00:00\",\"2010-06-09T00:00:00\",\"2010-06-10T00:00:00\",\"2010-06-11T00:00:00\",\"2010-06-12T00:00:00\",\"2010-06-13T00:00:00\",\"2010-06-14T00:00:00\",\"2010-06-15T00:00:00\",\"2010-06-16T00:00:00\",\"2010-06-17T00:00:00\",\"2010-06-18T00:00:00\",\"2010-06-19T00:00:00\",\"2010-06-20T00:00:00\",\"2010-06-21T00:00:00\",\"2010-06-22T00:00:00\",\"2010-06-23T00:00:00\",\"2010-06-24T00:00:00\",\"2010-06-25T00:00:00\",\"2010-06-26T00:00:00\",\"2010-06-27T00:00:00\",\"2010-06-28T00:00:00\",\"2010-06-29T00:00:00\",\"2010-06-30T00:00:00\",\"2010-07-01T00:00:00\",\"2010-07-02T00:00:00\",\"2010-07-03T00:00:00\",\"2010-07-04T00:00:00\",\"2010-07-05T00:00:00\",\"2010-07-06T00:00:00\",\"2010-07-07T00:00:00\",\"2010-07-08T00:00:00\",\"2010-07-09T00:00:00\",\"2010-07-10T00:00:00\",\"2010-07-11T00:00:00\",\"2010-07-12T00:00:00\",\"2010-07-13T00:00:00\",\"2010-07-14T00:00:00\",\"2010-07-15T00:00:00\",\"2010-07-16T00:00:00\",\"2010-07-17T00:00:00\",\"2010-07-18T00:00:00\",\"2010-07-19T00:00:00\",\"2010-07-20T00:00:00\",\"2010-07-21T00:00:00\",\"2010-07-22T00:00:00\",\"2010-07-23T00:00:00\",\"2010-07-24T00:00:00\",\"2010-07-25T00:00:00\",\"2010-07-26T00:00:00\",\"2010-07-27T00:00:00\",\"2010-07-28T00:00:00\",\"2010-07-29T00:00:00\",\"2010-07-30T00:00:00\",\"2010-07-31T00:00:00\",\"2010-08-01T00:00:00\",\"2010-08-02T00:00:00\",\"2010-08-03T00:00:00\",\"2010-08-04T00:00:00\",\"2010-08-05T00:00:00\",\"2010-08-06T00:00:00\",\"2010-08-07T00:00:00\",\"2010-08-08T00:00:00\",\"2010-08-09T00:00:00\",\"2010-08-10T00:00:00\",\"2010-08-11T00:00:00\",\"2010-08-12T00:00:00\",\"2010-08-13T00:00:00\",\"2010-08-14T00:00:00\",\"2010-08-15T00:00:00\",\"2010-08-16T00:00:00\",\"2010-08-17T00:00:00\",\"2010-08-18T00:00:00\",\"2010-08-19T00:00:00\",\"2010-08-20T00:00:00\",\"2010-08-21T00:00:00\",\"2010-08-22T00:00:00\",\"2010-08-23T00:00:00\",\"2010-08-24T00:00:00\",\"2010-08-25T00:00:00\",\"2010-08-26T00:00:00\",\"2010-08-27T00:00:00\",\"2010-08-28T00:00:00\",\"2010-08-29T00:00:00\",\"2010-08-30T00:00:00\",\"2010-08-31T00:00:00\",\"2010-09-01T00:00:00\",\"2010-09-02T00:00:00\",\"2010-09-03T00:00:00\",\"2010-09-04T00:00:00\",\"2010-09-05T00:00:00\",\"2010-09-06T00:00:00\",\"2010-09-07T00:00:00\",\"2010-09-08T00:00:00\",\"2010-09-09T00:00:00\",\"2010-09-10T00:00:00\",\"2010-09-11T00:00:00\",\"2010-09-12T00:00:00\",\"2010-09-13T00:00:00\",\"2010-09-14T00:00:00\",\"2010-09-15T00:00:00\",\"2010-09-16T00:00:00\",\"2010-09-17T00:00:00\",\"2010-09-18T00:00:00\",\"2010-09-19T00:00:00\",\"2010-09-20T00:00:00\",\"2010-09-21T00:00:00\",\"2010-09-22T00:00:00\",\"2010-09-23T00:00:00\",\"2010-09-24T00:00:00\",\"2010-09-25T00:00:00\",\"2010-09-26T00:00:00\",\"2010-09-27T00:00:00\",\"2010-09-28T00:00:00\",\"2010-09-29T00:00:00\",\"2010-09-30T00:00:00\",\"2010-10-01T00:00:00\",\"2010-10-02T00:00:00\",\"2010-10-03T00:00:00\",\"2010-10-04T00:00:00\",\"2010-10-05T00:00:00\",\"2010-10-06T00:00:00\",\"2010-10-07T00:00:00\",\"2010-10-08T00:00:00\",\"2010-10-09T00:00:00\",\"2010-10-10T00:00:00\",\"2010-10-11T00:00:00\",\"2010-10-12T00:00:00\",\"2010-10-13T00:00:00\",\"2010-10-14T00:00:00\",\"2010-10-15T00:00:00\",\"2010-10-16T00:00:00\",\"2010-10-17T00:00:00\",\"2010-10-18T00:00:00\",\"2010-10-19T00:00:00\",\"2010-10-20T00:00:00\",\"2010-10-21T00:00:00\",\"2010-10-22T00:00:00\",\"2010-10-23T00:00:00\",\"2010-10-24T00:00:00\",\"2010-10-25T00:00:00\",\"2010-10-26T00:00:00\",\"2010-10-27T00:00:00\",\"2010-10-28T00:00:00\",\"2010-10-29T00:00:00\",\"2010-10-30T00:00:00\",\"2010-10-31T00:00:00\",\"2010-11-01T00:00:00\",\"2010-11-02T00:00:00\",\"2010-11-03T00:00:00\",\"2010-11-04T00:00:00\",\"2010-11-05T00:00:00\",\"2010-11-06T00:00:00\",\"2010-11-07T00:00:00\",\"2010-11-08T00:00:00\",\"2010-11-09T00:00:00\",\"2010-11-10T00:00:00\",\"2010-11-11T00:00:00\",\"2010-11-12T00:00:00\",\"2010-11-13T00:00:00\",\"2010-11-14T00:00:00\",\"2010-11-15T00:00:00\",\"2010-11-16T00:00:00\",\"2010-11-17T00:00:00\",\"2010-11-18T00:00:00\",\"2010-11-19T00:00:00\",\"2010-11-20T00:00:00\",\"2010-11-21T00:00:00\",\"2010-11-22T00:00:00\",\"2010-11-23T00:00:00\",\"2010-11-24T00:00:00\",\"2010-11-25T00:00:00\",\"2010-11-26T00:00:00\",\"2010-11-27T00:00:00\",\"2010-11-28T00:00:00\",\"2010-11-29T00:00:00\",\"2010-11-30T00:00:00\",\"2010-12-01T00:00:00\",\"2010-12-02T00:00:00\",\"2010-12-03T00:00:00\",\"2010-12-04T00:00:00\",\"2010-12-05T00:00:00\",\"2010-12-06T00:00:00\",\"2010-12-07T00:00:00\",\"2010-12-08T00:00:00\",\"2010-12-09T00:00:00\"],\"xaxis\":\"x\",\"y\":[45217.090000000004,42918.93,42088.86,33933.8,9277.76,23692.260000000002,38936.26,39741.29,35276.52,36179.62,22855.94,0.0,20905.02,48600.74,35021.33,43339.16,27203.6,32508.97,0.0,10893.9,10900.34,15503.8,9720.99,0.0,0.0,0.0,0.0,0.0,0.0,0.0,0.0,0.0,0.0,0.0,6126.86,14108.92,6511.8,21169.36,16681.13,0.0,13332.89,26501.86,13860.62,16142.56,26933.78,11163.23,0.0,13284.13,16964.5,24472.801,12769.87,19010.64,20494.69,0.0,14904.19,20651.41,20534.63,19883.74,18725.83,15709.961,0.0,17158.22,15559.181,18762.74,19511.141,19379.43,13867.97,0.0,9843.93,15082.47,17092.44,8548.55,12387.23,9262.79,0.0,14634.2,18231.661,25314.31,18900.91,22471.260000000002,15908.95,0.0,10966.781,19999.85,16082.47,22305.451,24749.73,14299.761,0.0,15638.22,17322.32,22526.13,26415.29,27380.41,15871.76,0.0,18949.52,28139.81,16885.03,22928.73,17044.27,14738.3,0.0,7292.88,20583.601,19264.95,21123.0,27842.64,19690.25,0.0,17363.38,19740.91,18295.55,22109.56,26472.5,19438.97,0.0,21434.33,33016.94,26532.06,25975.29,24814.06,0.0,0.0,0.0,0.0,15391.39,23947.69,29218.3,14275.44,0.0,16435.57,20902.461,19947.86,20910.78,17858.59,13430.74,0.0,19088.99,34786.08,19281.68,22853.17,29215.670000000002,14759.52,0.0,15508.39,25603.61,33012.89,27356.25,29216.241,15721.43,0.0,11257.21,0.0,18687.5,21664.15,36260.65,22549.68,0.0,21820.9,23552.73,24951.82,21733.39,21156.32,13948.69,0.0,15430.28,18739.71,19011.31,15735.57,22535.59,18158.58,0.0,22163.05,22546.18,17537.38,27110.58,26996.34,16812.74,0.0,9650.960000000001,0.0,13788.71,11734.26,23018.38,15022.32,0.0,23988.47,30714.59,25375.96,23104.920000000002,16435.920000000002,26418.49,0.0,19521.28,19291.0,23257.41,26136.28,22661.19,14422.87,0.0,7148.13,18325.54,13216.3,18676.64,19731.87,15499.3,0.0,16238.31,27644.73,24758.48,27541.5,28230.13,16044.99,0.0,8300.76,27648.73,18384.12,24037.23,18590.71,11218.45,0.0,6586.43,14132.08,15915.0,19898.1,20156.670000000002,18231.12,0.0,11070.48,23159.35,19809.96,18397.54,20714.68,14893.56,0.0,14838.85,20356.63,17341.21,21870.170000000002,26182.24,11465.0,0.0,8365.09,19330.17,18744.49,19014.92,18822.14,11510.08,0.0,12296.78,12822.49,18988.2,12441.97,23248.86,27866.809999999998,0.0,15409.28,14445.539999999999,18730.46,22488.85,24257.97,18555.93,0.0,19065.63,19059.13,20080.84,29066.07,27414.69,12891.710000000001,0.0,13518.0,0.0,24330.98,15661.98,26194.58,18244.69,0.0,11199.44,22954.44,17612.8,15727.39,22514.76,14746.52,0.0,14911.69,21905.78,18733.97,26820.31,24205.201,16466.86,0.0,20773.36,29008.06,45835.52,21328.7,32979.04,28328.62,0.0,19881.35,42037.46,41781.68,33075.8,37762.06,24376.89,0.0,35095.57,33974.83,43122.62,22058.62,44937.91,33884.7,0.0,22410.48,34654.66,36412.03,33060.53,46207.06,37886.0,0.0,29817.3,33748.15,30132.670000000002,35155.24,34024.42,29906.57,0.0,27105.23,24392.31,39539.23,29761.49,21788.7,36335.48,0.0,28303.9,23240.71,35668.04,33497.99,52050.96,34349.57,0.0,30963.99,41077.661,49364.090000000004,45603.1,44478.03,40065.63,0.0,27210.39,49176.94,55452.42,40293.011,37471.96,37256.91,0.0,31129.14,37874.19,49355.27,44646.12,50690.47,35739.64,0.0,24624.89,56758.67,47221.840000000004,42391.0,34828.89,34001.18,0.0,28191.5,43673.18,44374.54,38094.13,39177.05],\"yaxis\":\"y\",\"type\":\"scatter\"}],                        {\"template\":{\"data\":{\"histogram2dcontour\":[{\"type\":\"histogram2dcontour\",\"colorbar\":{\"outlinewidth\":0,\"ticks\":\"\"},\"colorscale\":[[0.0,\"#0d0887\"],[0.1111111111111111,\"#46039f\"],[0.2222222222222222,\"#7201a8\"],[0.3333333333333333,\"#9c179e\"],[0.4444444444444444,\"#bd3786\"],[0.5555555555555556,\"#d8576b\"],[0.6666666666666666,\"#ed7953\"],[0.7777777777777778,\"#fb9f3a\"],[0.8888888888888888,\"#fdca26\"],[1.0,\"#f0f921\"]]}],\"choropleth\":[{\"type\":\"choropleth\",\"colorbar\":{\"outlinewidth\":0,\"ticks\":\"\"}}],\"histogram2d\":[{\"type\":\"histogram2d\",\"colorbar\":{\"outlinewidth\":0,\"ticks\":\"\"},\"colorscale\":[[0.0,\"#0d0887\"],[0.1111111111111111,\"#46039f\"],[0.2222222222222222,\"#7201a8\"],[0.3333333333333333,\"#9c179e\"],[0.4444444444444444,\"#bd3786\"],[0.5555555555555556,\"#d8576b\"],[0.6666666666666666,\"#ed7953\"],[0.7777777777777778,\"#fb9f3a\"],[0.8888888888888888,\"#fdca26\"],[1.0,\"#f0f921\"]]}],\"heatmap\":[{\"type\":\"heatmap\",\"colorbar\":{\"outlinewidth\":0,\"ticks\":\"\"},\"colorscale\":[[0.0,\"#0d0887\"],[0.1111111111111111,\"#46039f\"],[0.2222222222222222,\"#7201a8\"],[0.3333333333333333,\"#9c179e\"],[0.4444444444444444,\"#bd3786\"],[0.5555555555555556,\"#d8576b\"],[0.6666666666666666,\"#ed7953\"],[0.7777777777777778,\"#fb9f3a\"],[0.8888888888888888,\"#fdca26\"],[1.0,\"#f0f921\"]]}],\"heatmapgl\":[{\"type\":\"heatmapgl\",\"colorbar\":{\"outlinewidth\":0,\"ticks\":\"\"},\"colorscale\":[[0.0,\"#0d0887\"],[0.1111111111111111,\"#46039f\"],[0.2222222222222222,\"#7201a8\"],[0.3333333333333333,\"#9c179e\"],[0.4444444444444444,\"#bd3786\"],[0.5555555555555556,\"#d8576b\"],[0.6666666666666666,\"#ed7953\"],[0.7777777777777778,\"#fb9f3a\"],[0.8888888888888888,\"#fdca26\"],[1.0,\"#f0f921\"]]}],\"contourcarpet\":[{\"type\":\"contourcarpet\",\"colorbar\":{\"outlinewidth\":0,\"ticks\":\"\"}}],\"contour\":[{\"type\":\"contour\",\"colorbar\":{\"outlinewidth\":0,\"ticks\":\"\"},\"colorscale\":[[0.0,\"#0d0887\"],[0.1111111111111111,\"#46039f\"],[0.2222222222222222,\"#7201a8\"],[0.3333333333333333,\"#9c179e\"],[0.4444444444444444,\"#bd3786\"],[0.5555555555555556,\"#d8576b\"],[0.6666666666666666,\"#ed7953\"],[0.7777777777777778,\"#fb9f3a\"],[0.8888888888888888,\"#fdca26\"],[1.0,\"#f0f921\"]]}],\"surface\":[{\"type\":\"surface\",\"colorbar\":{\"outlinewidth\":0,\"ticks\":\"\"},\"colorscale\":[[0.0,\"#0d0887\"],[0.1111111111111111,\"#46039f\"],[0.2222222222222222,\"#7201a8\"],[0.3333333333333333,\"#9c179e\"],[0.4444444444444444,\"#bd3786\"],[0.5555555555555556,\"#d8576b\"],[0.6666666666666666,\"#ed7953\"],[0.7777777777777778,\"#fb9f3a\"],[0.8888888888888888,\"#fdca26\"],[1.0,\"#f0f921\"]]}],\"mesh3d\":[{\"type\":\"mesh3d\",\"colorbar\":{\"outlinewidth\":0,\"ticks\":\"\"}}],\"scatter\":[{\"fillpattern\":{\"fillmode\":\"overlay\",\"size\":10,\"solidity\":0.2},\"type\":\"scatter\"}],\"parcoords\":[{\"type\":\"parcoords\",\"line\":{\"colorbar\":{\"outlinewidth\":0,\"ticks\":\"\"}}}],\"scatterpolargl\":[{\"type\":\"scatterpolargl\",\"marker\":{\"colorbar\":{\"outlinewidth\":0,\"ticks\":\"\"}}}],\"bar\":[{\"error_x\":{\"color\":\"#2a3f5f\"},\"error_y\":{\"color\":\"#2a3f5f\"},\"marker\":{\"line\":{\"color\":\"#E5ECF6\",\"width\":0.5},\"pattern\":{\"fillmode\":\"overlay\",\"size\":10,\"solidity\":0.2}},\"type\":\"bar\"}],\"scattergeo\":[{\"type\":\"scattergeo\",\"marker\":{\"colorbar\":{\"outlinewidth\":0,\"ticks\":\"\"}}}],\"scatterpolar\":[{\"type\":\"scatterpolar\",\"marker\":{\"colorbar\":{\"outlinewidth\":0,\"ticks\":\"\"}}}],\"histogram\":[{\"marker\":{\"pattern\":{\"fillmode\":\"overlay\",\"size\":10,\"solidity\":0.2}},\"type\":\"histogram\"}],\"scattergl\":[{\"type\":\"scattergl\",\"marker\":{\"colorbar\":{\"outlinewidth\":0,\"ticks\":\"\"}}}],\"scatter3d\":[{\"type\":\"scatter3d\",\"line\":{\"colorbar\":{\"outlinewidth\":0,\"ticks\":\"\"}},\"marker\":{\"colorbar\":{\"outlinewidth\":0,\"ticks\":\"\"}}}],\"scattermapbox\":[{\"type\":\"scattermapbox\",\"marker\":{\"colorbar\":{\"outlinewidth\":0,\"ticks\":\"\"}}}],\"scatterternary\":[{\"type\":\"scatterternary\",\"marker\":{\"colorbar\":{\"outlinewidth\":0,\"ticks\":\"\"}}}],\"scattercarpet\":[{\"type\":\"scattercarpet\",\"marker\":{\"colorbar\":{\"outlinewidth\":0,\"ticks\":\"\"}}}],\"carpet\":[{\"aaxis\":{\"endlinecolor\":\"#2a3f5f\",\"gridcolor\":\"white\",\"linecolor\":\"white\",\"minorgridcolor\":\"white\",\"startlinecolor\":\"#2a3f5f\"},\"baxis\":{\"endlinecolor\":\"#2a3f5f\",\"gridcolor\":\"white\",\"linecolor\":\"white\",\"minorgridcolor\":\"white\",\"startlinecolor\":\"#2a3f5f\"},\"type\":\"carpet\"}],\"table\":[{\"cells\":{\"fill\":{\"color\":\"#EBF0F8\"},\"line\":{\"color\":\"white\"}},\"header\":{\"fill\":{\"color\":\"#C8D4E3\"},\"line\":{\"color\":\"white\"}},\"type\":\"table\"}],\"barpolar\":[{\"marker\":{\"line\":{\"color\":\"#E5ECF6\",\"width\":0.5},\"pattern\":{\"fillmode\":\"overlay\",\"size\":10,\"solidity\":0.2}},\"type\":\"barpolar\"}],\"pie\":[{\"automargin\":true,\"type\":\"pie\"}]},\"layout\":{\"autotypenumbers\":\"strict\",\"colorway\":[\"#636efa\",\"#EF553B\",\"#00cc96\",\"#ab63fa\",\"#FFA15A\",\"#19d3f3\",\"#FF6692\",\"#B6E880\",\"#FF97FF\",\"#FECB52\"],\"font\":{\"color\":\"#2a3f5f\"},\"hovermode\":\"closest\",\"hoverlabel\":{\"align\":\"left\"},\"paper_bgcolor\":\"white\",\"plot_bgcolor\":\"#E5ECF6\",\"polar\":{\"bgcolor\":\"#E5ECF6\",\"angularaxis\":{\"gridcolor\":\"white\",\"linecolor\":\"white\",\"ticks\":\"\"},\"radialaxis\":{\"gridcolor\":\"white\",\"linecolor\":\"white\",\"ticks\":\"\"}},\"ternary\":{\"bgcolor\":\"#E5ECF6\",\"aaxis\":{\"gridcolor\":\"white\",\"linecolor\":\"white\",\"ticks\":\"\"},\"baxis\":{\"gridcolor\":\"white\",\"linecolor\":\"white\",\"ticks\":\"\"},\"caxis\":{\"gridcolor\":\"white\",\"linecolor\":\"white\",\"ticks\":\"\"}},\"coloraxis\":{\"colorbar\":{\"outlinewidth\":0,\"ticks\":\"\"}},\"colorscale\":{\"sequential\":[[0.0,\"#0d0887\"],[0.1111111111111111,\"#46039f\"],[0.2222222222222222,\"#7201a8\"],[0.3333333333333333,\"#9c179e\"],[0.4444444444444444,\"#bd3786\"],[0.5555555555555556,\"#d8576b\"],[0.6666666666666666,\"#ed7953\"],[0.7777777777777778,\"#fb9f3a\"],[0.8888888888888888,\"#fdca26\"],[1.0,\"#f0f921\"]],\"sequentialminus\":[[0.0,\"#0d0887\"],[0.1111111111111111,\"#46039f\"],[0.2222222222222222,\"#7201a8\"],[0.3333333333333333,\"#9c179e\"],[0.4444444444444444,\"#bd3786\"],[0.5555555555555556,\"#d8576b\"],[0.6666666666666666,\"#ed7953\"],[0.7777777777777778,\"#fb9f3a\"],[0.8888888888888888,\"#fdca26\"],[1.0,\"#f0f921\"]],\"diverging\":[[0,\"#8e0152\"],[0.1,\"#c51b7d\"],[0.2,\"#de77ae\"],[0.3,\"#f1b6da\"],[0.4,\"#fde0ef\"],[0.5,\"#f7f7f7\"],[0.6,\"#e6f5d0\"],[0.7,\"#b8e186\"],[0.8,\"#7fbc41\"],[0.9,\"#4d9221\"],[1,\"#276419\"]]},\"xaxis\":{\"gridcolor\":\"white\",\"linecolor\":\"white\",\"ticks\":\"\",\"title\":{\"standoff\":15},\"zerolinecolor\":\"white\",\"automargin\":true,\"zerolinewidth\":2},\"yaxis\":{\"gridcolor\":\"white\",\"linecolor\":\"white\",\"ticks\":\"\",\"title\":{\"standoff\":15},\"zerolinecolor\":\"white\",\"automargin\":true,\"zerolinewidth\":2},\"scene\":{\"xaxis\":{\"backgroundcolor\":\"#E5ECF6\",\"gridcolor\":\"white\",\"linecolor\":\"white\",\"showbackground\":true,\"ticks\":\"\",\"zerolinecolor\":\"white\",\"gridwidth\":2},\"yaxis\":{\"backgroundcolor\":\"#E5ECF6\",\"gridcolor\":\"white\",\"linecolor\":\"white\",\"showbackground\":true,\"ticks\":\"\",\"zerolinecolor\":\"white\",\"gridwidth\":2},\"zaxis\":{\"backgroundcolor\":\"#E5ECF6\",\"gridcolor\":\"white\",\"linecolor\":\"white\",\"showbackground\":true,\"ticks\":\"\",\"zerolinecolor\":\"white\",\"gridwidth\":2}},\"shapedefaults\":{\"line\":{\"color\":\"#2a3f5f\"}},\"annotationdefaults\":{\"arrowcolor\":\"#2a3f5f\",\"arrowhead\":0,\"arrowwidth\":1},\"geo\":{\"bgcolor\":\"white\",\"landcolor\":\"#E5ECF6\",\"subunitcolor\":\"white\",\"showland\":true,\"showlakes\":true,\"lakecolor\":\"white\"},\"title\":{\"x\":0.05},\"mapbox\":{\"style\":\"light\"}}},\"xaxis\":{\"anchor\":\"y\",\"domain\":[0.0,1.0],\"title\":{\"text\":\"InvoiceDate\"}},\"yaxis\":{\"anchor\":\"x\",\"domain\":[0.0,1.0],\"title\":{\"text\":\"Ventas\"}},\"legend\":{\"tracegroupgap\":0},\"title\":{\"text\":\"Ventas diarias para el per\\u00edodo 12/2009 - 12/2010\"}},                        {\"responsive\": true}                    ).then(function(){\n",
              "                            \n",
              "var gd = document.getElementById('df784175-5e08-4ce7-b03b-6b4491920383');\n",
              "var x = new MutationObserver(function (mutations, observer) {{\n",
              "        var display = window.getComputedStyle(gd).display;\n",
              "        if (!display || display === 'none') {{\n",
              "            console.log([gd, 'removed!']);\n",
              "            Plotly.purge(gd);\n",
              "            observer.disconnect();\n",
              "        }}\n",
              "}});\n",
              "\n",
              "// Listen for the removal of the full notebook cells\n",
              "var notebookContainer = gd.closest('#notebook-container');\n",
              "if (notebookContainer) {{\n",
              "    x.observe(notebookContainer, {childList: true});\n",
              "}}\n",
              "\n",
              "// Listen for the clearing of the current output cell\n",
              "var outputEl = gd.closest('.output');\n",
              "if (outputEl) {{\n",
              "    x.observe(outputEl, {childList: true});\n",
              "}}\n",
              "\n",
              "                        })                };                            </script>        </div>\n",
              "</body>\n",
              "</html>"
            ]
          },
          "metadata": {}
        },
        {
          "output_type": "display_data",
          "data": {
            "text/html": [
              "<html>\n",
              "<head><meta charset=\"utf-8\" /></head>\n",
              "<body>\n",
              "    <div>            <script src=\"https://cdnjs.cloudflare.com/ajax/libs/mathjax/2.7.5/MathJax.js?config=TeX-AMS-MML_SVG\"></script><script type=\"text/javascript\">if (window.MathJax && window.MathJax.Hub && window.MathJax.Hub.Config) {window.MathJax.Hub.Config({SVG: {font: \"STIX-Web\"}});}</script>                <script type=\"text/javascript\">window.PlotlyConfig = {MathJaxConfig: 'local'};</script>\n",
              "        <script src=\"https://cdn.plot.ly/plotly-2.14.0.min.js\"></script>                <div id=\"e3c33f6a-c4a6-4069-b2d6-07457b8c8ea4\" class=\"plotly-graph-div\" style=\"height:525px; width:100%;\"></div>            <script type=\"text/javascript\">                                    window.PLOTLYENV=window.PLOTLYENV || {};                                    if (document.getElementById(\"e3c33f6a-c4a6-4069-b2d6-07457b8c8ea4\")) {                    Plotly.newPlot(                        \"e3c33f6a-c4a6-4069-b2d6-07457b8c8ea4\",                        [{\"hovertemplate\":\"InvoiceDate=%{x}<br>Ventas acumuladas=%{y}<extra></extra>\",\"legendgroup\":\"\",\"line\":{\"color\":\"#636efa\",\"dash\":\"solid\"},\"marker\":{\"symbol\":\"circle\"},\"mode\":\"lines\",\"name\":\"\",\"orientation\":\"v\",\"showlegend\":false,\"x\":[\"2009-12-01T00:00:00\",\"2009-12-02T00:00:00\",\"2009-12-03T00:00:00\",\"2009-12-04T00:00:00\",\"2009-12-05T00:00:00\",\"2009-12-06T00:00:00\",\"2009-12-07T00:00:00\",\"2009-12-08T00:00:00\",\"2009-12-09T00:00:00\",\"2009-12-10T00:00:00\",\"2009-12-11T00:00:00\",\"2009-12-12T00:00:00\",\"2009-12-13T00:00:00\",\"2009-12-14T00:00:00\",\"2009-12-15T00:00:00\",\"2009-12-16T00:00:00\",\"2009-12-17T00:00:00\",\"2009-12-18T00:00:00\",\"2009-12-19T00:00:00\",\"2009-12-20T00:00:00\",\"2009-12-21T00:00:00\",\"2009-12-22T00:00:00\",\"2009-12-23T00:00:00\",\"2009-12-24T00:00:00\",\"2009-12-25T00:00:00\",\"2009-12-26T00:00:00\",\"2009-12-27T00:00:00\",\"2009-12-28T00:00:00\",\"2009-12-29T00:00:00\",\"2009-12-30T00:00:00\",\"2009-12-31T00:00:00\",\"2010-01-01T00:00:00\",\"2010-01-02T00:00:00\",\"2010-01-03T00:00:00\",\"2010-01-04T00:00:00\",\"2010-01-05T00:00:00\",\"2010-01-06T00:00:00\",\"2010-01-07T00:00:00\",\"2010-01-08T00:00:00\",\"2010-01-09T00:00:00\",\"2010-01-10T00:00:00\",\"2010-01-11T00:00:00\",\"2010-01-12T00:00:00\",\"2010-01-13T00:00:00\",\"2010-01-14T00:00:00\",\"2010-01-15T00:00:00\",\"2010-01-16T00:00:00\",\"2010-01-17T00:00:00\",\"2010-01-18T00:00:00\",\"2010-01-19T00:00:00\",\"2010-01-20T00:00:00\",\"2010-01-21T00:00:00\",\"2010-01-22T00:00:00\",\"2010-01-23T00:00:00\",\"2010-01-24T00:00:00\",\"2010-01-25T00:00:00\",\"2010-01-26T00:00:00\",\"2010-01-27T00:00:00\",\"2010-01-28T00:00:00\",\"2010-01-29T00:00:00\",\"2010-01-30T00:00:00\",\"2010-01-31T00:00:00\",\"2010-02-01T00:00:00\",\"2010-02-02T00:00:00\",\"2010-02-03T00:00:00\",\"2010-02-04T00:00:00\",\"2010-02-05T00:00:00\",\"2010-02-06T00:00:00\",\"2010-02-07T00:00:00\",\"2010-02-08T00:00:00\",\"2010-02-09T00:00:00\",\"2010-02-10T00:00:00\",\"2010-02-11T00:00:00\",\"2010-02-12T00:00:00\",\"2010-02-13T00:00:00\",\"2010-02-14T00:00:00\",\"2010-02-15T00:00:00\",\"2010-02-16T00:00:00\",\"2010-02-17T00:00:00\",\"2010-02-18T00:00:00\",\"2010-02-19T00:00:00\",\"2010-02-20T00:00:00\",\"2010-02-21T00:00:00\",\"2010-02-22T00:00:00\",\"2010-02-23T00:00:00\",\"2010-02-24T00:00:00\",\"2010-02-25T00:00:00\",\"2010-02-26T00:00:00\",\"2010-02-27T00:00:00\",\"2010-02-28T00:00:00\",\"2010-03-01T00:00:00\",\"2010-03-02T00:00:00\",\"2010-03-03T00:00:00\",\"2010-03-04T00:00:00\",\"2010-03-05T00:00:00\",\"2010-03-06T00:00:00\",\"2010-03-07T00:00:00\",\"2010-03-08T00:00:00\",\"2010-03-09T00:00:00\",\"2010-03-10T00:00:00\",\"2010-03-11T00:00:00\",\"2010-03-12T00:00:00\",\"2010-03-13T00:00:00\",\"2010-03-14T00:00:00\",\"2010-03-15T00:00:00\",\"2010-03-16T00:00:00\",\"2010-03-17T00:00:00\",\"2010-03-18T00:00:00\",\"2010-03-19T00:00:00\",\"2010-03-20T00:00:00\",\"2010-03-21T00:00:00\",\"2010-03-22T00:00:00\",\"2010-03-23T00:00:00\",\"2010-03-24T00:00:00\",\"2010-03-25T00:00:00\",\"2010-03-26T00:00:00\",\"2010-03-27T00:00:00\",\"2010-03-28T00:00:00\",\"2010-03-29T00:00:00\",\"2010-03-30T00:00:00\",\"2010-03-31T00:00:00\",\"2010-04-01T00:00:00\",\"2010-04-02T00:00:00\",\"2010-04-03T00:00:00\",\"2010-04-04T00:00:00\",\"2010-04-05T00:00:00\",\"2010-04-06T00:00:00\",\"2010-04-07T00:00:00\",\"2010-04-08T00:00:00\",\"2010-04-09T00:00:00\",\"2010-04-10T00:00:00\",\"2010-04-11T00:00:00\",\"2010-04-12T00:00:00\",\"2010-04-13T00:00:00\",\"2010-04-14T00:00:00\",\"2010-04-15T00:00:00\",\"2010-04-16T00:00:00\",\"2010-04-17T00:00:00\",\"2010-04-18T00:00:00\",\"2010-04-19T00:00:00\",\"2010-04-20T00:00:00\",\"2010-04-21T00:00:00\",\"2010-04-22T00:00:00\",\"2010-04-23T00:00:00\",\"2010-04-24T00:00:00\",\"2010-04-25T00:00:00\",\"2010-04-26T00:00:00\",\"2010-04-27T00:00:00\",\"2010-04-28T00:00:00\",\"2010-04-29T00:00:00\",\"2010-04-30T00:00:00\",\"2010-05-01T00:00:00\",\"2010-05-02T00:00:00\",\"2010-05-03T00:00:00\",\"2010-05-04T00:00:00\",\"2010-05-05T00:00:00\",\"2010-05-06T00:00:00\",\"2010-05-07T00:00:00\",\"2010-05-08T00:00:00\",\"2010-05-09T00:00:00\",\"2010-05-10T00:00:00\",\"2010-05-11T00:00:00\",\"2010-05-12T00:00:00\",\"2010-05-13T00:00:00\",\"2010-05-14T00:00:00\",\"2010-05-15T00:00:00\",\"2010-05-16T00:00:00\",\"2010-05-17T00:00:00\",\"2010-05-18T00:00:00\",\"2010-05-19T00:00:00\",\"2010-05-20T00:00:00\",\"2010-05-21T00:00:00\",\"2010-05-22T00:00:00\",\"2010-05-23T00:00:00\",\"2010-05-24T00:00:00\",\"2010-05-25T00:00:00\",\"2010-05-26T00:00:00\",\"2010-05-27T00:00:00\",\"2010-05-28T00:00:00\",\"2010-05-29T00:00:00\",\"2010-05-30T00:00:00\",\"2010-05-31T00:00:00\",\"2010-06-01T00:00:00\",\"2010-06-02T00:00:00\",\"2010-06-03T00:00:00\",\"2010-06-04T00:00:00\",\"2010-06-05T00:00:00\",\"2010-06-06T00:00:00\",\"2010-06-07T00:00:00\",\"2010-06-08T00:00:00\",\"2010-06-09T00:00:00\",\"2010-06-10T00:00:00\",\"2010-06-11T00:00:00\",\"2010-06-12T00:00:00\",\"2010-06-13T00:00:00\",\"2010-06-14T00:00:00\",\"2010-06-15T00:00:00\",\"2010-06-16T00:00:00\",\"2010-06-17T00:00:00\",\"2010-06-18T00:00:00\",\"2010-06-19T00:00:00\",\"2010-06-20T00:00:00\",\"2010-06-21T00:00:00\",\"2010-06-22T00:00:00\",\"2010-06-23T00:00:00\",\"2010-06-24T00:00:00\",\"2010-06-25T00:00:00\",\"2010-06-26T00:00:00\",\"2010-06-27T00:00:00\",\"2010-06-28T00:00:00\",\"2010-06-29T00:00:00\",\"2010-06-30T00:00:00\",\"2010-07-01T00:00:00\",\"2010-07-02T00:00:00\",\"2010-07-03T00:00:00\",\"2010-07-04T00:00:00\",\"2010-07-05T00:00:00\",\"2010-07-06T00:00:00\",\"2010-07-07T00:00:00\",\"2010-07-08T00:00:00\",\"2010-07-09T00:00:00\",\"2010-07-10T00:00:00\",\"2010-07-11T00:00:00\",\"2010-07-12T00:00:00\",\"2010-07-13T00:00:00\",\"2010-07-14T00:00:00\",\"2010-07-15T00:00:00\",\"2010-07-16T00:00:00\",\"2010-07-17T00:00:00\",\"2010-07-18T00:00:00\",\"2010-07-19T00:00:00\",\"2010-07-20T00:00:00\",\"2010-07-21T00:00:00\",\"2010-07-22T00:00:00\",\"2010-07-23T00:00:00\",\"2010-07-24T00:00:00\",\"2010-07-25T00:00:00\",\"2010-07-26T00:00:00\",\"2010-07-27T00:00:00\",\"2010-07-28T00:00:00\",\"2010-07-29T00:00:00\",\"2010-07-30T00:00:00\",\"2010-07-31T00:00:00\",\"2010-08-01T00:00:00\",\"2010-08-02T00:00:00\",\"2010-08-03T00:00:00\",\"2010-08-04T00:00:00\",\"2010-08-05T00:00:00\",\"2010-08-06T00:00:00\",\"2010-08-07T00:00:00\",\"2010-08-08T00:00:00\",\"2010-08-09T00:00:00\",\"2010-08-10T00:00:00\",\"2010-08-11T00:00:00\",\"2010-08-12T00:00:00\",\"2010-08-13T00:00:00\",\"2010-08-14T00:00:00\",\"2010-08-15T00:00:00\",\"2010-08-16T00:00:00\",\"2010-08-17T00:00:00\",\"2010-08-18T00:00:00\",\"2010-08-19T00:00:00\",\"2010-08-20T00:00:00\",\"2010-08-21T00:00:00\",\"2010-08-22T00:00:00\",\"2010-08-23T00:00:00\",\"2010-08-24T00:00:00\",\"2010-08-25T00:00:00\",\"2010-08-26T00:00:00\",\"2010-08-27T00:00:00\",\"2010-08-28T00:00:00\",\"2010-08-29T00:00:00\",\"2010-08-30T00:00:00\",\"2010-08-31T00:00:00\",\"2010-09-01T00:00:00\",\"2010-09-02T00:00:00\",\"2010-09-03T00:00:00\",\"2010-09-04T00:00:00\",\"2010-09-05T00:00:00\",\"2010-09-06T00:00:00\",\"2010-09-07T00:00:00\",\"2010-09-08T00:00:00\",\"2010-09-09T00:00:00\",\"2010-09-10T00:00:00\",\"2010-09-11T00:00:00\",\"2010-09-12T00:00:00\",\"2010-09-13T00:00:00\",\"2010-09-14T00:00:00\",\"2010-09-15T00:00:00\",\"2010-09-16T00:00:00\",\"2010-09-17T00:00:00\",\"2010-09-18T00:00:00\",\"2010-09-19T00:00:00\",\"2010-09-20T00:00:00\",\"2010-09-21T00:00:00\",\"2010-09-22T00:00:00\",\"2010-09-23T00:00:00\",\"2010-09-24T00:00:00\",\"2010-09-25T00:00:00\",\"2010-09-26T00:00:00\",\"2010-09-27T00:00:00\",\"2010-09-28T00:00:00\",\"2010-09-29T00:00:00\",\"2010-09-30T00:00:00\",\"2010-10-01T00:00:00\",\"2010-10-02T00:00:00\",\"2010-10-03T00:00:00\",\"2010-10-04T00:00:00\",\"2010-10-05T00:00:00\",\"2010-10-06T00:00:00\",\"2010-10-07T00:00:00\",\"2010-10-08T00:00:00\",\"2010-10-09T00:00:00\",\"2010-10-10T00:00:00\",\"2010-10-11T00:00:00\",\"2010-10-12T00:00:00\",\"2010-10-13T00:00:00\",\"2010-10-14T00:00:00\",\"2010-10-15T00:00:00\",\"2010-10-16T00:00:00\",\"2010-10-17T00:00:00\",\"2010-10-18T00:00:00\",\"2010-10-19T00:00:00\",\"2010-10-20T00:00:00\",\"2010-10-21T00:00:00\",\"2010-10-22T00:00:00\",\"2010-10-23T00:00:00\",\"2010-10-24T00:00:00\",\"2010-10-25T00:00:00\",\"2010-10-26T00:00:00\",\"2010-10-27T00:00:00\",\"2010-10-28T00:00:00\",\"2010-10-29T00:00:00\",\"2010-10-30T00:00:00\",\"2010-10-31T00:00:00\",\"2010-11-01T00:00:00\",\"2010-11-02T00:00:00\",\"2010-11-03T00:00:00\",\"2010-11-04T00:00:00\",\"2010-11-05T00:00:00\",\"2010-11-06T00:00:00\",\"2010-11-07T00:00:00\",\"2010-11-08T00:00:00\",\"2010-11-09T00:00:00\",\"2010-11-10T00:00:00\",\"2010-11-11T00:00:00\",\"2010-11-12T00:00:00\",\"2010-11-13T00:00:00\",\"2010-11-14T00:00:00\",\"2010-11-15T00:00:00\",\"2010-11-16T00:00:00\",\"2010-11-17T00:00:00\",\"2010-11-18T00:00:00\",\"2010-11-19T00:00:00\",\"2010-11-20T00:00:00\",\"2010-11-21T00:00:00\",\"2010-11-22T00:00:00\",\"2010-11-23T00:00:00\",\"2010-11-24T00:00:00\",\"2010-11-25T00:00:00\",\"2010-11-26T00:00:00\",\"2010-11-27T00:00:00\",\"2010-11-28T00:00:00\",\"2010-11-29T00:00:00\",\"2010-11-30T00:00:00\",\"2010-12-01T00:00:00\",\"2010-12-02T00:00:00\",\"2010-12-03T00:00:00\",\"2010-12-04T00:00:00\",\"2010-12-05T00:00:00\",\"2010-12-06T00:00:00\",\"2010-12-07T00:00:00\",\"2010-12-08T00:00:00\",\"2010-12-09T00:00:00\"],\"xaxis\":\"x\",\"y\":[null,null,null,null,null,null,null,null,null,null,null,null,null,null,null,null,null,null,null,null,null,null,null,null,null,null,null,null,null,624716.18,579499.0900000001,536580.16,494491.3,460557.5,457406.60000000003,447823.26,415398.8,396826.87,378231.48,342051.86,332528.81,359030.67,351986.26999999996,319528.08999999997,311440.54000000004,279264.61,252061.00999999998,232836.16999999998,249800.66999999998,263379.571,265249.101,268755.941,279529.641,279529.641,294433.831,315085.241,335619.871,355503.611,374229.441,389939.402,389939.402,407097.622,422656.803,441419.543,454803.824,460074.33400000003,467430.50399999996,446261.144,439423.944,454506.414,458265.964,440312.654,438839.26399999997,431959.494,405025.71400000004,408496.684,426728.345,438758.52499999997,440694.935,438693.39400000003,441832.47400000005,422821.83400000003,413293.925,433293.775,434472.055,436126.096,440341.196,434757.217,416031.387,415959.646,433281.966,438649.87600000005,449505.985,458123.655,454484.274,435104.844,440186.39400000003,468326.204,475367.304,483213.564,483165.39400000003,489355.14400000003,476967.914,474998.004,495581.605,500212.355,503103.694,505632.02400000003,506421.364,483950.104,485404.534,505145.44399999996,512474.213,514583.923,524973.953,522107.472,497357.742,504492.31100000005,537509.251,548403.091,557056.0610000001,559343.991,532928.701,505548.29099999997,489676.531,489676.531,486118.401,481926.281,494259.551,485606.261,468561.991,470259.261,491161.722,503816.702,504143.88100000005,502737.521,495045.261,467202.621,466601.36100000003,501387.441,503305.741,506418.00100000005,517338.121,509988.081,483515.581,479585.001,505188.61100000003,516767.171,511106.48099999997,513790.662,503536.802,478722.742,489979.95200000005,489979.95200000005,508667.45200000005,530331.6020000001,551200.862,549802.8520000001,520584.552,528130.012,551682.742,560198.9920000001,561029.9210000001,562238.3809999999,555276.2910000001,537417.701,539417.241,558156.951,558079.2710000001,539028.761,542282.671,537588.081,508372.411,515775.941,538322.121,540351.111,541858.081,535841.5310000001,525298.0210000001,496081.77999999997,490011.31,490011.31,492542.81,504277.07000000007,508607.95000000007,501966.12,465705.47,467144.26,497858.85,501413.91,500966.1,492450.2,497135.30000000005,475978.98000000004,481551.57,500842.57,508669.7,516066.27,519716.14999999997,518403.45,495867.86,484857.41,503182.95,494236.2,490366.66000000003,492561.15,480949.87,453953.53,453379.10000000003,481023.83,496131.35,523672.85,538114.27,542425.0,519406.62,512685.06,540333.79,534729.44,528052.0800000001,521266.83,509380.36,492944.43999999994,473112.38,487244.45999999996,483638.18,484245.28,481144.54,473239.38,450578.19,447225.8,470385.15,483046.98,483118.98,490617.36,486834.27999999997,467102.41,466441.95999999996,486798.58999999997,487901.49,482126.93,483550.69,467474.19,439244.06,431564.16,450894.32999999996,461338.06,452704.25,453142.26999999996,440615.12,422024.41,423102.74,435925.23,448327.0,446636.89,453970.75,461939.45999999996,441782.79,438960.95,453406.49,461066.47000000003,460395.97,464843.98000000004,465002.37,444287.69,448459.76,467518.89,472760.88,481470.32,491543.8,482565.34,456383.10000000003,458436.10000000003,458436.10000000003,474401.99,470733.8,478183.89,477413.66,458591.52,458280.88,481235.32,486551.33999999997,489456.24,492982.8,495287.35,472038.49,459083.37,480989.15,484313.83999999997,496688.61,502163.35099999997,496141.36100000003,471883.391,474100.821,503108.881,529878.771,532148.341,545046.541,544309.091,516894.401,523884.04099999997,565921.5009999999,594185.181,627260.981,640692.061,649406.971,623212.391,640063.271,674038.101,705961.281,705065.461,732390.571,750547.881,728033.121,735697.081,770351.741,791852.081,803006.831,830479.921,841545.611,817340.41,830690.85,864439.0,873798.31,879945.49,868134.39,876712.26,843733.22,842509.83,866902.14,886560.02,874284.05,854291.07,857550.75,819788.6900000001,823715.7,846956.41,847528.88,847052.04,855980.38,868271.33,823333.4199999999,820412.71,861490.371,888443.981,899392.421,907458.421,914463.5210000001,868256.461,857580.851,906757.791,932392.9110000001,938937.772,946277.062,948378.732,914354.3119999999,915576.882,953451.072,975701.1120000001,995954.922,1007106.162,1013084.312,991295.6120000001,979585.022,1036343.6919999999,1055261.632,1074411.922,1073572.772,1074075.962,1022025.002,1015866.932,1059540.112,1072950.662,1069967.131,1059780.091],\"yaxis\":\"y\",\"type\":\"scatter\"}],                        {\"template\":{\"data\":{\"histogram2dcontour\":[{\"type\":\"histogram2dcontour\",\"colorbar\":{\"outlinewidth\":0,\"ticks\":\"\"},\"colorscale\":[[0.0,\"#0d0887\"],[0.1111111111111111,\"#46039f\"],[0.2222222222222222,\"#7201a8\"],[0.3333333333333333,\"#9c179e\"],[0.4444444444444444,\"#bd3786\"],[0.5555555555555556,\"#d8576b\"],[0.6666666666666666,\"#ed7953\"],[0.7777777777777778,\"#fb9f3a\"],[0.8888888888888888,\"#fdca26\"],[1.0,\"#f0f921\"]]}],\"choropleth\":[{\"type\":\"choropleth\",\"colorbar\":{\"outlinewidth\":0,\"ticks\":\"\"}}],\"histogram2d\":[{\"type\":\"histogram2d\",\"colorbar\":{\"outlinewidth\":0,\"ticks\":\"\"},\"colorscale\":[[0.0,\"#0d0887\"],[0.1111111111111111,\"#46039f\"],[0.2222222222222222,\"#7201a8\"],[0.3333333333333333,\"#9c179e\"],[0.4444444444444444,\"#bd3786\"],[0.5555555555555556,\"#d8576b\"],[0.6666666666666666,\"#ed7953\"],[0.7777777777777778,\"#fb9f3a\"],[0.8888888888888888,\"#fdca26\"],[1.0,\"#f0f921\"]]}],\"heatmap\":[{\"type\":\"heatmap\",\"colorbar\":{\"outlinewidth\":0,\"ticks\":\"\"},\"colorscale\":[[0.0,\"#0d0887\"],[0.1111111111111111,\"#46039f\"],[0.2222222222222222,\"#7201a8\"],[0.3333333333333333,\"#9c179e\"],[0.4444444444444444,\"#bd3786\"],[0.5555555555555556,\"#d8576b\"],[0.6666666666666666,\"#ed7953\"],[0.7777777777777778,\"#fb9f3a\"],[0.8888888888888888,\"#fdca26\"],[1.0,\"#f0f921\"]]}],\"heatmapgl\":[{\"type\":\"heatmapgl\",\"colorbar\":{\"outlinewidth\":0,\"ticks\":\"\"},\"colorscale\":[[0.0,\"#0d0887\"],[0.1111111111111111,\"#46039f\"],[0.2222222222222222,\"#7201a8\"],[0.3333333333333333,\"#9c179e\"],[0.4444444444444444,\"#bd3786\"],[0.5555555555555556,\"#d8576b\"],[0.6666666666666666,\"#ed7953\"],[0.7777777777777778,\"#fb9f3a\"],[0.8888888888888888,\"#fdca26\"],[1.0,\"#f0f921\"]]}],\"contourcarpet\":[{\"type\":\"contourcarpet\",\"colorbar\":{\"outlinewidth\":0,\"ticks\":\"\"}}],\"contour\":[{\"type\":\"contour\",\"colorbar\":{\"outlinewidth\":0,\"ticks\":\"\"},\"colorscale\":[[0.0,\"#0d0887\"],[0.1111111111111111,\"#46039f\"],[0.2222222222222222,\"#7201a8\"],[0.3333333333333333,\"#9c179e\"],[0.4444444444444444,\"#bd3786\"],[0.5555555555555556,\"#d8576b\"],[0.6666666666666666,\"#ed7953\"],[0.7777777777777778,\"#fb9f3a\"],[0.8888888888888888,\"#fdca26\"],[1.0,\"#f0f921\"]]}],\"surface\":[{\"type\":\"surface\",\"colorbar\":{\"outlinewidth\":0,\"ticks\":\"\"},\"colorscale\":[[0.0,\"#0d0887\"],[0.1111111111111111,\"#46039f\"],[0.2222222222222222,\"#7201a8\"],[0.3333333333333333,\"#9c179e\"],[0.4444444444444444,\"#bd3786\"],[0.5555555555555556,\"#d8576b\"],[0.6666666666666666,\"#ed7953\"],[0.7777777777777778,\"#fb9f3a\"],[0.8888888888888888,\"#fdca26\"],[1.0,\"#f0f921\"]]}],\"mesh3d\":[{\"type\":\"mesh3d\",\"colorbar\":{\"outlinewidth\":0,\"ticks\":\"\"}}],\"scatter\":[{\"fillpattern\":{\"fillmode\":\"overlay\",\"size\":10,\"solidity\":0.2},\"type\":\"scatter\"}],\"parcoords\":[{\"type\":\"parcoords\",\"line\":{\"colorbar\":{\"outlinewidth\":0,\"ticks\":\"\"}}}],\"scatterpolargl\":[{\"type\":\"scatterpolargl\",\"marker\":{\"colorbar\":{\"outlinewidth\":0,\"ticks\":\"\"}}}],\"bar\":[{\"error_x\":{\"color\":\"#2a3f5f\"},\"error_y\":{\"color\":\"#2a3f5f\"},\"marker\":{\"line\":{\"color\":\"#E5ECF6\",\"width\":0.5},\"pattern\":{\"fillmode\":\"overlay\",\"size\":10,\"solidity\":0.2}},\"type\":\"bar\"}],\"scattergeo\":[{\"type\":\"scattergeo\",\"marker\":{\"colorbar\":{\"outlinewidth\":0,\"ticks\":\"\"}}}],\"scatterpolar\":[{\"type\":\"scatterpolar\",\"marker\":{\"colorbar\":{\"outlinewidth\":0,\"ticks\":\"\"}}}],\"histogram\":[{\"marker\":{\"pattern\":{\"fillmode\":\"overlay\",\"size\":10,\"solidity\":0.2}},\"type\":\"histogram\"}],\"scattergl\":[{\"type\":\"scattergl\",\"marker\":{\"colorbar\":{\"outlinewidth\":0,\"ticks\":\"\"}}}],\"scatter3d\":[{\"type\":\"scatter3d\",\"line\":{\"colorbar\":{\"outlinewidth\":0,\"ticks\":\"\"}},\"marker\":{\"colorbar\":{\"outlinewidth\":0,\"ticks\":\"\"}}}],\"scattermapbox\":[{\"type\":\"scattermapbox\",\"marker\":{\"colorbar\":{\"outlinewidth\":0,\"ticks\":\"\"}}}],\"scatterternary\":[{\"type\":\"scatterternary\",\"marker\":{\"colorbar\":{\"outlinewidth\":0,\"ticks\":\"\"}}}],\"scattercarpet\":[{\"type\":\"scattercarpet\",\"marker\":{\"colorbar\":{\"outlinewidth\":0,\"ticks\":\"\"}}}],\"carpet\":[{\"aaxis\":{\"endlinecolor\":\"#2a3f5f\",\"gridcolor\":\"white\",\"linecolor\":\"white\",\"minorgridcolor\":\"white\",\"startlinecolor\":\"#2a3f5f\"},\"baxis\":{\"endlinecolor\":\"#2a3f5f\",\"gridcolor\":\"white\",\"linecolor\":\"white\",\"minorgridcolor\":\"white\",\"startlinecolor\":\"#2a3f5f\"},\"type\":\"carpet\"}],\"table\":[{\"cells\":{\"fill\":{\"color\":\"#EBF0F8\"},\"line\":{\"color\":\"white\"}},\"header\":{\"fill\":{\"color\":\"#C8D4E3\"},\"line\":{\"color\":\"white\"}},\"type\":\"table\"}],\"barpolar\":[{\"marker\":{\"line\":{\"color\":\"#E5ECF6\",\"width\":0.5},\"pattern\":{\"fillmode\":\"overlay\",\"size\":10,\"solidity\":0.2}},\"type\":\"barpolar\"}],\"pie\":[{\"automargin\":true,\"type\":\"pie\"}]},\"layout\":{\"autotypenumbers\":\"strict\",\"colorway\":[\"#636efa\",\"#EF553B\",\"#00cc96\",\"#ab63fa\",\"#FFA15A\",\"#19d3f3\",\"#FF6692\",\"#B6E880\",\"#FF97FF\",\"#FECB52\"],\"font\":{\"color\":\"#2a3f5f\"},\"hovermode\":\"closest\",\"hoverlabel\":{\"align\":\"left\"},\"paper_bgcolor\":\"white\",\"plot_bgcolor\":\"#E5ECF6\",\"polar\":{\"bgcolor\":\"#E5ECF6\",\"angularaxis\":{\"gridcolor\":\"white\",\"linecolor\":\"white\",\"ticks\":\"\"},\"radialaxis\":{\"gridcolor\":\"white\",\"linecolor\":\"white\",\"ticks\":\"\"}},\"ternary\":{\"bgcolor\":\"#E5ECF6\",\"aaxis\":{\"gridcolor\":\"white\",\"linecolor\":\"white\",\"ticks\":\"\"},\"baxis\":{\"gridcolor\":\"white\",\"linecolor\":\"white\",\"ticks\":\"\"},\"caxis\":{\"gridcolor\":\"white\",\"linecolor\":\"white\",\"ticks\":\"\"}},\"coloraxis\":{\"colorbar\":{\"outlinewidth\":0,\"ticks\":\"\"}},\"colorscale\":{\"sequential\":[[0.0,\"#0d0887\"],[0.1111111111111111,\"#46039f\"],[0.2222222222222222,\"#7201a8\"],[0.3333333333333333,\"#9c179e\"],[0.4444444444444444,\"#bd3786\"],[0.5555555555555556,\"#d8576b\"],[0.6666666666666666,\"#ed7953\"],[0.7777777777777778,\"#fb9f3a\"],[0.8888888888888888,\"#fdca26\"],[1.0,\"#f0f921\"]],\"sequentialminus\":[[0.0,\"#0d0887\"],[0.1111111111111111,\"#46039f\"],[0.2222222222222222,\"#7201a8\"],[0.3333333333333333,\"#9c179e\"],[0.4444444444444444,\"#bd3786\"],[0.5555555555555556,\"#d8576b\"],[0.6666666666666666,\"#ed7953\"],[0.7777777777777778,\"#fb9f3a\"],[0.8888888888888888,\"#fdca26\"],[1.0,\"#f0f921\"]],\"diverging\":[[0,\"#8e0152\"],[0.1,\"#c51b7d\"],[0.2,\"#de77ae\"],[0.3,\"#f1b6da\"],[0.4,\"#fde0ef\"],[0.5,\"#f7f7f7\"],[0.6,\"#e6f5d0\"],[0.7,\"#b8e186\"],[0.8,\"#7fbc41\"],[0.9,\"#4d9221\"],[1,\"#276419\"]]},\"xaxis\":{\"gridcolor\":\"white\",\"linecolor\":\"white\",\"ticks\":\"\",\"title\":{\"standoff\":15},\"zerolinecolor\":\"white\",\"automargin\":true,\"zerolinewidth\":2},\"yaxis\":{\"gridcolor\":\"white\",\"linecolor\":\"white\",\"ticks\":\"\",\"title\":{\"standoff\":15},\"zerolinecolor\":\"white\",\"automargin\":true,\"zerolinewidth\":2},\"scene\":{\"xaxis\":{\"backgroundcolor\":\"#E5ECF6\",\"gridcolor\":\"white\",\"linecolor\":\"white\",\"showbackground\":true,\"ticks\":\"\",\"zerolinecolor\":\"white\",\"gridwidth\":2},\"yaxis\":{\"backgroundcolor\":\"#E5ECF6\",\"gridcolor\":\"white\",\"linecolor\":\"white\",\"showbackground\":true,\"ticks\":\"\",\"zerolinecolor\":\"white\",\"gridwidth\":2},\"zaxis\":{\"backgroundcolor\":\"#E5ECF6\",\"gridcolor\":\"white\",\"linecolor\":\"white\",\"showbackground\":true,\"ticks\":\"\",\"zerolinecolor\":\"white\",\"gridwidth\":2}},\"shapedefaults\":{\"line\":{\"color\":\"#2a3f5f\"}},\"annotationdefaults\":{\"arrowcolor\":\"#2a3f5f\",\"arrowhead\":0,\"arrowwidth\":1},\"geo\":{\"bgcolor\":\"white\",\"landcolor\":\"#E5ECF6\",\"subunitcolor\":\"white\",\"showland\":true,\"showlakes\":true,\"lakecolor\":\"white\"},\"title\":{\"x\":0.05},\"mapbox\":{\"style\":\"light\"}}},\"xaxis\":{\"anchor\":\"y\",\"domain\":[0.0,1.0],\"title\":{\"text\":\"InvoiceDate\"}},\"yaxis\":{\"anchor\":\"x\",\"domain\":[0.0,1.0],\"title\":{\"text\":\"Ventas acumuladas\"}},\"legend\":{\"tracegroupgap\":0},\"title\":{\"text\":\"Ventas acumuladas de 30 d\\u00edas, para el per\\u00edodo 12/2009 - 12/2010\"}},                        {\"responsive\": true}                    ).then(function(){\n",
              "                            \n",
              "var gd = document.getElementById('e3c33f6a-c4a6-4069-b2d6-07457b8c8ea4');\n",
              "var x = new MutationObserver(function (mutations, observer) {{\n",
              "        var display = window.getComputedStyle(gd).display;\n",
              "        if (!display || display === 'none') {{\n",
              "            console.log([gd, 'removed!']);\n",
              "            Plotly.purge(gd);\n",
              "            observer.disconnect();\n",
              "        }}\n",
              "}});\n",
              "\n",
              "// Listen for the removal of the full notebook cells\n",
              "var notebookContainer = gd.closest('#notebook-container');\n",
              "if (notebookContainer) {{\n",
              "    x.observe(notebookContainer, {childList: true});\n",
              "}}\n",
              "\n",
              "// Listen for the clearing of the current output cell\n",
              "var outputEl = gd.closest('.output');\n",
              "if (outputEl) {{\n",
              "    x.observe(outputEl, {childList: true});\n",
              "}}\n",
              "\n",
              "                        })                };                            </script>        </div>\n",
              "</body>\n",
              "</html>"
            ]
          },
          "metadata": {}
        }
      ]
    },
    {
      "cell_type": "markdown",
      "source": [
        "**Observaciones**: \n",
        "\n",
        "* En la primera visualización, se observa que los días sabados no se registraron ventas durante todo el período visualizado. Esto se verificó\n",
        "contrastando los días con el calendario (e.g. sábados: 4/12/2010 - 27/11/2010 - 20/11/2010 ..., etcétera).\n",
        "\n",
        "* De la segunda visualización, se aprecia un incremento en las ventas dentro\n",
        "del último trimestre del año 2010. \n",
        "\n",
        "* Finalmente, notamos un efecto calendario al final del año 2010, donde se observa un incremento en las ventas que probablemente responde a las fiestas de fin de año (e.g. navidad + año nuevo).\n",
        "\n"
      ],
      "metadata": {
        "id": "KnCzwIC0UOzZ"
      }
    },
    {
      "cell_type": "markdown",
      "metadata": {
        "cell_id": "00043-719d1a35-6773-42d7-8f88-1cc37eda7a1b",
        "deepnote_cell_height": 491.23333740234375,
        "deepnote_cell_type": "markdown",
        "id": "Rg4ZMq8ezAH6"
      },
      "source": [
        "# Conclusión\n",
        "Eso ha sido todo para el lab de hoy, recuerden que el laboratorio tiene un plazo de entrega de una semana y que **los días de atraso no se pueden utilizar para entregas de lab** solo para tareas. Cualquier duda del laboratorio, no duden en contactarnos por mail o U-cursos.\n",
        "\n",
        "![Gracias Totales!](https://i.pinimg.com/originals/65/ae/27/65ae270df87c3c4adcea997e48f60852.gif \"bruno\")\n"
      ]
    },
    {
      "cell_type": "markdown",
      "metadata": {
        "cell_id": "00044-b636da8f-c28b-4f2c-894e-1326a421926b",
        "deepnote_cell_height": 170.4499969482422,
        "deepnote_cell_type": "markdown",
        "id": "wCL1lACBzAH7"
      },
      "source": [
        "<br>\n",
        "<center>\n",
        "<img src=\"https://i.kym-cdn.com/photos/images/original/001/194/195/b18.png\" width=100 height=50 />\n",
        "</center>\n",
        "<br>"
      ]
    }
  ],
  "metadata": {
    "colab": {
      "collapsed_sections": [],
      "provenance": []
    },
    "deepnote": {},
    "deepnote_execution_queue": [],
    "deepnote_notebook_id": "15b5ce14-e074-4f33-9c56-8f169cc96a69",
    "kernelspec": {
      "display_name": "Python 3",
      "language": "python",
      "name": "python3"
    },
    "language_info": {
      "codemirror_mode": {
        "name": "ipython",
        "version": 3
      },
      "file_extension": ".py",
      "mimetype": "text/x-python",
      "name": "python",
      "nbconvert_exporter": "python",
      "pygments_lexer": "ipython3",
      "version": "3.8.3"
    },
    "toc": {
      "base_numbering": 1,
      "nav_menu": {},
      "number_sections": true,
      "sideBar": true,
      "skip_h1_title": true,
      "title_cell": "Tabla de Contenidos",
      "title_sidebar": "Contenidos",
      "toc_cell": false,
      "toc_position": {
        "height": "calc(100% - 180px)",
        "left": "10px",
        "top": "150px",
        "width": "241.867px"
      },
      "toc_section_display": true,
      "toc_window_display": true
    },
    "varInspector": {
      "cols": {
        "lenName": 16,
        "lenType": 16,
        "lenVar": 40
      },
      "kernels_config": {
        "python": {
          "delete_cmd_postfix": "",
          "delete_cmd_prefix": "del ",
          "library": "var_list.py",
          "varRefreshCmd": "print(var_dic_list())"
        },
        "r": {
          "delete_cmd_postfix": ") ",
          "delete_cmd_prefix": "rm(",
          "library": "var_list.r",
          "varRefreshCmd": "cat(var_dic_list()) "
        }
      },
      "types_to_exclude": [
        "module",
        "function",
        "builtin_function_or_method",
        "instance",
        "_Feature"
      ],
      "window_display": false
    }
  },
  "nbformat": 4,
  "nbformat_minor": 0
}