{
  "cells": [
    {
      "cell_type": "markdown",
      "metadata": {
        "id": "XUZ1dFPHzAHl"
      },
      "source": [
        "<h1><center>Laboratorio 8: ¿Superhéroe o Villano? 🦸</center></h1>\n",
        "\n",
        "<center><strong>MDS7202: Laboratorio de Programación Científica para Ciencia de Datos</strong></center>"
      ]
    },
    {
      "cell_type": "markdown",
      "metadata": {
        "id": "UD8X1uhGzAHq"
      },
      "source": [
        "### Cuerpo Docente:\n",
        "\n",
        "- Profesor: Matías Rojas y Mauricio Araneda\n",
        "- Auxiliar: Ignacio Meza D.\n",
        "- Ayudante: Rodrigo Guerra"
      ]
    },
    {
      "cell_type": "markdown",
      "metadata": {
        "id": "tXflExjqzAHr"
      },
      "source": [
        "### Equipo: SUPER IMPORTANTE - notebooks sin nombre no serán revisados\n",
        "\n",
        "- Nombre de alumno 1: Cristóbal Alcázar\n",
        "- Nombre de alumno 2: Gianina Salomó\n"
      ]
    },
    {
      "cell_type": "markdown",
      "metadata": {
        "id": "AD-V0bbZzAHr"
      },
      "source": [
        "### **Link de repositorio de GitHub:** `https://github.com/alcazar90/sci-prog-lab`"
      ]
    },
    {
      "cell_type": "markdown",
      "metadata": {
        "id": "6uBLPj1PzAHs"
      },
      "source": [
        "## Temas a tratar\n",
        "\n",
        "- Codificación de texto usando Bag of Words.\n",
        "- Búsqueda del modelo óptimo de clasificación usando `GridSearch`\n",
        "- Uso de pipelines.\n",
        "\n",
        "## Reglas:\n",
        "\n",
        "- **Grupos de 2 personas**\n",
        "- **Ausentes** deberán realizar la actividad solos. \n",
        "- Cualquier duda fuera del horario de clases al foro. Mensajes al equipo docente serán respondidos por este medio.\n",
        "- Prohibidas las copias. \n",
        "- Pueden usar cualquer matrial del curso que estimen conveniente.\n",
        "\n",
        "### Objetivos principales del laboratorio\n",
        "\n",
        "- Obtener caracteristicas a partir de texto usando `CountVectorizer`.\n",
        "- Fijar un pipeline con un modelo base que luego se irá optimizando.\n",
        "- Comprender como realizar una búsqueda de grilla sobre un conjunto de clasificadores e hiperparámetros usando `GridSearch`.\n",
        "\n",
        "El laboratorio deberá ser desarrollado sin el uso indiscriminado de iteradores nativos de python (aka \"for\", \"while\"). La idea es que aprendan a exprimir al máximo las funciones optimizadas que nos entrega `pandas`, las cuales vale mencionar, son bastante más eficientes que los iteradores nativos sobre DataFrames."
      ]
    },
    {
      "cell_type": "markdown",
      "metadata": {
        "id": "MhISwri4zAHy"
      },
      "source": [
        "#Importamos librerias utiles 😸"
      ]
    },
    {
      "cell_type": "code",
      "execution_count": null,
      "metadata": {
        "colab": {
          "base_uri": "https://localhost:8080/"
        },
        "id": "uyc33dKdzAHy",
        "outputId": "4fe94231-a7c0-4867-a4b7-ce33a3a1f800"
      },
      "outputs": [
        {
          "output_type": "stream",
          "name": "stdout",
          "text": [
            "Looking in indexes: https://pypi.org/simple, https://us-python.pkg.dev/colab-wheels/public/simple/\n",
            "Requirement already satisfied: plotly in /usr/local/lib/python3.7/dist-packages (5.5.0)\n",
            "Collecting plotly\n",
            "  Downloading plotly-5.11.0-py2.py3-none-any.whl (15.3 MB)\n",
            "\u001b[K     |████████████████████████████████| 15.3 MB 31.3 MB/s \n",
            "\u001b[?25hRequirement already satisfied: tenacity>=6.2.0 in /usr/local/lib/python3.7/dist-packages (from plotly) (8.1.0)\n",
            "Installing collected packages: plotly\n",
            "  Attempting uninstall: plotly\n",
            "    Found existing installation: plotly 5.5.0\n",
            "    Uninstalling plotly-5.5.0:\n",
            "      Successfully uninstalled plotly-5.5.0\n",
            "Successfully installed plotly-5.11.0\n",
            "Looking in indexes: https://pypi.org/simple, https://us-python.pkg.dev/colab-wheels/public/simple/\n",
            "Collecting umap-learn\n",
            "  Downloading umap-learn-0.5.3.tar.gz (88 kB)\n",
            "\u001b[K     |████████████████████████████████| 88 kB 5.8 MB/s \n",
            "\u001b[?25hRequirement already satisfied: numpy>=1.17 in /usr/local/lib/python3.7/dist-packages (from umap-learn) (1.21.6)\n",
            "Requirement already satisfied: scikit-learn>=0.22 in /usr/local/lib/python3.7/dist-packages (from umap-learn) (1.0.2)\n",
            "Requirement already satisfied: scipy>=1.0 in /usr/local/lib/python3.7/dist-packages (from umap-learn) (1.7.3)\n",
            "Requirement already satisfied: numba>=0.49 in /usr/local/lib/python3.7/dist-packages (from umap-learn) (0.56.4)\n",
            "Collecting pynndescent>=0.5\n",
            "  Downloading pynndescent-0.5.8.tar.gz (1.1 MB)\n",
            "\u001b[K     |████████████████████████████████| 1.1 MB 34.9 MB/s \n",
            "\u001b[?25hRequirement already satisfied: tqdm in /usr/local/lib/python3.7/dist-packages (from umap-learn) (4.64.1)\n",
            "Requirement already satisfied: setuptools in /usr/local/lib/python3.7/dist-packages (from numba>=0.49->umap-learn) (57.4.0)\n",
            "Requirement already satisfied: importlib-metadata in /usr/local/lib/python3.7/dist-packages (from numba>=0.49->umap-learn) (4.13.0)\n",
            "Requirement already satisfied: llvmlite<0.40,>=0.39.0dev0 in /usr/local/lib/python3.7/dist-packages (from numba>=0.49->umap-learn) (0.39.1)\n",
            "Requirement already satisfied: joblib>=0.11 in /usr/local/lib/python3.7/dist-packages (from pynndescent>=0.5->umap-learn) (1.2.0)\n",
            "Requirement already satisfied: typing-extensions>=3.6.4 in /usr/local/lib/python3.7/dist-packages (from importlib-metadata->numba>=0.49->umap-learn) (4.1.1)\n",
            "Requirement already satisfied: zipp>=0.5 in /usr/local/lib/python3.7/dist-packages (from importlib-metadata->numba>=0.49->umap-learn) (3.10.0)\n",
            "Requirement already satisfied: threadpoolctl>=2.0.0 in /usr/local/lib/python3.7/dist-packages (from scikit-learn>=0.22->umap-learn) (3.1.0)\n",
            "Building wheels for collected packages: umap-learn, pynndescent\n",
            "  Building wheel for umap-learn (setup.py) ... \u001b[?25l\u001b[?25hdone\n",
            "  Created wheel for umap-learn: filename=umap_learn-0.5.3-py3-none-any.whl size=82830 sha256=f11274c5d23ccb75144b14979868cf931ce28bce28ebdc903e6df27ed1172de8\n",
            "  Stored in directory: /root/.cache/pip/wheels/b3/52/a5/1fd9e3e76a7ab34f134c07469cd6f16e27ef3a37aeff1fe821\n",
            "  Building wheel for pynndescent (setup.py) ... \u001b[?25l\u001b[?25hdone\n",
            "  Created wheel for pynndescent: filename=pynndescent-0.5.8-py3-none-any.whl size=55509 sha256=23ce2296a3a373915e3611aa020334402c06bd0cc927caefe80b3ac94cb435d1\n",
            "  Stored in directory: /root/.cache/pip/wheels/19/bc/eb/974072a56a7082a302f8b4be1ad6d21bf5019235c2eff65928\n",
            "Successfully built umap-learn pynndescent\n",
            "Installing collected packages: pynndescent, umap-learn\n",
            "Successfully installed pynndescent-0.5.8 umap-learn-0.5.3\n",
            "Looking in indexes: https://pypi.org/simple, https://us-python.pkg.dev/colab-wheels/public/simple/\n",
            "Requirement already satisfied: nltk in /usr/local/lib/python3.7/dist-packages (3.7)\n",
            "Requirement already satisfied: tqdm in /usr/local/lib/python3.7/dist-packages (from nltk) (4.64.1)\n",
            "Requirement already satisfied: regex>=2021.8.3 in /usr/local/lib/python3.7/dist-packages (from nltk) (2022.6.2)\n",
            "Requirement already satisfied: click in /usr/local/lib/python3.7/dist-packages (from nltk) (7.1.2)\n",
            "Requirement already satisfied: joblib in /usr/local/lib/python3.7/dist-packages (from nltk) (1.2.0)\n"
          ]
        },
        {
          "output_type": "stream",
          "name": "stderr",
          "text": [
            "[nltk_data] Downloading package stopwords to /root/nltk_data...\n",
            "[nltk_data]   Unzipping corpora/stopwords.zip.\n",
            "[nltk_data] Downloading package punkt to /root/nltk_data...\n",
            "[nltk_data]   Unzipping tokenizers/punkt.zip.\n"
          ]
        }
      ],
      "source": [
        "# Librería Core del lab.\n",
        "import numpy as np\n",
        "import pandas as pd\n",
        "from sklearn.pipeline import Pipeline\n",
        "from sklearn import set_config\n",
        "\n",
        "from sklearn.model_selection import train_test_split \n",
        "\n",
        "# Pre-procesamiento\n",
        "from sklearn.feature_selection import SelectPercentile, f_classif\n",
        "from sklearn.compose import ColumnTransformer\n",
        "from sklearn.preprocessing import MinMaxScaler\n",
        "from sklearn.feature_extraction.text import CountVectorizer\n",
        "from sklearn.preprocessing import FunctionTransformer\n",
        "\n",
        "# Clasifación\n",
        "from sklearn.svm import SVC\n",
        "from lightgbm import LGBMClassifier\n",
        "from sklearn.naive_bayes import MultinomialNB\n",
        "from sklearn.tree import DecisionTreeClassifier\n",
        "from sklearn.model_selection import GridSearchCV\n",
        "from sklearn.ensemble import RandomForestClassifier\n",
        "from sklearn.linear_model import LogisticRegression\n",
        "from sklearn.dummy import DummyClassifier\n",
        "\n",
        "# Búsqueda de grilla\n",
        "from sklearn.experimental import enable_halving_search_cv\n",
        "from sklearn.model_selection import HalvingGridSearchCV\n",
        "\n",
        "# Metricas de evaluación\n",
        "from sklearn.metrics import classification_report\n",
        "from sklearn.metrics import accuracy_score\n",
        "from sklearn.metrics import f1_score\n",
        "from sklearn.metrics import cohen_kappa_score\n",
        "\n",
        "# Librería para plotear\n",
        "!pip install --upgrade plotly\n",
        "import plotly.express as px\n",
        "from plotly.subplots import make_subplots\n",
        "import plotly.graph_objects as go\n",
        "\n",
        "# Proyecciones en baja dimensionalidad: UMAP\n",
        "!pip install umap-learn\n",
        "\n",
        "# Librería para NLP\n",
        "!pip install nltk\n",
        "import nltk\n",
        "from nltk.corpus import stopwords\n",
        "from nltk import word_tokenize  \n",
        "from nltk.stem import PorterStemmer\n",
        "nltk.download(['stopwords', 'punkt'])\n",
        "\n",
        "# Serialización\n",
        "import pickle"
      ]
    },
    {
      "cell_type": "markdown",
      "metadata": {
        "id": "xpOTbQcxbSiy"
      },
      "source": [
        "# 1. ¿Quien es Bat Cow?"
      ]
    },
    {
      "cell_type": "markdown",
      "metadata": {
        "id": "3Q93vbNS25bM"
      },
      "source": [
        "<p align=\"center\">\n",
        "  <img src=\"https://i.imgur.com/D9f1RHy.jpg\" width=\"350\">\n",
        "</p>"
      ]
    },
    {
      "cell_type": "markdown",
      "metadata": {
        "id": "jnmZfFpxTTYX"
      },
      "source": [
        "En vez de estar desarrollando las evaluaciones correspondientes a su curso, su profesor de catedra y su auxiliar discuten acerca la alineación (héroe o villano) del personaje de ficción Bat-Cow. \n",
        "\n",
        "El cuerpo docente, no logra ponerse de acuerdo si el personaje es bueno, neutral o malo: el auxiliar plantea que Bat-cow posee una siniestra mirada, intrigante pero común característica de los personajes malvados. \n",
        "Por otra parte, extendiendo las ideas de Rousseau, el profesor plantea que tal como los humanos no nacen malos, no existe motivo por el cual una vaca con superpoderes deba serlo.\n",
        "\n",
        "Sin embargo, ambos concuerdan que es difícil estimar la alineación solo usando los atributos físicos, por lo que creen el análisis debe ser complementado aún más antes de comunicarle los resultados a su estudiantado. Buscando más información, ambos sujetos se percatan de la existencia de un excelente antecedente para estimar la alineación: la historia personal de cada superhéroe o villano.\n",
        "\n",
        "Es por esto le solicitan que construya y optimice un clasificador basado en texto el cual analice la alineación de cada personaje basado en su historia personal.\n",
        "\n",
        "Para este laboratorio deben trabajar con los datos `df_comics.csv` y `comics_no_label.csv` subidos a u-cursos. El primero es un conjunto de datos que les servirá para entrenar un modelo de clasificación, mientras que el segundo es un dataset con personajes de ficción no etiquetados a predecir (sí, aquí está la misteriosa Batcow).\n",
        "\n",
        "Para comenzar cargue los dataset señalados y visualice a través de un head los atributos que poseen cada uno de los dataset.\n"
      ]
    },
    {
      "cell_type": "code",
      "execution_count": null,
      "metadata": {
        "colab": {
          "base_uri": "https://localhost:8080/"
        },
        "id": "Jqq-s010Iwl1",
        "outputId": "bc29f770-d066-4443-8cee-00e3db46c629"
      },
      "outputs": [
        {
          "name": "stdout",
          "output_type": "stream",
          "text": [
            "Ignorando conexión drive-colab\n"
          ]
        }
      ],
      "source": [
        "# Si usted está utilizando Colabolatory le puede ser útil este código para cargar los archivos.\n",
        "try:\n",
        "    from google.colab import drive\n",
        "    drive.mount(\"/content/drive\")\n",
        "    path = 'Dirección donde tiene los archivos en el Drive'\n",
        "except: \n",
        "    print('Ignorando conexión drive-colab')"
      ]
    },
    {
      "cell_type": "code",
      "execution_count": null,
      "metadata": {
        "id": "bED3w3tDbSCf"
      },
      "outputs": [],
      "source": [
        "df_comics = pd.read_csv('https://raw.githubusercontent.com/alcazar90/sci-prog-lab/main/data/df_comics.csv', index_col=0)\n",
        "df_comics_no_label = pd.read_csv('https://raw.githubusercontent.com/alcazar90/sci-prog-lab/main/data/comics_no_label.csv')\n",
        "df_comics = df_comics.dropna(subset=['history_text']) # eliminar ejemplos sin historia"
      ]
    },
    {
      "cell_type": "code",
      "execution_count": null,
      "metadata": {
        "colab": {
          "base_uri": "https://localhost:8080/",
          "height": 577
        },
        "id": "DO0i8BkhF7y9",
        "outputId": "07ab9b13-49a9-4356-8adb-f85ce59d967f"
      },
      "outputs": [
        {
          "output_type": "execute_result",
          "data": {
            "text/plain": [
              "           name               real_name               full_name overall_score  \\\n",
              "0       3-D Man     Delroy Garrett, Jr.     Delroy Garrett, Jr.             6   \n",
              "2        A-Bomb  Richard Milhouse Jones  Richard Milhouse Jones            20   \n",
              "3            Aa                      Aa                     NaN            12   \n",
              "4    Aaron Cash              Aaron Cash              Aaron Cash             5   \n",
              "5  Aayla Secura            Aayla Secura                     NaN             8   \n",
              "\n",
              "                                        history_text  \\\n",
              "0  Delroy Garrett, Jr. grew up to become a track ...   \n",
              "2   Richard \"Rick\" Jones was orphaned at a young ...   \n",
              "3  Aa is one of the more passive members of the P...   \n",
              "4  Aaron Cash is the head of security at Arkham A...   \n",
              "5  ayla Secura was a Rutian Twi'lek Jedi Knight (...   \n",
              "\n",
              "                                         powers_text  intelligence_score  \\\n",
              "0                                                NaN                  85   \n",
              "2    On rare occasions, and through unusual circu...                  80   \n",
              "3                                                NaN                  80   \n",
              "4                                                NaN                  80   \n",
              "5                                                NaN                  90   \n",
              "\n",
              "   strength_score  speed_score  durability_score  ...  has_flight  \\\n",
              "0              30           60                60  ...         0.0   \n",
              "2             100           80               100  ...         0.0   \n",
              "3              50           55                45  ...         0.0   \n",
              "4              10           25                40  ...         0.0   \n",
              "5              40           45                55  ...         0.0   \n",
              "\n",
              "   has_accelerated_healing has_weapons_master has_intelligence has_reflexes  \\\n",
              "0                      0.0                0.0              0.0          0.0   \n",
              "2                      1.0                0.0              0.0          1.0   \n",
              "3                      0.0                0.0              0.0          0.0   \n",
              "4                      0.0                1.0              0.0          0.0   \n",
              "5                      1.0                0.0              0.0          0.0   \n",
              "\n",
              "  has_super_speed has_durability has_stamina has_agility has_super_strength  \n",
              "0             1.0            0.0         0.0         0.0                1.0  \n",
              "2             1.0            1.0         1.0         1.0                1.0  \n",
              "3             0.0            0.0         0.0         0.0                0.0  \n",
              "4             0.0            0.0         0.0         0.0                0.0  \n",
              "5             0.0            0.0         0.0         1.0                0.0  \n",
              "\n",
              "[5 rows x 81 columns]"
            ],
            "text/html": [
              "\n",
              "  <div id=\"df-c3cf967f-af30-41f8-ac27-ddaaf0312db8\">\n",
              "    <div class=\"colab-df-container\">\n",
              "      <div>\n",
              "<style scoped>\n",
              "    .dataframe tbody tr th:only-of-type {\n",
              "        vertical-align: middle;\n",
              "    }\n",
              "\n",
              "    .dataframe tbody tr th {\n",
              "        vertical-align: top;\n",
              "    }\n",
              "\n",
              "    .dataframe thead th {\n",
              "        text-align: right;\n",
              "    }\n",
              "</style>\n",
              "<table border=\"1\" class=\"dataframe\">\n",
              "  <thead>\n",
              "    <tr style=\"text-align: right;\">\n",
              "      <th></th>\n",
              "      <th>name</th>\n",
              "      <th>real_name</th>\n",
              "      <th>full_name</th>\n",
              "      <th>overall_score</th>\n",
              "      <th>history_text</th>\n",
              "      <th>powers_text</th>\n",
              "      <th>intelligence_score</th>\n",
              "      <th>strength_score</th>\n",
              "      <th>speed_score</th>\n",
              "      <th>durability_score</th>\n",
              "      <th>...</th>\n",
              "      <th>has_flight</th>\n",
              "      <th>has_accelerated_healing</th>\n",
              "      <th>has_weapons_master</th>\n",
              "      <th>has_intelligence</th>\n",
              "      <th>has_reflexes</th>\n",
              "      <th>has_super_speed</th>\n",
              "      <th>has_durability</th>\n",
              "      <th>has_stamina</th>\n",
              "      <th>has_agility</th>\n",
              "      <th>has_super_strength</th>\n",
              "    </tr>\n",
              "  </thead>\n",
              "  <tbody>\n",
              "    <tr>\n",
              "      <th>0</th>\n",
              "      <td>3-D Man</td>\n",
              "      <td>Delroy Garrett, Jr.</td>\n",
              "      <td>Delroy Garrett, Jr.</td>\n",
              "      <td>6</td>\n",
              "      <td>Delroy Garrett, Jr. grew up to become a track ...</td>\n",
              "      <td>NaN</td>\n",
              "      <td>85</td>\n",
              "      <td>30</td>\n",
              "      <td>60</td>\n",
              "      <td>60</td>\n",
              "      <td>...</td>\n",
              "      <td>0.0</td>\n",
              "      <td>0.0</td>\n",
              "      <td>0.0</td>\n",
              "      <td>0.0</td>\n",
              "      <td>0.0</td>\n",
              "      <td>1.0</td>\n",
              "      <td>0.0</td>\n",
              "      <td>0.0</td>\n",
              "      <td>0.0</td>\n",
              "      <td>1.0</td>\n",
              "    </tr>\n",
              "    <tr>\n",
              "      <th>2</th>\n",
              "      <td>A-Bomb</td>\n",
              "      <td>Richard Milhouse Jones</td>\n",
              "      <td>Richard Milhouse Jones</td>\n",
              "      <td>20</td>\n",
              "      <td>Richard \"Rick\" Jones was orphaned at a young ...</td>\n",
              "      <td>On rare occasions, and through unusual circu...</td>\n",
              "      <td>80</td>\n",
              "      <td>100</td>\n",
              "      <td>80</td>\n",
              "      <td>100</td>\n",
              "      <td>...</td>\n",
              "      <td>0.0</td>\n",
              "      <td>1.0</td>\n",
              "      <td>0.0</td>\n",
              "      <td>0.0</td>\n",
              "      <td>1.0</td>\n",
              "      <td>1.0</td>\n",
              "      <td>1.0</td>\n",
              "      <td>1.0</td>\n",
              "      <td>1.0</td>\n",
              "      <td>1.0</td>\n",
              "    </tr>\n",
              "    <tr>\n",
              "      <th>3</th>\n",
              "      <td>Aa</td>\n",
              "      <td>Aa</td>\n",
              "      <td>NaN</td>\n",
              "      <td>12</td>\n",
              "      <td>Aa is one of the more passive members of the P...</td>\n",
              "      <td>NaN</td>\n",
              "      <td>80</td>\n",
              "      <td>50</td>\n",
              "      <td>55</td>\n",
              "      <td>45</td>\n",
              "      <td>...</td>\n",
              "      <td>0.0</td>\n",
              "      <td>0.0</td>\n",
              "      <td>0.0</td>\n",
              "      <td>0.0</td>\n",
              "      <td>0.0</td>\n",
              "      <td>0.0</td>\n",
              "      <td>0.0</td>\n",
              "      <td>0.0</td>\n",
              "      <td>0.0</td>\n",
              "      <td>0.0</td>\n",
              "    </tr>\n",
              "    <tr>\n",
              "      <th>4</th>\n",
              "      <td>Aaron Cash</td>\n",
              "      <td>Aaron Cash</td>\n",
              "      <td>Aaron Cash</td>\n",
              "      <td>5</td>\n",
              "      <td>Aaron Cash is the head of security at Arkham A...</td>\n",
              "      <td>NaN</td>\n",
              "      <td>80</td>\n",
              "      <td>10</td>\n",
              "      <td>25</td>\n",
              "      <td>40</td>\n",
              "      <td>...</td>\n",
              "      <td>0.0</td>\n",
              "      <td>0.0</td>\n",
              "      <td>1.0</td>\n",
              "      <td>0.0</td>\n",
              "      <td>0.0</td>\n",
              "      <td>0.0</td>\n",
              "      <td>0.0</td>\n",
              "      <td>0.0</td>\n",
              "      <td>0.0</td>\n",
              "      <td>0.0</td>\n",
              "    </tr>\n",
              "    <tr>\n",
              "      <th>5</th>\n",
              "      <td>Aayla Secura</td>\n",
              "      <td>Aayla Secura</td>\n",
              "      <td>NaN</td>\n",
              "      <td>8</td>\n",
              "      <td>ayla Secura was a Rutian Twi'lek Jedi Knight (...</td>\n",
              "      <td>NaN</td>\n",
              "      <td>90</td>\n",
              "      <td>40</td>\n",
              "      <td>45</td>\n",
              "      <td>55</td>\n",
              "      <td>...</td>\n",
              "      <td>0.0</td>\n",
              "      <td>1.0</td>\n",
              "      <td>0.0</td>\n",
              "      <td>0.0</td>\n",
              "      <td>0.0</td>\n",
              "      <td>0.0</td>\n",
              "      <td>0.0</td>\n",
              "      <td>0.0</td>\n",
              "      <td>1.0</td>\n",
              "      <td>0.0</td>\n",
              "    </tr>\n",
              "  </tbody>\n",
              "</table>\n",
              "<p>5 rows × 81 columns</p>\n",
              "</div>\n",
              "      <button class=\"colab-df-convert\" onclick=\"convertToInteractive('df-c3cf967f-af30-41f8-ac27-ddaaf0312db8')\"\n",
              "              title=\"Convert this dataframe to an interactive table.\"\n",
              "              style=\"display:none;\">\n",
              "        \n",
              "  <svg xmlns=\"http://www.w3.org/2000/svg\" height=\"24px\"viewBox=\"0 0 24 24\"\n",
              "       width=\"24px\">\n",
              "    <path d=\"M0 0h24v24H0V0z\" fill=\"none\"/>\n",
              "    <path d=\"M18.56 5.44l.94 2.06.94-2.06 2.06-.94-2.06-.94-.94-2.06-.94 2.06-2.06.94zm-11 1L8.5 8.5l.94-2.06 2.06-.94-2.06-.94L8.5 2.5l-.94 2.06-2.06.94zm10 10l.94 2.06.94-2.06 2.06-.94-2.06-.94-.94-2.06-.94 2.06-2.06.94z\"/><path d=\"M17.41 7.96l-1.37-1.37c-.4-.4-.92-.59-1.43-.59-.52 0-1.04.2-1.43.59L10.3 9.45l-7.72 7.72c-.78.78-.78 2.05 0 2.83L4 21.41c.39.39.9.59 1.41.59.51 0 1.02-.2 1.41-.59l7.78-7.78 2.81-2.81c.8-.78.8-2.07 0-2.86zM5.41 20L4 18.59l7.72-7.72 1.47 1.35L5.41 20z\"/>\n",
              "  </svg>\n",
              "      </button>\n",
              "      \n",
              "  <style>\n",
              "    .colab-df-container {\n",
              "      display:flex;\n",
              "      flex-wrap:wrap;\n",
              "      gap: 12px;\n",
              "    }\n",
              "\n",
              "    .colab-df-convert {\n",
              "      background-color: #E8F0FE;\n",
              "      border: none;\n",
              "      border-radius: 50%;\n",
              "      cursor: pointer;\n",
              "      display: none;\n",
              "      fill: #1967D2;\n",
              "      height: 32px;\n",
              "      padding: 0 0 0 0;\n",
              "      width: 32px;\n",
              "    }\n",
              "\n",
              "    .colab-df-convert:hover {\n",
              "      background-color: #E2EBFA;\n",
              "      box-shadow: 0px 1px 2px rgba(60, 64, 67, 0.3), 0px 1px 3px 1px rgba(60, 64, 67, 0.15);\n",
              "      fill: #174EA6;\n",
              "    }\n",
              "\n",
              "    [theme=dark] .colab-df-convert {\n",
              "      background-color: #3B4455;\n",
              "      fill: #D2E3FC;\n",
              "    }\n",
              "\n",
              "    [theme=dark] .colab-df-convert:hover {\n",
              "      background-color: #434B5C;\n",
              "      box-shadow: 0px 1px 3px 1px rgba(0, 0, 0, 0.15);\n",
              "      filter: drop-shadow(0px 1px 2px rgba(0, 0, 0, 0.3));\n",
              "      fill: #FFFFFF;\n",
              "    }\n",
              "  </style>\n",
              "\n",
              "      <script>\n",
              "        const buttonEl =\n",
              "          document.querySelector('#df-c3cf967f-af30-41f8-ac27-ddaaf0312db8 button.colab-df-convert');\n",
              "        buttonEl.style.display =\n",
              "          google.colab.kernel.accessAllowed ? 'block' : 'none';\n",
              "\n",
              "        async function convertToInteractive(key) {\n",
              "          const element = document.querySelector('#df-c3cf967f-af30-41f8-ac27-ddaaf0312db8');\n",
              "          const dataTable =\n",
              "            await google.colab.kernel.invokeFunction('convertToInteractive',\n",
              "                                                     [key], {});\n",
              "          if (!dataTable) return;\n",
              "\n",
              "          const docLinkHtml = 'Like what you see? Visit the ' +\n",
              "            '<a target=\"_blank\" href=https://colab.research.google.com/notebooks/data_table.ipynb>data table notebook</a>'\n",
              "            + ' to learn more about interactive tables.';\n",
              "          element.innerHTML = '';\n",
              "          dataTable['output_type'] = 'display_data';\n",
              "          await google.colab.output.renderOutput(dataTable, element);\n",
              "          const docLink = document.createElement('div');\n",
              "          docLink.innerHTML = docLinkHtml;\n",
              "          element.appendChild(docLink);\n",
              "        }\n",
              "      </script>\n",
              "    </div>\n",
              "  </div>\n",
              "  "
            ]
          },
          "metadata": {},
          "execution_count": 3
        }
      ],
      "source": [
        "# queda a labor de su equipo hacer el análisis exploratorio\n",
        "df_comics.head()"
      ]
    },
    {
      "cell_type": "markdown",
      "metadata": {
        "id": "UGIcLe4KdGaI"
      },
      "source": [
        "### Exploración de frecuencias del vector objetivo"
      ]
    },
    {
      "cell_type": "code",
      "execution_count": null,
      "metadata": {
        "colab": {
          "base_uri": "https://localhost:8080/"
        },
        "id": "PzPendSRdJeF",
        "outputId": "50771a71-0000-4213-c9b9-d475031c00cf"
      },
      "outputs": [
        {
          "output_type": "execute_result",
          "data": {
            "text/plain": [
              "Good       743\n",
              "Bad        429\n",
              "Neutral    113\n",
              "Name: alignment, dtype: int64"
            ]
          },
          "metadata": {},
          "execution_count": 4
        }
      ],
      "source": [
        "df_comics[\"alignment\"].value_counts()"
      ]
    },
    {
      "cell_type": "markdown",
      "metadata": {
        "id": "TAPIwaVZdQup"
      },
      "source": [
        "Las clases están desbalanceadas, lo cual puede significar un problema al momento de realizar predicciones certeras, sobre todo de la clase Neutral."
      ]
    },
    {
      "cell_type": "markdown",
      "metadata": {
        "id": "i4tFPrFA4_O5"
      },
      "source": [
        "## 1.1 Obtención de Features y Bag of Words\n",
        "\n",
        "<p align=\"center\">\n",
        "  <img src=\"https://media0.giphy.com/media/eIUpSyzwGp0YhAMTKr/200.gif\" width=\"300\">\n",
        "</p>"
      ]
    },
    {
      "cell_type": "markdown",
      "metadata": {
        "id": "f_4NF0_V5XZ-"
      },
      "source": [
        "Primero que todo, deben obtener un vector de características del atributo `history_text`, utilizando `Bag of Words`. En este atributo se presenta una breve descripción de la historia de cada uno de los personajes de ficción presentes en el dataset. \n",
        "\n",
        "Pero... antes de empezar, ¿Que es `Bag of Words`?...\n",
        "\n",
        "`Bag of Words` es un modelo de conteo utilizado en Procesamiento de Lenguaje Natural (NLP) que tiene como objetivo generar una representación vectorial (vector de características en nuestro cas) para cada documento a través del conteo de las palabras que contienen. \n",
        "\n",
        "La siguiente figura muestra un ejemplo de `Bag of Words` en acción:\n",
        "\n",
        "<p align=\"center\">\n",
        "  <img src=\"https://user.oc-static.com/upload/2020/10/23/16034397439042_surfin%20bird%20bow.png\" width=\"500\">\n",
        "</p>\n",
        "\n",
        "Como pueden ver, el modelo de `Bag of Words` no resulta tan complicado, ¿pero cómo lo aplicamos en python?. \n",
        "\n",
        "Como podrán darse cuenta del ejemplo anterior, para facilitar el conteo será necesario transformar cada uno de los documentos en vectores, donde cada una de las posiciones posee un carácter. Este proceso es conocido como **tokenización** y lo podemos realizar de la siguiente forma:"
      ]
    },
    {
      "cell_type": "code",
      "execution_count": null,
      "metadata": {
        "colab": {
          "base_uri": "https://localhost:8080/"
        },
        "id": "btEA_FfYF7y-",
        "outputId": "547cf69d-a2c4-480a-b2dc-c40c6d2edefc"
      },
      "outputs": [
        {
          "output_type": "execute_result",
          "data": {
            "text/plain": [
              "[['The', 'teacher', 'rocks', 'like', 'a', 'good', 'rock', '&', 'roll'],\n",
              " ['the', 'rock', 'is', 'the', 'best', 'actor', 'in', 'the', 'world']]"
            ]
          },
          "metadata": {},
          "execution_count": 5
        }
      ],
      "source": [
        "docs = ['The teacher rocks like a good rock & roll',\n",
        "        'the rock is the best actor in the world']\n",
        "\n",
        "\n",
        "docs_tokenizados = [word_tokenize(doc)  for doc in docs]\n",
        "docs_tokenizados"
      ]
    },
    {
      "cell_type": "markdown",
      "metadata": {
        "id": "78_Pm9OUF7y_"
      },
      "source": [
        "Podemos mejorar un poco más el proceso de tokenización agregando \n",
        "\n",
        "- **Stemming:**  Definimos Stemming como un algoritmo basado en reglas que transforma las palabras a una forma general. Un ejemplo de stemming, es el siguiente:\n",
        "<p align=\"center\">\n",
        "  <img src=\"https://devopedia.org/images/article/218/8583.1569386710.png\" width=\"300\">\n",
        "</p>\n",
        "- **Eliminación de Stopwords:** Eliminación de palabras muy frecuentes que entorpecen la clasificación (por ejemplo, el, la los, la, etc...)\n"
      ]
    },
    {
      "cell_type": "code",
      "execution_count": null,
      "metadata": {
        "colab": {
          "base_uri": "https://localhost:8080/"
        },
        "id": "0HRowlGKF7y_",
        "outputId": "04d90fdd-5f28-42a2-ab86-a96204eb7a08"
      },
      "outputs": [
        {
          "output_type": "execute_result",
          "data": {
            "text/plain": [
              "[['the', 'teacher', 'rock', 'like', 'good', 'rock', '&', 'roll'],\n",
              " ['rock', 'best', 'actor', 'world'],\n",
              " ['new', 'york', 'beauti', 'citi']]"
            ]
          },
          "metadata": {},
          "execution_count": 6
        }
      ],
      "source": [
        "# Definimos algunas stopword que queremos que sean eliminadas\n",
        "import nltk\n",
        "#nltk.download('stopwords')\n",
        "\n",
        "from nltk.corpus import stopwords\n",
        "\n",
        "stop_words = stopwords.words('english')\n",
        "\n",
        "# Definimos un tokenizador con Stemming\n",
        "class StemmerTokenizer:\n",
        "    def __init__(self):\n",
        "        self.ps = PorterStemmer()\n",
        "        \n",
        "    def __call__(self, doc):\n",
        "        doc_tok = word_tokenize(doc)\n",
        "        doc_tok = [t for t in doc_tok if t not in stop_words]\n",
        "        return [self.ps.stem(t) for t in doc_tok]\n",
        "\n",
        "# Inicializamos tokenizador\n",
        "tokenizador = StemmerTokenizer()\n",
        "\n",
        "# Creamos algunos documentos\n",
        "docs = ['The teacher rocks like a good rock & roll',\n",
        "        'the rock is the best actor in the world',\n",
        "        'New York is a beautiful city']\n",
        "\n",
        "# Obtenemos el token del primer documento\n",
        "[tokenizador(doc) for doc in docs]"
      ]
    },
    {
      "cell_type": "code",
      "execution_count": null,
      "metadata": {
        "colab": {
          "base_uri": "https://localhost:8080/"
        },
        "id": "805A2zEbF7y_",
        "outputId": "f7052ccc-82a4-4637-d256-d3371505613f"
      },
      "outputs": [
        {
          "output_type": "execute_result",
          "data": {
            "text/plain": [
              "[['The', 'teacher', 'rocks', 'like', 'a', 'good', 'rock', '&', 'roll'],\n",
              " ['the', 'rock', 'is', 'the', 'best', 'actor', 'in', 'the', 'world'],\n",
              " ['New', 'York', 'is', 'a', 'beautiful', 'city']]"
            ]
          },
          "metadata": {},
          "execution_count": 7
        }
      ],
      "source": [
        "# Comparación con el caso anterior\n",
        "docs_tokenizados = [word_tokenize(doc) for doc in docs]\n",
        "docs_tokenizados"
      ]
    },
    {
      "cell_type": "markdown",
      "metadata": {
        "id": "ktqofB3ZF7zA"
      },
      "source": [
        "#### Al Estilo Scikit\n",
        "\n",
        "Scikit implementa `bag of words` a través de la clase `CountVectorizer()` la cual contiene muchas opciones para mejorar la tokenización."
      ]
    },
    {
      "cell_type": "code",
      "execution_count": null,
      "metadata": {
        "colab": {
          "base_uri": "https://localhost:8080/",
          "height": 143
        },
        "id": "kXvhyHcnF7zA",
        "outputId": "543e6c5c-6507-498a-e2e9-e0d034380b94"
      },
      "outputs": [
        {
          "output_type": "execute_result",
          "data": {
            "text/plain": [
              "   &  actor  beauti  best  citi  good  like  new  rock  roll  teacher  world  \\\n",
              "0  1      0       0     0     0     1     1    0     2     1        1      0   \n",
              "1  0      1       0     1     0     0     0    0     1     0        0      1   \n",
              "2  0      0       1     0     1     0     0    1     0     0        0      0   \n",
              "\n",
              "   york  \n",
              "0     0  \n",
              "1     0  \n",
              "2     1  "
            ],
            "text/html": [
              "\n",
              "  <div id=\"df-38444ca8-ba57-4e89-a095-59ca048e5048\">\n",
              "    <div class=\"colab-df-container\">\n",
              "      <div>\n",
              "<style scoped>\n",
              "    .dataframe tbody tr th:only-of-type {\n",
              "        vertical-align: middle;\n",
              "    }\n",
              "\n",
              "    .dataframe tbody tr th {\n",
              "        vertical-align: top;\n",
              "    }\n",
              "\n",
              "    .dataframe thead th {\n",
              "        text-align: right;\n",
              "    }\n",
              "</style>\n",
              "<table border=\"1\" class=\"dataframe\">\n",
              "  <thead>\n",
              "    <tr style=\"text-align: right;\">\n",
              "      <th></th>\n",
              "      <th>&amp;</th>\n",
              "      <th>actor</th>\n",
              "      <th>beauti</th>\n",
              "      <th>best</th>\n",
              "      <th>citi</th>\n",
              "      <th>good</th>\n",
              "      <th>like</th>\n",
              "      <th>new</th>\n",
              "      <th>rock</th>\n",
              "      <th>roll</th>\n",
              "      <th>teacher</th>\n",
              "      <th>world</th>\n",
              "      <th>york</th>\n",
              "    </tr>\n",
              "  </thead>\n",
              "  <tbody>\n",
              "    <tr>\n",
              "      <th>0</th>\n",
              "      <td>1</td>\n",
              "      <td>0</td>\n",
              "      <td>0</td>\n",
              "      <td>0</td>\n",
              "      <td>0</td>\n",
              "      <td>1</td>\n",
              "      <td>1</td>\n",
              "      <td>0</td>\n",
              "      <td>2</td>\n",
              "      <td>1</td>\n",
              "      <td>1</td>\n",
              "      <td>0</td>\n",
              "      <td>0</td>\n",
              "    </tr>\n",
              "    <tr>\n",
              "      <th>1</th>\n",
              "      <td>0</td>\n",
              "      <td>1</td>\n",
              "      <td>0</td>\n",
              "      <td>1</td>\n",
              "      <td>0</td>\n",
              "      <td>0</td>\n",
              "      <td>0</td>\n",
              "      <td>0</td>\n",
              "      <td>1</td>\n",
              "      <td>0</td>\n",
              "      <td>0</td>\n",
              "      <td>1</td>\n",
              "      <td>0</td>\n",
              "    </tr>\n",
              "    <tr>\n",
              "      <th>2</th>\n",
              "      <td>0</td>\n",
              "      <td>0</td>\n",
              "      <td>1</td>\n",
              "      <td>0</td>\n",
              "      <td>1</td>\n",
              "      <td>0</td>\n",
              "      <td>0</td>\n",
              "      <td>1</td>\n",
              "      <td>0</td>\n",
              "      <td>0</td>\n",
              "      <td>0</td>\n",
              "      <td>0</td>\n",
              "      <td>1</td>\n",
              "    </tr>\n",
              "  </tbody>\n",
              "</table>\n",
              "</div>\n",
              "      <button class=\"colab-df-convert\" onclick=\"convertToInteractive('df-38444ca8-ba57-4e89-a095-59ca048e5048')\"\n",
              "              title=\"Convert this dataframe to an interactive table.\"\n",
              "              style=\"display:none;\">\n",
              "        \n",
              "  <svg xmlns=\"http://www.w3.org/2000/svg\" height=\"24px\"viewBox=\"0 0 24 24\"\n",
              "       width=\"24px\">\n",
              "    <path d=\"M0 0h24v24H0V0z\" fill=\"none\"/>\n",
              "    <path d=\"M18.56 5.44l.94 2.06.94-2.06 2.06-.94-2.06-.94-.94-2.06-.94 2.06-2.06.94zm-11 1L8.5 8.5l.94-2.06 2.06-.94-2.06-.94L8.5 2.5l-.94 2.06-2.06.94zm10 10l.94 2.06.94-2.06 2.06-.94-2.06-.94-.94-2.06-.94 2.06-2.06.94z\"/><path d=\"M17.41 7.96l-1.37-1.37c-.4-.4-.92-.59-1.43-.59-.52 0-1.04.2-1.43.59L10.3 9.45l-7.72 7.72c-.78.78-.78 2.05 0 2.83L4 21.41c.39.39.9.59 1.41.59.51 0 1.02-.2 1.41-.59l7.78-7.78 2.81-2.81c.8-.78.8-2.07 0-2.86zM5.41 20L4 18.59l7.72-7.72 1.47 1.35L5.41 20z\"/>\n",
              "  </svg>\n",
              "      </button>\n",
              "      \n",
              "  <style>\n",
              "    .colab-df-container {\n",
              "      display:flex;\n",
              "      flex-wrap:wrap;\n",
              "      gap: 12px;\n",
              "    }\n",
              "\n",
              "    .colab-df-convert {\n",
              "      background-color: #E8F0FE;\n",
              "      border: none;\n",
              "      border-radius: 50%;\n",
              "      cursor: pointer;\n",
              "      display: none;\n",
              "      fill: #1967D2;\n",
              "      height: 32px;\n",
              "      padding: 0 0 0 0;\n",
              "      width: 32px;\n",
              "    }\n",
              "\n",
              "    .colab-df-convert:hover {\n",
              "      background-color: #E2EBFA;\n",
              "      box-shadow: 0px 1px 2px rgba(60, 64, 67, 0.3), 0px 1px 3px 1px rgba(60, 64, 67, 0.15);\n",
              "      fill: #174EA6;\n",
              "    }\n",
              "\n",
              "    [theme=dark] .colab-df-convert {\n",
              "      background-color: #3B4455;\n",
              "      fill: #D2E3FC;\n",
              "    }\n",
              "\n",
              "    [theme=dark] .colab-df-convert:hover {\n",
              "      background-color: #434B5C;\n",
              "      box-shadow: 0px 1px 3px 1px rgba(0, 0, 0, 0.15);\n",
              "      filter: drop-shadow(0px 1px 2px rgba(0, 0, 0, 0.3));\n",
              "      fill: #FFFFFF;\n",
              "    }\n",
              "  </style>\n",
              "\n",
              "      <script>\n",
              "        const buttonEl =\n",
              "          document.querySelector('#df-38444ca8-ba57-4e89-a095-59ca048e5048 button.colab-df-convert');\n",
              "        buttonEl.style.display =\n",
              "          google.colab.kernel.accessAllowed ? 'block' : 'none';\n",
              "\n",
              "        async function convertToInteractive(key) {\n",
              "          const element = document.querySelector('#df-38444ca8-ba57-4e89-a095-59ca048e5048');\n",
              "          const dataTable =\n",
              "            await google.colab.kernel.invokeFunction('convertToInteractive',\n",
              "                                                     [key], {});\n",
              "          if (!dataTable) return;\n",
              "\n",
              "          const docLinkHtml = 'Like what you see? Visit the ' +\n",
              "            '<a target=\"_blank\" href=https://colab.research.google.com/notebooks/data_table.ipynb>data table notebook</a>'\n",
              "            + ' to learn more about interactive tables.';\n",
              "          element.innerHTML = '';\n",
              "          dataTable['output_type'] = 'display_data';\n",
              "          await google.colab.output.renderOutput(dataTable, element);\n",
              "          const docLink = document.createElement('div');\n",
              "          docLink.innerHTML = docLinkHtml;\n",
              "          element.appendChild(docLink);\n",
              "        }\n",
              "      </script>\n",
              "    </div>\n",
              "  </div>\n",
              "  "
            ]
          },
          "metadata": {},
          "execution_count": 8
        }
      ],
      "source": [
        "bow = CountVectorizer(tokenizer= StemmerTokenizer())\n",
        "# CounterVectorizer() funciona con la típica interfaz de sklearn fit/fit_transform:\n",
        "df = bow.fit_transform(docs)\n",
        "\n",
        "# .get_feature_names_out() entrega el corpus de palabras encontradas por el tonekizador \n",
        "# en los documentos\n",
        "pd.DataFrame(df.toarray(), columns=bow.get_feature_names_out())"
      ]
    },
    {
      "cell_type": "code",
      "execution_count": null,
      "metadata": {
        "colab": {
          "base_uri": "https://localhost:8080/"
        },
        "id": "hggDaTotC-D7",
        "outputId": "26f6de51-d2bd-4d11-c107-f28a83abdc65"
      },
      "outputs": [
        {
          "output_type": "execute_result",
          "data": {
            "text/plain": [
              "<3x13 sparse matrix of type '<class 'numpy.int64'>'\n",
              "\twith 14 stored elements in Compressed Sparse Row format>"
            ]
          },
          "metadata": {},
          "execution_count": 9
        }
      ],
      "source": [
        "# La transformación originalmente entrega una \"sparse matrix\" (+ eficiente en memoria)\n",
        "# pero es posible transformar en un dataframe como se hizo arriba\n",
        "df"
      ]
    },
    {
      "cell_type": "markdown",
      "metadata": {
        "id": "50atxhxMF7zB"
      },
      "source": [
        "Una de las cosas más interesantes que provee son el use de n-gramas, los cuales, en palabras simples, son conjuntos de n-palabras que se concatenan entre si y que se consideran como tokens separados. \n",
        "\n",
        "Pensemos en `Nueva York`. Cuando se tokeniza Nueva York, se generan dos tokens independientes que a simple vista no tienen relación: `Nueva` `York`.\n",
        "Al usar n-gramas (en un rango min=1,max=2) , generamos tanto `Nueva` y `York` como también `Nueva York` como un token independiente."
      ]
    },
    {
      "cell_type": "code",
      "execution_count": null,
      "metadata": {
        "colab": {
          "base_uri": "https://localhost:8080/",
          "height": 234
        },
        "id": "3oJqcn8IF7zB",
        "outputId": "69fb15b3-e5af-46af-9d80-b60b420bb03d"
      },
      "outputs": [
        {
          "output_type": "execute_result",
          "data": {
            "text/plain": [
              "   &  & roll  actor  actor world  beauti  beauti citi  best  best actor  citi  \\\n",
              "0  1       1      0            0       0            0     0           0     0   \n",
              "1  0       0      1            1       0            0     1           1     0   \n",
              "2  0       0      0            0       1            1     0           0     1   \n",
              "\n",
              "   good  ...  rock  rock &  rock best  rock like  roll  teacher  teacher rock  \\\n",
              "0     1  ...     2       1          0          1     1        1             1   \n",
              "1     0  ...     1       0          1          0     0        0             0   \n",
              "2     0  ...     0       0          0          0     0        0             0   \n",
              "\n",
              "   world  york  york beauti  \n",
              "0      0     0            0  \n",
              "1      1     0            0  \n",
              "2      0     1            1  \n",
              "\n",
              "[3 rows x 25 columns]"
            ],
            "text/html": [
              "\n",
              "  <div id=\"df-922e9083-0ed3-45c0-b340-f3ad7ea81197\">\n",
              "    <div class=\"colab-df-container\">\n",
              "      <div>\n",
              "<style scoped>\n",
              "    .dataframe tbody tr th:only-of-type {\n",
              "        vertical-align: middle;\n",
              "    }\n",
              "\n",
              "    .dataframe tbody tr th {\n",
              "        vertical-align: top;\n",
              "    }\n",
              "\n",
              "    .dataframe thead th {\n",
              "        text-align: right;\n",
              "    }\n",
              "</style>\n",
              "<table border=\"1\" class=\"dataframe\">\n",
              "  <thead>\n",
              "    <tr style=\"text-align: right;\">\n",
              "      <th></th>\n",
              "      <th>&amp;</th>\n",
              "      <th>&amp; roll</th>\n",
              "      <th>actor</th>\n",
              "      <th>actor world</th>\n",
              "      <th>beauti</th>\n",
              "      <th>beauti citi</th>\n",
              "      <th>best</th>\n",
              "      <th>best actor</th>\n",
              "      <th>citi</th>\n",
              "      <th>good</th>\n",
              "      <th>...</th>\n",
              "      <th>rock</th>\n",
              "      <th>rock &amp;</th>\n",
              "      <th>rock best</th>\n",
              "      <th>rock like</th>\n",
              "      <th>roll</th>\n",
              "      <th>teacher</th>\n",
              "      <th>teacher rock</th>\n",
              "      <th>world</th>\n",
              "      <th>york</th>\n",
              "      <th>york beauti</th>\n",
              "    </tr>\n",
              "  </thead>\n",
              "  <tbody>\n",
              "    <tr>\n",
              "      <th>0</th>\n",
              "      <td>1</td>\n",
              "      <td>1</td>\n",
              "      <td>0</td>\n",
              "      <td>0</td>\n",
              "      <td>0</td>\n",
              "      <td>0</td>\n",
              "      <td>0</td>\n",
              "      <td>0</td>\n",
              "      <td>0</td>\n",
              "      <td>1</td>\n",
              "      <td>...</td>\n",
              "      <td>2</td>\n",
              "      <td>1</td>\n",
              "      <td>0</td>\n",
              "      <td>1</td>\n",
              "      <td>1</td>\n",
              "      <td>1</td>\n",
              "      <td>1</td>\n",
              "      <td>0</td>\n",
              "      <td>0</td>\n",
              "      <td>0</td>\n",
              "    </tr>\n",
              "    <tr>\n",
              "      <th>1</th>\n",
              "      <td>0</td>\n",
              "      <td>0</td>\n",
              "      <td>1</td>\n",
              "      <td>1</td>\n",
              "      <td>0</td>\n",
              "      <td>0</td>\n",
              "      <td>1</td>\n",
              "      <td>1</td>\n",
              "      <td>0</td>\n",
              "      <td>0</td>\n",
              "      <td>...</td>\n",
              "      <td>1</td>\n",
              "      <td>0</td>\n",
              "      <td>1</td>\n",
              "      <td>0</td>\n",
              "      <td>0</td>\n",
              "      <td>0</td>\n",
              "      <td>0</td>\n",
              "      <td>1</td>\n",
              "      <td>0</td>\n",
              "      <td>0</td>\n",
              "    </tr>\n",
              "    <tr>\n",
              "      <th>2</th>\n",
              "      <td>0</td>\n",
              "      <td>0</td>\n",
              "      <td>0</td>\n",
              "      <td>0</td>\n",
              "      <td>1</td>\n",
              "      <td>1</td>\n",
              "      <td>0</td>\n",
              "      <td>0</td>\n",
              "      <td>1</td>\n",
              "      <td>0</td>\n",
              "      <td>...</td>\n",
              "      <td>0</td>\n",
              "      <td>0</td>\n",
              "      <td>0</td>\n",
              "      <td>0</td>\n",
              "      <td>0</td>\n",
              "      <td>0</td>\n",
              "      <td>0</td>\n",
              "      <td>0</td>\n",
              "      <td>1</td>\n",
              "      <td>1</td>\n",
              "    </tr>\n",
              "  </tbody>\n",
              "</table>\n",
              "<p>3 rows × 25 columns</p>\n",
              "</div>\n",
              "      <button class=\"colab-df-convert\" onclick=\"convertToInteractive('df-922e9083-0ed3-45c0-b340-f3ad7ea81197')\"\n",
              "              title=\"Convert this dataframe to an interactive table.\"\n",
              "              style=\"display:none;\">\n",
              "        \n",
              "  <svg xmlns=\"http://www.w3.org/2000/svg\" height=\"24px\"viewBox=\"0 0 24 24\"\n",
              "       width=\"24px\">\n",
              "    <path d=\"M0 0h24v24H0V0z\" fill=\"none\"/>\n",
              "    <path d=\"M18.56 5.44l.94 2.06.94-2.06 2.06-.94-2.06-.94-.94-2.06-.94 2.06-2.06.94zm-11 1L8.5 8.5l.94-2.06 2.06-.94-2.06-.94L8.5 2.5l-.94 2.06-2.06.94zm10 10l.94 2.06.94-2.06 2.06-.94-2.06-.94-.94-2.06-.94 2.06-2.06.94z\"/><path d=\"M17.41 7.96l-1.37-1.37c-.4-.4-.92-.59-1.43-.59-.52 0-1.04.2-1.43.59L10.3 9.45l-7.72 7.72c-.78.78-.78 2.05 0 2.83L4 21.41c.39.39.9.59 1.41.59.51 0 1.02-.2 1.41-.59l7.78-7.78 2.81-2.81c.8-.78.8-2.07 0-2.86zM5.41 20L4 18.59l7.72-7.72 1.47 1.35L5.41 20z\"/>\n",
              "  </svg>\n",
              "      </button>\n",
              "      \n",
              "  <style>\n",
              "    .colab-df-container {\n",
              "      display:flex;\n",
              "      flex-wrap:wrap;\n",
              "      gap: 12px;\n",
              "    }\n",
              "\n",
              "    .colab-df-convert {\n",
              "      background-color: #E8F0FE;\n",
              "      border: none;\n",
              "      border-radius: 50%;\n",
              "      cursor: pointer;\n",
              "      display: none;\n",
              "      fill: #1967D2;\n",
              "      height: 32px;\n",
              "      padding: 0 0 0 0;\n",
              "      width: 32px;\n",
              "    }\n",
              "\n",
              "    .colab-df-convert:hover {\n",
              "      background-color: #E2EBFA;\n",
              "      box-shadow: 0px 1px 2px rgba(60, 64, 67, 0.3), 0px 1px 3px 1px rgba(60, 64, 67, 0.15);\n",
              "      fill: #174EA6;\n",
              "    }\n",
              "\n",
              "    [theme=dark] .colab-df-convert {\n",
              "      background-color: #3B4455;\n",
              "      fill: #D2E3FC;\n",
              "    }\n",
              "\n",
              "    [theme=dark] .colab-df-convert:hover {\n",
              "      background-color: #434B5C;\n",
              "      box-shadow: 0px 1px 3px 1px rgba(0, 0, 0, 0.15);\n",
              "      filter: drop-shadow(0px 1px 2px rgba(0, 0, 0, 0.3));\n",
              "      fill: #FFFFFF;\n",
              "    }\n",
              "  </style>\n",
              "\n",
              "      <script>\n",
              "        const buttonEl =\n",
              "          document.querySelector('#df-922e9083-0ed3-45c0-b340-f3ad7ea81197 button.colab-df-convert');\n",
              "        buttonEl.style.display =\n",
              "          google.colab.kernel.accessAllowed ? 'block' : 'none';\n",
              "\n",
              "        async function convertToInteractive(key) {\n",
              "          const element = document.querySelector('#df-922e9083-0ed3-45c0-b340-f3ad7ea81197');\n",
              "          const dataTable =\n",
              "            await google.colab.kernel.invokeFunction('convertToInteractive',\n",
              "                                                     [key], {});\n",
              "          if (!dataTable) return;\n",
              "\n",
              "          const docLinkHtml = 'Like what you see? Visit the ' +\n",
              "            '<a target=\"_blank\" href=https://colab.research.google.com/notebooks/data_table.ipynb>data table notebook</a>'\n",
              "            + ' to learn more about interactive tables.';\n",
              "          element.innerHTML = '';\n",
              "          dataTable['output_type'] = 'display_data';\n",
              "          await google.colab.output.renderOutput(dataTable, element);\n",
              "          const docLink = document.createElement('div');\n",
              "          docLink.innerHTML = docLinkHtml;\n",
              "          element.appendChild(docLink);\n",
              "        }\n",
              "      </script>\n",
              "    </div>\n",
              "  </div>\n",
              "  "
            ]
          },
          "metadata": {},
          "execution_count": 10
        }
      ],
      "source": [
        "bow = CountVectorizer(tokenizer= StemmerTokenizer(), ngram_range=(1,2))\n",
        "df = bow.fit_transform(docs)\n",
        "\n",
        "pd.DataFrame(df.toarray(), columns=bow.get_feature_names_out())"
      ]
    },
    {
      "cell_type": "markdown",
      "metadata": {
        "id": "rAraXMD7F7zB"
      },
      "source": [
        "De los resultados, podemos ver que generamos vectores de conteo para cada una de las palabras que conforman el corpus.  Un punto extra que se agrega en esta obtención de frecuencias son los bigramas, que básicamente son el conjunto de palabras de tamaño de aparecen juntas en el texto."
      ]
    },
    {
      "cell_type": "markdown",
      "metadata": {
        "id": "HXf7WywhF7zC"
      },
      "source": [
        "## Codificando los Super{heroes, villanos}  [0.5 Puntos]\n",
        "\n",
        "<p align=\"center\">\n",
        "  <img src=\"https://c.tenor.com/LkQzw7k5DV4AAAAd/anime-hacking.gif\" width=\"300\">\n",
        "</p>\n",
        "\n",
        "Conociendo ahora que es el proceso de `bag of words`, aplique este modelo de obtención de caracteristicas de la siguiente forma en un pipeline:\n",
        "\n",
        "- Utilice el tokenizador entregado.\n",
        "- Obtenga caracteristicas de los unigramas y bigramas del texto (tal como el ejemplo).\n",
        "\n",
        "```python\n",
        "bog = CountVectorizer(tokenizer= StemmerTokenizer(),`\n",
        "                      ngram_range=(1,2) # Este punto es opcional y es para generar bigramas\n",
        "                      )\n",
        "```"
      ]
    },
    {
      "cell_type": "markdown",
      "metadata": {
        "id": "fZdVO2KmF7zD"
      },
      "source": [
        "Finalmente, aplique `MinMaxScaler()` sobre `atributos_de_interes` y concatene el valor obtenido con el matriz de caracteristicas obtenidas con bag of words.\n",
        "\n",
        "```python\n",
        "atributos_de_interes = ['intelligence_score', 'strength_score', 'speed_score', 'durability_score', 'power_score', 'combat_score']\n",
        "```\n",
        "\n",
        "No es necesario que obtenga un dataframe en concreto con las características solicitadas. Se le recomienda generar un `ColumnTransformer()` para aplicar las transformaciones solicitadas en un pipeline.\n",
        "\n",
        "**To-Do:**\n",
        "- [X] Obtener a traves de Bag of Words (`CountVectorizer`) caracteristicas del resumen de historia de cada personaje.\n",
        "- [X] Aplicar `MinMaxScaler` sobre los atributos de interes."
      ]
    },
    {
      "cell_type": "markdown",
      "metadata": {
        "id": "-_mHmSCHF7zD"
      },
      "source": [
        "**Respuesta:**"
      ]
    },
    {
      "cell_type": "code",
      "execution_count": null,
      "metadata": {
        "colab": {
          "base_uri": "https://localhost:8080/"
        },
        "id": "rP8lwlAOHJj4",
        "outputId": "ca66fdbf-3c71-4cfa-bc6d-aae60071001e"
      },
      "outputs": [
        {
          "output_type": "execute_result",
          "data": {
            "text/plain": [
              "intelligence_score    0\n",
              "strength_score        0\n",
              "speed_score           0\n",
              "durability_score      0\n",
              "power_score           0\n",
              "combat_score          0\n",
              "dtype: int64"
            ]
          },
          "metadata": {},
          "execution_count": 11
        }
      ],
      "source": [
        "# ¿Hay NAs en las columnas?\n",
        "atributos_de_interes = ['intelligence_score', 'strength_score', 'speed_score',\n",
        "                        'durability_score', 'power_score', 'combat_score']\n",
        "atributo_a_tokenizar = 'history_text'\n",
        "\n",
        "df_comics[atributos_de_interes].isna().sum(axis=0)"
      ]
    },
    {
      "cell_type": "markdown",
      "metadata": {
        "id": "EpT5VqTcImeJ"
      },
      "source": [
        "Se crea el _pipeline_ `preprocessing` que concatena dos transformaciones\n",
        "sobre columnas de interes:\n",
        "\n",
        "* `num_pipe`: _pipeline_ encargado de aplicar la transformación `MinMaxScaler` \n",
        "sobre los atributos de interes númericos\n",
        "* `bag_of_words`: _pipeline_ encargado de aplicar las transformaciones para\n",
        "obtener el _bag of words_ del atributo de texto de interes\n",
        "\n",
        "\n",
        "Notas que a transformación sobre el atributo de texto `history_text` genera\n",
        "una matriz a partir de un vector, por lo que se debe considerar este\n",
        "cambio de estructura en el Pipeline..."
      ]
    },
    {
      "cell_type": "code",
      "execution_count": null,
      "metadata": {
        "id": "91YK1YL1Hn90"
      },
      "outputs": [],
      "source": [
        "# Pipeline con la transformación encargada de escalar\n",
        "num_pipe = Pipeline(\n",
        "    steps=[\n",
        "        (\"scaler\", MinMaxScaler()),\n",
        "    ]\n",
        ")\n",
        "\n",
        "# Pipeline con la transformación encargada de tokenizar\n",
        "bag_of_words = Pipeline(\n",
        "    steps=[\n",
        "        (\"tokenizer\", CountVectorizer(tokenizer=StemmerTokenizer(), ngram_range=(1,2))),\n",
        "    ]\n",
        ")\n",
        "\n",
        "# Las transformaciones se aplican en tuplas que asocian Pipelines a grupos de\n",
        "# columnas\n",
        "preprocessing = Pipeline([\n",
        "    (\"column_transform\", ColumnTransformer(transformers=[\n",
        "        (\"num\", num_pipe, atributos_de_interes),\n",
        "        (\"words\", bag_of_words, atributo_a_tokenizar),\n",
        "    ]\n",
        "  ))\n",
        "])"
      ]
    },
    {
      "cell_type": "markdown",
      "metadata": {
        "id": "3p-l31VcXSZC"
      },
      "source": [
        "Verificamos si las transformaciones se están aplicando correctamente usando\n",
        "solo 100 observaciones:"
      ]
    },
    {
      "cell_type": "code",
      "execution_count": null,
      "metadata": {
        "colab": {
          "base_uri": "https://localhost:8080/",
          "height": 423
        },
        "id": "UEWTo7FhV2T7",
        "outputId": "5fb75444-b3c9-42f7-87dc-ac472536e3ba"
      },
      "outputs": [
        {
          "output_type": "execute_result",
          "data": {
            "text/plain": [
              "    0      1      2      3      4      5      6      7      8      9      ...  \\\n",
              "0    0.85   0.30   0.60   0.60   0.40   0.70    0.0    0.0    0.0    0.0  ...   \n",
              "1    0.80   1.00   0.80   1.00   1.00   0.80    0.0    0.0    0.0    0.0  ...   \n",
              "2    0.80   0.50   0.55   0.45   1.00   0.55    0.0    0.0    0.0    0.0  ...   \n",
              "3    0.80   0.10   0.25   0.40   0.30   0.50    0.0    0.0    0.0    0.0  ...   \n",
              "4    0.90   0.40   0.45   0.55   0.55   0.85    0.0    0.0    0.0    0.0  ...   \n",
              "..    ...    ...    ...    ...    ...    ...    ...    ...    ...    ...  ...   \n",
              "95   0.65   0.55   0.25   0.55   0.20   0.55    0.0    0.0    0.0    0.0  ...   \n",
              "96   0.90   0.15   0.25   0.50   0.50   1.00    0.0    0.0    0.0    0.0  ...   \n",
              "97   1.00   0.30   0.65   0.60   1.00   0.90    0.0    0.0    0.0    0.0  ...   \n",
              "98   1.00   0.30   0.50   0.50   0.30   1.00    0.0    0.0    0.0    0.0  ...   \n",
              "99   0.90   0.50   0.20   0.65   0.80   0.80    1.0    0.0    0.0    1.0  ...   \n",
              "\n",
              "    36106  36107  36108  36109  36110  36111  36112  36113  36114  36115  \n",
              "0     0.0    0.0    0.0    0.0    0.0    0.0    0.0    0.0    0.0    0.0  \n",
              "1     0.0    0.0    0.0    0.0    0.0    0.0    0.0    0.0    0.0    0.0  \n",
              "2     0.0    0.0    0.0    0.0    0.0    0.0    0.0    0.0    0.0    0.0  \n",
              "3     0.0    0.0    0.0    0.0    0.0    0.0    0.0    0.0    0.0    0.0  \n",
              "4     0.0    0.0    0.0    0.0    0.0    0.0    0.0    0.0    0.0    0.0  \n",
              "..    ...    ...    ...    ...    ...    ...    ...    ...    ...    ...  \n",
              "95    0.0    0.0    0.0    0.0    0.0    0.0    0.0    0.0    0.0    0.0  \n",
              "96    1.0    4.0    0.0    0.0    2.0    0.0    1.0    1.0    0.0    0.0  \n",
              "97    0.0    0.0    0.0    0.0    0.0    0.0    0.0    0.0    0.0    0.0  \n",
              "98    0.0    0.0    0.0    0.0    0.0    0.0    0.0    0.0    0.0    0.0  \n",
              "99    0.0    0.0    0.0    0.0    0.0    0.0    0.0    0.0    0.0    0.0  \n",
              "\n",
              "[100 rows x 36116 columns]"
            ],
            "text/html": [
              "\n",
              "  <div id=\"df-b5f42341-9306-431c-ba94-d0c1cb93c163\">\n",
              "    <div class=\"colab-df-container\">\n",
              "      <div>\n",
              "<style scoped>\n",
              "    .dataframe tbody tr th:only-of-type {\n",
              "        vertical-align: middle;\n",
              "    }\n",
              "\n",
              "    .dataframe tbody tr th {\n",
              "        vertical-align: top;\n",
              "    }\n",
              "\n",
              "    .dataframe thead th {\n",
              "        text-align: right;\n",
              "    }\n",
              "</style>\n",
              "<table border=\"1\" class=\"dataframe\">\n",
              "  <thead>\n",
              "    <tr style=\"text-align: right;\">\n",
              "      <th></th>\n",
              "      <th>0</th>\n",
              "      <th>1</th>\n",
              "      <th>2</th>\n",
              "      <th>3</th>\n",
              "      <th>4</th>\n",
              "      <th>5</th>\n",
              "      <th>6</th>\n",
              "      <th>7</th>\n",
              "      <th>8</th>\n",
              "      <th>9</th>\n",
              "      <th>...</th>\n",
              "      <th>36106</th>\n",
              "      <th>36107</th>\n",
              "      <th>36108</th>\n",
              "      <th>36109</th>\n",
              "      <th>36110</th>\n",
              "      <th>36111</th>\n",
              "      <th>36112</th>\n",
              "      <th>36113</th>\n",
              "      <th>36114</th>\n",
              "      <th>36115</th>\n",
              "    </tr>\n",
              "  </thead>\n",
              "  <tbody>\n",
              "    <tr>\n",
              "      <th>0</th>\n",
              "      <td>0.85</td>\n",
              "      <td>0.30</td>\n",
              "      <td>0.60</td>\n",
              "      <td>0.60</td>\n",
              "      <td>0.40</td>\n",
              "      <td>0.70</td>\n",
              "      <td>0.0</td>\n",
              "      <td>0.0</td>\n",
              "      <td>0.0</td>\n",
              "      <td>0.0</td>\n",
              "      <td>...</td>\n",
              "      <td>0.0</td>\n",
              "      <td>0.0</td>\n",
              "      <td>0.0</td>\n",
              "      <td>0.0</td>\n",
              "      <td>0.0</td>\n",
              "      <td>0.0</td>\n",
              "      <td>0.0</td>\n",
              "      <td>0.0</td>\n",
              "      <td>0.0</td>\n",
              "      <td>0.0</td>\n",
              "    </tr>\n",
              "    <tr>\n",
              "      <th>1</th>\n",
              "      <td>0.80</td>\n",
              "      <td>1.00</td>\n",
              "      <td>0.80</td>\n",
              "      <td>1.00</td>\n",
              "      <td>1.00</td>\n",
              "      <td>0.80</td>\n",
              "      <td>0.0</td>\n",
              "      <td>0.0</td>\n",
              "      <td>0.0</td>\n",
              "      <td>0.0</td>\n",
              "      <td>...</td>\n",
              "      <td>0.0</td>\n",
              "      <td>0.0</td>\n",
              "      <td>0.0</td>\n",
              "      <td>0.0</td>\n",
              "      <td>0.0</td>\n",
              "      <td>0.0</td>\n",
              "      <td>0.0</td>\n",
              "      <td>0.0</td>\n",
              "      <td>0.0</td>\n",
              "      <td>0.0</td>\n",
              "    </tr>\n",
              "    <tr>\n",
              "      <th>2</th>\n",
              "      <td>0.80</td>\n",
              "      <td>0.50</td>\n",
              "      <td>0.55</td>\n",
              "      <td>0.45</td>\n",
              "      <td>1.00</td>\n",
              "      <td>0.55</td>\n",
              "      <td>0.0</td>\n",
              "      <td>0.0</td>\n",
              "      <td>0.0</td>\n",
              "      <td>0.0</td>\n",
              "      <td>...</td>\n",
              "      <td>0.0</td>\n",
              "      <td>0.0</td>\n",
              "      <td>0.0</td>\n",
              "      <td>0.0</td>\n",
              "      <td>0.0</td>\n",
              "      <td>0.0</td>\n",
              "      <td>0.0</td>\n",
              "      <td>0.0</td>\n",
              "      <td>0.0</td>\n",
              "      <td>0.0</td>\n",
              "    </tr>\n",
              "    <tr>\n",
              "      <th>3</th>\n",
              "      <td>0.80</td>\n",
              "      <td>0.10</td>\n",
              "      <td>0.25</td>\n",
              "      <td>0.40</td>\n",
              "      <td>0.30</td>\n",
              "      <td>0.50</td>\n",
              "      <td>0.0</td>\n",
              "      <td>0.0</td>\n",
              "      <td>0.0</td>\n",
              "      <td>0.0</td>\n",
              "      <td>...</td>\n",
              "      <td>0.0</td>\n",
              "      <td>0.0</td>\n",
              "      <td>0.0</td>\n",
              "      <td>0.0</td>\n",
              "      <td>0.0</td>\n",
              "      <td>0.0</td>\n",
              "      <td>0.0</td>\n",
              "      <td>0.0</td>\n",
              "      <td>0.0</td>\n",
              "      <td>0.0</td>\n",
              "    </tr>\n",
              "    <tr>\n",
              "      <th>4</th>\n",
              "      <td>0.90</td>\n",
              "      <td>0.40</td>\n",
              "      <td>0.45</td>\n",
              "      <td>0.55</td>\n",
              "      <td>0.55</td>\n",
              "      <td>0.85</td>\n",
              "      <td>0.0</td>\n",
              "      <td>0.0</td>\n",
              "      <td>0.0</td>\n",
              "      <td>0.0</td>\n",
              "      <td>...</td>\n",
              "      <td>0.0</td>\n",
              "      <td>0.0</td>\n",
              "      <td>0.0</td>\n",
              "      <td>0.0</td>\n",
              "      <td>0.0</td>\n",
              "      <td>0.0</td>\n",
              "      <td>0.0</td>\n",
              "      <td>0.0</td>\n",
              "      <td>0.0</td>\n",
              "      <td>0.0</td>\n",
              "    </tr>\n",
              "    <tr>\n",
              "      <th>...</th>\n",
              "      <td>...</td>\n",
              "      <td>...</td>\n",
              "      <td>...</td>\n",
              "      <td>...</td>\n",
              "      <td>...</td>\n",
              "      <td>...</td>\n",
              "      <td>...</td>\n",
              "      <td>...</td>\n",
              "      <td>...</td>\n",
              "      <td>...</td>\n",
              "      <td>...</td>\n",
              "      <td>...</td>\n",
              "      <td>...</td>\n",
              "      <td>...</td>\n",
              "      <td>...</td>\n",
              "      <td>...</td>\n",
              "      <td>...</td>\n",
              "      <td>...</td>\n",
              "      <td>...</td>\n",
              "      <td>...</td>\n",
              "      <td>...</td>\n",
              "    </tr>\n",
              "    <tr>\n",
              "      <th>95</th>\n",
              "      <td>0.65</td>\n",
              "      <td>0.55</td>\n",
              "      <td>0.25</td>\n",
              "      <td>0.55</td>\n",
              "      <td>0.20</td>\n",
              "      <td>0.55</td>\n",
              "      <td>0.0</td>\n",
              "      <td>0.0</td>\n",
              "      <td>0.0</td>\n",
              "      <td>0.0</td>\n",
              "      <td>...</td>\n",
              "      <td>0.0</td>\n",
              "      <td>0.0</td>\n",
              "      <td>0.0</td>\n",
              "      <td>0.0</td>\n",
              "      <td>0.0</td>\n",
              "      <td>0.0</td>\n",
              "      <td>0.0</td>\n",
              "      <td>0.0</td>\n",
              "      <td>0.0</td>\n",
              "      <td>0.0</td>\n",
              "    </tr>\n",
              "    <tr>\n",
              "      <th>96</th>\n",
              "      <td>0.90</td>\n",
              "      <td>0.15</td>\n",
              "      <td>0.25</td>\n",
              "      <td>0.50</td>\n",
              "      <td>0.50</td>\n",
              "      <td>1.00</td>\n",
              "      <td>0.0</td>\n",
              "      <td>0.0</td>\n",
              "      <td>0.0</td>\n",
              "      <td>0.0</td>\n",
              "      <td>...</td>\n",
              "      <td>1.0</td>\n",
              "      <td>4.0</td>\n",
              "      <td>0.0</td>\n",
              "      <td>0.0</td>\n",
              "      <td>2.0</td>\n",
              "      <td>0.0</td>\n",
              "      <td>1.0</td>\n",
              "      <td>1.0</td>\n",
              "      <td>0.0</td>\n",
              "      <td>0.0</td>\n",
              "    </tr>\n",
              "    <tr>\n",
              "      <th>97</th>\n",
              "      <td>1.00</td>\n",
              "      <td>0.30</td>\n",
              "      <td>0.65</td>\n",
              "      <td>0.60</td>\n",
              "      <td>1.00</td>\n",
              "      <td>0.90</td>\n",
              "      <td>0.0</td>\n",
              "      <td>0.0</td>\n",
              "      <td>0.0</td>\n",
              "      <td>0.0</td>\n",
              "      <td>...</td>\n",
              "      <td>0.0</td>\n",
              "      <td>0.0</td>\n",
              "      <td>0.0</td>\n",
              "      <td>0.0</td>\n",
              "      <td>0.0</td>\n",
              "      <td>0.0</td>\n",
              "      <td>0.0</td>\n",
              "      <td>0.0</td>\n",
              "      <td>0.0</td>\n",
              "      <td>0.0</td>\n",
              "    </tr>\n",
              "    <tr>\n",
              "      <th>98</th>\n",
              "      <td>1.00</td>\n",
              "      <td>0.30</td>\n",
              "      <td>0.50</td>\n",
              "      <td>0.50</td>\n",
              "      <td>0.30</td>\n",
              "      <td>1.00</td>\n",
              "      <td>0.0</td>\n",
              "      <td>0.0</td>\n",
              "      <td>0.0</td>\n",
              "      <td>0.0</td>\n",
              "      <td>...</td>\n",
              "      <td>0.0</td>\n",
              "      <td>0.0</td>\n",
              "      <td>0.0</td>\n",
              "      <td>0.0</td>\n",
              "      <td>0.0</td>\n",
              "      <td>0.0</td>\n",
              "      <td>0.0</td>\n",
              "      <td>0.0</td>\n",
              "      <td>0.0</td>\n",
              "      <td>0.0</td>\n",
              "    </tr>\n",
              "    <tr>\n",
              "      <th>99</th>\n",
              "      <td>0.90</td>\n",
              "      <td>0.50</td>\n",
              "      <td>0.20</td>\n",
              "      <td>0.65</td>\n",
              "      <td>0.80</td>\n",
              "      <td>0.80</td>\n",
              "      <td>1.0</td>\n",
              "      <td>0.0</td>\n",
              "      <td>0.0</td>\n",
              "      <td>1.0</td>\n",
              "      <td>...</td>\n",
              "      <td>0.0</td>\n",
              "      <td>0.0</td>\n",
              "      <td>0.0</td>\n",
              "      <td>0.0</td>\n",
              "      <td>0.0</td>\n",
              "      <td>0.0</td>\n",
              "      <td>0.0</td>\n",
              "      <td>0.0</td>\n",
              "      <td>0.0</td>\n",
              "      <td>0.0</td>\n",
              "    </tr>\n",
              "  </tbody>\n",
              "</table>\n",
              "<p>100 rows × 36116 columns</p>\n",
              "</div>\n",
              "      <button class=\"colab-df-convert\" onclick=\"convertToInteractive('df-b5f42341-9306-431c-ba94-d0c1cb93c163')\"\n",
              "              title=\"Convert this dataframe to an interactive table.\"\n",
              "              style=\"display:none;\">\n",
              "        \n",
              "  <svg xmlns=\"http://www.w3.org/2000/svg\" height=\"24px\"viewBox=\"0 0 24 24\"\n",
              "       width=\"24px\">\n",
              "    <path d=\"M0 0h24v24H0V0z\" fill=\"none\"/>\n",
              "    <path d=\"M18.56 5.44l.94 2.06.94-2.06 2.06-.94-2.06-.94-.94-2.06-.94 2.06-2.06.94zm-11 1L8.5 8.5l.94-2.06 2.06-.94-2.06-.94L8.5 2.5l-.94 2.06-2.06.94zm10 10l.94 2.06.94-2.06 2.06-.94-2.06-.94-.94-2.06-.94 2.06-2.06.94z\"/><path d=\"M17.41 7.96l-1.37-1.37c-.4-.4-.92-.59-1.43-.59-.52 0-1.04.2-1.43.59L10.3 9.45l-7.72 7.72c-.78.78-.78 2.05 0 2.83L4 21.41c.39.39.9.59 1.41.59.51 0 1.02-.2 1.41-.59l7.78-7.78 2.81-2.81c.8-.78.8-2.07 0-2.86zM5.41 20L4 18.59l7.72-7.72 1.47 1.35L5.41 20z\"/>\n",
              "  </svg>\n",
              "      </button>\n",
              "      \n",
              "  <style>\n",
              "    .colab-df-container {\n",
              "      display:flex;\n",
              "      flex-wrap:wrap;\n",
              "      gap: 12px;\n",
              "    }\n",
              "\n",
              "    .colab-df-convert {\n",
              "      background-color: #E8F0FE;\n",
              "      border: none;\n",
              "      border-radius: 50%;\n",
              "      cursor: pointer;\n",
              "      display: none;\n",
              "      fill: #1967D2;\n",
              "      height: 32px;\n",
              "      padding: 0 0 0 0;\n",
              "      width: 32px;\n",
              "    }\n",
              "\n",
              "    .colab-df-convert:hover {\n",
              "      background-color: #E2EBFA;\n",
              "      box-shadow: 0px 1px 2px rgba(60, 64, 67, 0.3), 0px 1px 3px 1px rgba(60, 64, 67, 0.15);\n",
              "      fill: #174EA6;\n",
              "    }\n",
              "\n",
              "    [theme=dark] .colab-df-convert {\n",
              "      background-color: #3B4455;\n",
              "      fill: #D2E3FC;\n",
              "    }\n",
              "\n",
              "    [theme=dark] .colab-df-convert:hover {\n",
              "      background-color: #434B5C;\n",
              "      box-shadow: 0px 1px 3px 1px rgba(0, 0, 0, 0.15);\n",
              "      filter: drop-shadow(0px 1px 2px rgba(0, 0, 0, 0.3));\n",
              "      fill: #FFFFFF;\n",
              "    }\n",
              "  </style>\n",
              "\n",
              "      <script>\n",
              "        const buttonEl =\n",
              "          document.querySelector('#df-b5f42341-9306-431c-ba94-d0c1cb93c163 button.colab-df-convert');\n",
              "        buttonEl.style.display =\n",
              "          google.colab.kernel.accessAllowed ? 'block' : 'none';\n",
              "\n",
              "        async function convertToInteractive(key) {\n",
              "          const element = document.querySelector('#df-b5f42341-9306-431c-ba94-d0c1cb93c163');\n",
              "          const dataTable =\n",
              "            await google.colab.kernel.invokeFunction('convertToInteractive',\n",
              "                                                     [key], {});\n",
              "          if (!dataTable) return;\n",
              "\n",
              "          const docLinkHtml = 'Like what you see? Visit the ' +\n",
              "            '<a target=\"_blank\" href=https://colab.research.google.com/notebooks/data_table.ipynb>data table notebook</a>'\n",
              "            + ' to learn more about interactive tables.';\n",
              "          element.innerHTML = '';\n",
              "          dataTable['output_type'] = 'display_data';\n",
              "          await google.colab.output.renderOutput(dataTable, element);\n",
              "          const docLink = document.createElement('div');\n",
              "          docLink.innerHTML = docLinkHtml;\n",
              "          element.appendChild(docLink);\n",
              "        }\n",
              "      </script>\n",
              "    </div>\n",
              "  </div>\n",
              "  "
            ]
          },
          "metadata": {},
          "execution_count": 13
        }
      ],
      "source": [
        "df = preprocessing.fit_transform(df_comics.head(n=100))\n",
        "pd.DataFrame(df.toarray())  "
      ]
    },
    {
      "cell_type": "markdown",
      "metadata": {
        "id": "stHncQ-A-j4I"
      },
      "source": [
        "## 1.2 Diseño de Baseline y  Primer Entrenamiento  [1 Puntos]\n",
        "\n",
        "\n",
        "<p align=\"center\">\n",
        "  <img src=\"https://pa1.narvii.com/6374/9eaec1b7bf9157334151452a669516f9a78b954c_hq.gif\" width=\"300\">\n",
        "</p>\n"
      ]
    },
    {
      "cell_type": "markdown",
      "metadata": {
        "id": "NeMiptpQ_EWb"
      },
      "source": [
        "\n",
        "Genere un Pipeline con las caracteristicas solicitadas en la sección 1.1, un selector de mejores features `SelectPercentile` con métrica `f_classif` y percentile=90 y un clasificador `MultinomialNB()` por defecto.\n",
        "\n",
        "Luego, separe el conjunto de datos en un conjunto de entrenamiento y prueba, donde las etiquetas estará dado por el atributo `alignment`. \n",
        "\n",
        "Entrene el modelo y reporte el desempeño con un `classification_report`. ¿ Nos recomendaría predecir la alineación de BatCow con este clasificador?.\n",
        "\n",
        "Finalmente, compare el modelo entrenado con un modelo Dummy estratificado y responda: ¿El clasificador entrenado es mejor que el dummy que entrega respuestas al azar?\n",
        "\n",
        "**To-do:**\n",
        "- [X] Realizar un pipeline con las caracteristicas solicitadas en 1.1, ejecutar holdout y aplicar un clasificador `MultinomialNB()`.\n",
        "- [x] Entrenar el pipeline, calcular el `classification_report` asociado y comentar los resultados.\n",
        "- [X] Entrenar un `DummyClassifier` con estrategia `statified`, calcular el `classification_report` asociado y comentar que implican los scores obtenidos en comparación con los resultados del baseline."
      ]
    },
    {
      "cell_type": "markdown",
      "metadata": {
        "id": "zTta2TdBF7zF"
      },
      "source": [
        "**Respuesta:**"
      ]
    },
    {
      "cell_type": "code",
      "execution_count": null,
      "metadata": {
        "id": "_hHpPDooPafy"
      },
      "outputs": [],
      "source": [
        "# Realizar un pipeline con las caracteristicas solicitadas en 1.1,\n",
        "# ejecutar holdout y aplicar un clasificador MultinomialNB().\n",
        "\n",
        "selection_pipeline = Pipeline(\n",
        "    steps=[\n",
        "        (\"Preprocessing\", preprocessing),\n",
        "        # Conservamos el 90% mejor según la métrica seleccionada\n",
        "        (\"Selection\", SelectPercentile(f_classif, percentile=90)),\n",
        "        (\"MNB\", MultinomialNB()),\n",
        "    ]\n",
        ")\n",
        "\n",
        "X_train, X_test, y_train, y_test = train_test_split(\n",
        "    df_comics[atributos_de_interes + [atributo_a_tokenizar]],\n",
        "    df_comics[\"alignment\"],\n",
        "    test_size=0.33,\n",
        "    random_state=42,\n",
        "    shuffle=True,\n",
        "    stratify=df_comics[\"alignment\"],\n",
        ")"
      ]
    },
    {
      "cell_type": "code",
      "execution_count": null,
      "metadata": {
        "colab": {
          "base_uri": "https://localhost:8080/"
        },
        "id": "YH0HOf9obQjb",
        "outputId": "370979a3-7e37-4cfd-ceb6-a76f100f433a"
      },
      "outputs": [
        {
          "output_type": "stream",
          "name": "stdout",
          "text": [
            "              precision    recall  f1-score   support\n",
            "\n",
            "         Bad       0.76      0.13      0.23       142\n",
            "        Good       0.61      0.99      0.75       246\n",
            "     Neutral       0.00      0.00      0.00        37\n",
            "\n",
            "    accuracy                           0.62       425\n",
            "   macro avg       0.46      0.37      0.33       425\n",
            "weighted avg       0.61      0.62      0.51       425\n",
            "\n"
          ]
        },
        {
          "output_type": "stream",
          "name": "stderr",
          "text": [
            "/usr/local/lib/python3.7/dist-packages/sklearn/metrics/_classification.py:1318: UndefinedMetricWarning: Precision and F-score are ill-defined and being set to 0.0 in labels with no predicted samples. Use `zero_division` parameter to control this behavior.\n",
            "  _warn_prf(average, modifier, msg_start, len(result))\n",
            "/usr/local/lib/python3.7/dist-packages/sklearn/metrics/_classification.py:1318: UndefinedMetricWarning: Precision and F-score are ill-defined and being set to 0.0 in labels with no predicted samples. Use `zero_division` parameter to control this behavior.\n",
            "  _warn_prf(average, modifier, msg_start, len(result))\n",
            "/usr/local/lib/python3.7/dist-packages/sklearn/metrics/_classification.py:1318: UndefinedMetricWarning: Precision and F-score are ill-defined and being set to 0.0 in labels with no predicted samples. Use `zero_division` parameter to control this behavior.\n",
            "  _warn_prf(average, modifier, msg_start, len(result))\n"
          ]
        }
      ],
      "source": [
        "# Entrenar el pipeline,\n",
        "# calcular el classification_report asociado y comentar los resultados.\n",
        "selection_pipeline.fit(X_train, y_train)\n",
        "\n",
        "print(classification_report(y_test, selection_pipeline.predict(X_test)))"
      ]
    },
    {
      "cell_type": "markdown",
      "metadata": {
        "id": "xtWXpwHHcIl1"
      },
      "source": [
        "**Comentarios**\n",
        "\n",
        "- El modelo entrenado en general tiene un buen desempeño para predecir los registros clasificados como \"Good\", sobre todo considerando `recall`, lo que indica pocos falsos negativos.\n",
        "- El modelo entrenado tiene muchos falsos negativos en las predicciones de \"Bad\", lo que se traduce en un bajo `recall` y por consecuencia un bajo `f1` para esta clase (pese a tener buena precisión).\n",
        "- El modelo entrenado no fue capaz de predecir ningún registro como \"Neutral\", pese a que existían 37 registros de esta categoría en los datos de prueba. Esto puede deberse en parte a que se tiene muy pocos datos de esta clase, pero también es posible que el modelo escogido y/o pre procesamiento de texto y/o selección de características no haya sido el más adecuado."
      ]
    },
    {
      "cell_type": "code",
      "execution_count": null,
      "metadata": {
        "colab": {
          "base_uri": "https://localhost:8080/"
        },
        "id": "Gh-2lTiYcKuG",
        "outputId": "5de27dc5-d9c2-40a2-ec91-b8267b966cc7"
      },
      "outputs": [
        {
          "output_type": "stream",
          "name": "stdout",
          "text": [
            "              precision    recall  f1-score   support\n",
            "\n",
            "         Bad       0.31      0.32      0.31       142\n",
            "        Good       0.60      0.59      0.59       246\n",
            "     Neutral       0.10      0.11      0.10        37\n",
            "\n",
            "    accuracy                           0.45       425\n",
            "   macro avg       0.34      0.34      0.34       425\n",
            "weighted avg       0.46      0.45      0.46       425\n",
            "\n"
          ]
        }
      ],
      "source": [
        "# Entrenar un DummyClassifier con estrategia statified,\n",
        "# calcular el classification_report asociado y comentar que implican los scores\n",
        "# obtenidosen comparación con los resultados del baseline.\n",
        "dummy_pipe = Pipeline(\n",
        "    steps=[\n",
        "        (\"Preprocessing\", preprocessing),\n",
        "        (\"dummy\", DummyClassifier(strategy=\"stratified\", random_state=42)),\n",
        "    ]\n",
        ")\n",
        "\n",
        "dummy_pipe.fit(X_train, y_train)\n",
        "\n",
        "print(classification_report(y_test, dummy_pipe.predict(X_test)))"
      ]
    },
    {
      "cell_type": "markdown",
      "metadata": {
        "id": "aMtFQc0lcuK-"
      },
      "source": [
        "**Comentarios**\n",
        "\n",
        "- El \"modelo dummy\" tiene mejor desempeño en comparación al modelo anterior tanto para la clase \"Bad\" como \"Neutral\".\n",
        "- Si bien en cuanto `accuracy` su desempeño aparentemente es peor, ya qie tiene 0.48 versus 0.62 del modelo `MultinomialNB`, se debe considerar que esta métrica no es un buen indicador frente a clases desbalanceadas. El modelo `MultinomialNB` logra un mejor accuracy ya que tiene muchas predicciones correctas de la clase mayoritaria, pero en las clases de menor frecuencia tiene pocas predicciones correctas.\n",
        "- Por tanto, considerando \"predicciones correctas totales\", el modelo `MultinomialNB` logra un mejor desempeño que el clasificador aleatorio, pero no así al considerar en específico las clases de menor frecuencia que son \"Bad\" y \"Neutral\"."
      ]
    },
    {
      "cell_type": "markdown",
      "metadata": {
        "id": "F8CF8nvLF7zG"
      },
      "source": [
        "```\n",
        "Escriba aquí su justificación\n",
        "```\n",
        "**¿ Nos recomendaría predecir la alineación de BatCow con este clasificador?**\n",
        "\n",
        "No, ya que el modelo `MultinomialNB` no logra predecir correctamente la alineación \"Neutral\", y tiene mucho error en la alineación \"Bad\". El ideal es que el modelo sea capaz de predecir mejor que el azar las tres alineaciones solicitadas.\n",
        "\n",
        "**El clasificador entrenado es mejor que el dummy que entrega respuestas al azar?**\n",
        "\n",
        "No, porque según lo argumentado previamente, el clasificador `MultinomialNB` si bien logra mayor cantidad de clasificaciones totales correctas que el clasificador aleatorio, no es capaz de predecir las alineaciones \"Neutral\", y tiene mucho error al predecir las alineaciones \"Bad\"."
      ]
    },
    {
      "cell_type": "markdown",
      "metadata": {
        "id": "pfm7I2B7_rfB"
      },
      "source": [
        "## 1.3 Busqueda del Mejor Modelo con Grid Search [4 Puntos]\n",
        "\n",
        "<p align=\"center\">\n",
        "  <img src=\"https://media1.tenor.com/images/70fdfeea52a8e2e4505498c230a0d2f9/tenor.gif?itemid=5134219\" width=\"250\">\n",
        "</p>"
      ]
    },
    {
      "cell_type": "markdown",
      "metadata": {
        "id": "14siiavzK67p"
      },
      "source": [
        "No conformes con el rendimiento obtenido en la sección 1.2, el cuerpo docente les pide que realicen un **`HalvingGridSearchCV`** con diferentes parámetros para mejorar el rendimiento de la clasificación. Para esto, se le solicita que defina:\n",
        "\n",
        "- Tres clasificadores distintos en donde varie sus parámetros. Considere usar modelos clásicos como también los basados en ensamblaje.\n",
        "- Modificar `n-gram` range del `CountVectorizer` probando `(1,1), (1,2) y (1,3)`. Examinar también los otros parámetros de CountVectorizer como por ejemplo `max_df`, `min_df`, etc... ([Documentación aquí](https://scikit-learn.org/stable/modules/generated/sklearn.feature_extraction.text.CountVectorizer.html))\n",
        "- Seleccionar las columnas que contribuyen con la mayor información para la clasificación con `SelectPercentile` en los percentiles `[20, 40, 60, 80]` (puede usar la métrica que usted quiera).\n",
        "- Reporte la mejor combinación encontrada y justifique por qué cree que es la mejor según el clasificador usado, la cantidad de columnas seleccionadas y los parámetros de CountVectorizer seleccionados por GridSearch.\n",
        "\n",
        "A continuación, un ejemplo de parametros para GridSearch para una búsqueda de 3 clasificadores distintos:\n",
        "\n",
        "```python\n",
        "params = [\n",
        "       # clasificador 1 + hiperparámetros\n",
        "       {'clf': classificator1(),\n",
        "        'clf__penalty': ['ovr'],\n",
        "       # clasificador 1 + hiperparámetros    \n",
        "       {'clf': classificator2(),\n",
        "        'clf__n_estimators': [200]},\n",
        "       # clasificador 1 + hiperparámetros\n",
        "       {'clf': classificator3(),\n",
        "        ...\n",
        "       }\n",
        "       ]\n",
        "```\n",
        "\n",
        "**Nota 1**: Puede ver los parámetros modificables aplicando el método get_params() sobre su pipeline. Ver la clase de GridSearch para mayor información sobre la sintáxis de las grillas.\n",
        "\n",
        "**Nota 2**: Recuerde inicializar los clasificadores con un random state definido.\n",
        "\n",
        "**Nota 3**: Puede usar en `HalvingGridSearchCV` el parámetro `verbose=10` para ver que GridSearch le indique el estado de su ejecución.\n",
        "\n",
        "**Nota 3:** El GridSearch puede tomar tiempos de búsqueda exorbitantes, por lo que se le recomienda no agrandar mucho el espacio de búsqueda, dejar corriendo el código y tomarse un tecito."
      ]
    },
    {
      "cell_type": "markdown",
      "metadata": {
        "id": "rNfs1QVkF7zK"
      },
      "source": [
        "**Respuesta:**\n",
        "\n",
        "Antes de comenzar con la grilla de parámetros y la búsqueda del mejor\n",
        "modelo, realizaremos una modificación en el _pipeline_ `preprocessing`,  para que la transformación que se aplica sobre la columna\n",
        "de texto `history_text`, en el paso `tokenizer`, entregué un `np.array` y no un objeto tipo _sparse matrix_. Esto evitará que se produzcan errores con los\n",
        "modelos candidatos que utilizaremos y esperan recibir un _input_ con un\n",
        "formato determinado.\n",
        "\n",
        "Agregaremos la función `toarray()` que asegura que el _input_ siempre sea\n",
        "un `np.array`:\n",
        "\n",
        "```python\n",
        "def toarray(x): return x.toarray()\n",
        "```\n",
        "\n",
        "y luego utilizamos el _wrapper_ `FunctionTransformer`, el cual adapta\n",
        "nuestra transformación a un objeto que el _pipeline_ de sklearn pueda\n",
        "manipular de manera coherente con el resto de la interfaz."
      ]
    },
    {
      "cell_type": "code",
      "source": [
        "from sklearn.preprocessing import FunctionTransformer\n",
        "set_config(display='diagram')\n",
        "\n",
        "def toarray(x): return x.toarray()\n",
        "\n",
        "bag_of_words = Pipeline(\n",
        "    steps=[\n",
        "        (\"tokenizer\", CountVectorizer(tokenizer=StemmerTokenizer(), ngram_range=(1,2))),\n",
        "        (\"toarray\", FunctionTransformer(toarray, accept_sparse=True))\n",
        "    ]\n",
        ")\n",
        "\n",
        "preprocessing = Pipeline([\n",
        "    (\"column_transform\", ColumnTransformer(transformers=[\n",
        "        (\"num\", num_pipe, atributos_de_interes),\n",
        "        (\"words\", bag_of_words, atributo_a_tokenizar),\n",
        "    ]\n",
        "  ))\n",
        "])\n",
        "\n",
        "preprocessing"
      ],
      "metadata": {
        "colab": {
          "base_uri": "https://localhost:8080/",
          "height": 193
        },
        "id": "xlQjcC7mu6nA",
        "outputId": "f0b8e293-2285-46cb-bfbd-f58623948b18"
      },
      "execution_count": null,
      "outputs": [
        {
          "output_type": "execute_result",
          "data": {
            "text/plain": [
              "Pipeline(steps=[('column_transform',\n",
              "                 ColumnTransformer(transformers=[('num',\n",
              "                                                  Pipeline(steps=[('scaler',\n",
              "                                                                   MinMaxScaler())]),\n",
              "                                                  ['intelligence_score',\n",
              "                                                   'strength_score',\n",
              "                                                   'speed_score',\n",
              "                                                   'durability_score',\n",
              "                                                   'power_score',\n",
              "                                                   'combat_score']),\n",
              "                                                 ('words',\n",
              "                                                  Pipeline(steps=[('tokenizer',\n",
              "                                                                   CountVectorizer(ngram_range=(1,\n",
              "                                                                                                2),\n",
              "                                                                                   tokenizer=<__main__.StemmerTokenizer object at 0x7f286e1ff6d0>)),\n",
              "                                                                  ('toarray',\n",
              "                                                                   FunctionTransformer(accept_sparse=True,\n",
              "                                                                                       func=<function toarray at 0x7f28703dd9e0>))]),\n",
              "                                                  'history_text')]))])"
            ],
            "text/html": [
              "<style>#sk-74020ab5-7d1e-457c-9970-20c91ca5c686 {color: black;background-color: white;}#sk-74020ab5-7d1e-457c-9970-20c91ca5c686 pre{padding: 0;}#sk-74020ab5-7d1e-457c-9970-20c91ca5c686 div.sk-toggleable {background-color: white;}#sk-74020ab5-7d1e-457c-9970-20c91ca5c686 label.sk-toggleable__label {cursor: pointer;display: block;width: 100%;margin-bottom: 0;padding: 0.3em;box-sizing: border-box;text-align: center;}#sk-74020ab5-7d1e-457c-9970-20c91ca5c686 label.sk-toggleable__label-arrow:before {content: \"▸\";float: left;margin-right: 0.25em;color: #696969;}#sk-74020ab5-7d1e-457c-9970-20c91ca5c686 label.sk-toggleable__label-arrow:hover:before {color: black;}#sk-74020ab5-7d1e-457c-9970-20c91ca5c686 div.sk-estimator:hover label.sk-toggleable__label-arrow:before {color: black;}#sk-74020ab5-7d1e-457c-9970-20c91ca5c686 div.sk-toggleable__content {max-height: 0;max-width: 0;overflow: hidden;text-align: left;background-color: #f0f8ff;}#sk-74020ab5-7d1e-457c-9970-20c91ca5c686 div.sk-toggleable__content pre {margin: 0.2em;color: black;border-radius: 0.25em;background-color: #f0f8ff;}#sk-74020ab5-7d1e-457c-9970-20c91ca5c686 input.sk-toggleable__control:checked~div.sk-toggleable__content {max-height: 200px;max-width: 100%;overflow: auto;}#sk-74020ab5-7d1e-457c-9970-20c91ca5c686 input.sk-toggleable__control:checked~label.sk-toggleable__label-arrow:before {content: \"▾\";}#sk-74020ab5-7d1e-457c-9970-20c91ca5c686 div.sk-estimator input.sk-toggleable__control:checked~label.sk-toggleable__label {background-color: #d4ebff;}#sk-74020ab5-7d1e-457c-9970-20c91ca5c686 div.sk-label input.sk-toggleable__control:checked~label.sk-toggleable__label {background-color: #d4ebff;}#sk-74020ab5-7d1e-457c-9970-20c91ca5c686 input.sk-hidden--visually {border: 0;clip: rect(1px 1px 1px 1px);clip: rect(1px, 1px, 1px, 1px);height: 1px;margin: -1px;overflow: hidden;padding: 0;position: absolute;width: 1px;}#sk-74020ab5-7d1e-457c-9970-20c91ca5c686 div.sk-estimator {font-family: monospace;background-color: #f0f8ff;border: 1px dotted black;border-radius: 0.25em;box-sizing: border-box;margin-bottom: 0.5em;}#sk-74020ab5-7d1e-457c-9970-20c91ca5c686 div.sk-estimator:hover {background-color: #d4ebff;}#sk-74020ab5-7d1e-457c-9970-20c91ca5c686 div.sk-parallel-item::after {content: \"\";width: 100%;border-bottom: 1px solid gray;flex-grow: 1;}#sk-74020ab5-7d1e-457c-9970-20c91ca5c686 div.sk-label:hover label.sk-toggleable__label {background-color: #d4ebff;}#sk-74020ab5-7d1e-457c-9970-20c91ca5c686 div.sk-serial::before {content: \"\";position: absolute;border-left: 1px solid gray;box-sizing: border-box;top: 2em;bottom: 0;left: 50%;}#sk-74020ab5-7d1e-457c-9970-20c91ca5c686 div.sk-serial {display: flex;flex-direction: column;align-items: center;background-color: white;padding-right: 0.2em;padding-left: 0.2em;}#sk-74020ab5-7d1e-457c-9970-20c91ca5c686 div.sk-item {z-index: 1;}#sk-74020ab5-7d1e-457c-9970-20c91ca5c686 div.sk-parallel {display: flex;align-items: stretch;justify-content: center;background-color: white;}#sk-74020ab5-7d1e-457c-9970-20c91ca5c686 div.sk-parallel::before {content: \"\";position: absolute;border-left: 1px solid gray;box-sizing: border-box;top: 2em;bottom: 0;left: 50%;}#sk-74020ab5-7d1e-457c-9970-20c91ca5c686 div.sk-parallel-item {display: flex;flex-direction: column;position: relative;background-color: white;}#sk-74020ab5-7d1e-457c-9970-20c91ca5c686 div.sk-parallel-item:first-child::after {align-self: flex-end;width: 50%;}#sk-74020ab5-7d1e-457c-9970-20c91ca5c686 div.sk-parallel-item:last-child::after {align-self: flex-start;width: 50%;}#sk-74020ab5-7d1e-457c-9970-20c91ca5c686 div.sk-parallel-item:only-child::after {width: 0;}#sk-74020ab5-7d1e-457c-9970-20c91ca5c686 div.sk-dashed-wrapped {border: 1px dashed gray;margin: 0 0.4em 0.5em 0.4em;box-sizing: border-box;padding-bottom: 0.4em;background-color: white;position: relative;}#sk-74020ab5-7d1e-457c-9970-20c91ca5c686 div.sk-label label {font-family: monospace;font-weight: bold;background-color: white;display: inline-block;line-height: 1.2em;}#sk-74020ab5-7d1e-457c-9970-20c91ca5c686 div.sk-label-container {position: relative;z-index: 2;text-align: center;}#sk-74020ab5-7d1e-457c-9970-20c91ca5c686 div.sk-container {/* jupyter's `normalize.less` sets `[hidden] { display: none; }` but bootstrap.min.css set `[hidden] { display: none !important; }` so we also need the `!important` here to be able to override the default hidden behavior on the sphinx rendered scikit-learn.org. See: https://github.com/scikit-learn/scikit-learn/issues/21755 */display: inline-block !important;position: relative;}#sk-74020ab5-7d1e-457c-9970-20c91ca5c686 div.sk-text-repr-fallback {display: none;}</style><div id=\"sk-74020ab5-7d1e-457c-9970-20c91ca5c686\" class=\"sk-top-container\"><div class=\"sk-text-repr-fallback\"><pre>Pipeline(steps=[(&#x27;column_transform&#x27;,\n",
              "                 ColumnTransformer(transformers=[(&#x27;num&#x27;,\n",
              "                                                  Pipeline(steps=[(&#x27;scaler&#x27;,\n",
              "                                                                   MinMaxScaler())]),\n",
              "                                                  [&#x27;intelligence_score&#x27;,\n",
              "                                                   &#x27;strength_score&#x27;,\n",
              "                                                   &#x27;speed_score&#x27;,\n",
              "                                                   &#x27;durability_score&#x27;,\n",
              "                                                   &#x27;power_score&#x27;,\n",
              "                                                   &#x27;combat_score&#x27;]),\n",
              "                                                 (&#x27;words&#x27;,\n",
              "                                                  Pipeline(steps=[(&#x27;tokenizer&#x27;,\n",
              "                                                                   CountVectorizer(ngram_range=(1,\n",
              "                                                                                                2),\n",
              "                                                                                   tokenizer=&lt;__main__.StemmerTokenizer object at 0x7f286e1ff6d0&gt;)),\n",
              "                                                                  (&#x27;toarray&#x27;,\n",
              "                                                                   FunctionTransformer(accept_sparse=True,\n",
              "                                                                                       func=&lt;function toarray at 0x7f28703dd9e0&gt;))]),\n",
              "                                                  &#x27;history_text&#x27;)]))])</pre><b>Please rerun this cell to show the HTML repr or trust the notebook.</b></div><div class=\"sk-container\" hidden><div class=\"sk-item sk-dashed-wrapped\"><div class=\"sk-label-container\"><div class=\"sk-label sk-toggleable\"><input class=\"sk-toggleable__control sk-hidden--visually\" id=\"89378376-2181-4f58-bcad-ac3d8a183d81\" type=\"checkbox\" ><label for=\"89378376-2181-4f58-bcad-ac3d8a183d81\" class=\"sk-toggleable__label sk-toggleable__label-arrow\">Pipeline</label><div class=\"sk-toggleable__content\"><pre>Pipeline(steps=[(&#x27;column_transform&#x27;,\n",
              "                 ColumnTransformer(transformers=[(&#x27;num&#x27;,\n",
              "                                                  Pipeline(steps=[(&#x27;scaler&#x27;,\n",
              "                                                                   MinMaxScaler())]),\n",
              "                                                  [&#x27;intelligence_score&#x27;,\n",
              "                                                   &#x27;strength_score&#x27;,\n",
              "                                                   &#x27;speed_score&#x27;,\n",
              "                                                   &#x27;durability_score&#x27;,\n",
              "                                                   &#x27;power_score&#x27;,\n",
              "                                                   &#x27;combat_score&#x27;]),\n",
              "                                                 (&#x27;words&#x27;,\n",
              "                                                  Pipeline(steps=[(&#x27;tokenizer&#x27;,\n",
              "                                                                   CountVectorizer(ngram_range=(1,\n",
              "                                                                                                2),\n",
              "                                                                                   tokenizer=&lt;__main__.StemmerTokenizer object at 0x7f286e1ff6d0&gt;)),\n",
              "                                                                  (&#x27;toarray&#x27;,\n",
              "                                                                   FunctionTransformer(accept_sparse=True,\n",
              "                                                                                       func=&lt;function toarray at 0x7f28703dd9e0&gt;))]),\n",
              "                                                  &#x27;history_text&#x27;)]))])</pre></div></div></div><div class=\"sk-serial\"><div class=\"sk-item sk-dashed-wrapped\"><div class=\"sk-label-container\"><div class=\"sk-label sk-toggleable\"><input class=\"sk-toggleable__control sk-hidden--visually\" id=\"2ea51cd4-4fed-44e2-8940-88dad4e4c2e9\" type=\"checkbox\" ><label for=\"2ea51cd4-4fed-44e2-8940-88dad4e4c2e9\" class=\"sk-toggleable__label sk-toggleable__label-arrow\">column_transform: ColumnTransformer</label><div class=\"sk-toggleable__content\"><pre>ColumnTransformer(transformers=[(&#x27;num&#x27;,\n",
              "                                 Pipeline(steps=[(&#x27;scaler&#x27;, MinMaxScaler())]),\n",
              "                                 [&#x27;intelligence_score&#x27;, &#x27;strength_score&#x27;,\n",
              "                                  &#x27;speed_score&#x27;, &#x27;durability_score&#x27;,\n",
              "                                  &#x27;power_score&#x27;, &#x27;combat_score&#x27;]),\n",
              "                                (&#x27;words&#x27;,\n",
              "                                 Pipeline(steps=[(&#x27;tokenizer&#x27;,\n",
              "                                                  CountVectorizer(ngram_range=(1,\n",
              "                                                                               2),\n",
              "                                                                  tokenizer=&lt;__main__.StemmerTokenizer object at 0x7f286e1ff6d0&gt;)),\n",
              "                                                 (&#x27;toarray&#x27;,\n",
              "                                                  FunctionTransformer(accept_sparse=True,\n",
              "                                                                      func=&lt;function toarray at 0x7f28703dd9e0&gt;))]),\n",
              "                                 &#x27;history_text&#x27;)])</pre></div></div></div><div class=\"sk-parallel\"><div class=\"sk-parallel-item\"><div class=\"sk-item\"><div class=\"sk-label-container\"><div class=\"sk-label sk-toggleable\"><input class=\"sk-toggleable__control sk-hidden--visually\" id=\"f687a8c2-2275-437e-98f8-9840be42696c\" type=\"checkbox\" ><label for=\"f687a8c2-2275-437e-98f8-9840be42696c\" class=\"sk-toggleable__label sk-toggleable__label-arrow\">num</label><div class=\"sk-toggleable__content\"><pre>[&#x27;intelligence_score&#x27;, &#x27;strength_score&#x27;, &#x27;speed_score&#x27;, &#x27;durability_score&#x27;, &#x27;power_score&#x27;, &#x27;combat_score&#x27;]</pre></div></div></div><div class=\"sk-serial\"><div class=\"sk-item\"><div class=\"sk-serial\"><div class=\"sk-item\"><div class=\"sk-estimator sk-toggleable\"><input class=\"sk-toggleable__control sk-hidden--visually\" id=\"3f43865d-bc55-4ba0-83d1-bd4d04a26c27\" type=\"checkbox\" ><label for=\"3f43865d-bc55-4ba0-83d1-bd4d04a26c27\" class=\"sk-toggleable__label sk-toggleable__label-arrow\">MinMaxScaler</label><div class=\"sk-toggleable__content\"><pre>MinMaxScaler()</pre></div></div></div></div></div></div></div></div><div class=\"sk-parallel-item\"><div class=\"sk-item\"><div class=\"sk-label-container\"><div class=\"sk-label sk-toggleable\"><input class=\"sk-toggleable__control sk-hidden--visually\" id=\"88a9d1d0-953b-4851-b12c-46b2c6fbcca3\" type=\"checkbox\" ><label for=\"88a9d1d0-953b-4851-b12c-46b2c6fbcca3\" class=\"sk-toggleable__label sk-toggleable__label-arrow\">words</label><div class=\"sk-toggleable__content\"><pre>history_text</pre></div></div></div><div class=\"sk-serial\"><div class=\"sk-item\"><div class=\"sk-serial\"><div class=\"sk-item\"><div class=\"sk-estimator sk-toggleable\"><input class=\"sk-toggleable__control sk-hidden--visually\" id=\"096227c4-7f18-4035-965e-a8d61df54d36\" type=\"checkbox\" ><label for=\"096227c4-7f18-4035-965e-a8d61df54d36\" class=\"sk-toggleable__label sk-toggleable__label-arrow\">CountVectorizer</label><div class=\"sk-toggleable__content\"><pre>CountVectorizer(ngram_range=(1, 2),\n",
              "                tokenizer=&lt;__main__.StemmerTokenizer object at 0x7f286e1ff6d0&gt;)</pre></div></div></div><div class=\"sk-item\"><div class=\"sk-estimator sk-toggleable\"><input class=\"sk-toggleable__control sk-hidden--visually\" id=\"dfb34425-9f9a-4c78-b459-274a6ef7e739\" type=\"checkbox\" ><label for=\"dfb34425-9f9a-4c78-b459-274a6ef7e739\" class=\"sk-toggleable__label sk-toggleable__label-arrow\">FunctionTransformer</label><div class=\"sk-toggleable__content\"><pre>FunctionTransformer(accept_sparse=True,\n",
              "                    func=&lt;function toarray at 0x7f28703dd9e0&gt;)</pre></div></div></div></div></div></div></div></div></div></div></div></div></div></div>"
            ]
          },
          "metadata": {},
          "execution_count": 18
        }
      ]
    },
    {
      "cell_type": "markdown",
      "source": [
        "Se observa en el diagrama de arriba que representa el _pipeline_,\n",
        "como esta transformación, que se aplica luego de `CountVectorizer`,\n",
        "garantiza que todos los tipos de columnas pasen al siguiente paso\n",
        "como objeto `np.array`.\n",
        "\n",
        "\n",
        "Ahora creamos el _pipeline_ que incluye el paso de selección\n",
        "de _features_, y finalmente los ajuste de modelos."
      ],
      "metadata": {
        "id": "YvG6kGnOvC4h"
      }
    },
    {
      "cell_type": "code",
      "execution_count": null,
      "metadata": {
        "colab": {
          "base_uri": "https://localhost:8080/",
          "height": 288
        },
        "id": "tz17ReIPw7WG",
        "outputId": "77d9dba7-b48d-4975-867d-1c5a4683cc2c"
      },
      "outputs": [
        {
          "output_type": "execute_result",
          "data": {
            "text/plain": [
              "Pipeline(steps=[('preprocessing',\n",
              "                 Pipeline(steps=[('column_transform',\n",
              "                                  ColumnTransformer(transformers=[('num',\n",
              "                                                                   Pipeline(steps=[('scaler',\n",
              "                                                                                    MinMaxScaler())]),\n",
              "                                                                   ['intelligence_score',\n",
              "                                                                    'strength_score',\n",
              "                                                                    'speed_score',\n",
              "                                                                    'durability_score',\n",
              "                                                                    'power_score',\n",
              "                                                                    'combat_score']),\n",
              "                                                                  ('words',\n",
              "                                                                   Pipeline(steps=[('tokenizer',\n",
              "                                                                                    CountVectorizer(ngram_range=(1,\n",
              "                                                                                                                 2),\n",
              "                                                                                                    tokenizer=<__main__.StemmerTokenizer object at 0x7f286e1ff6d0>)),\n",
              "                                                                                   ('toarray',\n",
              "                                                                                    FunctionTransformer(accept_sparse=True,\n",
              "                                                                                                        func=<function toarray at 0x7f28703dd9e0>))]),\n",
              "                                                                   'history_text')]))])),\n",
              "                ('selection', SelectPercentile()),\n",
              "                ('clf', LogisticRegression())])"
            ],
            "text/html": [
              "<style>#sk-c9bf1d5c-c84a-4480-be96-e8c7fa5065c6 {color: black;background-color: white;}#sk-c9bf1d5c-c84a-4480-be96-e8c7fa5065c6 pre{padding: 0;}#sk-c9bf1d5c-c84a-4480-be96-e8c7fa5065c6 div.sk-toggleable {background-color: white;}#sk-c9bf1d5c-c84a-4480-be96-e8c7fa5065c6 label.sk-toggleable__label {cursor: pointer;display: block;width: 100%;margin-bottom: 0;padding: 0.3em;box-sizing: border-box;text-align: center;}#sk-c9bf1d5c-c84a-4480-be96-e8c7fa5065c6 label.sk-toggleable__label-arrow:before {content: \"▸\";float: left;margin-right: 0.25em;color: #696969;}#sk-c9bf1d5c-c84a-4480-be96-e8c7fa5065c6 label.sk-toggleable__label-arrow:hover:before {color: black;}#sk-c9bf1d5c-c84a-4480-be96-e8c7fa5065c6 div.sk-estimator:hover label.sk-toggleable__label-arrow:before {color: black;}#sk-c9bf1d5c-c84a-4480-be96-e8c7fa5065c6 div.sk-toggleable__content {max-height: 0;max-width: 0;overflow: hidden;text-align: left;background-color: #f0f8ff;}#sk-c9bf1d5c-c84a-4480-be96-e8c7fa5065c6 div.sk-toggleable__content pre {margin: 0.2em;color: black;border-radius: 0.25em;background-color: #f0f8ff;}#sk-c9bf1d5c-c84a-4480-be96-e8c7fa5065c6 input.sk-toggleable__control:checked~div.sk-toggleable__content {max-height: 200px;max-width: 100%;overflow: auto;}#sk-c9bf1d5c-c84a-4480-be96-e8c7fa5065c6 input.sk-toggleable__control:checked~label.sk-toggleable__label-arrow:before {content: \"▾\";}#sk-c9bf1d5c-c84a-4480-be96-e8c7fa5065c6 div.sk-estimator input.sk-toggleable__control:checked~label.sk-toggleable__label {background-color: #d4ebff;}#sk-c9bf1d5c-c84a-4480-be96-e8c7fa5065c6 div.sk-label input.sk-toggleable__control:checked~label.sk-toggleable__label {background-color: #d4ebff;}#sk-c9bf1d5c-c84a-4480-be96-e8c7fa5065c6 input.sk-hidden--visually {border: 0;clip: rect(1px 1px 1px 1px);clip: rect(1px, 1px, 1px, 1px);height: 1px;margin: -1px;overflow: hidden;padding: 0;position: absolute;width: 1px;}#sk-c9bf1d5c-c84a-4480-be96-e8c7fa5065c6 div.sk-estimator {font-family: monospace;background-color: #f0f8ff;border: 1px dotted black;border-radius: 0.25em;box-sizing: border-box;margin-bottom: 0.5em;}#sk-c9bf1d5c-c84a-4480-be96-e8c7fa5065c6 div.sk-estimator:hover {background-color: #d4ebff;}#sk-c9bf1d5c-c84a-4480-be96-e8c7fa5065c6 div.sk-parallel-item::after {content: \"\";width: 100%;border-bottom: 1px solid gray;flex-grow: 1;}#sk-c9bf1d5c-c84a-4480-be96-e8c7fa5065c6 div.sk-label:hover label.sk-toggleable__label {background-color: #d4ebff;}#sk-c9bf1d5c-c84a-4480-be96-e8c7fa5065c6 div.sk-serial::before {content: \"\";position: absolute;border-left: 1px solid gray;box-sizing: border-box;top: 2em;bottom: 0;left: 50%;}#sk-c9bf1d5c-c84a-4480-be96-e8c7fa5065c6 div.sk-serial {display: flex;flex-direction: column;align-items: center;background-color: white;padding-right: 0.2em;padding-left: 0.2em;}#sk-c9bf1d5c-c84a-4480-be96-e8c7fa5065c6 div.sk-item {z-index: 1;}#sk-c9bf1d5c-c84a-4480-be96-e8c7fa5065c6 div.sk-parallel {display: flex;align-items: stretch;justify-content: center;background-color: white;}#sk-c9bf1d5c-c84a-4480-be96-e8c7fa5065c6 div.sk-parallel::before {content: \"\";position: absolute;border-left: 1px solid gray;box-sizing: border-box;top: 2em;bottom: 0;left: 50%;}#sk-c9bf1d5c-c84a-4480-be96-e8c7fa5065c6 div.sk-parallel-item {display: flex;flex-direction: column;position: relative;background-color: white;}#sk-c9bf1d5c-c84a-4480-be96-e8c7fa5065c6 div.sk-parallel-item:first-child::after {align-self: flex-end;width: 50%;}#sk-c9bf1d5c-c84a-4480-be96-e8c7fa5065c6 div.sk-parallel-item:last-child::after {align-self: flex-start;width: 50%;}#sk-c9bf1d5c-c84a-4480-be96-e8c7fa5065c6 div.sk-parallel-item:only-child::after {width: 0;}#sk-c9bf1d5c-c84a-4480-be96-e8c7fa5065c6 div.sk-dashed-wrapped {border: 1px dashed gray;margin: 0 0.4em 0.5em 0.4em;box-sizing: border-box;padding-bottom: 0.4em;background-color: white;position: relative;}#sk-c9bf1d5c-c84a-4480-be96-e8c7fa5065c6 div.sk-label label {font-family: monospace;font-weight: bold;background-color: white;display: inline-block;line-height: 1.2em;}#sk-c9bf1d5c-c84a-4480-be96-e8c7fa5065c6 div.sk-label-container {position: relative;z-index: 2;text-align: center;}#sk-c9bf1d5c-c84a-4480-be96-e8c7fa5065c6 div.sk-container {/* jupyter's `normalize.less` sets `[hidden] { display: none; }` but bootstrap.min.css set `[hidden] { display: none !important; }` so we also need the `!important` here to be able to override the default hidden behavior on the sphinx rendered scikit-learn.org. See: https://github.com/scikit-learn/scikit-learn/issues/21755 */display: inline-block !important;position: relative;}#sk-c9bf1d5c-c84a-4480-be96-e8c7fa5065c6 div.sk-text-repr-fallback {display: none;}</style><div id=\"sk-c9bf1d5c-c84a-4480-be96-e8c7fa5065c6\" class=\"sk-top-container\"><div class=\"sk-text-repr-fallback\"><pre>Pipeline(steps=[(&#x27;preprocessing&#x27;,\n",
              "                 Pipeline(steps=[(&#x27;column_transform&#x27;,\n",
              "                                  ColumnTransformer(transformers=[(&#x27;num&#x27;,\n",
              "                                                                   Pipeline(steps=[(&#x27;scaler&#x27;,\n",
              "                                                                                    MinMaxScaler())]),\n",
              "                                                                   [&#x27;intelligence_score&#x27;,\n",
              "                                                                    &#x27;strength_score&#x27;,\n",
              "                                                                    &#x27;speed_score&#x27;,\n",
              "                                                                    &#x27;durability_score&#x27;,\n",
              "                                                                    &#x27;power_score&#x27;,\n",
              "                                                                    &#x27;combat_score&#x27;]),\n",
              "                                                                  (&#x27;words&#x27;,\n",
              "                                                                   Pipeline(steps=[(&#x27;tokenizer&#x27;,\n",
              "                                                                                    CountVectorizer(ngram_range=(1,\n",
              "                                                                                                                 2),\n",
              "                                                                                                    tokenizer=&lt;__main__.StemmerTokenizer object at 0x7f286e1ff6d0&gt;)),\n",
              "                                                                                   (&#x27;toarray&#x27;,\n",
              "                                                                                    FunctionTransformer(accept_sparse=True,\n",
              "                                                                                                        func=&lt;function toarray at 0x7f28703dd9e0&gt;))]),\n",
              "                                                                   &#x27;history_text&#x27;)]))])),\n",
              "                (&#x27;selection&#x27;, SelectPercentile()),\n",
              "                (&#x27;clf&#x27;, LogisticRegression())])</pre><b>Please rerun this cell to show the HTML repr or trust the notebook.</b></div><div class=\"sk-container\" hidden><div class=\"sk-item sk-dashed-wrapped\"><div class=\"sk-label-container\"><div class=\"sk-label sk-toggleable\"><input class=\"sk-toggleable__control sk-hidden--visually\" id=\"635edf37-ad57-4871-8054-4c7d760deaf0\" type=\"checkbox\" ><label for=\"635edf37-ad57-4871-8054-4c7d760deaf0\" class=\"sk-toggleable__label sk-toggleable__label-arrow\">Pipeline</label><div class=\"sk-toggleable__content\"><pre>Pipeline(steps=[(&#x27;preprocessing&#x27;,\n",
              "                 Pipeline(steps=[(&#x27;column_transform&#x27;,\n",
              "                                  ColumnTransformer(transformers=[(&#x27;num&#x27;,\n",
              "                                                                   Pipeline(steps=[(&#x27;scaler&#x27;,\n",
              "                                                                                    MinMaxScaler())]),\n",
              "                                                                   [&#x27;intelligence_score&#x27;,\n",
              "                                                                    &#x27;strength_score&#x27;,\n",
              "                                                                    &#x27;speed_score&#x27;,\n",
              "                                                                    &#x27;durability_score&#x27;,\n",
              "                                                                    &#x27;power_score&#x27;,\n",
              "                                                                    &#x27;combat_score&#x27;]),\n",
              "                                                                  (&#x27;words&#x27;,\n",
              "                                                                   Pipeline(steps=[(&#x27;tokenizer&#x27;,\n",
              "                                                                                    CountVectorizer(ngram_range=(1,\n",
              "                                                                                                                 2),\n",
              "                                                                                                    tokenizer=&lt;__main__.StemmerTokenizer object at 0x7f286e1ff6d0&gt;)),\n",
              "                                                                                   (&#x27;toarray&#x27;,\n",
              "                                                                                    FunctionTransformer(accept_sparse=True,\n",
              "                                                                                                        func=&lt;function toarray at 0x7f28703dd9e0&gt;))]),\n",
              "                                                                   &#x27;history_text&#x27;)]))])),\n",
              "                (&#x27;selection&#x27;, SelectPercentile()),\n",
              "                (&#x27;clf&#x27;, LogisticRegression())])</pre></div></div></div><div class=\"sk-serial\"><div class=\"sk-item\"><div class=\"sk-label-container\"><div class=\"sk-label sk-toggleable\"><input class=\"sk-toggleable__control sk-hidden--visually\" id=\"6c7668eb-a80a-49a4-a6fe-492e2f5f0543\" type=\"checkbox\" ><label for=\"6c7668eb-a80a-49a4-a6fe-492e2f5f0543\" class=\"sk-toggleable__label sk-toggleable__label-arrow\">preprocessing: Pipeline</label><div class=\"sk-toggleable__content\"><pre>Pipeline(steps=[(&#x27;column_transform&#x27;,\n",
              "                 ColumnTransformer(transformers=[(&#x27;num&#x27;,\n",
              "                                                  Pipeline(steps=[(&#x27;scaler&#x27;,\n",
              "                                                                   MinMaxScaler())]),\n",
              "                                                  [&#x27;intelligence_score&#x27;,\n",
              "                                                   &#x27;strength_score&#x27;,\n",
              "                                                   &#x27;speed_score&#x27;,\n",
              "                                                   &#x27;durability_score&#x27;,\n",
              "                                                   &#x27;power_score&#x27;,\n",
              "                                                   &#x27;combat_score&#x27;]),\n",
              "                                                 (&#x27;words&#x27;,\n",
              "                                                  Pipeline(steps=[(&#x27;tokenizer&#x27;,\n",
              "                                                                   CountVectorizer(ngram_range=(1,\n",
              "                                                                                                2),\n",
              "                                                                                   tokenizer=&lt;__main__.StemmerTokenizer object at 0x7f286e1ff6d0&gt;)),\n",
              "                                                                  (&#x27;toarray&#x27;,\n",
              "                                                                   FunctionTransformer(accept_sparse=True,\n",
              "                                                                                       func=&lt;function toarray at 0x7f28703dd9e0&gt;))]),\n",
              "                                                  &#x27;history_text&#x27;)]))])</pre></div></div></div><div class=\"sk-serial\"><div class=\"sk-item sk-dashed-wrapped\"><div class=\"sk-label-container\"><div class=\"sk-label sk-toggleable\"><input class=\"sk-toggleable__control sk-hidden--visually\" id=\"2001b6c2-66c9-4ef1-bc05-b08480db43b8\" type=\"checkbox\" ><label for=\"2001b6c2-66c9-4ef1-bc05-b08480db43b8\" class=\"sk-toggleable__label sk-toggleable__label-arrow\">column_transform: ColumnTransformer</label><div class=\"sk-toggleable__content\"><pre>ColumnTransformer(transformers=[(&#x27;num&#x27;,\n",
              "                                 Pipeline(steps=[(&#x27;scaler&#x27;, MinMaxScaler())]),\n",
              "                                 [&#x27;intelligence_score&#x27;, &#x27;strength_score&#x27;,\n",
              "                                  &#x27;speed_score&#x27;, &#x27;durability_score&#x27;,\n",
              "                                  &#x27;power_score&#x27;, &#x27;combat_score&#x27;]),\n",
              "                                (&#x27;words&#x27;,\n",
              "                                 Pipeline(steps=[(&#x27;tokenizer&#x27;,\n",
              "                                                  CountVectorizer(ngram_range=(1,\n",
              "                                                                               2),\n",
              "                                                                  tokenizer=&lt;__main__.StemmerTokenizer object at 0x7f286e1ff6d0&gt;)),\n",
              "                                                 (&#x27;toarray&#x27;,\n",
              "                                                  FunctionTransformer(accept_sparse=True,\n",
              "                                                                      func=&lt;function toarray at 0x7f28703dd9e0&gt;))]),\n",
              "                                 &#x27;history_text&#x27;)])</pre></div></div></div><div class=\"sk-parallel\"><div class=\"sk-parallel-item\"><div class=\"sk-item\"><div class=\"sk-label-container\"><div class=\"sk-label sk-toggleable\"><input class=\"sk-toggleable__control sk-hidden--visually\" id=\"afd84e42-4ceb-4200-be68-25d35ffee77f\" type=\"checkbox\" ><label for=\"afd84e42-4ceb-4200-be68-25d35ffee77f\" class=\"sk-toggleable__label sk-toggleable__label-arrow\">num</label><div class=\"sk-toggleable__content\"><pre>[&#x27;intelligence_score&#x27;, &#x27;strength_score&#x27;, &#x27;speed_score&#x27;, &#x27;durability_score&#x27;, &#x27;power_score&#x27;, &#x27;combat_score&#x27;]</pre></div></div></div><div class=\"sk-serial\"><div class=\"sk-item\"><div class=\"sk-serial\"><div class=\"sk-item\"><div class=\"sk-estimator sk-toggleable\"><input class=\"sk-toggleable__control sk-hidden--visually\" id=\"12eecd9f-b667-4477-8f2d-0a4eddcfc8a2\" type=\"checkbox\" ><label for=\"12eecd9f-b667-4477-8f2d-0a4eddcfc8a2\" class=\"sk-toggleable__label sk-toggleable__label-arrow\">MinMaxScaler</label><div class=\"sk-toggleable__content\"><pre>MinMaxScaler()</pre></div></div></div></div></div></div></div></div><div class=\"sk-parallel-item\"><div class=\"sk-item\"><div class=\"sk-label-container\"><div class=\"sk-label sk-toggleable\"><input class=\"sk-toggleable__control sk-hidden--visually\" id=\"e4351ffe-07e5-4596-bb23-8a8f477ecb69\" type=\"checkbox\" ><label for=\"e4351ffe-07e5-4596-bb23-8a8f477ecb69\" class=\"sk-toggleable__label sk-toggleable__label-arrow\">words</label><div class=\"sk-toggleable__content\"><pre>history_text</pre></div></div></div><div class=\"sk-serial\"><div class=\"sk-item\"><div class=\"sk-serial\"><div class=\"sk-item\"><div class=\"sk-estimator sk-toggleable\"><input class=\"sk-toggleable__control sk-hidden--visually\" id=\"dbfb5d36-bcd3-4861-81cc-1bfb24158236\" type=\"checkbox\" ><label for=\"dbfb5d36-bcd3-4861-81cc-1bfb24158236\" class=\"sk-toggleable__label sk-toggleable__label-arrow\">CountVectorizer</label><div class=\"sk-toggleable__content\"><pre>CountVectorizer(ngram_range=(1, 2),\n",
              "                tokenizer=&lt;__main__.StemmerTokenizer object at 0x7f286e1ff6d0&gt;)</pre></div></div></div><div class=\"sk-item\"><div class=\"sk-estimator sk-toggleable\"><input class=\"sk-toggleable__control sk-hidden--visually\" id=\"8ade4d43-3ccd-4953-a2a4-cc5d5418832e\" type=\"checkbox\" ><label for=\"8ade4d43-3ccd-4953-a2a4-cc5d5418832e\" class=\"sk-toggleable__label sk-toggleable__label-arrow\">FunctionTransformer</label><div class=\"sk-toggleable__content\"><pre>FunctionTransformer(accept_sparse=True,\n",
              "                    func=&lt;function toarray at 0x7f28703dd9e0&gt;)</pre></div></div></div></div></div></div></div></div></div></div></div></div><div class=\"sk-item\"><div class=\"sk-estimator sk-toggleable\"><input class=\"sk-toggleable__control sk-hidden--visually\" id=\"f457c152-f53e-4aa4-acc9-2088fc638926\" type=\"checkbox\" ><label for=\"f457c152-f53e-4aa4-acc9-2088fc638926\" class=\"sk-toggleable__label sk-toggleable__label-arrow\">SelectPercentile</label><div class=\"sk-toggleable__content\"><pre>SelectPercentile()</pre></div></div></div><div class=\"sk-item\"><div class=\"sk-estimator sk-toggleable\"><input class=\"sk-toggleable__control sk-hidden--visually\" id=\"4a11a6d2-2593-432f-b251-4caa2e87fe2b\" type=\"checkbox\" ><label for=\"4a11a6d2-2593-432f-b251-4caa2e87fe2b\" class=\"sk-toggleable__label sk-toggleable__label-arrow\">LogisticRegression</label><div class=\"sk-toggleable__content\"><pre>LogisticRegression()</pre></div></div></div></div></div></div></div>"
            ]
          },
          "metadata": {},
          "execution_count": 19
        }
      ],
      "source": [
        "clf_pipe = Pipeline(\n",
        "    steps=[\n",
        "        (\"preprocessing\", preprocessing),\n",
        "        (\"selection\", SelectPercentile(f_classif)),\n",
        "        (\"clf\", LogisticRegression())\n",
        "    ]\n",
        ")\n",
        "\n",
        "clf_pipe"
      ]
    },
    {
      "cell_type": "markdown",
      "source": [
        "Ahora estamos en condiciones para crear nuestra grilla de parámetros,\n",
        "la que contiene distintos valores sobre las funciones de transformación\n",
        "como las aplicadas por `CountVectorizer`, pero además, diferentes candidatos de modelos con distintos valores de hiperparámetros. Esto conformará el espacio de búsqueda donde `HalvingGridSearchCV` buscará el mejor modelo según alguna métrica, y en cada iteración, solo pasara la cantidad de candidatos con \n",
        "mejor desempeño para reducir el número de candidatos en la próximo iteración \n",
        "en un `factor=10` al indicado.\n"
      ],
      "metadata": {
        "id": "u1ml6HBgvONl"
      }
    },
    {
      "cell_type": "code",
      "execution_count": null,
      "metadata": {
        "id": "oNvHOHELUoIv"
      },
      "outputs": [],
      "source": [
        "from lightgbm import LGBMClassifier\n",
        "rnd_state=666\n",
        "\n",
        "# Creamos una lista de diccionario con las grillas de parámetro a explorar\n",
        "\n",
        "param_grid = [\n",
        "      # Clasificador 1: LogisticRegression\n",
        "      {\n",
        "      'preprocessing__column_transform__words__tokenizer__ngram_range': [(1,1), (1,2), (1,3)],\n",
        "      'preprocessing__column_transform__words__tokenizer__max_df': [0.6, 0.75],\n",
        "      'preprocessing__column_transform__words__tokenizer__max_features': [25000, 35000],\n",
        "      'selection__percentile': [20, 40, 60, 80],\n",
        "      'clf': [LogisticRegression(random_state=rnd_state)],\n",
        "      'clf__C': [5.3, 5.5],\n",
        "      'clf__max_iter': [3000],\n",
        "      'clf__penalty': ['l1'],\n",
        "      'clf__solver': ['liblinear'],\n",
        "      'clf__class_weight': ['balanced']\n",
        "    },\n",
        "    # Clasificador 2: SupperVectorMachine\n",
        "    {\n",
        "     'preprocessing__column_transform__words__tokenizer__ngram_range': [(1,1), (1,2), (1,3)],\n",
        "     'preprocessing__column_transform__words__tokenizer__max_df': [0.5, 0.75],\n",
        "     'preprocessing__column_transform__words__tokenizer__max_features': [25000, 35000],\n",
        "     'selection__percentile': [20, 40, 60, 80],\n",
        "     'clf': [SVC(decision_function_shape='ovo', random_state=rnd_state)],\n",
        "     'clf__kernel': ['linear', 'rbf'],\n",
        "     'clf__C': [1/4, 1/6],\n",
        "     'clf__gamma': [1.0, 1.1]\n",
        "    },\n",
        "    # Clasificador 3: LGBMClasssifier\n",
        "    {\n",
        "     'preprocessing__column_transform__words__tokenizer__ngram_range': [(1,1), (1,2), (1,3)],\n",
        "     'preprocessing__column_transform__words__tokenizer__max_df': [0.5, 0.75],\n",
        "     'preprocessing__column_transform__words__tokenizer__max_features': [25000, 35000],\n",
        "     'selection__percentile': [20, 40, 60, 80],\n",
        "     'clf': [LGBMClassifier(objective='multiclass', random_state=rnd_state, n_jobs=-1)],\n",
        "     'clf__num_classes': [3],\n",
        "     'clf__alpha': [0.1],\n",
        "     'clf__learning_rate': [0.01, 0.1]\n",
        "    },\n",
        "]"
      ]
    },
    {
      "cell_type": "code",
      "source": [
        "from sklearn.experimental import enable_halving_search_cv\n",
        "from sklearn.model_selection import HalvingGridSearchCV\n",
        "\n",
        "search = (HalvingGridSearchCV(clf_pipe, param_grid, n_jobs=-1, \n",
        "                              scoring='f1_macro', cv=3, verbose=10,\n",
        "                              refit=True, aggressive_elimination=True,\n",
        "                              factor=10)\n",
        "                                  .fit(X_train, y_train))"
      ],
      "metadata": {
        "id": "PYet3y6tIMM7"
      },
      "execution_count": null,
      "outputs": []
    },
    {
      "cell_type": "markdown",
      "source": [
        "- Debido al alto tiempo de ejecución de la grilla generada (aproximadamente 1 horas y media), se serializa la grilla obtenida mediante el siguiente comando:\n",
        "```python\n",
        "pickle.dump(search, open(\"grid_search.p\", \"wb\"))\n",
        "```\n",
        "\n",
        "- El archivo serializado está disponible en github en el repositorio del grupo:\n",
        "`https://github.com/alcazar90/sci-prog-lab/raw/main/laboratorios/grid_search.p`"
      ],
      "metadata": {
        "id": "qDOK-XSXIIw6"
      }
    },
    {
      "cell_type": "code",
      "source": [
        "# Se descargar el archivo serializado directamente desde el repo\n",
        "!wget https://github.com/alcazar90/sci-prog-lab/raw/main/laboratorios/grid_search.p\n",
        "\n",
        "# Se carga archivo serializado\n",
        "search = pickle.load(open(\"grid_search.p\", \"rb\"))"
      ],
      "metadata": {
        "id": "wCuWTk1LqMxU",
        "colab": {
          "base_uri": "https://localhost:8080/"
        },
        "outputId": "ff22db49-9062-4efd-a172-44a67ab0df5e"
      },
      "execution_count": null,
      "outputs": [
        {
          "output_type": "stream",
          "name": "stdout",
          "text": [
            "--2022-11-10 20:00:09--  https://github.com/alcazar90/sci-prog-lab/raw/main/laboratorios/grid_search.p\n",
            "Resolving github.com (github.com)... 140.82.113.4\n",
            "Connecting to github.com (github.com)|140.82.113.4|:443... connected.\n",
            "HTTP request sent, awaiting response... 302 Found\n",
            "Location: https://raw.githubusercontent.com/alcazar90/sci-prog-lab/main/laboratorios/grid_search.p [following]\n",
            "--2022-11-10 20:00:09--  https://raw.githubusercontent.com/alcazar90/sci-prog-lab/main/laboratorios/grid_search.p\n",
            "Resolving raw.githubusercontent.com (raw.githubusercontent.com)... 185.199.108.133, 185.199.109.133, 185.199.110.133, ...\n",
            "Connecting to raw.githubusercontent.com (raw.githubusercontent.com)|185.199.108.133|:443... connected.\n",
            "HTTP request sent, awaiting response... 200 OK\n",
            "Length: 17363962 (17M) [application/octet-stream]\n",
            "Saving to: ‘grid_search.p’\n",
            "\n",
            "grid_search.p       100%[===================>]  16.56M  --.-KB/s    in 0.1s    \n",
            "\n",
            "2022-11-10 20:00:10 (137 MB/s) - ‘grid_search.p’ saved [17363962/17363962]\n",
            "\n"
          ]
        }
      ]
    },
    {
      "cell_type": "markdown",
      "source": [
        "Obtener el puntaje de la mejor configuración de hiperparámetros (`f1_macro`):"
      ],
      "metadata": {
        "id": "xCRU2XhFIRYj"
      }
    },
    {
      "cell_type": "code",
      "execution_count": null,
      "metadata": {
        "colab": {
          "base_uri": "https://localhost:8080/"
        },
        "id": "4o2v8OsA94wv",
        "outputId": "6745bb7f-ab0b-41ec-f7ab-2b373ad09794"
      },
      "outputs": [
        {
          "output_type": "execute_result",
          "data": {
            "text/plain": [
              "0.3579534558437512"
            ]
          },
          "metadata": {},
          "execution_count": 24
        }
      ],
      "source": [
        "search.best_score_"
      ]
    },
    {
      "cell_type": "markdown",
      "source": [
        "Revisemos cual fue la mejor configuración de parámetros."
      ],
      "metadata": {
        "id": "wDtJkxOuIVml"
      }
    },
    {
      "cell_type": "code",
      "execution_count": null,
      "metadata": {
        "colab": {
          "base_uri": "https://localhost:8080/"
        },
        "id": "9CzddVZ597cX",
        "outputId": "318c393a-57ff-46c9-945a-e31990eec512"
      },
      "outputs": [
        {
          "output_type": "execute_result",
          "data": {
            "text/plain": [
              "{'clf': LGBMClassifier(alpha=0.1, num_classes=3, objective='multiclass',\n",
              "                random_state=666),\n",
              " 'clf__alpha': 0.1,\n",
              " 'clf__learning_rate': 0.1,\n",
              " 'clf__num_classes': 3,\n",
              " 'preprocessing__column_transform__words__tokenizer__max_df': 0.75,\n",
              " 'preprocessing__column_transform__words__tokenizer__max_features': 35000,\n",
              " 'preprocessing__column_transform__words__tokenizer__ngram_range': (1, 3),\n",
              " 'selection__percentile': 80}"
            ]
          },
          "metadata": {},
          "execution_count": 25
        }
      ],
      "source": [
        "# Obtener la combinación de parámetros del pipeline con mejor puntaje\n",
        "search.best_params_"
      ]
    },
    {
      "cell_type": "markdown",
      "source": [
        "Cuales fueron los top 3 configuraciones de modelos:"
      ],
      "metadata": {
        "id": "OHQFPsgQIf5b"
      }
    },
    {
      "cell_type": "code",
      "execution_count": null,
      "metadata": {
        "colab": {
          "base_uri": "https://localhost:8080/",
          "height": 404
        },
        "id": "J15TXYAD-FKV",
        "outputId": "e703bc42-bf27-4e4d-f0c8-c3264bca504e"
      },
      "outputs": [
        {
          "output_type": "execute_result",
          "data": {
            "text/plain": [
              "<pandas.io.formats.style.Styler at 0x7f286d8f7b50>"
            ],
            "text/html": [
              "<style type=\"text/css\">\n",
              "#T_d791b_row0_col0, #T_d791b_row1_col0, #T_d791b_row2_col0 {\n",
              "  width: 650px;\n",
              "}\n",
              "</style>\n",
              "<table id=\"T_d791b_\" class=\"dataframe\">\n",
              "  <thead>\n",
              "    <tr>\n",
              "      <th class=\"blank level0\" >&nbsp;</th>\n",
              "      <th class=\"col_heading level0 col0\" >params</th>\n",
              "      <th class=\"col_heading level0 col1\" >mean_test_score</th>\n",
              "      <th class=\"col_heading level0 col2\" >std_test_score</th>\n",
              "      <th class=\"col_heading level0 col3\" >rank_test_score</th>\n",
              "    </tr>\n",
              "  </thead>\n",
              "  <tbody>\n",
              "    <tr>\n",
              "      <th id=\"T_d791b_level0_row0\" class=\"row_heading level0 row0\" >426</th>\n",
              "      <td id=\"T_d791b_row0_col0\" class=\"data row0 col0\" >{'clf': LGBMClassifier(alpha=0.1, num_classes=3, objective='multiclass',\n",
              "               random_state=666), 'clf__alpha': 0.1, 'clf__learning_rate': 0.1, 'clf__num_classes': 3, 'preprocessing__column_transform__words__tokenizer__max_df': 0.75, 'preprocessing__column_transform__words__tokenizer__max_features': 35000, 'preprocessing__column_transform__words__tokenizer__ngram_range': (1, 3), 'selection__percentile': 80}</td>\n",
              "      <td id=\"T_d791b_row0_col1\" class=\"data row0 col1\" >0.357953</td>\n",
              "      <td id=\"T_d791b_row0_col2\" class=\"data row0 col2\" >0.058790</td>\n",
              "      <td id=\"T_d791b_row0_col3\" class=\"data row0 col3\" >1</td>\n",
              "    </tr>\n",
              "    <tr>\n",
              "      <th id=\"T_d791b_level0_row1\" class=\"row_heading level0 row1\" >30</th>\n",
              "      <td id=\"T_d791b_row1_col0\" class=\"data row1 col0\" >{'clf': LogisticRegression(random_state=666), 'clf__C': 5.3, 'clf__class_weight': 'balanced', 'clf__max_iter': 3000, 'clf__penalty': 'l1', 'clf__solver': 'liblinear', 'preprocessing__column_transform__words__tokenizer__max_df': 0.75, 'preprocessing__column_transform__words__tokenizer__max_features': 25000, 'preprocessing__column_transform__words__tokenizer__ngram_range': (1, 2), 'selection__percentile': 60}</td>\n",
              "      <td id=\"T_d791b_row1_col1\" class=\"data row1 col1\" >0.328571</td>\n",
              "      <td id=\"T_d791b_row1_col2\" class=\"data row1 col2\" >0.111117</td>\n",
              "      <td id=\"T_d791b_row1_col3\" class=\"data row1 col3\" >2</td>\n",
              "    </tr>\n",
              "    <tr>\n",
              "      <th id=\"T_d791b_level0_row2\" class=\"row_heading level0 row2\" >51</th>\n",
              "      <td id=\"T_d791b_row2_col0\" class=\"data row2 col0\" >{'clf': LogisticRegression(random_state=666), 'clf__C': 5.5, 'clf__class_weight': 'balanced', 'clf__max_iter': 3000, 'clf__penalty': 'l1', 'clf__solver': 'liblinear', 'preprocessing__column_transform__words__tokenizer__max_df': 0.6, 'preprocessing__column_transform__words__tokenizer__max_features': 25000, 'preprocessing__column_transform__words__tokenizer__ngram_range': (1, 1), 'selection__percentile': 80}</td>\n",
              "      <td id=\"T_d791b_row2_col1\" class=\"data row2 col1\" >0.328571</td>\n",
              "      <td id=\"T_d791b_row2_col2\" class=\"data row2 col2\" >0.111117</td>\n",
              "      <td id=\"T_d791b_row2_col3\" class=\"data row2 col3\" >2</td>\n",
              "    </tr>\n",
              "  </tbody>\n",
              "</table>\n"
            ]
          },
          "metadata": {},
          "execution_count": 26
        }
      ],
      "source": [
        "# Obtener un subconjunto de columnas del reporte completo de la búsqueda\n",
        "# de hiperparámetros...\n",
        "top3_reporte = (pd.DataFrame(search.cv_results_)\n",
        "        [['params', 'mean_test_score', 'std_test_score', 'rank_test_score']]\n",
        "        .sort_values('rank_test_score')\n",
        "        .head(n=3)\n",
        "        .style\n",
        "        .set_properties(subset=['params'], **{'width': '650px'})\n",
        ")\n",
        "\n",
        "top3_reporte"
      ]
    },
    {
      "cell_type": "markdown",
      "source": [
        "Analicemos el reporte de clasificación para la mejor configuración:"
      ],
      "metadata": {
        "id": "a-8HqWLwIj3M"
      }
    },
    {
      "cell_type": "code",
      "source": [
        "# Métricas del mejor modelo\n",
        "print(classification_report(y_test, search.predict(X_test)))"
      ],
      "metadata": {
        "colab": {
          "base_uri": "https://localhost:8080/"
        },
        "id": "elap_bFEibUx",
        "outputId": "642287f0-b3e2-4e44-887e-cbc5e0a45fa4"
      },
      "execution_count": null,
      "outputs": [
        {
          "output_type": "stream",
          "name": "stdout",
          "text": [
            "              precision    recall  f1-score   support\n",
            "\n",
            "         Bad       0.57      0.60      0.59       142\n",
            "        Good       0.73      0.82      0.78       246\n",
            "     Neutral       0.50      0.03      0.05        37\n",
            "\n",
            "    accuracy                           0.68       425\n",
            "   macro avg       0.60      0.48      0.47       425\n",
            "weighted avg       0.66      0.68      0.65       425\n",
            "\n"
          ]
        }
      ]
    },
    {
      "cell_type": "markdown",
      "source": [
        "La cantidad de columnas seleccionados."
      ],
      "metadata": {
        "id": "QSOJrMJKI2hP"
      }
    },
    {
      "cell_type": "code",
      "source": [
        "# Columnas seleccionadas\n",
        "cols_selec_modelo_pos = pd.Series(\n",
        "    search.best_estimator_[1].get_support()\n",
        ").replace(\n",
        "    [True, False], [\"Columna seleccionada\", \"Columna no seleccionada\"]\n",
        ")\n",
        "\n",
        "cols_selec_modelo_pos.value_counts()"
      ],
      "metadata": {
        "colab": {
          "base_uri": "https://localhost:8080/"
        },
        "id": "QsrXYqrQHGzb",
        "outputId": "7d32c34c-e8d3-4922-bc1c-91ad843c1c87"
      },
      "execution_count": null,
      "outputs": [
        {
          "output_type": "execute_result",
          "data": {
            "text/plain": [
              "Columna seleccionada       28004\n",
              "Columna no seleccionada     7002\n",
              "dtype: int64"
            ]
          },
          "metadata": {},
          "execution_count": 28
        }
      ]
    },
    {
      "cell_type": "markdown",
      "metadata": {
        "id": "uSz3PvJlF7zL"
      },
      "source": [
        "```\n",
        "Escriba aquí su justificación\n",
        "```\n",
        "\n",
        "**Reporte la mejor combinación encontrada**\n",
        "\n",
        "La mejor combinación encontrada corresponde al modelo **LGBMClassifier** con\n",
        "los hiperparámetros reportados a continuación.\n",
        "```\n",
        "{'clf': LGBMClassifier(alpha=0.1, num_classes=3, objective='multiclass',\n",
        "                random_state=666),\n",
        " 'clf__alpha': 0.1,\n",
        " 'clf__learning_rate': 0.1,\n",
        " 'clf__num_classes': 3,\n",
        " 'preprocessing__column_transform__words__tokenizer__max_df': 0.75,\n",
        " 'preprocessing__column_transform__words__tokenizer__max_features': 35000,\n",
        " 'preprocessing__column_transform__words__tokenizer__ngram_range': (1, 3),\n",
        " 'selection__percentile': 80}\n",
        " ```\n",
        "\n",
        "En cuanto al procesamiento de texto, se selecciona el uso de 1 a 3 \"n-gramas\", considerando las 35.000 palabras más frecuentes, ignorando aquellas palabras que estén presentes en 75% o más de los documentos ingresados.\n",
        "\n",
        "Sobre la selección de atributos, se escoge el valor máximo explorado, de percentil 80. Esto quiere decir que existe la posibilidad de que se seleccionara aún más atributos.\n",
        "\n",
        "**Justifique por qué cree que es la mejor según el clasificador usado**\n",
        "\n",
        "La selección mediante búsqueda de grilla se hace considerando todas las combinaciones entregadas para todos los hiperparámetros, y además haciendo un proceso de validación cruzada subdividiendo los datos de entrenamiento en entrenamiento y validación en 3 iteraciones. \n",
        "\n",
        "Dado lo anterior, se garantiza robustez en los resultados obtenidos mediante la búsqueda de grilla, que hace la selección de atributos según el major valor de métrica de desempeño obtenido promedio (entre las 3 ejecuciones de validación cruzada) para una combinación determinada de hiperparámetros.\n",
        "\n",
        "El método de búsqueda utiizado es `HalvingGridSearchCV` que comienza\n",
        "explorando todos los posibles candidatos (aka combinaciones) pero con un\n",
        "bajo uso de \"recursos\". Esto significa que se ajustan los modelos solo sobre un\n",
        "subconjunto del total de las observaciones para entrenar. Luego, y que\n",
        "explica la palabra _halving_ en su nombre, reduce el grupo de posibles\n",
        "candidatos para continuar la búsquedaa según lo indicado por el parámetros\n",
        "`factor`. Utilizamos un factor de 10 debido al gran tamaño del espacio\n",
        "de búsqueda de hiperparámetros que especificamos en la grila. De esta manera,\n",
        "por ejemplo, si fueran 100 posibles configuraciones, en la siguiente iterración luego de una selección basada en un _ranking_ solo pasarían 10 candidatos\n",
        "con un `factor=10`.\n",
        "\n",
        "Creemos que la selección del modelo `LGBMC`, cuya configuración\n",
        "presentada arriba, se debe a la gran expresividad de esta familia de modelos.\n",
        "Recordemos que este tipo de modelos son basados en ensamblajes de muchas\n",
        "instancias de arboles de clasificación. Cada una de estas instancias tuvieron\n",
        "la oportunidad de ver un subconjunto de _features_ diferentes, y no la misma\n",
        "cantidad, cosa que resulta ser de gran utiidad cuando hay muchas\n",
        "caracteristicas como es el caso, ya que permite identificar cuales son las más relevantes sin que necesariamente implique un sobreajuste o no utilizarla. En resumen, es un modelo con alta expresividad, y que puede insumir gran número de variables con a capacidad de controlar el sobreajuste sin sacrificar información.\n",
        " \n",
        "Adicionalmente, nos llama la atención que el siguiente modelo seleccionado sea una regresión logística (ver reporte top 3 arriba). Sin embargo, el buen\n",
        "desempeño (luego de `LGMC`), se puede deber al fuerte componente\n",
        "de regularizaación utilizado `C=5.3` y la penalización de norma 1 que actua\n",
        "como un seleccionador de variables implicitas. Lo que debe haber ayudado \n",
        "a la regresión logistica a lidiar con un problema donde hay más\n",
        "_features_ que observaciones.\n",
        "\n",
        "Se debe tener en cuenta además el problema de las clases desbalanceadas. Creemos que realizando una técnica de balanceo de clases el desempeño del modelo mejoraría. Probablemente también realizando un pre procesamiento manual del texto, eliminando palabras más frecuentes presentes en todas las categorías, eliminando puntuaciones, aplicando lemmatización en lugar de stemmización, etc.\n",
        "\n",
        "**Cantidad de columnas seleccionadas**\n",
        "\n",
        "El procesamiento del pipeline de procesamiento genera un total de 35.006 columnas (35.000 palabras más frecuentes, más 6 atributos numéricos). Dado que el mejor valor de percentil de selección corresponde a 80%, el número de columnas seleccionadas corresponde a 28.004 columnas.\n",
        "\n",
        "**Parámetros de CountVectorizer seleccionados por GridSearch**\n",
        "\n",
        "Como se mencionó y profundizó su justificación previamente, los parámetros de CountVectorizer seleccionados corresponden a las 35.000 palabras más frecuentes, con n gramas de 1 a 3 palabras, y omitiendo las palabras con presencia en 75% o más de los documentos."
      ]
    },
    {
      "cell_type": "markdown",
      "metadata": {
        "id": "OmQUw2aZ_6z2"
      },
      "source": [
        "## 1.4 Predicción del datos sin etiquetado  [0.5 puntos]\n",
        "\n",
        "<p align=\"center\">\n",
        "  <img src=\"https://pbs.twimg.com/media/DolotxUUYAAbg7f.jpg\" width=\"350\">\n",
        "</p>\n"
      ]
    },
    {
      "cell_type": "markdown",
      "metadata": {
        "id": "Cj0ERBgTBFWN"
      },
      "source": [
        "LLego el momento de predecir \n",
        "`Vergil`, `Gorilla Girl` y `Batcow`\n",
        "\n",
        "\n",
        "**Nota:** Recuerde que pueden existir campos vacios en `history_text`, por lo que se les recomienda borrar los nan."
      ]
    },
    {
      "cell_type": "markdown",
      "metadata": {
        "id": "zWYBV_BBF7zM"
      },
      "source": [
        "**Respuesta:**"
      ]
    },
    {
      "cell_type": "markdown",
      "source": [
        "Seleccionamos los atributos relevantes del conjunto de datos y\n",
        "eliminamos observaciones con posibles valores nan en la columna `history_text`."
      ],
      "metadata": {
        "id": "esC6B2XWxoaY"
      }
    },
    {
      "cell_type": "code",
      "source": [
        "X_no_label = (df_comics_no_label\n",
        "                .drop_duplicates(subset=['name', 'real_name'])\n",
        "                [atributos_de_interes + [atributo_a_tokenizar]]\n",
        "                .loc[~df_comics_no_label[atributo_a_tokenizar].isna(), :]\n",
        ")\n",
        "\n",
        "X_no_label.head(n=3)"
      ],
      "metadata": {
        "colab": {
          "base_uri": "https://localhost:8080/",
          "height": 143
        },
        "id": "nacyHURAxD_q",
        "outputId": "082dff14-6fa8-4c35-e271-cdc03c587cbd"
      },
      "execution_count": null,
      "outputs": [
        {
          "output_type": "execute_result",
          "data": {
            "text/plain": [
              "   intelligence_score  strength_score  speed_score  durability_score  \\\n",
              "0                 100              20           30                50   \n",
              "2                  85              30           70                55   \n",
              "3                  90              10           25                25   \n",
              "\n",
              "   power_score  combat_score  \\\n",
              "0           35           100   \n",
              "2           65           100   \n",
              "3           35            80   \n",
              "\n",
              "                                        history_text  \n",
              "0  He was one of the many prisoners of Indian Hil...  \n",
              "2  As with most of the naaru, little is known of ...  \n",
              "3  During mid-late 1973, Zero was a member of Tea...  "
            ],
            "text/html": [
              "\n",
              "  <div id=\"df-afd491f8-c138-411f-98d3-19cc7da0946b\">\n",
              "    <div class=\"colab-df-container\">\n",
              "      <div>\n",
              "<style scoped>\n",
              "    .dataframe tbody tr th:only-of-type {\n",
              "        vertical-align: middle;\n",
              "    }\n",
              "\n",
              "    .dataframe tbody tr th {\n",
              "        vertical-align: top;\n",
              "    }\n",
              "\n",
              "    .dataframe thead th {\n",
              "        text-align: right;\n",
              "    }\n",
              "</style>\n",
              "<table border=\"1\" class=\"dataframe\">\n",
              "  <thead>\n",
              "    <tr style=\"text-align: right;\">\n",
              "      <th></th>\n",
              "      <th>intelligence_score</th>\n",
              "      <th>strength_score</th>\n",
              "      <th>speed_score</th>\n",
              "      <th>durability_score</th>\n",
              "      <th>power_score</th>\n",
              "      <th>combat_score</th>\n",
              "      <th>history_text</th>\n",
              "    </tr>\n",
              "  </thead>\n",
              "  <tbody>\n",
              "    <tr>\n",
              "      <th>0</th>\n",
              "      <td>100</td>\n",
              "      <td>20</td>\n",
              "      <td>30</td>\n",
              "      <td>50</td>\n",
              "      <td>35</td>\n",
              "      <td>100</td>\n",
              "      <td>He was one of the many prisoners of Indian Hil...</td>\n",
              "    </tr>\n",
              "    <tr>\n",
              "      <th>2</th>\n",
              "      <td>85</td>\n",
              "      <td>30</td>\n",
              "      <td>70</td>\n",
              "      <td>55</td>\n",
              "      <td>65</td>\n",
              "      <td>100</td>\n",
              "      <td>As with most of the naaru, little is known of ...</td>\n",
              "    </tr>\n",
              "    <tr>\n",
              "      <th>3</th>\n",
              "      <td>90</td>\n",
              "      <td>10</td>\n",
              "      <td>25</td>\n",
              "      <td>25</td>\n",
              "      <td>35</td>\n",
              "      <td>80</td>\n",
              "      <td>During mid-late 1973, Zero was a member of Tea...</td>\n",
              "    </tr>\n",
              "  </tbody>\n",
              "</table>\n",
              "</div>\n",
              "      <button class=\"colab-df-convert\" onclick=\"convertToInteractive('df-afd491f8-c138-411f-98d3-19cc7da0946b')\"\n",
              "              title=\"Convert this dataframe to an interactive table.\"\n",
              "              style=\"display:none;\">\n",
              "        \n",
              "  <svg xmlns=\"http://www.w3.org/2000/svg\" height=\"24px\"viewBox=\"0 0 24 24\"\n",
              "       width=\"24px\">\n",
              "    <path d=\"M0 0h24v24H0V0z\" fill=\"none\"/>\n",
              "    <path d=\"M18.56 5.44l.94 2.06.94-2.06 2.06-.94-2.06-.94-.94-2.06-.94 2.06-2.06.94zm-11 1L8.5 8.5l.94-2.06 2.06-.94-2.06-.94L8.5 2.5l-.94 2.06-2.06.94zm10 10l.94 2.06.94-2.06 2.06-.94-2.06-.94-.94-2.06-.94 2.06-2.06.94z\"/><path d=\"M17.41 7.96l-1.37-1.37c-.4-.4-.92-.59-1.43-.59-.52 0-1.04.2-1.43.59L10.3 9.45l-7.72 7.72c-.78.78-.78 2.05 0 2.83L4 21.41c.39.39.9.59 1.41.59.51 0 1.02-.2 1.41-.59l7.78-7.78 2.81-2.81c.8-.78.8-2.07 0-2.86zM5.41 20L4 18.59l7.72-7.72 1.47 1.35L5.41 20z\"/>\n",
              "  </svg>\n",
              "      </button>\n",
              "      \n",
              "  <style>\n",
              "    .colab-df-container {\n",
              "      display:flex;\n",
              "      flex-wrap:wrap;\n",
              "      gap: 12px;\n",
              "    }\n",
              "\n",
              "    .colab-df-convert {\n",
              "      background-color: #E8F0FE;\n",
              "      border: none;\n",
              "      border-radius: 50%;\n",
              "      cursor: pointer;\n",
              "      display: none;\n",
              "      fill: #1967D2;\n",
              "      height: 32px;\n",
              "      padding: 0 0 0 0;\n",
              "      width: 32px;\n",
              "    }\n",
              "\n",
              "    .colab-df-convert:hover {\n",
              "      background-color: #E2EBFA;\n",
              "      box-shadow: 0px 1px 2px rgba(60, 64, 67, 0.3), 0px 1px 3px 1px rgba(60, 64, 67, 0.15);\n",
              "      fill: #174EA6;\n",
              "    }\n",
              "\n",
              "    [theme=dark] .colab-df-convert {\n",
              "      background-color: #3B4455;\n",
              "      fill: #D2E3FC;\n",
              "    }\n",
              "\n",
              "    [theme=dark] .colab-df-convert:hover {\n",
              "      background-color: #434B5C;\n",
              "      box-shadow: 0px 1px 3px 1px rgba(0, 0, 0, 0.15);\n",
              "      filter: drop-shadow(0px 1px 2px rgba(0, 0, 0, 0.3));\n",
              "      fill: #FFFFFF;\n",
              "    }\n",
              "  </style>\n",
              "\n",
              "      <script>\n",
              "        const buttonEl =\n",
              "          document.querySelector('#df-afd491f8-c138-411f-98d3-19cc7da0946b button.colab-df-convert');\n",
              "        buttonEl.style.display =\n",
              "          google.colab.kernel.accessAllowed ? 'block' : 'none';\n",
              "\n",
              "        async function convertToInteractive(key) {\n",
              "          const element = document.querySelector('#df-afd491f8-c138-411f-98d3-19cc7da0946b');\n",
              "          const dataTable =\n",
              "            await google.colab.kernel.invokeFunction('convertToInteractive',\n",
              "                                                     [key], {});\n",
              "          if (!dataTable) return;\n",
              "\n",
              "          const docLinkHtml = 'Like what you see? Visit the ' +\n",
              "            '<a target=\"_blank\" href=https://colab.research.google.com/notebooks/data_table.ipynb>data table notebook</a>'\n",
              "            + ' to learn more about interactive tables.';\n",
              "          element.innerHTML = '';\n",
              "          dataTable['output_type'] = 'display_data';\n",
              "          await google.colab.output.renderOutput(dataTable, element);\n",
              "          const docLink = document.createElement('div');\n",
              "          docLink.innerHTML = docLinkHtml;\n",
              "          element.appendChild(docLink);\n",
              "        }\n",
              "      </script>\n",
              "    </div>\n",
              "  </div>\n",
              "  "
            ]
          },
          "metadata": {},
          "execution_count": 29
        }
      ]
    },
    {
      "cell_type": "markdown",
      "source": [
        "Se obtienen las predicciones para todas observaciones en `X_no_label`,\n",
        "se utiliza para esto el _pipeline_ con el mejor modelo ajustado según el\n",
        "método `HavingGridSearchCV` y la métrica `f1_macro`."
      ],
      "metadata": {
        "id": "kds4_mnsulzW"
      }
    },
    {
      "cell_type": "code",
      "source": [
        "filter_names = ['Vergil', 'Gorilla Girl', 'Batcow']\n",
        "\n",
        "(df_comics_no_label\n",
        "  .drop_duplicates(subset=['name', 'real_name'])\n",
        "  .loc[~df_comics_no_label[atributo_a_tokenizar].isna(), :]\n",
        "  [['name', 'real_name']]\n",
        "  .assign(alignement=search.predict(X_no_label))\n",
        "  .loc[df_comics_no_label.name.isin(filter_names)]\n",
        ")"
      ],
      "metadata": {
        "colab": {
          "base_uri": "https://localhost:8080/",
          "height": 143
        },
        "id": "afUZxgcjzdJJ",
        "outputId": "844274f4-711a-4424-c6d6-83e984be4ba2"
      },
      "execution_count": null,
      "outputs": [
        {
          "output_type": "execute_result",
          "data": {
            "text/plain": [
              "            name        real_name alignement\n",
              "16        Batcow             None       Good\n",
              "40  Gorilla Girl  Fahnbullah Eddy       Good\n",
              "78        Vergil    Vergil Sparda       Good"
            ],
            "text/html": [
              "\n",
              "  <div id=\"df-f3f9cc5a-7bc0-4ea2-bfed-f970de628a4b\">\n",
              "    <div class=\"colab-df-container\">\n",
              "      <div>\n",
              "<style scoped>\n",
              "    .dataframe tbody tr th:only-of-type {\n",
              "        vertical-align: middle;\n",
              "    }\n",
              "\n",
              "    .dataframe tbody tr th {\n",
              "        vertical-align: top;\n",
              "    }\n",
              "\n",
              "    .dataframe thead th {\n",
              "        text-align: right;\n",
              "    }\n",
              "</style>\n",
              "<table border=\"1\" class=\"dataframe\">\n",
              "  <thead>\n",
              "    <tr style=\"text-align: right;\">\n",
              "      <th></th>\n",
              "      <th>name</th>\n",
              "      <th>real_name</th>\n",
              "      <th>alignement</th>\n",
              "    </tr>\n",
              "  </thead>\n",
              "  <tbody>\n",
              "    <tr>\n",
              "      <th>16</th>\n",
              "      <td>Batcow</td>\n",
              "      <td>None</td>\n",
              "      <td>Good</td>\n",
              "    </tr>\n",
              "    <tr>\n",
              "      <th>40</th>\n",
              "      <td>Gorilla Girl</td>\n",
              "      <td>Fahnbullah Eddy</td>\n",
              "      <td>Good</td>\n",
              "    </tr>\n",
              "    <tr>\n",
              "      <th>78</th>\n",
              "      <td>Vergil</td>\n",
              "      <td>Vergil Sparda</td>\n",
              "      <td>Good</td>\n",
              "    </tr>\n",
              "  </tbody>\n",
              "</table>\n",
              "</div>\n",
              "      <button class=\"colab-df-convert\" onclick=\"convertToInteractive('df-f3f9cc5a-7bc0-4ea2-bfed-f970de628a4b')\"\n",
              "              title=\"Convert this dataframe to an interactive table.\"\n",
              "              style=\"display:none;\">\n",
              "        \n",
              "  <svg xmlns=\"http://www.w3.org/2000/svg\" height=\"24px\"viewBox=\"0 0 24 24\"\n",
              "       width=\"24px\">\n",
              "    <path d=\"M0 0h24v24H0V0z\" fill=\"none\"/>\n",
              "    <path d=\"M18.56 5.44l.94 2.06.94-2.06 2.06-.94-2.06-.94-.94-2.06-.94 2.06-2.06.94zm-11 1L8.5 8.5l.94-2.06 2.06-.94-2.06-.94L8.5 2.5l-.94 2.06-2.06.94zm10 10l.94 2.06.94-2.06 2.06-.94-2.06-.94-.94-2.06-.94 2.06-2.06.94z\"/><path d=\"M17.41 7.96l-1.37-1.37c-.4-.4-.92-.59-1.43-.59-.52 0-1.04.2-1.43.59L10.3 9.45l-7.72 7.72c-.78.78-.78 2.05 0 2.83L4 21.41c.39.39.9.59 1.41.59.51 0 1.02-.2 1.41-.59l7.78-7.78 2.81-2.81c.8-.78.8-2.07 0-2.86zM5.41 20L4 18.59l7.72-7.72 1.47 1.35L5.41 20z\"/>\n",
              "  </svg>\n",
              "      </button>\n",
              "      \n",
              "  <style>\n",
              "    .colab-df-container {\n",
              "      display:flex;\n",
              "      flex-wrap:wrap;\n",
              "      gap: 12px;\n",
              "    }\n",
              "\n",
              "    .colab-df-convert {\n",
              "      background-color: #E8F0FE;\n",
              "      border: none;\n",
              "      border-radius: 50%;\n",
              "      cursor: pointer;\n",
              "      display: none;\n",
              "      fill: #1967D2;\n",
              "      height: 32px;\n",
              "      padding: 0 0 0 0;\n",
              "      width: 32px;\n",
              "    }\n",
              "\n",
              "    .colab-df-convert:hover {\n",
              "      background-color: #E2EBFA;\n",
              "      box-shadow: 0px 1px 2px rgba(60, 64, 67, 0.3), 0px 1px 3px 1px rgba(60, 64, 67, 0.15);\n",
              "      fill: #174EA6;\n",
              "    }\n",
              "\n",
              "    [theme=dark] .colab-df-convert {\n",
              "      background-color: #3B4455;\n",
              "      fill: #D2E3FC;\n",
              "    }\n",
              "\n",
              "    [theme=dark] .colab-df-convert:hover {\n",
              "      background-color: #434B5C;\n",
              "      box-shadow: 0px 1px 3px 1px rgba(0, 0, 0, 0.15);\n",
              "      filter: drop-shadow(0px 1px 2px rgba(0, 0, 0, 0.3));\n",
              "      fill: #FFFFFF;\n",
              "    }\n",
              "  </style>\n",
              "\n",
              "      <script>\n",
              "        const buttonEl =\n",
              "          document.querySelector('#df-f3f9cc5a-7bc0-4ea2-bfed-f970de628a4b button.colab-df-convert');\n",
              "        buttonEl.style.display =\n",
              "          google.colab.kernel.accessAllowed ? 'block' : 'none';\n",
              "\n",
              "        async function convertToInteractive(key) {\n",
              "          const element = document.querySelector('#df-f3f9cc5a-7bc0-4ea2-bfed-f970de628a4b');\n",
              "          const dataTable =\n",
              "            await google.colab.kernel.invokeFunction('convertToInteractive',\n",
              "                                                     [key], {});\n",
              "          if (!dataTable) return;\n",
              "\n",
              "          const docLinkHtml = 'Like what you see? Visit the ' +\n",
              "            '<a target=\"_blank\" href=https://colab.research.google.com/notebooks/data_table.ipynb>data table notebook</a>'\n",
              "            + ' to learn more about interactive tables.';\n",
              "          element.innerHTML = '';\n",
              "          dataTable['output_type'] = 'display_data';\n",
              "          await google.colab.output.renderOutput(dataTable, element);\n",
              "          const docLink = document.createElement('div');\n",
              "          docLink.innerHTML = docLinkHtml;\n",
              "          element.appendChild(docLink);\n",
              "        }\n",
              "      </script>\n",
              "    </div>\n",
              "  </div>\n",
              "  "
            ]
          },
          "metadata": {},
          "execution_count": 30
        }
      ]
    },
    {
      "cell_type": "markdown",
      "source": [
        "Nuestro mejor modelo predice que todo los personajes solicitados son heroes,\n",
        "o al menos, se encuentran alineados del lado \"bueno\".\n",
        "\n",
        "A continuación se analizan las historias de cada uno de los tres personajes:"
      ],
      "metadata": {
        "id": "jlbjR4LZ2QlG"
      }
    },
    {
      "cell_type": "code",
      "source": [
        "pd.set_option('display.max_colwidth', None)\n",
        "\n",
        "(df_comics_no_label\n",
        " .drop_duplicates(subset=['name', 'real_name'])\n",
        " .loc[df_comics_no_label.name.isin(filter_names), 'history_text']\n",
        ")"
      ],
      "metadata": {
        "colab": {
          "base_uri": "https://localhost:8080/"
        },
        "id": "3gC2R-uf2YIA",
        "outputId": "ffd74571-429c-4102-809a-2d2c6b3eb0ad"
      },
      "execution_count": null,
      "outputs": [
        {
          "output_type": "execute_result",
          "data": {
            "text/plain": [
              "16    Bat-Cow was originally a cow that was found by Robin during an investigation on a slaughterhouse, which the cow was sent to. Robin wanted to keep the cow and named it Bat-Cow. Batman decided they would keep the cow. During a later investigation, Batman discovered it had mind-controlling radiation inside of it, leading him to attempt to get rid of the cow. Robin, however would not allow him to hurt the cow. After the events of Robin's death, Bat-Cow and Robin's dog felt a great loss in morale. Alfred Pennyworth and Nightwing had to take care of the cow. Later after Nightwing's disappearance, Alfred was the only caretaker of Bat-Cow. Bat-Cow, complete with cape, spent time on a Wayne Enterprises-owned dairy farm. It was there the cow encountered the cosmic-powered \"Forever People.\" One of them seemed to gain guidance from Bat-Cow's actions, namely when Bat-Cow gave one of the Forever People a scarecrow's hat. Bat-Cow formed a friendship with Titus, a dog and household cat.\n",
              "40                                                                                                                                                                                                                                                                                                                                                                                                                                             A carnival performer with the ability to turn into a gorilla, Fahnbullah Eddy and the rest of her fellow performers had their souls stolen by the magician Moondark and turned into his mindless slaves. The carnival was freed from Moondark by Spider-Man and Ghost Rider and their souls returned. Sometime after the incident with Moondark, Eddy and her fellow carnival performers Six and Muck briefly operated as a superhero team called the Freaks. In their only known outing as such, the team saved a doctor from being kidnapped by the villains Hammer and Anvil.\n",
              "78                                                                                                                                                                                                                                                                                                                                                                                                                                                                                                                                                                                                                                                           Vergil, later also known as Nelo Angelo, is one of the main characters in Devil May Cry series, acting as the main antagonist of Devil May Cry 3: Dante's Awakening. He is the twin brother and father of the protagonists, Dante and Nero respectively, and seems designed to be their opposites. Despite being the antagonist, Vergil rarely acted beside Dante.\n",
              "Name: history_text, dtype: object"
            ]
          },
          "metadata": {},
          "execution_count": 31
        }
      ]
    },
    {
      "cell_type": "markdown",
      "source": [
        "Algunos extractos interesantes de las historias de personajes que\n",
        "búscamos predecir su _\"aligment\"_:\n",
        "\n",
        "* ✅ - ❌ **Bat-Cow**: podría ser neutro, sin embargo, se encontró siempre rodeado\n",
        "por súperherores luego de que fuera rescatada por estos. Se muestra que la\n",
        "\"super-mascota\" tiene capacidad de generar lazos de amistad. Díficil\n",
        "que sea un villano, pero podría ser un personaje \"Neutro\". \n",
        "> _\"One of them seemed to gain guidance from Bat-Cow's actions, namely when Bat-Cow gave one of the Forever People a scarecrow's hat. Bat-Cow formed a friendship with Titus, a dog and household cat.\"_\n",
        "* ✅ **Gorilla Girl**: Definitivamente un personaje bueno, el cual en su momento\n",
        "fue manipulado por _Moondark_, pero no actuaba bajo su voluntad. Hay registros\n",
        "de acciones heroicas posteriores la manipulación.\n",
        "> _\"Fahnbulah Eddy (aka Gorilla girl)...afther the incident with Moondark, Eddy and her fellow carnival performers Six and Muck briefly operated as a superhearo team called the Freaks. In their only known outing as such, the team save a doctor from being kidnapped\"_\n",
        "* ❌ **Vergil**: Personaje intrincado y de naturaleza dual. ¿Implicar ser malo cuando se tiene un rol antagonista? La historia lo posiciona como antagonista de su hermano gemelo Dante, pero no aparece ver registros en esta historia de acciones \"malvadas\" que lo puedan catalogar como villano. \n",
        "> _\"acting as the main antagonist of Devil May Crey...Despite being the antagonist, Vergill rarely acted beside Dante\"_\n",
        "\n",
        "Al parecer, el único personaje que se identificó incorrectamente fue\n",
        "**Vergil**. Sin embargo, en la hitoria de este personaje, si bien es\n",
        "antagonista y uno podría catalogarlo de malo, no aparece en su\n",
        "historia registros con intenciones directas de realizar daño a su contraparte\n",
        "Dante. Por lo que quizás, la predicción no se encuentren del todo mal, \n",
        "dado los antecedentes disponibles.\n"
      ],
      "metadata": {
        "id": "No7MCpPS3Vls"
      }
    },
    {
      "cell_type": "markdown",
      "metadata": {
        "id": "Rg4ZMq8ezAH6"
      },
      "source": [
        "<p align=\"center\">\n",
        "  <img src=\"https://media1.tenor.com/images/fb5bf7cc5a4acb91b4177672886a88ba/tenor.gif?itemid=5591338\">\n",
        "</p>"
      ]
    },
    {
      "cell_type": "markdown",
      "metadata": {
        "id": "HorrryQwF7zM"
      },
      "source": [
        "<a style='text-decoration:none;line-height:16px;display:flex;color:#5B5B62;padding:10px;justify-content:end;' href='https://deepnote.com?utm_source=created-in-deepnote-cell&projectId=87110296-876e-426f-b91d-aaf681223468' target=\"_blank\">\n",
        "<img alt='Created in deepnote.com' style='display:inline;max-height:16px;margin:0px;margin-right:7.5px;' src='data:image/svg+xml;base64,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' > </img>\n",
        "Created in <span style='font-weight:600;margin-left:4px;'>Deepnote</span></a>"
      ]
    }
  ],
  "metadata": {
    "colab": {
      "collapsed_sections": [],
      "provenance": []
    },
    "deepnote": {},
    "deepnote_execution_queue": [],
    "deepnote_notebook_id": "b7ffc7ddb4f14fcd976082c27e48a913",
    "kernelspec": {
      "display_name": "Python 3",
      "language": "python",
      "name": "python3"
    },
    "language_info": {
      "codemirror_mode": {
        "name": "ipython",
        "version": 3
      },
      "file_extension": ".py",
      "mimetype": "text/x-python",
      "name": "python",
      "nbconvert_exporter": "python",
      "pygments_lexer": "ipython3",
      "version": "3.8.3"
    },
    "toc": {
      "base_numbering": 1,
      "nav_menu": {},
      "number_sections": true,
      "sideBar": true,
      "skip_h1_title": true,
      "title_cell": "Tabla de Contenidos",
      "title_sidebar": "Contenidos",
      "toc_cell": false,
      "toc_position": {
        "height": "calc(100% - 180px)",
        "left": "10px",
        "top": "150px",
        "width": "241.867px"
      },
      "toc_section_display": true,
      "toc_window_display": true
    },
    "varInspector": {
      "cols": {
        "lenName": 16,
        "lenType": 16,
        "lenVar": 40
      },
      "kernels_config": {
        "python": {
          "delete_cmd_postfix": "",
          "delete_cmd_prefix": "del ",
          "library": "var_list.py",
          "varRefreshCmd": "print(var_dic_list())"
        },
        "r": {
          "delete_cmd_postfix": ") ",
          "delete_cmd_prefix": "rm(",
          "library": "var_list.r",
          "varRefreshCmd": "cat(var_dic_list()) "
        }
      },
      "types_to_exclude": [
        "module",
        "function",
        "builtin_function_or_method",
        "instance",
        "_Feature"
      ],
      "window_display": false
    }
  },
  "nbformat": 4,
  "nbformat_minor": 0
}