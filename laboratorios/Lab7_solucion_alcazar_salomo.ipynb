{
  "cells": [
    {
      "cell_type": "markdown",
      "source": [
        "<h1><center>Laboratorio 7: Aprendizaje Supervisado 🔮</center></h1>\n",
        "\n",
        "<center><strong>MDS7202: Laboratorio de Programación Científica para Ciencia de Datos</strong></center>"
      ],
      "metadata": {
        "id": "XUZ1dFPHzAHl",
        "cell_id": "e651654461c3474fb2b0d36de22a6c14",
        "deepnote_cell_height": 103.53334045410156,
        "deepnote_cell_type": "markdown"
      }
    },
    {
      "cell_type": "markdown",
      "source": [
        "### Cuerpo Docente:\n",
        "\n",
        "- Profesor: Matías Rojas y Mauricio Araneda\n",
        "- Auxiliar: Ignacio Meza D.\n",
        "- Ayudante: Rodrigo Guerra"
      ],
      "metadata": {
        "id": "UD8X1uhGzAHq",
        "cell_id": "7a6943958920482eb851e608d1efb6ac",
        "deepnote_cell_type": "markdown"
      }
    },
    {
      "cell_type": "markdown",
      "source": [
        "### Equipo: SUPER IMPORTANTE - notebooks sin nombre no serán revisados\n",
        "\n",
        "- Nombre de alumno 1: Cristóbal Alcázar\n",
        "- Nombre de alumno 2: Gianina Salomó\n"
      ],
      "metadata": {
        "id": "tXflExjqzAHr",
        "cell_id": "0202c4ed94184a289e51ca5325b8afba",
        "deepnote_cell_height": 139.5,
        "deepnote_cell_type": "markdown"
      }
    },
    {
      "cell_type": "markdown",
      "source": [
        "### **Link de repositorio de GitHub:** `https://github.com/alcazar90/sci-prog-lab`"
      ],
      "metadata": {
        "id": "AD-V0bbZzAHr",
        "cell_id": "ce180f8cd3f3485fabbe6c0959a648db",
        "deepnote_cell_height": 61.28334045410156,
        "deepnote_cell_type": "markdown"
      }
    },
    {
      "cell_type": "markdown",
      "source": [
        "## Temas a tratar\n",
        "\n",
        "- Aprendizaje Supervisado\n",
        "- Flujos de datos a través de `Pipelines`.\n",
        "\n",
        "## Reglas\n",
        "\n",
        "- Fecha de entrega: TBD\n",
        "- **Grupos de 2 personas**\n",
        "- **Ausentes** deberán realizar la actividad solos. \n",
        "- Cualquier duda fuera del horario de clases al foro. Mensajes al equipo docente serán respondidos por este medio.\n",
        "- Prohibidas las copias. \n",
        "- Pueden usar cualquer matrial del curso que estimen conveniente.\n",
        "\n",
        "## Objetivos principales del laboratorio\n",
        "\n",
        "- Comprender el funcionamiento de clasificadores/regresores.\n",
        "- Generar múltiples modelos predictivos.\n",
        "- Comprender las ventajas de crear modelos en pipeline vs hacer las operaciones a mano.\n",
        "\n",
        "El laboratorio deberá ser desarrollado sin el uso indiscriminado de iteradores nativos de python (aka \"for\", \"while\"). La idea es que aprendan a exprimir al máximo las funciones optimizadas que nos entrega `pandas`, las cuales vale mencionar, son bastante más eficientes que los iteradores nativos sobre `DataFrames`."
      ],
      "metadata": {
        "id": "6uBLPj1PzAHs",
        "cell_id": "df3ab193db4a4f09ac25dbe605e3a83a",
        "deepnote_cell_height": 603.8499755859375,
        "deepnote_cell_type": "markdown"
      }
    },
    {
      "cell_type": "markdown",
      "source": [
        "### Importamos librerias utiles 😸"
      ],
      "metadata": {
        "id": "MhISwri4zAHy",
        "cell_id": "ad2df18de2544420960174a3f424bc5c",
        "deepnote_cell_height": 61.133331298828125,
        "deepnote_cell_type": "markdown"
      }
    },
    {
      "cell_type": "code",
      "source": [
        "# Libreria Core del lab.\n",
        "import numpy as np\n",
        "import pandas as pd\n",
        "from sklearn.pipeline import Pipeline\n",
        "from sklearn.compose import ColumnTransformer\n",
        "from sklearn.model_selection import train_test_split \n",
        "\n",
        "# Pre-procesamiento\n",
        "from sklearn.preprocessing import MinMaxScaler\n",
        "from sklearn.preprocessing import StandardScaler\n",
        "from sklearn.preprocessing import FunctionTransformer\n",
        "from sklearn.preprocessing import PowerTransformer\n",
        "from sklearn.preprocessing import OneHotEncoder\n",
        "from sklearn.impute import KNNImputer\n",
        "from sklearn.impute import SimpleImputer\n",
        "\n",
        "# Modelos\n",
        "from sklearn.ensemble import RandomForestClassifier, RandomForestRegressor\n",
        "from sklearn.svm import SVC, LinearSVC, SVR\n",
        "from sklearn.neighbors import KNeighborsClassifier\n",
        "from sklearn.neural_network import MLPClassifier\n",
        "from sklearn.linear_model import LinearRegression, RidgeCV, LassoCV, ElasticNetCV\n",
        "\n",
        "# Metricas de evaluación\n",
        "from sklearn.metrics import classification_report\n",
        "from sklearn.metrics import accuracy_score\n",
        "from sklearn.metrics import f1_score\n",
        "from sklearn.metrics import cohen_kappa_score\n",
        "from sklearn.metrics import r2_score\n",
        "\n",
        "#Libreria para plotear\n",
        "!pip install --upgrade plotly\n",
        "import plotly.express as px\n",
        "from plotly.subplots import make_subplots\n",
        "import plotly.graph_objects as go\n",
        "pd.options.plotting.backend = \"plotly\""
      ],
      "metadata": {
        "id": "uyc33dKdzAHy",
        "colab": {
          "base_uri": "https://localhost:8080/",
          "height": 312
        },
        "cell_id": "c99537db269c4b04970732c3cccac0c9",
        "outputId": "7e61ae9a-813f-494d-d705-3b91e8fa33f5",
        "ExecuteTime": {
          "end_time": "2021-03-29T00:08:16.884674Z",
          "start_time": "2021-03-29T00:08:16.349846Z"
        },
        "source_hash": "cb3614e",
        "owner_user_id": "badcc427-fd3d-4615-9296-faa43ec69cfb",
        "execution_start": 1636741163382,
        "execution_millis": 7630,
        "deepnote_cell_height": 896.5,
        "deepnote_to_be_reexecuted": false,
        "deepnote_cell_type": "code"
      },
      "outputs": [
        {
          "output_type": "stream",
          "name": "stdout",
          "text": [
            "Looking in indexes: https://pypi.org/simple, https://us-python.pkg.dev/colab-wheels/public/simple/\n",
            "Requirement already satisfied: plotly in /usr/local/lib/python3.7/dist-packages (5.10.0)\n",
            "Collecting plotly\n",
            "  Downloading plotly-5.11.0-py2.py3-none-any.whl (15.3 MB)\n",
            "\u001b[K     |████████████████████████████████| 15.3 MB 25.3 MB/s \n",
            "\u001b[?25hRequirement already satisfied: tenacity>=6.2.0 in /usr/local/lib/python3.7/dist-packages (from plotly) (8.1.0)\n",
            "Installing collected packages: plotly\n",
            "  Attempting uninstall: plotly\n",
            "    Found existing installation: plotly 5.10.0\n",
            "    Uninstalling plotly-5.10.0:\n",
            "      Successfully uninstalled plotly-5.10.0\n",
            "Successfully installed plotly-5.11.0\n"
          ]
        },
        {
          "output_type": "display_data",
          "data": {
            "application/vnd.colab-display-data+json": {
              "pip_warning": {
                "packages": [
                  "_plotly_utils",
                  "plotly"
                ]
              }
            }
          },
          "metadata": {}
        }
      ],
      "execution_count": 27
    },
    {
      "cell_type": "markdown",
      "source": [
        "https://www.kaggle.com/antoinekrajnc/soccer-players-statistics"
      ],
      "metadata": {
        "id": "5FTGE74b3FBU",
        "cell_id": "3960faa7a101458896294c72b4b0758c",
        "deepnote_cell_height": 51.53334045410156,
        "deepnote_cell_type": "markdown"
      }
    },
    {
      "cell_type": "markdown",
      "source": [
        "# 1. Predicciones Futboleras\n",
        "\n",
        "<p align=\"center\">\n",
        "  <img src=\"https://drive.google.com/uc?export=view&id=1BnO4tyh3vM2P199Ec9s3JjngQ4qQ9seP\"\n",
        "\" width=\"300\">\n",
        "</p>\n",
        "\n",
        "\n",
        "Tras el trágico despido de la mítica mascota de Maipú, Renacín decide adentrarse como consultor en el mercado futbolero, el cuál (para variar...) está cargado en especulaciones. \n",
        "\n",
        "Como su principal tarea será asesorar a los directivos de los clubes sobre cuál jugador comprar y cuál no, Renacín desea generar modelos predictivos que evaluén distintas características de los jugadores; todo con el fin de tomar decisiones concretas basadas en los datos.\n",
        "\n",
        "Sin embargo, su condición de corporeo le impidió tomar la versión anterior de MDS7202, por lo que este motivo Renacín contrata a su equipo para lograr su objetivo final. Dado que aún tiene fuertes vínculos con la dirección de deportes de la municipalidad, el corporeo le entrega base de datos con las estadísticas de cada jugador para que su equipo empieze a trabajar ya con un dataset listo para ser usado.\n"
      ],
      "metadata": {
        "id": "xpOTbQcxbSiy",
        "cell_id": "f9e9147f05744f749e29d4134157f1f3",
        "deepnote_cell_height": 305.933349609375,
        "deepnote_cell_type": "markdown"
      }
    },
    {
      "cell_type": "markdown",
      "source": [
        "**Los Datos**\n",
        "\n",
        "Para este laboratorio deberán trabajar con los csv `statsplayers.csv` y `salarios.pickle`, donde deberán aplicar algoritmos de de aprendizaje supervisado (clasificación y regresión) en base a características que describen de jugadores de futbol.\n",
        "\n",
        "Para comenzar cargue el dataset señalado y a continuación vea el reporte **`Player_Stats_Report.html`** (adjunto en la carpeta del enunciado) que describe las características principales del `DataFrame`."
      ],
      "metadata": {
        "id": "jnmZfFpxTTYX",
        "cell_id": "5b831ae5e73547a1ae5f96b453f1ab2d",
        "deepnote_cell_height": 169.13333129882812,
        "deepnote_cell_type": "markdown"
      }
    },
    {
      "cell_type": "code",
      "source": [
        "# Si usted está utilizando Colabolatory le puede ser útil este código para cargar los archivos.\n",
        "try:\n",
        "    from google.colab import drive\n",
        "    drive.mount(\"/content/drive\")\n",
        "    path = 'Dirección donde tiene los archivos en el Drive'\n",
        "except: \n",
        "    print('Ignorando conexión drive-colab')"
      ],
      "metadata": {
        "id": "Jqq-s010Iwl1",
        "colab": {
          "base_uri": "https://localhost:8080/"
        },
        "cell_id": "9b9505acaf3f4906bbfc1950b04d9dca",
        "outputId": "4c9619e2-8bf3-4b6c-e98c-f881efb508ef",
        "source_hash": "c60dc4a7",
        "execution_start": 1636741171022,
        "execution_millis": 7,
        "deepnote_cell_height": 218.46665954589844,
        "deepnote_to_be_reexecuted": false,
        "deepnote_cell_type": "code"
      },
      "outputs": [
        {
          "output_type": "stream",
          "name": "stdout",
          "text": [
            "Ignorando conexión drive-colab\n"
          ]
        }
      ],
      "execution_count": null
    },
    {
      "cell_type": "code",
      "source": [
        "df_players = pd.read_csv('https://raw.githubusercontent.com/alcazar90/sci-prog-lab/main/data/stats_players.csv')\n",
        "df_players"
      ],
      "metadata": {
        "colab": {
          "base_uri": "https://localhost:8080/",
          "height": 661
        },
        "id": "aI3y76zlOawc",
        "outputId": "47a1020c-b087-44ed-92c7-4607509c93ff"
      },
      "execution_count": 28,
      "outputs": [
        {
          "output_type": "execute_result",
          "data": {
            "text/plain": [
              "                    Name          Nationality National_Position Club_Position  \\\n",
              "0      Cristiano Ronaldo             Portugal                LS            LW   \n",
              "1           Lionel Messi            Argentina                RW            RW   \n",
              "2                 Neymar               Brazil                LW            LW   \n",
              "3            Luis Suárez              Uruguay                LS            ST   \n",
              "4           Manuel Neuer              Germany                GK            GK   \n",
              "...                  ...                  ...               ...           ...   \n",
              "17583        Adam Dunbar  Republic of Ireland               NaN           Sub   \n",
              "17584       Dylan McGoey  Republic of Ireland               NaN           Sub   \n",
              "17585    Tommy Ouldridge              England               NaN           Res   \n",
              "17586         Mark Foden             Scotland               NaN           Sub   \n",
              "17587   Barry Richardson              England               NaN           Sub   \n",
              "\n",
              "       Height  Weight Preffered_Foot  Age        Work_Rate  Weak_foot  ...  \\\n",
              "0         185      80          Right   32       High / Low          4  ...   \n",
              "1         170      72           Left   29  Medium / Medium          4  ...   \n",
              "2         174      68          Right   25    High / Medium          5  ...   \n",
              "3         182      85          Right   30    High / Medium          4  ...   \n",
              "4         193      92          Right   31  Medium / Medium          4  ...   \n",
              "...       ...     ...            ...  ...              ...        ...  ...   \n",
              "17583     183      82          Right   19  Medium / Medium          1  ...   \n",
              "17584     185      80          Right   19  Medium / Medium          2  ...   \n",
              "17585     173      61          Right   18    High / Medium          2  ...   \n",
              "17586     180      80          Right   21  Medium / Medium          3  ...   \n",
              "17587     185      77          Right   47  Medium / Medium          2  ...   \n",
              "\n",
              "       Agility  Jumping  Heading  Shot_Power  Finishing  Long_Shots  Curve  \\\n",
              "0           90       95       85          92         93          90     81   \n",
              "1           90       68       71          85         95          88     89   \n",
              "2           96       61       62          78         89          77     79   \n",
              "3           86       69       77          87         94          86     86   \n",
              "4           52       78       25          25         13          16     14   \n",
              "...        ...      ...      ...         ...        ...         ...    ...   \n",
              "17583       27       56       14          16         13          13     11   \n",
              "17584       28       53       12          17         12          11     12   \n",
              "17585       54       61       41          44         28          42     35   \n",
              "17586       34       48       15          23         14          12     13   \n",
              "17587       38       51       12          13         11          16     12   \n",
              "\n",
              "       Freekick_Accuracy  Penalties  Volleys  \n",
              "0                     76         85       88  \n",
              "1                     90         74       85  \n",
              "2                     84         81       83  \n",
              "3                     84         85       88  \n",
              "4                     11         47       11  \n",
              "...                  ...        ...      ...  \n",
              "17583                 13         15       12  \n",
              "17584                 13         16       12  \n",
              "17585                 36         42       37  \n",
              "17586                 12         24       12  \n",
              "17587                 11         22       12  \n",
              "\n",
              "[17588 rows x 39 columns]"
            ],
            "text/html": [
              "\n",
              "  <div id=\"df-87fae293-d187-4f02-ad12-6daf7fb63258\">\n",
              "    <div class=\"colab-df-container\">\n",
              "      <div>\n",
              "<style scoped>\n",
              "    .dataframe tbody tr th:only-of-type {\n",
              "        vertical-align: middle;\n",
              "    }\n",
              "\n",
              "    .dataframe tbody tr th {\n",
              "        vertical-align: top;\n",
              "    }\n",
              "\n",
              "    .dataframe thead th {\n",
              "        text-align: right;\n",
              "    }\n",
              "</style>\n",
              "<table border=\"1\" class=\"dataframe\">\n",
              "  <thead>\n",
              "    <tr style=\"text-align: right;\">\n",
              "      <th></th>\n",
              "      <th>Name</th>\n",
              "      <th>Nationality</th>\n",
              "      <th>National_Position</th>\n",
              "      <th>Club_Position</th>\n",
              "      <th>Height</th>\n",
              "      <th>Weight</th>\n",
              "      <th>Preffered_Foot</th>\n",
              "      <th>Age</th>\n",
              "      <th>Work_Rate</th>\n",
              "      <th>Weak_foot</th>\n",
              "      <th>...</th>\n",
              "      <th>Agility</th>\n",
              "      <th>Jumping</th>\n",
              "      <th>Heading</th>\n",
              "      <th>Shot_Power</th>\n",
              "      <th>Finishing</th>\n",
              "      <th>Long_Shots</th>\n",
              "      <th>Curve</th>\n",
              "      <th>Freekick_Accuracy</th>\n",
              "      <th>Penalties</th>\n",
              "      <th>Volleys</th>\n",
              "    </tr>\n",
              "  </thead>\n",
              "  <tbody>\n",
              "    <tr>\n",
              "      <th>0</th>\n",
              "      <td>Cristiano Ronaldo</td>\n",
              "      <td>Portugal</td>\n",
              "      <td>LS</td>\n",
              "      <td>LW</td>\n",
              "      <td>185</td>\n",
              "      <td>80</td>\n",
              "      <td>Right</td>\n",
              "      <td>32</td>\n",
              "      <td>High / Low</td>\n",
              "      <td>4</td>\n",
              "      <td>...</td>\n",
              "      <td>90</td>\n",
              "      <td>95</td>\n",
              "      <td>85</td>\n",
              "      <td>92</td>\n",
              "      <td>93</td>\n",
              "      <td>90</td>\n",
              "      <td>81</td>\n",
              "      <td>76</td>\n",
              "      <td>85</td>\n",
              "      <td>88</td>\n",
              "    </tr>\n",
              "    <tr>\n",
              "      <th>1</th>\n",
              "      <td>Lionel Messi</td>\n",
              "      <td>Argentina</td>\n",
              "      <td>RW</td>\n",
              "      <td>RW</td>\n",
              "      <td>170</td>\n",
              "      <td>72</td>\n",
              "      <td>Left</td>\n",
              "      <td>29</td>\n",
              "      <td>Medium / Medium</td>\n",
              "      <td>4</td>\n",
              "      <td>...</td>\n",
              "      <td>90</td>\n",
              "      <td>68</td>\n",
              "      <td>71</td>\n",
              "      <td>85</td>\n",
              "      <td>95</td>\n",
              "      <td>88</td>\n",
              "      <td>89</td>\n",
              "      <td>90</td>\n",
              "      <td>74</td>\n",
              "      <td>85</td>\n",
              "    </tr>\n",
              "    <tr>\n",
              "      <th>2</th>\n",
              "      <td>Neymar</td>\n",
              "      <td>Brazil</td>\n",
              "      <td>LW</td>\n",
              "      <td>LW</td>\n",
              "      <td>174</td>\n",
              "      <td>68</td>\n",
              "      <td>Right</td>\n",
              "      <td>25</td>\n",
              "      <td>High / Medium</td>\n",
              "      <td>5</td>\n",
              "      <td>...</td>\n",
              "      <td>96</td>\n",
              "      <td>61</td>\n",
              "      <td>62</td>\n",
              "      <td>78</td>\n",
              "      <td>89</td>\n",
              "      <td>77</td>\n",
              "      <td>79</td>\n",
              "      <td>84</td>\n",
              "      <td>81</td>\n",
              "      <td>83</td>\n",
              "    </tr>\n",
              "    <tr>\n",
              "      <th>3</th>\n",
              "      <td>Luis Suárez</td>\n",
              "      <td>Uruguay</td>\n",
              "      <td>LS</td>\n",
              "      <td>ST</td>\n",
              "      <td>182</td>\n",
              "      <td>85</td>\n",
              "      <td>Right</td>\n",
              "      <td>30</td>\n",
              "      <td>High / Medium</td>\n",
              "      <td>4</td>\n",
              "      <td>...</td>\n",
              "      <td>86</td>\n",
              "      <td>69</td>\n",
              "      <td>77</td>\n",
              "      <td>87</td>\n",
              "      <td>94</td>\n",
              "      <td>86</td>\n",
              "      <td>86</td>\n",
              "      <td>84</td>\n",
              "      <td>85</td>\n",
              "      <td>88</td>\n",
              "    </tr>\n",
              "    <tr>\n",
              "      <th>4</th>\n",
              "      <td>Manuel Neuer</td>\n",
              "      <td>Germany</td>\n",
              "      <td>GK</td>\n",
              "      <td>GK</td>\n",
              "      <td>193</td>\n",
              "      <td>92</td>\n",
              "      <td>Right</td>\n",
              "      <td>31</td>\n",
              "      <td>Medium / Medium</td>\n",
              "      <td>4</td>\n",
              "      <td>...</td>\n",
              "      <td>52</td>\n",
              "      <td>78</td>\n",
              "      <td>25</td>\n",
              "      <td>25</td>\n",
              "      <td>13</td>\n",
              "      <td>16</td>\n",
              "      <td>14</td>\n",
              "      <td>11</td>\n",
              "      <td>47</td>\n",
              "      <td>11</td>\n",
              "    </tr>\n",
              "    <tr>\n",
              "      <th>...</th>\n",
              "      <td>...</td>\n",
              "      <td>...</td>\n",
              "      <td>...</td>\n",
              "      <td>...</td>\n",
              "      <td>...</td>\n",
              "      <td>...</td>\n",
              "      <td>...</td>\n",
              "      <td>...</td>\n",
              "      <td>...</td>\n",
              "      <td>...</td>\n",
              "      <td>...</td>\n",
              "      <td>...</td>\n",
              "      <td>...</td>\n",
              "      <td>...</td>\n",
              "      <td>...</td>\n",
              "      <td>...</td>\n",
              "      <td>...</td>\n",
              "      <td>...</td>\n",
              "      <td>...</td>\n",
              "      <td>...</td>\n",
              "      <td>...</td>\n",
              "    </tr>\n",
              "    <tr>\n",
              "      <th>17583</th>\n",
              "      <td>Adam Dunbar</td>\n",
              "      <td>Republic of Ireland</td>\n",
              "      <td>NaN</td>\n",
              "      <td>Sub</td>\n",
              "      <td>183</td>\n",
              "      <td>82</td>\n",
              "      <td>Right</td>\n",
              "      <td>19</td>\n",
              "      <td>Medium / Medium</td>\n",
              "      <td>1</td>\n",
              "      <td>...</td>\n",
              "      <td>27</td>\n",
              "      <td>56</td>\n",
              "      <td>14</td>\n",
              "      <td>16</td>\n",
              "      <td>13</td>\n",
              "      <td>13</td>\n",
              "      <td>11</td>\n",
              "      <td>13</td>\n",
              "      <td>15</td>\n",
              "      <td>12</td>\n",
              "    </tr>\n",
              "    <tr>\n",
              "      <th>17584</th>\n",
              "      <td>Dylan McGoey</td>\n",
              "      <td>Republic of Ireland</td>\n",
              "      <td>NaN</td>\n",
              "      <td>Sub</td>\n",
              "      <td>185</td>\n",
              "      <td>80</td>\n",
              "      <td>Right</td>\n",
              "      <td>19</td>\n",
              "      <td>Medium / Medium</td>\n",
              "      <td>2</td>\n",
              "      <td>...</td>\n",
              "      <td>28</td>\n",
              "      <td>53</td>\n",
              "      <td>12</td>\n",
              "      <td>17</td>\n",
              "      <td>12</td>\n",
              "      <td>11</td>\n",
              "      <td>12</td>\n",
              "      <td>13</td>\n",
              "      <td>16</td>\n",
              "      <td>12</td>\n",
              "    </tr>\n",
              "    <tr>\n",
              "      <th>17585</th>\n",
              "      <td>Tommy Ouldridge</td>\n",
              "      <td>England</td>\n",
              "      <td>NaN</td>\n",
              "      <td>Res</td>\n",
              "      <td>173</td>\n",
              "      <td>61</td>\n",
              "      <td>Right</td>\n",
              "      <td>18</td>\n",
              "      <td>High / Medium</td>\n",
              "      <td>2</td>\n",
              "      <td>...</td>\n",
              "      <td>54</td>\n",
              "      <td>61</td>\n",
              "      <td>41</td>\n",
              "      <td>44</td>\n",
              "      <td>28</td>\n",
              "      <td>42</td>\n",
              "      <td>35</td>\n",
              "      <td>36</td>\n",
              "      <td>42</td>\n",
              "      <td>37</td>\n",
              "    </tr>\n",
              "    <tr>\n",
              "      <th>17586</th>\n",
              "      <td>Mark Foden</td>\n",
              "      <td>Scotland</td>\n",
              "      <td>NaN</td>\n",
              "      <td>Sub</td>\n",
              "      <td>180</td>\n",
              "      <td>80</td>\n",
              "      <td>Right</td>\n",
              "      <td>21</td>\n",
              "      <td>Medium / Medium</td>\n",
              "      <td>3</td>\n",
              "      <td>...</td>\n",
              "      <td>34</td>\n",
              "      <td>48</td>\n",
              "      <td>15</td>\n",
              "      <td>23</td>\n",
              "      <td>14</td>\n",
              "      <td>12</td>\n",
              "      <td>13</td>\n",
              "      <td>12</td>\n",
              "      <td>24</td>\n",
              "      <td>12</td>\n",
              "    </tr>\n",
              "    <tr>\n",
              "      <th>17587</th>\n",
              "      <td>Barry Richardson</td>\n",
              "      <td>England</td>\n",
              "      <td>NaN</td>\n",
              "      <td>Sub</td>\n",
              "      <td>185</td>\n",
              "      <td>77</td>\n",
              "      <td>Right</td>\n",
              "      <td>47</td>\n",
              "      <td>Medium / Medium</td>\n",
              "      <td>2</td>\n",
              "      <td>...</td>\n",
              "      <td>38</td>\n",
              "      <td>51</td>\n",
              "      <td>12</td>\n",
              "      <td>13</td>\n",
              "      <td>11</td>\n",
              "      <td>16</td>\n",
              "      <td>12</td>\n",
              "      <td>11</td>\n",
              "      <td>22</td>\n",
              "      <td>12</td>\n",
              "    </tr>\n",
              "  </tbody>\n",
              "</table>\n",
              "<p>17588 rows × 39 columns</p>\n",
              "</div>\n",
              "      <button class=\"colab-df-convert\" onclick=\"convertToInteractive('df-87fae293-d187-4f02-ad12-6daf7fb63258')\"\n",
              "              title=\"Convert this dataframe to an interactive table.\"\n",
              "              style=\"display:none;\">\n",
              "        \n",
              "  <svg xmlns=\"http://www.w3.org/2000/svg\" height=\"24px\"viewBox=\"0 0 24 24\"\n",
              "       width=\"24px\">\n",
              "    <path d=\"M0 0h24v24H0V0z\" fill=\"none\"/>\n",
              "    <path d=\"M18.56 5.44l.94 2.06.94-2.06 2.06-.94-2.06-.94-.94-2.06-.94 2.06-2.06.94zm-11 1L8.5 8.5l.94-2.06 2.06-.94-2.06-.94L8.5 2.5l-.94 2.06-2.06.94zm10 10l.94 2.06.94-2.06 2.06-.94-2.06-.94-.94-2.06-.94 2.06-2.06.94z\"/><path d=\"M17.41 7.96l-1.37-1.37c-.4-.4-.92-.59-1.43-.59-.52 0-1.04.2-1.43.59L10.3 9.45l-7.72 7.72c-.78.78-.78 2.05 0 2.83L4 21.41c.39.39.9.59 1.41.59.51 0 1.02-.2 1.41-.59l7.78-7.78 2.81-2.81c.8-.78.8-2.07 0-2.86zM5.41 20L4 18.59l7.72-7.72 1.47 1.35L5.41 20z\"/>\n",
              "  </svg>\n",
              "      </button>\n",
              "      \n",
              "  <style>\n",
              "    .colab-df-container {\n",
              "      display:flex;\n",
              "      flex-wrap:wrap;\n",
              "      gap: 12px;\n",
              "    }\n",
              "\n",
              "    .colab-df-convert {\n",
              "      background-color: #E8F0FE;\n",
              "      border: none;\n",
              "      border-radius: 50%;\n",
              "      cursor: pointer;\n",
              "      display: none;\n",
              "      fill: #1967D2;\n",
              "      height: 32px;\n",
              "      padding: 0 0 0 0;\n",
              "      width: 32px;\n",
              "    }\n",
              "\n",
              "    .colab-df-convert:hover {\n",
              "      background-color: #E2EBFA;\n",
              "      box-shadow: 0px 1px 2px rgba(60, 64, 67, 0.3), 0px 1px 3px 1px rgba(60, 64, 67, 0.15);\n",
              "      fill: #174EA6;\n",
              "    }\n",
              "\n",
              "    [theme=dark] .colab-df-convert {\n",
              "      background-color: #3B4455;\n",
              "      fill: #D2E3FC;\n",
              "    }\n",
              "\n",
              "    [theme=dark] .colab-df-convert:hover {\n",
              "      background-color: #434B5C;\n",
              "      box-shadow: 0px 1px 3px 1px rgba(0, 0, 0, 0.15);\n",
              "      filter: drop-shadow(0px 1px 2px rgba(0, 0, 0, 0.3));\n",
              "      fill: #FFFFFF;\n",
              "    }\n",
              "  </style>\n",
              "\n",
              "      <script>\n",
              "        const buttonEl =\n",
              "          document.querySelector('#df-87fae293-d187-4f02-ad12-6daf7fb63258 button.colab-df-convert');\n",
              "        buttonEl.style.display =\n",
              "          google.colab.kernel.accessAllowed ? 'block' : 'none';\n",
              "\n",
              "        async function convertToInteractive(key) {\n",
              "          const element = document.querySelector('#df-87fae293-d187-4f02-ad12-6daf7fb63258');\n",
              "          const dataTable =\n",
              "            await google.colab.kernel.invokeFunction('convertToInteractive',\n",
              "                                                     [key], {});\n",
              "          if (!dataTable) return;\n",
              "\n",
              "          const docLinkHtml = 'Like what you see? Visit the ' +\n",
              "            '<a target=\"_blank\" href=https://colab.research.google.com/notebooks/data_table.ipynb>data table notebook</a>'\n",
              "            + ' to learn more about interactive tables.';\n",
              "          element.innerHTML = '';\n",
              "          dataTable['output_type'] = 'display_data';\n",
              "          await google.colab.output.renderOutput(dataTable, element);\n",
              "          const docLink = document.createElement('div');\n",
              "          docLink.innerHTML = docLinkHtml;\n",
              "          element.appendChild(docLink);\n",
              "        }\n",
              "      </script>\n",
              "    </div>\n",
              "  </div>\n",
              "  "
            ]
          },
          "metadata": {},
          "execution_count": 28
        }
      ]
    },
    {
      "cell_type": "markdown",
      "source": [
        "## 1.1 Predicción de Seleccionados Nacionales \n",
        "\n",
        "Como primera tarea, Renacín, intrigado por la posibilidad de saber qué tan reconocido es un jugador, le consulta a su equipo si es posible predecir si un jugador será o no seleccionado nacional a partir de sus estadísticas en el juego. \n",
        "\n",
        "<p align=\"center\">\n",
        "  <img src=\"https://thumbs.gfycat.com/ThornyFrankFoxhound-size_restricted.gif\" width=\"500\">\n",
        "</p>"
      ],
      "metadata": {
        "id": "2R3b7Qe501t5",
        "cell_id": "9e9e7d5dbc2f420ba40afb038a3c7b37",
        "owner_user_id": "d50c3174-babb-4861-9c71-7e3af66458b8",
        "deepnote_cell_height": 169.93333435058594,
        "deepnote_cell_type": "markdown"
      }
    },
    {
      "cell_type": "markdown",
      "source": [
        "### 1.1.1 Generación de Labels para la Clasificación [Sin Puntaje]\n",
        "\n",
        "\n",
        "Primero comience generando las labels para la clasificación. Para esto, trabaje sobre el atributo ```National_Position``` suponiendo que los valores nulos son jugadores no seleccionados para representar a su país. \n",
        "\n",
        "Hecho esto, ¿Cuantos ejemplos por cada clase se tienen? Comente lo que observa.\n",
        "\n"
      ],
      "metadata": {
        "id": "PIe_Ha58pQRC",
        "cell_id": "4fd0ec6793474c6e8dd304827ef35c74",
        "deepnote_cell_height": 158.3333282470703,
        "deepnote_cell_type": "markdown"
      }
    },
    {
      "cell_type": "markdown",
      "source": [
        "**Respuesta:**\n",
        "\n",
        "- Primero se observa la frecuencia de datos perdidos y del resto de las categorías.\n",
        "- Con ello, es posible concluir que el vector objetivo a construir tiene clases muy desbalanceadas, luego se corrobora explorando las frecuencias."
      ],
      "metadata": {
        "tags": [],
        "cell_id": "4bafb6f1da424f84be4eceb20d100d91",
        "deepnote_cell_height": 51.53334045410156,
        "deepnote_cell_type": "markdown",
        "id": "aKYvol95MrW2"
      }
    },
    {
      "cell_type": "code",
      "source": [
        "# Se explora frecuencias de la variable solicitada\n",
        "df_players[\"National_Position\"].value_counts(\"%\", dropna=False) * 100"
      ],
      "metadata": {
        "id": "uwKaIuho4lqn",
        "cell_id": "c95e6cb3ab91410fb2151acbdc068908",
        "source_hash": "43ce1981",
        "execution_start": 1636741171250,
        "execution_millis": 3,
        "deepnote_cell_height": 80.13333129882812,
        "deepnote_to_be_reexecuted": false,
        "deepnote_cell_type": "code",
        "colab": {
          "base_uri": "https://localhost:8080/"
        },
        "outputId": "169f62d7-9c9b-4a6b-c7c9-1c17c3aedba8"
      },
      "outputs": [
        {
          "output_type": "execute_result",
          "data": {
            "text/plain": [
              "NaN    93.887878\n",
              "Sub     3.161246\n",
              "LCB     0.272913\n",
              "GK      0.267228\n",
              "RCB     0.261542\n",
              "LB      0.221742\n",
              "RB      0.216056\n",
              "RM      0.193314\n",
              "LM      0.181942\n",
              "ST      0.170571\n",
              "LCM     0.142142\n",
              "RCM     0.142142\n",
              "LDM     0.108028\n",
              "CAM     0.108028\n",
              "RDM     0.102343\n",
              "RS      0.102343\n",
              "LS      0.102343\n",
              "CB      0.051171\n",
              "CDM     0.051171\n",
              "CM      0.051171\n",
              "RW      0.039800\n",
              "LW      0.039800\n",
              "LWB     0.022743\n",
              "RAM     0.022743\n",
              "LAM     0.022743\n",
              "RWB     0.022743\n",
              "RF      0.017057\n",
              "LF      0.017057\n",
              "Name: National_Position, dtype: float64"
            ]
          },
          "metadata": {},
          "execution_count": 29
        }
      ],
      "execution_count": 29
    },
    {
      "cell_type": "code",
      "source": [
        "df_players[\"target\"] = pd.Series(np.where(df_players[\"National_Position\"].isna(),\n",
        "                                \"no_seleccionado\", \"seleccionado\")).astype('category')\n",
        "print(f'Frecuencia relativa vector objetivo:\\n{df_players[\"target\"].value_counts(\"%\").round(2) * 100}\\n')\n",
        "fig = df_players[\"target\"].plot(kind=\"hist\", title=\"Frecuencia absoluta vector objetivo\");\n",
        "fig.layout.bargap = 0\n",
        "fig.show();"
      ],
      "metadata": {
        "colab": {
          "base_uri": "https://localhost:8080/",
          "height": 629
        },
        "id": "W372Q499poOJ",
        "outputId": "853f6be1-3611-4bfa-e6a6-ed5801ffbe3f"
      },
      "execution_count": 30,
      "outputs": [
        {
          "output_type": "stream",
          "name": "stdout",
          "text": [
            "Frecuencia relativa vector objetivo:\n",
            "no_seleccionado    94.0\n",
            "seleccionado        6.0\n",
            "Name: target, dtype: float64\n",
            "\n"
          ]
        },
        {
          "output_type": "display_data",
          "data": {
            "text/html": [
              "<html>\n",
              "<head><meta charset=\"utf-8\" /></head>\n",
              "<body>\n",
              "    <div>            <script src=\"https://cdnjs.cloudflare.com/ajax/libs/mathjax/2.7.5/MathJax.js?config=TeX-AMS-MML_SVG\"></script><script type=\"text/javascript\">if (window.MathJax && window.MathJax.Hub && window.MathJax.Hub.Config) {window.MathJax.Hub.Config({SVG: {font: \"STIX-Web\"}});}</script>                <script type=\"text/javascript\">window.PlotlyConfig = {MathJaxConfig: 'local'};</script>\n",
              "        <script src=\"https://cdn.plot.ly/plotly-2.14.0.min.js\"></script>                <div id=\"23394f1f-fddd-4d72-b20c-604fafb5e774\" class=\"plotly-graph-div\" style=\"height:525px; width:100%;\"></div>            <script type=\"text/javascript\">                                    window.PLOTLYENV=window.PLOTLYENV || {};                                    if (document.getElementById(\"23394f1f-fddd-4d72-b20c-604fafb5e774\")) {                    Plotly.newPlot(                        \"23394f1f-fddd-4d72-b20c-604fafb5e774\",                        [{\"alignmentgroup\":\"True\",\"bingroup\":\"x\",\"hovertemplate\":\"variable=target<br>value=%{x}<br>count=%{y}<extra></extra>\",\"legendgroup\":\"target\",\"marker\":{\"color\":\"#636efa\",\"pattern\":{\"shape\":\"\"}},\"name\":\"target\",\"offsetgroup\":\"target\",\"orientation\":\"v\",\"showlegend\":true,\"x\":[\"seleccionado\",\"seleccionado\",\"seleccionado\",\"seleccionado\",\"seleccionado\",\"seleccionado\",\"seleccionado\",\"seleccionado\",\"no_seleccionado\",\"seleccionado\",\"seleccionado\",\"seleccionado\",\"no_seleccionado\",\"seleccionado\",\"seleccionado\",\"seleccionado\",\"seleccionado\",\"seleccionado\",\"no_seleccionado\",\"seleccionado\",\"seleccionado\",\"no_seleccionado\",\"seleccionado\",\"seleccionado\",\"seleccionado\",\"seleccionado\",\"seleccionado\",\"seleccionado\",\"no_seleccionado\",\"seleccionado\",\"no_seleccionado\",\"seleccionado\",\"seleccionado\",\"seleccionado\",\"seleccionado\",\"no_seleccionado\",\"seleccionado\",\"seleccionado\",\"no_seleccionado\",\"seleccionado\",\"no_seleccionado\",\"seleccionado\",\"seleccionado\",\"seleccionado\",\"seleccionado\",\"seleccionado\",\"no_seleccionado\",\"seleccionado\",\"seleccionado\",\"seleccionado\",\"seleccionado\",\"seleccionado\",\"seleccionado\",\"seleccionado\",\"seleccionado\",\"seleccionado\",\"seleccionado\",\"seleccionado\",\"no_seleccionado\",\"seleccionado\",\"no_seleccionado\",\"no_seleccionado\",\"no_seleccionado\",\"no_seleccionado\",\"seleccionado\",\"seleccionado\",\"no_seleccionado\",\"no_seleccionado\",\"seleccionado\",\"seleccionado\",\"no_seleccionado\",\"seleccionado\",\"seleccionado\",\"no_seleccionado\",\"no_seleccionado\",\"seleccionado\",\"seleccionado\",\"seleccionado\",\"seleccionado\",\"no_seleccionado\",\"seleccionado\",\"no_seleccionado\",\"seleccionado\",\"seleccionado\",\"seleccionado\",\"no_seleccionado\",\"seleccionado\",\"seleccionado\",\"no_seleccionado\",\"no_seleccionado\",\"no_seleccionado\",\"seleccionado\",\"seleccionado\",\"seleccionado\",\"seleccionado\",\"no_seleccionado\",\"seleccionado\",\"seleccionado\",\"no_seleccionado\",\"no_seleccionado\",\"seleccionado\",\"seleccionado\",\"seleccionado\",\"no_seleccionado\",\"no_seleccionado\",\"no_seleccionado\",\"no_seleccionado\",\"seleccionado\",\"seleccionado\",\"no_seleccionado\",\"no_seleccionado\",\"seleccionado\",\"no_seleccionado\",\"no_seleccionado\",\"seleccionado\",\"seleccionado\",\"seleccionado\",\"no_seleccionado\",\"no_seleccionado\",\"seleccionado\",\"seleccionado\",\"seleccionado\",\"no_seleccionado\",\"seleccionado\",\"seleccionado\",\"seleccionado\",\"seleccionado\",\"seleccionado\",\"no_seleccionado\",\"seleccionado\",\"seleccionado\",\"seleccionado\",\"seleccionado\",\"no_seleccionado\",\"seleccionado\",\"no_seleccionado\",\"seleccionado\",\"seleccionado\",\"seleccionado\",\"no_seleccionado\",\"no_seleccionado\",\"seleccionado\",\"seleccionado\",\"seleccionado\",\"no_seleccionado\",\"seleccionado\",\"no_seleccionado\",\"seleccionado\",\"seleccionado\",\"no_seleccionado\",\"seleccionado\",\"seleccionado\",\"no_seleccionado\",\"seleccionado\",\"seleccionado\",\"seleccionado\",\"no_seleccionado\",\"no_seleccionado\",\"seleccionado\",\"no_seleccionado\",\"no_seleccionado\",\"no_seleccionado\",\"seleccionado\",\"seleccionado\",\"seleccionado\",\"seleccionado\",\"no_seleccionado\",\"seleccionado\",\"seleccionado\",\"seleccionado\",\"seleccionado\",\"no_seleccionado\",\"no_seleccionado\",\"no_seleccionado\",\"seleccionado\",\"no_seleccionado\",\"no_seleccionado\",\"seleccionado\",\"seleccionado\",\"no_seleccionado\",\"seleccionado\",\"no_seleccionado\",\"no_seleccionado\",\"seleccionado\",\"no_seleccionado\",\"seleccionado\",\"seleccionado\",\"seleccionado\",\"seleccionado\",\"seleccionado\",\"seleccionado\",\"seleccionado\",\"no_seleccionado\",\"seleccionado\",\"no_seleccionado\",\"no_seleccionado\",\"no_seleccionado\",\"seleccionado\",\"seleccionado\",\"seleccionado\",\"no_seleccionado\",\"no_seleccionado\",\"no_seleccionado\",\"no_seleccionado\",\"seleccionado\",\"no_seleccionado\",\"no_seleccionado\",\"no_seleccionado\",\"no_seleccionado\",\"seleccionado\",\"no_seleccionado\",\"seleccionado\",\"no_seleccionado\",\"no_seleccionado\",\"no_seleccionado\",\"no_seleccionado\",\"seleccionado\",\"seleccionado\",\"no_seleccionado\",\"no_seleccionado\",\"seleccionado\",\"seleccionado\",\"seleccionado\",\"no_seleccionado\",\"seleccionado\",\"no_seleccionado\",\"no_seleccionado\",\"seleccionado\",\"seleccionado\",\"seleccionado\",\"seleccionado\",\"no_seleccionado\",\"no_seleccionado\",\"no_seleccionado\",\"no_seleccionado\",\"seleccionado\",\"seleccionado\",\"no_seleccionado\",\"no_seleccionado\",\"seleccionado\",\"no_seleccionado\",\"no_seleccionado\",\"seleccionado\",\"seleccionado\",\"seleccionado\",\"no_seleccionado\",\"seleccionado\",\"seleccionado\",\"no_seleccionado\",\"no_seleccionado\",\"seleccionado\",\"seleccionado\",\"no_seleccionado\",\"no_seleccionado\",\"seleccionado\",\"no_seleccionado\",\"seleccionado\",\"seleccionado\",\"no_seleccionado\",\"seleccionado\",\"no_seleccionado\",\"no_seleccionado\",\"seleccionado\",\"no_seleccionado\",\"seleccionado\",\"seleccionado\",\"seleccionado\",\"no_seleccionado\",\"seleccionado\",\"seleccionado\",\"no_seleccionado\",\"seleccionado\",\"no_seleccionado\",\"no_seleccionado\",\"no_seleccionado\",\"no_seleccionado\",\"no_seleccionado\",\"no_seleccionado\",\"no_seleccionado\",\"seleccionado\",\"no_seleccionado\",\"no_seleccionado\",\"no_seleccionado\",\"no_seleccionado\",\"no_seleccionado\",\"no_seleccionado\",\"no_seleccionado\",\"no_seleccionado\",\"seleccionado\",\"seleccionado\",\"no_seleccionado\",\"seleccionado\",\"seleccionado\",\"no_seleccionado\",\"no_seleccionado\",\"no_seleccionado\",\"seleccionado\",\"no_seleccionado\",\"seleccionado\",\"seleccionado\",\"seleccionado\",\"no_seleccionado\",\"seleccionado\",\"no_seleccionado\",\"no_seleccionado\",\"seleccionado\",\"seleccionado\",\"no_seleccionado\",\"no_seleccionado\",\"seleccionado\",\"no_seleccionado\",\"seleccionado\",\"no_seleccionado\",\"no_seleccionado\",\"seleccionado\",\"no_seleccionado\",\"no_seleccionado\",\"seleccionado\",\"no_seleccionado\",\"no_seleccionado\",\"seleccionado\",\"seleccionado\",\"seleccionado\",\"no_seleccionado\",\"seleccionado\",\"no_seleccionado\",\"no_seleccionado\",\"seleccionado\",\"no_seleccionado\",\"seleccionado\",\"seleccionado\",\"no_seleccionado\",\"seleccionado\",\"seleccionado\",\"no_seleccionado\",\"no_seleccionado\",\"no_seleccionado\",\"seleccionado\",\"no_seleccionado\",\"no_seleccionado\",\"seleccionado\",\"seleccionado\",\"no_seleccionado\",\"no_seleccionado\",\"seleccionado\",\"no_seleccionado\",\"seleccionado\",\"no_seleccionado\",\"seleccionado\",\"no_seleccionado\",\"no_seleccionado\",\"no_seleccionado\",\"no_seleccionado\",\"no_seleccionado\",\"no_seleccionado\",\"seleccionado\",\"seleccionado\",\"no_seleccionado\",\"no_seleccionado\",\"no_seleccionado\",\"no_seleccionado\",\"seleccionado\",\"seleccionado\",\"no_seleccionado\",\"no_seleccionado\",\"no_seleccionado\",\"no_seleccionado\",\"seleccionado\",\"no_seleccionado\",\"no_seleccionado\",\"no_seleccionado\",\"no_seleccionado\",\"no_seleccionado\",\"no_seleccionado\",\"no_seleccionado\",\"no_seleccionado\",\"no_seleccionado\",\"no_seleccionado\",\"seleccionado\",\"no_seleccionado\",\"no_seleccionado\",\"no_seleccionado\",\"no_seleccionado\",\"no_seleccionado\",\"no_seleccionado\",\"no_seleccionado\",\"no_seleccionado\",\"no_seleccionado\",\"seleccionado\",\"seleccionado\",\"seleccionado\",\"no_seleccionado\",\"seleccionado\",\"no_seleccionado\",\"no_seleccionado\",\"no_seleccionado\",\"no_seleccionado\",\"seleccionado\",\"no_seleccionado\",\"seleccionado\",\"seleccionado\",\"seleccionado\",\"no_seleccionado\",\"no_seleccionado\",\"no_seleccionado\",\"seleccionado\",\"no_seleccionado\",\"seleccionado\",\"no_seleccionado\",\"seleccionado\",\"no_seleccionado\",\"no_seleccionado\",\"no_seleccionado\",\"no_seleccionado\",\"no_seleccionado\",\"seleccionado\",\"no_seleccionado\",\"no_seleccionado\",\"no_seleccionado\",\"seleccionado\",\"no_seleccionado\",\"seleccionado\",\"seleccionado\",\"no_seleccionado\",\"no_seleccionado\",\"seleccionado\",\"no_seleccionado\",\"seleccionado\",\"no_seleccionado\",\"seleccionado\",\"no_seleccionado\",\"seleccionado\",\"no_seleccionado\",\"no_seleccionado\",\"seleccionado\",\"no_seleccionado\",\"seleccionado\",\"no_seleccionado\",\"no_seleccionado\",\"no_seleccionado\",\"seleccionado\",\"seleccionado\",\"no_seleccionado\",\"no_seleccionado\",\"no_seleccionado\",\"no_seleccionado\",\"no_seleccionado\",\"no_seleccionado\",\"no_seleccionado\",\"no_seleccionado\",\"no_seleccionado\",\"no_seleccionado\",\"no_seleccionado\",\"no_seleccionado\",\"seleccionado\",\"seleccionado\",\"no_seleccionado\",\"no_seleccionado\",\"no_seleccionado\",\"seleccionado\",\"no_seleccionado\",\"no_seleccionado\",\"no_seleccionado\",\"no_seleccionado\",\"no_seleccionado\",\"no_seleccionado\",\"seleccionado\",\"no_seleccionado\",\"no_seleccionado\",\"no_seleccionado\",\"no_seleccionado\",\"no_seleccionado\",\"seleccionado\",\"no_seleccionado\",\"no_seleccionado\",\"no_seleccionado\",\"no_seleccionado\",\"seleccionado\",\"no_seleccionado\",\"no_seleccionado\",\"seleccionado\",\"no_seleccionado\",\"seleccionado\",\"no_seleccionado\",\"seleccionado\",\"no_seleccionado\",\"seleccionado\",\"no_seleccionado\",\"no_seleccionado\",\"no_seleccionado\",\"no_seleccionado\",\"seleccionado\",\"no_seleccionado\",\"seleccionado\",\"no_seleccionado\",\"seleccionado\",\"seleccionado\",\"seleccionado\",\"no_seleccionado\",\"no_seleccionado\",\"no_seleccionado\",\"no_seleccionado\",\"no_seleccionado\",\"no_seleccionado\",\"no_seleccionado\",\"seleccionado\",\"no_seleccionado\",\"no_seleccionado\",\"seleccionado\",\"seleccionado\",\"seleccionado\",\"no_seleccionado\",\"no_seleccionado\",\"no_seleccionado\",\"no_seleccionado\",\"no_seleccionado\",\"seleccionado\",\"no_seleccionado\",\"seleccionado\",\"seleccionado\",\"no_seleccionado\",\"no_seleccionado\",\"no_seleccionado\",\"no_seleccionado\",\"no_seleccionado\",\"no_seleccionado\",\"no_seleccionado\",\"no_seleccionado\",\"seleccionado\",\"seleccionado\",\"no_seleccionado\",\"no_seleccionado\",\"no_seleccionado\",\"no_seleccionado\",\"seleccionado\",\"no_seleccionado\",\"seleccionado\",\"no_seleccionado\",\"no_seleccionado\",\"no_seleccionado\",\"no_seleccionado\",\"no_seleccionado\",\"seleccionado\",\"seleccionado\",\"no_seleccionado\",\"seleccionado\",\"seleccionado\",\"no_seleccionado\",\"no_seleccionado\",\"no_seleccionado\",\"no_seleccionado\",\"no_seleccionado\",\"no_seleccionado\",\"seleccionado\",\"seleccionado\",\"no_seleccionado\",\"no_seleccionado\",\"no_seleccionado\",\"no_seleccionado\",\"seleccionado\",\"no_seleccionado\",\"no_seleccionado\",\"no_seleccionado\",\"no_seleccionado\",\"no_seleccionado\",\"no_seleccionado\",\"no_seleccionado\",\"no_seleccionado\",\"no_seleccionado\",\"seleccionado\",\"no_seleccionado\",\"no_seleccionado\",\"no_seleccionado\",\"seleccionado\",\"seleccionado\",\"no_seleccionado\",\"no_seleccionado\",\"no_seleccionado\",\"seleccionado\",\"no_seleccionado\",\"seleccionado\",\"seleccionado\",\"no_seleccionado\",\"seleccionado\",\"no_seleccionado\",\"no_seleccionado\",\"no_seleccionado\",\"seleccionado\",\"seleccionado\",\"no_seleccionado\",\"no_seleccionado\",\"no_seleccionado\",\"no_seleccionado\",\"no_seleccionado\",\"no_seleccionado\",\"seleccionado\",\"no_seleccionado\",\"no_seleccionado\",\"no_seleccionado\",\"no_seleccionado\",\"seleccionado\",\"no_seleccionado\",\"no_seleccionado\",\"no_seleccionado\",\"seleccionado\",\"no_seleccionado\",\"seleccionado\",\"no_seleccionado\",\"no_seleccionado\",\"no_seleccionado\",\"seleccionado\",\"seleccionado\",\"no_seleccionado\",\"no_seleccionado\",\"no_seleccionado\",\"no_seleccionado\",\"no_seleccionado\",\"no_seleccionado\",\"no_seleccionado\",\"seleccionado\",\"no_seleccionado\",\"no_seleccionado\",\"no_seleccionado\",\"no_seleccionado\",\"no_seleccionado\",\"no_seleccionado\",\"seleccionado\",\"no_seleccionado\",\"seleccionado\",\"no_seleccionado\",\"no_seleccionado\",\"no_seleccionado\",\"seleccionado\",\"seleccionado\",\"no_seleccionado\",\"no_seleccionado\",\"seleccionado\",\"no_seleccionado\",\"no_seleccionado\",\"no_seleccionado\",\"no_seleccionado\",\"no_seleccionado\",\"no_seleccionado\",\"no_seleccionado\",\"no_seleccionado\",\"no_seleccionado\",\"seleccionado\",\"no_seleccionado\",\"no_seleccionado\",\"no_seleccionado\",\"no_seleccionado\",\"no_seleccionado\",\"seleccionado\",\"no_seleccionado\",\"no_seleccionado\",\"seleccionado\",\"no_seleccionado\",\"seleccionado\",\"no_seleccionado\",\"seleccionado\",\"no_seleccionado\",\"no_seleccionado\",\"seleccionado\",\"seleccionado\",\"no_seleccionado\",\"no_seleccionado\",\"no_seleccionado\",\"no_seleccionado\",\"no_seleccionado\",\"seleccionado\",\"no_seleccionado\",\"no_seleccionado\",\"no_seleccionado\",\"no_seleccionado\",\"no_seleccionado\",\"no_seleccionado\",\"no_seleccionado\",\"no_seleccionado\",\"no_seleccionado\",\"no_seleccionado\",\"no_seleccionado\",\"no_seleccionado\",\"no_seleccionado\",\"seleccionado\",\"no_seleccionado\",\"no_seleccionado\",\"no_seleccionado\",\"no_seleccionado\",\"no_seleccionado\",\"no_seleccionado\",\"no_seleccionado\",\"no_seleccionado\",\"seleccionado\",\"no_seleccionado\",\"no_seleccionado\",\"no_seleccionado\",\"no_seleccionado\",\"no_seleccionado\",\"seleccionado\",\"seleccionado\",\"seleccionado\",\"no_seleccionado\",\"no_seleccionado\",\"no_seleccionado\",\"no_seleccionado\",\"seleccionado\",\"no_seleccionado\",\"seleccionado\",\"seleccionado\",\"seleccionado\",\"no_seleccionado\",\"seleccionado\",\"no_seleccionado\",\"no_seleccionado\",\"seleccionado\",\"no_seleccionado\",\"no_seleccionado\",\"no_seleccionado\",\"no_seleccionado\",\"no_seleccionado\",\"no_seleccionado\",\"no_seleccionado\",\"no_seleccionado\",\"no_seleccionado\",\"no_seleccionado\",\"no_seleccionado\",\"seleccionado\",\"no_seleccionado\",\"no_seleccionado\",\"seleccionado\",\"no_seleccionado\",\"no_seleccionado\",\"no_seleccionado\",\"no_seleccionado\",\"no_seleccionado\",\"no_seleccionado\",\"no_seleccionado\",\"no_seleccionado\",\"seleccionado\",\"no_seleccionado\",\"seleccionado\",\"no_seleccionado\",\"seleccionado\",\"seleccionado\",\"seleccionado\",\"no_seleccionado\",\"seleccionado\",\"seleccionado\",\"seleccionado\",\"no_seleccionado\",\"no_seleccionado\",\"seleccionado\",\"no_seleccionado\",\"no_seleccionado\",\"no_seleccionado\",\"no_seleccionado\",\"seleccionado\",\"no_seleccionado\",\"seleccionado\",\"no_seleccionado\",\"no_seleccionado\",\"no_seleccionado\",\"no_seleccionado\",\"no_seleccionado\",\"seleccionado\",\"no_seleccionado\",\"no_seleccionado\",\"no_seleccionado\",\"no_seleccionado\",\"seleccionado\",\"seleccionado\",\"seleccionado\",\"no_seleccionado\",\"seleccionado\",\"seleccionado\",\"no_seleccionado\",\"no_seleccionado\",\"no_seleccionado\",\"seleccionado\",\"no_seleccionado\",\"no_seleccionado\",\"no_seleccionado\",\"no_seleccionado\",\"no_seleccionado\",\"seleccionado\",\"seleccionado\",\"no_seleccionado\",\"seleccionado\",\"no_seleccionado\",\"no_seleccionado\",\"no_seleccionado\",\"no_seleccionado\",\"no_seleccionado\",\"no_seleccionado\",\"no_seleccionado\",\"no_seleccionado\",\"no_seleccionado\",\"no_seleccionado\",\"no_seleccionado\",\"seleccionado\",\"no_seleccionado\",\"no_seleccionado\",\"no_seleccionado\",\"no_seleccionado\",\"no_seleccionado\",\"no_seleccionado\",\"no_seleccionado\",\"no_seleccionado\",\"no_seleccionado\",\"no_seleccionado\",\"no_seleccionado\",\"no_seleccionado\",\"seleccionado\",\"seleccionado\",\"no_seleccionado\",\"no_seleccionado\",\"no_seleccionado\",\"seleccionado\",\"seleccionado\",\"no_seleccionado\",\"no_seleccionado\",\"no_seleccionado\",\"no_seleccionado\",\"no_seleccionado\",\"no_seleccionado\",\"no_seleccionado\",\"no_seleccionado\",\"no_seleccionado\",\"no_seleccionado\",\"seleccionado\",\"seleccionado\",\"no_seleccionado\",\"seleccionado\",\"seleccionado\",\"no_seleccionado\",\"no_seleccionado\",\"no_seleccionado\",\"no_seleccionado\",\"no_seleccionado\",\"no_seleccionado\",\"seleccionado\",\"no_seleccionado\",\"seleccionado\",\"seleccionado\",\"no_seleccionado\",\"no_seleccionado\",\"no_seleccionado\",\"no_seleccionado\",\"seleccionado\",\"no_seleccionado\",\"no_seleccionado\",\"no_seleccionado\",\"seleccionado\",\"seleccionado\",\"seleccionado\",\"no_seleccionado\",\"no_seleccionado\",\"no_seleccionado\",\"no_seleccionado\",\"no_seleccionado\",\"no_seleccionado\",\"no_seleccionado\",\"no_seleccionado\",\"no_seleccionado\",\"no_seleccionado\",\"no_seleccionado\",\"seleccionado\",\"no_seleccionado\",\"seleccionado\",\"no_seleccionado\",\"no_seleccionado\",\"no_seleccionado\",\"no_seleccionado\",\"no_seleccionado\",\"no_seleccionado\",\"no_seleccionado\",\"seleccionado\",\"no_seleccionado\",\"seleccionado\",\"seleccionado\",\"no_seleccionado\",\"no_seleccionado\",\"no_seleccionado\",\"no_seleccionado\",\"no_seleccionado\",\"seleccionado\",\"no_seleccionado\",\"no_seleccionado\",\"no_seleccionado\",\"seleccionado\",\"no_seleccionado\",\"no_seleccionado\",\"no_seleccionado\",\"no_seleccionado\",\"no_seleccionado\",\"no_seleccionado\",\"no_seleccionado\",\"seleccionado\",\"no_seleccionado\",\"no_seleccionado\",\"no_seleccionado\",\"no_seleccionado\",\"no_seleccionado\",\"no_seleccionado\",\"no_seleccionado\",\"no_seleccionado\",\"no_seleccionado\",\"seleccionado\",\"no_seleccionado\",\"seleccionado\",\"no_seleccionado\",\"no_seleccionado\",\"no_seleccionado\",\"no_seleccionado\",\"no_seleccionado\",\"no_seleccionado\",\"no_seleccionado\",\"no_seleccionado\",\"no_seleccionado\",\"no_seleccionado\",\"no_seleccionado\",\"no_seleccionado\",\"no_seleccionado\",\"seleccionado\",\"no_seleccionado\",\"no_seleccionado\",\"seleccionado\",\"no_seleccionado\",\"no_seleccionado\",\"no_seleccionado\",\"seleccionado\",\"no_seleccionado\",\"no_seleccionado\",\"seleccionado\",\"no_seleccionado\",\"no_seleccionado\",\"no_seleccionado\",\"no_seleccionado\",\"seleccionado\",\"seleccionado\",\"seleccionado\",\"no_seleccionado\",\"no_seleccionado\",\"seleccionado\",\"no_seleccionado\",\"no_seleccionado\",\"no_seleccionado\",\"no_seleccionado\",\"no_seleccionado\",\"seleccionado\",\"no_seleccionado\",\"no_seleccionado\",\"no_seleccionado\",\"no_seleccionado\",\"no_seleccionado\",\"seleccionado\",\"no_seleccionado\",\"seleccionado\",\"no_seleccionado\",\"no_seleccionado\",\"no_seleccionado\",\"seleccionado\",\"seleccionado\",\"no_seleccionado\",\"no_seleccionado\",\"no_seleccionado\",\"seleccionado\",\"no_seleccionado\",\"no_seleccionado\",\"no_seleccionado\",\"no_seleccionado\",\"no_seleccionado\",\"no_seleccionado\",\"no_seleccionado\",\"no_seleccionado\",\"no_seleccionado\",\"no_seleccionado\",\"no_seleccionado\",\"no_seleccionado\",\"seleccionado\",\"no_seleccionado\",\"seleccionado\",\"no_seleccionado\",\"no_seleccionado\",\"no_seleccionado\",\"no_seleccionado\",\"no_seleccionado\",\"no_seleccionado\",\"no_seleccionado\",\"no_seleccionado\",\"no_seleccionado\",\"no_seleccionado\",\"no_seleccionado\",\"no_seleccionado\",\"no_seleccionado\",\"no_seleccionado\",\"no_seleccionado\",\"no_seleccionado\",\"no_seleccionado\",\"seleccionado\",\"no_seleccionado\",\"no_seleccionado\",\"no_seleccionado\",\"no_seleccionado\",\"seleccionado\",\"no_seleccionado\",\"no_seleccionado\",\"seleccionado\",\"no_seleccionado\",\"no_seleccionado\",\"no_seleccionado\",\"no_seleccionado\",\"no_seleccionado\",\"no_seleccionado\",\"no_seleccionado\",\"no_seleccionado\",\"no_seleccionado\",\"no_seleccionado\",\"seleccionado\",\"seleccionado\",\"no_seleccionado\",\"no_seleccionado\",\"no_seleccionado\",\"seleccionado\",\"no_seleccionado\",\"no_seleccionado\",\"no_seleccionado\",\"no_seleccionado\",\"no_seleccionado\",\"no_seleccionado\",\"seleccionado\",\"no_seleccionado\",\"no_seleccionado\",\"no_seleccionado\",\"no_seleccionado\",\"seleccionado\",\"seleccionado\",\"seleccionado\",\"no_seleccionado\",\"no_seleccionado\",\"no_seleccionado\",\"no_seleccionado\",\"no_seleccionado\",\"no_seleccionado\",\"no_seleccionado\",\"seleccionado\",\"no_seleccionado\",\"no_seleccionado\",\"no_seleccionado\",\"no_seleccionado\",\"no_seleccionado\",\"no_seleccionado\",\"no_seleccionado\",\"no_seleccionado\",\"no_seleccionado\",\"no_seleccionado\",\"no_seleccionado\",\"no_seleccionado\",\"no_seleccionado\",\"no_seleccionado\",\"no_seleccionado\",\"seleccionado\",\"no_seleccionado\",\"no_seleccionado\",\"no_seleccionado\",\"seleccionado\",\"no_seleccionado\",\"seleccionado\",\"no_seleccionado\",\"no_seleccionado\",\"no_seleccionado\",\"no_seleccionado\",\"no_seleccionado\",\"seleccionado\",\"no_seleccionado\",\"no_seleccionado\",\"no_seleccionado\",\"no_seleccionado\",\"no_seleccionado\",\"no_seleccionado\",\"no_seleccionado\",\"no_seleccionado\",\"no_seleccionado\",\"no_seleccionado\",\"seleccionado\",\"no_seleccionado\",\"no_seleccionado\",\"no_seleccionado\",\"no_seleccionado\",\"no_seleccionado\",\"no_seleccionado\",\"no_seleccionado\",\"seleccionado\",\"no_seleccionado\",\"no_seleccionado\",\"no_seleccionado\",\"no_seleccionado\",\"seleccionado\",\"no_seleccionado\",\"no_seleccionado\",\"no_seleccionado\",\"no_seleccionado\",\"no_seleccionado\",\"seleccionado\",\"no_seleccionado\",\"seleccionado\",\"no_seleccionado\",\"no_seleccionado\",\"no_seleccionado\",\"no_seleccionado\",\"no_seleccionado\",\"seleccionado\",\"seleccionado\",\"no_seleccionado\",\"seleccionado\",\"no_seleccionado\",\"no_seleccionado\",\"no_seleccionado\",\"no_seleccionado\",\"no_seleccionado\",\"no_seleccionado\",\"no_seleccionado\",\"no_seleccionado\",\"no_seleccionado\",\"seleccionado\",\"seleccionado\",\"no_seleccionado\",\"no_seleccionado\",\"no_seleccionado\",\"seleccionado\",\"no_seleccionado\",\"seleccionado\",\"no_seleccionado\",\"no_seleccionado\",\"no_seleccionado\",\"no_seleccionado\",\"seleccionado\",\"no_seleccionado\",\"no_seleccionado\",\"seleccionado\",\"no_seleccionado\",\"no_seleccionado\",\"no_seleccionado\",\"no_seleccionado\",\"seleccionado\",\"no_seleccionado\",\"no_seleccionado\",\"no_seleccionado\",\"no_seleccionado\",\"no_seleccionado\",\"no_seleccionado\",\"seleccionado\",\"no_seleccionado\",\"no_seleccionado\",\"no_seleccionado\",\"no_seleccionado\",\"no_seleccionado\",\"no_seleccionado\",\"no_seleccionado\",\"seleccionado\",\"no_seleccionado\",\"seleccionado\",\"no_seleccionado\",\"seleccionado\",\"no_seleccionado\",\"no_seleccionado\",\"no_seleccionado\",\"no_seleccionado\",\"seleccionado\",\"seleccionado\",\"seleccionado\",\"seleccionado\",\"no_seleccionado\",\"seleccionado\",\"no_seleccionado\",\"no_seleccionado\",\"no_seleccionado\",\"no_seleccionado\",\"no_seleccionado\",\"no_seleccionado\",\"no_seleccionado\",\"no_seleccionado\",\"no_seleccionado\",\"no_seleccionado\",\"no_seleccionado\",\"no_seleccionado\",\"no_seleccionado\",\"no_seleccionado\",\"no_seleccionado\",\"no_seleccionado\",\"no_seleccionado\",\"no_seleccionado\",\"no_seleccionado\",\"no_seleccionado\",\"no_seleccionado\",\"no_seleccionado\",\"no_seleccionado\",\"no_seleccionado\",\"no_seleccionado\",\"no_seleccionado\",\"no_seleccionado\",\"seleccionado\",\"no_seleccionado\",\"no_seleccionado\",\"no_seleccionado\",\"no_seleccionado\",\"no_seleccionado\",\"no_seleccionado\",\"no_seleccionado\",\"no_seleccionado\",\"no_seleccionado\",\"no_seleccionado\",\"no_seleccionado\",\"no_seleccionado\",\"no_seleccionado\",\"no_seleccionado\",\"no_seleccionado\",\"no_seleccionado\",\"no_seleccionado\",\"no_seleccionado\",\"no_seleccionado\",\"no_seleccionado\",\"no_seleccionado\",\"no_seleccionado\",\"no_seleccionado\",\"no_seleccionado\",\"no_seleccionado\",\"no_seleccionado\",\"no_seleccionado\",\"no_seleccionado\",\"no_seleccionado\",\"no_seleccionado\",\"no_seleccionado\",\"no_seleccionado\",\"seleccionado\",\"seleccionado\",\"no_seleccionado\",\"no_seleccionado\",\"no_seleccionado\",\"no_seleccionado\",\"seleccionado\",\"seleccionado\",\"no_seleccionado\",\"no_seleccionado\",\"no_seleccionado\",\"no_seleccionado\",\"no_seleccionado\",\"no_seleccionado\",\"no_seleccionado\",\"seleccionado\",\"no_seleccionado\",\"no_seleccionado\",\"no_seleccionado\",\"no_seleccionado\",\"no_seleccionado\",\"no_seleccionado\",\"no_seleccionado\",\"no_seleccionado\",\"no_seleccionado\",\"no_seleccionado\",\"no_seleccionado\",\"no_seleccionado\",\"no_seleccionado\",\"no_seleccionado\",\"no_seleccionado\",\"no_seleccionado\",\"no_seleccionado\",\"no_seleccionado\",\"no_seleccionado\",\"no_seleccionado\",\"no_seleccionado\",\"seleccionado\",\"no_seleccionado\",\"no_seleccionado\",\"no_seleccionado\",\"seleccionado\",\"no_seleccionado\",\"no_seleccionado\",\"no_seleccionado\",\"no_seleccionado\",\"no_seleccionado\",\"no_seleccionado\",\"no_seleccionado\",\"no_seleccionado\",\"no_seleccionado\",\"no_seleccionado\",\"no_seleccionado\",\"no_seleccionado\",\"seleccionado\",\"no_seleccionado\",\"no_seleccionado\",\"no_seleccionado\",\"no_seleccionado\",\"no_seleccionado\",\"no_seleccionado\",\"no_seleccionado\",\"no_seleccionado\",\"no_seleccionado\",\"no_seleccionado\",\"seleccionado\",\"seleccionado\",\"no_seleccionado\",\"no_seleccionado\",\"no_seleccionado\",\"no_seleccionado\",\"no_seleccionado\",\"no_seleccionado\",\"no_seleccionado\",\"no_seleccionado\",\"no_seleccionado\",\"no_seleccionado\",\"no_seleccionado\",\"no_seleccionado\",\"no_seleccionado\",\"no_seleccionado\",\"no_seleccionado\",\"no_seleccionado\",\"no_seleccionado\",\"no_seleccionado\",\"seleccionado\",\"no_seleccionado\",\"no_seleccionado\",\"no_seleccionado\",\"no_seleccionado\",\"no_seleccionado\",\"no_seleccionado\",\"seleccionado\",\"no_seleccionado\",\"no_seleccionado\",\"seleccionado\",\"no_seleccionado\",\"no_seleccionado\",\"no_seleccionado\",\"no_seleccionado\",\"no_seleccionado\",\"no_seleccionado\",\"seleccionado\",\"no_seleccionado\",\"no_seleccionado\",\"no_seleccionado\",\"no_seleccionado\",\"no_seleccionado\",\"seleccionado\",\"seleccionado\",\"no_seleccionado\",\"no_seleccionado\",\"no_seleccionado\",\"no_seleccionado\",\"no_seleccionado\",\"seleccionado\",\"no_seleccionado\",\"no_seleccionado\",\"seleccionado\",\"seleccionado\",\"no_seleccionado\",\"no_seleccionado\",\"no_seleccionado\",\"no_seleccionado\",\"no_seleccionado\",\"no_seleccionado\",\"no_seleccionado\",\"no_seleccionado\",\"no_seleccionado\",\"no_seleccionado\",\"no_seleccionado\",\"no_seleccionado\",\"no_seleccionado\",\"no_seleccionado\",\"no_seleccionado\",\"seleccionado\",\"no_seleccionado\",\"no_seleccionado\",\"no_seleccionado\",\"no_seleccionado\",\"no_seleccionado\",\"no_seleccionado\",\"seleccionado\",\"no_seleccionado\",\"no_seleccionado\",\"no_seleccionado\",\"no_seleccionado\",\"seleccionado\",\"no_seleccionado\",\"no_seleccionado\",\"no_seleccionado\",\"no_seleccionado\",\"no_seleccionado\",\"no_seleccionado\",\"no_seleccionado\",\"no_seleccionado\",\"seleccionado\",\"seleccionado\",\"no_seleccionado\",\"no_seleccionado\",\"no_seleccionado\",\"seleccionado\",\"no_seleccionado\",\"no_seleccionado\",\"no_seleccionado\",\"seleccionado\",\"no_seleccionado\",\"no_seleccionado\",\"no_seleccionado\",\"no_seleccionado\",\"seleccionado\",\"no_seleccionado\",\"no_seleccionado\",\"no_seleccionado\",\"no_seleccionado\",\"no_seleccionado\",\"no_seleccionado\",\"no_seleccionado\",\"no_seleccionado\",\"no_seleccionado\",\"no_seleccionado\",\"no_seleccionado\",\"no_seleccionado\",\"no_seleccionado\",\"no_seleccionado\",\"no_seleccionado\",\"no_seleccionado\",\"no_seleccionado\",\"no_seleccionado\",\"no_seleccionado\",\"no_seleccionado\",\"no_seleccionado\",\"no_seleccionado\",\"no_seleccionado\",\"no_seleccionado\",\"no_seleccionado\",\"no_seleccionado\",\"seleccionado\",\"no_seleccionado\",\"no_seleccionado\",\"no_seleccionado\",\"no_seleccionado\",\"no_seleccionado\",\"seleccionado\",\"seleccionado\",\"seleccionado\",\"no_seleccionado\",\"no_seleccionado\",\"seleccionado\",\"no_seleccionado\",\"no_seleccionado\",\"no_seleccionado\",\"no_seleccionado\",\"no_seleccionado\",\"no_seleccionado\",\"no_seleccionado\",\"no_seleccionado\",\"no_seleccionado\",\"seleccionado\",\"no_seleccionado\",\"no_seleccionado\",\"no_seleccionado\",\"no_seleccionado\",\"seleccionado\",\"no_seleccionado\",\"no_seleccionado\",\"seleccionado\",\"no_seleccionado\",\"no_seleccionado\",\"seleccionado\",\"no_seleccionado\",\"no_seleccionado\",\"seleccionado\",\"no_seleccionado\",\"no_seleccionado\",\"no_seleccionado\",\"no_seleccionado\",\"no_seleccionado\",\"seleccionado\",\"seleccionado\",\"no_seleccionado\",\"no_seleccionado\",\"seleccionado\",\"no_seleccionado\",\"no_seleccionado\",\"no_seleccionado\",\"seleccionado\",\"seleccionado\",\"no_seleccionado\",\"no_seleccionado\",\"no_seleccionado\",\"seleccionado\",\"no_seleccionado\",\"no_seleccionado\",\"no_seleccionado\",\"no_seleccionado\",\"no_seleccionado\",\"no_seleccionado\",\"no_seleccionado\",\"no_seleccionado\",\"no_seleccionado\",\"no_seleccionado\",\"no_seleccionado\",\"no_seleccionado\",\"no_seleccionado\",\"seleccionado\",\"no_seleccionado\",\"no_seleccionado\",\"seleccionado\",\"no_seleccionado\",\"no_seleccionado\",\"no_seleccionado\",\"no_seleccionado\",\"no_seleccionado\",\"seleccionado\",\"no_seleccionado\",\"seleccionado\",\"no_seleccionado\",\"seleccionado\",\"no_seleccionado\",\"no_seleccionado\",\"no_seleccionado\",\"no_seleccionado\",\"no_seleccionado\",\"no_seleccionado\",\"seleccionado\",\"seleccionado\",\"no_seleccionado\",\"no_seleccionado\",\"no_seleccionado\",\"no_seleccionado\",\"no_seleccionado\",\"seleccionado\",\"no_seleccionado\",\"no_seleccionado\",\"no_seleccionado\",\"no_seleccionado\",\"seleccionado\",\"no_seleccionado\",\"no_seleccionado\",\"no_seleccionado\",\"no_seleccionado\",\"no_seleccionado\",\"no_seleccionado\",\"no_seleccionado\",\"no_seleccionado\",\"no_seleccionado\",\"no_seleccionado\",\"no_seleccionado\",\"no_seleccionado\",\"seleccionado\",\"no_seleccionado\",\"seleccionado\",\"no_seleccionado\",\"no_seleccionado\",\"no_seleccionado\",\"no_seleccionado\",\"no_seleccionado\",\"seleccionado\",\"seleccionado\",\"no_seleccionado\",\"no_seleccionado\",\"no_seleccionado\",\"seleccionado\",\"no_seleccionado\",\"seleccionado\",\"no_seleccionado\",\"no_seleccionado\",\"no_seleccionado\",\"no_seleccionado\",\"no_seleccionado\",\"seleccionado\",\"no_seleccionado\",\"no_seleccionado\",\"no_seleccionado\",\"no_seleccionado\",\"seleccionado\",\"seleccionado\",\"no_seleccionado\",\"no_seleccionado\",\"seleccionado\",\"seleccionado\",\"no_seleccionado\",\"no_seleccionado\",\"no_seleccionado\",\"no_seleccionado\",\"no_seleccionado\",\"no_seleccionado\",\"no_seleccionado\",\"no_seleccionado\",\"no_seleccionado\",\"no_seleccionado\",\"no_seleccionado\",\"seleccionado\",\"no_seleccionado\",\"no_seleccionado\",\"no_seleccionado\",\"no_seleccionado\",\"no_seleccionado\",\"no_seleccionado\",\"no_seleccionado\",\"no_seleccionado\",\"seleccionado\",\"seleccionado\",\"no_seleccionado\",\"no_seleccionado\",\"no_seleccionado\",\"no_seleccionado\",\"no_seleccionado\",\"seleccionado\",\"no_seleccionado\",\"no_seleccionado\",\"seleccionado\",\"seleccionado\",\"no_seleccionado\",\"no_seleccionado\",\"no_seleccionado\",\"no_seleccionado\",\"no_seleccionado\",\"no_seleccionado\",\"no_seleccionado\",\"no_seleccionado\",\"no_seleccionado\",\"no_seleccionado\",\"no_seleccionado\",\"no_seleccionado\",\"no_seleccionado\",\"no_seleccionado\",\"no_seleccionado\",\"no_seleccionado\",\"no_seleccionado\",\"no_seleccionado\",\"no_seleccionado\",\"no_seleccionado\",\"no_seleccionado\",\"no_seleccionado\",\"no_seleccionado\",\"no_seleccionado\",\"no_seleccionado\",\"no_seleccionado\",\"seleccionado\",\"no_seleccionado\",\"seleccionado\",\"no_seleccionado\",\"seleccionado\",\"no_seleccionado\",\"no_seleccionado\",\"no_seleccionado\",\"no_seleccionado\",\"no_seleccionado\",\"seleccionado\",\"no_seleccionado\",\"no_seleccionado\",\"no_seleccionado\",\"no_seleccionado\",\"no_seleccionado\",\"no_seleccionado\",\"no_seleccionado\",\"no_seleccionado\",\"no_seleccionado\",\"no_seleccionado\",\"no_seleccionado\",\"no_seleccionado\",\"no_seleccionado\",\"no_seleccionado\",\"no_seleccionado\",\"no_seleccionado\",\"no_seleccionado\",\"no_seleccionado\",\"no_seleccionado\",\"no_seleccionado\",\"no_seleccionado\",\"no_seleccionado\",\"no_seleccionado\",\"no_seleccionado\",\"no_seleccionado\",\"no_seleccionado\",\"no_seleccionado\",\"no_seleccionado\",\"no_seleccionado\",\"no_seleccionado\",\"no_seleccionado\",\"seleccionado\",\"seleccionado\",\"no_seleccionado\",\"seleccionado\",\"no_seleccionado\",\"no_seleccionado\",\"no_seleccionado\",\"no_seleccionado\",\"no_seleccionado\",\"no_seleccionado\",\"no_seleccionado\",\"no_seleccionado\",\"no_seleccionado\",\"no_seleccionado\",\"no_seleccionado\",\"no_seleccionado\",\"seleccionado\",\"no_seleccionado\",\"no_seleccionado\",\"no_seleccionado\",\"seleccionado\",\"no_seleccionado\",\"no_seleccionado\",\"no_seleccionado\",\"no_seleccionado\",\"no_seleccionado\",\"no_seleccionado\",\"no_seleccionado\",\"no_seleccionado\",\"seleccionado\",\"seleccionado\",\"no_seleccionado\",\"no_seleccionado\",\"no_seleccionado\",\"no_seleccionado\",\"no_seleccionado\",\"no_seleccionado\",\"no_seleccionado\",\"no_seleccionado\",\"no_seleccionado\",\"no_seleccionado\",\"no_seleccionado\",\"no_seleccionado\",\"seleccionado\",\"no_seleccionado\",\"no_seleccionado\",\"no_seleccionado\",\"no_seleccionado\",\"no_seleccionado\",\"seleccionado\",\"no_seleccionado\",\"no_seleccionado\",\"no_seleccionado\",\"no_seleccionado\",\"seleccionado\",\"no_seleccionado\",\"no_seleccionado\",\"no_seleccionado\",\"no_seleccionado\",\"no_seleccionado\",\"no_seleccionado\",\"no_seleccionado\",\"seleccionado\",\"no_seleccionado\",\"no_seleccionado\",\"no_seleccionado\",\"no_seleccionado\",\"no_seleccionado\",\"no_seleccionado\",\"no_seleccionado\",\"no_seleccionado\",\"no_seleccionado\",\"no_seleccionado\",\"no_seleccionado\",\"no_seleccionado\",\"no_seleccionado\",\"no_seleccionado\",\"seleccionado\",\"no_seleccionado\",\"no_seleccionado\",\"no_seleccionado\",\"no_seleccionado\",\"no_seleccionado\",\"no_seleccionado\",\"no_seleccionado\",\"no_seleccionado\",\"no_seleccionado\",\"no_seleccionado\",\"no_seleccionado\",\"seleccionado\",\"no_seleccionado\",\"seleccionado\",\"no_seleccionado\",\"seleccionado\",\"no_seleccionado\",\"no_seleccionado\",\"no_seleccionado\",\"no_seleccionado\",\"no_seleccionado\",\"no_seleccionado\",\"no_seleccionado\",\"no_seleccionado\",\"seleccionado\",\"no_seleccionado\",\"no_seleccionado\",\"no_seleccionado\",\"no_seleccionado\",\"seleccionado\",\"no_seleccionado\",\"no_seleccionado\",\"no_seleccionado\",\"no_seleccionado\",\"no_seleccionado\",\"no_seleccionado\",\"no_seleccionado\",\"no_seleccionado\",\"no_seleccionado\",\"no_seleccionado\",\"no_seleccionado\",\"no_seleccionado\",\"no_seleccionado\",\"no_seleccionado\",\"no_seleccionado\",\"no_seleccionado\",\"no_seleccionado\",\"no_seleccionado\",\"no_seleccionado\",\"no_seleccionado\",\"seleccionado\",\"no_seleccionado\",\"seleccionado\",\"no_seleccionado\",\"no_seleccionado\",\"no_seleccionado\",\"no_seleccionado\",\"no_seleccionado\",\"no_seleccionado\",\"no_seleccionado\",\"no_seleccionado\",\"no_seleccionado\",\"no_seleccionado\",\"no_seleccionado\",\"no_seleccionado\",\"no_seleccionado\",\"no_seleccionado\",\"no_seleccionado\",\"no_seleccionado\",\"no_seleccionado\",\"no_seleccionado\",\"no_seleccionado\",\"no_seleccionado\",\"no_seleccionado\",\"no_seleccionado\",\"no_seleccionado\",\"no_seleccionado\",\"no_seleccionado\",\"no_seleccionado\",\"no_seleccionado\",\"seleccionado\",\"no_seleccionado\",\"no_seleccionado\",\"seleccionado\",\"no_seleccionado\",\"no_seleccionado\",\"no_seleccionado\",\"no_seleccionado\",\"no_seleccionado\",\"no_seleccionado\",\"seleccionado\",\"no_seleccionado\",\"no_seleccionado\",\"no_seleccionado\",\"no_seleccionado\",\"no_seleccionado\",\"no_seleccionado\",\"seleccionado\",\"seleccionado\",\"no_seleccionado\",\"no_seleccionado\",\"no_seleccionado\",\"no_seleccionado\",\"no_seleccionado\",\"no_seleccionado\",\"no_seleccionado\",\"no_seleccionado\",\"no_seleccionado\",\"no_seleccionado\",\"seleccionado\",\"seleccionado\",\"no_seleccionado\",\"no_seleccionado\",\"no_seleccionado\",\"no_seleccionado\",\"no_seleccionado\",\"no_seleccionado\",\"no_seleccionado\",\"no_seleccionado\",\"no_seleccionado\",\"no_seleccionado\",\"seleccionado\",\"seleccionado\",\"no_seleccionado\",\"no_seleccionado\",\"no_seleccionado\",\"no_seleccionado\",\"no_seleccionado\",\"seleccionado\",\"no_seleccionado\",\"seleccionado\",\"no_seleccionado\",\"seleccionado\",\"seleccionado\",\"no_seleccionado\",\"no_seleccionado\",\"no_seleccionado\",\"no_seleccionado\",\"seleccionado\",\"no_seleccionado\",\"no_seleccionado\",\"no_seleccionado\",\"no_seleccionado\",\"no_seleccionado\",\"seleccionado\",\"no_seleccionado\",\"no_seleccionado\",\"no_seleccionado\",\"seleccionado\",\"no_seleccionado\",\"no_seleccionado\",\"no_seleccionado\",\"no_seleccionado\",\"no_seleccionado\",\"no_seleccionado\",\"no_seleccionado\",\"no_seleccionado\",\"no_seleccionado\",\"no_seleccionado\",\"seleccionado\",\"no_seleccionado\",\"seleccionado\",\"no_seleccionado\",\"no_seleccionado\",\"no_seleccionado\",\"no_seleccionado\",\"no_seleccionado\",\"no_seleccionado\",\"no_seleccionado\",\"no_seleccionado\",\"seleccionado\",\"no_seleccionado\",\"seleccionado\",\"no_seleccionado\",\"no_seleccionado\",\"no_seleccionado\",\"no_seleccionado\",\"seleccionado\",\"no_seleccionado\",\"no_seleccionado\",\"no_seleccionado\",\"seleccionado\",\"no_seleccionado\",\"seleccionado\",\"no_seleccionado\",\"no_seleccionado\",\"no_seleccionado\",\"no_seleccionado\",\"no_seleccionado\",\"no_seleccionado\",\"no_seleccionado\",\"no_seleccionado\",\"no_seleccionado\",\"no_seleccionado\",\"no_seleccionado\",\"no_seleccionado\",\"no_seleccionado\",\"no_seleccionado\",\"no_seleccionado\",\"seleccionado\",\"no_seleccionado\",\"no_seleccionado\",\"no_seleccionado\",\"no_seleccionado\",\"no_seleccionado\",\"no_seleccionado\",\"no_seleccionado\",\"no_seleccionado\",\"no_seleccionado\",\"seleccionado\",\"no_seleccionado\",\"no_seleccionado\",\"no_seleccionado\",\"no_seleccionado\",\"no_seleccionado\",\"seleccionado\",\"no_seleccionado\",\"no_seleccionado\",\"no_seleccionado\",\"no_seleccionado\",\"no_seleccionado\",\"no_seleccionado\",\"no_seleccionado\",\"no_seleccionado\",\"no_seleccionado\",\"no_seleccionado\",\"no_seleccionado\",\"no_seleccionado\",\"no_seleccionado\",\"no_seleccionado\",\"no_seleccionado\",\"no_seleccionado\",\"no_seleccionado\",\"no_seleccionado\",\"no_seleccionado\",\"no_seleccionado\",\"no_seleccionado\",\"seleccionado\",\"no_seleccionado\",\"no_seleccionado\",\"no_seleccionado\",\"no_seleccionado\",\"seleccionado\",\"seleccionado\",\"no_seleccionado\",\"no_seleccionado\",\"seleccionado\",\"no_seleccionado\",\"no_seleccionado\",\"no_seleccionado\",\"no_seleccionado\",\"no_seleccionado\",\"no_seleccionado\",\"no_seleccionado\",\"no_seleccionado\",\"no_seleccionado\",\"no_seleccionado\",\"no_seleccionado\",\"no_seleccionado\",\"no_seleccionado\",\"no_seleccionado\",\"no_seleccionado\",\"no_seleccionado\",\"no_seleccionado\",\"no_seleccionado\",\"no_seleccionado\",\"seleccionado\",\"no_seleccionado\",\"no_seleccionado\",\"no_seleccionado\",\"no_seleccionado\",\"no_seleccionado\",\"no_seleccionado\",\"no_seleccionado\",\"no_seleccionado\",\"no_seleccionado\",\"no_seleccionado\",\"no_seleccionado\",\"no_seleccionado\",\"no_seleccionado\",\"seleccionado\",\"no_seleccionado\",\"no_seleccionado\",\"no_seleccionado\",\"no_seleccionado\",\"no_seleccionado\",\"no_seleccionado\",\"no_seleccionado\",\"no_seleccionado\",\"no_seleccionado\",\"no_seleccionado\",\"no_seleccionado\",\"no_seleccionado\",\"no_seleccionado\",\"no_seleccionado\",\"no_seleccionado\",\"no_seleccionado\",\"no_seleccionado\",\"no_seleccionado\",\"no_seleccionado\",\"no_seleccionado\",\"no_seleccionado\",\"no_seleccionado\",\"no_seleccionado\",\"no_seleccionado\",\"no_seleccionado\",\"no_seleccionado\",\"no_seleccionado\",\"no_seleccionado\",\"no_seleccionado\",\"no_seleccionado\",\"no_seleccionado\",\"no_seleccionado\",\"no_seleccionado\",\"no_seleccionado\",\"no_seleccionado\",\"no_seleccionado\",\"no_seleccionado\",\"no_seleccionado\",\"no_seleccionado\",\"no_seleccionado\",\"no_seleccionado\",\"no_seleccionado\",\"no_seleccionado\",\"no_seleccionado\",\"no_seleccionado\",\"seleccionado\",\"seleccionado\",\"no_seleccionado\",\"no_seleccionado\",\"no_seleccionado\",\"no_seleccionado\",\"no_seleccionado\",\"no_seleccionado\",\"no_seleccionado\",\"seleccionado\",\"no_seleccionado\",\"seleccionado\",\"no_seleccionado\",\"no_seleccionado\",\"no_seleccionado\",\"no_seleccionado\",\"no_seleccionado\",\"no_seleccionado\",\"no_seleccionado\",\"no_seleccionado\",\"no_seleccionado\",\"no_seleccionado\",\"no_seleccionado\",\"no_seleccionado\",\"seleccionado\",\"no_seleccionado\",\"no_seleccionado\",\"no_seleccionado\",\"no_seleccionado\",\"no_seleccionado\",\"no_seleccionado\",\"seleccionado\",\"no_seleccionado\",\"no_seleccionado\",\"no_seleccionado\",\"no_seleccionado\",\"no_seleccionado\",\"no_seleccionado\",\"no_seleccionado\",\"no_seleccionado\",\"no_seleccionado\",\"no_seleccionado\",\"no_seleccionado\",\"no_seleccionado\",\"no_seleccionado\",\"no_seleccionado\",\"no_seleccionado\",\"no_seleccionado\",\"no_seleccionado\",\"no_seleccionado\",\"no_seleccionado\",\"no_seleccionado\",\"no_seleccionado\",\"no_seleccionado\",\"no_seleccionado\",\"no_seleccionado\",\"no_seleccionado\",\"no_seleccionado\",\"no_seleccionado\",\"no_seleccionado\",\"no_seleccionado\",\"no_seleccionado\",\"no_seleccionado\",\"no_seleccionado\",\"no_seleccionado\",\"no_seleccionado\",\"no_seleccionado\",\"no_seleccionado\",\"no_seleccionado\",\"no_seleccionado\",\"no_seleccionado\",\"no_seleccionado\",\"no_seleccionado\",\"no_seleccionado\",\"no_seleccionado\",\"no_seleccionado\",\"no_seleccionado\",\"no_seleccionado\",\"no_seleccionado\",\"no_seleccionado\",\"no_seleccionado\",\"seleccionado\",\"no_seleccionado\",\"no_seleccionado\",\"seleccionado\",\"no_seleccionado\",\"no_seleccionado\",\"no_seleccionado\",\"seleccionado\",\"no_seleccionado\",\"no_seleccionado\",\"no_seleccionado\",\"no_seleccionado\",\"no_seleccionado\",\"seleccionado\",\"no_seleccionado\",\"no_seleccionado\",\"no_seleccionado\",\"no_seleccionado\",\"no_seleccionado\",\"seleccionado\",\"no_seleccionado\",\"seleccionado\",\"no_seleccionado\",\"no_seleccionado\",\"no_seleccionado\",\"no_seleccionado\",\"no_seleccionado\",\"no_seleccionado\",\"no_seleccionado\",\"no_seleccionado\",\"no_seleccionado\",\"no_seleccionado\",\"no_seleccionado\",\"no_seleccionado\",\"no_seleccionado\",\"no_seleccionado\",\"no_seleccionado\",\"no_seleccionado\",\"no_seleccionado\",\"no_seleccionado\",\"no_seleccionado\",\"no_seleccionado\",\"seleccionado\",\"seleccionado\",\"no_seleccionado\",\"no_seleccionado\",\"no_seleccionado\",\"no_seleccionado\",\"seleccionado\",\"no_seleccionado\",\"no_seleccionado\",\"no_seleccionado\",\"no_seleccionado\",\"no_seleccionado\",\"no_seleccionado\",\"no_seleccionado\",\"no_seleccionado\",\"no_seleccionado\",\"no_seleccionado\",\"no_seleccionado\",\"no_seleccionado\",\"no_seleccionado\",\"no_seleccionado\",\"no_seleccionado\",\"no_seleccionado\",\"no_seleccionado\",\"no_seleccionado\",\"no_seleccionado\",\"seleccionado\",\"no_seleccionado\",\"seleccionado\",\"no_seleccionado\",\"seleccionado\",\"seleccionado\",\"no_seleccionado\",\"no_seleccionado\",\"no_seleccionado\",\"no_seleccionado\",\"no_seleccionado\",\"seleccionado\",\"no_seleccionado\",\"no_seleccionado\",\"no_seleccionado\",\"no_seleccionado\",\"seleccionado\",\"no_seleccionado\",\"seleccionado\",\"no_seleccionado\",\"no_seleccionado\",\"no_seleccionado\",\"no_seleccionado\",\"no_seleccionado\",\"no_seleccionado\",\"no_seleccionado\",\"seleccionado\",\"no_seleccionado\",\"no_seleccionado\",\"seleccionado\",\"no_seleccionado\",\"no_seleccionado\",\"no_seleccionado\",\"no_seleccionado\",\"no_seleccionado\",\"no_seleccionado\",\"seleccionado\",\"no_seleccionado\",\"no_seleccionado\",\"no_seleccionado\",\"seleccionado\",\"no_seleccionado\",\"no_seleccionado\",\"no_seleccionado\",\"no_seleccionado\",\"no_seleccionado\",\"no_seleccionado\",\"no_seleccionado\",\"no_seleccionado\",\"no_seleccionado\",\"no_seleccionado\",\"no_seleccionado\",\"seleccionado\",\"no_seleccionado\",\"no_seleccionado\",\"no_seleccionado\",\"seleccionado\",\"seleccionado\",\"no_seleccionado\",\"no_seleccionado\",\"no_seleccionado\",\"no_seleccionado\",\"no_seleccionado\",\"no_seleccionado\",\"no_seleccionado\",\"no_seleccionado\",\"no_seleccionado\",\"no_seleccionado\",\"no_seleccionado\",\"no_seleccionado\",\"no_seleccionado\",\"no_seleccionado\",\"seleccionado\",\"no_seleccionado\",\"no_seleccionado\",\"seleccionado\",\"no_seleccionado\",\"no_seleccionado\",\"no_seleccionado\",\"no_seleccionado\",\"no_seleccionado\",\"no_seleccionado\",\"no_seleccionado\",\"no_seleccionado\",\"no_seleccionado\",\"no_seleccionado\",\"seleccionado\",\"no_seleccionado\",\"no_seleccionado\",\"no_seleccionado\",\"no_seleccionado\",\"no_seleccionado\",\"seleccionado\",\"no_seleccionado\",\"no_seleccionado\",\"seleccionado\",\"no_seleccionado\",\"no_seleccionado\",\"no_seleccionado\",\"no_seleccionado\",\"no_seleccionado\",\"no_seleccionado\",\"seleccionado\",\"seleccionado\",\"no_seleccionado\",\"no_seleccionado\",\"no_seleccionado\",\"no_seleccionado\",\"no_seleccionado\",\"seleccionado\",\"no_seleccionado\",\"no_seleccionado\",\"no_seleccionado\",\"seleccionado\",\"no_seleccionado\",\"no_seleccionado\",\"no_seleccionado\",\"no_seleccionado\",\"seleccionado\",\"no_seleccionado\",\"no_seleccionado\",\"no_seleccionado\",\"seleccionado\",\"no_seleccionado\",\"no_seleccionado\",\"no_seleccionado\",\"seleccionado\",\"no_seleccionado\",\"no_seleccionado\",\"no_seleccionado\",\"no_seleccionado\",\"no_seleccionado\",\"no_seleccionado\",\"no_seleccionado\",\"no_seleccionado\",\"no_seleccionado\",\"no_seleccionado\",\"no_seleccionado\",\"no_seleccionado\",\"no_seleccionado\",\"no_seleccionado\",\"no_seleccionado\",\"no_seleccionado\",\"no_seleccionado\",\"no_seleccionado\",\"no_seleccionado\",\"no_seleccionado\",\"seleccionado\",\"no_seleccionado\",\"no_seleccionado\",\"no_seleccionado\",\"no_seleccionado\",\"no_seleccionado\",\"seleccionado\",\"no_seleccionado\",\"seleccionado\",\"no_seleccionado\",\"no_seleccionado\",\"no_seleccionado\",\"no_seleccionado\",\"no_seleccionado\",\"seleccionado\",\"no_seleccionado\",\"seleccionado\",\"no_seleccionado\",\"no_seleccionado\",\"no_seleccionado\",\"no_seleccionado\",\"no_seleccionado\",\"seleccionado\",\"no_seleccionado\",\"no_seleccionado\",\"no_seleccionado\",\"seleccionado\",\"no_seleccionado\",\"no_seleccionado\",\"no_seleccionado\",\"no_seleccionado\",\"no_seleccionado\",\"no_seleccionado\",\"seleccionado\",\"no_seleccionado\",\"no_seleccionado\",\"seleccionado\",\"no_seleccionado\",\"no_seleccionado\",\"no_seleccionado\",\"no_seleccionado\",\"no_seleccionado\",\"no_seleccionado\",\"seleccionado\",\"no_seleccionado\",\"no_seleccionado\",\"no_seleccionado\",\"seleccionado\",\"seleccionado\",\"no_seleccionado\",\"no_seleccionado\",\"seleccionado\",\"no_seleccionado\",\"no_seleccionado\",\"no_seleccionado\",\"no_seleccionado\",\"no_seleccionado\",\"no_seleccionado\",\"no_seleccionado\",\"no_seleccionado\",\"no_seleccionado\",\"no_seleccionado\",\"no_seleccionado\",\"no_seleccionado\",\"no_seleccionado\",\"no_seleccionado\",\"no_seleccionado\",\"no_seleccionado\",\"no_seleccionado\",\"no_seleccionado\",\"no_seleccionado\",\"no_seleccionado\",\"no_seleccionado\",\"no_seleccionado\",\"seleccionado\",\"no_seleccionado\",\"no_seleccionado\",\"no_seleccionado\",\"no_seleccionado\",\"no_seleccionado\",\"no_seleccionado\",\"no_seleccionado\",\"seleccionado\",\"no_seleccionado\",\"no_seleccionado\",\"no_seleccionado\",\"no_seleccionado\",\"no_seleccionado\",\"no_seleccionado\",\"no_seleccionado\",\"seleccionado\",\"no_seleccionado\",\"no_seleccionado\",\"no_seleccionado\",\"no_seleccionado\",\"no_seleccionado\",\"no_seleccionado\",\"no_seleccionado\",\"no_seleccionado\",\"no_seleccionado\",\"no_seleccionado\",\"no_seleccionado\",\"no_seleccionado\",\"no_seleccionado\",\"no_seleccionado\",\"no_seleccionado\",\"no_seleccionado\",\"no_seleccionado\",\"seleccionado\",\"no_seleccionado\",\"no_seleccionado\",\"no_seleccionado\",\"no_seleccionado\",\"no_seleccionado\",\"no_seleccionado\",\"no_seleccionado\",\"no_seleccionado\",\"seleccionado\",\"seleccionado\",\"no_seleccionado\",\"no_seleccionado\",\"seleccionado\",\"seleccionado\",\"no_seleccionado\",\"no_seleccionado\",\"no_seleccionado\",\"no_seleccionado\",\"no_seleccionado\",\"no_seleccionado\",\"no_seleccionado\",\"no_seleccionado\",\"no_seleccionado\",\"no_seleccionado\",\"no_seleccionado\",\"no_seleccionado\",\"no_seleccionado\",\"no_seleccionado\",\"no_seleccionado\",\"no_seleccionado\",\"no_seleccionado\",\"no_seleccionado\",\"no_seleccionado\",\"no_seleccionado\",\"no_seleccionado\",\"no_seleccionado\",\"no_seleccionado\",\"no_seleccionado\",\"no_seleccionado\",\"no_seleccionado\",\"no_seleccionado\",\"no_seleccionado\",\"no_seleccionado\",\"no_seleccionado\",\"no_seleccionado\",\"no_seleccionado\",\"no_seleccionado\",\"no_seleccionado\",\"no_seleccionado\",\"no_seleccionado\",\"no_seleccionado\",\"no_seleccionado\",\"no_seleccionado\",\"seleccionado\",\"no_seleccionado\",\"no_seleccionado\",\"no_seleccionado\",\"no_seleccionado\",\"no_seleccionado\",\"no_seleccionado\",\"no_seleccionado\",\"no_seleccionado\",\"no_seleccionado\",\"no_seleccionado\",\"seleccionado\",\"no_seleccionado\",\"seleccionado\",\"no_seleccionado\",\"no_seleccionado\",\"no_seleccionado\",\"no_seleccionado\",\"no_seleccionado\",\"no_seleccionado\",\"no_seleccionado\",\"no_seleccionado\",\"no_seleccionado\",\"no_seleccionado\",\"no_seleccionado\",\"no_seleccionado\",\"seleccionado\",\"no_seleccionado\",\"no_seleccionado\",\"no_seleccionado\",\"no_seleccionado\",\"no_seleccionado\",\"no_seleccionado\",\"no_seleccionado\",\"no_seleccionado\",\"seleccionado\",\"no_seleccionado\",\"no_seleccionado\",\"seleccionado\",\"no_seleccionado\",\"no_seleccionado\",\"no_seleccionado\",\"no_seleccionado\",\"no_seleccionado\",\"no_seleccionado\",\"no_seleccionado\",\"no_seleccionado\",\"no_seleccionado\",\"no_seleccionado\",\"no_seleccionado\",\"no_seleccionado\",\"no_seleccionado\",\"no_seleccionado\",\"no_seleccionado\",\"no_seleccionado\",\"no_seleccionado\",\"no_seleccionado\",\"no_seleccionado\",\"no_seleccionado\",\"no_seleccionado\",\"no_seleccionado\",\"no_seleccionado\",\"no_seleccionado\",\"no_seleccionado\",\"no_seleccionado\",\"no_seleccionado\",\"no_seleccionado\",\"no_seleccionado\",\"no_seleccionado\",\"no_seleccionado\",\"no_seleccionado\",\"no_seleccionado\",\"no_seleccionado\",\"no_seleccionado\",\"no_seleccionado\",\"no_seleccionado\",\"no_seleccionado\",\"no_seleccionado\",\"no_seleccionado\",\"no_seleccionado\",\"no_seleccionado\",\"no_seleccionado\",\"no_seleccionado\",\"no_seleccionado\",\"no_seleccionado\",\"no_seleccionado\",\"no_seleccionado\",\"seleccionado\",\"no_seleccionado\",\"no_seleccionado\",\"no_seleccionado\",\"seleccionado\",\"no_seleccionado\",\"no_seleccionado\",\"seleccionado\",\"no_seleccionado\",\"no_seleccionado\",\"no_seleccionado\",\"no_seleccionado\",\"seleccionado\",\"no_seleccionado\",\"no_seleccionado\",\"no_seleccionado\",\"no_seleccionado\",\"no_seleccionado\",\"no_seleccionado\",\"no_seleccionado\",\"no_seleccionado\",\"no_seleccionado\",\"no_seleccionado\",\"no_seleccionado\",\"no_seleccionado\",\"no_seleccionado\",\"no_seleccionado\",\"seleccionado\",\"no_seleccionado\",\"no_seleccionado\",\"no_seleccionado\",\"no_seleccionado\",\"no_seleccionado\",\"no_seleccionado\",\"no_seleccionado\",\"no_seleccionado\",\"no_seleccionado\",\"no_seleccionado\",\"no_seleccionado\",\"seleccionado\",\"no_seleccionado\",\"no_seleccionado\",\"no_seleccionado\",\"no_seleccionado\",\"no_seleccionado\",\"no_seleccionado\",\"no_seleccionado\",\"no_seleccionado\",\"no_seleccionado\",\"no_seleccionado\",\"seleccionado\",\"no_seleccionado\",\"no_seleccionado\",\"no_seleccionado\",\"no_seleccionado\",\"no_seleccionado\",\"seleccionado\",\"no_seleccionado\",\"no_seleccionado\",\"no_seleccionado\",\"no_seleccionado\",\"no_seleccionado\",\"no_seleccionado\",\"no_seleccionado\",\"no_seleccionado\",\"no_seleccionado\",\"no_seleccionado\",\"no_seleccionado\",\"no_seleccionado\",\"no_seleccionado\",\"no_seleccionado\",\"no_seleccionado\",\"no_seleccionado\",\"no_seleccionado\",\"no_seleccionado\",\"no_seleccionado\",\"no_seleccionado\",\"no_seleccionado\",\"no_seleccionado\",\"no_seleccionado\",\"no_seleccionado\",\"seleccionado\",\"no_seleccionado\",\"seleccionado\",\"no_seleccionado\",\"no_seleccionado\",\"no_seleccionado\",\"no_seleccionado\",\"no_seleccionado\",\"no_seleccionado\",\"no_seleccionado\",\"no_seleccionado\",\"seleccionado\",\"no_seleccionado\",\"no_seleccionado\",\"no_seleccionado\",\"no_seleccionado\",\"no_seleccionado\",\"no_seleccionado\",\"no_seleccionado\",\"no_seleccionado\",\"no_seleccionado\",\"no_seleccionado\",\"no_seleccionado\",\"no_seleccionado\",\"no_seleccionado\",\"no_seleccionado\",\"no_seleccionado\",\"no_seleccionado\",\"seleccionado\",\"no_seleccionado\",\"no_seleccionado\",\"seleccionado\",\"no_seleccionado\",\"no_seleccionado\",\"no_seleccionado\",\"seleccionado\",\"seleccionado\",\"no_seleccionado\",\"seleccionado\",\"no_seleccionado\",\"no_seleccionado\",\"no_seleccionado\",\"no_seleccionado\",\"seleccionado\",\"seleccionado\",\"seleccionado\",\"no_seleccionado\",\"no_seleccionado\",\"no_seleccionado\",\"no_seleccionado\",\"no_seleccionado\",\"no_seleccionado\",\"no_seleccionado\",\"no_seleccionado\",\"no_seleccionado\",\"no_seleccionado\",\"no_seleccionado\",\"no_seleccionado\",\"no_seleccionado\",\"no_seleccionado\",\"no_seleccionado\",\"seleccionado\",\"no_seleccionado\",\"no_seleccionado\",\"no_seleccionado\",\"no_seleccionado\",\"no_seleccionado\",\"no_seleccionado\",\"no_seleccionado\",\"no_seleccionado\",\"seleccionado\",\"no_seleccionado\",\"no_seleccionado\",\"no_seleccionado\",\"seleccionado\",\"no_seleccionado\",\"no_seleccionado\",\"no_seleccionado\",\"no_seleccionado\",\"no_seleccionado\",\"seleccionado\",\"no_seleccionado\",\"no_seleccionado\",\"seleccionado\",\"no_seleccionado\",\"no_seleccionado\",\"no_seleccionado\",\"no_seleccionado\",\"no_seleccionado\",\"no_seleccionado\",\"no_seleccionado\",\"no_seleccionado\",\"no_seleccionado\",\"seleccionado\",\"no_seleccionado\",\"no_seleccionado\",\"no_seleccionado\",\"seleccionado\",\"no_seleccionado\",\"no_seleccionado\",\"no_seleccionado\",\"no_seleccionado\",\"no_seleccionado\",\"seleccionado\",\"no_seleccionado\",\"seleccionado\",\"no_seleccionado\",\"seleccionado\",\"no_seleccionado\",\"no_seleccionado\",\"no_seleccionado\",\"seleccionado\",\"seleccionado\",\"no_seleccionado\",\"no_seleccionado\",\"no_seleccionado\",\"no_seleccionado\",\"no_seleccionado\",\"no_seleccionado\",\"seleccionado\",\"no_seleccionado\",\"no_seleccionado\",\"no_seleccionado\",\"seleccionado\",\"no_seleccionado\",\"no_seleccionado\",\"no_seleccionado\",\"no_seleccionado\",\"seleccionado\",\"no_seleccionado\",\"no_seleccionado\",\"no_seleccionado\",\"no_seleccionado\",\"no_seleccionado\",\"no_seleccionado\",\"no_seleccionado\",\"no_seleccionado\",\"no_seleccionado\",\"seleccionado\",\"no_seleccionado\",\"no_seleccionado\",\"no_seleccionado\",\"no_seleccionado\",\"no_seleccionado\",\"no_seleccionado\",\"no_seleccionado\",\"no_seleccionado\",\"no_seleccionado\",\"no_seleccionado\",\"no_seleccionado\",\"no_seleccionado\",\"no_seleccionado\",\"no_seleccionado\",\"no_seleccionado\",\"no_seleccionado\",\"no_seleccionado\",\"no_seleccionado\",\"no_seleccionado\",\"no_seleccionado\",\"no_seleccionado\",\"no_seleccionado\",\"no_seleccionado\",\"seleccionado\",\"no_seleccionado\",\"no_seleccionado\",\"seleccionado\",\"seleccionado\",\"no_seleccionado\",\"no_seleccionado\",\"no_seleccionado\",\"no_seleccionado\",\"no_seleccionado\",\"no_seleccionado\",\"seleccionado\",\"seleccionado\",\"no_seleccionado\",\"no_seleccionado\",\"no_seleccionado\",\"no_seleccionado\",\"no_seleccionado\",\"no_seleccionado\",\"no_seleccionado\",\"no_seleccionado\",\"no_seleccionado\",\"no_seleccionado\",\"no_seleccionado\",\"no_seleccionado\",\"no_seleccionado\",\"seleccionado\",\"no_seleccionado\",\"no_seleccionado\",\"no_seleccionado\",\"no_seleccionado\",\"no_seleccionado\",\"no_seleccionado\",\"seleccionado\",\"seleccionado\",\"seleccionado\",\"no_seleccionado\",\"no_seleccionado\",\"no_seleccionado\",\"no_seleccionado\",\"no_seleccionado\",\"no_seleccionado\",\"no_seleccionado\",\"no_seleccionado\",\"no_seleccionado\",\"no_seleccionado\",\"no_seleccionado\",\"seleccionado\",\"seleccionado\",\"seleccionado\",\"no_seleccionado\",\"no_seleccionado\",\"no_seleccionado\",\"no_seleccionado\",\"no_seleccionado\",\"no_seleccionado\",\"no_seleccionado\",\"no_seleccionado\",\"no_seleccionado\",\"no_seleccionado\",\"no_seleccionado\",\"no_seleccionado\",\"no_seleccionado\",\"no_seleccionado\",\"no_seleccionado\",\"no_seleccionado\",\"seleccionado\",\"no_seleccionado\",\"no_seleccionado\",\"no_seleccionado\",\"no_seleccionado\",\"no_seleccionado\",\"no_seleccionado\",\"no_seleccionado\",\"no_seleccionado\",\"no_seleccionado\",\"no_seleccionado\",\"no_seleccionado\",\"no_seleccionado\",\"no_seleccionado\",\"no_seleccionado\",\"no_seleccionado\",\"no_seleccionado\",\"no_seleccionado\",\"no_seleccionado\",\"no_seleccionado\",\"no_seleccionado\",\"no_seleccionado\",\"no_seleccionado\",\"seleccionado\",\"no_seleccionado\",\"no_seleccionado\",\"no_seleccionado\",\"no_seleccionado\",\"no_seleccionado\",\"no_seleccionado\",\"no_seleccionado\",\"no_seleccionado\",\"no_seleccionado\",\"no_seleccionado\",\"no_seleccionado\",\"seleccionado\",\"no_seleccionado\",\"no_seleccionado\",\"no_seleccionado\",\"no_seleccionado\",\"no_seleccionado\",\"no_seleccionado\",\"no_seleccionado\",\"no_seleccionado\",\"no_seleccionado\",\"seleccionado\",\"no_seleccionado\",\"no_seleccionado\",\"seleccionado\",\"no_seleccionado\",\"seleccionado\",\"seleccionado\",\"no_seleccionado\",\"no_seleccionado\",\"no_seleccionado\",\"no_seleccionado\",\"no_seleccionado\",\"no_seleccionado\",\"no_seleccionado\",\"no_seleccionado\",\"no_seleccionado\",\"no_seleccionado\",\"no_seleccionado\",\"no_seleccionado\",\"no_seleccionado\",\"no_seleccionado\",\"no_seleccionado\",\"no_seleccionado\",\"no_seleccionado\",\"no_seleccionado\",\"seleccionado\",\"no_seleccionado\",\"no_seleccionado\",\"seleccionado\",\"no_seleccionado\",\"no_seleccionado\",\"no_seleccionado\",\"no_seleccionado\",\"no_seleccionado\",\"no_seleccionado\",\"no_seleccionado\",\"no_seleccionado\",\"no_seleccionado\",\"no_seleccionado\",\"no_seleccionado\",\"no_seleccionado\",\"no_seleccionado\",\"no_seleccionado\",\"no_seleccionado\",\"seleccionado\",\"no_seleccionado\",\"no_seleccionado\",\"seleccionado\",\"no_seleccionado\",\"no_seleccionado\",\"no_seleccionado\",\"no_seleccionado\",\"no_seleccionado\",\"no_seleccionado\",\"no_seleccionado\",\"no_seleccionado\",\"no_seleccionado\",\"no_seleccionado\",\"no_seleccionado\",\"no_seleccionado\",\"no_seleccionado\",\"seleccionado\",\"seleccionado\",\"no_seleccionado\",\"no_seleccionado\",\"no_seleccionado\",\"no_seleccionado\",\"no_seleccionado\",\"no_seleccionado\",\"no_seleccionado\",\"no_seleccionado\",\"seleccionado\",\"no_seleccionado\",\"no_seleccionado\",\"no_seleccionado\",\"no_seleccionado\",\"no_seleccionado\",\"no_seleccionado\",\"no_seleccionado\",\"no_seleccionado\",\"no_seleccionado\",\"no_seleccionado\",\"no_seleccionado\",\"no_seleccionado\",\"no_seleccionado\",\"no_seleccionado\",\"no_seleccionado\",\"no_seleccionado\",\"no_seleccionado\",\"seleccionado\",\"no_seleccionado\",\"no_seleccionado\",\"seleccionado\",\"no_seleccionado\",\"no_seleccionado\",\"no_seleccionado\",\"no_seleccionado\",\"no_seleccionado\",\"no_seleccionado\",\"seleccionado\",\"no_seleccionado\",\"no_seleccionado\",\"no_seleccionado\",\"no_seleccionado\",\"no_seleccionado\",\"no_seleccionado\",\"no_seleccionado\",\"no_seleccionado\",\"seleccionado\",\"no_seleccionado\",\"no_seleccionado\",\"no_seleccionado\",\"no_seleccionado\",\"no_seleccionado\",\"no_seleccionado\",\"no_seleccionado\",\"no_seleccionado\",\"no_seleccionado\",\"no_seleccionado\",\"no_seleccionado\",\"no_seleccionado\",\"no_seleccionado\",\"no_seleccionado\",\"no_seleccionado\",\"no_seleccionado\",\"no_seleccionado\",\"no_seleccionado\",\"no_seleccionado\",\"no_seleccionado\",\"no_seleccionado\",\"no_seleccionado\",\"no_seleccionado\",\"seleccionado\",\"seleccionado\",\"no_seleccionado\",\"no_seleccionado\",\"no_seleccionado\",\"no_seleccionado\",\"seleccionado\",\"no_seleccionado\",\"no_seleccionado\",\"no_seleccionado\",\"no_seleccionado\",\"seleccionado\",\"no_seleccionado\",\"no_seleccionado\",\"no_seleccionado\",\"no_seleccionado\",\"no_seleccionado\",\"no_seleccionado\",\"no_seleccionado\",\"no_seleccionado\",\"no_seleccionado\",\"no_seleccionado\",\"no_seleccionado\",\"no_seleccionado\",\"no_seleccionado\",\"no_seleccionado\",\"no_seleccionado\",\"seleccionado\",\"no_seleccionado\",\"no_seleccionado\",\"no_seleccionado\",\"no_seleccionado\",\"no_seleccionado\",\"no_seleccionado\",\"no_seleccionado\",\"no_seleccionado\",\"no_seleccionado\",\"no_seleccionado\",\"no_seleccionado\",\"no_seleccionado\",\"no_seleccionado\",\"no_seleccionado\",\"no_seleccionado\",\"no_seleccionado\",\"no_seleccionado\",\"no_seleccionado\",\"no_seleccionado\",\"no_seleccionado\",\"seleccionado\",\"no_seleccionado\",\"no_seleccionado\",\"no_seleccionado\",\"no_seleccionado\",\"no_seleccionado\",\"no_seleccionado\",\"no_seleccionado\",\"no_seleccionado\",\"no_seleccionado\",\"no_seleccionado\",\"no_seleccionado\",\"seleccionado\",\"seleccionado\",\"no_seleccionado\",\"no_seleccionado\",\"no_seleccionado\",\"no_seleccionado\",\"no_seleccionado\",\"no_seleccionado\",\"no_seleccionado\",\"no_seleccionado\",\"no_seleccionado\",\"no_seleccionado\",\"no_seleccionado\",\"seleccionado\",\"no_seleccionado\",\"no_seleccionado\",\"no_seleccionado\",\"no_seleccionado\",\"no_seleccionado\",\"no_seleccionado\",\"no_seleccionado\",\"no_seleccionado\",\"no_seleccionado\",\"no_seleccionado\",\"no_seleccionado\",\"no_seleccionado\",\"no_seleccionado\",\"no_seleccionado\",\"no_seleccionado\",\"no_seleccionado\",\"no_seleccionado\",\"no_seleccionado\",\"no_seleccionado\",\"no_seleccionado\",\"no_seleccionado\",\"no_seleccionado\",\"no_seleccionado\",\"no_seleccionado\",\"no_seleccionado\",\"no_seleccionado\",\"no_seleccionado\",\"no_seleccionado\",\"no_seleccionado\",\"no_seleccionado\",\"no_seleccionado\",\"no_seleccionado\",\"no_seleccionado\",\"no_seleccionado\",\"no_seleccionado\",\"no_seleccionado\",\"no_seleccionado\",\"no_seleccionado\",\"no_seleccionado\",\"no_seleccionado\",\"no_seleccionado\",\"no_seleccionado\",\"no_seleccionado\",\"no_seleccionado\",\"no_seleccionado\",\"no_seleccionado\",\"no_seleccionado\",\"no_seleccionado\",\"no_seleccionado\",\"no_seleccionado\",\"no_seleccionado\",\"no_seleccionado\",\"no_seleccionado\",\"no_seleccionado\",\"no_seleccionado\",\"no_seleccionado\",\"no_seleccionado\",\"no_seleccionado\",\"no_seleccionado\",\"no_seleccionado\",\"no_seleccionado\",\"no_seleccionado\",\"no_seleccionado\",\"no_seleccionado\",\"no_seleccionado\",\"seleccionado\",\"seleccionado\",\"no_seleccionado\",\"no_seleccionado\",\"no_seleccionado\",\"no_seleccionado\",\"no_seleccionado\",\"no_seleccionado\",\"no_seleccionado\",\"no_seleccionado\",\"no_seleccionado\",\"no_seleccionado\",\"no_seleccionado\",\"no_seleccionado\",\"seleccionado\",\"no_seleccionado\",\"no_seleccionado\",\"no_seleccionado\",\"no_seleccionado\",\"no_seleccionado\",\"no_seleccionado\",\"no_seleccionado\",\"no_seleccionado\",\"no_seleccionado\",\"no_seleccionado\",\"no_seleccionado\",\"no_seleccionado\",\"no_seleccionado\",\"no_seleccionado\",\"no_seleccionado\",\"no_seleccionado\",\"seleccionado\",\"no_seleccionado\",\"no_seleccionado\",\"no_seleccionado\",\"no_seleccionado\",\"no_seleccionado\",\"no_seleccionado\",\"no_seleccionado\",\"no_seleccionado\",\"no_seleccionado\",\"no_seleccionado\",\"no_seleccionado\",\"no_seleccionado\",\"no_seleccionado\",\"no_seleccionado\",\"no_seleccionado\",\"no_seleccionado\",\"no_seleccionado\",\"no_seleccionado\",\"no_seleccionado\",\"seleccionado\",\"no_seleccionado\",\"no_seleccionado\",\"no_seleccionado\",\"no_seleccionado\",\"no_seleccionado\",\"no_seleccionado\",\"no_seleccionado\",\"no_seleccionado\",\"no_seleccionado\",\"seleccionado\",\"no_seleccionado\",\"no_seleccionado\",\"no_seleccionado\",\"no_seleccionado\",\"no_seleccionado\",\"no_seleccionado\",\"no_seleccionado\",\"no_seleccionado\",\"seleccionado\",\"no_seleccionado\",\"no_seleccionado\",\"no_seleccionado\",\"no_seleccionado\",\"no_seleccionado\",\"no_seleccionado\",\"no_seleccionado\",\"no_seleccionado\",\"no_seleccionado\",\"seleccionado\",\"no_seleccionado\",\"no_seleccionado\",\"no_seleccionado\",\"no_seleccionado\",\"no_seleccionado\",\"no_seleccionado\",\"no_seleccionado\",\"no_seleccionado\",\"no_seleccionado\",\"no_seleccionado\",\"no_seleccionado\",\"no_seleccionado\",\"no_seleccionado\",\"no_seleccionado\",\"no_seleccionado\",\"no_seleccionado\",\"no_seleccionado\",\"no_seleccionado\",\"no_seleccionado\",\"no_seleccionado\",\"no_seleccionado\",\"no_seleccionado\",\"no_seleccionado\",\"no_seleccionado\",\"no_seleccionado\",\"no_seleccionado\",\"no_seleccionado\",\"no_seleccionado\",\"no_seleccionado\",\"no_seleccionado\",\"no_seleccionado\",\"no_seleccionado\",\"no_seleccionado\",\"no_seleccionado\",\"no_seleccionado\",\"seleccionado\",\"no_seleccionado\",\"no_seleccionado\",\"no_seleccionado\",\"no_seleccionado\",\"no_seleccionado\",\"no_seleccionado\",\"seleccionado\",\"no_seleccionado\",\"no_seleccionado\",\"no_seleccionado\",\"no_seleccionado\",\"no_seleccionado\",\"no_seleccionado\",\"no_seleccionado\",\"seleccionado\",\"no_seleccionado\",\"no_seleccionado\",\"no_seleccionado\",\"no_seleccionado\",\"no_seleccionado\",\"seleccionado\",\"seleccionado\",\"no_seleccionado\",\"no_seleccionado\",\"no_seleccionado\",\"no_seleccionado\",\"no_seleccionado\",\"no_seleccionado\",\"no_seleccionado\",\"seleccionado\",\"no_seleccionado\",\"no_seleccionado\",\"no_seleccionado\",\"seleccionado\",\"no_seleccionado\",\"no_seleccionado\",\"no_seleccionado\",\"no_seleccionado\",\"no_seleccionado\",\"no_seleccionado\",\"no_seleccionado\",\"no_seleccionado\",\"no_seleccionado\",\"no_seleccionado\",\"no_seleccionado\",\"no_seleccionado\",\"no_seleccionado\",\"no_seleccionado\",\"no_seleccionado\",\"no_seleccionado\",\"no_seleccionado\",\"no_seleccionado\",\"no_seleccionado\",\"no_seleccionado\",\"no_seleccionado\",\"no_seleccionado\",\"no_seleccionado\",\"seleccionado\",\"no_seleccionado\",\"no_seleccionado\",\"no_seleccionado\",\"no_seleccionado\",\"no_seleccionado\",\"seleccionado\",\"no_seleccionado\",\"no_seleccionado\",\"no_seleccionado\",\"no_seleccionado\",\"no_seleccionado\",\"no_seleccionado\",\"no_seleccionado\",\"seleccionado\",\"no_seleccionado\",\"no_seleccionado\",\"no_seleccionado\",\"seleccionado\",\"no_seleccionado\",\"seleccionado\",\"no_seleccionado\",\"no_seleccionado\",\"no_seleccionado\",\"no_seleccionado\",\"no_seleccionado\",\"no_seleccionado\",\"no_seleccionado\",\"no_seleccionado\",\"no_seleccionado\",\"seleccionado\",\"seleccionado\",\"no_seleccionado\",\"no_seleccionado\",\"no_seleccionado\",\"no_seleccionado\",\"no_seleccionado\",\"no_seleccionado\",\"no_seleccionado\",\"no_seleccionado\",\"no_seleccionado\",\"seleccionado\",\"no_seleccionado\",\"no_seleccionado\",\"no_seleccionado\",\"no_seleccionado\",\"no_seleccionado\",\"no_seleccionado\",\"no_seleccionado\",\"seleccionado\",\"no_seleccionado\",\"no_seleccionado\",\"no_seleccionado\",\"no_seleccionado\",\"no_seleccionado\",\"no_seleccionado\",\"no_seleccionado\",\"no_seleccionado\",\"no_seleccionado\",\"no_seleccionado\",\"no_seleccionado\",\"no_seleccionado\",\"no_seleccionado\",\"no_seleccionado\",\"no_seleccionado\",\"seleccionado\",\"no_seleccionado\",\"no_seleccionado\",\"no_seleccionado\",\"no_seleccionado\",\"no_seleccionado\",\"no_seleccionado\",\"no_seleccionado\",\"no_seleccionado\",\"no_seleccionado\",\"no_seleccionado\",\"no_seleccionado\",\"no_seleccionado\",\"no_seleccionado\",\"no_seleccionado\",\"no_seleccionado\",\"no_seleccionado\",\"seleccionado\",\"no_seleccionado\",\"no_seleccionado\",\"seleccionado\",\"seleccionado\",\"no_seleccionado\",\"no_seleccionado\",\"no_seleccionado\",\"no_seleccionado\",\"no_seleccionado\",\"no_seleccionado\",\"no_seleccionado\",\"no_seleccionado\",\"seleccionado\",\"no_seleccionado\",\"no_seleccionado\",\"no_seleccionado\",\"no_seleccionado\",\"no_seleccionado\",\"no_seleccionado\",\"no_seleccionado\",\"no_seleccionado\",\"no_seleccionado\",\"no_seleccionado\",\"no_seleccionado\",\"no_seleccionado\",\"no_seleccionado\",\"no_seleccionado\",\"no_seleccionado\",\"no_seleccionado\",\"no_seleccionado\",\"no_seleccionado\",\"no_seleccionado\",\"no_seleccionado\",\"no_seleccionado\",\"no_seleccionado\",\"no_seleccionado\",\"seleccionado\",\"no_seleccionado\",\"seleccionado\",\"no_seleccionado\",\"no_seleccionado\",\"no_seleccionado\",\"no_seleccionado\",\"no_seleccionado\",\"no_seleccionado\",\"no_seleccionado\",\"no_seleccionado\",\"no_seleccionado\",\"no_seleccionado\",\"no_seleccionado\",\"no_seleccionado\",\"no_seleccionado\",\"no_seleccionado\",\"no_seleccionado\",\"no_seleccionado\",\"no_seleccionado\",\"no_seleccionado\",\"no_seleccionado\",\"no_seleccionado\",\"no_seleccionado\",\"no_seleccionado\",\"no_seleccionado\",\"no_seleccionado\",\"no_seleccionado\",\"no_seleccionado\",\"no_seleccionado\",\"no_seleccionado\",\"no_seleccionado\",\"no_seleccionado\",\"seleccionado\",\"no_seleccionado\",\"no_seleccionado\",\"no_seleccionado\",\"no_seleccionado\",\"no_seleccionado\",\"no_seleccionado\",\"seleccionado\",\"no_seleccionado\",\"no_seleccionado\",\"no_seleccionado\",\"no_seleccionado\",\"no_seleccionado\",\"no_seleccionado\",\"no_seleccionado\",\"no_seleccionado\",\"no_seleccionado\",\"no_seleccionado\",\"no_seleccionado\",\"no_seleccionado\",\"seleccionado\",\"no_seleccionado\",\"no_seleccionado\",\"no_seleccionado\",\"no_seleccionado\",\"no_seleccionado\",\"no_seleccionado\",\"no_seleccionado\",\"no_seleccionado\",\"no_seleccionado\",\"no_seleccionado\",\"no_seleccionado\",\"seleccionado\",\"no_seleccionado\",\"no_seleccionado\",\"no_seleccionado\",\"no_seleccionado\",\"no_seleccionado\",\"no_seleccionado\",\"no_seleccionado\",\"no_seleccionado\",\"no_seleccionado\",\"no_seleccionado\",\"no_seleccionado\",\"no_seleccionado\",\"no_seleccionado\",\"no_seleccionado\",\"no_seleccionado\",\"no_seleccionado\",\"no_seleccionado\",\"no_seleccionado\",\"no_seleccionado\",\"no_seleccionado\",\"no_seleccionado\",\"no_seleccionado\",\"no_seleccionado\",\"no_seleccionado\",\"no_seleccionado\",\"no_seleccionado\",\"no_seleccionado\",\"no_seleccionado\",\"seleccionado\",\"no_seleccionado\",\"no_seleccionado\",\"no_seleccionado\",\"no_seleccionado\",\"no_seleccionado\",\"no_seleccionado\",\"no_seleccionado\",\"no_seleccionado\",\"no_seleccionado\",\"no_seleccionado\",\"no_seleccionado\",\"no_seleccionado\",\"no_seleccionado\",\"no_seleccionado\",\"no_seleccionado\",\"no_seleccionado\",\"seleccionado\",\"no_seleccionado\",\"seleccionado\",\"no_seleccionado\",\"no_seleccionado\",\"no_seleccionado\",\"no_seleccionado\",\"no_seleccionado\",\"no_seleccionado\",\"no_seleccionado\",\"no_seleccionado\",\"no_seleccionado\",\"seleccionado\",\"no_seleccionado\",\"no_seleccionado\",\"seleccionado\",\"no_seleccionado\",\"no_seleccionado\",\"no_seleccionado\",\"no_seleccionado\",\"seleccionado\",\"seleccionado\",\"no_seleccionado\",\"no_seleccionado\",\"no_seleccionado\",\"no_seleccionado\",\"no_seleccionado\",\"no_seleccionado\",\"no_seleccionado\",\"no_seleccionado\",\"no_seleccionado\",\"no_seleccionado\",\"no_seleccionado\",\"no_seleccionado\",\"no_seleccionado\",\"no_seleccionado\",\"no_seleccionado\",\"no_seleccionado\",\"no_seleccionado\",\"no_seleccionado\",\"seleccionado\",\"no_seleccionado\",\"seleccionado\",\"seleccionado\",\"no_seleccionado\",\"no_seleccionado\",\"no_seleccionado\",\"no_seleccionado\",\"no_seleccionado\",\"no_seleccionado\",\"no_seleccionado\",\"no_seleccionado\",\"no_seleccionado\",\"no_seleccionado\",\"no_seleccionado\",\"no_seleccionado\",\"no_seleccionado\",\"no_seleccionado\",\"no_seleccionado\",\"no_seleccionado\",\"no_seleccionado\",\"seleccionado\",\"no_seleccionado\",\"no_seleccionado\",\"no_seleccionado\",\"no_seleccionado\",\"no_seleccionado\",\"no_seleccionado\",\"no_seleccionado\",\"no_seleccionado\",\"no_seleccionado\",\"no_seleccionado\",\"no_seleccionado\",\"no_seleccionado\",\"no_seleccionado\",\"no_seleccionado\",\"no_seleccionado\",\"seleccionado\",\"no_seleccionado\",\"no_seleccionado\",\"no_seleccionado\",\"no_seleccionado\",\"no_seleccionado\",\"no_seleccionado\",\"no_seleccionado\",\"no_seleccionado\",\"seleccionado\",\"no_seleccionado\",\"no_seleccionado\",\"no_seleccionado\",\"no_seleccionado\",\"no_seleccionado\",\"no_seleccionado\",\"no_seleccionado\",\"no_seleccionado\",\"no_seleccionado\",\"no_seleccionado\",\"no_seleccionado\",\"no_seleccionado\",\"no_seleccionado\",\"no_seleccionado\",\"no_seleccionado\",\"no_seleccionado\",\"no_seleccionado\",\"no_seleccionado\",\"no_seleccionado\",\"no_seleccionado\",\"no_seleccionado\",\"no_seleccionado\",\"no_seleccionado\",\"no_seleccionado\",\"no_seleccionado\",\"no_seleccionado\",\"no_seleccionado\",\"no_seleccionado\",\"no_seleccionado\",\"seleccionado\",\"no_seleccionado\",\"no_seleccionado\",\"seleccionado\",\"no_seleccionado\",\"no_seleccionado\",\"seleccionado\",\"no_seleccionado\",\"no_seleccionado\",\"no_seleccionado\",\"no_seleccionado\",\"no_seleccionado\",\"no_seleccionado\",\"no_seleccionado\",\"no_seleccionado\",\"no_seleccionado\",\"seleccionado\",\"no_seleccionado\",\"no_seleccionado\",\"no_seleccionado\",\"no_seleccionado\",\"no_seleccionado\",\"no_seleccionado\",\"no_seleccionado\",\"no_seleccionado\",\"no_seleccionado\",\"no_seleccionado\",\"no_seleccionado\",\"no_seleccionado\",\"no_seleccionado\",\"no_seleccionado\",\"no_seleccionado\",\"no_seleccionado\",\"no_seleccionado\",\"no_seleccionado\",\"no_seleccionado\",\"no_seleccionado\",\"no_seleccionado\",\"no_seleccionado\",\"no_seleccionado\",\"no_seleccionado\",\"no_seleccionado\",\"no_seleccionado\",\"no_seleccionado\",\"no_seleccionado\",\"no_seleccionado\",\"no_seleccionado\",\"no_seleccionado\",\"no_seleccionado\",\"no_seleccionado\",\"no_seleccionado\",\"no_seleccionado\",\"no_seleccionado\",\"no_seleccionado\",\"no_seleccionado\",\"no_seleccionado\",\"no_seleccionado\",\"no_seleccionado\",\"no_seleccionado\",\"no_seleccionado\",\"no_seleccionado\",\"no_seleccionado\",\"no_seleccionado\",\"no_seleccionado\",\"no_seleccionado\",\"no_seleccionado\",\"no_seleccionado\",\"no_seleccionado\",\"no_seleccionado\",\"no_seleccionado\",\"no_seleccionado\",\"no_seleccionado\",\"no_seleccionado\",\"no_seleccionado\",\"no_seleccionado\",\"no_seleccionado\",\"no_seleccionado\",\"no_seleccionado\",\"no_seleccionado\",\"no_seleccionado\",\"no_seleccionado\",\"no_seleccionado\",\"no_seleccionado\",\"no_seleccionado\",\"no_seleccionado\",\"no_seleccionado\",\"no_seleccionado\",\"no_seleccionado\",\"seleccionado\",\"no_seleccionado\",\"no_seleccionado\",\"no_seleccionado\",\"no_seleccionado\",\"no_seleccionado\",\"no_seleccionado\",\"no_seleccionado\",\"no_seleccionado\",\"no_seleccionado\",\"no_seleccionado\",\"no_seleccionado\",\"no_seleccionado\",\"seleccionado\",\"no_seleccionado\",\"seleccionado\",\"seleccionado\",\"seleccionado\",\"no_seleccionado\",\"no_seleccionado\",\"no_seleccionado\",\"no_seleccionado\",\"no_seleccionado\",\"no_seleccionado\",\"no_seleccionado\",\"no_seleccionado\",\"no_seleccionado\",\"no_seleccionado\",\"no_seleccionado\",\"no_seleccionado\",\"no_seleccionado\",\"no_seleccionado\",\"no_seleccionado\",\"no_seleccionado\",\"no_seleccionado\",\"seleccionado\",\"seleccionado\",\"no_seleccionado\",\"no_seleccionado\",\"no_seleccionado\",\"no_seleccionado\",\"no_seleccionado\",\"no_seleccionado\",\"no_seleccionado\",\"no_seleccionado\",\"no_seleccionado\",\"no_seleccionado\",\"seleccionado\",\"no_seleccionado\",\"no_seleccionado\",\"no_seleccionado\",\"no_seleccionado\",\"no_seleccionado\",\"no_seleccionado\",\"no_seleccionado\",\"no_seleccionado\",\"no_seleccionado\",\"no_seleccionado\",\"no_seleccionado\",\"no_seleccionado\",\"no_seleccionado\",\"no_seleccionado\",\"no_seleccionado\",\"no_seleccionado\",\"no_seleccionado\",\"no_seleccionado\",\"no_seleccionado\",\"no_seleccionado\",\"no_seleccionado\",\"no_seleccionado\",\"no_seleccionado\",\"no_seleccionado\",\"no_seleccionado\",\"no_seleccionado\",\"no_seleccionado\",\"no_seleccionado\",\"no_seleccionado\",\"no_seleccionado\",\"no_seleccionado\",\"no_seleccionado\",\"no_seleccionado\",\"no_seleccionado\",\"no_seleccionado\",\"no_seleccionado\",\"no_seleccionado\",\"no_seleccionado\",\"no_seleccionado\",\"no_seleccionado\",\"no_seleccionado\",\"no_seleccionado\",\"no_seleccionado\",\"no_seleccionado\",\"no_seleccionado\",\"no_seleccionado\",\"no_seleccionado\",\"seleccionado\",\"no_seleccionado\",\"no_seleccionado\",\"no_seleccionado\",\"no_seleccionado\",\"no_seleccionado\",\"no_seleccionado\",\"no_seleccionado\",\"no_seleccionado\",\"seleccionado\",\"seleccionado\",\"seleccionado\",\"no_seleccionado\",\"no_seleccionado\",\"no_seleccionado\",\"no_seleccionado\",\"no_seleccionado\",\"no_seleccionado\",\"no_seleccionado\",\"no_seleccionado\",\"no_seleccionado\",\"no_seleccionado\",\"no_seleccionado\",\"no_seleccionado\",\"no_seleccionado\",\"no_seleccionado\",\"no_seleccionado\",\"no_seleccionado\",\"no_seleccionado\",\"no_seleccionado\",\"no_seleccionado\",\"no_seleccionado\",\"no_seleccionado\",\"no_seleccionado\",\"no_seleccionado\",\"no_seleccionado\",\"no_seleccionado\",\"no_seleccionado\",\"no_seleccionado\",\"no_seleccionado\",\"no_seleccionado\",\"no_seleccionado\",\"no_seleccionado\",\"no_seleccionado\",\"no_seleccionado\",\"no_seleccionado\",\"no_seleccionado\",\"no_seleccionado\",\"no_seleccionado\",\"no_seleccionado\",\"no_seleccionado\",\"seleccionado\",\"no_seleccionado\",\"no_seleccionado\",\"no_seleccionado\",\"no_seleccionado\",\"no_seleccionado\",\"no_seleccionado\",\"no_seleccionado\",\"no_seleccionado\",\"no_seleccionado\",\"no_seleccionado\",\"no_seleccionado\",\"no_seleccionado\",\"no_seleccionado\",\"no_seleccionado\",\"seleccionado\",\"no_seleccionado\",\"no_seleccionado\",\"no_seleccionado\",\"no_seleccionado\",\"no_seleccionado\",\"no_seleccionado\",\"no_seleccionado\",\"no_seleccionado\",\"no_seleccionado\",\"no_seleccionado\",\"no_seleccionado\",\"no_seleccionado\",\"seleccionado\",\"no_seleccionado\",\"seleccionado\",\"no_seleccionado\",\"no_seleccionado\",\"no_seleccionado\",\"no_seleccionado\",\"no_seleccionado\",\"no_seleccionado\",\"no_seleccionado\",\"no_seleccionado\",\"no_seleccionado\",\"no_seleccionado\",\"seleccionado\",\"no_seleccionado\",\"no_seleccionado\",\"no_seleccionado\",\"no_seleccionado\",\"no_seleccionado\",\"no_seleccionado\",\"no_seleccionado\",\"no_seleccionado\",\"no_seleccionado\",\"no_seleccionado\",\"no_seleccionado\",\"no_seleccionado\",\"no_seleccionado\",\"seleccionado\",\"no_seleccionado\",\"no_seleccionado\",\"no_seleccionado\",\"no_seleccionado\",\"no_seleccionado\",\"no_seleccionado\",\"no_seleccionado\",\"no_seleccionado\",\"no_seleccionado\",\"no_seleccionado\",\"no_seleccionado\",\"no_seleccionado\",\"no_seleccionado\",\"no_seleccionado\",\"no_seleccionado\",\"no_seleccionado\",\"no_seleccionado\",\"no_seleccionado\",\"no_seleccionado\",\"no_seleccionado\",\"no_seleccionado\",\"no_seleccionado\",\"no_seleccionado\",\"no_seleccionado\",\"no_seleccionado\",\"no_seleccionado\",\"no_seleccionado\",\"no_seleccionado\",\"no_seleccionado\",\"no_seleccionado\",\"no_seleccionado\",\"no_seleccionado\",\"no_seleccionado\",\"no_seleccionado\",\"no_seleccionado\",\"no_seleccionado\",\"seleccionado\",\"no_seleccionado\",\"no_seleccionado\",\"no_seleccionado\",\"no_seleccionado\",\"no_seleccionado\",\"no_seleccionado\",\"no_seleccionado\",\"no_seleccionado\",\"no_seleccionado\",\"no_seleccionado\",\"no_seleccionado\",\"no_seleccionado\",\"no_seleccionado\",\"no_seleccionado\",\"no_seleccionado\",\"no_seleccionado\",\"no_seleccionado\",\"no_seleccionado\",\"no_seleccionado\",\"no_seleccionado\",\"no_seleccionado\",\"no_seleccionado\",\"no_seleccionado\",\"no_seleccionado\",\"no_seleccionado\",\"no_seleccionado\",\"no_seleccionado\",\"no_seleccionado\",\"no_seleccionado\",\"no_seleccionado\",\"no_seleccionado\",\"no_seleccionado\",\"no_seleccionado\",\"no_seleccionado\",\"no_seleccionado\",\"no_seleccionado\",\"no_seleccionado\",\"no_seleccionado\",\"no_seleccionado\",\"no_seleccionado\",\"no_seleccionado\",\"no_seleccionado\",\"seleccionado\",\"no_seleccionado\",\"no_seleccionado\",\"no_seleccionado\",\"no_seleccionado\",\"no_seleccionado\",\"seleccionado\",\"no_seleccionado\",\"no_seleccionado\",\"no_seleccionado\",\"no_seleccionado\",\"no_seleccionado\",\"no_seleccionado\",\"no_seleccionado\",\"no_seleccionado\",\"no_seleccionado\",\"no_seleccionado\",\"no_seleccionado\",\"no_seleccionado\",\"no_seleccionado\",\"no_seleccionado\",\"no_seleccionado\",\"no_seleccionado\",\"no_seleccionado\",\"no_seleccionado\",\"no_seleccionado\",\"seleccionado\",\"no_seleccionado\",\"no_seleccionado\",\"seleccionado\",\"no_seleccionado\",\"no_seleccionado\",\"no_seleccionado\",\"no_seleccionado\",\"seleccionado\",\"no_seleccionado\",\"no_seleccionado\",\"no_seleccionado\",\"no_seleccionado\",\"seleccionado\",\"no_seleccionado\",\"no_seleccionado\",\"no_seleccionado\",\"no_seleccionado\",\"no_seleccionado\",\"no_seleccionado\",\"no_seleccionado\",\"no_seleccionado\",\"no_seleccionado\",\"no_seleccionado\",\"no_seleccionado\",\"no_seleccionado\",\"no_seleccionado\",\"no_seleccionado\",\"no_seleccionado\",\"no_seleccionado\",\"no_seleccionado\",\"no_seleccionado\",\"no_seleccionado\",\"no_seleccionado\",\"no_seleccionado\",\"no_seleccionado\",\"no_seleccionado\",\"no_seleccionado\",\"seleccionado\",\"no_seleccionado\",\"no_seleccionado\",\"no_seleccionado\",\"no_seleccionado\",\"no_seleccionado\",\"no_seleccionado\",\"no_seleccionado\",\"seleccionado\",\"no_seleccionado\",\"no_seleccionado\",\"no_seleccionado\",\"no_seleccionado\",\"no_seleccionado\",\"no_seleccionado\",\"no_seleccionado\",\"no_seleccionado\",\"no_seleccionado\",\"no_seleccionado\",\"no_seleccionado\",\"no_seleccionado\",\"no_seleccionado\",\"no_seleccionado\",\"no_seleccionado\",\"no_seleccionado\",\"no_seleccionado\",\"no_seleccionado\",\"no_seleccionado\",\"no_seleccionado\",\"no_seleccionado\",\"no_seleccionado\",\"no_seleccionado\",\"no_seleccionado\",\"no_seleccionado\",\"no_seleccionado\",\"no_seleccionado\",\"no_seleccionado\",\"no_seleccionado\",\"no_seleccionado\",\"no_seleccionado\",\"no_seleccionado\",\"no_seleccionado\",\"no_seleccionado\",\"no_seleccionado\",\"no_seleccionado\",\"seleccionado\",\"no_seleccionado\",\"no_seleccionado\",\"no_seleccionado\",\"no_seleccionado\",\"no_seleccionado\",\"no_seleccionado\",\"no_seleccionado\",\"no_seleccionado\",\"no_seleccionado\",\"seleccionado\",\"no_seleccionado\",\"no_seleccionado\",\"no_seleccionado\",\"no_seleccionado\",\"no_seleccionado\",\"no_seleccionado\",\"no_seleccionado\",\"no_seleccionado\",\"no_seleccionado\",\"no_seleccionado\",\"no_seleccionado\",\"no_seleccionado\",\"no_seleccionado\",\"no_seleccionado\",\"no_seleccionado\",\"no_seleccionado\",\"no_seleccionado\",\"no_seleccionado\",\"no_seleccionado\",\"no_seleccionado\",\"no_seleccionado\",\"no_seleccionado\",\"seleccionado\",\"no_seleccionado\",\"seleccionado\",\"no_seleccionado\",\"no_seleccionado\",\"no_seleccionado\",\"seleccionado\",\"no_seleccionado\",\"no_seleccionado\",\"no_seleccionado\",\"no_seleccionado\",\"no_seleccionado\",\"seleccionado\",\"no_seleccionado\",\"no_seleccionado\",\"no_seleccionado\",\"no_seleccionado\",\"no_seleccionado\",\"no_seleccionado\",\"no_seleccionado\",\"no_seleccionado\",\"no_seleccionado\",\"no_seleccionado\",\"no_seleccionado\",\"seleccionado\",\"no_seleccionado\",\"seleccionado\",\"no_seleccionado\",\"no_seleccionado\",\"no_seleccionado\",\"no_seleccionado\",\"no_seleccionado\",\"no_seleccionado\",\"no_seleccionado\",\"no_seleccionado\",\"no_seleccionado\",\"no_seleccionado\",\"seleccionado\",\"no_seleccionado\",\"no_seleccionado\",\"no_seleccionado\",\"no_seleccionado\",\"no_seleccionado\",\"no_seleccionado\",\"seleccionado\",\"no_seleccionado\",\"no_seleccionado\",\"no_seleccionado\",\"no_seleccionado\",\"no_seleccionado\",\"no_seleccionado\",\"no_seleccionado\",\"no_seleccionado\",\"no_seleccionado\",\"no_seleccionado\",\"no_seleccionado\",\"no_seleccionado\",\"no_seleccionado\",\"no_seleccionado\",\"no_seleccionado\",\"no_seleccionado\",\"no_seleccionado\",\"no_seleccionado\",\"no_seleccionado\",\"no_seleccionado\",\"no_seleccionado\",\"no_seleccionado\",\"no_seleccionado\",\"no_seleccionado\",\"no_seleccionado\",\"no_seleccionado\",\"seleccionado\",\"no_seleccionado\",\"no_seleccionado\",\"no_seleccionado\",\"no_seleccionado\",\"no_seleccionado\",\"no_seleccionado\",\"no_seleccionado\",\"no_seleccionado\",\"seleccionado\",\"seleccionado\",\"no_seleccionado\",\"no_seleccionado\",\"no_seleccionado\",\"no_seleccionado\",\"no_seleccionado\",\"no_seleccionado\",\"no_seleccionado\",\"no_seleccionado\",\"no_seleccionado\",\"no_seleccionado\",\"no_seleccionado\",\"no_seleccionado\",\"no_seleccionado\",\"no_seleccionado\",\"no_seleccionado\",\"no_seleccionado\",\"no_seleccionado\",\"seleccionado\",\"no_seleccionado\",\"no_seleccionado\",\"no_seleccionado\",\"no_seleccionado\",\"no_seleccionado\",\"no_seleccionado\",\"no_seleccionado\",\"no_seleccionado\",\"no_seleccionado\",\"no_seleccionado\",\"no_seleccionado\",\"no_seleccionado\",\"no_seleccionado\",\"no_seleccionado\",\"no_seleccionado\",\"seleccionado\",\"no_seleccionado\",\"no_seleccionado\",\"seleccionado\",\"no_seleccionado\",\"no_seleccionado\",\"no_seleccionado\",\"no_seleccionado\",\"no_seleccionado\",\"no_seleccionado\",\"no_seleccionado\",\"no_seleccionado\",\"no_seleccionado\",\"no_seleccionado\",\"no_seleccionado\",\"no_seleccionado\",\"no_seleccionado\",\"seleccionado\",\"no_seleccionado\",\"no_seleccionado\",\"no_seleccionado\",\"no_seleccionado\",\"no_seleccionado\",\"no_seleccionado\",\"no_seleccionado\",\"no_seleccionado\",\"no_seleccionado\",\"no_seleccionado\",\"no_seleccionado\",\"no_seleccionado\",\"no_seleccionado\",\"no_seleccionado\",\"no_seleccionado\",\"no_seleccionado\",\"no_seleccionado\",\"no_seleccionado\",\"no_seleccionado\",\"seleccionado\",\"no_seleccionado\",\"no_seleccionado\",\"seleccionado\",\"no_seleccionado\",\"no_seleccionado\",\"seleccionado\",\"no_seleccionado\",\"no_seleccionado\",\"seleccionado\",\"no_seleccionado\",\"no_seleccionado\",\"no_seleccionado\",\"no_seleccionado\",\"no_seleccionado\",\"no_seleccionado\",\"no_seleccionado\",\"no_seleccionado\",\"no_seleccionado\",\"no_seleccionado\",\"no_seleccionado\",\"no_seleccionado\",\"no_seleccionado\",\"no_seleccionado\",\"no_seleccionado\",\"no_seleccionado\",\"no_seleccionado\",\"no_seleccionado\",\"no_seleccionado\",\"no_seleccionado\",\"no_seleccionado\",\"no_seleccionado\",\"no_seleccionado\",\"no_seleccionado\",\"no_seleccionado\",\"no_seleccionado\",\"no_seleccionado\",\"no_seleccionado\",\"no_seleccionado\",\"no_seleccionado\",\"no_seleccionado\",\"no_seleccionado\",\"no_seleccionado\",\"no_seleccionado\",\"no_seleccionado\",\"no_seleccionado\",\"no_seleccionado\",\"seleccionado\",\"no_seleccionado\",\"seleccionado\",\"no_seleccionado\",\"no_seleccionado\",\"no_seleccionado\",\"no_seleccionado\",\"seleccionado\",\"no_seleccionado\",\"no_seleccionado\",\"no_seleccionado\",\"no_seleccionado\",\"no_seleccionado\",\"no_seleccionado\",\"seleccionado\",\"no_seleccionado\",\"no_seleccionado\",\"no_seleccionado\",\"no_seleccionado\",\"no_seleccionado\",\"no_seleccionado\",\"no_seleccionado\",\"no_seleccionado\",\"no_seleccionado\",\"no_seleccionado\",\"no_seleccionado\",\"no_seleccionado\",\"no_seleccionado\",\"no_seleccionado\",\"no_seleccionado\",\"no_seleccionado\",\"no_seleccionado\",\"no_seleccionado\",\"seleccionado\",\"no_seleccionado\",\"no_seleccionado\",\"no_seleccionado\",\"no_seleccionado\",\"no_seleccionado\",\"no_seleccionado\",\"no_seleccionado\",\"seleccionado\",\"no_seleccionado\",\"no_seleccionado\",\"no_seleccionado\",\"no_seleccionado\",\"no_seleccionado\",\"no_seleccionado\",\"no_seleccionado\",\"no_seleccionado\",\"no_seleccionado\",\"no_seleccionado\",\"no_seleccionado\",\"no_seleccionado\",\"no_seleccionado\",\"no_seleccionado\",\"no_seleccionado\",\"no_seleccionado\",\"no_seleccionado\",\"no_seleccionado\",\"no_seleccionado\",\"no_seleccionado\",\"no_seleccionado\",\"no_seleccionado\",\"no_seleccionado\",\"no_seleccionado\",\"no_seleccionado\",\"no_seleccionado\",\"no_seleccionado\",\"no_seleccionado\",\"no_seleccionado\",\"no_seleccionado\",\"no_seleccionado\",\"no_seleccionado\",\"no_seleccionado\",\"no_seleccionado\",\"seleccionado\",\"no_seleccionado\",\"no_seleccionado\",\"no_seleccionado\",\"no_seleccionado\",\"no_seleccionado\",\"no_seleccionado\",\"no_seleccionado\",\"no_seleccionado\",\"no_seleccionado\",\"no_seleccionado\",\"no_seleccionado\",\"no_seleccionado\",\"no_seleccionado\",\"no_seleccionado\",\"no_seleccionado\",\"no_seleccionado\",\"no_seleccionado\",\"no_seleccionado\",\"no_seleccionado\",\"seleccionado\",\"no_seleccionado\",\"no_seleccionado\",\"no_seleccionado\",\"no_seleccionado\",\"no_seleccionado\",\"no_seleccionado\",\"no_seleccionado\",\"no_seleccionado\",\"no_seleccionado\",\"no_seleccionado\",\"no_seleccionado\",\"no_seleccionado\",\"no_seleccionado\",\"seleccionado\",\"no_seleccionado\",\"no_seleccionado\",\"no_seleccionado\",\"no_seleccionado\",\"no_seleccionado\",\"no_seleccionado\",\"no_seleccionado\",\"no_seleccionado\",\"no_seleccionado\",\"no_seleccionado\",\"no_seleccionado\",\"no_seleccionado\",\"no_seleccionado\",\"no_seleccionado\",\"no_seleccionado\",\"no_seleccionado\",\"no_seleccionado\",\"no_seleccionado\",\"no_seleccionado\",\"no_seleccionado\",\"no_seleccionado\",\"no_seleccionado\",\"no_seleccionado\",\"no_seleccionado\",\"no_seleccionado\",\"no_seleccionado\",\"no_seleccionado\",\"no_seleccionado\",\"no_seleccionado\",\"no_seleccionado\",\"no_seleccionado\",\"seleccionado\",\"no_seleccionado\",\"no_seleccionado\",\"no_seleccionado\",\"no_seleccionado\",\"no_seleccionado\",\"no_seleccionado\",\"seleccionado\",\"no_seleccionado\",\"no_seleccionado\",\"no_seleccionado\",\"seleccionado\",\"seleccionado\",\"seleccionado\",\"no_seleccionado\",\"seleccionado\",\"no_seleccionado\",\"no_seleccionado\",\"no_seleccionado\",\"no_seleccionado\",\"no_seleccionado\",\"no_seleccionado\",\"no_seleccionado\",\"no_seleccionado\",\"no_seleccionado\",\"no_seleccionado\",\"no_seleccionado\",\"no_seleccionado\",\"no_seleccionado\",\"no_seleccionado\",\"no_seleccionado\",\"no_seleccionado\",\"no_seleccionado\",\"no_seleccionado\",\"no_seleccionado\",\"no_seleccionado\",\"no_seleccionado\",\"no_seleccionado\",\"no_seleccionado\",\"no_seleccionado\",\"no_seleccionado\",\"no_seleccionado\",\"no_seleccionado\",\"no_seleccionado\",\"no_seleccionado\",\"no_seleccionado\",\"no_seleccionado\",\"no_seleccionado\",\"no_seleccionado\",\"no_seleccionado\",\"no_seleccionado\",\"no_seleccionado\",\"no_seleccionado\",\"no_seleccionado\",\"no_seleccionado\",\"no_seleccionado\",\"no_seleccionado\",\"no_seleccionado\",\"no_seleccionado\",\"no_seleccionado\",\"no_seleccionado\",\"no_seleccionado\",\"seleccionado\",\"no_seleccionado\",\"no_seleccionado\",\"no_seleccionado\",\"no_seleccionado\",\"no_seleccionado\",\"no_seleccionado\",\"no_seleccionado\",\"no_seleccionado\",\"no_seleccionado\",\"no_seleccionado\",\"no_seleccionado\",\"no_seleccionado\",\"no_seleccionado\",\"no_seleccionado\",\"no_seleccionado\",\"no_seleccionado\",\"no_seleccionado\",\"no_seleccionado\",\"no_seleccionado\",\"no_seleccionado\",\"no_seleccionado\",\"no_seleccionado\",\"no_seleccionado\",\"no_seleccionado\",\"no_seleccionado\",\"no_seleccionado\",\"no_seleccionado\",\"no_seleccionado\",\"no_seleccionado\",\"no_seleccionado\",\"no_seleccionado\",\"no_seleccionado\",\"no_seleccionado\",\"seleccionado\",\"no_seleccionado\",\"seleccionado\",\"no_seleccionado\",\"no_seleccionado\",\"no_seleccionado\",\"no_seleccionado\",\"no_seleccionado\",\"no_seleccionado\",\"no_seleccionado\",\"no_seleccionado\",\"no_seleccionado\",\"no_seleccionado\",\"no_seleccionado\",\"no_seleccionado\",\"no_seleccionado\",\"no_seleccionado\",\"no_seleccionado\",\"no_seleccionado\",\"seleccionado\",\"no_seleccionado\",\"no_seleccionado\",\"no_seleccionado\",\"no_seleccionado\",\"no_seleccionado\",\"no_seleccionado\",\"no_seleccionado\",\"no_seleccionado\",\"no_seleccionado\",\"no_seleccionado\",\"no_seleccionado\",\"no_seleccionado\",\"no_seleccionado\",\"no_seleccionado\",\"no_seleccionado\",\"no_seleccionado\",\"no_seleccionado\",\"seleccionado\",\"no_seleccionado\",\"no_seleccionado\",\"no_seleccionado\",\"no_seleccionado\",\"no_seleccionado\",\"no_seleccionado\",\"no_seleccionado\",\"seleccionado\",\"no_seleccionado\",\"no_seleccionado\",\"no_seleccionado\",\"seleccionado\",\"seleccionado\",\"no_seleccionado\",\"no_seleccionado\",\"no_seleccionado\",\"no_seleccionado\",\"no_seleccionado\",\"no_seleccionado\",\"no_seleccionado\",\"no_seleccionado\",\"no_seleccionado\",\"no_seleccionado\",\"no_seleccionado\",\"no_seleccionado\",\"no_seleccionado\",\"no_seleccionado\",\"no_seleccionado\",\"no_seleccionado\",\"no_seleccionado\",\"no_seleccionado\",\"no_seleccionado\",\"no_seleccionado\",\"no_seleccionado\",\"no_seleccionado\",\"no_seleccionado\",\"no_seleccionado\",\"no_seleccionado\",\"no_seleccionado\",\"no_seleccionado\",\"seleccionado\",\"no_seleccionado\",\"no_seleccionado\",\"no_seleccionado\",\"no_seleccionado\",\"no_seleccionado\",\"no_seleccionado\",\"no_seleccionado\",\"no_seleccionado\",\"seleccionado\",\"seleccionado\",\"no_seleccionado\",\"no_seleccionado\",\"no_seleccionado\",\"no_seleccionado\",\"no_seleccionado\",\"no_seleccionado\",\"no_seleccionado\",\"no_seleccionado\",\"no_seleccionado\",\"no_seleccionado\",\"no_seleccionado\",\"no_seleccionado\",\"no_seleccionado\",\"no_seleccionado\",\"no_seleccionado\",\"no_seleccionado\",\"no_seleccionado\",\"no_seleccionado\",\"no_seleccionado\",\"no_seleccionado\",\"seleccionado\",\"no_seleccionado\",\"seleccionado\",\"no_seleccionado\",\"no_seleccionado\",\"no_seleccionado\",\"no_seleccionado\",\"no_seleccionado\",\"no_seleccionado\",\"no_seleccionado\",\"no_seleccionado\",\"no_seleccionado\",\"no_seleccionado\",\"no_seleccionado\",\"no_seleccionado\",\"no_seleccionado\",\"no_seleccionado\",\"seleccionado\",\"no_seleccionado\",\"no_seleccionado\",\"no_seleccionado\",\"no_seleccionado\",\"no_seleccionado\",\"no_seleccionado\",\"no_seleccionado\",\"no_seleccionado\",\"no_seleccionado\",\"no_seleccionado\",\"seleccionado\",\"no_seleccionado\",\"no_seleccionado\",\"no_seleccionado\",\"no_seleccionado\",\"no_seleccionado\",\"no_seleccionado\",\"no_seleccionado\",\"no_seleccionado\",\"no_seleccionado\",\"no_seleccionado\",\"no_seleccionado\",\"no_seleccionado\",\"no_seleccionado\",\"no_seleccionado\",\"no_seleccionado\",\"no_seleccionado\",\"no_seleccionado\",\"no_seleccionado\",\"no_seleccionado\",\"no_seleccionado\",\"no_seleccionado\",\"no_seleccionado\",\"no_seleccionado\",\"no_seleccionado\",\"no_seleccionado\",\"no_seleccionado\",\"no_seleccionado\",\"no_seleccionado\",\"no_seleccionado\",\"no_seleccionado\",\"no_seleccionado\",\"no_seleccionado\",\"no_seleccionado\",\"no_seleccionado\",\"no_seleccionado\",\"no_seleccionado\",\"no_seleccionado\",\"no_seleccionado\",\"no_seleccionado\",\"no_seleccionado\",\"no_seleccionado\",\"no_seleccionado\",\"no_seleccionado\",\"no_seleccionado\",\"no_seleccionado\",\"no_seleccionado\",\"no_seleccionado\",\"no_seleccionado\",\"no_seleccionado\",\"no_seleccionado\",\"no_seleccionado\",\"no_seleccionado\",\"no_seleccionado\",\"no_seleccionado\",\"no_seleccionado\",\"no_seleccionado\",\"no_seleccionado\",\"no_seleccionado\",\"no_seleccionado\",\"no_seleccionado\",\"no_seleccionado\",\"no_seleccionado\",\"seleccionado\",\"no_seleccionado\",\"seleccionado\",\"no_seleccionado\",\"no_seleccionado\",\"no_seleccionado\",\"no_seleccionado\",\"no_seleccionado\",\"no_seleccionado\",\"no_seleccionado\",\"no_seleccionado\",\"no_seleccionado\",\"no_seleccionado\",\"no_seleccionado\",\"no_seleccionado\",\"no_seleccionado\",\"no_seleccionado\",\"no_seleccionado\",\"no_seleccionado\",\"no_seleccionado\",\"no_seleccionado\",\"no_seleccionado\",\"no_seleccionado\",\"no_seleccionado\",\"no_seleccionado\",\"no_seleccionado\",\"no_seleccionado\",\"no_seleccionado\",\"no_seleccionado\",\"no_seleccionado\",\"no_seleccionado\",\"no_seleccionado\",\"seleccionado\",\"no_seleccionado\",\"no_seleccionado\",\"no_seleccionado\",\"no_seleccionado\",\"no_seleccionado\",\"no_seleccionado\",\"no_seleccionado\",\"no_seleccionado\",\"no_seleccionado\",\"no_seleccionado\",\"no_seleccionado\",\"no_seleccionado\",\"no_seleccionado\",\"no_seleccionado\",\"no_seleccionado\",\"no_seleccionado\",\"no_seleccionado\",\"no_seleccionado\",\"seleccionado\",\"no_seleccionado\",\"no_seleccionado\",\"no_seleccionado\",\"no_seleccionado\",\"no_seleccionado\",\"no_seleccionado\",\"no_seleccionado\",\"no_seleccionado\",\"no_seleccionado\",\"no_seleccionado\",\"no_seleccionado\",\"no_seleccionado\",\"no_seleccionado\",\"no_seleccionado\",\"no_seleccionado\",\"no_seleccionado\",\"no_seleccionado\",\"seleccionado\",\"no_seleccionado\",\"no_seleccionado\",\"no_seleccionado\",\"no_seleccionado\",\"no_seleccionado\",\"no_seleccionado\",\"no_seleccionado\",\"no_seleccionado\",\"no_seleccionado\",\"no_seleccionado\",\"no_seleccionado\",\"no_seleccionado\",\"no_seleccionado\",\"no_seleccionado\",\"seleccionado\",\"no_seleccionado\",\"no_seleccionado\",\"no_seleccionado\",\"seleccionado\",\"no_seleccionado\",\"no_seleccionado\",\"no_seleccionado\",\"no_seleccionado\",\"no_seleccionado\",\"no_seleccionado\",\"no_seleccionado\",\"no_seleccionado\",\"no_seleccionado\",\"no_seleccionado\",\"seleccionado\",\"no_seleccionado\",\"no_seleccionado\",\"no_seleccionado\",\"no_seleccionado\",\"no_seleccionado\",\"no_seleccionado\",\"no_seleccionado\",\"no_seleccionado\",\"seleccionado\",\"no_seleccionado\",\"no_seleccionado\",\"no_seleccionado\",\"seleccionado\",\"no_seleccionado\",\"seleccionado\",\"no_seleccionado\",\"no_seleccionado\",\"no_seleccionado\",\"no_seleccionado\",\"no_seleccionado\",\"no_seleccionado\",\"no_seleccionado\",\"no_seleccionado\",\"no_seleccionado\",\"no_seleccionado\",\"no_seleccionado\",\"no_seleccionado\",\"no_seleccionado\",\"no_seleccionado\",\"no_seleccionado\",\"no_seleccionado\",\"no_seleccionado\",\"no_seleccionado\",\"no_seleccionado\",\"no_seleccionado\",\"no_seleccionado\",\"no_seleccionado\",\"no_seleccionado\",\"no_seleccionado\",\"no_seleccionado\",\"no_seleccionado\",\"no_seleccionado\",\"no_seleccionado\",\"no_seleccionado\",\"no_seleccionado\",\"no_seleccionado\",\"no_seleccionado\",\"no_seleccionado\",\"no_seleccionado\",\"no_seleccionado\",\"seleccionado\",\"no_seleccionado\",\"no_seleccionado\",\"no_seleccionado\",\"no_seleccionado\",\"seleccionado\",\"no_seleccionado\",\"no_seleccionado\",\"no_seleccionado\",\"no_seleccionado\",\"no_seleccionado\",\"seleccionado\",\"no_seleccionado\",\"no_seleccionado\",\"no_seleccionado\",\"no_seleccionado\",\"no_seleccionado\",\"no_seleccionado\",\"no_seleccionado\",\"seleccionado\",\"no_seleccionado\",\"no_seleccionado\",\"no_seleccionado\",\"no_seleccionado\",\"no_seleccionado\",\"no_seleccionado\",\"no_seleccionado\",\"no_seleccionado\",\"no_seleccionado\",\"no_seleccionado\",\"no_seleccionado\",\"no_seleccionado\",\"seleccionado\",\"no_seleccionado\",\"no_seleccionado\",\"seleccionado\",\"no_seleccionado\",\"no_seleccionado\",\"no_seleccionado\",\"no_seleccionado\",\"no_seleccionado\",\"no_seleccionado\",\"no_seleccionado\",\"no_seleccionado\",\"no_seleccionado\",\"no_seleccionado\",\"no_seleccionado\",\"no_seleccionado\",\"no_seleccionado\",\"no_seleccionado\",\"no_seleccionado\",\"no_seleccionado\",\"no_seleccionado\",\"no_seleccionado\",\"no_seleccionado\",\"no_seleccionado\",\"no_seleccionado\",\"no_seleccionado\",\"no_seleccionado\",\"no_seleccionado\",\"no_seleccionado\",\"no_seleccionado\",\"no_seleccionado\",\"no_seleccionado\",\"no_seleccionado\",\"no_seleccionado\",\"no_seleccionado\",\"no_seleccionado\",\"no_seleccionado\",\"no_seleccionado\",\"no_seleccionado\",\"no_seleccionado\",\"no_seleccionado\",\"no_seleccionado\",\"no_seleccionado\",\"no_seleccionado\",\"no_seleccionado\",\"no_seleccionado\",\"no_seleccionado\",\"no_seleccionado\",\"no_seleccionado\",\"no_seleccionado\",\"no_seleccionado\",\"no_seleccionado\",\"no_seleccionado\",\"no_seleccionado\",\"no_seleccionado\",\"no_seleccionado\",\"no_seleccionado\",\"no_seleccionado\",\"no_seleccionado\",\"no_seleccionado\",\"no_seleccionado\",\"no_seleccionado\",\"no_seleccionado\",\"no_seleccionado\",\"no_seleccionado\",\"seleccionado\",\"no_seleccionado\",\"no_seleccionado\",\"no_seleccionado\",\"no_seleccionado\",\"no_seleccionado\",\"no_seleccionado\",\"no_seleccionado\",\"no_seleccionado\",\"no_seleccionado\",\"no_seleccionado\",\"no_seleccionado\",\"no_seleccionado\",\"no_seleccionado\",\"no_seleccionado\",\"no_seleccionado\",\"no_seleccionado\",\"no_seleccionado\",\"no_seleccionado\",\"no_seleccionado\",\"no_seleccionado\",\"no_seleccionado\",\"no_seleccionado\",\"no_seleccionado\",\"no_seleccionado\",\"no_seleccionado\",\"no_seleccionado\",\"no_seleccionado\",\"no_seleccionado\",\"no_seleccionado\",\"no_seleccionado\",\"no_seleccionado\",\"no_seleccionado\",\"no_seleccionado\",\"no_seleccionado\",\"no_seleccionado\",\"no_seleccionado\",\"no_seleccionado\",\"no_seleccionado\",\"seleccionado\",\"no_seleccionado\",\"no_seleccionado\",\"no_seleccionado\",\"no_seleccionado\",\"no_seleccionado\",\"no_seleccionado\",\"no_seleccionado\",\"no_seleccionado\",\"no_seleccionado\",\"no_seleccionado\",\"no_seleccionado\",\"no_seleccionado\",\"no_seleccionado\",\"no_seleccionado\",\"no_seleccionado\",\"no_seleccionado\",\"no_seleccionado\",\"no_seleccionado\",\"no_seleccionado\",\"no_seleccionado\",\"no_seleccionado\",\"no_seleccionado\",\"no_seleccionado\",\"no_seleccionado\",\"no_seleccionado\",\"no_seleccionado\",\"no_seleccionado\",\"no_seleccionado\",\"no_seleccionado\",\"no_seleccionado\",\"no_seleccionado\",\"no_seleccionado\",\"no_seleccionado\",\"no_seleccionado\",\"no_seleccionado\",\"no_seleccionado\",\"no_seleccionado\",\"no_seleccionado\",\"no_seleccionado\",\"no_seleccionado\",\"no_seleccionado\",\"seleccionado\",\"seleccionado\",\"no_seleccionado\",\"no_seleccionado\",\"no_seleccionado\",\"no_seleccionado\",\"no_seleccionado\",\"no_seleccionado\",\"seleccionado\",\"no_seleccionado\",\"no_seleccionado\",\"no_seleccionado\",\"no_seleccionado\",\"no_seleccionado\",\"no_seleccionado\",\"no_seleccionado\",\"no_seleccionado\",\"no_seleccionado\",\"no_seleccionado\",\"no_seleccionado\",\"no_seleccionado\",\"no_seleccionado\",\"no_seleccionado\",\"no_seleccionado\",\"no_seleccionado\",\"no_seleccionado\",\"no_seleccionado\",\"no_seleccionado\",\"no_seleccionado\",\"no_seleccionado\",\"no_seleccionado\",\"no_seleccionado\",\"no_seleccionado\",\"no_seleccionado\",\"no_seleccionado\",\"no_seleccionado\",\"no_seleccionado\",\"no_seleccionado\",\"no_seleccionado\",\"no_seleccionado\",\"no_seleccionado\",\"no_seleccionado\",\"no_seleccionado\",\"no_seleccionado\",\"no_seleccionado\",\"no_seleccionado\",\"no_seleccionado\",\"no_seleccionado\",\"no_seleccionado\",\"no_seleccionado\",\"no_seleccionado\",\"no_seleccionado\",\"no_seleccionado\",\"no_seleccionado\",\"no_seleccionado\",\"no_seleccionado\",\"no_seleccionado\",\"no_seleccionado\",\"no_seleccionado\",\"no_seleccionado\",\"no_seleccionado\",\"no_seleccionado\",\"no_seleccionado\",\"no_seleccionado\",\"no_seleccionado\",\"no_seleccionado\",\"no_seleccionado\",\"no_seleccionado\",\"no_seleccionado\",\"no_seleccionado\",\"no_seleccionado\",\"no_seleccionado\",\"no_seleccionado\",\"no_seleccionado\",\"no_seleccionado\",\"no_seleccionado\",\"no_seleccionado\",\"no_seleccionado\",\"no_seleccionado\",\"no_seleccionado\",\"no_seleccionado\",\"no_seleccionado\",\"no_seleccionado\",\"no_seleccionado\",\"no_seleccionado\",\"no_seleccionado\",\"no_seleccionado\",\"no_seleccionado\",\"no_seleccionado\",\"no_seleccionado\",\"no_seleccionado\",\"seleccionado\",\"no_seleccionado\",\"no_seleccionado\",\"no_seleccionado\",\"no_seleccionado\",\"no_seleccionado\",\"no_seleccionado\",\"no_seleccionado\",\"no_seleccionado\",\"seleccionado\",\"no_seleccionado\",\"no_seleccionado\",\"no_seleccionado\",\"no_seleccionado\",\"no_seleccionado\",\"no_seleccionado\",\"no_seleccionado\",\"no_seleccionado\",\"no_seleccionado\",\"seleccionado\",\"no_seleccionado\",\"no_seleccionado\",\"no_seleccionado\",\"no_seleccionado\",\"no_seleccionado\",\"no_seleccionado\",\"no_seleccionado\",\"no_seleccionado\",\"no_seleccionado\",\"no_seleccionado\",\"no_seleccionado\",\"no_seleccionado\",\"seleccionado\",\"no_seleccionado\",\"no_seleccionado\",\"no_seleccionado\",\"no_seleccionado\",\"no_seleccionado\",\"no_seleccionado\",\"no_seleccionado\",\"no_seleccionado\",\"no_seleccionado\",\"no_seleccionado\",\"no_seleccionado\",\"no_seleccionado\",\"no_seleccionado\",\"no_seleccionado\",\"no_seleccionado\",\"no_seleccionado\",\"no_seleccionado\",\"no_seleccionado\",\"seleccionado\",\"no_seleccionado\",\"no_seleccionado\",\"no_seleccionado\",\"no_seleccionado\",\"no_seleccionado\",\"no_seleccionado\",\"seleccionado\",\"no_seleccionado\",\"no_seleccionado\",\"no_seleccionado\",\"no_seleccionado\",\"no_seleccionado\",\"no_seleccionado\",\"no_seleccionado\",\"seleccionado\",\"no_seleccionado\",\"no_seleccionado\",\"no_seleccionado\",\"no_seleccionado\",\"no_seleccionado\",\"no_seleccionado\",\"no_seleccionado\",\"no_seleccionado\",\"no_seleccionado\",\"no_seleccionado\",\"no_seleccionado\",\"no_seleccionado\",\"no_seleccionado\",\"no_seleccionado\",\"no_seleccionado\",\"no_seleccionado\",\"no_seleccionado\",\"no_seleccionado\",\"no_seleccionado\",\"no_seleccionado\",\"no_seleccionado\",\"no_seleccionado\",\"no_seleccionado\",\"no_seleccionado\",\"no_seleccionado\",\"no_seleccionado\",\"no_seleccionado\",\"no_seleccionado\",\"no_seleccionado\",\"no_seleccionado\",\"no_seleccionado\",\"no_seleccionado\",\"no_seleccionado\",\"no_seleccionado\",\"no_seleccionado\",\"no_seleccionado\",\"no_seleccionado\",\"no_seleccionado\",\"no_seleccionado\",\"no_seleccionado\",\"no_seleccionado\",\"no_seleccionado\",\"no_seleccionado\",\"no_seleccionado\",\"no_seleccionado\",\"no_seleccionado\",\"no_seleccionado\",\"no_seleccionado\",\"no_seleccionado\",\"no_seleccionado\",\"no_seleccionado\",\"no_seleccionado\",\"no_seleccionado\",\"no_seleccionado\",\"no_seleccionado\",\"no_seleccionado\",\"no_seleccionado\",\"no_seleccionado\",\"no_seleccionado\",\"no_seleccionado\",\"no_seleccionado\",\"no_seleccionado\",\"no_seleccionado\",\"no_seleccionado\",\"no_seleccionado\",\"no_seleccionado\",\"no_seleccionado\",\"no_seleccionado\",\"no_seleccionado\",\"no_seleccionado\",\"no_seleccionado\",\"seleccionado\",\"no_seleccionado\",\"no_seleccionado\",\"no_seleccionado\",\"no_seleccionado\",\"no_seleccionado\",\"no_seleccionado\",\"no_seleccionado\",\"no_seleccionado\",\"no_seleccionado\",\"no_seleccionado\",\"no_seleccionado\",\"no_seleccionado\",\"no_seleccionado\",\"no_seleccionado\",\"no_seleccionado\",\"no_seleccionado\",\"no_seleccionado\",\"no_seleccionado\",\"no_seleccionado\",\"no_seleccionado\",\"no_seleccionado\",\"no_seleccionado\",\"no_seleccionado\",\"no_seleccionado\",\"no_seleccionado\",\"no_seleccionado\",\"no_seleccionado\",\"no_seleccionado\",\"no_seleccionado\",\"no_seleccionado\",\"no_seleccionado\",\"no_seleccionado\",\"no_seleccionado\",\"no_seleccionado\",\"no_seleccionado\",\"no_seleccionado\",\"no_seleccionado\",\"no_seleccionado\",\"no_seleccionado\",\"no_seleccionado\",\"no_seleccionado\",\"no_seleccionado\",\"no_seleccionado\",\"no_seleccionado\",\"no_seleccionado\",\"no_seleccionado\",\"no_seleccionado\",\"no_seleccionado\",\"no_seleccionado\",\"no_seleccionado\",\"no_seleccionado\",\"no_seleccionado\",\"no_seleccionado\",\"no_seleccionado\",\"no_seleccionado\",\"no_seleccionado\",\"no_seleccionado\",\"no_seleccionado\",\"no_seleccionado\",\"no_seleccionado\",\"no_seleccionado\",\"no_seleccionado\",\"no_seleccionado\",\"no_seleccionado\",\"no_seleccionado\",\"no_seleccionado\",\"no_seleccionado\",\"no_seleccionado\",\"seleccionado\",\"no_seleccionado\",\"no_seleccionado\",\"no_seleccionado\",\"no_seleccionado\",\"no_seleccionado\",\"no_seleccionado\",\"no_seleccionado\",\"no_seleccionado\",\"no_seleccionado\",\"no_seleccionado\",\"no_seleccionado\",\"no_seleccionado\",\"no_seleccionado\",\"no_seleccionado\",\"no_seleccionado\",\"no_seleccionado\",\"no_seleccionado\",\"no_seleccionado\",\"no_seleccionado\",\"no_seleccionado\",\"no_seleccionado\",\"no_seleccionado\",\"no_seleccionado\",\"no_seleccionado\",\"no_seleccionado\",\"no_seleccionado\",\"no_seleccionado\",\"no_seleccionado\",\"no_seleccionado\",\"no_seleccionado\",\"no_seleccionado\",\"no_seleccionado\",\"no_seleccionado\",\"no_seleccionado\",\"no_seleccionado\",\"no_seleccionado\",\"no_seleccionado\",\"no_seleccionado\",\"no_seleccionado\",\"no_seleccionado\",\"no_seleccionado\",\"no_seleccionado\",\"no_seleccionado\",\"no_seleccionado\",\"no_seleccionado\",\"no_seleccionado\",\"no_seleccionado\",\"no_seleccionado\",\"seleccionado\",\"no_seleccionado\",\"no_seleccionado\",\"no_seleccionado\",\"no_seleccionado\",\"no_seleccionado\",\"no_seleccionado\",\"no_seleccionado\",\"no_seleccionado\",\"no_seleccionado\",\"no_seleccionado\",\"no_seleccionado\",\"no_seleccionado\",\"no_seleccionado\",\"no_seleccionado\",\"no_seleccionado\",\"no_seleccionado\",\"no_seleccionado\",\"no_seleccionado\",\"no_seleccionado\",\"no_seleccionado\",\"no_seleccionado\",\"no_seleccionado\",\"no_seleccionado\",\"no_seleccionado\",\"no_seleccionado\",\"no_seleccionado\",\"no_seleccionado\",\"no_seleccionado\",\"no_seleccionado\",\"no_seleccionado\",\"no_seleccionado\",\"no_seleccionado\",\"no_seleccionado\",\"no_seleccionado\",\"no_seleccionado\",\"no_seleccionado\",\"no_seleccionado\",\"no_seleccionado\",\"no_seleccionado\",\"no_seleccionado\",\"no_seleccionado\",\"no_seleccionado\",\"no_seleccionado\",\"no_seleccionado\",\"no_seleccionado\",\"no_seleccionado\",\"no_seleccionado\",\"no_seleccionado\",\"no_seleccionado\",\"no_seleccionado\",\"no_seleccionado\",\"no_seleccionado\",\"no_seleccionado\",\"no_seleccionado\",\"no_seleccionado\",\"no_seleccionado\",\"no_seleccionado\",\"no_seleccionado\",\"no_seleccionado\",\"no_seleccionado\",\"no_seleccionado\",\"no_seleccionado\",\"no_seleccionado\",\"no_seleccionado\",\"no_seleccionado\",\"no_seleccionado\",\"no_seleccionado\",\"no_seleccionado\",\"seleccionado\",\"no_seleccionado\",\"no_seleccionado\",\"no_seleccionado\",\"no_seleccionado\",\"no_seleccionado\",\"no_seleccionado\",\"no_seleccionado\",\"no_seleccionado\",\"no_seleccionado\",\"no_seleccionado\",\"seleccionado\",\"no_seleccionado\",\"no_seleccionado\",\"no_seleccionado\",\"no_seleccionado\",\"no_seleccionado\",\"no_seleccionado\",\"no_seleccionado\",\"no_seleccionado\",\"no_seleccionado\",\"no_seleccionado\",\"no_seleccionado\",\"no_seleccionado\",\"no_seleccionado\",\"no_seleccionado\",\"no_seleccionado\",\"no_seleccionado\",\"no_seleccionado\",\"no_seleccionado\",\"no_seleccionado\",\"no_seleccionado\",\"no_seleccionado\",\"seleccionado\",\"no_seleccionado\",\"no_seleccionado\",\"no_seleccionado\",\"no_seleccionado\",\"no_seleccionado\",\"seleccionado\",\"no_seleccionado\",\"no_seleccionado\",\"no_seleccionado\",\"no_seleccionado\",\"no_seleccionado\",\"no_seleccionado\",\"seleccionado\",\"no_seleccionado\",\"no_seleccionado\",\"no_seleccionado\",\"no_seleccionado\",\"seleccionado\",\"no_seleccionado\",\"no_seleccionado\",\"no_seleccionado\",\"no_seleccionado\",\"no_seleccionado\",\"no_seleccionado\",\"no_seleccionado\",\"no_seleccionado\",\"no_seleccionado\",\"no_seleccionado\",\"no_seleccionado\",\"no_seleccionado\",\"no_seleccionado\",\"no_seleccionado\",\"no_seleccionado\",\"no_seleccionado\",\"no_seleccionado\",\"no_seleccionado\",\"no_seleccionado\",\"no_seleccionado\",\"no_seleccionado\",\"no_seleccionado\",\"no_seleccionado\",\"no_seleccionado\",\"no_seleccionado\",\"no_seleccionado\",\"no_seleccionado\",\"no_seleccionado\",\"no_seleccionado\",\"no_seleccionado\",\"seleccionado\",\"no_seleccionado\",\"no_seleccionado\",\"no_seleccionado\",\"no_seleccionado\",\"no_seleccionado\",\"no_seleccionado\",\"no_seleccionado\",\"no_seleccionado\",\"no_seleccionado\",\"no_seleccionado\",\"no_seleccionado\",\"no_seleccionado\",\"no_seleccionado\",\"no_seleccionado\",\"no_seleccionado\",\"no_seleccionado\",\"no_seleccionado\",\"no_seleccionado\",\"no_seleccionado\",\"no_seleccionado\",\"no_seleccionado\",\"no_seleccionado\",\"no_seleccionado\",\"no_seleccionado\",\"no_seleccionado\",\"no_seleccionado\",\"no_seleccionado\",\"no_seleccionado\",\"no_seleccionado\",\"no_seleccionado\",\"no_seleccionado\",\"no_seleccionado\",\"no_seleccionado\",\"no_seleccionado\",\"no_seleccionado\",\"no_seleccionado\",\"no_seleccionado\",\"no_seleccionado\",\"no_seleccionado\",\"no_seleccionado\",\"no_seleccionado\",\"no_seleccionado\",\"no_seleccionado\",\"no_seleccionado\",\"no_seleccionado\",\"no_seleccionado\",\"no_seleccionado\",\"no_seleccionado\",\"no_seleccionado\",\"no_seleccionado\",\"no_seleccionado\",\"no_seleccionado\",\"no_seleccionado\",\"no_seleccionado\",\"no_seleccionado\",\"no_seleccionado\",\"no_seleccionado\",\"no_seleccionado\",\"no_seleccionado\",\"no_seleccionado\",\"no_seleccionado\",\"no_seleccionado\",\"no_seleccionado\",\"no_seleccionado\",\"no_seleccionado\",\"no_seleccionado\",\"no_seleccionado\",\"no_seleccionado\",\"no_seleccionado\",\"no_seleccionado\",\"no_seleccionado\",\"no_seleccionado\",\"no_seleccionado\",\"no_seleccionado\",\"no_seleccionado\",\"no_seleccionado\",\"no_seleccionado\",\"no_seleccionado\",\"no_seleccionado\",\"no_seleccionado\",\"no_seleccionado\",\"no_seleccionado\",\"no_seleccionado\",\"no_seleccionado\",\"no_seleccionado\",\"no_seleccionado\",\"no_seleccionado\",\"no_seleccionado\",\"no_seleccionado\",\"no_seleccionado\",\"no_seleccionado\",\"no_seleccionado\",\"no_seleccionado\",\"no_seleccionado\",\"no_seleccionado\",\"no_seleccionado\",\"no_seleccionado\",\"no_seleccionado\",\"no_seleccionado\",\"no_seleccionado\",\"no_seleccionado\",\"no_seleccionado\",\"no_seleccionado\",\"no_seleccionado\",\"no_seleccionado\",\"seleccionado\",\"no_seleccionado\",\"no_seleccionado\",\"no_seleccionado\",\"no_seleccionado\",\"no_seleccionado\",\"no_seleccionado\",\"no_seleccionado\",\"no_seleccionado\",\"no_seleccionado\",\"no_seleccionado\",\"no_seleccionado\",\"no_seleccionado\",\"no_seleccionado\",\"no_seleccionado\",\"no_seleccionado\",\"no_seleccionado\",\"no_seleccionado\",\"no_seleccionado\",\"no_seleccionado\",\"no_seleccionado\",\"no_seleccionado\",\"no_seleccionado\",\"no_seleccionado\",\"no_seleccionado\",\"no_seleccionado\",\"no_seleccionado\",\"no_seleccionado\",\"no_seleccionado\",\"no_seleccionado\",\"no_seleccionado\",\"seleccionado\",\"no_seleccionado\",\"no_seleccionado\",\"no_seleccionado\",\"no_seleccionado\",\"no_seleccionado\",\"no_seleccionado\",\"seleccionado\",\"no_seleccionado\",\"no_seleccionado\",\"no_seleccionado\",\"no_seleccionado\",\"no_seleccionado\",\"no_seleccionado\",\"no_seleccionado\",\"no_seleccionado\",\"no_seleccionado\",\"seleccionado\",\"no_seleccionado\",\"no_seleccionado\",\"no_seleccionado\",\"no_seleccionado\",\"no_seleccionado\",\"no_seleccionado\",\"no_seleccionado\",\"no_seleccionado\",\"no_seleccionado\",\"no_seleccionado\",\"no_seleccionado\",\"no_seleccionado\",\"no_seleccionado\",\"no_seleccionado\",\"no_seleccionado\",\"no_seleccionado\",\"seleccionado\",\"no_seleccionado\",\"no_seleccionado\",\"no_seleccionado\",\"no_seleccionado\",\"no_seleccionado\",\"no_seleccionado\",\"no_seleccionado\",\"no_seleccionado\",\"no_seleccionado\",\"no_seleccionado\",\"no_seleccionado\",\"no_seleccionado\",\"no_seleccionado\",\"no_seleccionado\",\"no_seleccionado\",\"no_seleccionado\",\"no_seleccionado\",\"no_seleccionado\",\"no_seleccionado\",\"no_seleccionado\",\"no_seleccionado\",\"no_seleccionado\",\"no_seleccionado\",\"no_seleccionado\",\"no_seleccionado\",\"no_seleccionado\",\"no_seleccionado\",\"no_seleccionado\",\"no_seleccionado\",\"no_seleccionado\",\"no_seleccionado\",\"no_seleccionado\",\"no_seleccionado\",\"no_seleccionado\",\"no_seleccionado\",\"no_seleccionado\",\"no_seleccionado\",\"no_seleccionado\",\"no_seleccionado\",\"no_seleccionado\",\"no_seleccionado\",\"no_seleccionado\",\"no_seleccionado\",\"no_seleccionado\",\"no_seleccionado\",\"no_seleccionado\",\"no_seleccionado\",\"no_seleccionado\",\"no_seleccionado\",\"no_seleccionado\",\"no_seleccionado\",\"no_seleccionado\",\"no_seleccionado\",\"no_seleccionado\",\"no_seleccionado\",\"no_seleccionado\",\"no_seleccionado\",\"no_seleccionado\",\"no_seleccionado\",\"seleccionado\",\"no_seleccionado\",\"no_seleccionado\",\"no_seleccionado\",\"no_seleccionado\",\"no_seleccionado\",\"no_seleccionado\",\"no_seleccionado\",\"no_seleccionado\",\"no_seleccionado\",\"no_seleccionado\",\"no_seleccionado\",\"no_seleccionado\",\"no_seleccionado\",\"no_seleccionado\",\"no_seleccionado\",\"no_seleccionado\",\"no_seleccionado\",\"no_seleccionado\",\"no_seleccionado\",\"no_seleccionado\",\"no_seleccionado\",\"no_seleccionado\",\"no_seleccionado\",\"no_seleccionado\",\"no_seleccionado\",\"no_seleccionado\",\"no_seleccionado\",\"no_seleccionado\",\"no_seleccionado\",\"no_seleccionado\",\"no_seleccionado\",\"no_seleccionado\",\"no_seleccionado\",\"seleccionado\",\"no_seleccionado\",\"no_seleccionado\",\"no_seleccionado\",\"no_seleccionado\",\"no_seleccionado\",\"no_seleccionado\",\"no_seleccionado\",\"no_seleccionado\",\"no_seleccionado\",\"no_seleccionado\",\"no_seleccionado\",\"no_seleccionado\",\"no_seleccionado\",\"no_seleccionado\",\"no_seleccionado\",\"no_seleccionado\",\"no_seleccionado\",\"no_seleccionado\",\"no_seleccionado\",\"no_seleccionado\",\"no_seleccionado\",\"no_seleccionado\",\"no_seleccionado\",\"no_seleccionado\",\"no_seleccionado\",\"no_seleccionado\",\"no_seleccionado\",\"no_seleccionado\",\"no_seleccionado\",\"no_seleccionado\",\"no_seleccionado\",\"no_seleccionado\",\"no_seleccionado\",\"no_seleccionado\",\"no_seleccionado\",\"no_seleccionado\",\"no_seleccionado\",\"no_seleccionado\",\"no_seleccionado\",\"no_seleccionado\",\"no_seleccionado\",\"no_seleccionado\",\"no_seleccionado\",\"no_seleccionado\",\"no_seleccionado\",\"no_seleccionado\",\"seleccionado\",\"no_seleccionado\",\"no_seleccionado\",\"no_seleccionado\",\"no_seleccionado\",\"no_seleccionado\",\"no_seleccionado\",\"no_seleccionado\",\"no_seleccionado\",\"no_seleccionado\",\"no_seleccionado\",\"no_seleccionado\",\"no_seleccionado\",\"no_seleccionado\",\"no_seleccionado\",\"no_seleccionado\",\"no_seleccionado\",\"no_seleccionado\",\"no_seleccionado\",\"no_seleccionado\",\"no_seleccionado\",\"no_seleccionado\",\"no_seleccionado\",\"no_seleccionado\",\"no_seleccionado\",\"no_seleccionado\",\"no_seleccionado\",\"seleccionado\",\"seleccionado\",\"no_seleccionado\",\"no_seleccionado\",\"no_seleccionado\",\"no_seleccionado\",\"no_seleccionado\",\"no_seleccionado\",\"no_seleccionado\",\"no_seleccionado\",\"no_seleccionado\",\"no_seleccionado\",\"no_seleccionado\",\"no_seleccionado\",\"no_seleccionado\",\"no_seleccionado\",\"no_seleccionado\",\"no_seleccionado\",\"no_seleccionado\",\"no_seleccionado\",\"no_seleccionado\",\"no_seleccionado\",\"no_seleccionado\",\"no_seleccionado\",\"no_seleccionado\",\"no_seleccionado\",\"no_seleccionado\",\"no_seleccionado\",\"no_seleccionado\",\"no_seleccionado\",\"no_seleccionado\",\"no_seleccionado\",\"no_seleccionado\",\"no_seleccionado\",\"no_seleccionado\",\"seleccionado\",\"no_seleccionado\",\"no_seleccionado\",\"no_seleccionado\",\"seleccionado\",\"no_seleccionado\",\"no_seleccionado\",\"no_seleccionado\",\"no_seleccionado\",\"no_seleccionado\",\"no_seleccionado\",\"no_seleccionado\",\"no_seleccionado\",\"no_seleccionado\",\"no_seleccionado\",\"no_seleccionado\",\"no_seleccionado\",\"no_seleccionado\",\"no_seleccionado\",\"no_seleccionado\",\"no_seleccionado\",\"no_seleccionado\",\"seleccionado\",\"no_seleccionado\",\"seleccionado\",\"no_seleccionado\",\"no_seleccionado\",\"no_seleccionado\",\"no_seleccionado\",\"no_seleccionado\",\"no_seleccionado\",\"no_seleccionado\",\"no_seleccionado\",\"no_seleccionado\",\"no_seleccionado\",\"no_seleccionado\",\"no_seleccionado\",\"no_seleccionado\",\"no_seleccionado\",\"no_seleccionado\",\"no_seleccionado\",\"no_seleccionado\",\"no_seleccionado\",\"no_seleccionado\",\"no_seleccionado\",\"no_seleccionado\",\"no_seleccionado\",\"no_seleccionado\",\"no_seleccionado\",\"no_seleccionado\",\"no_seleccionado\",\"no_seleccionado\",\"no_seleccionado\",\"no_seleccionado\",\"no_seleccionado\",\"no_seleccionado\",\"no_seleccionado\",\"no_seleccionado\",\"no_seleccionado\",\"no_seleccionado\",\"no_seleccionado\",\"no_seleccionado\",\"no_seleccionado\",\"no_seleccionado\",\"no_seleccionado\",\"no_seleccionado\",\"no_seleccionado\",\"no_seleccionado\",\"no_seleccionado\",\"no_seleccionado\",\"no_seleccionado\",\"no_seleccionado\",\"no_seleccionado\",\"no_seleccionado\",\"no_seleccionado\",\"no_seleccionado\",\"no_seleccionado\",\"no_seleccionado\",\"no_seleccionado\",\"no_seleccionado\",\"no_seleccionado\",\"no_seleccionado\",\"no_seleccionado\",\"no_seleccionado\",\"no_seleccionado\",\"no_seleccionado\",\"no_seleccionado\",\"no_seleccionado\",\"no_seleccionado\",\"no_seleccionado\",\"no_seleccionado\",\"no_seleccionado\",\"no_seleccionado\",\"no_seleccionado\",\"no_seleccionado\",\"seleccionado\",\"no_seleccionado\",\"no_seleccionado\",\"no_seleccionado\",\"no_seleccionado\",\"no_seleccionado\",\"no_seleccionado\",\"no_seleccionado\",\"no_seleccionado\",\"no_seleccionado\",\"no_seleccionado\",\"no_seleccionado\",\"no_seleccionado\",\"no_seleccionado\",\"no_seleccionado\",\"no_seleccionado\",\"no_seleccionado\",\"no_seleccionado\",\"no_seleccionado\",\"no_seleccionado\",\"no_seleccionado\",\"no_seleccionado\",\"no_seleccionado\",\"no_seleccionado\",\"no_seleccionado\",\"no_seleccionado\",\"no_seleccionado\",\"no_seleccionado\",\"no_seleccionado\",\"no_seleccionado\",\"seleccionado\",\"no_seleccionado\",\"no_seleccionado\",\"seleccionado\",\"no_seleccionado\",\"no_seleccionado\",\"no_seleccionado\",\"seleccionado\",\"no_seleccionado\",\"no_seleccionado\",\"no_seleccionado\",\"no_seleccionado\",\"no_seleccionado\",\"no_seleccionado\",\"no_seleccionado\",\"no_seleccionado\",\"no_seleccionado\",\"no_seleccionado\",\"no_seleccionado\",\"no_seleccionado\",\"seleccionado\",\"no_seleccionado\",\"no_seleccionado\",\"no_seleccionado\",\"no_seleccionado\",\"no_seleccionado\",\"no_seleccionado\",\"no_seleccionado\",\"no_seleccionado\",\"no_seleccionado\",\"no_seleccionado\",\"no_seleccionado\",\"no_seleccionado\",\"no_seleccionado\",\"no_seleccionado\",\"seleccionado\",\"no_seleccionado\",\"no_seleccionado\",\"seleccionado\",\"seleccionado\",\"no_seleccionado\",\"no_seleccionado\",\"no_seleccionado\",\"no_seleccionado\",\"no_seleccionado\",\"no_seleccionado\",\"no_seleccionado\",\"no_seleccionado\",\"no_seleccionado\",\"no_seleccionado\",\"no_seleccionado\",\"no_seleccionado\",\"no_seleccionado\",\"no_seleccionado\",\"no_seleccionado\",\"no_seleccionado\",\"no_seleccionado\",\"no_seleccionado\",\"seleccionado\",\"no_seleccionado\",\"no_seleccionado\",\"no_seleccionado\",\"no_seleccionado\",\"no_seleccionado\",\"no_seleccionado\",\"no_seleccionado\",\"no_seleccionado\",\"no_seleccionado\",\"no_seleccionado\",\"no_seleccionado\",\"no_seleccionado\",\"no_seleccionado\",\"no_seleccionado\",\"no_seleccionado\",\"no_seleccionado\",\"no_seleccionado\",\"no_seleccionado\",\"no_seleccionado\",\"no_seleccionado\",\"no_seleccionado\",\"no_seleccionado\",\"no_seleccionado\",\"no_seleccionado\",\"seleccionado\",\"no_seleccionado\",\"no_seleccionado\",\"no_seleccionado\",\"no_seleccionado\",\"no_seleccionado\",\"no_seleccionado\",\"no_seleccionado\",\"no_seleccionado\",\"no_seleccionado\",\"no_seleccionado\",\"no_seleccionado\",\"no_seleccionado\",\"no_seleccionado\",\"no_seleccionado\",\"no_seleccionado\",\"no_seleccionado\",\"no_seleccionado\",\"no_seleccionado\",\"no_seleccionado\",\"no_seleccionado\",\"no_seleccionado\",\"no_seleccionado\",\"no_seleccionado\",\"no_seleccionado\",\"no_seleccionado\",\"no_seleccionado\",\"no_seleccionado\",\"no_seleccionado\",\"no_seleccionado\",\"no_seleccionado\",\"no_seleccionado\",\"no_seleccionado\",\"no_seleccionado\",\"no_seleccionado\",\"no_seleccionado\",\"no_seleccionado\",\"no_seleccionado\",\"no_seleccionado\",\"no_seleccionado\",\"no_seleccionado\",\"no_seleccionado\",\"no_seleccionado\",\"no_seleccionado\",\"no_seleccionado\",\"no_seleccionado\",\"no_seleccionado\",\"seleccionado\",\"no_seleccionado\",\"no_seleccionado\",\"no_seleccionado\",\"no_seleccionado\",\"no_seleccionado\",\"no_seleccionado\",\"no_seleccionado\",\"no_seleccionado\",\"no_seleccionado\",\"no_seleccionado\",\"no_seleccionado\",\"no_seleccionado\",\"no_seleccionado\",\"no_seleccionado\",\"no_seleccionado\",\"no_seleccionado\",\"no_seleccionado\",\"no_seleccionado\",\"no_seleccionado\",\"no_seleccionado\",\"no_seleccionado\",\"no_seleccionado\",\"no_seleccionado\",\"no_seleccionado\",\"no_seleccionado\",\"no_seleccionado\",\"no_seleccionado\",\"no_seleccionado\",\"no_seleccionado\",\"no_seleccionado\",\"no_seleccionado\",\"no_seleccionado\",\"no_seleccionado\",\"no_seleccionado\",\"no_seleccionado\",\"no_seleccionado\",\"no_seleccionado\",\"no_seleccionado\",\"no_seleccionado\",\"no_seleccionado\",\"no_seleccionado\",\"no_seleccionado\",\"no_seleccionado\",\"no_seleccionado\",\"no_seleccionado\",\"no_seleccionado\",\"no_seleccionado\",\"no_seleccionado\",\"no_seleccionado\",\"no_seleccionado\",\"no_seleccionado\",\"seleccionado\",\"no_seleccionado\",\"no_seleccionado\",\"no_seleccionado\",\"no_seleccionado\",\"no_seleccionado\",\"no_seleccionado\",\"no_seleccionado\",\"no_seleccionado\",\"seleccionado\",\"seleccionado\",\"no_seleccionado\",\"seleccionado\",\"no_seleccionado\",\"no_seleccionado\",\"no_seleccionado\",\"no_seleccionado\",\"no_seleccionado\",\"no_seleccionado\",\"no_seleccionado\",\"no_seleccionado\",\"no_seleccionado\",\"no_seleccionado\",\"no_seleccionado\",\"no_seleccionado\",\"no_seleccionado\",\"no_seleccionado\",\"no_seleccionado\",\"no_seleccionado\",\"no_seleccionado\",\"no_seleccionado\",\"no_seleccionado\",\"no_seleccionado\",\"no_seleccionado\",\"no_seleccionado\",\"no_seleccionado\",\"no_seleccionado\",\"no_seleccionado\",\"no_seleccionado\",\"no_seleccionado\",\"no_seleccionado\",\"no_seleccionado\",\"no_seleccionado\",\"no_seleccionado\",\"no_seleccionado\",\"no_seleccionado\",\"no_seleccionado\",\"no_seleccionado\",\"no_seleccionado\",\"no_seleccionado\",\"no_seleccionado\",\"no_seleccionado\",\"no_seleccionado\",\"no_seleccionado\",\"no_seleccionado\",\"no_seleccionado\",\"no_seleccionado\",\"no_seleccionado\",\"seleccionado\",\"no_seleccionado\",\"no_seleccionado\",\"no_seleccionado\",\"no_seleccionado\",\"no_seleccionado\",\"no_seleccionado\",\"no_seleccionado\",\"seleccionado\",\"no_seleccionado\",\"no_seleccionado\",\"no_seleccionado\",\"no_seleccionado\",\"no_seleccionado\",\"no_seleccionado\",\"no_seleccionado\",\"no_seleccionado\",\"no_seleccionado\",\"no_seleccionado\",\"no_seleccionado\",\"no_seleccionado\",\"no_seleccionado\",\"no_seleccionado\",\"no_seleccionado\",\"no_seleccionado\",\"no_seleccionado\",\"no_seleccionado\",\"no_seleccionado\",\"no_seleccionado\",\"no_seleccionado\",\"no_seleccionado\",\"no_seleccionado\",\"no_seleccionado\",\"no_seleccionado\",\"seleccionado\",\"no_seleccionado\",\"no_seleccionado\",\"no_seleccionado\",\"no_seleccionado\",\"no_seleccionado\",\"no_seleccionado\",\"no_seleccionado\",\"no_seleccionado\",\"no_seleccionado\",\"no_seleccionado\",\"no_seleccionado\",\"no_seleccionado\",\"no_seleccionado\",\"no_seleccionado\",\"no_seleccionado\",\"no_seleccionado\",\"no_seleccionado\",\"no_seleccionado\",\"no_seleccionado\",\"no_seleccionado\",\"no_seleccionado\",\"no_seleccionado\",\"no_seleccionado\",\"no_seleccionado\",\"no_seleccionado\",\"no_seleccionado\",\"no_seleccionado\",\"no_seleccionado\",\"no_seleccionado\",\"no_seleccionado\",\"no_seleccionado\",\"no_seleccionado\",\"seleccionado\",\"no_seleccionado\",\"no_seleccionado\",\"no_seleccionado\",\"no_seleccionado\",\"no_seleccionado\",\"no_seleccionado\",\"no_seleccionado\",\"no_seleccionado\",\"no_seleccionado\",\"no_seleccionado\",\"no_seleccionado\",\"no_seleccionado\",\"no_seleccionado\",\"no_seleccionado\",\"no_seleccionado\",\"no_seleccionado\",\"no_seleccionado\",\"no_seleccionado\",\"no_seleccionado\",\"no_seleccionado\",\"no_seleccionado\",\"no_seleccionado\",\"no_seleccionado\",\"no_seleccionado\",\"no_seleccionado\",\"no_seleccionado\",\"no_seleccionado\",\"no_seleccionado\",\"no_seleccionado\",\"no_seleccionado\",\"no_seleccionado\",\"no_seleccionado\",\"no_seleccionado\",\"no_seleccionado\",\"no_seleccionado\",\"no_seleccionado\",\"no_seleccionado\",\"no_seleccionado\",\"no_seleccionado\",\"no_seleccionado\",\"no_seleccionado\",\"no_seleccionado\",\"no_seleccionado\",\"no_seleccionado\",\"no_seleccionado\",\"no_seleccionado\",\"no_seleccionado\",\"no_seleccionado\",\"no_seleccionado\",\"no_seleccionado\",\"no_seleccionado\",\"no_seleccionado\",\"no_seleccionado\",\"no_seleccionado\",\"no_seleccionado\",\"no_seleccionado\",\"no_seleccionado\",\"no_seleccionado\",\"no_seleccionado\",\"no_seleccionado\",\"no_seleccionado\",\"no_seleccionado\",\"no_seleccionado\",\"no_seleccionado\",\"no_seleccionado\",\"no_seleccionado\",\"no_seleccionado\",\"no_seleccionado\",\"no_seleccionado\",\"no_seleccionado\",\"no_seleccionado\",\"no_seleccionado\",\"no_seleccionado\",\"no_seleccionado\",\"no_seleccionado\",\"no_seleccionado\",\"no_seleccionado\",\"no_seleccionado\",\"no_seleccionado\",\"no_seleccionado\",\"no_seleccionado\",\"no_seleccionado\",\"seleccionado\",\"seleccionado\",\"seleccionado\",\"no_seleccionado\",\"no_seleccionado\",\"no_seleccionado\",\"no_seleccionado\",\"no_seleccionado\",\"no_seleccionado\",\"no_seleccionado\",\"no_seleccionado\",\"no_seleccionado\",\"no_seleccionado\",\"no_seleccionado\",\"no_seleccionado\",\"no_seleccionado\",\"no_seleccionado\",\"no_seleccionado\",\"no_seleccionado\",\"no_seleccionado\",\"no_seleccionado\",\"no_seleccionado\",\"no_seleccionado\",\"no_seleccionado\",\"no_seleccionado\",\"no_seleccionado\",\"no_seleccionado\",\"no_seleccionado\",\"no_seleccionado\",\"no_seleccionado\",\"no_seleccionado\",\"no_seleccionado\",\"no_seleccionado\",\"no_seleccionado\",\"no_seleccionado\",\"no_seleccionado\",\"no_seleccionado\",\"no_seleccionado\",\"no_seleccionado\",\"no_seleccionado\",\"no_seleccionado\",\"no_seleccionado\",\"no_seleccionado\",\"no_seleccionado\",\"no_seleccionado\",\"no_seleccionado\",\"no_seleccionado\",\"no_seleccionado\",\"no_seleccionado\",\"no_seleccionado\",\"no_seleccionado\",\"no_seleccionado\",\"no_seleccionado\",\"no_seleccionado\",\"no_seleccionado\",\"no_seleccionado\",\"no_seleccionado\",\"no_seleccionado\",\"no_seleccionado\",\"no_seleccionado\",\"no_seleccionado\",\"no_seleccionado\",\"no_seleccionado\",\"no_seleccionado\",\"seleccionado\",\"no_seleccionado\",\"no_seleccionado\",\"no_seleccionado\",\"no_seleccionado\",\"no_seleccionado\",\"no_seleccionado\",\"no_seleccionado\",\"no_seleccionado\",\"no_seleccionado\",\"no_seleccionado\",\"no_seleccionado\",\"no_seleccionado\",\"no_seleccionado\",\"no_seleccionado\",\"no_seleccionado\",\"no_seleccionado\",\"no_seleccionado\",\"no_seleccionado\",\"no_seleccionado\",\"no_seleccionado\",\"no_seleccionado\",\"no_seleccionado\",\"no_seleccionado\",\"no_seleccionado\",\"no_seleccionado\",\"no_seleccionado\",\"no_seleccionado\",\"no_seleccionado\",\"no_seleccionado\",\"no_seleccionado\",\"no_seleccionado\",\"no_seleccionado\",\"no_seleccionado\",\"no_seleccionado\",\"no_seleccionado\",\"no_seleccionado\",\"no_seleccionado\",\"seleccionado\",\"seleccionado\",\"no_seleccionado\",\"no_seleccionado\",\"no_seleccionado\",\"no_seleccionado\",\"no_seleccionado\",\"no_seleccionado\",\"no_seleccionado\",\"no_seleccionado\",\"no_seleccionado\",\"no_seleccionado\",\"no_seleccionado\",\"no_seleccionado\",\"no_seleccionado\",\"no_seleccionado\",\"no_seleccionado\",\"no_seleccionado\",\"no_seleccionado\",\"no_seleccionado\",\"no_seleccionado\",\"no_seleccionado\",\"no_seleccionado\",\"no_seleccionado\",\"no_seleccionado\",\"no_seleccionado\",\"no_seleccionado\",\"no_seleccionado\",\"no_seleccionado\",\"no_seleccionado\",\"no_seleccionado\",\"no_seleccionado\",\"no_seleccionado\",\"no_seleccionado\",\"no_seleccionado\",\"no_seleccionado\",\"no_seleccionado\",\"no_seleccionado\",\"no_seleccionado\",\"no_seleccionado\",\"no_seleccionado\",\"no_seleccionado\",\"no_seleccionado\",\"no_seleccionado\",\"no_seleccionado\",\"no_seleccionado\",\"no_seleccionado\",\"no_seleccionado\",\"no_seleccionado\",\"no_seleccionado\",\"no_seleccionado\",\"no_seleccionado\",\"no_seleccionado\",\"no_seleccionado\",\"no_seleccionado\",\"no_seleccionado\",\"no_seleccionado\",\"no_seleccionado\",\"no_seleccionado\",\"no_seleccionado\",\"no_seleccionado\",\"no_seleccionado\",\"seleccionado\",\"no_seleccionado\",\"no_seleccionado\",\"no_seleccionado\",\"no_seleccionado\",\"no_seleccionado\",\"no_seleccionado\",\"no_seleccionado\",\"no_seleccionado\",\"no_seleccionado\",\"no_seleccionado\",\"no_seleccionado\",\"no_seleccionado\",\"no_seleccionado\",\"no_seleccionado\",\"no_seleccionado\",\"no_seleccionado\",\"no_seleccionado\",\"no_seleccionado\",\"no_seleccionado\",\"no_seleccionado\",\"no_seleccionado\",\"no_seleccionado\",\"no_seleccionado\",\"no_seleccionado\",\"no_seleccionado\",\"no_seleccionado\",\"no_seleccionado\",\"no_seleccionado\",\"no_seleccionado\",\"no_seleccionado\",\"no_seleccionado\",\"no_seleccionado\",\"no_seleccionado\",\"no_seleccionado\",\"no_seleccionado\",\"no_seleccionado\",\"no_seleccionado\",\"no_seleccionado\",\"no_seleccionado\",\"no_seleccionado\",\"no_seleccionado\",\"no_seleccionado\",\"no_seleccionado\",\"no_seleccionado\",\"no_seleccionado\",\"no_seleccionado\",\"no_seleccionado\",\"no_seleccionado\",\"no_seleccionado\",\"no_seleccionado\",\"no_seleccionado\",\"no_seleccionado\",\"no_seleccionado\",\"no_seleccionado\",\"no_seleccionado\",\"no_seleccionado\",\"no_seleccionado\",\"no_seleccionado\",\"no_seleccionado\",\"no_seleccionado\",\"no_seleccionado\",\"no_seleccionado\",\"no_seleccionado\",\"no_seleccionado\",\"no_seleccionado\",\"no_seleccionado\",\"no_seleccionado\",\"no_seleccionado\",\"no_seleccionado\",\"no_seleccionado\",\"no_seleccionado\",\"no_seleccionado\",\"no_seleccionado\",\"no_seleccionado\",\"no_seleccionado\",\"no_seleccionado\",\"no_seleccionado\",\"no_seleccionado\",\"no_seleccionado\",\"no_seleccionado\",\"no_seleccionado\",\"no_seleccionado\",\"no_seleccionado\",\"no_seleccionado\",\"seleccionado\",\"no_seleccionado\",\"no_seleccionado\",\"no_seleccionado\",\"no_seleccionado\",\"no_seleccionado\",\"no_seleccionado\",\"no_seleccionado\",\"no_seleccionado\",\"no_seleccionado\",\"no_seleccionado\",\"no_seleccionado\",\"no_seleccionado\",\"no_seleccionado\",\"no_seleccionado\",\"no_seleccionado\",\"no_seleccionado\",\"no_seleccionado\",\"no_seleccionado\",\"no_seleccionado\",\"no_seleccionado\",\"no_seleccionado\",\"seleccionado\",\"no_seleccionado\",\"no_seleccionado\",\"no_seleccionado\",\"no_seleccionado\",\"no_seleccionado\",\"no_seleccionado\",\"no_seleccionado\",\"no_seleccionado\",\"no_seleccionado\",\"no_seleccionado\",\"no_seleccionado\",\"seleccionado\",\"no_seleccionado\",\"no_seleccionado\",\"no_seleccionado\",\"no_seleccionado\",\"no_seleccionado\",\"no_seleccionado\",\"no_seleccionado\",\"seleccionado\",\"no_seleccionado\",\"no_seleccionado\",\"no_seleccionado\",\"no_seleccionado\",\"no_seleccionado\",\"no_seleccionado\",\"no_seleccionado\",\"no_seleccionado\",\"no_seleccionado\",\"no_seleccionado\",\"no_seleccionado\",\"no_seleccionado\",\"no_seleccionado\",\"no_seleccionado\",\"no_seleccionado\",\"no_seleccionado\",\"no_seleccionado\",\"no_seleccionado\",\"no_seleccionado\",\"no_seleccionado\",\"no_seleccionado\",\"no_seleccionado\",\"no_seleccionado\",\"no_seleccionado\",\"no_seleccionado\",\"no_seleccionado\",\"no_seleccionado\",\"no_seleccionado\",\"no_seleccionado\",\"no_seleccionado\",\"no_seleccionado\",\"no_seleccionado\",\"no_seleccionado\",\"no_seleccionado\",\"no_seleccionado\",\"no_seleccionado\",\"no_seleccionado\",\"no_seleccionado\",\"no_seleccionado\",\"no_seleccionado\",\"no_seleccionado\",\"no_seleccionado\",\"no_seleccionado\",\"no_seleccionado\",\"no_seleccionado\",\"no_seleccionado\",\"no_seleccionado\",\"no_seleccionado\",\"no_seleccionado\",\"no_seleccionado\",\"no_seleccionado\",\"no_seleccionado\",\"no_seleccionado\",\"no_seleccionado\",\"no_seleccionado\",\"no_seleccionado\",\"no_seleccionado\",\"no_seleccionado\",\"no_seleccionado\",\"no_seleccionado\",\"no_seleccionado\",\"no_seleccionado\",\"no_seleccionado\",\"no_seleccionado\",\"no_seleccionado\",\"no_seleccionado\",\"no_seleccionado\",\"no_seleccionado\",\"no_seleccionado\",\"no_seleccionado\",\"no_seleccionado\",\"no_seleccionado\",\"no_seleccionado\",\"no_seleccionado\",\"no_seleccionado\",\"no_seleccionado\",\"no_seleccionado\",\"no_seleccionado\",\"no_seleccionado\",\"no_seleccionado\",\"no_seleccionado\",\"no_seleccionado\",\"no_seleccionado\",\"no_seleccionado\",\"no_seleccionado\",\"no_seleccionado\",\"no_seleccionado\",\"no_seleccionado\",\"no_seleccionado\",\"no_seleccionado\",\"no_seleccionado\",\"seleccionado\",\"seleccionado\",\"no_seleccionado\",\"no_seleccionado\",\"no_seleccionado\",\"no_seleccionado\",\"no_seleccionado\",\"no_seleccionado\",\"no_seleccionado\",\"no_seleccionado\",\"no_seleccionado\",\"no_seleccionado\",\"no_seleccionado\",\"no_seleccionado\",\"no_seleccionado\",\"no_seleccionado\",\"no_seleccionado\",\"no_seleccionado\",\"no_seleccionado\",\"no_seleccionado\",\"no_seleccionado\",\"no_seleccionado\",\"no_seleccionado\",\"seleccionado\",\"no_seleccionado\",\"no_seleccionado\",\"no_seleccionado\",\"no_seleccionado\",\"no_seleccionado\",\"no_seleccionado\",\"no_seleccionado\",\"no_seleccionado\",\"no_seleccionado\",\"no_seleccionado\",\"no_seleccionado\",\"no_seleccionado\",\"no_seleccionado\",\"no_seleccionado\",\"no_seleccionado\",\"no_seleccionado\",\"no_seleccionado\",\"no_seleccionado\",\"no_seleccionado\",\"no_seleccionado\",\"no_seleccionado\",\"no_seleccionado\",\"no_seleccionado\",\"no_seleccionado\",\"no_seleccionado\",\"no_seleccionado\",\"no_seleccionado\",\"no_seleccionado\",\"no_seleccionado\",\"no_seleccionado\",\"no_seleccionado\",\"no_seleccionado\",\"no_seleccionado\",\"seleccionado\",\"no_seleccionado\",\"no_seleccionado\",\"no_seleccionado\",\"no_seleccionado\",\"no_seleccionado\",\"no_seleccionado\",\"no_seleccionado\",\"no_seleccionado\",\"no_seleccionado\",\"no_seleccionado\",\"no_seleccionado\",\"seleccionado\",\"no_seleccionado\",\"no_seleccionado\",\"no_seleccionado\",\"no_seleccionado\",\"no_seleccionado\",\"no_seleccionado\",\"no_seleccionado\",\"no_seleccionado\",\"no_seleccionado\",\"no_seleccionado\",\"no_seleccionado\",\"no_seleccionado\",\"no_seleccionado\",\"no_seleccionado\",\"no_seleccionado\",\"no_seleccionado\",\"no_seleccionado\",\"no_seleccionado\",\"no_seleccionado\",\"no_seleccionado\",\"no_seleccionado\",\"no_seleccionado\",\"no_seleccionado\",\"no_seleccionado\",\"no_seleccionado\",\"no_seleccionado\",\"no_seleccionado\",\"no_seleccionado\",\"no_seleccionado\",\"no_seleccionado\",\"no_seleccionado\",\"no_seleccionado\",\"no_seleccionado\",\"no_seleccionado\",\"no_seleccionado\",\"no_seleccionado\",\"no_seleccionado\",\"no_seleccionado\",\"no_seleccionado\",\"no_seleccionado\",\"no_seleccionado\",\"no_seleccionado\",\"no_seleccionado\",\"no_seleccionado\",\"no_seleccionado\",\"no_seleccionado\",\"no_seleccionado\",\"no_seleccionado\",\"no_seleccionado\",\"no_seleccionado\",\"seleccionado\",\"no_seleccionado\",\"no_seleccionado\",\"no_seleccionado\",\"no_seleccionado\",\"no_seleccionado\",\"no_seleccionado\",\"seleccionado\",\"no_seleccionado\",\"no_seleccionado\",\"no_seleccionado\",\"no_seleccionado\",\"no_seleccionado\",\"no_seleccionado\",\"no_seleccionado\",\"no_seleccionado\",\"no_seleccionado\",\"no_seleccionado\",\"no_seleccionado\",\"no_seleccionado\",\"no_seleccionado\",\"no_seleccionado\",\"no_seleccionado\",\"no_seleccionado\",\"no_seleccionado\",\"no_seleccionado\",\"no_seleccionado\",\"no_seleccionado\",\"no_seleccionado\",\"no_seleccionado\",\"no_seleccionado\",\"no_seleccionado\",\"no_seleccionado\",\"no_seleccionado\",\"no_seleccionado\",\"no_seleccionado\",\"no_seleccionado\",\"no_seleccionado\",\"no_seleccionado\",\"no_seleccionado\",\"no_seleccionado\",\"no_seleccionado\",\"no_seleccionado\",\"no_seleccionado\",\"no_seleccionado\",\"no_seleccionado\",\"no_seleccionado\",\"no_seleccionado\",\"no_seleccionado\",\"no_seleccionado\",\"no_seleccionado\",\"no_seleccionado\",\"no_seleccionado\",\"no_seleccionado\",\"no_seleccionado\",\"no_seleccionado\",\"no_seleccionado\",\"no_seleccionado\",\"no_seleccionado\",\"no_seleccionado\",\"seleccionado\",\"no_seleccionado\",\"no_seleccionado\",\"no_seleccionado\",\"no_seleccionado\",\"no_seleccionado\",\"no_seleccionado\",\"no_seleccionado\",\"no_seleccionado\",\"no_seleccionado\",\"no_seleccionado\",\"no_seleccionado\",\"no_seleccionado\",\"no_seleccionado\",\"no_seleccionado\",\"no_seleccionado\",\"no_seleccionado\",\"no_seleccionado\",\"no_seleccionado\",\"no_seleccionado\",\"no_seleccionado\",\"no_seleccionado\",\"no_seleccionado\",\"no_seleccionado\",\"no_seleccionado\",\"no_seleccionado\",\"no_seleccionado\",\"no_seleccionado\",\"no_seleccionado\",\"no_seleccionado\",\"no_seleccionado\",\"no_seleccionado\",\"no_seleccionado\",\"no_seleccionado\",\"no_seleccionado\",\"no_seleccionado\",\"no_seleccionado\",\"no_seleccionado\",\"no_seleccionado\",\"no_seleccionado\",\"no_seleccionado\",\"no_seleccionado\",\"no_seleccionado\",\"no_seleccionado\",\"no_seleccionado\",\"no_seleccionado\",\"no_seleccionado\",\"no_seleccionado\",\"no_seleccionado\",\"no_seleccionado\",\"no_seleccionado\",\"no_seleccionado\",\"no_seleccionado\",\"no_seleccionado\",\"no_seleccionado\",\"no_seleccionado\",\"no_seleccionado\",\"no_seleccionado\",\"no_seleccionado\",\"no_seleccionado\",\"no_seleccionado\",\"no_seleccionado\",\"no_seleccionado\",\"no_seleccionado\",\"no_seleccionado\",\"no_seleccionado\",\"no_seleccionado\",\"no_seleccionado\",\"no_seleccionado\",\"no_seleccionado\",\"no_seleccionado\",\"no_seleccionado\",\"no_seleccionado\",\"no_seleccionado\",\"no_seleccionado\",\"seleccionado\",\"no_seleccionado\",\"no_seleccionado\",\"no_seleccionado\",\"no_seleccionado\",\"no_seleccionado\",\"no_seleccionado\",\"no_seleccionado\",\"no_seleccionado\",\"no_seleccionado\",\"no_seleccionado\",\"no_seleccionado\",\"no_seleccionado\",\"no_seleccionado\",\"no_seleccionado\",\"no_seleccionado\",\"no_seleccionado\",\"no_seleccionado\",\"no_seleccionado\",\"no_seleccionado\",\"no_seleccionado\",\"no_seleccionado\",\"no_seleccionado\",\"no_seleccionado\",\"no_seleccionado\",\"no_seleccionado\",\"no_seleccionado\",\"no_seleccionado\",\"no_seleccionado\",\"seleccionado\",\"no_seleccionado\",\"no_seleccionado\",\"no_seleccionado\",\"no_seleccionado\",\"no_seleccionado\",\"no_seleccionado\",\"no_seleccionado\",\"no_seleccionado\",\"no_seleccionado\",\"no_seleccionado\",\"no_seleccionado\",\"no_seleccionado\",\"no_seleccionado\",\"no_seleccionado\",\"no_seleccionado\",\"no_seleccionado\",\"no_seleccionado\",\"no_seleccionado\",\"no_seleccionado\",\"no_seleccionado\",\"no_seleccionado\",\"no_seleccionado\",\"no_seleccionado\",\"no_seleccionado\",\"no_seleccionado\",\"no_seleccionado\",\"no_seleccionado\",\"no_seleccionado\",\"no_seleccionado\",\"no_seleccionado\",\"no_seleccionado\",\"no_seleccionado\",\"no_seleccionado\",\"no_seleccionado\",\"no_seleccionado\",\"no_seleccionado\",\"seleccionado\",\"no_seleccionado\",\"no_seleccionado\",\"no_seleccionado\",\"no_seleccionado\",\"no_seleccionado\",\"no_seleccionado\",\"no_seleccionado\",\"no_seleccionado\",\"no_seleccionado\",\"no_seleccionado\",\"no_seleccionado\",\"no_seleccionado\",\"no_seleccionado\",\"no_seleccionado\",\"no_seleccionado\",\"no_seleccionado\",\"no_seleccionado\",\"no_seleccionado\",\"no_seleccionado\",\"no_seleccionado\",\"no_seleccionado\",\"no_seleccionado\",\"no_seleccionado\",\"no_seleccionado\",\"no_seleccionado\",\"no_seleccionado\",\"no_seleccionado\",\"no_seleccionado\",\"no_seleccionado\",\"no_seleccionado\",\"no_seleccionado\",\"no_seleccionado\",\"no_seleccionado\",\"no_seleccionado\",\"no_seleccionado\",\"seleccionado\",\"no_seleccionado\",\"no_seleccionado\",\"no_seleccionado\",\"no_seleccionado\",\"no_seleccionado\",\"no_seleccionado\",\"no_seleccionado\",\"no_seleccionado\",\"no_seleccionado\",\"no_seleccionado\",\"no_seleccionado\",\"no_seleccionado\",\"no_seleccionado\",\"no_seleccionado\",\"seleccionado\",\"no_seleccionado\",\"no_seleccionado\",\"no_seleccionado\",\"no_seleccionado\",\"no_seleccionado\",\"no_seleccionado\",\"no_seleccionado\",\"no_seleccionado\",\"no_seleccionado\",\"no_seleccionado\",\"no_seleccionado\",\"no_seleccionado\",\"no_seleccionado\",\"no_seleccionado\",\"no_seleccionado\",\"no_seleccionado\",\"no_seleccionado\",\"seleccionado\",\"no_seleccionado\",\"no_seleccionado\",\"no_seleccionado\",\"no_seleccionado\",\"no_seleccionado\",\"seleccionado\",\"no_seleccionado\",\"no_seleccionado\",\"no_seleccionado\",\"no_seleccionado\",\"no_seleccionado\",\"no_seleccionado\",\"no_seleccionado\",\"no_seleccionado\",\"no_seleccionado\",\"no_seleccionado\",\"no_seleccionado\",\"no_seleccionado\",\"no_seleccionado\",\"no_seleccionado\",\"no_seleccionado\",\"no_seleccionado\",\"no_seleccionado\",\"no_seleccionado\",\"no_seleccionado\",\"no_seleccionado\",\"no_seleccionado\",\"no_seleccionado\",\"no_seleccionado\",\"no_seleccionado\",\"no_seleccionado\",\"no_seleccionado\",\"no_seleccionado\",\"no_seleccionado\",\"no_seleccionado\",\"no_seleccionado\",\"no_seleccionado\",\"no_seleccionado\",\"no_seleccionado\",\"no_seleccionado\",\"no_seleccionado\",\"no_seleccionado\",\"no_seleccionado\",\"no_seleccionado\",\"no_seleccionado\",\"no_seleccionado\",\"no_seleccionado\",\"no_seleccionado\",\"no_seleccionado\",\"no_seleccionado\",\"no_seleccionado\",\"no_seleccionado\",\"no_seleccionado\",\"no_seleccionado\",\"no_seleccionado\",\"no_seleccionado\",\"no_seleccionado\",\"no_seleccionado\",\"no_seleccionado\",\"no_seleccionado\",\"no_seleccionado\",\"no_seleccionado\",\"no_seleccionado\",\"no_seleccionado\",\"no_seleccionado\",\"no_seleccionado\",\"no_seleccionado\",\"no_seleccionado\",\"no_seleccionado\",\"no_seleccionado\",\"no_seleccionado\",\"no_seleccionado\",\"no_seleccionado\",\"no_seleccionado\",\"no_seleccionado\",\"no_seleccionado\",\"no_seleccionado\",\"no_seleccionado\",\"no_seleccionado\",\"no_seleccionado\",\"no_seleccionado\",\"no_seleccionado\",\"no_seleccionado\",\"no_seleccionado\",\"no_seleccionado\",\"no_seleccionado\",\"no_seleccionado\",\"no_seleccionado\",\"no_seleccionado\",\"no_seleccionado\",\"no_seleccionado\",\"no_seleccionado\",\"no_seleccionado\",\"no_seleccionado\",\"no_seleccionado\",\"no_seleccionado\",\"no_seleccionado\",\"no_seleccionado\",\"no_seleccionado\",\"no_seleccionado\",\"no_seleccionado\",\"no_seleccionado\",\"no_seleccionado\",\"no_seleccionado\",\"no_seleccionado\",\"no_seleccionado\",\"no_seleccionado\",\"no_seleccionado\",\"no_seleccionado\",\"no_seleccionado\",\"no_seleccionado\",\"no_seleccionado\",\"no_seleccionado\",\"no_seleccionado\",\"no_seleccionado\",\"no_seleccionado\",\"no_seleccionado\",\"no_seleccionado\",\"no_seleccionado\",\"no_seleccionado\",\"no_seleccionado\",\"no_seleccionado\",\"no_seleccionado\",\"no_seleccionado\",\"no_seleccionado\",\"no_seleccionado\",\"no_seleccionado\",\"no_seleccionado\",\"seleccionado\",\"no_seleccionado\",\"no_seleccionado\",\"no_seleccionado\",\"no_seleccionado\",\"no_seleccionado\",\"no_seleccionado\",\"no_seleccionado\",\"no_seleccionado\",\"no_seleccionado\",\"no_seleccionado\",\"no_seleccionado\",\"seleccionado\",\"no_seleccionado\",\"no_seleccionado\",\"no_seleccionado\",\"no_seleccionado\",\"no_seleccionado\",\"no_seleccionado\",\"no_seleccionado\",\"no_seleccionado\",\"no_seleccionado\",\"no_seleccionado\",\"no_seleccionado\",\"no_seleccionado\",\"no_seleccionado\",\"no_seleccionado\",\"no_seleccionado\",\"no_seleccionado\",\"no_seleccionado\",\"no_seleccionado\",\"no_seleccionado\",\"no_seleccionado\",\"no_seleccionado\",\"no_seleccionado\",\"no_seleccionado\",\"no_seleccionado\",\"no_seleccionado\",\"no_seleccionado\",\"no_seleccionado\",\"seleccionado\",\"seleccionado\",\"no_seleccionado\",\"no_seleccionado\",\"no_seleccionado\",\"no_seleccionado\",\"no_seleccionado\",\"no_seleccionado\",\"no_seleccionado\",\"no_seleccionado\",\"no_seleccionado\",\"no_seleccionado\",\"no_seleccionado\",\"no_seleccionado\",\"no_seleccionado\",\"no_seleccionado\",\"no_seleccionado\",\"no_seleccionado\",\"no_seleccionado\",\"no_seleccionado\",\"no_seleccionado\",\"no_seleccionado\",\"no_seleccionado\",\"no_seleccionado\",\"no_seleccionado\",\"no_seleccionado\",\"no_seleccionado\",\"no_seleccionado\",\"no_seleccionado\",\"no_seleccionado\",\"no_seleccionado\",\"no_seleccionado\",\"no_seleccionado\",\"no_seleccionado\",\"no_seleccionado\",\"no_seleccionado\",\"no_seleccionado\",\"no_seleccionado\",\"no_seleccionado\",\"no_seleccionado\",\"no_seleccionado\",\"no_seleccionado\",\"no_seleccionado\",\"no_seleccionado\",\"no_seleccionado\",\"no_seleccionado\",\"no_seleccionado\",\"no_seleccionado\",\"no_seleccionado\",\"no_seleccionado\",\"no_seleccionado\",\"no_seleccionado\",\"no_seleccionado\",\"no_seleccionado\",\"no_seleccionado\",\"no_seleccionado\",\"no_seleccionado\",\"no_seleccionado\",\"no_seleccionado\",\"no_seleccionado\",\"no_seleccionado\",\"no_seleccionado\",\"no_seleccionado\",\"no_seleccionado\",\"no_seleccionado\",\"no_seleccionado\",\"no_seleccionado\",\"no_seleccionado\",\"no_seleccionado\",\"no_seleccionado\",\"no_seleccionado\",\"no_seleccionado\",\"no_seleccionado\",\"no_seleccionado\",\"no_seleccionado\",\"no_seleccionado\",\"no_seleccionado\",\"no_seleccionado\",\"no_seleccionado\",\"no_seleccionado\",\"no_seleccionado\",\"no_seleccionado\",\"no_seleccionado\",\"no_seleccionado\",\"no_seleccionado\",\"no_seleccionado\",\"no_seleccionado\",\"no_seleccionado\",\"no_seleccionado\",\"no_seleccionado\",\"no_seleccionado\",\"no_seleccionado\",\"no_seleccionado\",\"no_seleccionado\",\"no_seleccionado\",\"no_seleccionado\",\"no_seleccionado\",\"no_seleccionado\",\"no_seleccionado\",\"no_seleccionado\",\"no_seleccionado\",\"no_seleccionado\",\"seleccionado\",\"no_seleccionado\",\"no_seleccionado\",\"no_seleccionado\",\"no_seleccionado\",\"no_seleccionado\",\"no_seleccionado\",\"no_seleccionado\",\"no_seleccionado\",\"no_seleccionado\",\"no_seleccionado\",\"no_seleccionado\",\"no_seleccionado\",\"no_seleccionado\",\"no_seleccionado\",\"no_seleccionado\",\"no_seleccionado\",\"no_seleccionado\",\"no_seleccionado\",\"no_seleccionado\",\"no_seleccionado\",\"no_seleccionado\",\"no_seleccionado\",\"no_seleccionado\",\"no_seleccionado\",\"no_seleccionado\",\"no_seleccionado\",\"no_seleccionado\",\"seleccionado\",\"no_seleccionado\",\"seleccionado\",\"no_seleccionado\",\"no_seleccionado\",\"no_seleccionado\",\"no_seleccionado\",\"no_seleccionado\",\"no_seleccionado\",\"no_seleccionado\",\"no_seleccionado\",\"no_seleccionado\",\"no_seleccionado\",\"no_seleccionado\",\"no_seleccionado\",\"no_seleccionado\",\"no_seleccionado\",\"no_seleccionado\",\"no_seleccionado\",\"no_seleccionado\",\"no_seleccionado\",\"no_seleccionado\",\"no_seleccionado\",\"seleccionado\",\"seleccionado\",\"no_seleccionado\",\"seleccionado\",\"no_seleccionado\",\"no_seleccionado\",\"no_seleccionado\",\"no_seleccionado\",\"no_seleccionado\",\"no_seleccionado\",\"no_seleccionado\",\"no_seleccionado\",\"no_seleccionado\",\"no_seleccionado\",\"no_seleccionado\",\"no_seleccionado\",\"no_seleccionado\",\"no_seleccionado\",\"seleccionado\",\"no_seleccionado\",\"no_seleccionado\",\"no_seleccionado\",\"no_seleccionado\",\"no_seleccionado\",\"no_seleccionado\",\"no_seleccionado\",\"no_seleccionado\",\"no_seleccionado\",\"no_seleccionado\",\"no_seleccionado\",\"no_seleccionado\",\"no_seleccionado\",\"no_seleccionado\",\"no_seleccionado\",\"no_seleccionado\",\"no_seleccionado\",\"no_seleccionado\",\"no_seleccionado\",\"no_seleccionado\",\"no_seleccionado\",\"no_seleccionado\",\"no_seleccionado\",\"no_seleccionado\",\"no_seleccionado\",\"no_seleccionado\",\"no_seleccionado\",\"no_seleccionado\",\"no_seleccionado\",\"no_seleccionado\",\"no_seleccionado\",\"no_seleccionado\",\"no_seleccionado\",\"no_seleccionado\",\"no_seleccionado\",\"no_seleccionado\",\"no_seleccionado\",\"no_seleccionado\",\"no_seleccionado\",\"no_seleccionado\",\"no_seleccionado\",\"no_seleccionado\",\"no_seleccionado\",\"no_seleccionado\",\"no_seleccionado\",\"no_seleccionado\",\"no_seleccionado\",\"seleccionado\",\"no_seleccionado\",\"no_seleccionado\",\"no_seleccionado\",\"no_seleccionado\",\"no_seleccionado\",\"no_seleccionado\",\"no_seleccionado\",\"no_seleccionado\",\"no_seleccionado\",\"no_seleccionado\",\"no_seleccionado\",\"no_seleccionado\",\"no_seleccionado\",\"no_seleccionado\",\"no_seleccionado\",\"no_seleccionado\",\"no_seleccionado\",\"no_seleccionado\",\"no_seleccionado\",\"no_seleccionado\",\"no_seleccionado\",\"no_seleccionado\",\"no_seleccionado\",\"no_seleccionado\",\"no_seleccionado\",\"no_seleccionado\",\"no_seleccionado\",\"no_seleccionado\",\"no_seleccionado\",\"no_seleccionado\",\"no_seleccionado\",\"no_seleccionado\",\"no_seleccionado\",\"no_seleccionado\",\"no_seleccionado\",\"no_seleccionado\",\"no_seleccionado\",\"no_seleccionado\",\"no_seleccionado\",\"no_seleccionado\",\"no_seleccionado\",\"no_seleccionado\",\"no_seleccionado\",\"no_seleccionado\",\"no_seleccionado\",\"no_seleccionado\",\"no_seleccionado\",\"no_seleccionado\",\"no_seleccionado\",\"no_seleccionado\",\"no_seleccionado\",\"no_seleccionado\",\"no_seleccionado\",\"no_seleccionado\",\"no_seleccionado\",\"no_seleccionado\",\"no_seleccionado\",\"no_seleccionado\",\"no_seleccionado\",\"seleccionado\",\"no_seleccionado\",\"no_seleccionado\",\"no_seleccionado\",\"no_seleccionado\",\"no_seleccionado\",\"no_seleccionado\",\"no_seleccionado\",\"no_seleccionado\",\"no_seleccionado\",\"no_seleccionado\",\"no_seleccionado\",\"no_seleccionado\",\"no_seleccionado\",\"no_seleccionado\",\"no_seleccionado\",\"no_seleccionado\",\"no_seleccionado\",\"no_seleccionado\",\"no_seleccionado\",\"no_seleccionado\",\"no_seleccionado\",\"no_seleccionado\",\"no_seleccionado\",\"no_seleccionado\",\"no_seleccionado\",\"no_seleccionado\",\"no_seleccionado\",\"no_seleccionado\",\"no_seleccionado\",\"no_seleccionado\",\"no_seleccionado\",\"no_seleccionado\",\"no_seleccionado\",\"no_seleccionado\",\"no_seleccionado\",\"no_seleccionado\",\"no_seleccionado\",\"no_seleccionado\",\"no_seleccionado\",\"no_seleccionado\",\"no_seleccionado\",\"no_seleccionado\",\"no_seleccionado\",\"no_seleccionado\",\"no_seleccionado\",\"no_seleccionado\",\"no_seleccionado\",\"no_seleccionado\",\"no_seleccionado\",\"no_seleccionado\",\"no_seleccionado\",\"no_seleccionado\",\"no_seleccionado\",\"no_seleccionado\",\"no_seleccionado\",\"no_seleccionado\",\"no_seleccionado\",\"no_seleccionado\",\"no_seleccionado\",\"no_seleccionado\",\"no_seleccionado\",\"no_seleccionado\",\"no_seleccionado\",\"no_seleccionado\",\"no_seleccionado\",\"no_seleccionado\",\"no_seleccionado\",\"no_seleccionado\",\"no_seleccionado\",\"no_seleccionado\",\"no_seleccionado\",\"no_seleccionado\",\"no_seleccionado\",\"no_seleccionado\",\"no_seleccionado\",\"no_seleccionado\",\"no_seleccionado\",\"no_seleccionado\",\"no_seleccionado\",\"no_seleccionado\",\"no_seleccionado\",\"no_seleccionado\",\"no_seleccionado\",\"no_seleccionado\",\"no_seleccionado\",\"no_seleccionado\",\"no_seleccionado\",\"no_seleccionado\",\"no_seleccionado\",\"no_seleccionado\",\"no_seleccionado\",\"no_seleccionado\",\"no_seleccionado\",\"no_seleccionado\",\"no_seleccionado\",\"no_seleccionado\",\"no_seleccionado\",\"seleccionado\",\"no_seleccionado\",\"no_seleccionado\",\"no_seleccionado\",\"no_seleccionado\",\"no_seleccionado\",\"no_seleccionado\",\"no_seleccionado\",\"no_seleccionado\",\"no_seleccionado\",\"no_seleccionado\",\"no_seleccionado\",\"no_seleccionado\",\"no_seleccionado\",\"no_seleccionado\",\"no_seleccionado\",\"no_seleccionado\",\"no_seleccionado\",\"no_seleccionado\",\"no_seleccionado\",\"no_seleccionado\",\"no_seleccionado\",\"no_seleccionado\",\"no_seleccionado\",\"no_seleccionado\",\"no_seleccionado\",\"seleccionado\",\"no_seleccionado\",\"no_seleccionado\",\"no_seleccionado\",\"no_seleccionado\",\"no_seleccionado\",\"no_seleccionado\",\"no_seleccionado\",\"no_seleccionado\",\"no_seleccionado\",\"no_seleccionado\",\"no_seleccionado\",\"no_seleccionado\",\"no_seleccionado\",\"no_seleccionado\",\"no_seleccionado\",\"no_seleccionado\",\"no_seleccionado\",\"no_seleccionado\",\"no_seleccionado\",\"no_seleccionado\",\"no_seleccionado\",\"seleccionado\",\"no_seleccionado\",\"no_seleccionado\",\"no_seleccionado\",\"no_seleccionado\",\"no_seleccionado\",\"no_seleccionado\",\"no_seleccionado\",\"no_seleccionado\",\"no_seleccionado\",\"no_seleccionado\",\"no_seleccionado\",\"no_seleccionado\",\"no_seleccionado\",\"no_seleccionado\",\"no_seleccionado\",\"no_seleccionado\",\"no_seleccionado\",\"no_seleccionado\",\"no_seleccionado\",\"no_seleccionado\",\"no_seleccionado\",\"no_seleccionado\",\"no_seleccionado\",\"seleccionado\",\"no_seleccionado\",\"no_seleccionado\",\"no_seleccionado\",\"no_seleccionado\",\"no_seleccionado\",\"no_seleccionado\",\"no_seleccionado\",\"no_seleccionado\",\"no_seleccionado\",\"no_seleccionado\",\"no_seleccionado\",\"no_seleccionado\",\"no_seleccionado\",\"no_seleccionado\",\"no_seleccionado\",\"no_seleccionado\",\"no_seleccionado\",\"no_seleccionado\",\"no_seleccionado\",\"no_seleccionado\",\"no_seleccionado\",\"no_seleccionado\",\"no_seleccionado\",\"no_seleccionado\",\"no_seleccionado\",\"no_seleccionado\",\"no_seleccionado\",\"no_seleccionado\",\"no_seleccionado\",\"no_seleccionado\",\"no_seleccionado\",\"no_seleccionado\",\"no_seleccionado\",\"no_seleccionado\",\"no_seleccionado\",\"no_seleccionado\",\"no_seleccionado\",\"no_seleccionado\",\"no_seleccionado\",\"no_seleccionado\",\"no_seleccionado\",\"no_seleccionado\",\"no_seleccionado\",\"no_seleccionado\",\"no_seleccionado\",\"no_seleccionado\",\"no_seleccionado\",\"no_seleccionado\",\"no_seleccionado\",\"seleccionado\",\"no_seleccionado\",\"no_seleccionado\",\"no_seleccionado\",\"no_seleccionado\",\"no_seleccionado\",\"no_seleccionado\",\"no_seleccionado\",\"no_seleccionado\",\"no_seleccionado\",\"no_seleccionado\",\"no_seleccionado\",\"no_seleccionado\",\"no_seleccionado\",\"no_seleccionado\",\"no_seleccionado\",\"no_seleccionado\",\"no_seleccionado\",\"no_seleccionado\",\"no_seleccionado\",\"no_seleccionado\",\"no_seleccionado\",\"no_seleccionado\",\"no_seleccionado\",\"no_seleccionado\",\"no_seleccionado\",\"no_seleccionado\",\"seleccionado\",\"no_seleccionado\",\"no_seleccionado\",\"no_seleccionado\",\"no_seleccionado\",\"no_seleccionado\",\"no_seleccionado\",\"no_seleccionado\",\"no_seleccionado\",\"no_seleccionado\",\"no_seleccionado\",\"no_seleccionado\",\"no_seleccionado\",\"no_seleccionado\",\"no_seleccionado\",\"no_seleccionado\",\"no_seleccionado\",\"no_seleccionado\",\"no_seleccionado\",\"no_seleccionado\",\"no_seleccionado\",\"no_seleccionado\",\"no_seleccionado\",\"no_seleccionado\",\"no_seleccionado\",\"no_seleccionado\",\"no_seleccionado\",\"no_seleccionado\",\"no_seleccionado\",\"no_seleccionado\",\"no_seleccionado\",\"no_seleccionado\",\"no_seleccionado\",\"no_seleccionado\",\"no_seleccionado\",\"no_seleccionado\",\"no_seleccionado\",\"no_seleccionado\",\"no_seleccionado\",\"no_seleccionado\",\"no_seleccionado\",\"no_seleccionado\",\"no_seleccionado\",\"no_seleccionado\",\"no_seleccionado\",\"no_seleccionado\",\"no_seleccionado\",\"no_seleccionado\",\"no_seleccionado\",\"no_seleccionado\",\"no_seleccionado\",\"no_seleccionado\",\"no_seleccionado\",\"no_seleccionado\",\"no_seleccionado\",\"no_seleccionado\",\"no_seleccionado\",\"no_seleccionado\",\"no_seleccionado\",\"no_seleccionado\",\"no_seleccionado\",\"no_seleccionado\",\"no_seleccionado\",\"no_seleccionado\",\"no_seleccionado\",\"no_seleccionado\",\"no_seleccionado\",\"no_seleccionado\",\"no_seleccionado\",\"no_seleccionado\",\"no_seleccionado\",\"no_seleccionado\",\"no_seleccionado\",\"no_seleccionado\",\"no_seleccionado\",\"no_seleccionado\",\"no_seleccionado\",\"no_seleccionado\",\"no_seleccionado\",\"no_seleccionado\",\"no_seleccionado\",\"no_seleccionado\",\"no_seleccionado\",\"seleccionado\",\"no_seleccionado\",\"no_seleccionado\",\"no_seleccionado\",\"no_seleccionado\",\"no_seleccionado\",\"no_seleccionado\",\"no_seleccionado\",\"no_seleccionado\",\"no_seleccionado\",\"no_seleccionado\",\"no_seleccionado\",\"no_seleccionado\",\"no_seleccionado\",\"no_seleccionado\",\"no_seleccionado\",\"no_seleccionado\",\"no_seleccionado\",\"no_seleccionado\",\"no_seleccionado\",\"no_seleccionado\",\"no_seleccionado\",\"no_seleccionado\",\"no_seleccionado\",\"no_seleccionado\",\"no_seleccionado\",\"no_seleccionado\",\"no_seleccionado\",\"no_seleccionado\",\"no_seleccionado\",\"no_seleccionado\",\"no_seleccionado\",\"no_seleccionado\",\"no_seleccionado\",\"no_seleccionado\",\"no_seleccionado\",\"no_seleccionado\",\"no_seleccionado\",\"no_seleccionado\",\"no_seleccionado\",\"no_seleccionado\",\"no_seleccionado\",\"seleccionado\",\"seleccionado\",\"no_seleccionado\",\"no_seleccionado\",\"seleccionado\",\"no_seleccionado\",\"no_seleccionado\",\"no_seleccionado\",\"no_seleccionado\",\"no_seleccionado\",\"no_seleccionado\",\"no_seleccionado\",\"no_seleccionado\",\"no_seleccionado\",\"no_seleccionado\",\"no_seleccionado\",\"no_seleccionado\",\"no_seleccionado\",\"no_seleccionado\",\"no_seleccionado\",\"no_seleccionado\",\"no_seleccionado\",\"no_seleccionado\",\"no_seleccionado\",\"no_seleccionado\",\"no_seleccionado\",\"no_seleccionado\",\"no_seleccionado\",\"no_seleccionado\",\"no_seleccionado\",\"no_seleccionado\",\"no_seleccionado\",\"seleccionado\",\"no_seleccionado\",\"no_seleccionado\",\"no_seleccionado\",\"no_seleccionado\",\"seleccionado\",\"no_seleccionado\",\"no_seleccionado\",\"no_seleccionado\",\"no_seleccionado\",\"no_seleccionado\",\"no_seleccionado\",\"no_seleccionado\",\"no_seleccionado\",\"no_seleccionado\",\"no_seleccionado\",\"no_seleccionado\",\"no_seleccionado\",\"no_seleccionado\",\"no_seleccionado\",\"no_seleccionado\",\"no_seleccionado\",\"no_seleccionado\",\"no_seleccionado\",\"no_seleccionado\",\"no_seleccionado\",\"no_seleccionado\",\"no_seleccionado\",\"no_seleccionado\",\"no_seleccionado\",\"no_seleccionado\",\"no_seleccionado\",\"no_seleccionado\",\"no_seleccionado\",\"no_seleccionado\",\"no_seleccionado\",\"no_seleccionado\",\"seleccionado\",\"no_seleccionado\",\"no_seleccionado\",\"no_seleccionado\",\"no_seleccionado\",\"no_seleccionado\",\"no_seleccionado\",\"no_seleccionado\",\"no_seleccionado\",\"no_seleccionado\",\"no_seleccionado\",\"no_seleccionado\",\"no_seleccionado\",\"no_seleccionado\",\"no_seleccionado\",\"no_seleccionado\",\"no_seleccionado\",\"no_seleccionado\",\"no_seleccionado\",\"no_seleccionado\",\"no_seleccionado\",\"no_seleccionado\",\"no_seleccionado\",\"no_seleccionado\",\"no_seleccionado\",\"no_seleccionado\",\"no_seleccionado\",\"no_seleccionado\",\"no_seleccionado\",\"no_seleccionado\",\"no_seleccionado\",\"no_seleccionado\",\"no_seleccionado\",\"no_seleccionado\",\"no_seleccionado\",\"no_seleccionado\",\"no_seleccionado\",\"no_seleccionado\",\"no_seleccionado\",\"no_seleccionado\",\"no_seleccionado\",\"no_seleccionado\",\"no_seleccionado\",\"no_seleccionado\",\"no_seleccionado\",\"no_seleccionado\",\"no_seleccionado\",\"no_seleccionado\",\"no_seleccionado\",\"no_seleccionado\",\"no_seleccionado\",\"no_seleccionado\",\"no_seleccionado\",\"no_seleccionado\",\"no_seleccionado\",\"no_seleccionado\",\"no_seleccionado\",\"no_seleccionado\",\"no_seleccionado\",\"seleccionado\",\"no_seleccionado\",\"no_seleccionado\",\"no_seleccionado\",\"no_seleccionado\",\"no_seleccionado\",\"no_seleccionado\",\"no_seleccionado\",\"no_seleccionado\",\"no_seleccionado\",\"no_seleccionado\",\"no_seleccionado\",\"no_seleccionado\",\"no_seleccionado\",\"seleccionado\",\"no_seleccionado\",\"no_seleccionado\",\"no_seleccionado\",\"no_seleccionado\",\"no_seleccionado\",\"no_seleccionado\",\"no_seleccionado\",\"no_seleccionado\",\"no_seleccionado\",\"no_seleccionado\",\"no_seleccionado\",\"no_seleccionado\",\"no_seleccionado\",\"no_seleccionado\",\"no_seleccionado\",\"no_seleccionado\",\"no_seleccionado\",\"no_seleccionado\",\"seleccionado\",\"no_seleccionado\",\"no_seleccionado\",\"no_seleccionado\",\"no_seleccionado\",\"no_seleccionado\",\"no_seleccionado\",\"no_seleccionado\",\"no_seleccionado\",\"no_seleccionado\",\"no_seleccionado\",\"no_seleccionado\",\"seleccionado\",\"no_seleccionado\",\"no_seleccionado\",\"no_seleccionado\",\"no_seleccionado\",\"no_seleccionado\",\"no_seleccionado\",\"no_seleccionado\",\"no_seleccionado\",\"no_seleccionado\",\"no_seleccionado\",\"no_seleccionado\",\"no_seleccionado\",\"no_seleccionado\",\"no_seleccionado\",\"no_seleccionado\",\"no_seleccionado\",\"no_seleccionado\",\"no_seleccionado\",\"no_seleccionado\",\"no_seleccionado\",\"no_seleccionado\",\"no_seleccionado\",\"no_seleccionado\",\"no_seleccionado\",\"no_seleccionado\",\"no_seleccionado\",\"seleccionado\",\"seleccionado\",\"no_seleccionado\",\"no_seleccionado\",\"no_seleccionado\",\"no_seleccionado\",\"no_seleccionado\",\"no_seleccionado\",\"no_seleccionado\",\"no_seleccionado\",\"no_seleccionado\",\"seleccionado\",\"no_seleccionado\",\"no_seleccionado\",\"no_seleccionado\",\"no_seleccionado\",\"no_seleccionado\",\"no_seleccionado\",\"no_seleccionado\",\"no_seleccionado\",\"no_seleccionado\",\"no_seleccionado\",\"no_seleccionado\",\"no_seleccionado\",\"no_seleccionado\",\"no_seleccionado\",\"no_seleccionado\",\"no_seleccionado\",\"no_seleccionado\",\"no_seleccionado\",\"no_seleccionado\",\"no_seleccionado\",\"no_seleccionado\",\"no_seleccionado\",\"no_seleccionado\",\"no_seleccionado\",\"no_seleccionado\",\"no_seleccionado\",\"no_seleccionado\",\"no_seleccionado\",\"no_seleccionado\",\"no_seleccionado\",\"no_seleccionado\",\"no_seleccionado\",\"no_seleccionado\",\"no_seleccionado\",\"no_seleccionado\",\"no_seleccionado\",\"no_seleccionado\",\"no_seleccionado\",\"no_seleccionado\",\"no_seleccionado\",\"no_seleccionado\",\"no_seleccionado\",\"no_seleccionado\",\"no_seleccionado\",\"no_seleccionado\",\"no_seleccionado\",\"no_seleccionado\",\"no_seleccionado\",\"no_seleccionado\",\"no_seleccionado\",\"no_seleccionado\",\"no_seleccionado\",\"no_seleccionado\",\"no_seleccionado\",\"no_seleccionado\",\"no_seleccionado\",\"no_seleccionado\",\"no_seleccionado\",\"no_seleccionado\",\"no_seleccionado\",\"no_seleccionado\",\"no_seleccionado\",\"no_seleccionado\",\"no_seleccionado\",\"no_seleccionado\",\"no_seleccionado\",\"no_seleccionado\",\"no_seleccionado\",\"no_seleccionado\",\"no_seleccionado\",\"no_seleccionado\",\"no_seleccionado\",\"seleccionado\",\"no_seleccionado\",\"no_seleccionado\",\"no_seleccionado\",\"no_seleccionado\",\"no_seleccionado\",\"no_seleccionado\",\"no_seleccionado\",\"no_seleccionado\",\"seleccionado\",\"no_seleccionado\",\"no_seleccionado\",\"no_seleccionado\",\"no_seleccionado\",\"no_seleccionado\",\"no_seleccionado\",\"no_seleccionado\",\"no_seleccionado\",\"no_seleccionado\",\"no_seleccionado\",\"no_seleccionado\",\"no_seleccionado\",\"no_seleccionado\",\"no_seleccionado\",\"no_seleccionado\",\"no_seleccionado\",\"no_seleccionado\",\"no_seleccionado\",\"no_seleccionado\",\"no_seleccionado\",\"no_seleccionado\",\"no_seleccionado\",\"no_seleccionado\",\"no_seleccionado\",\"no_seleccionado\",\"no_seleccionado\",\"no_seleccionado\",\"no_seleccionado\",\"no_seleccionado\",\"no_seleccionado\",\"no_seleccionado\",\"no_seleccionado\",\"no_seleccionado\",\"no_seleccionado\",\"no_seleccionado\",\"no_seleccionado\",\"no_seleccionado\",\"no_seleccionado\",\"no_seleccionado\",\"no_seleccionado\",\"no_seleccionado\",\"no_seleccionado\",\"no_seleccionado\",\"no_seleccionado\",\"no_seleccionado\",\"no_seleccionado\",\"seleccionado\",\"no_seleccionado\",\"no_seleccionado\",\"no_seleccionado\",\"no_seleccionado\",\"no_seleccionado\",\"no_seleccionado\",\"no_seleccionado\",\"no_seleccionado\",\"no_seleccionado\",\"no_seleccionado\",\"no_seleccionado\",\"no_seleccionado\",\"no_seleccionado\",\"no_seleccionado\",\"no_seleccionado\",\"no_seleccionado\",\"no_seleccionado\",\"no_seleccionado\",\"no_seleccionado\",\"no_seleccionado\",\"no_seleccionado\",\"no_seleccionado\",\"no_seleccionado\",\"no_seleccionado\",\"no_seleccionado\",\"no_seleccionado\",\"no_seleccionado\",\"no_seleccionado\",\"no_seleccionado\",\"no_seleccionado\",\"no_seleccionado\",\"no_seleccionado\",\"no_seleccionado\",\"no_seleccionado\",\"no_seleccionado\",\"no_seleccionado\",\"no_seleccionado\",\"seleccionado\",\"no_seleccionado\",\"seleccionado\",\"no_seleccionado\",\"no_seleccionado\",\"no_seleccionado\",\"no_seleccionado\",\"no_seleccionado\",\"no_seleccionado\",\"no_seleccionado\",\"no_seleccionado\",\"no_seleccionado\",\"no_seleccionado\",\"no_seleccionado\",\"no_seleccionado\",\"no_seleccionado\",\"no_seleccionado\",\"no_seleccionado\",\"no_seleccionado\",\"no_seleccionado\",\"no_seleccionado\",\"no_seleccionado\",\"no_seleccionado\",\"no_seleccionado\",\"no_seleccionado\",\"no_seleccionado\",\"no_seleccionado\",\"no_seleccionado\",\"no_seleccionado\",\"no_seleccionado\",\"no_seleccionado\",\"no_seleccionado\",\"no_seleccionado\",\"no_seleccionado\",\"no_seleccionado\",\"no_seleccionado\",\"no_seleccionado\",\"no_seleccionado\",\"no_seleccionado\",\"no_seleccionado\",\"no_seleccionado\",\"no_seleccionado\",\"no_seleccionado\",\"no_seleccionado\",\"no_seleccionado\",\"no_seleccionado\",\"seleccionado\",\"no_seleccionado\",\"no_seleccionado\",\"no_seleccionado\",\"no_seleccionado\",\"no_seleccionado\",\"no_seleccionado\",\"no_seleccionado\",\"no_seleccionado\",\"no_seleccionado\",\"no_seleccionado\",\"no_seleccionado\",\"no_seleccionado\",\"no_seleccionado\",\"no_seleccionado\",\"no_seleccionado\",\"no_seleccionado\",\"no_seleccionado\",\"no_seleccionado\",\"no_seleccionado\",\"no_seleccionado\",\"no_seleccionado\",\"no_seleccionado\",\"no_seleccionado\",\"no_seleccionado\",\"no_seleccionado\",\"no_seleccionado\",\"no_seleccionado\",\"no_seleccionado\",\"no_seleccionado\",\"no_seleccionado\",\"no_seleccionado\",\"no_seleccionado\",\"no_seleccionado\",\"no_seleccionado\",\"no_seleccionado\",\"no_seleccionado\",\"no_seleccionado\",\"no_seleccionado\",\"no_seleccionado\",\"no_seleccionado\",\"no_seleccionado\",\"no_seleccionado\",\"no_seleccionado\",\"no_seleccionado\",\"no_seleccionado\",\"no_seleccionado\",\"no_seleccionado\",\"no_seleccionado\",\"no_seleccionado\",\"no_seleccionado\",\"no_seleccionado\",\"no_seleccionado\",\"no_seleccionado\",\"no_seleccionado\",\"no_seleccionado\",\"no_seleccionado\",\"no_seleccionado\",\"no_seleccionado\",\"no_seleccionado\",\"no_seleccionado\",\"no_seleccionado\",\"no_seleccionado\",\"no_seleccionado\",\"no_seleccionado\",\"no_seleccionado\",\"no_seleccionado\",\"no_seleccionado\",\"no_seleccionado\",\"no_seleccionado\",\"no_seleccionado\",\"no_seleccionado\",\"no_seleccionado\",\"seleccionado\",\"no_seleccionado\",\"no_seleccionado\",\"no_seleccionado\",\"no_seleccionado\",\"no_seleccionado\",\"no_seleccionado\",\"no_seleccionado\",\"no_seleccionado\",\"no_seleccionado\",\"no_seleccionado\",\"no_seleccionado\",\"no_seleccionado\",\"no_seleccionado\",\"no_seleccionado\",\"no_seleccionado\",\"no_seleccionado\",\"no_seleccionado\",\"no_seleccionado\",\"no_seleccionado\",\"no_seleccionado\",\"no_seleccionado\",\"no_seleccionado\",\"no_seleccionado\",\"no_seleccionado\",\"no_seleccionado\",\"no_seleccionado\",\"no_seleccionado\",\"no_seleccionado\",\"no_seleccionado\",\"no_seleccionado\",\"no_seleccionado\",\"no_seleccionado\",\"no_seleccionado\",\"no_seleccionado\",\"no_seleccionado\",\"no_seleccionado\",\"no_seleccionado\",\"no_seleccionado\",\"no_seleccionado\",\"no_seleccionado\",\"no_seleccionado\",\"no_seleccionado\",\"no_seleccionado\",\"no_seleccionado\",\"no_seleccionado\",\"no_seleccionado\",\"no_seleccionado\",\"no_seleccionado\",\"no_seleccionado\",\"no_seleccionado\",\"no_seleccionado\",\"no_seleccionado\",\"no_seleccionado\",\"no_seleccionado\",\"no_seleccionado\",\"no_seleccionado\",\"no_seleccionado\",\"no_seleccionado\",\"no_seleccionado\",\"no_seleccionado\",\"no_seleccionado\",\"no_seleccionado\",\"no_seleccionado\",\"no_seleccionado\",\"no_seleccionado\",\"no_seleccionado\",\"no_seleccionado\",\"no_seleccionado\",\"no_seleccionado\",\"no_seleccionado\",\"no_seleccionado\",\"no_seleccionado\",\"no_seleccionado\",\"no_seleccionado\",\"no_seleccionado\",\"no_seleccionado\",\"no_seleccionado\",\"no_seleccionado\",\"no_seleccionado\",\"no_seleccionado\",\"no_seleccionado\",\"no_seleccionado\",\"no_seleccionado\",\"no_seleccionado\",\"no_seleccionado\",\"no_seleccionado\",\"no_seleccionado\",\"no_seleccionado\",\"no_seleccionado\",\"no_seleccionado\",\"no_seleccionado\",\"no_seleccionado\",\"no_seleccionado\",\"no_seleccionado\",\"no_seleccionado\",\"no_seleccionado\",\"no_seleccionado\",\"no_seleccionado\",\"no_seleccionado\",\"no_seleccionado\",\"no_seleccionado\",\"no_seleccionado\",\"no_seleccionado\",\"no_seleccionado\",\"no_seleccionado\",\"no_seleccionado\",\"no_seleccionado\",\"no_seleccionado\",\"no_seleccionado\",\"no_seleccionado\",\"no_seleccionado\",\"no_seleccionado\",\"no_seleccionado\",\"no_seleccionado\",\"no_seleccionado\",\"no_seleccionado\",\"no_seleccionado\",\"no_seleccionado\",\"no_seleccionado\",\"no_seleccionado\",\"no_seleccionado\",\"no_seleccionado\",\"no_seleccionado\",\"no_seleccionado\",\"no_seleccionado\",\"no_seleccionado\",\"no_seleccionado\",\"no_seleccionado\",\"no_seleccionado\",\"no_seleccionado\",\"no_seleccionado\",\"no_seleccionado\",\"no_seleccionado\",\"no_seleccionado\",\"no_seleccionado\",\"no_seleccionado\",\"seleccionado\",\"no_seleccionado\",\"seleccionado\",\"no_seleccionado\",\"no_seleccionado\",\"no_seleccionado\",\"no_seleccionado\",\"no_seleccionado\",\"no_seleccionado\",\"no_seleccionado\",\"no_seleccionado\",\"no_seleccionado\",\"no_seleccionado\",\"no_seleccionado\",\"no_seleccionado\",\"no_seleccionado\",\"no_seleccionado\",\"no_seleccionado\",\"no_seleccionado\",\"no_seleccionado\",\"no_seleccionado\",\"no_seleccionado\",\"no_seleccionado\",\"no_seleccionado\",\"no_seleccionado\",\"no_seleccionado\",\"no_seleccionado\",\"no_seleccionado\",\"no_seleccionado\",\"no_seleccionado\",\"no_seleccionado\",\"no_seleccionado\",\"no_seleccionado\",\"no_seleccionado\",\"no_seleccionado\",\"no_seleccionado\",\"no_seleccionado\",\"seleccionado\",\"no_seleccionado\",\"no_seleccionado\",\"no_seleccionado\",\"no_seleccionado\",\"no_seleccionado\",\"no_seleccionado\",\"no_seleccionado\",\"seleccionado\",\"no_seleccionado\",\"no_seleccionado\",\"no_seleccionado\",\"no_seleccionado\",\"no_seleccionado\",\"no_seleccionado\",\"no_seleccionado\",\"no_seleccionado\",\"no_seleccionado\",\"no_seleccionado\",\"seleccionado\",\"no_seleccionado\",\"no_seleccionado\",\"no_seleccionado\",\"no_seleccionado\",\"no_seleccionado\",\"no_seleccionado\",\"no_seleccionado\",\"no_seleccionado\",\"no_seleccionado\",\"no_seleccionado\",\"no_seleccionado\",\"no_seleccionado\",\"no_seleccionado\",\"no_seleccionado\",\"no_seleccionado\",\"no_seleccionado\",\"no_seleccionado\",\"no_seleccionado\",\"no_seleccionado\",\"no_seleccionado\",\"no_seleccionado\",\"no_seleccionado\",\"no_seleccionado\",\"no_seleccionado\",\"no_seleccionado\",\"no_seleccionado\",\"no_seleccionado\",\"no_seleccionado\",\"no_seleccionado\",\"no_seleccionado\",\"no_seleccionado\",\"no_seleccionado\",\"no_seleccionado\",\"no_seleccionado\",\"no_seleccionado\",\"no_seleccionado\",\"no_seleccionado\",\"no_seleccionado\",\"seleccionado\",\"no_seleccionado\",\"no_seleccionado\",\"no_seleccionado\",\"no_seleccionado\",\"no_seleccionado\",\"no_seleccionado\",\"no_seleccionado\",\"no_seleccionado\",\"no_seleccionado\",\"no_seleccionado\",\"no_seleccionado\",\"no_seleccionado\",\"no_seleccionado\",\"no_seleccionado\",\"no_seleccionado\",\"no_seleccionado\",\"no_seleccionado\",\"no_seleccionado\",\"no_seleccionado\",\"no_seleccionado\",\"no_seleccionado\",\"no_seleccionado\",\"no_seleccionado\",\"no_seleccionado\",\"no_seleccionado\",\"no_seleccionado\",\"no_seleccionado\",\"no_seleccionado\",\"no_seleccionado\",\"no_seleccionado\",\"no_seleccionado\",\"no_seleccionado\",\"no_seleccionado\",\"no_seleccionado\",\"no_seleccionado\",\"no_seleccionado\",\"no_seleccionado\",\"no_seleccionado\",\"no_seleccionado\",\"no_seleccionado\",\"no_seleccionado\",\"no_seleccionado\",\"no_seleccionado\",\"no_seleccionado\",\"no_seleccionado\",\"no_seleccionado\",\"no_seleccionado\",\"no_seleccionado\",\"no_seleccionado\",\"no_seleccionado\",\"no_seleccionado\",\"no_seleccionado\",\"no_seleccionado\",\"no_seleccionado\",\"no_seleccionado\",\"no_seleccionado\",\"no_seleccionado\",\"no_seleccionado\",\"no_seleccionado\",\"no_seleccionado\",\"no_seleccionado\",\"no_seleccionado\",\"no_seleccionado\",\"no_seleccionado\",\"no_seleccionado\",\"no_seleccionado\",\"no_seleccionado\",\"no_seleccionado\",\"no_seleccionado\",\"no_seleccionado\",\"no_seleccionado\",\"no_seleccionado\",\"no_seleccionado\",\"no_seleccionado\",\"no_seleccionado\",\"no_seleccionado\",\"no_seleccionado\",\"no_seleccionado\",\"no_seleccionado\",\"no_seleccionado\",\"no_seleccionado\",\"no_seleccionado\",\"no_seleccionado\",\"no_seleccionado\",\"no_seleccionado\",\"no_seleccionado\",\"no_seleccionado\",\"no_seleccionado\",\"no_seleccionado\",\"no_seleccionado\",\"no_seleccionado\",\"no_seleccionado\",\"seleccionado\",\"no_seleccionado\",\"no_seleccionado\",\"no_seleccionado\",\"no_seleccionado\",\"no_seleccionado\",\"no_seleccionado\",\"no_seleccionado\",\"no_seleccionado\",\"no_seleccionado\",\"no_seleccionado\",\"no_seleccionado\",\"no_seleccionado\",\"no_seleccionado\",\"no_seleccionado\",\"no_seleccionado\",\"no_seleccionado\",\"no_seleccionado\",\"no_seleccionado\",\"no_seleccionado\",\"seleccionado\",\"no_seleccionado\",\"no_seleccionado\",\"no_seleccionado\",\"no_seleccionado\",\"no_seleccionado\",\"no_seleccionado\",\"no_seleccionado\",\"no_seleccionado\",\"no_seleccionado\",\"no_seleccionado\",\"no_seleccionado\",\"no_seleccionado\",\"no_seleccionado\",\"no_seleccionado\",\"no_seleccionado\",\"no_seleccionado\",\"no_seleccionado\",\"no_seleccionado\",\"no_seleccionado\",\"no_seleccionado\",\"no_seleccionado\",\"no_seleccionado\",\"no_seleccionado\",\"no_seleccionado\",\"no_seleccionado\",\"no_seleccionado\",\"no_seleccionado\",\"no_seleccionado\",\"no_seleccionado\",\"no_seleccionado\",\"no_seleccionado\",\"no_seleccionado\",\"no_seleccionado\",\"no_seleccionado\",\"no_seleccionado\",\"no_seleccionado\",\"no_seleccionado\",\"no_seleccionado\",\"no_seleccionado\",\"no_seleccionado\",\"no_seleccionado\",\"no_seleccionado\",\"no_seleccionado\",\"no_seleccionado\",\"no_seleccionado\",\"no_seleccionado\",\"no_seleccionado\",\"no_seleccionado\",\"no_seleccionado\",\"no_seleccionado\",\"no_seleccionado\",\"no_seleccionado\",\"no_seleccionado\",\"no_seleccionado\",\"no_seleccionado\",\"no_seleccionado\",\"no_seleccionado\",\"no_seleccionado\",\"no_seleccionado\",\"no_seleccionado\",\"no_seleccionado\",\"no_seleccionado\",\"no_seleccionado\",\"no_seleccionado\",\"no_seleccionado\",\"no_seleccionado\",\"no_seleccionado\",\"no_seleccionado\",\"no_seleccionado\",\"no_seleccionado\",\"no_seleccionado\",\"no_seleccionado\",\"no_seleccionado\",\"no_seleccionado\",\"no_seleccionado\",\"no_seleccionado\",\"no_seleccionado\",\"no_seleccionado\",\"no_seleccionado\",\"no_seleccionado\",\"no_seleccionado\",\"no_seleccionado\",\"no_seleccionado\",\"no_seleccionado\",\"no_seleccionado\",\"no_seleccionado\",\"no_seleccionado\",\"no_seleccionado\",\"no_seleccionado\",\"no_seleccionado\",\"no_seleccionado\",\"no_seleccionado\",\"no_seleccionado\",\"no_seleccionado\",\"no_seleccionado\",\"no_seleccionado\",\"no_seleccionado\",\"no_seleccionado\",\"no_seleccionado\",\"no_seleccionado\",\"no_seleccionado\",\"no_seleccionado\",\"no_seleccionado\",\"no_seleccionado\",\"no_seleccionado\",\"no_seleccionado\",\"no_seleccionado\",\"no_seleccionado\",\"no_seleccionado\",\"no_seleccionado\",\"no_seleccionado\",\"no_seleccionado\",\"no_seleccionado\",\"no_seleccionado\",\"no_seleccionado\",\"no_seleccionado\",\"no_seleccionado\",\"no_seleccionado\",\"no_seleccionado\",\"no_seleccionado\",\"seleccionado\",\"no_seleccionado\",\"no_seleccionado\",\"no_seleccionado\",\"no_seleccionado\",\"no_seleccionado\",\"no_seleccionado\",\"no_seleccionado\",\"no_seleccionado\",\"no_seleccionado\",\"no_seleccionado\",\"no_seleccionado\",\"no_seleccionado\",\"no_seleccionado\",\"no_seleccionado\",\"no_seleccionado\",\"no_seleccionado\",\"no_seleccionado\",\"no_seleccionado\",\"no_seleccionado\",\"seleccionado\",\"no_seleccionado\",\"no_seleccionado\",\"no_seleccionado\",\"no_seleccionado\",\"no_seleccionado\",\"no_seleccionado\",\"no_seleccionado\",\"no_seleccionado\",\"seleccionado\",\"no_seleccionado\",\"no_seleccionado\",\"no_seleccionado\",\"no_seleccionado\",\"no_seleccionado\",\"no_seleccionado\",\"no_seleccionado\",\"no_seleccionado\",\"no_seleccionado\",\"no_seleccionado\",\"no_seleccionado\",\"no_seleccionado\",\"no_seleccionado\",\"no_seleccionado\",\"no_seleccionado\",\"no_seleccionado\",\"no_seleccionado\",\"no_seleccionado\",\"no_seleccionado\",\"no_seleccionado\",\"no_seleccionado\",\"no_seleccionado\",\"no_seleccionado\",\"no_seleccionado\",\"no_seleccionado\",\"no_seleccionado\",\"no_seleccionado\",\"no_seleccionado\",\"no_seleccionado\",\"no_seleccionado\",\"no_seleccionado\",\"no_seleccionado\",\"no_seleccionado\",\"no_seleccionado\",\"no_seleccionado\",\"no_seleccionado\",\"no_seleccionado\",\"no_seleccionado\",\"no_seleccionado\",\"no_seleccionado\",\"no_seleccionado\",\"no_seleccionado\",\"no_seleccionado\",\"no_seleccionado\",\"no_seleccionado\",\"no_seleccionado\",\"no_seleccionado\",\"no_seleccionado\",\"no_seleccionado\",\"no_seleccionado\",\"no_seleccionado\",\"no_seleccionado\",\"no_seleccionado\",\"no_seleccionado\",\"no_seleccionado\",\"no_seleccionado\",\"no_seleccionado\",\"no_seleccionado\",\"no_seleccionado\",\"no_seleccionado\",\"no_seleccionado\",\"no_seleccionado\",\"no_seleccionado\",\"no_seleccionado\",\"no_seleccionado\",\"no_seleccionado\",\"no_seleccionado\",\"no_seleccionado\",\"no_seleccionado\",\"no_seleccionado\",\"no_seleccionado\",\"no_seleccionado\",\"no_seleccionado\",\"no_seleccionado\",\"no_seleccionado\",\"no_seleccionado\",\"no_seleccionado\",\"seleccionado\",\"no_seleccionado\",\"no_seleccionado\",\"no_seleccionado\",\"no_seleccionado\",\"no_seleccionado\",\"no_seleccionado\",\"no_seleccionado\",\"no_seleccionado\",\"no_seleccionado\",\"no_seleccionado\",\"no_seleccionado\",\"no_seleccionado\",\"no_seleccionado\",\"no_seleccionado\",\"no_seleccionado\",\"no_seleccionado\",\"no_seleccionado\",\"no_seleccionado\",\"no_seleccionado\",\"no_seleccionado\",\"no_seleccionado\",\"no_seleccionado\",\"no_seleccionado\",\"no_seleccionado\",\"no_seleccionado\",\"no_seleccionado\",\"no_seleccionado\",\"seleccionado\",\"no_seleccionado\",\"no_seleccionado\",\"no_seleccionado\",\"no_seleccionado\",\"no_seleccionado\",\"no_seleccionado\",\"no_seleccionado\",\"no_seleccionado\",\"no_seleccionado\",\"no_seleccionado\",\"no_seleccionado\",\"no_seleccionado\",\"no_seleccionado\",\"no_seleccionado\",\"no_seleccionado\",\"no_seleccionado\",\"no_seleccionado\",\"no_seleccionado\",\"no_seleccionado\",\"no_seleccionado\",\"no_seleccionado\",\"seleccionado\",\"no_seleccionado\",\"no_seleccionado\",\"no_seleccionado\",\"no_seleccionado\",\"no_seleccionado\",\"seleccionado\",\"no_seleccionado\",\"no_seleccionado\",\"no_seleccionado\",\"no_seleccionado\",\"no_seleccionado\",\"no_seleccionado\",\"no_seleccionado\",\"seleccionado\",\"no_seleccionado\",\"no_seleccionado\",\"no_seleccionado\",\"no_seleccionado\",\"no_seleccionado\",\"seleccionado\",\"no_seleccionado\",\"no_seleccionado\",\"no_seleccionado\",\"no_seleccionado\",\"no_seleccionado\",\"no_seleccionado\",\"no_seleccionado\",\"no_seleccionado\",\"no_seleccionado\",\"no_seleccionado\",\"no_seleccionado\",\"no_seleccionado\",\"no_seleccionado\",\"no_seleccionado\",\"no_seleccionado\",\"no_seleccionado\",\"no_seleccionado\",\"no_seleccionado\",\"no_seleccionado\",\"no_seleccionado\",\"no_seleccionado\",\"no_seleccionado\",\"no_seleccionado\",\"no_seleccionado\",\"no_seleccionado\",\"no_seleccionado\",\"no_seleccionado\",\"no_seleccionado\",\"no_seleccionado\",\"no_seleccionado\",\"no_seleccionado\",\"no_seleccionado\",\"no_seleccionado\",\"no_seleccionado\",\"no_seleccionado\",\"no_seleccionado\",\"no_seleccionado\",\"no_seleccionado\",\"no_seleccionado\",\"no_seleccionado\",\"no_seleccionado\",\"no_seleccionado\",\"no_seleccionado\",\"no_seleccionado\",\"no_seleccionado\",\"no_seleccionado\",\"no_seleccionado\",\"no_seleccionado\",\"no_seleccionado\",\"no_seleccionado\",\"no_seleccionado\",\"no_seleccionado\",\"no_seleccionado\",\"no_seleccionado\",\"no_seleccionado\",\"no_seleccionado\",\"no_seleccionado\",\"no_seleccionado\",\"seleccionado\",\"no_seleccionado\",\"no_seleccionado\",\"no_seleccionado\",\"no_seleccionado\",\"no_seleccionado\",\"no_seleccionado\",\"no_seleccionado\",\"no_seleccionado\",\"no_seleccionado\",\"no_seleccionado\",\"no_seleccionado\",\"no_seleccionado\",\"no_seleccionado\",\"no_seleccionado\",\"no_seleccionado\",\"no_seleccionado\",\"no_seleccionado\",\"no_seleccionado\",\"no_seleccionado\",\"no_seleccionado\",\"no_seleccionado\",\"no_seleccionado\",\"no_seleccionado\",\"no_seleccionado\",\"no_seleccionado\",\"no_seleccionado\",\"no_seleccionado\",\"no_seleccionado\",\"no_seleccionado\",\"no_seleccionado\",\"no_seleccionado\",\"no_seleccionado\",\"no_seleccionado\",\"no_seleccionado\",\"no_seleccionado\",\"no_seleccionado\",\"seleccionado\",\"no_seleccionado\",\"no_seleccionado\",\"seleccionado\",\"no_seleccionado\",\"no_seleccionado\",\"no_seleccionado\",\"no_seleccionado\",\"no_seleccionado\",\"no_seleccionado\",\"no_seleccionado\",\"no_seleccionado\",\"no_seleccionado\",\"no_seleccionado\",\"no_seleccionado\",\"no_seleccionado\",\"no_seleccionado\",\"no_seleccionado\",\"no_seleccionado\",\"no_seleccionado\",\"no_seleccionado\",\"no_seleccionado\",\"no_seleccionado\",\"no_seleccionado\",\"no_seleccionado\",\"no_seleccionado\",\"no_seleccionado\",\"no_seleccionado\",\"no_seleccionado\",\"no_seleccionado\",\"no_seleccionado\",\"no_seleccionado\",\"no_seleccionado\",\"no_seleccionado\",\"no_seleccionado\",\"no_seleccionado\",\"no_seleccionado\",\"no_seleccionado\",\"no_seleccionado\",\"no_seleccionado\",\"no_seleccionado\",\"no_seleccionado\",\"no_seleccionado\",\"no_seleccionado\",\"no_seleccionado\",\"no_seleccionado\",\"no_seleccionado\",\"no_seleccionado\",\"no_seleccionado\",\"no_seleccionado\",\"no_seleccionado\",\"no_seleccionado\",\"no_seleccionado\",\"no_seleccionado\",\"no_seleccionado\",\"no_seleccionado\",\"no_seleccionado\",\"no_seleccionado\",\"no_seleccionado\",\"no_seleccionado\",\"no_seleccionado\",\"no_seleccionado\",\"no_seleccionado\",\"no_seleccionado\",\"no_seleccionado\",\"no_seleccionado\",\"no_seleccionado\",\"no_seleccionado\",\"no_seleccionado\",\"no_seleccionado\",\"no_seleccionado\",\"no_seleccionado\",\"no_seleccionado\",\"no_seleccionado\",\"no_seleccionado\",\"no_seleccionado\",\"no_seleccionado\",\"no_seleccionado\",\"no_seleccionado\",\"no_seleccionado\",\"no_seleccionado\",\"no_seleccionado\",\"no_seleccionado\",\"seleccionado\",\"no_seleccionado\",\"no_seleccionado\",\"no_seleccionado\",\"no_seleccionado\",\"no_seleccionado\",\"seleccionado\",\"no_seleccionado\",\"no_seleccionado\",\"no_seleccionado\",\"no_seleccionado\",\"no_seleccionado\",\"no_seleccionado\",\"no_seleccionado\",\"no_seleccionado\",\"no_seleccionado\",\"no_seleccionado\",\"no_seleccionado\",\"no_seleccionado\",\"no_seleccionado\",\"no_seleccionado\",\"no_seleccionado\",\"no_seleccionado\",\"no_seleccionado\",\"no_seleccionado\",\"no_seleccionado\",\"no_seleccionado\",\"no_seleccionado\",\"no_seleccionado\",\"no_seleccionado\",\"no_seleccionado\",\"no_seleccionado\",\"no_seleccionado\",\"no_seleccionado\",\"no_seleccionado\",\"no_seleccionado\",\"no_seleccionado\",\"no_seleccionado\",\"no_seleccionado\",\"no_seleccionado\",\"no_seleccionado\",\"no_seleccionado\",\"no_seleccionado\",\"no_seleccionado\",\"no_seleccionado\",\"no_seleccionado\",\"no_seleccionado\",\"no_seleccionado\",\"no_seleccionado\",\"no_seleccionado\",\"no_seleccionado\",\"no_seleccionado\",\"no_seleccionado\",\"no_seleccionado\",\"no_seleccionado\",\"no_seleccionado\",\"no_seleccionado\",\"no_seleccionado\",\"no_seleccionado\",\"no_seleccionado\",\"no_seleccionado\",\"no_seleccionado\",\"no_seleccionado\",\"no_seleccionado\",\"no_seleccionado\",\"no_seleccionado\",\"no_seleccionado\",\"no_seleccionado\",\"no_seleccionado\",\"no_seleccionado\",\"no_seleccionado\",\"no_seleccionado\",\"no_seleccionado\",\"no_seleccionado\",\"no_seleccionado\",\"no_seleccionado\",\"no_seleccionado\",\"no_seleccionado\",\"no_seleccionado\",\"no_seleccionado\",\"no_seleccionado\",\"no_seleccionado\",\"no_seleccionado\",\"no_seleccionado\",\"no_seleccionado\",\"no_seleccionado\",\"no_seleccionado\",\"no_seleccionado\",\"no_seleccionado\",\"no_seleccionado\",\"no_seleccionado\",\"no_seleccionado\",\"no_seleccionado\",\"no_seleccionado\",\"no_seleccionado\",\"no_seleccionado\",\"no_seleccionado\",\"no_seleccionado\",\"no_seleccionado\",\"no_seleccionado\",\"no_seleccionado\",\"no_seleccionado\",\"no_seleccionado\",\"no_seleccionado\",\"no_seleccionado\",\"no_seleccionado\",\"no_seleccionado\",\"no_seleccionado\",\"no_seleccionado\",\"no_seleccionado\",\"no_seleccionado\",\"no_seleccionado\",\"no_seleccionado\",\"no_seleccionado\",\"no_seleccionado\",\"no_seleccionado\",\"no_seleccionado\",\"no_seleccionado\",\"no_seleccionado\",\"seleccionado\",\"seleccionado\",\"no_seleccionado\",\"no_seleccionado\",\"no_seleccionado\",\"no_seleccionado\",\"no_seleccionado\",\"no_seleccionado\",\"no_seleccionado\",\"no_seleccionado\",\"no_seleccionado\",\"no_seleccionado\",\"no_seleccionado\",\"no_seleccionado\",\"no_seleccionado\",\"no_seleccionado\",\"no_seleccionado\",\"no_seleccionado\",\"no_seleccionado\",\"no_seleccionado\",\"seleccionado\",\"no_seleccionado\",\"no_seleccionado\",\"no_seleccionado\",\"no_seleccionado\",\"no_seleccionado\",\"no_seleccionado\",\"no_seleccionado\",\"no_seleccionado\",\"no_seleccionado\",\"no_seleccionado\",\"no_seleccionado\",\"no_seleccionado\",\"no_seleccionado\",\"no_seleccionado\",\"no_seleccionado\",\"no_seleccionado\",\"no_seleccionado\",\"no_seleccionado\",\"no_seleccionado\",\"no_seleccionado\",\"no_seleccionado\",\"no_seleccionado\",\"no_seleccionado\",\"no_seleccionado\",\"no_seleccionado\",\"no_seleccionado\",\"no_seleccionado\",\"no_seleccionado\",\"no_seleccionado\",\"no_seleccionado\",\"no_seleccionado\",\"no_seleccionado\",\"no_seleccionado\",\"no_seleccionado\",\"no_seleccionado\",\"no_seleccionado\",\"no_seleccionado\",\"no_seleccionado\",\"no_seleccionado\",\"no_seleccionado\",\"no_seleccionado\",\"no_seleccionado\",\"no_seleccionado\",\"seleccionado\",\"seleccionado\",\"no_seleccionado\",\"no_seleccionado\",\"no_seleccionado\",\"no_seleccionado\",\"no_seleccionado\",\"no_seleccionado\",\"no_seleccionado\",\"no_seleccionado\",\"no_seleccionado\",\"no_seleccionado\",\"no_seleccionado\",\"no_seleccionado\",\"no_seleccionado\",\"no_seleccionado\",\"no_seleccionado\",\"no_seleccionado\",\"no_seleccionado\",\"no_seleccionado\",\"no_seleccionado\",\"no_seleccionado\",\"no_seleccionado\",\"no_seleccionado\",\"no_seleccionado\",\"no_seleccionado\",\"no_seleccionado\",\"no_seleccionado\",\"no_seleccionado\",\"no_seleccionado\",\"no_seleccionado\",\"no_seleccionado\",\"no_seleccionado\",\"no_seleccionado\",\"no_seleccionado\",\"no_seleccionado\",\"no_seleccionado\",\"no_seleccionado\",\"no_seleccionado\",\"no_seleccionado\",\"no_seleccionado\",\"no_seleccionado\",\"no_seleccionado\",\"no_seleccionado\",\"no_seleccionado\",\"no_seleccionado\",\"no_seleccionado\",\"no_seleccionado\",\"no_seleccionado\",\"no_seleccionado\",\"no_seleccionado\",\"no_seleccionado\",\"no_seleccionado\",\"no_seleccionado\",\"no_seleccionado\",\"no_seleccionado\",\"no_seleccionado\",\"no_seleccionado\",\"no_seleccionado\",\"no_seleccionado\",\"no_seleccionado\",\"no_seleccionado\",\"no_seleccionado\",\"no_seleccionado\",\"no_seleccionado\",\"no_seleccionado\",\"no_seleccionado\",\"no_seleccionado\",\"no_seleccionado\",\"no_seleccionado\",\"no_seleccionado\",\"no_seleccionado\",\"no_seleccionado\",\"no_seleccionado\",\"no_seleccionado\",\"no_seleccionado\",\"no_seleccionado\",\"no_seleccionado\",\"no_seleccionado\",\"no_seleccionado\",\"no_seleccionado\",\"no_seleccionado\",\"no_seleccionado\",\"no_seleccionado\",\"no_seleccionado\",\"no_seleccionado\",\"no_seleccionado\",\"no_seleccionado\",\"no_seleccionado\",\"no_seleccionado\",\"no_seleccionado\",\"no_seleccionado\",\"no_seleccionado\",\"no_seleccionado\",\"no_seleccionado\",\"no_seleccionado\",\"no_seleccionado\",\"no_seleccionado\",\"no_seleccionado\",\"no_seleccionado\",\"no_seleccionado\",\"no_seleccionado\",\"no_seleccionado\",\"no_seleccionado\",\"no_seleccionado\",\"no_seleccionado\",\"no_seleccionado\",\"no_seleccionado\",\"no_seleccionado\",\"no_seleccionado\",\"no_seleccionado\",\"no_seleccionado\",\"no_seleccionado\",\"no_seleccionado\",\"no_seleccionado\",\"no_seleccionado\",\"no_seleccionado\",\"no_seleccionado\",\"no_seleccionado\",\"no_seleccionado\",\"no_seleccionado\",\"seleccionado\",\"no_seleccionado\",\"no_seleccionado\",\"no_seleccionado\",\"no_seleccionado\",\"no_seleccionado\",\"no_seleccionado\",\"no_seleccionado\",\"no_seleccionado\",\"no_seleccionado\",\"no_seleccionado\",\"no_seleccionado\",\"no_seleccionado\",\"no_seleccionado\",\"no_seleccionado\",\"no_seleccionado\",\"no_seleccionado\",\"no_seleccionado\",\"no_seleccionado\",\"no_seleccionado\",\"no_seleccionado\",\"no_seleccionado\",\"no_seleccionado\",\"no_seleccionado\",\"no_seleccionado\",\"no_seleccionado\",\"no_seleccionado\",\"no_seleccionado\",\"no_seleccionado\",\"no_seleccionado\",\"no_seleccionado\",\"no_seleccionado\",\"no_seleccionado\",\"no_seleccionado\",\"no_seleccionado\",\"no_seleccionado\",\"no_seleccionado\",\"seleccionado\",\"seleccionado\",\"no_seleccionado\",\"no_seleccionado\",\"no_seleccionado\",\"no_seleccionado\",\"no_seleccionado\",\"no_seleccionado\",\"no_seleccionado\",\"no_seleccionado\",\"no_seleccionado\",\"no_seleccionado\",\"no_seleccionado\",\"no_seleccionado\",\"no_seleccionado\",\"no_seleccionado\",\"no_seleccionado\",\"no_seleccionado\",\"no_seleccionado\",\"no_seleccionado\",\"no_seleccionado\",\"no_seleccionado\",\"no_seleccionado\",\"no_seleccionado\",\"no_seleccionado\",\"no_seleccionado\",\"no_seleccionado\",\"no_seleccionado\",\"no_seleccionado\",\"no_seleccionado\",\"no_seleccionado\",\"no_seleccionado\",\"no_seleccionado\",\"no_seleccionado\",\"no_seleccionado\",\"no_seleccionado\",\"no_seleccionado\",\"no_seleccionado\",\"no_seleccionado\",\"no_seleccionado\",\"no_seleccionado\",\"no_seleccionado\",\"no_seleccionado\",\"no_seleccionado\",\"no_seleccionado\",\"no_seleccionado\",\"no_seleccionado\",\"no_seleccionado\",\"no_seleccionado\",\"no_seleccionado\",\"no_seleccionado\",\"no_seleccionado\",\"no_seleccionado\",\"no_seleccionado\",\"no_seleccionado\",\"no_seleccionado\",\"no_seleccionado\",\"no_seleccionado\",\"no_seleccionado\",\"no_seleccionado\",\"no_seleccionado\",\"no_seleccionado\",\"no_seleccionado\",\"no_seleccionado\",\"no_seleccionado\",\"no_seleccionado\",\"no_seleccionado\",\"no_seleccionado\",\"no_seleccionado\",\"seleccionado\",\"no_seleccionado\",\"no_seleccionado\",\"no_seleccionado\",\"no_seleccionado\",\"no_seleccionado\",\"no_seleccionado\",\"no_seleccionado\",\"no_seleccionado\",\"no_seleccionado\",\"no_seleccionado\",\"no_seleccionado\",\"no_seleccionado\",\"no_seleccionado\",\"seleccionado\",\"no_seleccionado\",\"no_seleccionado\",\"no_seleccionado\",\"no_seleccionado\",\"no_seleccionado\",\"no_seleccionado\",\"no_seleccionado\",\"no_seleccionado\",\"no_seleccionado\",\"no_seleccionado\",\"no_seleccionado\",\"no_seleccionado\",\"no_seleccionado\",\"no_seleccionado\",\"no_seleccionado\",\"no_seleccionado\",\"no_seleccionado\",\"no_seleccionado\",\"no_seleccionado\",\"no_seleccionado\",\"no_seleccionado\",\"no_seleccionado\",\"no_seleccionado\",\"no_seleccionado\",\"no_seleccionado\",\"no_seleccionado\",\"no_seleccionado\",\"no_seleccionado\",\"no_seleccionado\",\"no_seleccionado\",\"no_seleccionado\",\"no_seleccionado\",\"no_seleccionado\",\"no_seleccionado\",\"no_seleccionado\",\"no_seleccionado\",\"no_seleccionado\",\"no_seleccionado\",\"no_seleccionado\",\"no_seleccionado\",\"no_seleccionado\",\"no_seleccionado\",\"no_seleccionado\",\"no_seleccionado\",\"no_seleccionado\",\"no_seleccionado\",\"no_seleccionado\",\"no_seleccionado\",\"no_seleccionado\",\"no_seleccionado\",\"no_seleccionado\",\"no_seleccionado\",\"no_seleccionado\",\"no_seleccionado\",\"no_seleccionado\",\"no_seleccionado\",\"no_seleccionado\",\"no_seleccionado\",\"no_seleccionado\",\"no_seleccionado\",\"no_seleccionado\",\"no_seleccionado\",\"no_seleccionado\",\"no_seleccionado\",\"no_seleccionado\",\"no_seleccionado\",\"no_seleccionado\",\"no_seleccionado\",\"no_seleccionado\",\"no_seleccionado\",\"no_seleccionado\",\"no_seleccionado\",\"no_seleccionado\",\"no_seleccionado\",\"no_seleccionado\",\"no_seleccionado\",\"no_seleccionado\",\"no_seleccionado\",\"no_seleccionado\",\"no_seleccionado\",\"no_seleccionado\",\"seleccionado\",\"no_seleccionado\",\"no_seleccionado\",\"no_seleccionado\",\"no_seleccionado\",\"no_seleccionado\",\"no_seleccionado\",\"no_seleccionado\",\"no_seleccionado\",\"no_seleccionado\",\"no_seleccionado\",\"no_seleccionado\",\"no_seleccionado\",\"no_seleccionado\",\"no_seleccionado\",\"no_seleccionado\",\"no_seleccionado\",\"no_seleccionado\",\"no_seleccionado\",\"seleccionado\",\"no_seleccionado\",\"no_seleccionado\",\"no_seleccionado\",\"no_seleccionado\",\"no_seleccionado\",\"no_seleccionado\",\"no_seleccionado\",\"no_seleccionado\",\"no_seleccionado\",\"no_seleccionado\",\"no_seleccionado\",\"no_seleccionado\",\"no_seleccionado\",\"no_seleccionado\",\"no_seleccionado\",\"no_seleccionado\",\"no_seleccionado\",\"no_seleccionado\",\"no_seleccionado\",\"no_seleccionado\",\"no_seleccionado\",\"no_seleccionado\",\"no_seleccionado\",\"no_seleccionado\",\"no_seleccionado\",\"no_seleccionado\",\"no_seleccionado\",\"no_seleccionado\",\"no_seleccionado\",\"no_seleccionado\",\"no_seleccionado\",\"no_seleccionado\",\"no_seleccionado\",\"no_seleccionado\",\"no_seleccionado\",\"no_seleccionado\",\"no_seleccionado\",\"no_seleccionado\",\"no_seleccionado\",\"no_seleccionado\",\"no_seleccionado\",\"no_seleccionado\",\"no_seleccionado\",\"no_seleccionado\",\"no_seleccionado\",\"no_seleccionado\",\"no_seleccionado\",\"no_seleccionado\",\"no_seleccionado\",\"no_seleccionado\",\"no_seleccionado\",\"no_seleccionado\",\"no_seleccionado\",\"no_seleccionado\",\"no_seleccionado\",\"no_seleccionado\",\"no_seleccionado\",\"no_seleccionado\",\"no_seleccionado\",\"no_seleccionado\",\"no_seleccionado\",\"no_seleccionado\",\"no_seleccionado\",\"no_seleccionado\",\"no_seleccionado\",\"no_seleccionado\",\"no_seleccionado\",\"no_seleccionado\",\"no_seleccionado\",\"no_seleccionado\",\"no_seleccionado\",\"no_seleccionado\",\"no_seleccionado\",\"no_seleccionado\",\"no_seleccionado\",\"no_seleccionado\",\"no_seleccionado\",\"no_seleccionado\",\"no_seleccionado\",\"no_seleccionado\",\"no_seleccionado\",\"no_seleccionado\",\"no_seleccionado\",\"no_seleccionado\",\"no_seleccionado\",\"no_seleccionado\",\"no_seleccionado\",\"no_seleccionado\",\"no_seleccionado\",\"no_seleccionado\",\"no_seleccionado\",\"no_seleccionado\",\"no_seleccionado\",\"no_seleccionado\",\"no_seleccionado\",\"no_seleccionado\",\"no_seleccionado\",\"no_seleccionado\",\"no_seleccionado\",\"no_seleccionado\",\"no_seleccionado\",\"no_seleccionado\",\"no_seleccionado\",\"no_seleccionado\",\"seleccionado\",\"no_seleccionado\",\"seleccionado\",\"no_seleccionado\",\"no_seleccionado\",\"no_seleccionado\",\"no_seleccionado\",\"no_seleccionado\",\"no_seleccionado\",\"no_seleccionado\",\"no_seleccionado\",\"no_seleccionado\",\"no_seleccionado\",\"no_seleccionado\",\"no_seleccionado\",\"no_seleccionado\",\"no_seleccionado\",\"no_seleccionado\",\"no_seleccionado\",\"no_seleccionado\",\"no_seleccionado\",\"no_seleccionado\",\"no_seleccionado\",\"no_seleccionado\",\"no_seleccionado\",\"no_seleccionado\",\"no_seleccionado\",\"no_seleccionado\",\"no_seleccionado\",\"seleccionado\",\"no_seleccionado\",\"no_seleccionado\",\"seleccionado\",\"seleccionado\",\"no_seleccionado\",\"no_seleccionado\",\"no_seleccionado\",\"no_seleccionado\",\"no_seleccionado\",\"no_seleccionado\",\"no_seleccionado\",\"no_seleccionado\",\"no_seleccionado\",\"no_seleccionado\",\"no_seleccionado\",\"no_seleccionado\",\"no_seleccionado\",\"no_seleccionado\",\"no_seleccionado\",\"no_seleccionado\",\"no_seleccionado\",\"no_seleccionado\",\"no_seleccionado\",\"no_seleccionado\",\"no_seleccionado\",\"no_seleccionado\",\"no_seleccionado\",\"no_seleccionado\",\"no_seleccionado\",\"seleccionado\",\"no_seleccionado\",\"no_seleccionado\",\"no_seleccionado\",\"no_seleccionado\",\"no_seleccionado\",\"no_seleccionado\",\"no_seleccionado\",\"no_seleccionado\",\"no_seleccionado\",\"no_seleccionado\",\"no_seleccionado\",\"no_seleccionado\",\"no_seleccionado\",\"no_seleccionado\",\"no_seleccionado\",\"no_seleccionado\",\"no_seleccionado\",\"no_seleccionado\",\"no_seleccionado\",\"no_seleccionado\",\"no_seleccionado\",\"no_seleccionado\",\"no_seleccionado\",\"no_seleccionado\",\"no_seleccionado\",\"no_seleccionado\",\"no_seleccionado\",\"no_seleccionado\",\"no_seleccionado\",\"no_seleccionado\",\"no_seleccionado\",\"no_seleccionado\",\"no_seleccionado\",\"no_seleccionado\",\"no_seleccionado\",\"no_seleccionado\",\"no_seleccionado\",\"no_seleccionado\",\"no_seleccionado\",\"no_seleccionado\",\"no_seleccionado\",\"no_seleccionado\",\"no_seleccionado\",\"no_seleccionado\",\"no_seleccionado\",\"no_seleccionado\",\"no_seleccionado\",\"no_seleccionado\",\"no_seleccionado\",\"no_seleccionado\",\"no_seleccionado\",\"no_seleccionado\",\"no_seleccionado\",\"no_seleccionado\",\"no_seleccionado\",\"no_seleccionado\",\"no_seleccionado\",\"no_seleccionado\",\"no_seleccionado\",\"no_seleccionado\",\"no_seleccionado\",\"no_seleccionado\",\"no_seleccionado\",\"no_seleccionado\",\"no_seleccionado\",\"no_seleccionado\",\"no_seleccionado\",\"no_seleccionado\",\"no_seleccionado\",\"no_seleccionado\",\"no_seleccionado\",\"no_seleccionado\",\"no_seleccionado\",\"no_seleccionado\",\"no_seleccionado\",\"no_seleccionado\",\"no_seleccionado\",\"no_seleccionado\",\"no_seleccionado\",\"no_seleccionado\",\"no_seleccionado\",\"no_seleccionado\",\"no_seleccionado\",\"no_seleccionado\",\"no_seleccionado\",\"no_seleccionado\",\"no_seleccionado\",\"no_seleccionado\",\"no_seleccionado\",\"no_seleccionado\",\"no_seleccionado\",\"no_seleccionado\",\"no_seleccionado\",\"no_seleccionado\",\"no_seleccionado\",\"no_seleccionado\",\"no_seleccionado\",\"no_seleccionado\",\"no_seleccionado\",\"no_seleccionado\",\"no_seleccionado\",\"no_seleccionado\",\"no_seleccionado\",\"no_seleccionado\",\"no_seleccionado\",\"no_seleccionado\",\"no_seleccionado\",\"no_seleccionado\",\"no_seleccionado\",\"no_seleccionado\",\"no_seleccionado\",\"no_seleccionado\",\"no_seleccionado\",\"no_seleccionado\",\"no_seleccionado\",\"no_seleccionado\",\"no_seleccionado\",\"no_seleccionado\",\"no_seleccionado\",\"no_seleccionado\",\"no_seleccionado\",\"no_seleccionado\",\"no_seleccionado\",\"no_seleccionado\",\"no_seleccionado\",\"no_seleccionado\",\"no_seleccionado\",\"no_seleccionado\",\"no_seleccionado\",\"no_seleccionado\",\"no_seleccionado\",\"no_seleccionado\",\"no_seleccionado\",\"no_seleccionado\",\"no_seleccionado\",\"no_seleccionado\",\"no_seleccionado\",\"no_seleccionado\",\"no_seleccionado\",\"no_seleccionado\",\"no_seleccionado\",\"no_seleccionado\",\"no_seleccionado\",\"no_seleccionado\",\"no_seleccionado\",\"no_seleccionado\",\"no_seleccionado\",\"no_seleccionado\",\"no_seleccionado\",\"no_seleccionado\",\"no_seleccionado\",\"no_seleccionado\",\"no_seleccionado\",\"no_seleccionado\",\"no_seleccionado\",\"no_seleccionado\",\"no_seleccionado\",\"no_seleccionado\",\"no_seleccionado\",\"no_seleccionado\",\"no_seleccionado\",\"no_seleccionado\",\"no_seleccionado\",\"no_seleccionado\",\"no_seleccionado\",\"no_seleccionado\",\"no_seleccionado\",\"no_seleccionado\",\"no_seleccionado\",\"no_seleccionado\",\"no_seleccionado\",\"no_seleccionado\",\"no_seleccionado\",\"no_seleccionado\",\"seleccionado\",\"no_seleccionado\",\"no_seleccionado\",\"no_seleccionado\",\"no_seleccionado\",\"no_seleccionado\",\"no_seleccionado\",\"no_seleccionado\",\"seleccionado\",\"no_seleccionado\",\"no_seleccionado\",\"no_seleccionado\",\"no_seleccionado\",\"no_seleccionado\",\"no_seleccionado\",\"no_seleccionado\",\"no_seleccionado\",\"no_seleccionado\",\"seleccionado\",\"no_seleccionado\",\"no_seleccionado\",\"no_seleccionado\",\"no_seleccionado\",\"no_seleccionado\",\"no_seleccionado\",\"no_seleccionado\",\"no_seleccionado\",\"no_seleccionado\",\"no_seleccionado\",\"no_seleccionado\",\"no_seleccionado\",\"no_seleccionado\",\"no_seleccionado\",\"no_seleccionado\",\"no_seleccionado\",\"no_seleccionado\",\"no_seleccionado\",\"no_seleccionado\",\"no_seleccionado\",\"no_seleccionado\",\"no_seleccionado\",\"no_seleccionado\",\"no_seleccionado\",\"no_seleccionado\",\"no_seleccionado\",\"no_seleccionado\",\"no_seleccionado\",\"no_seleccionado\",\"no_seleccionado\",\"no_seleccionado\",\"no_seleccionado\",\"no_seleccionado\",\"no_seleccionado\",\"seleccionado\",\"no_seleccionado\",\"no_seleccionado\",\"no_seleccionado\",\"no_seleccionado\",\"no_seleccionado\",\"no_seleccionado\",\"no_seleccionado\",\"no_seleccionado\",\"no_seleccionado\",\"no_seleccionado\",\"no_seleccionado\",\"no_seleccionado\",\"no_seleccionado\",\"no_seleccionado\",\"no_seleccionado\",\"no_seleccionado\",\"no_seleccionado\",\"no_seleccionado\",\"no_seleccionado\",\"no_seleccionado\",\"no_seleccionado\",\"no_seleccionado\",\"no_seleccionado\",\"no_seleccionado\",\"no_seleccionado\",\"no_seleccionado\",\"no_seleccionado\",\"no_seleccionado\",\"no_seleccionado\",\"no_seleccionado\",\"no_seleccionado\",\"no_seleccionado\",\"no_seleccionado\",\"no_seleccionado\",\"no_seleccionado\",\"no_seleccionado\",\"no_seleccionado\",\"no_seleccionado\",\"no_seleccionado\",\"no_seleccionado\",\"no_seleccionado\",\"no_seleccionado\",\"no_seleccionado\",\"no_seleccionado\",\"no_seleccionado\",\"seleccionado\",\"no_seleccionado\",\"no_seleccionado\",\"no_seleccionado\",\"no_seleccionado\",\"no_seleccionado\",\"no_seleccionado\",\"no_seleccionado\",\"no_seleccionado\",\"no_seleccionado\",\"no_seleccionado\",\"no_seleccionado\",\"no_seleccionado\",\"no_seleccionado\",\"no_seleccionado\",\"no_seleccionado\",\"no_seleccionado\",\"no_seleccionado\",\"no_seleccionado\",\"no_seleccionado\",\"no_seleccionado\",\"no_seleccionado\",\"no_seleccionado\",\"no_seleccionado\",\"no_seleccionado\",\"no_seleccionado\",\"no_seleccionado\",\"no_seleccionado\",\"no_seleccionado\",\"no_seleccionado\",\"no_seleccionado\",\"no_seleccionado\",\"no_seleccionado\",\"no_seleccionado\",\"no_seleccionado\",\"no_seleccionado\",\"no_seleccionado\",\"no_seleccionado\",\"no_seleccionado\",\"no_seleccionado\",\"no_seleccionado\",\"no_seleccionado\",\"no_seleccionado\",\"no_seleccionado\",\"no_seleccionado\",\"no_seleccionado\",\"no_seleccionado\",\"no_seleccionado\",\"no_seleccionado\",\"no_seleccionado\",\"no_seleccionado\",\"no_seleccionado\",\"no_seleccionado\",\"no_seleccionado\",\"no_seleccionado\",\"no_seleccionado\",\"no_seleccionado\",\"no_seleccionado\",\"no_seleccionado\",\"no_seleccionado\",\"no_seleccionado\",\"no_seleccionado\",\"no_seleccionado\",\"no_seleccionado\",\"no_seleccionado\",\"no_seleccionado\",\"no_seleccionado\",\"no_seleccionado\",\"no_seleccionado\",\"no_seleccionado\",\"no_seleccionado\",\"no_seleccionado\",\"no_seleccionado\",\"no_seleccionado\",\"no_seleccionado\",\"no_seleccionado\",\"no_seleccionado\",\"no_seleccionado\",\"no_seleccionado\",\"no_seleccionado\",\"no_seleccionado\",\"no_seleccionado\",\"no_seleccionado\",\"no_seleccionado\",\"no_seleccionado\",\"no_seleccionado\",\"no_seleccionado\",\"no_seleccionado\",\"no_seleccionado\",\"no_seleccionado\",\"no_seleccionado\",\"no_seleccionado\",\"no_seleccionado\",\"no_seleccionado\",\"no_seleccionado\",\"no_seleccionado\",\"no_seleccionado\",\"no_seleccionado\",\"no_seleccionado\",\"no_seleccionado\",\"no_seleccionado\",\"no_seleccionado\",\"no_seleccionado\",\"seleccionado\",\"no_seleccionado\",\"no_seleccionado\",\"no_seleccionado\",\"no_seleccionado\",\"no_seleccionado\",\"no_seleccionado\",\"no_seleccionado\",\"no_seleccionado\",\"no_seleccionado\",\"no_seleccionado\",\"no_seleccionado\",\"no_seleccionado\",\"no_seleccionado\",\"no_seleccionado\",\"no_seleccionado\",\"no_seleccionado\",\"no_seleccionado\",\"no_seleccionado\",\"no_seleccionado\",\"no_seleccionado\",\"no_seleccionado\",\"no_seleccionado\",\"no_seleccionado\",\"no_seleccionado\",\"no_seleccionado\",\"no_seleccionado\",\"no_seleccionado\",\"no_seleccionado\",\"no_seleccionado\",\"no_seleccionado\",\"no_seleccionado\",\"no_seleccionado\",\"no_seleccionado\",\"no_seleccionado\",\"no_seleccionado\",\"no_seleccionado\",\"no_seleccionado\",\"no_seleccionado\",\"no_seleccionado\",\"no_seleccionado\",\"no_seleccionado\",\"no_seleccionado\",\"no_seleccionado\",\"no_seleccionado\",\"no_seleccionado\",\"no_seleccionado\",\"no_seleccionado\",\"no_seleccionado\",\"no_seleccionado\",\"no_seleccionado\",\"no_seleccionado\",\"no_seleccionado\",\"no_seleccionado\",\"no_seleccionado\",\"no_seleccionado\",\"no_seleccionado\",\"no_seleccionado\",\"no_seleccionado\",\"no_seleccionado\",\"no_seleccionado\",\"no_seleccionado\",\"no_seleccionado\",\"no_seleccionado\",\"no_seleccionado\",\"no_seleccionado\",\"no_seleccionado\",\"no_seleccionado\",\"no_seleccionado\",\"no_seleccionado\",\"no_seleccionado\",\"no_seleccionado\",\"no_seleccionado\",\"no_seleccionado\",\"no_seleccionado\",\"no_seleccionado\",\"no_seleccionado\",\"no_seleccionado\",\"no_seleccionado\",\"no_seleccionado\",\"no_seleccionado\",\"no_seleccionado\",\"no_seleccionado\",\"no_seleccionado\",\"no_seleccionado\",\"no_seleccionado\",\"no_seleccionado\",\"no_seleccionado\",\"no_seleccionado\",\"no_seleccionado\",\"no_seleccionado\",\"no_seleccionado\",\"no_seleccionado\",\"seleccionado\",\"no_seleccionado\",\"no_seleccionado\",\"no_seleccionado\",\"no_seleccionado\",\"no_seleccionado\",\"no_seleccionado\",\"no_seleccionado\",\"no_seleccionado\",\"no_seleccionado\",\"no_seleccionado\",\"no_seleccionado\",\"no_seleccionado\",\"no_seleccionado\",\"no_seleccionado\",\"seleccionado\",\"no_seleccionado\",\"no_seleccionado\",\"no_seleccionado\",\"no_seleccionado\",\"no_seleccionado\",\"no_seleccionado\",\"no_seleccionado\",\"no_seleccionado\",\"no_seleccionado\",\"no_seleccionado\",\"no_seleccionado\",\"no_seleccionado\",\"no_seleccionado\",\"no_seleccionado\",\"no_seleccionado\",\"no_seleccionado\",\"no_seleccionado\",\"no_seleccionado\",\"no_seleccionado\",\"no_seleccionado\",\"no_seleccionado\",\"no_seleccionado\",\"no_seleccionado\",\"no_seleccionado\",\"no_seleccionado\",\"no_seleccionado\",\"no_seleccionado\",\"no_seleccionado\",\"no_seleccionado\",\"no_seleccionado\",\"no_seleccionado\",\"no_seleccionado\",\"no_seleccionado\",\"no_seleccionado\",\"no_seleccionado\",\"no_seleccionado\",\"no_seleccionado\",\"no_seleccionado\",\"no_seleccionado\",\"no_seleccionado\",\"no_seleccionado\",\"no_seleccionado\",\"no_seleccionado\",\"no_seleccionado\",\"no_seleccionado\",\"no_seleccionado\",\"no_seleccionado\",\"no_seleccionado\",\"no_seleccionado\",\"no_seleccionado\",\"no_seleccionado\",\"no_seleccionado\",\"no_seleccionado\",\"no_seleccionado\",\"no_seleccionado\",\"no_seleccionado\",\"no_seleccionado\",\"no_seleccionado\",\"no_seleccionado\",\"seleccionado\",\"no_seleccionado\",\"no_seleccionado\",\"seleccionado\",\"no_seleccionado\",\"no_seleccionado\",\"no_seleccionado\",\"no_seleccionado\",\"no_seleccionado\",\"no_seleccionado\",\"no_seleccionado\",\"no_seleccionado\",\"seleccionado\",\"no_seleccionado\",\"seleccionado\",\"no_seleccionado\",\"no_seleccionado\",\"no_seleccionado\",\"no_seleccionado\",\"no_seleccionado\",\"no_seleccionado\",\"no_seleccionado\",\"no_seleccionado\",\"no_seleccionado\",\"no_seleccionado\",\"no_seleccionado\",\"no_seleccionado\",\"no_seleccionado\",\"no_seleccionado\",\"no_seleccionado\",\"no_seleccionado\",\"no_seleccionado\",\"no_seleccionado\",\"no_seleccionado\",\"no_seleccionado\",\"no_seleccionado\",\"no_seleccionado\",\"no_seleccionado\",\"no_seleccionado\",\"no_seleccionado\",\"no_seleccionado\",\"no_seleccionado\",\"no_seleccionado\",\"no_seleccionado\",\"no_seleccionado\",\"no_seleccionado\",\"no_seleccionado\",\"no_seleccionado\",\"no_seleccionado\",\"no_seleccionado\",\"no_seleccionado\",\"no_seleccionado\",\"no_seleccionado\",\"no_seleccionado\",\"no_seleccionado\",\"no_seleccionado\",\"no_seleccionado\",\"no_seleccionado\",\"no_seleccionado\",\"no_seleccionado\",\"no_seleccionado\",\"no_seleccionado\",\"no_seleccionado\",\"no_seleccionado\",\"no_seleccionado\",\"no_seleccionado\",\"no_seleccionado\",\"no_seleccionado\",\"no_seleccionado\",\"no_seleccionado\",\"no_seleccionado\",\"no_seleccionado\",\"no_seleccionado\",\"no_seleccionado\",\"no_seleccionado\",\"no_seleccionado\",\"no_seleccionado\",\"no_seleccionado\",\"no_seleccionado\",\"no_seleccionado\",\"no_seleccionado\",\"no_seleccionado\",\"no_seleccionado\",\"no_seleccionado\",\"no_seleccionado\",\"no_seleccionado\",\"no_seleccionado\",\"no_seleccionado\",\"no_seleccionado\",\"no_seleccionado\",\"no_seleccionado\",\"no_seleccionado\",\"no_seleccionado\",\"no_seleccionado\",\"no_seleccionado\",\"no_seleccionado\",\"no_seleccionado\",\"no_seleccionado\",\"no_seleccionado\",\"no_seleccionado\",\"no_seleccionado\",\"no_seleccionado\",\"no_seleccionado\",\"no_seleccionado\",\"no_seleccionado\",\"no_seleccionado\",\"no_seleccionado\",\"no_seleccionado\",\"no_seleccionado\",\"no_seleccionado\",\"no_seleccionado\",\"no_seleccionado\",\"no_seleccionado\",\"no_seleccionado\",\"no_seleccionado\",\"no_seleccionado\",\"no_seleccionado\",\"no_seleccionado\",\"no_seleccionado\",\"no_seleccionado\",\"no_seleccionado\",\"no_seleccionado\",\"no_seleccionado\",\"no_seleccionado\",\"no_seleccionado\",\"no_seleccionado\",\"no_seleccionado\",\"no_seleccionado\",\"no_seleccionado\",\"no_seleccionado\",\"no_seleccionado\",\"no_seleccionado\",\"no_seleccionado\",\"no_seleccionado\",\"no_seleccionado\",\"no_seleccionado\",\"no_seleccionado\",\"no_seleccionado\",\"no_seleccionado\",\"no_seleccionado\",\"no_seleccionado\",\"no_seleccionado\",\"seleccionado\",\"no_seleccionado\",\"no_seleccionado\",\"no_seleccionado\",\"no_seleccionado\",\"no_seleccionado\",\"no_seleccionado\",\"no_seleccionado\",\"no_seleccionado\",\"no_seleccionado\",\"no_seleccionado\",\"no_seleccionado\",\"no_seleccionado\",\"no_seleccionado\",\"no_seleccionado\",\"no_seleccionado\",\"no_seleccionado\",\"no_seleccionado\",\"no_seleccionado\",\"no_seleccionado\",\"no_seleccionado\",\"no_seleccionado\",\"no_seleccionado\",\"no_seleccionado\",\"no_seleccionado\",\"no_seleccionado\",\"no_seleccionado\",\"no_seleccionado\",\"no_seleccionado\",\"no_seleccionado\",\"no_seleccionado\",\"no_seleccionado\",\"no_seleccionado\",\"no_seleccionado\",\"no_seleccionado\",\"no_seleccionado\",\"no_seleccionado\",\"no_seleccionado\",\"no_seleccionado\",\"no_seleccionado\",\"no_seleccionado\",\"no_seleccionado\",\"no_seleccionado\",\"no_seleccionado\",\"no_seleccionado\",\"no_seleccionado\",\"no_seleccionado\",\"no_seleccionado\",\"no_seleccionado\",\"no_seleccionado\",\"no_seleccionado\",\"no_seleccionado\",\"no_seleccionado\",\"no_seleccionado\",\"no_seleccionado\",\"no_seleccionado\",\"no_seleccionado\",\"no_seleccionado\",\"no_seleccionado\",\"no_seleccionado\",\"no_seleccionado\",\"no_seleccionado\",\"no_seleccionado\",\"no_seleccionado\",\"no_seleccionado\",\"no_seleccionado\",\"no_seleccionado\",\"no_seleccionado\",\"no_seleccionado\",\"no_seleccionado\",\"no_seleccionado\",\"no_seleccionado\",\"no_seleccionado\",\"no_seleccionado\",\"no_seleccionado\",\"no_seleccionado\",\"no_seleccionado\",\"no_seleccionado\",\"no_seleccionado\",\"no_seleccionado\",\"no_seleccionado\",\"no_seleccionado\",\"no_seleccionado\",\"no_seleccionado\",\"no_seleccionado\",\"no_seleccionado\",\"no_seleccionado\",\"no_seleccionado\",\"no_seleccionado\",\"no_seleccionado\",\"no_seleccionado\",\"no_seleccionado\",\"no_seleccionado\",\"no_seleccionado\",\"no_seleccionado\",\"no_seleccionado\",\"no_seleccionado\",\"no_seleccionado\",\"no_seleccionado\",\"no_seleccionado\",\"no_seleccionado\",\"no_seleccionado\",\"no_seleccionado\",\"no_seleccionado\",\"no_seleccionado\",\"no_seleccionado\",\"no_seleccionado\",\"no_seleccionado\",\"no_seleccionado\",\"no_seleccionado\",\"no_seleccionado\",\"no_seleccionado\",\"no_seleccionado\",\"no_seleccionado\",\"no_seleccionado\",\"no_seleccionado\",\"no_seleccionado\",\"no_seleccionado\",\"no_seleccionado\",\"no_seleccionado\",\"no_seleccionado\",\"no_seleccionado\",\"no_seleccionado\",\"no_seleccionado\",\"no_seleccionado\",\"no_seleccionado\",\"no_seleccionado\",\"no_seleccionado\",\"no_seleccionado\",\"no_seleccionado\",\"no_seleccionado\",\"no_seleccionado\",\"no_seleccionado\",\"no_seleccionado\",\"no_seleccionado\",\"no_seleccionado\",\"no_seleccionado\",\"no_seleccionado\",\"no_seleccionado\",\"no_seleccionado\",\"no_seleccionado\",\"no_seleccionado\",\"no_seleccionado\",\"no_seleccionado\",\"no_seleccionado\",\"no_seleccionado\",\"no_seleccionado\",\"no_seleccionado\",\"no_seleccionado\",\"no_seleccionado\",\"no_seleccionado\",\"no_seleccionado\",\"no_seleccionado\",\"no_seleccionado\",\"no_seleccionado\",\"no_seleccionado\",\"no_seleccionado\",\"no_seleccionado\",\"no_seleccionado\",\"no_seleccionado\",\"no_seleccionado\",\"no_seleccionado\",\"no_seleccionado\",\"no_seleccionado\",\"no_seleccionado\",\"no_seleccionado\",\"no_seleccionado\",\"no_seleccionado\",\"no_seleccionado\",\"no_seleccionado\",\"no_seleccionado\",\"no_seleccionado\",\"no_seleccionado\",\"no_seleccionado\",\"no_seleccionado\",\"no_seleccionado\",\"no_seleccionado\",\"no_seleccionado\",\"no_seleccionado\",\"no_seleccionado\",\"no_seleccionado\",\"no_seleccionado\",\"no_seleccionado\",\"no_seleccionado\",\"no_seleccionado\",\"no_seleccionado\",\"no_seleccionado\",\"no_seleccionado\",\"no_seleccionado\",\"no_seleccionado\",\"no_seleccionado\",\"no_seleccionado\",\"no_seleccionado\",\"no_seleccionado\",\"no_seleccionado\",\"no_seleccionado\",\"no_seleccionado\",\"no_seleccionado\",\"no_seleccionado\",\"no_seleccionado\",\"no_seleccionado\",\"no_seleccionado\",\"no_seleccionado\",\"no_seleccionado\",\"no_seleccionado\",\"no_seleccionado\",\"no_seleccionado\",\"no_seleccionado\",\"no_seleccionado\",\"no_seleccionado\",\"no_seleccionado\",\"no_seleccionado\",\"no_seleccionado\",\"no_seleccionado\",\"no_seleccionado\",\"no_seleccionado\",\"no_seleccionado\",\"no_seleccionado\",\"no_seleccionado\",\"no_seleccionado\",\"no_seleccionado\",\"no_seleccionado\",\"no_seleccionado\",\"no_seleccionado\",\"no_seleccionado\",\"no_seleccionado\",\"no_seleccionado\",\"no_seleccionado\",\"no_seleccionado\",\"no_seleccionado\",\"no_seleccionado\",\"no_seleccionado\",\"no_seleccionado\",\"no_seleccionado\",\"no_seleccionado\",\"no_seleccionado\",\"no_seleccionado\",\"no_seleccionado\",\"no_seleccionado\",\"no_seleccionado\",\"no_seleccionado\",\"no_seleccionado\",\"no_seleccionado\",\"no_seleccionado\",\"no_seleccionado\",\"no_seleccionado\",\"no_seleccionado\",\"no_seleccionado\",\"no_seleccionado\",\"no_seleccionado\",\"no_seleccionado\",\"no_seleccionado\",\"no_seleccionado\",\"no_seleccionado\",\"no_seleccionado\",\"no_seleccionado\",\"no_seleccionado\",\"no_seleccionado\",\"no_seleccionado\",\"no_seleccionado\",\"no_seleccionado\",\"no_seleccionado\",\"no_seleccionado\",\"no_seleccionado\",\"no_seleccionado\",\"no_seleccionado\",\"no_seleccionado\",\"no_seleccionado\",\"no_seleccionado\",\"no_seleccionado\",\"no_seleccionado\",\"no_seleccionado\",\"no_seleccionado\",\"no_seleccionado\",\"no_seleccionado\",\"no_seleccionado\",\"no_seleccionado\",\"no_seleccionado\",\"no_seleccionado\",\"no_seleccionado\",\"no_seleccionado\",\"no_seleccionado\",\"no_seleccionado\",\"no_seleccionado\",\"no_seleccionado\",\"no_seleccionado\",\"no_seleccionado\",\"no_seleccionado\",\"no_seleccionado\",\"no_seleccionado\",\"no_seleccionado\",\"no_seleccionado\",\"no_seleccionado\",\"no_seleccionado\",\"no_seleccionado\",\"no_seleccionado\",\"no_seleccionado\",\"no_seleccionado\",\"no_seleccionado\",\"no_seleccionado\",\"no_seleccionado\",\"no_seleccionado\",\"no_seleccionado\",\"no_seleccionado\",\"no_seleccionado\",\"no_seleccionado\",\"no_seleccionado\",\"no_seleccionado\",\"no_seleccionado\",\"no_seleccionado\",\"no_seleccionado\",\"no_seleccionado\",\"no_seleccionado\",\"no_seleccionado\",\"no_seleccionado\",\"no_seleccionado\",\"no_seleccionado\",\"no_seleccionado\",\"no_seleccionado\",\"no_seleccionado\",\"no_seleccionado\",\"no_seleccionado\",\"no_seleccionado\",\"no_seleccionado\",\"no_seleccionado\",\"no_seleccionado\",\"no_seleccionado\",\"no_seleccionado\",\"no_seleccionado\",\"no_seleccionado\",\"no_seleccionado\",\"no_seleccionado\",\"no_seleccionado\",\"no_seleccionado\",\"no_seleccionado\",\"no_seleccionado\",\"no_seleccionado\",\"no_seleccionado\",\"no_seleccionado\",\"no_seleccionado\",\"no_seleccionado\",\"no_seleccionado\",\"no_seleccionado\",\"no_seleccionado\",\"no_seleccionado\",\"no_seleccionado\",\"no_seleccionado\",\"no_seleccionado\",\"no_seleccionado\",\"no_seleccionado\",\"no_seleccionado\",\"no_seleccionado\",\"no_seleccionado\",\"no_seleccionado\",\"no_seleccionado\",\"no_seleccionado\",\"no_seleccionado\",\"no_seleccionado\",\"no_seleccionado\",\"no_seleccionado\",\"no_seleccionado\",\"no_seleccionado\",\"no_seleccionado\",\"no_seleccionado\",\"no_seleccionado\",\"no_seleccionado\",\"no_seleccionado\",\"no_seleccionado\",\"no_seleccionado\",\"no_seleccionado\",\"no_seleccionado\",\"no_seleccionado\",\"no_seleccionado\",\"no_seleccionado\",\"no_seleccionado\",\"no_seleccionado\",\"no_seleccionado\",\"no_seleccionado\",\"no_seleccionado\",\"no_seleccionado\",\"no_seleccionado\",\"no_seleccionado\",\"no_seleccionado\",\"no_seleccionado\",\"no_seleccionado\",\"no_seleccionado\",\"no_seleccionado\",\"no_seleccionado\",\"no_seleccionado\",\"no_seleccionado\",\"no_seleccionado\",\"no_seleccionado\",\"no_seleccionado\",\"no_seleccionado\",\"no_seleccionado\",\"no_seleccionado\",\"no_seleccionado\",\"no_seleccionado\",\"no_seleccionado\",\"no_seleccionado\",\"no_seleccionado\",\"no_seleccionado\",\"no_seleccionado\",\"no_seleccionado\",\"no_seleccionado\",\"seleccionado\",\"no_seleccionado\",\"no_seleccionado\",\"no_seleccionado\",\"no_seleccionado\",\"no_seleccionado\",\"no_seleccionado\",\"no_seleccionado\",\"no_seleccionado\",\"no_seleccionado\",\"no_seleccionado\",\"no_seleccionado\",\"no_seleccionado\",\"no_seleccionado\",\"no_seleccionado\",\"no_seleccionado\",\"no_seleccionado\",\"no_seleccionado\",\"no_seleccionado\",\"no_seleccionado\",\"no_seleccionado\",\"no_seleccionado\",\"no_seleccionado\",\"no_seleccionado\",\"no_seleccionado\",\"no_seleccionado\",\"no_seleccionado\",\"no_seleccionado\",\"no_seleccionado\",\"no_seleccionado\",\"no_seleccionado\",\"no_seleccionado\",\"no_seleccionado\",\"no_seleccionado\",\"no_seleccionado\",\"no_seleccionado\",\"seleccionado\",\"no_seleccionado\",\"no_seleccionado\",\"no_seleccionado\",\"no_seleccionado\",\"no_seleccionado\",\"no_seleccionado\",\"no_seleccionado\",\"no_seleccionado\",\"no_seleccionado\",\"no_seleccionado\",\"no_seleccionado\",\"no_seleccionado\",\"no_seleccionado\",\"no_seleccionado\",\"no_seleccionado\",\"no_seleccionado\",\"no_seleccionado\",\"no_seleccionado\",\"no_seleccionado\",\"no_seleccionado\",\"no_seleccionado\",\"no_seleccionado\",\"no_seleccionado\",\"no_seleccionado\",\"no_seleccionado\",\"no_seleccionado\",\"no_seleccionado\",\"no_seleccionado\",\"no_seleccionado\",\"no_seleccionado\",\"no_seleccionado\",\"no_seleccionado\",\"no_seleccionado\",\"no_seleccionado\",\"no_seleccionado\",\"no_seleccionado\",\"no_seleccionado\",\"no_seleccionado\",\"no_seleccionado\",\"no_seleccionado\",\"no_seleccionado\",\"no_seleccionado\",\"no_seleccionado\",\"no_seleccionado\",\"no_seleccionado\",\"no_seleccionado\",\"no_seleccionado\",\"no_seleccionado\",\"no_seleccionado\",\"no_seleccionado\",\"no_seleccionado\",\"no_seleccionado\",\"no_seleccionado\",\"no_seleccionado\",\"no_seleccionado\",\"no_seleccionado\",\"no_seleccionado\",\"no_seleccionado\",\"no_seleccionado\",\"no_seleccionado\",\"no_seleccionado\",\"no_seleccionado\",\"no_seleccionado\",\"no_seleccionado\",\"no_seleccionado\",\"no_seleccionado\",\"no_seleccionado\",\"no_seleccionado\",\"no_seleccionado\",\"no_seleccionado\",\"no_seleccionado\",\"no_seleccionado\",\"no_seleccionado\",\"no_seleccionado\",\"no_seleccionado\",\"no_seleccionado\",\"no_seleccionado\",\"no_seleccionado\",\"no_seleccionado\",\"no_seleccionado\",\"no_seleccionado\",\"no_seleccionado\",\"no_seleccionado\",\"no_seleccionado\",\"no_seleccionado\",\"no_seleccionado\",\"no_seleccionado\",\"no_seleccionado\",\"no_seleccionado\",\"no_seleccionado\",\"no_seleccionado\",\"no_seleccionado\",\"no_seleccionado\",\"no_seleccionado\",\"no_seleccionado\",\"no_seleccionado\",\"no_seleccionado\",\"no_seleccionado\",\"no_seleccionado\",\"no_seleccionado\",\"no_seleccionado\",\"no_seleccionado\",\"no_seleccionado\",\"no_seleccionado\",\"no_seleccionado\",\"no_seleccionado\",\"no_seleccionado\",\"seleccionado\",\"no_seleccionado\",\"no_seleccionado\",\"no_seleccionado\",\"no_seleccionado\",\"no_seleccionado\",\"no_seleccionado\",\"no_seleccionado\",\"no_seleccionado\",\"no_seleccionado\",\"no_seleccionado\",\"no_seleccionado\",\"no_seleccionado\",\"no_seleccionado\",\"no_seleccionado\",\"no_seleccionado\",\"no_seleccionado\",\"no_seleccionado\",\"no_seleccionado\",\"no_seleccionado\",\"no_seleccionado\",\"no_seleccionado\",\"no_seleccionado\",\"no_seleccionado\",\"no_seleccionado\",\"no_seleccionado\",\"no_seleccionado\",\"no_seleccionado\",\"no_seleccionado\",\"no_seleccionado\",\"no_seleccionado\",\"no_seleccionado\",\"no_seleccionado\",\"no_seleccionado\",\"no_seleccionado\",\"no_seleccionado\",\"no_seleccionado\",\"no_seleccionado\",\"no_seleccionado\",\"no_seleccionado\",\"no_seleccionado\",\"no_seleccionado\",\"no_seleccionado\",\"no_seleccionado\",\"no_seleccionado\",\"no_seleccionado\",\"no_seleccionado\",\"no_seleccionado\",\"no_seleccionado\",\"no_seleccionado\",\"no_seleccionado\",\"no_seleccionado\",\"no_seleccionado\",\"no_seleccionado\",\"no_seleccionado\",\"no_seleccionado\",\"no_seleccionado\",\"no_seleccionado\",\"no_seleccionado\",\"no_seleccionado\",\"no_seleccionado\",\"no_seleccionado\",\"no_seleccionado\",\"no_seleccionado\",\"no_seleccionado\",\"no_seleccionado\",\"no_seleccionado\",\"no_seleccionado\",\"no_seleccionado\",\"no_seleccionado\",\"no_seleccionado\",\"no_seleccionado\",\"no_seleccionado\",\"no_seleccionado\",\"no_seleccionado\",\"no_seleccionado\",\"no_seleccionado\",\"no_seleccionado\",\"no_seleccionado\",\"no_seleccionado\",\"no_seleccionado\",\"no_seleccionado\",\"no_seleccionado\",\"no_seleccionado\",\"no_seleccionado\",\"no_seleccionado\",\"no_seleccionado\",\"no_seleccionado\",\"no_seleccionado\",\"no_seleccionado\",\"no_seleccionado\",\"no_seleccionado\",\"no_seleccionado\",\"no_seleccionado\",\"no_seleccionado\",\"no_seleccionado\",\"no_seleccionado\",\"no_seleccionado\",\"no_seleccionado\",\"no_seleccionado\",\"no_seleccionado\",\"no_seleccionado\",\"no_seleccionado\",\"no_seleccionado\",\"no_seleccionado\",\"no_seleccionado\",\"no_seleccionado\",\"no_seleccionado\",\"no_seleccionado\",\"no_seleccionado\",\"no_seleccionado\",\"no_seleccionado\",\"no_seleccionado\",\"no_seleccionado\",\"no_seleccionado\",\"no_seleccionado\",\"no_seleccionado\",\"no_seleccionado\",\"no_seleccionado\",\"no_seleccionado\",\"no_seleccionado\",\"no_seleccionado\",\"no_seleccionado\",\"no_seleccionado\",\"no_seleccionado\",\"no_seleccionado\",\"no_seleccionado\",\"no_seleccionado\",\"no_seleccionado\",\"no_seleccionado\",\"seleccionado\",\"no_seleccionado\",\"no_seleccionado\",\"no_seleccionado\",\"no_seleccionado\",\"no_seleccionado\",\"no_seleccionado\",\"no_seleccionado\",\"no_seleccionado\",\"seleccionado\",\"no_seleccionado\",\"no_seleccionado\",\"no_seleccionado\",\"no_seleccionado\",\"no_seleccionado\",\"no_seleccionado\",\"no_seleccionado\",\"no_seleccionado\",\"no_seleccionado\",\"no_seleccionado\",\"no_seleccionado\",\"no_seleccionado\",\"no_seleccionado\",\"no_seleccionado\",\"no_seleccionado\",\"no_seleccionado\",\"no_seleccionado\",\"seleccionado\",\"no_seleccionado\",\"no_seleccionado\",\"no_seleccionado\",\"no_seleccionado\",\"no_seleccionado\",\"no_seleccionado\",\"no_seleccionado\",\"no_seleccionado\",\"no_seleccionado\",\"no_seleccionado\",\"no_seleccionado\",\"no_seleccionado\",\"no_seleccionado\",\"no_seleccionado\",\"no_seleccionado\",\"no_seleccionado\",\"no_seleccionado\",\"no_seleccionado\",\"no_seleccionado\",\"no_seleccionado\",\"no_seleccionado\",\"no_seleccionado\",\"no_seleccionado\",\"no_seleccionado\",\"no_seleccionado\",\"no_seleccionado\",\"no_seleccionado\",\"no_seleccionado\",\"no_seleccionado\",\"no_seleccionado\",\"no_seleccionado\",\"no_seleccionado\",\"no_seleccionado\",\"no_seleccionado\",\"no_seleccionado\",\"no_seleccionado\",\"no_seleccionado\",\"no_seleccionado\",\"no_seleccionado\",\"no_seleccionado\",\"no_seleccionado\",\"no_seleccionado\",\"no_seleccionado\",\"no_seleccionado\",\"no_seleccionado\",\"no_seleccionado\",\"no_seleccionado\",\"no_seleccionado\",\"no_seleccionado\",\"no_seleccionado\",\"no_seleccionado\",\"no_seleccionado\",\"no_seleccionado\",\"no_seleccionado\",\"no_seleccionado\",\"no_seleccionado\",\"no_seleccionado\",\"no_seleccionado\",\"no_seleccionado\",\"no_seleccionado\",\"no_seleccionado\",\"no_seleccionado\",\"no_seleccionado\",\"no_seleccionado\",\"no_seleccionado\",\"no_seleccionado\",\"no_seleccionado\",\"no_seleccionado\",\"no_seleccionado\",\"no_seleccionado\",\"no_seleccionado\",\"no_seleccionado\",\"no_seleccionado\",\"no_seleccionado\",\"no_seleccionado\",\"no_seleccionado\",\"no_seleccionado\",\"no_seleccionado\",\"no_seleccionado\",\"no_seleccionado\",\"no_seleccionado\",\"no_seleccionado\",\"no_seleccionado\",\"no_seleccionado\",\"no_seleccionado\",\"no_seleccionado\",\"no_seleccionado\",\"no_seleccionado\",\"no_seleccionado\",\"no_seleccionado\",\"no_seleccionado\",\"no_seleccionado\",\"no_seleccionado\",\"no_seleccionado\",\"no_seleccionado\",\"no_seleccionado\",\"seleccionado\",\"seleccionado\",\"seleccionado\",\"seleccionado\",\"no_seleccionado\",\"no_seleccionado\",\"no_seleccionado\",\"no_seleccionado\",\"no_seleccionado\",\"no_seleccionado\",\"no_seleccionado\",\"no_seleccionado\",\"no_seleccionado\",\"no_seleccionado\",\"no_seleccionado\",\"no_seleccionado\",\"no_seleccionado\",\"no_seleccionado\",\"no_seleccionado\",\"no_seleccionado\",\"no_seleccionado\",\"no_seleccionado\",\"no_seleccionado\",\"no_seleccionado\",\"no_seleccionado\",\"no_seleccionado\",\"no_seleccionado\",\"no_seleccionado\",\"no_seleccionado\",\"no_seleccionado\",\"no_seleccionado\",\"no_seleccionado\",\"no_seleccionado\",\"no_seleccionado\",\"no_seleccionado\",\"no_seleccionado\",\"no_seleccionado\",\"no_seleccionado\",\"no_seleccionado\",\"no_seleccionado\",\"no_seleccionado\",\"no_seleccionado\",\"no_seleccionado\",\"no_seleccionado\",\"no_seleccionado\",\"no_seleccionado\",\"no_seleccionado\",\"no_seleccionado\",\"no_seleccionado\",\"no_seleccionado\",\"no_seleccionado\",\"no_seleccionado\",\"no_seleccionado\",\"no_seleccionado\",\"no_seleccionado\",\"no_seleccionado\",\"no_seleccionado\",\"no_seleccionado\",\"no_seleccionado\",\"seleccionado\",\"no_seleccionado\",\"no_seleccionado\",\"no_seleccionado\",\"no_seleccionado\",\"no_seleccionado\",\"no_seleccionado\",\"no_seleccionado\",\"no_seleccionado\",\"seleccionado\",\"no_seleccionado\",\"seleccionado\",\"no_seleccionado\",\"no_seleccionado\",\"no_seleccionado\",\"no_seleccionado\",\"no_seleccionado\",\"no_seleccionado\",\"no_seleccionado\",\"no_seleccionado\",\"no_seleccionado\",\"no_seleccionado\",\"no_seleccionado\",\"seleccionado\",\"seleccionado\",\"no_seleccionado\",\"no_seleccionado\",\"no_seleccionado\",\"no_seleccionado\",\"no_seleccionado\",\"no_seleccionado\",\"no_seleccionado\",\"no_seleccionado\",\"no_seleccionado\",\"no_seleccionado\",\"no_seleccionado\",\"no_seleccionado\",\"no_seleccionado\",\"no_seleccionado\",\"no_seleccionado\",\"no_seleccionado\",\"no_seleccionado\",\"no_seleccionado\",\"no_seleccionado\",\"no_seleccionado\",\"no_seleccionado\",\"no_seleccionado\",\"no_seleccionado\",\"no_seleccionado\",\"no_seleccionado\",\"no_seleccionado\",\"no_seleccionado\",\"no_seleccionado\",\"no_seleccionado\",\"no_seleccionado\",\"no_seleccionado\",\"no_seleccionado\",\"no_seleccionado\",\"no_seleccionado\",\"no_seleccionado\",\"no_seleccionado\",\"no_seleccionado\",\"no_seleccionado\",\"no_seleccionado\",\"no_seleccionado\",\"no_seleccionado\",\"no_seleccionado\",\"no_seleccionado\",\"no_seleccionado\",\"no_seleccionado\",\"no_seleccionado\",\"no_seleccionado\",\"no_seleccionado\",\"no_seleccionado\",\"no_seleccionado\",\"no_seleccionado\",\"no_seleccionado\",\"no_seleccionado\",\"no_seleccionado\",\"no_seleccionado\",\"no_seleccionado\",\"no_seleccionado\",\"no_seleccionado\",\"no_seleccionado\",\"no_seleccionado\",\"seleccionado\",\"no_seleccionado\",\"no_seleccionado\",\"no_seleccionado\",\"no_seleccionado\",\"no_seleccionado\",\"no_seleccionado\",\"no_seleccionado\",\"no_seleccionado\",\"no_seleccionado\",\"no_seleccionado\",\"no_seleccionado\",\"no_seleccionado\",\"no_seleccionado\",\"no_seleccionado\",\"seleccionado\",\"no_seleccionado\",\"no_seleccionado\",\"no_seleccionado\",\"no_seleccionado\",\"no_seleccionado\",\"no_seleccionado\",\"no_seleccionado\",\"no_seleccionado\",\"no_seleccionado\",\"no_seleccionado\",\"no_seleccionado\",\"no_seleccionado\",\"no_seleccionado\",\"no_seleccionado\",\"no_seleccionado\",\"no_seleccionado\",\"no_seleccionado\",\"no_seleccionado\",\"no_seleccionado\",\"no_seleccionado\",\"no_seleccionado\",\"no_seleccionado\",\"no_seleccionado\",\"no_seleccionado\",\"no_seleccionado\",\"no_seleccionado\",\"no_seleccionado\",\"no_seleccionado\",\"no_seleccionado\",\"no_seleccionado\",\"no_seleccionado\",\"no_seleccionado\",\"no_seleccionado\",\"no_seleccionado\",\"no_seleccionado\",\"no_seleccionado\",\"no_seleccionado\",\"no_seleccionado\",\"no_seleccionado\",\"no_seleccionado\",\"no_seleccionado\",\"no_seleccionado\",\"no_seleccionado\",\"no_seleccionado\",\"no_seleccionado\",\"no_seleccionado\",\"no_seleccionado\",\"no_seleccionado\",\"no_seleccionado\",\"no_seleccionado\",\"no_seleccionado\",\"no_seleccionado\",\"no_seleccionado\",\"no_seleccionado\",\"no_seleccionado\",\"no_seleccionado\",\"no_seleccionado\",\"no_seleccionado\",\"no_seleccionado\",\"no_seleccionado\",\"no_seleccionado\",\"no_seleccionado\",\"no_seleccionado\",\"no_seleccionado\",\"no_seleccionado\",\"no_seleccionado\",\"no_seleccionado\",\"no_seleccionado\",\"no_seleccionado\",\"no_seleccionado\",\"no_seleccionado\",\"no_seleccionado\",\"no_seleccionado\",\"no_seleccionado\",\"no_seleccionado\",\"no_seleccionado\",\"no_seleccionado\",\"no_seleccionado\",\"no_seleccionado\",\"no_seleccionado\",\"no_seleccionado\",\"no_seleccionado\",\"no_seleccionado\",\"no_seleccionado\",\"no_seleccionado\",\"no_seleccionado\",\"no_seleccionado\",\"no_seleccionado\",\"no_seleccionado\",\"no_seleccionado\",\"no_seleccionado\",\"no_seleccionado\",\"no_seleccionado\",\"no_seleccionado\",\"no_seleccionado\",\"no_seleccionado\",\"no_seleccionado\",\"no_seleccionado\",\"no_seleccionado\",\"no_seleccionado\",\"no_seleccionado\",\"no_seleccionado\",\"no_seleccionado\",\"no_seleccionado\",\"no_seleccionado\",\"no_seleccionado\",\"no_seleccionado\",\"no_seleccionado\",\"no_seleccionado\",\"no_seleccionado\",\"no_seleccionado\",\"no_seleccionado\",\"no_seleccionado\",\"no_seleccionado\",\"no_seleccionado\",\"no_seleccionado\",\"no_seleccionado\",\"no_seleccionado\",\"no_seleccionado\",\"no_seleccionado\",\"seleccionado\",\"no_seleccionado\",\"no_seleccionado\",\"no_seleccionado\",\"no_seleccionado\",\"no_seleccionado\",\"no_seleccionado\",\"no_seleccionado\",\"no_seleccionado\",\"no_seleccionado\",\"no_seleccionado\",\"no_seleccionado\",\"no_seleccionado\",\"no_seleccionado\",\"no_seleccionado\",\"no_seleccionado\",\"no_seleccionado\",\"no_seleccionado\",\"no_seleccionado\",\"no_seleccionado\",\"no_seleccionado\",\"no_seleccionado\",\"no_seleccionado\",\"no_seleccionado\",\"no_seleccionado\",\"no_seleccionado\",\"no_seleccionado\",\"no_seleccionado\",\"no_seleccionado\",\"no_seleccionado\",\"no_seleccionado\",\"no_seleccionado\",\"no_seleccionado\",\"no_seleccionado\",\"no_seleccionado\",\"no_seleccionado\",\"no_seleccionado\",\"no_seleccionado\",\"no_seleccionado\",\"no_seleccionado\",\"no_seleccionado\",\"no_seleccionado\",\"no_seleccionado\",\"no_seleccionado\",\"no_seleccionado\",\"no_seleccionado\",\"no_seleccionado\",\"no_seleccionado\",\"no_seleccionado\",\"no_seleccionado\",\"no_seleccionado\",\"no_seleccionado\",\"no_seleccionado\",\"no_seleccionado\",\"seleccionado\",\"no_seleccionado\",\"no_seleccionado\",\"no_seleccionado\",\"no_seleccionado\",\"no_seleccionado\",\"no_seleccionado\",\"no_seleccionado\",\"no_seleccionado\",\"seleccionado\",\"no_seleccionado\",\"no_seleccionado\",\"no_seleccionado\",\"no_seleccionado\",\"no_seleccionado\",\"no_seleccionado\",\"no_seleccionado\",\"no_seleccionado\",\"no_seleccionado\",\"no_seleccionado\",\"no_seleccionado\",\"no_seleccionado\",\"no_seleccionado\",\"no_seleccionado\",\"no_seleccionado\",\"no_seleccionado\",\"no_seleccionado\",\"no_seleccionado\",\"no_seleccionado\",\"no_seleccionado\",\"no_seleccionado\",\"no_seleccionado\",\"no_seleccionado\",\"no_seleccionado\",\"no_seleccionado\",\"no_seleccionado\",\"no_seleccionado\",\"no_seleccionado\",\"no_seleccionado\",\"no_seleccionado\",\"no_seleccionado\",\"no_seleccionado\",\"no_seleccionado\",\"no_seleccionado\",\"no_seleccionado\",\"no_seleccionado\",\"no_seleccionado\",\"no_seleccionado\",\"no_seleccionado\",\"no_seleccionado\",\"no_seleccionado\",\"no_seleccionado\",\"no_seleccionado\",\"no_seleccionado\",\"no_seleccionado\",\"no_seleccionado\",\"no_seleccionado\",\"no_seleccionado\",\"no_seleccionado\",\"no_seleccionado\",\"no_seleccionado\",\"no_seleccionado\",\"no_seleccionado\",\"no_seleccionado\",\"no_seleccionado\",\"no_seleccionado\",\"no_seleccionado\",\"no_seleccionado\",\"no_seleccionado\",\"no_seleccionado\",\"no_seleccionado\",\"no_seleccionado\",\"no_seleccionado\",\"no_seleccionado\",\"no_seleccionado\",\"no_seleccionado\",\"no_seleccionado\",\"no_seleccionado\",\"no_seleccionado\",\"no_seleccionado\",\"no_seleccionado\",\"no_seleccionado\",\"no_seleccionado\",\"no_seleccionado\",\"no_seleccionado\",\"no_seleccionado\",\"no_seleccionado\",\"no_seleccionado\",\"no_seleccionado\",\"no_seleccionado\",\"no_seleccionado\",\"no_seleccionado\",\"no_seleccionado\",\"no_seleccionado\",\"no_seleccionado\",\"no_seleccionado\",\"no_seleccionado\",\"no_seleccionado\",\"no_seleccionado\",\"no_seleccionado\",\"no_seleccionado\",\"no_seleccionado\",\"no_seleccionado\",\"no_seleccionado\",\"no_seleccionado\",\"no_seleccionado\",\"no_seleccionado\",\"no_seleccionado\",\"no_seleccionado\",\"no_seleccionado\",\"no_seleccionado\",\"no_seleccionado\",\"no_seleccionado\",\"no_seleccionado\",\"no_seleccionado\",\"no_seleccionado\",\"no_seleccionado\",\"no_seleccionado\",\"no_seleccionado\",\"no_seleccionado\",\"no_seleccionado\",\"no_seleccionado\",\"no_seleccionado\",\"no_seleccionado\",\"no_seleccionado\",\"no_seleccionado\",\"no_seleccionado\",\"no_seleccionado\",\"no_seleccionado\",\"no_seleccionado\",\"no_seleccionado\",\"no_seleccionado\",\"no_seleccionado\",\"no_seleccionado\",\"no_seleccionado\",\"no_seleccionado\",\"no_seleccionado\",\"no_seleccionado\",\"no_seleccionado\",\"no_seleccionado\",\"no_seleccionado\",\"no_seleccionado\",\"no_seleccionado\",\"no_seleccionado\",\"no_seleccionado\",\"no_seleccionado\",\"no_seleccionado\",\"no_seleccionado\",\"no_seleccionado\",\"no_seleccionado\",\"no_seleccionado\",\"no_seleccionado\",\"no_seleccionado\",\"no_seleccionado\",\"no_seleccionado\",\"no_seleccionado\",\"no_seleccionado\",\"no_seleccionado\",\"no_seleccionado\",\"no_seleccionado\",\"no_seleccionado\",\"no_seleccionado\",\"no_seleccionado\",\"no_seleccionado\",\"no_seleccionado\",\"no_seleccionado\",\"no_seleccionado\",\"no_seleccionado\",\"no_seleccionado\",\"no_seleccionado\",\"no_seleccionado\",\"no_seleccionado\",\"no_seleccionado\",\"no_seleccionado\",\"no_seleccionado\",\"no_seleccionado\",\"no_seleccionado\",\"no_seleccionado\",\"no_seleccionado\",\"seleccionado\",\"no_seleccionado\",\"no_seleccionado\",\"no_seleccionado\",\"no_seleccionado\",\"no_seleccionado\",\"no_seleccionado\",\"no_seleccionado\",\"no_seleccionado\",\"no_seleccionado\",\"no_seleccionado\",\"no_seleccionado\",\"no_seleccionado\",\"no_seleccionado\",\"seleccionado\",\"no_seleccionado\",\"no_seleccionado\",\"no_seleccionado\",\"seleccionado\",\"no_seleccionado\",\"no_seleccionado\",\"no_seleccionado\",\"no_seleccionado\",\"no_seleccionado\",\"no_seleccionado\",\"no_seleccionado\",\"no_seleccionado\",\"no_seleccionado\",\"no_seleccionado\",\"no_seleccionado\",\"no_seleccionado\",\"no_seleccionado\",\"no_seleccionado\",\"no_seleccionado\",\"no_seleccionado\",\"no_seleccionado\",\"no_seleccionado\",\"no_seleccionado\",\"no_seleccionado\",\"no_seleccionado\",\"no_seleccionado\",\"no_seleccionado\",\"no_seleccionado\",\"no_seleccionado\",\"no_seleccionado\",\"no_seleccionado\",\"no_seleccionado\",\"no_seleccionado\",\"no_seleccionado\",\"no_seleccionado\",\"no_seleccionado\",\"no_seleccionado\",\"no_seleccionado\",\"no_seleccionado\",\"no_seleccionado\",\"no_seleccionado\",\"no_seleccionado\",\"no_seleccionado\",\"no_seleccionado\",\"no_seleccionado\",\"no_seleccionado\",\"no_seleccionado\",\"no_seleccionado\",\"no_seleccionado\",\"no_seleccionado\",\"no_seleccionado\",\"no_seleccionado\",\"no_seleccionado\",\"no_seleccionado\",\"no_seleccionado\",\"no_seleccionado\",\"no_seleccionado\",\"no_seleccionado\",\"no_seleccionado\",\"no_seleccionado\",\"no_seleccionado\",\"no_seleccionado\",\"no_seleccionado\",\"no_seleccionado\",\"no_seleccionado\",\"no_seleccionado\",\"no_seleccionado\",\"no_seleccionado\",\"no_seleccionado\",\"no_seleccionado\",\"no_seleccionado\",\"no_seleccionado\",\"no_seleccionado\",\"no_seleccionado\",\"no_seleccionado\",\"no_seleccionado\",\"no_seleccionado\",\"no_seleccionado\",\"seleccionado\",\"no_seleccionado\",\"no_seleccionado\",\"no_seleccionado\",\"no_seleccionado\",\"no_seleccionado\",\"no_seleccionado\",\"no_seleccionado\",\"no_seleccionado\",\"no_seleccionado\",\"no_seleccionado\",\"no_seleccionado\",\"no_seleccionado\",\"no_seleccionado\",\"no_seleccionado\",\"no_seleccionado\",\"no_seleccionado\",\"no_seleccionado\",\"no_seleccionado\",\"no_seleccionado\",\"no_seleccionado\",\"no_seleccionado\",\"no_seleccionado\",\"no_seleccionado\",\"no_seleccionado\",\"no_seleccionado\",\"no_seleccionado\",\"no_seleccionado\",\"no_seleccionado\",\"seleccionado\",\"no_seleccionado\",\"no_seleccionado\",\"no_seleccionado\",\"no_seleccionado\",\"no_seleccionado\",\"no_seleccionado\",\"no_seleccionado\",\"no_seleccionado\",\"no_seleccionado\",\"no_seleccionado\",\"no_seleccionado\",\"no_seleccionado\",\"no_seleccionado\",\"no_seleccionado\",\"no_seleccionado\",\"no_seleccionado\",\"no_seleccionado\",\"no_seleccionado\",\"no_seleccionado\",\"no_seleccionado\",\"no_seleccionado\",\"no_seleccionado\",\"no_seleccionado\",\"no_seleccionado\",\"no_seleccionado\",\"no_seleccionado\",\"no_seleccionado\",\"no_seleccionado\",\"no_seleccionado\",\"no_seleccionado\",\"no_seleccionado\",\"no_seleccionado\",\"no_seleccionado\",\"no_seleccionado\",\"no_seleccionado\",\"no_seleccionado\",\"no_seleccionado\",\"no_seleccionado\",\"no_seleccionado\",\"no_seleccionado\",\"no_seleccionado\",\"no_seleccionado\",\"no_seleccionado\",\"no_seleccionado\",\"no_seleccionado\",\"no_seleccionado\",\"no_seleccionado\",\"no_seleccionado\",\"no_seleccionado\",\"no_seleccionado\",\"no_seleccionado\",\"no_seleccionado\",\"no_seleccionado\",\"no_seleccionado\",\"no_seleccionado\",\"no_seleccionado\",\"no_seleccionado\",\"no_seleccionado\",\"no_seleccionado\",\"no_seleccionado\",\"no_seleccionado\",\"no_seleccionado\",\"no_seleccionado\",\"no_seleccionado\",\"no_seleccionado\",\"no_seleccionado\",\"no_seleccionado\",\"no_seleccionado\",\"no_seleccionado\",\"no_seleccionado\",\"no_seleccionado\",\"no_seleccionado\",\"no_seleccionado\",\"no_seleccionado\",\"no_seleccionado\",\"no_seleccionado\",\"no_seleccionado\",\"no_seleccionado\",\"no_seleccionado\",\"no_seleccionado\",\"no_seleccionado\",\"no_seleccionado\",\"no_seleccionado\",\"no_seleccionado\",\"no_seleccionado\",\"no_seleccionado\",\"no_seleccionado\",\"no_seleccionado\",\"no_seleccionado\",\"no_seleccionado\",\"no_seleccionado\",\"no_seleccionado\",\"no_seleccionado\",\"no_seleccionado\",\"no_seleccionado\",\"no_seleccionado\",\"no_seleccionado\",\"no_seleccionado\",\"no_seleccionado\",\"no_seleccionado\",\"no_seleccionado\",\"no_seleccionado\",\"no_seleccionado\",\"no_seleccionado\",\"no_seleccionado\",\"no_seleccionado\",\"no_seleccionado\",\"no_seleccionado\",\"no_seleccionado\",\"no_seleccionado\",\"no_seleccionado\",\"no_seleccionado\",\"no_seleccionado\",\"no_seleccionado\",\"no_seleccionado\",\"no_seleccionado\",\"no_seleccionado\",\"no_seleccionado\",\"no_seleccionado\",\"no_seleccionado\",\"no_seleccionado\",\"no_seleccionado\",\"no_seleccionado\",\"no_seleccionado\",\"no_seleccionado\",\"no_seleccionado\",\"no_seleccionado\",\"no_seleccionado\",\"no_seleccionado\",\"no_seleccionado\",\"no_seleccionado\",\"no_seleccionado\",\"no_seleccionado\",\"no_seleccionado\",\"no_seleccionado\",\"no_seleccionado\",\"no_seleccionado\",\"no_seleccionado\",\"no_seleccionado\",\"no_seleccionado\",\"no_seleccionado\",\"no_seleccionado\",\"no_seleccionado\",\"no_seleccionado\",\"no_seleccionado\",\"no_seleccionado\",\"no_seleccionado\",\"no_seleccionado\",\"no_seleccionado\",\"no_seleccionado\",\"no_seleccionado\",\"no_seleccionado\",\"no_seleccionado\",\"no_seleccionado\",\"no_seleccionado\",\"no_seleccionado\",\"no_seleccionado\",\"no_seleccionado\",\"no_seleccionado\",\"no_seleccionado\",\"no_seleccionado\",\"no_seleccionado\",\"no_seleccionado\",\"no_seleccionado\",\"no_seleccionado\",\"no_seleccionado\",\"no_seleccionado\",\"no_seleccionado\",\"no_seleccionado\",\"no_seleccionado\",\"no_seleccionado\",\"no_seleccionado\",\"no_seleccionado\",\"no_seleccionado\",\"no_seleccionado\",\"no_seleccionado\",\"no_seleccionado\",\"no_seleccionado\",\"no_seleccionado\",\"no_seleccionado\",\"no_seleccionado\",\"no_seleccionado\",\"no_seleccionado\",\"no_seleccionado\",\"no_seleccionado\",\"no_seleccionado\",\"no_seleccionado\",\"no_seleccionado\",\"no_seleccionado\",\"no_seleccionado\",\"no_seleccionado\",\"no_seleccionado\",\"no_seleccionado\",\"no_seleccionado\",\"no_seleccionado\",\"no_seleccionado\",\"no_seleccionado\",\"no_seleccionado\",\"no_seleccionado\",\"no_seleccionado\",\"no_seleccionado\",\"no_seleccionado\",\"no_seleccionado\",\"no_seleccionado\",\"no_seleccionado\",\"no_seleccionado\",\"no_seleccionado\",\"no_seleccionado\",\"no_seleccionado\",\"no_seleccionado\",\"seleccionado\",\"no_seleccionado\",\"no_seleccionado\",\"no_seleccionado\",\"no_seleccionado\",\"no_seleccionado\",\"no_seleccionado\",\"no_seleccionado\",\"no_seleccionado\",\"no_seleccionado\",\"no_seleccionado\",\"no_seleccionado\",\"no_seleccionado\",\"no_seleccionado\",\"no_seleccionado\",\"no_seleccionado\",\"no_seleccionado\",\"no_seleccionado\",\"no_seleccionado\",\"no_seleccionado\",\"no_seleccionado\",\"no_seleccionado\",\"no_seleccionado\",\"no_seleccionado\",\"no_seleccionado\",\"no_seleccionado\",\"no_seleccionado\",\"no_seleccionado\",\"no_seleccionado\",\"no_seleccionado\",\"no_seleccionado\",\"no_seleccionado\",\"no_seleccionado\",\"no_seleccionado\",\"no_seleccionado\",\"no_seleccionado\",\"no_seleccionado\",\"no_seleccionado\",\"no_seleccionado\",\"no_seleccionado\",\"no_seleccionado\",\"no_seleccionado\",\"no_seleccionado\",\"no_seleccionado\",\"no_seleccionado\",\"no_seleccionado\",\"no_seleccionado\",\"no_seleccionado\",\"no_seleccionado\",\"no_seleccionado\",\"no_seleccionado\",\"no_seleccionado\",\"no_seleccionado\",\"no_seleccionado\",\"no_seleccionado\",\"no_seleccionado\",\"no_seleccionado\",\"no_seleccionado\",\"no_seleccionado\",\"no_seleccionado\",\"no_seleccionado\",\"no_seleccionado\",\"no_seleccionado\",\"no_seleccionado\",\"no_seleccionado\",\"no_seleccionado\",\"no_seleccionado\",\"no_seleccionado\",\"no_seleccionado\",\"no_seleccionado\",\"no_seleccionado\",\"no_seleccionado\",\"no_seleccionado\",\"no_seleccionado\",\"no_seleccionado\",\"no_seleccionado\",\"no_seleccionado\",\"no_seleccionado\",\"no_seleccionado\",\"no_seleccionado\",\"no_seleccionado\",\"no_seleccionado\",\"no_seleccionado\",\"no_seleccionado\",\"no_seleccionado\",\"seleccionado\",\"seleccionado\",\"no_seleccionado\",\"no_seleccionado\",\"no_seleccionado\",\"no_seleccionado\",\"no_seleccionado\",\"no_seleccionado\",\"no_seleccionado\",\"no_seleccionado\",\"no_seleccionado\",\"no_seleccionado\",\"no_seleccionado\",\"no_seleccionado\",\"no_seleccionado\",\"no_seleccionado\",\"no_seleccionado\",\"no_seleccionado\",\"no_seleccionado\",\"no_seleccionado\",\"no_seleccionado\",\"no_seleccionado\",\"no_seleccionado\",\"no_seleccionado\",\"no_seleccionado\",\"no_seleccionado\",\"no_seleccionado\",\"no_seleccionado\",\"no_seleccionado\",\"no_seleccionado\",\"no_seleccionado\",\"no_seleccionado\",\"no_seleccionado\",\"no_seleccionado\",\"no_seleccionado\",\"no_seleccionado\",\"no_seleccionado\",\"no_seleccionado\",\"no_seleccionado\",\"no_seleccionado\",\"no_seleccionado\",\"no_seleccionado\",\"no_seleccionado\",\"no_seleccionado\",\"no_seleccionado\",\"no_seleccionado\",\"no_seleccionado\",\"no_seleccionado\",\"no_seleccionado\",\"no_seleccionado\",\"no_seleccionado\",\"no_seleccionado\",\"no_seleccionado\",\"no_seleccionado\",\"no_seleccionado\",\"no_seleccionado\",\"no_seleccionado\",\"no_seleccionado\",\"no_seleccionado\",\"no_seleccionado\",\"no_seleccionado\",\"no_seleccionado\",\"no_seleccionado\",\"no_seleccionado\",\"no_seleccionado\",\"no_seleccionado\",\"no_seleccionado\",\"no_seleccionado\",\"no_seleccionado\",\"no_seleccionado\",\"no_seleccionado\",\"no_seleccionado\",\"no_seleccionado\",\"no_seleccionado\",\"no_seleccionado\",\"no_seleccionado\",\"seleccionado\",\"no_seleccionado\",\"no_seleccionado\",\"no_seleccionado\",\"no_seleccionado\",\"no_seleccionado\",\"seleccionado\",\"no_seleccionado\",\"seleccionado\",\"no_seleccionado\",\"no_seleccionado\",\"no_seleccionado\",\"no_seleccionado\",\"no_seleccionado\",\"no_seleccionado\",\"no_seleccionado\",\"no_seleccionado\",\"no_seleccionado\",\"no_seleccionado\",\"no_seleccionado\",\"no_seleccionado\",\"no_seleccionado\",\"no_seleccionado\",\"no_seleccionado\",\"no_seleccionado\",\"no_seleccionado\",\"no_seleccionado\",\"no_seleccionado\",\"no_seleccionado\",\"no_seleccionado\",\"no_seleccionado\",\"no_seleccionado\",\"no_seleccionado\",\"no_seleccionado\",\"no_seleccionado\",\"no_seleccionado\",\"no_seleccionado\",\"no_seleccionado\",\"no_seleccionado\",\"no_seleccionado\",\"no_seleccionado\",\"no_seleccionado\",\"no_seleccionado\",\"no_seleccionado\",\"no_seleccionado\",\"no_seleccionado\",\"no_seleccionado\",\"no_seleccionado\",\"no_seleccionado\",\"no_seleccionado\",\"no_seleccionado\",\"no_seleccionado\",\"no_seleccionado\",\"no_seleccionado\",\"no_seleccionado\",\"no_seleccionado\",\"no_seleccionado\",\"no_seleccionado\",\"no_seleccionado\",\"no_seleccionado\",\"no_seleccionado\",\"no_seleccionado\",\"no_seleccionado\",\"no_seleccionado\",\"no_seleccionado\",\"no_seleccionado\",\"seleccionado\",\"no_seleccionado\",\"no_seleccionado\",\"no_seleccionado\",\"no_seleccionado\",\"no_seleccionado\",\"no_seleccionado\",\"no_seleccionado\",\"no_seleccionado\",\"no_seleccionado\",\"no_seleccionado\",\"no_seleccionado\",\"no_seleccionado\",\"no_seleccionado\",\"no_seleccionado\",\"no_seleccionado\",\"no_seleccionado\",\"no_seleccionado\",\"no_seleccionado\",\"no_seleccionado\",\"no_seleccionado\",\"no_seleccionado\",\"no_seleccionado\",\"no_seleccionado\",\"no_seleccionado\",\"no_seleccionado\",\"no_seleccionado\",\"no_seleccionado\",\"no_seleccionado\",\"no_seleccionado\",\"no_seleccionado\",\"no_seleccionado\",\"no_seleccionado\",\"no_seleccionado\",\"no_seleccionado\",\"no_seleccionado\",\"no_seleccionado\",\"no_seleccionado\",\"no_seleccionado\",\"no_seleccionado\",\"no_seleccionado\",\"no_seleccionado\",\"no_seleccionado\",\"no_seleccionado\",\"no_seleccionado\",\"no_seleccionado\",\"no_seleccionado\",\"no_seleccionado\",\"no_seleccionado\",\"no_seleccionado\",\"no_seleccionado\",\"no_seleccionado\",\"no_seleccionado\",\"no_seleccionado\",\"no_seleccionado\",\"no_seleccionado\",\"no_seleccionado\",\"no_seleccionado\",\"no_seleccionado\",\"no_seleccionado\",\"no_seleccionado\",\"no_seleccionado\",\"no_seleccionado\",\"no_seleccionado\",\"no_seleccionado\",\"no_seleccionado\",\"no_seleccionado\",\"no_seleccionado\",\"no_seleccionado\",\"no_seleccionado\",\"no_seleccionado\",\"no_seleccionado\",\"no_seleccionado\",\"no_seleccionado\",\"no_seleccionado\",\"no_seleccionado\",\"no_seleccionado\",\"no_seleccionado\",\"no_seleccionado\",\"no_seleccionado\",\"no_seleccionado\",\"no_seleccionado\",\"no_seleccionado\",\"no_seleccionado\",\"no_seleccionado\",\"no_seleccionado\",\"no_seleccionado\",\"no_seleccionado\",\"no_seleccionado\",\"no_seleccionado\",\"no_seleccionado\",\"no_seleccionado\",\"no_seleccionado\",\"no_seleccionado\",\"no_seleccionado\",\"no_seleccionado\",\"no_seleccionado\",\"no_seleccionado\",\"no_seleccionado\",\"no_seleccionado\",\"no_seleccionado\",\"no_seleccionado\",\"no_seleccionado\",\"no_seleccionado\",\"no_seleccionado\",\"no_seleccionado\",\"no_seleccionado\",\"no_seleccionado\",\"no_seleccionado\",\"no_seleccionado\",\"no_seleccionado\",\"no_seleccionado\",\"no_seleccionado\",\"no_seleccionado\",\"no_seleccionado\",\"no_seleccionado\",\"no_seleccionado\",\"no_seleccionado\",\"no_seleccionado\",\"no_seleccionado\",\"no_seleccionado\",\"no_seleccionado\",\"no_seleccionado\",\"no_seleccionado\",\"no_seleccionado\",\"no_seleccionado\",\"no_seleccionado\",\"no_seleccionado\",\"no_seleccionado\",\"no_seleccionado\",\"no_seleccionado\",\"no_seleccionado\",\"no_seleccionado\",\"no_seleccionado\",\"no_seleccionado\",\"no_seleccionado\",\"no_seleccionado\",\"no_seleccionado\",\"no_seleccionado\",\"no_seleccionado\",\"no_seleccionado\",\"no_seleccionado\",\"no_seleccionado\",\"no_seleccionado\",\"no_seleccionado\",\"no_seleccionado\",\"no_seleccionado\",\"no_seleccionado\",\"no_seleccionado\",\"no_seleccionado\",\"no_seleccionado\",\"no_seleccionado\",\"no_seleccionado\",\"no_seleccionado\",\"no_seleccionado\",\"no_seleccionado\",\"no_seleccionado\",\"no_seleccionado\",\"no_seleccionado\",\"no_seleccionado\",\"no_seleccionado\",\"no_seleccionado\",\"no_seleccionado\",\"no_seleccionado\",\"no_seleccionado\",\"no_seleccionado\",\"no_seleccionado\",\"no_seleccionado\",\"no_seleccionado\",\"no_seleccionado\",\"no_seleccionado\",\"no_seleccionado\",\"no_seleccionado\",\"no_seleccionado\",\"no_seleccionado\",\"no_seleccionado\",\"no_seleccionado\",\"no_seleccionado\",\"no_seleccionado\",\"no_seleccionado\",\"no_seleccionado\",\"no_seleccionado\",\"no_seleccionado\",\"no_seleccionado\",\"no_seleccionado\",\"no_seleccionado\",\"no_seleccionado\",\"no_seleccionado\",\"no_seleccionado\",\"no_seleccionado\",\"no_seleccionado\",\"no_seleccionado\",\"no_seleccionado\",\"no_seleccionado\",\"no_seleccionado\",\"no_seleccionado\",\"no_seleccionado\",\"no_seleccionado\",\"no_seleccionado\",\"no_seleccionado\",\"no_seleccionado\",\"no_seleccionado\",\"no_seleccionado\",\"no_seleccionado\",\"no_seleccionado\",\"no_seleccionado\",\"no_seleccionado\",\"no_seleccionado\",\"no_seleccionado\",\"no_seleccionado\",\"no_seleccionado\",\"no_seleccionado\",\"no_seleccionado\",\"no_seleccionado\",\"no_seleccionado\",\"no_seleccionado\",\"no_seleccionado\",\"no_seleccionado\",\"no_seleccionado\",\"no_seleccionado\",\"no_seleccionado\",\"no_seleccionado\",\"no_seleccionado\",\"no_seleccionado\",\"no_seleccionado\",\"no_seleccionado\",\"no_seleccionado\",\"no_seleccionado\",\"no_seleccionado\",\"no_seleccionado\",\"no_seleccionado\",\"no_seleccionado\",\"no_seleccionado\",\"no_seleccionado\",\"no_seleccionado\",\"no_seleccionado\",\"no_seleccionado\",\"no_seleccionado\",\"no_seleccionado\",\"no_seleccionado\",\"no_seleccionado\",\"no_seleccionado\",\"no_seleccionado\",\"no_seleccionado\",\"no_seleccionado\",\"no_seleccionado\",\"no_seleccionado\",\"no_seleccionado\",\"no_seleccionado\",\"no_seleccionado\",\"no_seleccionado\",\"no_seleccionado\",\"no_seleccionado\",\"no_seleccionado\",\"no_seleccionado\",\"no_seleccionado\",\"no_seleccionado\",\"no_seleccionado\",\"no_seleccionado\",\"no_seleccionado\",\"no_seleccionado\",\"no_seleccionado\",\"no_seleccionado\",\"no_seleccionado\",\"no_seleccionado\",\"no_seleccionado\",\"no_seleccionado\",\"no_seleccionado\",\"no_seleccionado\",\"no_seleccionado\",\"no_seleccionado\",\"no_seleccionado\",\"no_seleccionado\",\"no_seleccionado\",\"no_seleccionado\",\"no_seleccionado\",\"no_seleccionado\",\"no_seleccionado\",\"no_seleccionado\",\"no_seleccionado\",\"no_seleccionado\",\"no_seleccionado\",\"seleccionado\",\"no_seleccionado\",\"no_seleccionado\",\"no_seleccionado\",\"no_seleccionado\",\"no_seleccionado\",\"no_seleccionado\",\"no_seleccionado\",\"no_seleccionado\",\"no_seleccionado\",\"no_seleccionado\",\"no_seleccionado\",\"no_seleccionado\",\"no_seleccionado\",\"no_seleccionado\",\"no_seleccionado\",\"no_seleccionado\",\"no_seleccionado\",\"no_seleccionado\",\"no_seleccionado\",\"no_seleccionado\",\"no_seleccionado\",\"no_seleccionado\",\"no_seleccionado\",\"no_seleccionado\",\"no_seleccionado\",\"no_seleccionado\",\"no_seleccionado\",\"no_seleccionado\",\"no_seleccionado\",\"no_seleccionado\",\"no_seleccionado\",\"no_seleccionado\",\"seleccionado\",\"no_seleccionado\",\"no_seleccionado\",\"no_seleccionado\",\"no_seleccionado\",\"no_seleccionado\",\"no_seleccionado\",\"no_seleccionado\",\"no_seleccionado\",\"no_seleccionado\",\"no_seleccionado\",\"no_seleccionado\",\"no_seleccionado\",\"no_seleccionado\",\"no_seleccionado\",\"no_seleccionado\",\"no_seleccionado\",\"no_seleccionado\",\"no_seleccionado\",\"no_seleccionado\",\"no_seleccionado\",\"no_seleccionado\",\"no_seleccionado\",\"no_seleccionado\",\"no_seleccionado\",\"no_seleccionado\",\"no_seleccionado\",\"no_seleccionado\",\"no_seleccionado\",\"no_seleccionado\",\"no_seleccionado\",\"no_seleccionado\",\"no_seleccionado\",\"no_seleccionado\",\"no_seleccionado\",\"no_seleccionado\",\"no_seleccionado\",\"no_seleccionado\",\"no_seleccionado\",\"no_seleccionado\",\"no_seleccionado\",\"no_seleccionado\",\"no_seleccionado\",\"no_seleccionado\",\"no_seleccionado\",\"no_seleccionado\",\"no_seleccionado\",\"no_seleccionado\",\"no_seleccionado\",\"no_seleccionado\",\"no_seleccionado\",\"no_seleccionado\",\"no_seleccionado\",\"no_seleccionado\",\"seleccionado\",\"no_seleccionado\",\"no_seleccionado\",\"no_seleccionado\",\"no_seleccionado\",\"no_seleccionado\",\"no_seleccionado\",\"no_seleccionado\",\"no_seleccionado\",\"no_seleccionado\",\"seleccionado\",\"no_seleccionado\",\"no_seleccionado\",\"no_seleccionado\",\"no_seleccionado\",\"no_seleccionado\",\"no_seleccionado\",\"no_seleccionado\",\"no_seleccionado\",\"no_seleccionado\",\"no_seleccionado\",\"no_seleccionado\",\"no_seleccionado\",\"no_seleccionado\",\"no_seleccionado\",\"no_seleccionado\",\"no_seleccionado\",\"no_seleccionado\",\"no_seleccionado\",\"no_seleccionado\",\"no_seleccionado\",\"no_seleccionado\",\"no_seleccionado\",\"no_seleccionado\",\"no_seleccionado\",\"no_seleccionado\",\"no_seleccionado\",\"no_seleccionado\",\"no_seleccionado\",\"no_seleccionado\",\"no_seleccionado\",\"no_seleccionado\",\"no_seleccionado\",\"no_seleccionado\",\"no_seleccionado\",\"no_seleccionado\",\"no_seleccionado\",\"no_seleccionado\",\"no_seleccionado\",\"no_seleccionado\",\"no_seleccionado\",\"no_seleccionado\",\"no_seleccionado\",\"no_seleccionado\",\"no_seleccionado\",\"no_seleccionado\",\"no_seleccionado\",\"no_seleccionado\",\"no_seleccionado\",\"no_seleccionado\",\"no_seleccionado\",\"no_seleccionado\",\"no_seleccionado\",\"no_seleccionado\",\"no_seleccionado\",\"no_seleccionado\",\"no_seleccionado\",\"no_seleccionado\",\"no_seleccionado\",\"no_seleccionado\",\"no_seleccionado\",\"no_seleccionado\",\"no_seleccionado\",\"no_seleccionado\",\"no_seleccionado\",\"no_seleccionado\",\"no_seleccionado\",\"no_seleccionado\",\"no_seleccionado\",\"no_seleccionado\",\"no_seleccionado\",\"no_seleccionado\",\"no_seleccionado\",\"no_seleccionado\",\"no_seleccionado\",\"no_seleccionado\",\"no_seleccionado\",\"no_seleccionado\",\"no_seleccionado\",\"no_seleccionado\",\"no_seleccionado\",\"no_seleccionado\",\"no_seleccionado\",\"no_seleccionado\",\"no_seleccionado\",\"no_seleccionado\",\"no_seleccionado\",\"no_seleccionado\",\"no_seleccionado\",\"no_seleccionado\",\"no_seleccionado\",\"no_seleccionado\",\"no_seleccionado\",\"no_seleccionado\",\"no_seleccionado\",\"no_seleccionado\",\"no_seleccionado\",\"no_seleccionado\",\"no_seleccionado\",\"no_seleccionado\",\"no_seleccionado\",\"no_seleccionado\",\"no_seleccionado\",\"no_seleccionado\",\"no_seleccionado\",\"no_seleccionado\",\"no_seleccionado\",\"no_seleccionado\",\"no_seleccionado\",\"no_seleccionado\",\"no_seleccionado\",\"no_seleccionado\",\"no_seleccionado\",\"no_seleccionado\",\"no_seleccionado\",\"no_seleccionado\",\"no_seleccionado\",\"no_seleccionado\",\"no_seleccionado\",\"no_seleccionado\",\"no_seleccionado\",\"no_seleccionado\",\"no_seleccionado\",\"no_seleccionado\",\"no_seleccionado\",\"no_seleccionado\",\"no_seleccionado\",\"no_seleccionado\",\"no_seleccionado\",\"no_seleccionado\",\"no_seleccionado\",\"no_seleccionado\",\"no_seleccionado\",\"no_seleccionado\",\"no_seleccionado\",\"no_seleccionado\",\"no_seleccionado\",\"no_seleccionado\",\"no_seleccionado\",\"no_seleccionado\",\"no_seleccionado\",\"no_seleccionado\",\"no_seleccionado\",\"no_seleccionado\",\"no_seleccionado\",\"no_seleccionado\",\"no_seleccionado\",\"no_seleccionado\",\"no_seleccionado\",\"no_seleccionado\",\"no_seleccionado\",\"no_seleccionado\",\"no_seleccionado\",\"no_seleccionado\",\"no_seleccionado\",\"no_seleccionado\",\"no_seleccionado\",\"no_seleccionado\",\"no_seleccionado\",\"no_seleccionado\",\"no_seleccionado\",\"no_seleccionado\",\"no_seleccionado\",\"no_seleccionado\",\"no_seleccionado\",\"no_seleccionado\",\"no_seleccionado\",\"no_seleccionado\",\"no_seleccionado\",\"no_seleccionado\",\"no_seleccionado\",\"no_seleccionado\",\"no_seleccionado\",\"no_seleccionado\",\"no_seleccionado\",\"no_seleccionado\",\"no_seleccionado\",\"no_seleccionado\",\"no_seleccionado\",\"no_seleccionado\",\"no_seleccionado\",\"no_seleccionado\",\"no_seleccionado\",\"no_seleccionado\",\"no_seleccionado\",\"no_seleccionado\",\"no_seleccionado\",\"no_seleccionado\",\"no_seleccionado\",\"no_seleccionado\",\"no_seleccionado\",\"no_seleccionado\",\"no_seleccionado\",\"no_seleccionado\",\"no_seleccionado\",\"no_seleccionado\",\"no_seleccionado\",\"no_seleccionado\",\"no_seleccionado\",\"no_seleccionado\",\"no_seleccionado\",\"no_seleccionado\",\"no_seleccionado\",\"no_seleccionado\",\"no_seleccionado\",\"no_seleccionado\",\"no_seleccionado\",\"no_seleccionado\",\"no_seleccionado\",\"seleccionado\",\"no_seleccionado\",\"no_seleccionado\",\"no_seleccionado\",\"no_seleccionado\",\"no_seleccionado\",\"no_seleccionado\",\"no_seleccionado\",\"no_seleccionado\",\"no_seleccionado\",\"no_seleccionado\",\"no_seleccionado\",\"no_seleccionado\",\"no_seleccionado\",\"no_seleccionado\",\"no_seleccionado\",\"no_seleccionado\",\"no_seleccionado\",\"no_seleccionado\",\"no_seleccionado\",\"no_seleccionado\",\"no_seleccionado\",\"no_seleccionado\",\"no_seleccionado\",\"no_seleccionado\",\"no_seleccionado\",\"no_seleccionado\",\"no_seleccionado\",\"no_seleccionado\",\"no_seleccionado\",\"no_seleccionado\",\"no_seleccionado\",\"no_seleccionado\",\"no_seleccionado\",\"no_seleccionado\",\"no_seleccionado\",\"no_seleccionado\",\"no_seleccionado\",\"no_seleccionado\",\"no_seleccionado\",\"no_seleccionado\",\"no_seleccionado\",\"no_seleccionado\",\"no_seleccionado\",\"no_seleccionado\",\"no_seleccionado\",\"no_seleccionado\",\"no_seleccionado\",\"no_seleccionado\",\"no_seleccionado\",\"no_seleccionado\",\"no_seleccionado\",\"no_seleccionado\",\"no_seleccionado\",\"no_seleccionado\",\"no_seleccionado\",\"no_seleccionado\",\"no_seleccionado\",\"no_seleccionado\",\"no_seleccionado\",\"no_seleccionado\",\"no_seleccionado\",\"no_seleccionado\",\"no_seleccionado\",\"no_seleccionado\",\"no_seleccionado\",\"no_seleccionado\",\"no_seleccionado\",\"no_seleccionado\",\"no_seleccionado\",\"no_seleccionado\",\"no_seleccionado\",\"no_seleccionado\",\"no_seleccionado\",\"no_seleccionado\",\"no_seleccionado\",\"no_seleccionado\",\"no_seleccionado\",\"no_seleccionado\",\"no_seleccionado\",\"no_seleccionado\",\"no_seleccionado\",\"no_seleccionado\",\"no_seleccionado\",\"no_seleccionado\",\"no_seleccionado\",\"no_seleccionado\",\"no_seleccionado\",\"no_seleccionado\",\"no_seleccionado\",\"no_seleccionado\",\"no_seleccionado\",\"no_seleccionado\",\"no_seleccionado\",\"no_seleccionado\",\"no_seleccionado\",\"no_seleccionado\",\"no_seleccionado\",\"no_seleccionado\",\"no_seleccionado\",\"no_seleccionado\",\"no_seleccionado\",\"no_seleccionado\",\"no_seleccionado\",\"no_seleccionado\",\"no_seleccionado\",\"no_seleccionado\",\"no_seleccionado\",\"no_seleccionado\",\"no_seleccionado\",\"no_seleccionado\",\"no_seleccionado\",\"no_seleccionado\",\"no_seleccionado\",\"no_seleccionado\",\"no_seleccionado\",\"no_seleccionado\",\"no_seleccionado\",\"no_seleccionado\",\"no_seleccionado\",\"no_seleccionado\",\"no_seleccionado\",\"no_seleccionado\",\"no_seleccionado\",\"no_seleccionado\",\"no_seleccionado\",\"no_seleccionado\",\"no_seleccionado\",\"no_seleccionado\",\"no_seleccionado\",\"no_seleccionado\",\"no_seleccionado\",\"no_seleccionado\",\"no_seleccionado\",\"no_seleccionado\",\"no_seleccionado\",\"no_seleccionado\",\"no_seleccionado\",\"no_seleccionado\",\"no_seleccionado\",\"no_seleccionado\",\"no_seleccionado\",\"no_seleccionado\",\"no_seleccionado\",\"no_seleccionado\",\"no_seleccionado\",\"no_seleccionado\",\"no_seleccionado\",\"no_seleccionado\",\"no_seleccionado\",\"no_seleccionado\",\"no_seleccionado\",\"no_seleccionado\",\"no_seleccionado\",\"no_seleccionado\",\"no_seleccionado\",\"no_seleccionado\",\"no_seleccionado\",\"no_seleccionado\",\"no_seleccionado\",\"no_seleccionado\",\"no_seleccionado\",\"no_seleccionado\",\"no_seleccionado\",\"no_seleccionado\",\"no_seleccionado\",\"no_seleccionado\",\"no_seleccionado\",\"no_seleccionado\",\"no_seleccionado\",\"no_seleccionado\",\"no_seleccionado\",\"no_seleccionado\",\"no_seleccionado\",\"no_seleccionado\",\"no_seleccionado\",\"no_seleccionado\",\"no_seleccionado\",\"no_seleccionado\",\"no_seleccionado\",\"no_seleccionado\",\"no_seleccionado\",\"no_seleccionado\",\"no_seleccionado\",\"no_seleccionado\",\"no_seleccionado\",\"no_seleccionado\",\"no_seleccionado\",\"no_seleccionado\",\"no_seleccionado\",\"seleccionado\",\"no_seleccionado\",\"no_seleccionado\",\"seleccionado\",\"no_seleccionado\",\"no_seleccionado\",\"no_seleccionado\",\"no_seleccionado\",\"no_seleccionado\",\"no_seleccionado\",\"no_seleccionado\",\"no_seleccionado\",\"no_seleccionado\",\"no_seleccionado\",\"no_seleccionado\",\"no_seleccionado\",\"no_seleccionado\",\"no_seleccionado\",\"no_seleccionado\",\"no_seleccionado\",\"no_seleccionado\",\"no_seleccionado\",\"no_seleccionado\",\"no_seleccionado\",\"no_seleccionado\",\"no_seleccionado\",\"no_seleccionado\",\"no_seleccionado\",\"no_seleccionado\",\"no_seleccionado\",\"no_seleccionado\",\"no_seleccionado\",\"no_seleccionado\",\"no_seleccionado\",\"no_seleccionado\",\"no_seleccionado\",\"seleccionado\",\"seleccionado\",\"no_seleccionado\",\"no_seleccionado\",\"no_seleccionado\",\"no_seleccionado\",\"no_seleccionado\",\"no_seleccionado\",\"no_seleccionado\",\"no_seleccionado\",\"no_seleccionado\",\"no_seleccionado\",\"no_seleccionado\",\"no_seleccionado\",\"no_seleccionado\",\"no_seleccionado\",\"no_seleccionado\",\"no_seleccionado\",\"no_seleccionado\",\"no_seleccionado\",\"no_seleccionado\",\"no_seleccionado\",\"no_seleccionado\",\"no_seleccionado\",\"no_seleccionado\",\"no_seleccionado\",\"no_seleccionado\",\"no_seleccionado\",\"no_seleccionado\",\"no_seleccionado\",\"no_seleccionado\",\"no_seleccionado\",\"no_seleccionado\",\"no_seleccionado\",\"no_seleccionado\",\"no_seleccionado\",\"no_seleccionado\",\"no_seleccionado\",\"no_seleccionado\",\"no_seleccionado\",\"no_seleccionado\",\"no_seleccionado\",\"no_seleccionado\",\"no_seleccionado\",\"no_seleccionado\",\"no_seleccionado\",\"no_seleccionado\",\"no_seleccionado\",\"no_seleccionado\",\"no_seleccionado\",\"no_seleccionado\",\"no_seleccionado\",\"no_seleccionado\",\"no_seleccionado\",\"no_seleccionado\",\"no_seleccionado\",\"no_seleccionado\",\"no_seleccionado\",\"no_seleccionado\",\"no_seleccionado\",\"no_seleccionado\",\"no_seleccionado\",\"no_seleccionado\",\"no_seleccionado\",\"no_seleccionado\",\"no_seleccionado\",\"no_seleccionado\",\"no_seleccionado\",\"no_seleccionado\",\"no_seleccionado\",\"no_seleccionado\",\"no_seleccionado\",\"no_seleccionado\",\"no_seleccionado\",\"no_seleccionado\",\"no_seleccionado\",\"no_seleccionado\",\"no_seleccionado\",\"no_seleccionado\",\"no_seleccionado\",\"no_seleccionado\",\"no_seleccionado\",\"no_seleccionado\",\"no_seleccionado\",\"no_seleccionado\",\"no_seleccionado\",\"no_seleccionado\",\"no_seleccionado\",\"no_seleccionado\",\"no_seleccionado\",\"no_seleccionado\",\"no_seleccionado\",\"no_seleccionado\",\"no_seleccionado\",\"no_seleccionado\",\"no_seleccionado\",\"no_seleccionado\",\"no_seleccionado\",\"no_seleccionado\",\"no_seleccionado\",\"no_seleccionado\",\"no_seleccionado\",\"no_seleccionado\",\"no_seleccionado\",\"no_seleccionado\",\"no_seleccionado\",\"no_seleccionado\",\"no_seleccionado\",\"no_seleccionado\",\"no_seleccionado\",\"no_seleccionado\",\"no_seleccionado\",\"no_seleccionado\",\"no_seleccionado\",\"no_seleccionado\",\"no_seleccionado\",\"no_seleccionado\",\"no_seleccionado\",\"no_seleccionado\",\"no_seleccionado\",\"no_seleccionado\",\"no_seleccionado\",\"no_seleccionado\",\"no_seleccionado\",\"no_seleccionado\",\"no_seleccionado\",\"no_seleccionado\",\"no_seleccionado\",\"no_seleccionado\",\"no_seleccionado\",\"no_seleccionado\",\"no_seleccionado\",\"no_seleccionado\",\"no_seleccionado\",\"no_seleccionado\",\"no_seleccionado\",\"no_seleccionado\",\"no_seleccionado\",\"no_seleccionado\",\"no_seleccionado\",\"no_seleccionado\",\"no_seleccionado\",\"no_seleccionado\",\"no_seleccionado\",\"no_seleccionado\",\"no_seleccionado\",\"no_seleccionado\",\"no_seleccionado\",\"no_seleccionado\",\"no_seleccionado\",\"no_seleccionado\",\"no_seleccionado\",\"no_seleccionado\",\"no_seleccionado\",\"no_seleccionado\",\"no_seleccionado\",\"no_seleccionado\",\"no_seleccionado\",\"no_seleccionado\",\"no_seleccionado\",\"no_seleccionado\",\"no_seleccionado\",\"no_seleccionado\",\"no_seleccionado\",\"no_seleccionado\",\"no_seleccionado\",\"no_seleccionado\",\"no_seleccionado\",\"no_seleccionado\",\"no_seleccionado\",\"no_seleccionado\",\"no_seleccionado\",\"no_seleccionado\",\"no_seleccionado\",\"no_seleccionado\",\"seleccionado\",\"no_seleccionado\",\"no_seleccionado\",\"no_seleccionado\",\"no_seleccionado\",\"no_seleccionado\",\"no_seleccionado\",\"no_seleccionado\",\"no_seleccionado\",\"no_seleccionado\",\"no_seleccionado\",\"no_seleccionado\",\"no_seleccionado\",\"no_seleccionado\",\"no_seleccionado\",\"no_seleccionado\",\"no_seleccionado\",\"no_seleccionado\",\"no_seleccionado\",\"no_seleccionado\",\"no_seleccionado\",\"no_seleccionado\",\"no_seleccionado\",\"no_seleccionado\",\"no_seleccionado\",\"no_seleccionado\",\"no_seleccionado\",\"no_seleccionado\",\"no_seleccionado\",\"no_seleccionado\",\"no_seleccionado\",\"no_seleccionado\",\"no_seleccionado\",\"no_seleccionado\",\"no_seleccionado\",\"no_seleccionado\",\"no_seleccionado\",\"no_seleccionado\",\"no_seleccionado\",\"no_seleccionado\",\"no_seleccionado\",\"no_seleccionado\",\"no_seleccionado\",\"no_seleccionado\",\"no_seleccionado\",\"no_seleccionado\",\"no_seleccionado\",\"no_seleccionado\",\"no_seleccionado\",\"no_seleccionado\",\"no_seleccionado\",\"no_seleccionado\",\"no_seleccionado\",\"no_seleccionado\",\"no_seleccionado\",\"no_seleccionado\",\"no_seleccionado\",\"seleccionado\",\"no_seleccionado\",\"no_seleccionado\",\"no_seleccionado\",\"no_seleccionado\",\"no_seleccionado\",\"no_seleccionado\",\"no_seleccionado\",\"no_seleccionado\",\"no_seleccionado\",\"no_seleccionado\",\"no_seleccionado\",\"no_seleccionado\",\"no_seleccionado\",\"no_seleccionado\",\"no_seleccionado\",\"no_seleccionado\",\"no_seleccionado\",\"no_seleccionado\",\"no_seleccionado\",\"no_seleccionado\",\"no_seleccionado\",\"no_seleccionado\",\"no_seleccionado\",\"no_seleccionado\",\"no_seleccionado\",\"no_seleccionado\",\"no_seleccionado\",\"no_seleccionado\",\"no_seleccionado\",\"no_seleccionado\",\"no_seleccionado\",\"no_seleccionado\",\"no_seleccionado\",\"no_seleccionado\",\"no_seleccionado\",\"no_seleccionado\",\"no_seleccionado\",\"no_seleccionado\",\"no_seleccionado\",\"no_seleccionado\",\"no_seleccionado\",\"no_seleccionado\",\"no_seleccionado\",\"no_seleccionado\",\"no_seleccionado\",\"no_seleccionado\",\"no_seleccionado\",\"no_seleccionado\",\"no_seleccionado\",\"no_seleccionado\",\"no_seleccionado\",\"no_seleccionado\",\"no_seleccionado\",\"no_seleccionado\",\"no_seleccionado\",\"no_seleccionado\",\"no_seleccionado\",\"no_seleccionado\",\"no_seleccionado\",\"no_seleccionado\",\"no_seleccionado\",\"no_seleccionado\",\"no_seleccionado\",\"no_seleccionado\",\"no_seleccionado\",\"no_seleccionado\",\"no_seleccionado\",\"no_seleccionado\",\"no_seleccionado\",\"no_seleccionado\",\"no_seleccionado\",\"no_seleccionado\",\"no_seleccionado\",\"no_seleccionado\",\"no_seleccionado\",\"no_seleccionado\",\"no_seleccionado\",\"no_seleccionado\",\"no_seleccionado\",\"no_seleccionado\",\"no_seleccionado\",\"no_seleccionado\",\"no_seleccionado\",\"no_seleccionado\",\"no_seleccionado\",\"no_seleccionado\",\"no_seleccionado\",\"no_seleccionado\",\"no_seleccionado\",\"no_seleccionado\",\"no_seleccionado\",\"no_seleccionado\",\"no_seleccionado\",\"no_seleccionado\",\"no_seleccionado\",\"no_seleccionado\",\"no_seleccionado\",\"no_seleccionado\",\"no_seleccionado\",\"no_seleccionado\",\"no_seleccionado\",\"seleccionado\",\"no_seleccionado\",\"no_seleccionado\",\"no_seleccionado\",\"no_seleccionado\",\"no_seleccionado\",\"no_seleccionado\",\"seleccionado\",\"no_seleccionado\",\"no_seleccionado\",\"no_seleccionado\",\"no_seleccionado\",\"no_seleccionado\",\"no_seleccionado\",\"no_seleccionado\",\"no_seleccionado\",\"no_seleccionado\",\"no_seleccionado\",\"no_seleccionado\",\"no_seleccionado\",\"no_seleccionado\",\"no_seleccionado\",\"no_seleccionado\",\"no_seleccionado\",\"no_seleccionado\",\"no_seleccionado\",\"no_seleccionado\",\"no_seleccionado\",\"no_seleccionado\",\"no_seleccionado\",\"no_seleccionado\",\"no_seleccionado\",\"no_seleccionado\",\"no_seleccionado\",\"no_seleccionado\",\"no_seleccionado\",\"no_seleccionado\",\"no_seleccionado\",\"no_seleccionado\",\"no_seleccionado\",\"no_seleccionado\",\"no_seleccionado\",\"no_seleccionado\",\"no_seleccionado\",\"no_seleccionado\",\"no_seleccionado\",\"no_seleccionado\",\"no_seleccionado\",\"no_seleccionado\",\"no_seleccionado\",\"no_seleccionado\",\"no_seleccionado\",\"no_seleccionado\",\"no_seleccionado\",\"no_seleccionado\",\"no_seleccionado\",\"no_seleccionado\",\"no_seleccionado\",\"no_seleccionado\",\"no_seleccionado\",\"no_seleccionado\",\"no_seleccionado\",\"no_seleccionado\",\"no_seleccionado\",\"no_seleccionado\",\"no_seleccionado\",\"no_seleccionado\",\"no_seleccionado\",\"no_seleccionado\",\"no_seleccionado\",\"no_seleccionado\",\"no_seleccionado\",\"no_seleccionado\",\"no_seleccionado\",\"no_seleccionado\",\"no_seleccionado\",\"no_seleccionado\",\"no_seleccionado\",\"no_seleccionado\",\"no_seleccionado\",\"no_seleccionado\",\"no_seleccionado\",\"no_seleccionado\",\"no_seleccionado\",\"no_seleccionado\",\"no_seleccionado\",\"no_seleccionado\",\"no_seleccionado\",\"no_seleccionado\",\"no_seleccionado\",\"no_seleccionado\",\"no_seleccionado\",\"seleccionado\",\"no_seleccionado\",\"no_seleccionado\",\"no_seleccionado\",\"no_seleccionado\",\"no_seleccionado\",\"no_seleccionado\",\"no_seleccionado\",\"no_seleccionado\",\"no_seleccionado\",\"no_seleccionado\",\"no_seleccionado\",\"no_seleccionado\",\"no_seleccionado\",\"no_seleccionado\",\"no_seleccionado\",\"no_seleccionado\",\"no_seleccionado\",\"no_seleccionado\",\"no_seleccionado\",\"no_seleccionado\",\"no_seleccionado\",\"no_seleccionado\",\"no_seleccionado\",\"seleccionado\",\"no_seleccionado\",\"no_seleccionado\",\"no_seleccionado\",\"no_seleccionado\",\"no_seleccionado\",\"no_seleccionado\",\"no_seleccionado\",\"no_seleccionado\",\"no_seleccionado\",\"no_seleccionado\",\"no_seleccionado\",\"no_seleccionado\",\"no_seleccionado\",\"no_seleccionado\",\"no_seleccionado\",\"no_seleccionado\",\"no_seleccionado\",\"no_seleccionado\",\"no_seleccionado\",\"no_seleccionado\",\"no_seleccionado\",\"no_seleccionado\",\"no_seleccionado\",\"no_seleccionado\",\"no_seleccionado\",\"no_seleccionado\",\"no_seleccionado\",\"no_seleccionado\",\"no_seleccionado\",\"no_seleccionado\",\"no_seleccionado\",\"no_seleccionado\",\"no_seleccionado\",\"no_seleccionado\",\"no_seleccionado\",\"no_seleccionado\",\"no_seleccionado\",\"no_seleccionado\",\"no_seleccionado\",\"no_seleccionado\",\"no_seleccionado\",\"no_seleccionado\",\"no_seleccionado\",\"no_seleccionado\",\"no_seleccionado\",\"no_seleccionado\",\"no_seleccionado\",\"no_seleccionado\",\"no_seleccionado\",\"no_seleccionado\",\"no_seleccionado\",\"no_seleccionado\",\"no_seleccionado\",\"no_seleccionado\",\"no_seleccionado\",\"no_seleccionado\",\"no_seleccionado\",\"no_seleccionado\",\"no_seleccionado\",\"no_seleccionado\",\"no_seleccionado\",\"no_seleccionado\",\"no_seleccionado\",\"no_seleccionado\",\"no_seleccionado\",\"no_seleccionado\",\"no_seleccionado\",\"no_seleccionado\",\"no_seleccionado\",\"no_seleccionado\",\"no_seleccionado\",\"no_seleccionado\",\"no_seleccionado\",\"no_seleccionado\",\"no_seleccionado\",\"no_seleccionado\",\"no_seleccionado\",\"no_seleccionado\",\"no_seleccionado\",\"no_seleccionado\",\"seleccionado\",\"no_seleccionado\",\"no_seleccionado\",\"no_seleccionado\",\"no_seleccionado\",\"no_seleccionado\",\"no_seleccionado\",\"no_seleccionado\",\"no_seleccionado\",\"no_seleccionado\",\"no_seleccionado\",\"no_seleccionado\",\"no_seleccionado\",\"no_seleccionado\",\"no_seleccionado\",\"no_seleccionado\",\"no_seleccionado\",\"no_seleccionado\",\"no_seleccionado\",\"no_seleccionado\",\"no_seleccionado\",\"no_seleccionado\",\"no_seleccionado\",\"no_seleccionado\",\"no_seleccionado\",\"no_seleccionado\",\"no_seleccionado\",\"no_seleccionado\",\"no_seleccionado\",\"no_seleccionado\",\"no_seleccionado\",\"no_seleccionado\",\"no_seleccionado\",\"no_seleccionado\",\"no_seleccionado\",\"no_seleccionado\",\"no_seleccionado\",\"no_seleccionado\",\"no_seleccionado\",\"no_seleccionado\",\"no_seleccionado\",\"no_seleccionado\",\"no_seleccionado\",\"no_seleccionado\",\"no_seleccionado\",\"no_seleccionado\",\"no_seleccionado\",\"no_seleccionado\",\"no_seleccionado\",\"no_seleccionado\",\"no_seleccionado\",\"no_seleccionado\",\"no_seleccionado\",\"no_seleccionado\",\"no_seleccionado\",\"no_seleccionado\",\"no_seleccionado\",\"no_seleccionado\",\"no_seleccionado\",\"no_seleccionado\",\"no_seleccionado\",\"no_seleccionado\",\"no_seleccionado\",\"no_seleccionado\",\"no_seleccionado\",\"no_seleccionado\",\"no_seleccionado\",\"no_seleccionado\",\"no_seleccionado\",\"no_seleccionado\",\"no_seleccionado\",\"no_seleccionado\",\"no_seleccionado\",\"no_seleccionado\",\"seleccionado\",\"seleccionado\",\"no_seleccionado\",\"no_seleccionado\",\"no_seleccionado\",\"no_seleccionado\",\"no_seleccionado\",\"no_seleccionado\",\"no_seleccionado\",\"no_seleccionado\",\"no_seleccionado\",\"no_seleccionado\",\"no_seleccionado\",\"no_seleccionado\",\"no_seleccionado\",\"no_seleccionado\",\"no_seleccionado\",\"no_seleccionado\",\"no_seleccionado\",\"no_seleccionado\",\"no_seleccionado\",\"no_seleccionado\",\"no_seleccionado\",\"no_seleccionado\",\"no_seleccionado\",\"no_seleccionado\",\"no_seleccionado\",\"no_seleccionado\",\"no_seleccionado\",\"no_seleccionado\",\"no_seleccionado\",\"no_seleccionado\",\"no_seleccionado\",\"no_seleccionado\",\"no_seleccionado\",\"no_seleccionado\",\"no_seleccionado\",\"no_seleccionado\",\"no_seleccionado\",\"no_seleccionado\",\"no_seleccionado\",\"no_seleccionado\",\"no_seleccionado\",\"no_seleccionado\",\"no_seleccionado\",\"no_seleccionado\",\"no_seleccionado\",\"no_seleccionado\",\"no_seleccionado\",\"no_seleccionado\",\"no_seleccionado\",\"no_seleccionado\",\"no_seleccionado\",\"no_seleccionado\",\"no_seleccionado\",\"no_seleccionado\",\"no_seleccionado\",\"seleccionado\",\"no_seleccionado\",\"no_seleccionado\",\"no_seleccionado\",\"no_seleccionado\",\"no_seleccionado\",\"no_seleccionado\",\"no_seleccionado\",\"no_seleccionado\",\"no_seleccionado\",\"no_seleccionado\",\"no_seleccionado\",\"no_seleccionado\",\"no_seleccionado\",\"no_seleccionado\",\"no_seleccionado\",\"no_seleccionado\",\"no_seleccionado\",\"no_seleccionado\",\"no_seleccionado\",\"no_seleccionado\",\"no_seleccionado\",\"no_seleccionado\",\"seleccionado\",\"no_seleccionado\",\"no_seleccionado\",\"no_seleccionado\",\"no_seleccionado\",\"no_seleccionado\",\"no_seleccionado\",\"no_seleccionado\",\"no_seleccionado\",\"no_seleccionado\",\"no_seleccionado\",\"no_seleccionado\",\"no_seleccionado\",\"no_seleccionado\",\"no_seleccionado\",\"no_seleccionado\",\"no_seleccionado\",\"no_seleccionado\",\"no_seleccionado\",\"no_seleccionado\",\"no_seleccionado\",\"no_seleccionado\",\"no_seleccionado\",\"no_seleccionado\",\"no_seleccionado\",\"no_seleccionado\",\"no_seleccionado\",\"no_seleccionado\",\"no_seleccionado\",\"no_seleccionado\",\"no_seleccionado\",\"no_seleccionado\",\"no_seleccionado\",\"no_seleccionado\",\"no_seleccionado\",\"no_seleccionado\",\"no_seleccionado\",\"no_seleccionado\",\"no_seleccionado\",\"no_seleccionado\",\"no_seleccionado\",\"no_seleccionado\",\"no_seleccionado\",\"no_seleccionado\",\"no_seleccionado\",\"no_seleccionado\",\"no_seleccionado\",\"no_seleccionado\",\"no_seleccionado\",\"no_seleccionado\",\"no_seleccionado\",\"no_seleccionado\",\"no_seleccionado\",\"no_seleccionado\",\"no_seleccionado\",\"no_seleccionado\",\"no_seleccionado\",\"no_seleccionado\",\"no_seleccionado\",\"no_seleccionado\",\"no_seleccionado\",\"no_seleccionado\",\"no_seleccionado\",\"no_seleccionado\",\"no_seleccionado\",\"no_seleccionado\",\"no_seleccionado\",\"no_seleccionado\",\"no_seleccionado\",\"no_seleccionado\",\"no_seleccionado\",\"no_seleccionado\",\"seleccionado\",\"no_seleccionado\",\"no_seleccionado\",\"no_seleccionado\",\"no_seleccionado\",\"no_seleccionado\",\"no_seleccionado\",\"no_seleccionado\",\"no_seleccionado\",\"no_seleccionado\",\"no_seleccionado\",\"no_seleccionado\",\"no_seleccionado\",\"no_seleccionado\",\"no_seleccionado\",\"no_seleccionado\",\"no_seleccionado\",\"no_seleccionado\",\"no_seleccionado\",\"no_seleccionado\",\"no_seleccionado\",\"no_seleccionado\",\"seleccionado\",\"no_seleccionado\",\"no_seleccionado\",\"no_seleccionado\",\"no_seleccionado\",\"no_seleccionado\",\"no_seleccionado\",\"no_seleccionado\",\"no_seleccionado\",\"no_seleccionado\",\"no_seleccionado\",\"no_seleccionado\",\"no_seleccionado\",\"no_seleccionado\",\"no_seleccionado\",\"no_seleccionado\",\"no_seleccionado\",\"no_seleccionado\",\"no_seleccionado\",\"no_seleccionado\",\"no_seleccionado\",\"no_seleccionado\",\"no_seleccionado\",\"no_seleccionado\",\"no_seleccionado\",\"no_seleccionado\",\"no_seleccionado\",\"no_seleccionado\",\"no_seleccionado\",\"no_seleccionado\",\"no_seleccionado\",\"no_seleccionado\",\"no_seleccionado\",\"no_seleccionado\",\"no_seleccionado\",\"no_seleccionado\",\"no_seleccionado\",\"no_seleccionado\",\"no_seleccionado\",\"no_seleccionado\",\"no_seleccionado\",\"no_seleccionado\",\"no_seleccionado\",\"no_seleccionado\",\"no_seleccionado\",\"no_seleccionado\",\"no_seleccionado\",\"no_seleccionado\",\"no_seleccionado\",\"no_seleccionado\",\"no_seleccionado\",\"no_seleccionado\",\"no_seleccionado\",\"no_seleccionado\",\"no_seleccionado\",\"no_seleccionado\",\"no_seleccionado\",\"no_seleccionado\",\"no_seleccionado\",\"no_seleccionado\",\"no_seleccionado\",\"no_seleccionado\",\"no_seleccionado\",\"no_seleccionado\",\"no_seleccionado\",\"no_seleccionado\",\"no_seleccionado\",\"no_seleccionado\",\"no_seleccionado\",\"no_seleccionado\",\"no_seleccionado\",\"no_seleccionado\",\"no_seleccionado\",\"no_seleccionado\",\"no_seleccionado\",\"no_seleccionado\",\"no_seleccionado\",\"no_seleccionado\",\"no_seleccionado\",\"no_seleccionado\",\"no_seleccionado\",\"no_seleccionado\",\"no_seleccionado\",\"no_seleccionado\",\"no_seleccionado\",\"no_seleccionado\",\"no_seleccionado\",\"no_seleccionado\",\"no_seleccionado\",\"no_seleccionado\",\"no_seleccionado\",\"no_seleccionado\",\"no_seleccionado\",\"no_seleccionado\",\"no_seleccionado\",\"no_seleccionado\",\"no_seleccionado\",\"no_seleccionado\",\"no_seleccionado\",\"no_seleccionado\",\"no_seleccionado\",\"no_seleccionado\",\"no_seleccionado\",\"no_seleccionado\",\"no_seleccionado\",\"no_seleccionado\",\"no_seleccionado\",\"no_seleccionado\",\"no_seleccionado\",\"no_seleccionado\",\"no_seleccionado\",\"no_seleccionado\",\"no_seleccionado\",\"no_seleccionado\",\"no_seleccionado\",\"no_seleccionado\",\"no_seleccionado\",\"no_seleccionado\",\"no_seleccionado\",\"no_seleccionado\",\"no_seleccionado\",\"no_seleccionado\",\"no_seleccionado\",\"no_seleccionado\",\"no_seleccionado\",\"no_seleccionado\",\"no_seleccionado\",\"no_seleccionado\",\"no_seleccionado\",\"no_seleccionado\",\"no_seleccionado\",\"no_seleccionado\",\"no_seleccionado\",\"no_seleccionado\",\"no_seleccionado\",\"no_seleccionado\",\"no_seleccionado\",\"no_seleccionado\",\"no_seleccionado\",\"no_seleccionado\",\"no_seleccionado\",\"no_seleccionado\",\"no_seleccionado\",\"no_seleccionado\",\"no_seleccionado\",\"no_seleccionado\",\"no_seleccionado\",\"no_seleccionado\",\"no_seleccionado\",\"no_seleccionado\",\"no_seleccionado\",\"no_seleccionado\",\"no_seleccionado\",\"no_seleccionado\",\"no_seleccionado\",\"no_seleccionado\",\"no_seleccionado\",\"no_seleccionado\",\"no_seleccionado\",\"no_seleccionado\",\"no_seleccionado\",\"no_seleccionado\",\"no_seleccionado\",\"no_seleccionado\",\"no_seleccionado\",\"no_seleccionado\",\"no_seleccionado\",\"no_seleccionado\",\"no_seleccionado\",\"no_seleccionado\",\"no_seleccionado\",\"no_seleccionado\",\"no_seleccionado\",\"no_seleccionado\",\"no_seleccionado\",\"no_seleccionado\",\"no_seleccionado\",\"no_seleccionado\",\"no_seleccionado\",\"no_seleccionado\",\"no_seleccionado\",\"no_seleccionado\",\"no_seleccionado\",\"no_seleccionado\",\"no_seleccionado\",\"no_seleccionado\",\"no_seleccionado\",\"no_seleccionado\",\"no_seleccionado\",\"no_seleccionado\",\"no_seleccionado\",\"no_seleccionado\",\"no_seleccionado\",\"no_seleccionado\",\"no_seleccionado\",\"no_seleccionado\",\"no_seleccionado\",\"seleccionado\",\"no_seleccionado\",\"no_seleccionado\",\"no_seleccionado\",\"no_seleccionado\",\"no_seleccionado\",\"no_seleccionado\",\"no_seleccionado\",\"no_seleccionado\",\"no_seleccionado\",\"no_seleccionado\",\"no_seleccionado\",\"no_seleccionado\",\"no_seleccionado\",\"no_seleccionado\",\"no_seleccionado\",\"no_seleccionado\",\"no_seleccionado\",\"no_seleccionado\",\"no_seleccionado\",\"no_seleccionado\",\"no_seleccionado\",\"no_seleccionado\",\"no_seleccionado\",\"no_seleccionado\",\"no_seleccionado\",\"no_seleccionado\",\"no_seleccionado\",\"no_seleccionado\",\"no_seleccionado\",\"no_seleccionado\",\"no_seleccionado\",\"no_seleccionado\",\"no_seleccionado\",\"no_seleccionado\",\"no_seleccionado\",\"no_seleccionado\",\"no_seleccionado\",\"no_seleccionado\",\"no_seleccionado\",\"no_seleccionado\",\"no_seleccionado\",\"no_seleccionado\",\"no_seleccionado\",\"no_seleccionado\",\"no_seleccionado\",\"no_seleccionado\",\"no_seleccionado\",\"no_seleccionado\",\"no_seleccionado\",\"no_seleccionado\",\"no_seleccionado\",\"no_seleccionado\",\"no_seleccionado\",\"no_seleccionado\",\"no_seleccionado\",\"no_seleccionado\",\"no_seleccionado\",\"no_seleccionado\",\"no_seleccionado\",\"no_seleccionado\",\"no_seleccionado\",\"no_seleccionado\",\"no_seleccionado\",\"no_seleccionado\",\"no_seleccionado\",\"no_seleccionado\",\"no_seleccionado\",\"no_seleccionado\",\"no_seleccionado\",\"no_seleccionado\",\"no_seleccionado\",\"no_seleccionado\",\"no_seleccionado\",\"no_seleccionado\",\"no_seleccionado\",\"no_seleccionado\",\"no_seleccionado\",\"no_seleccionado\",\"no_seleccionado\",\"no_seleccionado\",\"no_seleccionado\",\"no_seleccionado\",\"no_seleccionado\",\"no_seleccionado\",\"no_seleccionado\",\"no_seleccionado\",\"no_seleccionado\",\"no_seleccionado\",\"no_seleccionado\",\"no_seleccionado\",\"no_seleccionado\",\"no_seleccionado\",\"no_seleccionado\",\"no_seleccionado\",\"no_seleccionado\",\"no_seleccionado\",\"no_seleccionado\",\"no_seleccionado\",\"no_seleccionado\",\"no_seleccionado\",\"no_seleccionado\",\"no_seleccionado\",\"no_seleccionado\",\"no_seleccionado\",\"no_seleccionado\",\"no_seleccionado\",\"no_seleccionado\",\"no_seleccionado\",\"no_seleccionado\",\"no_seleccionado\",\"no_seleccionado\",\"no_seleccionado\",\"no_seleccionado\",\"no_seleccionado\",\"no_seleccionado\",\"no_seleccionado\",\"no_seleccionado\",\"no_seleccionado\",\"no_seleccionado\",\"no_seleccionado\",\"no_seleccionado\",\"no_seleccionado\",\"no_seleccionado\",\"no_seleccionado\",\"no_seleccionado\",\"no_seleccionado\",\"no_seleccionado\",\"no_seleccionado\",\"no_seleccionado\",\"no_seleccionado\",\"no_seleccionado\",\"no_seleccionado\",\"seleccionado\",\"no_seleccionado\",\"no_seleccionado\",\"no_seleccionado\",\"no_seleccionado\",\"no_seleccionado\",\"no_seleccionado\",\"no_seleccionado\",\"no_seleccionado\",\"no_seleccionado\",\"no_seleccionado\",\"no_seleccionado\",\"no_seleccionado\",\"no_seleccionado\",\"no_seleccionado\",\"no_seleccionado\",\"no_seleccionado\",\"no_seleccionado\",\"no_seleccionado\",\"no_seleccionado\",\"seleccionado\",\"no_seleccionado\",\"no_seleccionado\",\"no_seleccionado\",\"no_seleccionado\",\"no_seleccionado\",\"no_seleccionado\",\"no_seleccionado\",\"no_seleccionado\",\"no_seleccionado\",\"no_seleccionado\",\"no_seleccionado\",\"no_seleccionado\",\"no_seleccionado\",\"no_seleccionado\",\"no_seleccionado\",\"no_seleccionado\",\"no_seleccionado\",\"no_seleccionado\",\"seleccionado\",\"no_seleccionado\",\"no_seleccionado\",\"no_seleccionado\",\"no_seleccionado\",\"no_seleccionado\",\"no_seleccionado\",\"no_seleccionado\",\"no_seleccionado\",\"no_seleccionado\",\"no_seleccionado\",\"no_seleccionado\",\"no_seleccionado\",\"no_seleccionado\",\"no_seleccionado\",\"no_seleccionado\",\"no_seleccionado\",\"no_seleccionado\",\"no_seleccionado\",\"no_seleccionado\",\"no_seleccionado\",\"no_seleccionado\",\"no_seleccionado\",\"no_seleccionado\",\"no_seleccionado\",\"no_seleccionado\",\"no_seleccionado\",\"no_seleccionado\",\"no_seleccionado\",\"no_seleccionado\",\"no_seleccionado\",\"no_seleccionado\",\"no_seleccionado\",\"no_seleccionado\",\"no_seleccionado\",\"no_seleccionado\",\"no_seleccionado\",\"no_seleccionado\",\"no_seleccionado\",\"no_seleccionado\",\"no_seleccionado\",\"no_seleccionado\",\"no_seleccionado\",\"no_seleccionado\",\"no_seleccionado\",\"no_seleccionado\",\"no_seleccionado\",\"no_seleccionado\",\"no_seleccionado\",\"no_seleccionado\",\"no_seleccionado\",\"no_seleccionado\",\"no_seleccionado\",\"no_seleccionado\",\"no_seleccionado\",\"no_seleccionado\",\"no_seleccionado\",\"no_seleccionado\",\"no_seleccionado\",\"no_seleccionado\",\"no_seleccionado\",\"seleccionado\",\"no_seleccionado\",\"no_seleccionado\",\"no_seleccionado\",\"no_seleccionado\",\"no_seleccionado\",\"no_seleccionado\",\"no_seleccionado\",\"no_seleccionado\",\"no_seleccionado\",\"no_seleccionado\",\"no_seleccionado\",\"no_seleccionado\",\"no_seleccionado\",\"no_seleccionado\",\"no_seleccionado\",\"no_seleccionado\",\"no_seleccionado\",\"no_seleccionado\",\"no_seleccionado\",\"no_seleccionado\",\"no_seleccionado\",\"no_seleccionado\",\"no_seleccionado\",\"no_seleccionado\",\"no_seleccionado\",\"no_seleccionado\",\"no_seleccionado\",\"no_seleccionado\",\"no_seleccionado\",\"no_seleccionado\",\"no_seleccionado\",\"no_seleccionado\",\"no_seleccionado\",\"no_seleccionado\",\"no_seleccionado\",\"no_seleccionado\",\"no_seleccionado\",\"no_seleccionado\",\"no_seleccionado\",\"no_seleccionado\",\"seleccionado\",\"no_seleccionado\",\"no_seleccionado\",\"no_seleccionado\",\"no_seleccionado\",\"no_seleccionado\",\"no_seleccionado\",\"no_seleccionado\",\"no_seleccionado\",\"no_seleccionado\",\"no_seleccionado\",\"no_seleccionado\",\"no_seleccionado\",\"no_seleccionado\",\"no_seleccionado\",\"no_seleccionado\",\"no_seleccionado\",\"no_seleccionado\",\"no_seleccionado\",\"no_seleccionado\",\"no_seleccionado\",\"no_seleccionado\",\"no_seleccionado\",\"no_seleccionado\",\"no_seleccionado\",\"no_seleccionado\",\"no_seleccionado\",\"no_seleccionado\",\"no_seleccionado\",\"no_seleccionado\",\"no_seleccionado\",\"no_seleccionado\",\"no_seleccionado\",\"no_seleccionado\",\"seleccionado\",\"no_seleccionado\",\"no_seleccionado\",\"no_seleccionado\",\"no_seleccionado\",\"no_seleccionado\",\"no_seleccionado\",\"no_seleccionado\",\"no_seleccionado\",\"no_seleccionado\",\"no_seleccionado\",\"no_seleccionado\",\"no_seleccionado\",\"no_seleccionado\",\"no_seleccionado\",\"no_seleccionado\",\"no_seleccionado\",\"no_seleccionado\",\"no_seleccionado\",\"no_seleccionado\",\"no_seleccionado\",\"no_seleccionado\",\"no_seleccionado\",\"no_seleccionado\",\"no_seleccionado\",\"no_seleccionado\",\"no_seleccionado\",\"no_seleccionado\",\"no_seleccionado\",\"no_seleccionado\",\"no_seleccionado\",\"no_seleccionado\",\"no_seleccionado\",\"no_seleccionado\",\"no_seleccionado\",\"no_seleccionado\",\"no_seleccionado\",\"no_seleccionado\",\"no_seleccionado\",\"no_seleccionado\",\"no_seleccionado\",\"no_seleccionado\",\"no_seleccionado\",\"no_seleccionado\",\"no_seleccionado\",\"no_seleccionado\",\"no_seleccionado\",\"no_seleccionado\",\"no_seleccionado\",\"no_seleccionado\",\"no_seleccionado\",\"no_seleccionado\",\"no_seleccionado\",\"no_seleccionado\",\"no_seleccionado\",\"no_seleccionado\",\"no_seleccionado\",\"no_seleccionado\",\"no_seleccionado\",\"no_seleccionado\",\"no_seleccionado\",\"no_seleccionado\",\"no_seleccionado\",\"no_seleccionado\",\"no_seleccionado\",\"no_seleccionado\",\"no_seleccionado\",\"no_seleccionado\",\"seleccionado\",\"no_seleccionado\",\"no_seleccionado\",\"no_seleccionado\",\"no_seleccionado\",\"no_seleccionado\",\"no_seleccionado\",\"no_seleccionado\",\"no_seleccionado\",\"no_seleccionado\",\"no_seleccionado\",\"no_seleccionado\",\"no_seleccionado\",\"no_seleccionado\",\"no_seleccionado\",\"no_seleccionado\",\"no_seleccionado\",\"no_seleccionado\",\"no_seleccionado\",\"no_seleccionado\",\"no_seleccionado\",\"no_seleccionado\",\"no_seleccionado\",\"no_seleccionado\",\"no_seleccionado\",\"no_seleccionado\",\"no_seleccionado\",\"no_seleccionado\",\"no_seleccionado\",\"no_seleccionado\",\"no_seleccionado\",\"no_seleccionado\",\"no_seleccionado\",\"no_seleccionado\",\"no_seleccionado\",\"no_seleccionado\",\"no_seleccionado\",\"no_seleccionado\",\"no_seleccionado\",\"no_seleccionado\",\"no_seleccionado\",\"no_seleccionado\",\"no_seleccionado\",\"no_seleccionado\",\"no_seleccionado\",\"no_seleccionado\",\"no_seleccionado\",\"no_seleccionado\",\"no_seleccionado\",\"no_seleccionado\",\"no_seleccionado\",\"no_seleccionado\",\"no_seleccionado\",\"no_seleccionado\",\"no_seleccionado\",\"no_seleccionado\",\"no_seleccionado\",\"no_seleccionado\",\"no_seleccionado\",\"no_seleccionado\",\"no_seleccionado\",\"no_seleccionado\",\"no_seleccionado\",\"no_seleccionado\",\"no_seleccionado\",\"no_seleccionado\",\"no_seleccionado\",\"no_seleccionado\",\"no_seleccionado\",\"no_seleccionado\",\"no_seleccionado\",\"no_seleccionado\",\"no_seleccionado\",\"no_seleccionado\",\"no_seleccionado\",\"no_seleccionado\",\"no_seleccionado\",\"no_seleccionado\",\"no_seleccionado\",\"no_seleccionado\",\"no_seleccionado\",\"seleccionado\",\"no_seleccionado\",\"no_seleccionado\",\"no_seleccionado\",\"no_seleccionado\",\"no_seleccionado\",\"no_seleccionado\",\"no_seleccionado\",\"no_seleccionado\",\"no_seleccionado\",\"no_seleccionado\",\"no_seleccionado\",\"no_seleccionado\",\"no_seleccionado\",\"no_seleccionado\",\"no_seleccionado\",\"no_seleccionado\",\"no_seleccionado\",\"no_seleccionado\",\"no_seleccionado\",\"no_seleccionado\",\"no_seleccionado\",\"no_seleccionado\",\"no_seleccionado\",\"no_seleccionado\",\"no_seleccionado\",\"no_seleccionado\",\"no_seleccionado\",\"no_seleccionado\",\"no_seleccionado\",\"no_seleccionado\",\"no_seleccionado\",\"no_seleccionado\",\"no_seleccionado\",\"no_seleccionado\",\"no_seleccionado\",\"no_seleccionado\",\"no_seleccionado\",\"no_seleccionado\",\"no_seleccionado\",\"no_seleccionado\",\"no_seleccionado\",\"no_seleccionado\",\"seleccionado\",\"seleccionado\",\"no_seleccionado\",\"no_seleccionado\",\"no_seleccionado\",\"no_seleccionado\",\"no_seleccionado\",\"no_seleccionado\",\"no_seleccionado\",\"no_seleccionado\",\"no_seleccionado\",\"no_seleccionado\",\"no_seleccionado\",\"no_seleccionado\",\"no_seleccionado\",\"no_seleccionado\",\"no_seleccionado\",\"no_seleccionado\",\"no_seleccionado\",\"no_seleccionado\",\"no_seleccionado\",\"no_seleccionado\",\"no_seleccionado\",\"no_seleccionado\",\"no_seleccionado\",\"no_seleccionado\",\"no_seleccionado\",\"no_seleccionado\",\"no_seleccionado\",\"no_seleccionado\",\"no_seleccionado\",\"no_seleccionado\",\"seleccionado\",\"no_seleccionado\",\"no_seleccionado\",\"no_seleccionado\",\"no_seleccionado\",\"no_seleccionado\",\"no_seleccionado\",\"no_seleccionado\",\"no_seleccionado\",\"no_seleccionado\",\"no_seleccionado\",\"no_seleccionado\",\"no_seleccionado\",\"no_seleccionado\",\"no_seleccionado\",\"no_seleccionado\",\"no_seleccionado\",\"no_seleccionado\",\"no_seleccionado\",\"no_seleccionado\",\"no_seleccionado\",\"no_seleccionado\",\"no_seleccionado\",\"no_seleccionado\",\"no_seleccionado\",\"no_seleccionado\",\"no_seleccionado\",\"no_seleccionado\",\"no_seleccionado\",\"no_seleccionado\",\"no_seleccionado\",\"no_seleccionado\",\"no_seleccionado\",\"no_seleccionado\",\"no_seleccionado\",\"no_seleccionado\",\"no_seleccionado\",\"no_seleccionado\",\"no_seleccionado\",\"no_seleccionado\",\"no_seleccionado\",\"no_seleccionado\",\"no_seleccionado\",\"no_seleccionado\",\"no_seleccionado\",\"no_seleccionado\",\"no_seleccionado\",\"no_seleccionado\",\"no_seleccionado\",\"no_seleccionado\",\"no_seleccionado\",\"no_seleccionado\",\"no_seleccionado\",\"no_seleccionado\",\"no_seleccionado\",\"no_seleccionado\",\"no_seleccionado\",\"no_seleccionado\",\"no_seleccionado\",\"no_seleccionado\",\"no_seleccionado\",\"no_seleccionado\",\"no_seleccionado\",\"no_seleccionado\",\"no_seleccionado\",\"no_seleccionado\",\"no_seleccionado\",\"no_seleccionado\",\"no_seleccionado\",\"no_seleccionado\",\"no_seleccionado\",\"no_seleccionado\",\"no_seleccionado\",\"no_seleccionado\",\"no_seleccionado\",\"no_seleccionado\",\"no_seleccionado\",\"no_seleccionado\",\"no_seleccionado\",\"no_seleccionado\",\"no_seleccionado\",\"no_seleccionado\",\"no_seleccionado\",\"no_seleccionado\",\"no_seleccionado\",\"no_seleccionado\",\"no_seleccionado\",\"no_seleccionado\",\"no_seleccionado\",\"no_seleccionado\",\"no_seleccionado\",\"no_seleccionado\",\"no_seleccionado\",\"no_seleccionado\",\"no_seleccionado\",\"no_seleccionado\",\"no_seleccionado\",\"no_seleccionado\",\"no_seleccionado\",\"no_seleccionado\",\"no_seleccionado\",\"no_seleccionado\",\"no_seleccionado\",\"no_seleccionado\",\"no_seleccionado\",\"no_seleccionado\",\"no_seleccionado\",\"no_seleccionado\",\"no_seleccionado\",\"no_seleccionado\",\"no_seleccionado\",\"no_seleccionado\",\"seleccionado\",\"no_seleccionado\",\"no_seleccionado\",\"no_seleccionado\",\"no_seleccionado\",\"no_seleccionado\",\"no_seleccionado\",\"no_seleccionado\",\"no_seleccionado\",\"no_seleccionado\",\"no_seleccionado\",\"no_seleccionado\",\"no_seleccionado\",\"no_seleccionado\",\"no_seleccionado\",\"no_seleccionado\",\"no_seleccionado\",\"no_seleccionado\",\"no_seleccionado\",\"no_seleccionado\",\"no_seleccionado\",\"no_seleccionado\",\"no_seleccionado\",\"no_seleccionado\",\"no_seleccionado\",\"no_seleccionado\",\"no_seleccionado\",\"no_seleccionado\",\"no_seleccionado\",\"no_seleccionado\",\"no_seleccionado\",\"no_seleccionado\",\"no_seleccionado\",\"no_seleccionado\",\"no_seleccionado\",\"no_seleccionado\",\"no_seleccionado\",\"no_seleccionado\",\"no_seleccionado\",\"no_seleccionado\",\"no_seleccionado\",\"no_seleccionado\",\"no_seleccionado\",\"no_seleccionado\",\"no_seleccionado\",\"no_seleccionado\",\"no_seleccionado\",\"no_seleccionado\",\"no_seleccionado\",\"no_seleccionado\",\"no_seleccionado\",\"no_seleccionado\",\"no_seleccionado\",\"no_seleccionado\",\"no_seleccionado\",\"no_seleccionado\",\"no_seleccionado\",\"no_seleccionado\",\"no_seleccionado\",\"seleccionado\",\"seleccionado\",\"no_seleccionado\",\"no_seleccionado\",\"no_seleccionado\",\"no_seleccionado\",\"no_seleccionado\",\"no_seleccionado\",\"no_seleccionado\",\"no_seleccionado\",\"no_seleccionado\",\"no_seleccionado\",\"no_seleccionado\",\"no_seleccionado\",\"no_seleccionado\",\"no_seleccionado\",\"no_seleccionado\",\"no_seleccionado\",\"no_seleccionado\",\"no_seleccionado\",\"no_seleccionado\",\"no_seleccionado\",\"no_seleccionado\",\"no_seleccionado\",\"no_seleccionado\",\"no_seleccionado\",\"no_seleccionado\",\"no_seleccionado\",\"no_seleccionado\",\"no_seleccionado\",\"no_seleccionado\",\"no_seleccionado\",\"no_seleccionado\",\"no_seleccionado\",\"no_seleccionado\",\"no_seleccionado\",\"no_seleccionado\",\"no_seleccionado\",\"no_seleccionado\",\"no_seleccionado\",\"no_seleccionado\",\"no_seleccionado\",\"no_seleccionado\",\"no_seleccionado\",\"no_seleccionado\",\"no_seleccionado\",\"no_seleccionado\",\"no_seleccionado\",\"no_seleccionado\",\"no_seleccionado\",\"no_seleccionado\",\"no_seleccionado\",\"no_seleccionado\",\"no_seleccionado\",\"no_seleccionado\",\"no_seleccionado\",\"no_seleccionado\",\"no_seleccionado\",\"no_seleccionado\",\"no_seleccionado\",\"no_seleccionado\",\"no_seleccionado\",\"no_seleccionado\",\"no_seleccionado\",\"no_seleccionado\",\"no_seleccionado\",\"no_seleccionado\",\"seleccionado\",\"no_seleccionado\",\"no_seleccionado\",\"no_seleccionado\",\"no_seleccionado\",\"no_seleccionado\",\"no_seleccionado\",\"no_seleccionado\",\"seleccionado\",\"no_seleccionado\",\"no_seleccionado\",\"no_seleccionado\",\"no_seleccionado\",\"no_seleccionado\",\"no_seleccionado\",\"no_seleccionado\",\"no_seleccionado\",\"no_seleccionado\",\"no_seleccionado\",\"no_seleccionado\",\"no_seleccionado\",\"no_seleccionado\",\"no_seleccionado\",\"no_seleccionado\",\"no_seleccionado\",\"no_seleccionado\",\"seleccionado\",\"no_seleccionado\",\"no_seleccionado\",\"no_seleccionado\",\"no_seleccionado\",\"no_seleccionado\",\"no_seleccionado\",\"no_seleccionado\",\"no_seleccionado\",\"no_seleccionado\",\"no_seleccionado\",\"no_seleccionado\",\"no_seleccionado\",\"no_seleccionado\",\"no_seleccionado\",\"no_seleccionado\",\"no_seleccionado\",\"no_seleccionado\",\"no_seleccionado\",\"no_seleccionado\",\"no_seleccionado\",\"no_seleccionado\",\"no_seleccionado\",\"no_seleccionado\",\"no_seleccionado\",\"no_seleccionado\",\"no_seleccionado\",\"no_seleccionado\",\"no_seleccionado\",\"no_seleccionado\",\"no_seleccionado\",\"no_seleccionado\",\"seleccionado\",\"no_seleccionado\",\"no_seleccionado\",\"no_seleccionado\",\"no_seleccionado\",\"no_seleccionado\",\"no_seleccionado\",\"no_seleccionado\",\"no_seleccionado\",\"no_seleccionado\",\"no_seleccionado\",\"no_seleccionado\",\"no_seleccionado\",\"no_seleccionado\",\"no_seleccionado\",\"no_seleccionado\",\"no_seleccionado\",\"no_seleccionado\",\"no_seleccionado\",\"no_seleccionado\",\"no_seleccionado\",\"no_seleccionado\",\"no_seleccionado\",\"no_seleccionado\",\"no_seleccionado\",\"no_seleccionado\",\"no_seleccionado\",\"no_seleccionado\",\"no_seleccionado\",\"no_seleccionado\",\"no_seleccionado\",\"no_seleccionado\",\"no_seleccionado\",\"no_seleccionado\",\"no_seleccionado\",\"no_seleccionado\",\"no_seleccionado\",\"no_seleccionado\",\"no_seleccionado\",\"no_seleccionado\",\"no_seleccionado\",\"no_seleccionado\",\"no_seleccionado\",\"no_seleccionado\",\"no_seleccionado\",\"no_seleccionado\",\"no_seleccionado\",\"no_seleccionado\",\"no_seleccionado\",\"no_seleccionado\",\"no_seleccionado\",\"no_seleccionado\",\"no_seleccionado\",\"no_seleccionado\",\"no_seleccionado\",\"no_seleccionado\",\"no_seleccionado\",\"no_seleccionado\",\"no_seleccionado\",\"no_seleccionado\",\"no_seleccionado\",\"no_seleccionado\",\"no_seleccionado\",\"no_seleccionado\",\"no_seleccionado\",\"no_seleccionado\",\"no_seleccionado\",\"no_seleccionado\",\"no_seleccionado\",\"no_seleccionado\",\"no_seleccionado\",\"no_seleccionado\",\"no_seleccionado\",\"no_seleccionado\",\"no_seleccionado\",\"no_seleccionado\",\"no_seleccionado\",\"no_seleccionado\",\"no_seleccionado\",\"no_seleccionado\",\"no_seleccionado\",\"no_seleccionado\",\"no_seleccionado\",\"no_seleccionado\",\"no_seleccionado\",\"no_seleccionado\",\"no_seleccionado\",\"no_seleccionado\",\"no_seleccionado\",\"no_seleccionado\",\"no_seleccionado\",\"no_seleccionado\",\"no_seleccionado\",\"no_seleccionado\",\"no_seleccionado\",\"no_seleccionado\",\"no_seleccionado\",\"no_seleccionado\",\"no_seleccionado\",\"no_seleccionado\",\"no_seleccionado\",\"no_seleccionado\",\"no_seleccionado\",\"no_seleccionado\",\"no_seleccionado\",\"no_seleccionado\",\"no_seleccionado\",\"no_seleccionado\",\"no_seleccionado\",\"no_seleccionado\",\"no_seleccionado\",\"no_seleccionado\",\"no_seleccionado\",\"no_seleccionado\",\"no_seleccionado\",\"no_seleccionado\",\"no_seleccionado\",\"no_seleccionado\",\"no_seleccionado\",\"no_seleccionado\",\"no_seleccionado\",\"no_seleccionado\",\"no_seleccionado\",\"no_seleccionado\",\"no_seleccionado\",\"no_seleccionado\",\"no_seleccionado\",\"no_seleccionado\",\"no_seleccionado\",\"no_seleccionado\",\"no_seleccionado\",\"no_seleccionado\",\"no_seleccionado\",\"no_seleccionado\",\"no_seleccionado\",\"no_seleccionado\",\"no_seleccionado\",\"no_seleccionado\",\"no_seleccionado\",\"no_seleccionado\",\"no_seleccionado\",\"no_seleccionado\",\"no_seleccionado\",\"no_seleccionado\",\"no_seleccionado\",\"no_seleccionado\",\"no_seleccionado\",\"no_seleccionado\",\"no_seleccionado\",\"no_seleccionado\",\"no_seleccionado\",\"no_seleccionado\",\"no_seleccionado\",\"no_seleccionado\",\"no_seleccionado\",\"no_seleccionado\",\"no_seleccionado\",\"no_seleccionado\",\"no_seleccionado\",\"no_seleccionado\",\"no_seleccionado\",\"no_seleccionado\",\"no_seleccionado\",\"no_seleccionado\",\"no_seleccionado\",\"no_seleccionado\",\"no_seleccionado\",\"no_seleccionado\",\"no_seleccionado\",\"no_seleccionado\",\"no_seleccionado\",\"no_seleccionado\",\"no_seleccionado\",\"no_seleccionado\",\"no_seleccionado\",\"no_seleccionado\",\"no_seleccionado\",\"no_seleccionado\",\"no_seleccionado\",\"no_seleccionado\",\"no_seleccionado\",\"no_seleccionado\",\"no_seleccionado\",\"no_seleccionado\",\"no_seleccionado\",\"no_seleccionado\",\"no_seleccionado\",\"no_seleccionado\",\"no_seleccionado\",\"no_seleccionado\",\"no_seleccionado\",\"no_seleccionado\",\"no_seleccionado\",\"no_seleccionado\",\"no_seleccionado\",\"no_seleccionado\",\"no_seleccionado\",\"no_seleccionado\",\"no_seleccionado\",\"no_seleccionado\",\"no_seleccionado\",\"no_seleccionado\",\"no_seleccionado\",\"no_seleccionado\",\"no_seleccionado\",\"no_seleccionado\",\"no_seleccionado\",\"no_seleccionado\",\"no_seleccionado\",\"no_seleccionado\",\"no_seleccionado\",\"no_seleccionado\",\"no_seleccionado\",\"no_seleccionado\",\"no_seleccionado\",\"no_seleccionado\",\"no_seleccionado\",\"no_seleccionado\",\"no_seleccionado\",\"no_seleccionado\",\"no_seleccionado\",\"no_seleccionado\",\"no_seleccionado\",\"no_seleccionado\",\"no_seleccionado\",\"no_seleccionado\",\"no_seleccionado\",\"no_seleccionado\",\"no_seleccionado\",\"no_seleccionado\",\"no_seleccionado\",\"no_seleccionado\",\"no_seleccionado\",\"no_seleccionado\",\"no_seleccionado\",\"no_seleccionado\",\"no_seleccionado\",\"no_seleccionado\",\"no_seleccionado\",\"no_seleccionado\",\"no_seleccionado\",\"no_seleccionado\",\"no_seleccionado\",\"no_seleccionado\",\"no_seleccionado\",\"no_seleccionado\",\"no_seleccionado\",\"no_seleccionado\",\"no_seleccionado\",\"no_seleccionado\",\"no_seleccionado\",\"no_seleccionado\",\"no_seleccionado\",\"no_seleccionado\",\"no_seleccionado\",\"no_seleccionado\",\"no_seleccionado\",\"no_seleccionado\",\"no_seleccionado\",\"no_seleccionado\",\"no_seleccionado\",\"no_seleccionado\",\"no_seleccionado\",\"no_seleccionado\",\"no_seleccionado\",\"no_seleccionado\",\"no_seleccionado\",\"no_seleccionado\",\"no_seleccionado\",\"no_seleccionado\",\"no_seleccionado\",\"no_seleccionado\",\"no_seleccionado\",\"no_seleccionado\",\"no_seleccionado\",\"no_seleccionado\",\"no_seleccionado\",\"no_seleccionado\",\"no_seleccionado\",\"no_seleccionado\",\"no_seleccionado\",\"no_seleccionado\",\"no_seleccionado\",\"no_seleccionado\",\"no_seleccionado\",\"no_seleccionado\",\"no_seleccionado\",\"no_seleccionado\",\"no_seleccionado\",\"no_seleccionado\",\"no_seleccionado\",\"no_seleccionado\",\"no_seleccionado\",\"no_seleccionado\",\"no_seleccionado\",\"no_seleccionado\",\"no_seleccionado\",\"no_seleccionado\",\"no_seleccionado\",\"no_seleccionado\",\"no_seleccionado\",\"no_seleccionado\",\"no_seleccionado\",\"no_seleccionado\",\"no_seleccionado\",\"no_seleccionado\",\"no_seleccionado\",\"no_seleccionado\",\"no_seleccionado\",\"no_seleccionado\",\"no_seleccionado\",\"no_seleccionado\",\"no_seleccionado\",\"no_seleccionado\",\"no_seleccionado\",\"no_seleccionado\",\"no_seleccionado\",\"no_seleccionado\",\"no_seleccionado\",\"no_seleccionado\",\"no_seleccionado\",\"no_seleccionado\",\"no_seleccionado\",\"no_seleccionado\",\"no_seleccionado\",\"no_seleccionado\",\"no_seleccionado\",\"no_seleccionado\",\"no_seleccionado\",\"no_seleccionado\",\"no_seleccionado\",\"no_seleccionado\",\"no_seleccionado\",\"no_seleccionado\",\"no_seleccionado\",\"no_seleccionado\",\"no_seleccionado\",\"no_seleccionado\",\"no_seleccionado\",\"no_seleccionado\",\"no_seleccionado\",\"no_seleccionado\",\"no_seleccionado\",\"no_seleccionado\",\"no_seleccionado\",\"no_seleccionado\",\"no_seleccionado\",\"no_seleccionado\",\"no_seleccionado\",\"no_seleccionado\",\"no_seleccionado\",\"no_seleccionado\",\"no_seleccionado\",\"no_seleccionado\",\"no_seleccionado\",\"no_seleccionado\",\"no_seleccionado\",\"no_seleccionado\",\"no_seleccionado\",\"no_seleccionado\",\"no_seleccionado\",\"no_seleccionado\",\"no_seleccionado\",\"no_seleccionado\",\"no_seleccionado\",\"no_seleccionado\",\"no_seleccionado\",\"no_seleccionado\",\"no_seleccionado\",\"no_seleccionado\",\"no_seleccionado\",\"no_seleccionado\",\"no_seleccionado\",\"no_seleccionado\",\"no_seleccionado\",\"no_seleccionado\",\"no_seleccionado\",\"no_seleccionado\",\"no_seleccionado\",\"no_seleccionado\",\"no_seleccionado\",\"no_seleccionado\",\"no_seleccionado\",\"seleccionado\",\"no_seleccionado\",\"no_seleccionado\",\"no_seleccionado\",\"no_seleccionado\",\"no_seleccionado\",\"no_seleccionado\",\"no_seleccionado\",\"no_seleccionado\",\"no_seleccionado\",\"no_seleccionado\",\"no_seleccionado\",\"no_seleccionado\",\"no_seleccionado\",\"no_seleccionado\",\"no_seleccionado\",\"no_seleccionado\",\"no_seleccionado\",\"no_seleccionado\",\"no_seleccionado\",\"no_seleccionado\",\"no_seleccionado\",\"no_seleccionado\",\"no_seleccionado\",\"no_seleccionado\",\"no_seleccionado\",\"no_seleccionado\",\"no_seleccionado\",\"no_seleccionado\",\"no_seleccionado\",\"no_seleccionado\",\"no_seleccionado\",\"no_seleccionado\",\"no_seleccionado\",\"no_seleccionado\",\"no_seleccionado\",\"no_seleccionado\",\"no_seleccionado\",\"no_seleccionado\",\"no_seleccionado\",\"no_seleccionado\",\"no_seleccionado\",\"no_seleccionado\",\"no_seleccionado\",\"no_seleccionado\",\"no_seleccionado\",\"no_seleccionado\",\"no_seleccionado\",\"no_seleccionado\",\"no_seleccionado\",\"no_seleccionado\",\"no_seleccionado\",\"no_seleccionado\",\"no_seleccionado\",\"no_seleccionado\",\"no_seleccionado\",\"no_seleccionado\",\"no_seleccionado\",\"no_seleccionado\",\"no_seleccionado\",\"no_seleccionado\",\"no_seleccionado\",\"no_seleccionado\",\"no_seleccionado\",\"no_seleccionado\",\"no_seleccionado\",\"no_seleccionado\",\"no_seleccionado\",\"no_seleccionado\",\"no_seleccionado\",\"no_seleccionado\",\"no_seleccionado\",\"no_seleccionado\",\"no_seleccionado\",\"no_seleccionado\",\"no_seleccionado\",\"no_seleccionado\",\"no_seleccionado\",\"no_seleccionado\",\"no_seleccionado\",\"no_seleccionado\",\"no_seleccionado\",\"no_seleccionado\",\"no_seleccionado\",\"no_seleccionado\",\"no_seleccionado\",\"no_seleccionado\",\"no_seleccionado\",\"no_seleccionado\",\"no_seleccionado\",\"no_seleccionado\",\"no_seleccionado\",\"no_seleccionado\",\"no_seleccionado\",\"no_seleccionado\",\"no_seleccionado\",\"no_seleccionado\",\"no_seleccionado\",\"no_seleccionado\",\"no_seleccionado\",\"no_seleccionado\",\"no_seleccionado\",\"no_seleccionado\",\"no_seleccionado\",\"no_seleccionado\",\"no_seleccionado\",\"no_seleccionado\",\"no_seleccionado\",\"no_seleccionado\",\"no_seleccionado\",\"no_seleccionado\",\"no_seleccionado\",\"no_seleccionado\",\"no_seleccionado\",\"no_seleccionado\",\"no_seleccionado\",\"no_seleccionado\",\"no_seleccionado\",\"no_seleccionado\",\"no_seleccionado\",\"no_seleccionado\",\"no_seleccionado\",\"no_seleccionado\",\"no_seleccionado\",\"no_seleccionado\",\"no_seleccionado\",\"no_seleccionado\",\"no_seleccionado\",\"no_seleccionado\",\"no_seleccionado\",\"no_seleccionado\",\"no_seleccionado\",\"no_seleccionado\",\"no_seleccionado\",\"no_seleccionado\",\"no_seleccionado\",\"no_seleccionado\",\"no_seleccionado\",\"no_seleccionado\",\"no_seleccionado\",\"no_seleccionado\",\"no_seleccionado\",\"no_seleccionado\",\"no_seleccionado\",\"no_seleccionado\",\"no_seleccionado\",\"no_seleccionado\",\"no_seleccionado\",\"no_seleccionado\",\"no_seleccionado\",\"no_seleccionado\",\"no_seleccionado\",\"no_seleccionado\",\"no_seleccionado\",\"no_seleccionado\",\"no_seleccionado\",\"no_seleccionado\",\"no_seleccionado\",\"no_seleccionado\",\"no_seleccionado\",\"no_seleccionado\",\"no_seleccionado\",\"no_seleccionado\",\"no_seleccionado\",\"no_seleccionado\",\"no_seleccionado\",\"no_seleccionado\",\"no_seleccionado\",\"no_seleccionado\",\"no_seleccionado\",\"no_seleccionado\",\"no_seleccionado\",\"no_seleccionado\",\"no_seleccionado\",\"no_seleccionado\",\"no_seleccionado\",\"no_seleccionado\",\"no_seleccionado\",\"no_seleccionado\",\"no_seleccionado\",\"no_seleccionado\",\"no_seleccionado\",\"no_seleccionado\",\"no_seleccionado\",\"no_seleccionado\",\"no_seleccionado\",\"no_seleccionado\",\"no_seleccionado\",\"no_seleccionado\",\"no_seleccionado\",\"no_seleccionado\",\"no_seleccionado\",\"no_seleccionado\",\"no_seleccionado\",\"no_seleccionado\",\"no_seleccionado\",\"no_seleccionado\",\"no_seleccionado\",\"no_seleccionado\",\"no_seleccionado\",\"no_seleccionado\",\"no_seleccionado\",\"no_seleccionado\",\"no_seleccionado\",\"no_seleccionado\",\"no_seleccionado\",\"no_seleccionado\",\"no_seleccionado\",\"no_seleccionado\",\"no_seleccionado\",\"no_seleccionado\",\"no_seleccionado\",\"no_seleccionado\",\"no_seleccionado\",\"no_seleccionado\",\"no_seleccionado\",\"no_seleccionado\",\"no_seleccionado\",\"no_seleccionado\",\"no_seleccionado\",\"no_seleccionado\",\"no_seleccionado\",\"no_seleccionado\",\"no_seleccionado\",\"no_seleccionado\",\"no_seleccionado\",\"no_seleccionado\",\"no_seleccionado\",\"no_seleccionado\",\"no_seleccionado\",\"no_seleccionado\",\"no_seleccionado\",\"no_seleccionado\",\"no_seleccionado\",\"no_seleccionado\",\"no_seleccionado\",\"no_seleccionado\",\"no_seleccionado\",\"no_seleccionado\",\"no_seleccionado\",\"no_seleccionado\",\"no_seleccionado\",\"no_seleccionado\",\"no_seleccionado\",\"no_seleccionado\",\"no_seleccionado\",\"no_seleccionado\",\"no_seleccionado\",\"no_seleccionado\",\"no_seleccionado\",\"no_seleccionado\",\"no_seleccionado\",\"no_seleccionado\",\"no_seleccionado\",\"no_seleccionado\",\"no_seleccionado\",\"no_seleccionado\",\"no_seleccionado\",\"no_seleccionado\",\"no_seleccionado\",\"no_seleccionado\",\"no_seleccionado\",\"no_seleccionado\",\"no_seleccionado\",\"no_seleccionado\",\"no_seleccionado\",\"no_seleccionado\",\"no_seleccionado\",\"no_seleccionado\",\"no_seleccionado\",\"no_seleccionado\",\"no_seleccionado\",\"no_seleccionado\",\"no_seleccionado\",\"no_seleccionado\",\"no_seleccionado\",\"no_seleccionado\",\"no_seleccionado\",\"no_seleccionado\",\"no_seleccionado\",\"no_seleccionado\",\"no_seleccionado\",\"no_seleccionado\",\"no_seleccionado\",\"no_seleccionado\",\"no_seleccionado\",\"no_seleccionado\",\"no_seleccionado\",\"no_seleccionado\",\"no_seleccionado\",\"no_seleccionado\",\"no_seleccionado\",\"no_seleccionado\",\"no_seleccionado\",\"no_seleccionado\",\"no_seleccionado\",\"no_seleccionado\",\"no_seleccionado\",\"no_seleccionado\",\"no_seleccionado\",\"no_seleccionado\",\"no_seleccionado\",\"no_seleccionado\",\"no_seleccionado\",\"no_seleccionado\",\"no_seleccionado\",\"no_seleccionado\",\"no_seleccionado\",\"no_seleccionado\",\"no_seleccionado\",\"no_seleccionado\",\"no_seleccionado\",\"no_seleccionado\",\"no_seleccionado\",\"no_seleccionado\",\"no_seleccionado\",\"no_seleccionado\",\"no_seleccionado\",\"no_seleccionado\",\"no_seleccionado\",\"no_seleccionado\",\"no_seleccionado\",\"no_seleccionado\",\"no_seleccionado\",\"no_seleccionado\",\"no_seleccionado\",\"no_seleccionado\",\"no_seleccionado\",\"no_seleccionado\",\"no_seleccionado\",\"no_seleccionado\",\"no_seleccionado\",\"no_seleccionado\",\"no_seleccionado\",\"no_seleccionado\",\"no_seleccionado\",\"no_seleccionado\",\"no_seleccionado\",\"no_seleccionado\",\"no_seleccionado\",\"no_seleccionado\",\"no_seleccionado\",\"no_seleccionado\",\"no_seleccionado\",\"no_seleccionado\",\"no_seleccionado\",\"no_seleccionado\",\"no_seleccionado\",\"no_seleccionado\",\"no_seleccionado\",\"no_seleccionado\",\"no_seleccionado\",\"no_seleccionado\",\"no_seleccionado\",\"no_seleccionado\",\"no_seleccionado\",\"no_seleccionado\",\"no_seleccionado\",\"no_seleccionado\",\"no_seleccionado\",\"no_seleccionado\",\"no_seleccionado\",\"no_seleccionado\",\"no_seleccionado\",\"no_seleccionado\",\"no_seleccionado\",\"no_seleccionado\",\"no_seleccionado\",\"no_seleccionado\",\"no_seleccionado\",\"no_seleccionado\",\"no_seleccionado\",\"no_seleccionado\",\"no_seleccionado\",\"no_seleccionado\",\"no_seleccionado\",\"no_seleccionado\",\"no_seleccionado\",\"no_seleccionado\",\"no_seleccionado\",\"no_seleccionado\",\"no_seleccionado\",\"no_seleccionado\",\"no_seleccionado\",\"no_seleccionado\",\"no_seleccionado\",\"no_seleccionado\",\"no_seleccionado\",\"no_seleccionado\",\"no_seleccionado\",\"no_seleccionado\",\"no_seleccionado\",\"no_seleccionado\",\"no_seleccionado\",\"no_seleccionado\",\"no_seleccionado\",\"no_seleccionado\",\"no_seleccionado\",\"no_seleccionado\",\"no_seleccionado\",\"no_seleccionado\",\"no_seleccionado\",\"no_seleccionado\",\"no_seleccionado\",\"no_seleccionado\",\"no_seleccionado\",\"no_seleccionado\",\"no_seleccionado\",\"no_seleccionado\",\"no_seleccionado\",\"no_seleccionado\",\"no_seleccionado\",\"no_seleccionado\",\"no_seleccionado\",\"no_seleccionado\",\"no_seleccionado\",\"no_seleccionado\",\"no_seleccionado\",\"no_seleccionado\",\"no_seleccionado\",\"no_seleccionado\",\"no_seleccionado\",\"no_seleccionado\",\"no_seleccionado\",\"seleccionado\",\"no_seleccionado\",\"no_seleccionado\",\"no_seleccionado\",\"no_seleccionado\",\"no_seleccionado\",\"no_seleccionado\",\"no_seleccionado\",\"no_seleccionado\",\"no_seleccionado\",\"no_seleccionado\",\"no_seleccionado\",\"no_seleccionado\",\"no_seleccionado\",\"no_seleccionado\",\"no_seleccionado\",\"no_seleccionado\",\"no_seleccionado\",\"no_seleccionado\",\"no_seleccionado\",\"no_seleccionado\",\"no_seleccionado\",\"no_seleccionado\",\"no_seleccionado\",\"no_seleccionado\",\"no_seleccionado\",\"no_seleccionado\",\"no_seleccionado\",\"no_seleccionado\",\"no_seleccionado\",\"no_seleccionado\",\"no_seleccionado\",\"no_seleccionado\",\"no_seleccionado\",\"no_seleccionado\",\"no_seleccionado\",\"no_seleccionado\",\"no_seleccionado\",\"no_seleccionado\",\"no_seleccionado\",\"no_seleccionado\",\"no_seleccionado\",\"no_seleccionado\",\"no_seleccionado\",\"no_seleccionado\",\"seleccionado\",\"no_seleccionado\",\"no_seleccionado\",\"no_seleccionado\",\"no_seleccionado\",\"no_seleccionado\",\"no_seleccionado\",\"no_seleccionado\",\"no_seleccionado\",\"no_seleccionado\",\"no_seleccionado\",\"no_seleccionado\",\"no_seleccionado\",\"no_seleccionado\",\"no_seleccionado\",\"no_seleccionado\",\"no_seleccionado\",\"no_seleccionado\",\"no_seleccionado\",\"no_seleccionado\",\"no_seleccionado\",\"no_seleccionado\",\"no_seleccionado\",\"no_seleccionado\",\"no_seleccionado\",\"no_seleccionado\",\"no_seleccionado\",\"no_seleccionado\",\"no_seleccionado\",\"no_seleccionado\",\"no_seleccionado\",\"no_seleccionado\",\"no_seleccionado\",\"no_seleccionado\",\"no_seleccionado\",\"no_seleccionado\",\"no_seleccionado\",\"no_seleccionado\",\"no_seleccionado\",\"no_seleccionado\",\"no_seleccionado\",\"no_seleccionado\",\"no_seleccionado\",\"no_seleccionado\",\"no_seleccionado\",\"no_seleccionado\",\"no_seleccionado\",\"no_seleccionado\",\"no_seleccionado\",\"no_seleccionado\",\"no_seleccionado\",\"no_seleccionado\",\"no_seleccionado\",\"no_seleccionado\",\"no_seleccionado\",\"no_seleccionado\",\"no_seleccionado\",\"no_seleccionado\",\"no_seleccionado\",\"no_seleccionado\",\"no_seleccionado\",\"no_seleccionado\",\"seleccionado\",\"no_seleccionado\",\"no_seleccionado\",\"no_seleccionado\",\"no_seleccionado\",\"no_seleccionado\",\"no_seleccionado\",\"no_seleccionado\",\"no_seleccionado\",\"no_seleccionado\",\"no_seleccionado\",\"no_seleccionado\",\"no_seleccionado\",\"no_seleccionado\",\"no_seleccionado\",\"no_seleccionado\",\"no_seleccionado\",\"no_seleccionado\",\"no_seleccionado\",\"no_seleccionado\",\"no_seleccionado\",\"no_seleccionado\",\"no_seleccionado\",\"no_seleccionado\",\"no_seleccionado\",\"no_seleccionado\",\"no_seleccionado\",\"no_seleccionado\",\"no_seleccionado\",\"no_seleccionado\",\"no_seleccionado\",\"no_seleccionado\",\"no_seleccionado\",\"no_seleccionado\",\"no_seleccionado\",\"no_seleccionado\",\"no_seleccionado\",\"no_seleccionado\",\"no_seleccionado\",\"no_seleccionado\",\"no_seleccionado\",\"no_seleccionado\",\"no_seleccionado\",\"no_seleccionado\",\"no_seleccionado\",\"no_seleccionado\",\"no_seleccionado\",\"no_seleccionado\",\"no_seleccionado\",\"no_seleccionado\",\"no_seleccionado\",\"no_seleccionado\",\"no_seleccionado\",\"no_seleccionado\",\"no_seleccionado\",\"no_seleccionado\",\"no_seleccionado\",\"no_seleccionado\",\"no_seleccionado\",\"no_seleccionado\",\"no_seleccionado\",\"no_seleccionado\",\"no_seleccionado\",\"no_seleccionado\",\"no_seleccionado\",\"no_seleccionado\",\"no_seleccionado\",\"no_seleccionado\",\"no_seleccionado\",\"no_seleccionado\",\"no_seleccionado\",\"no_seleccionado\",\"no_seleccionado\",\"no_seleccionado\",\"no_seleccionado\",\"no_seleccionado\",\"no_seleccionado\",\"no_seleccionado\",\"no_seleccionado\",\"no_seleccionado\",\"no_seleccionado\",\"no_seleccionado\",\"no_seleccionado\",\"no_seleccionado\",\"no_seleccionado\",\"seleccionado\",\"no_seleccionado\",\"no_seleccionado\",\"no_seleccionado\",\"no_seleccionado\",\"no_seleccionado\",\"no_seleccionado\",\"no_seleccionado\",\"no_seleccionado\",\"no_seleccionado\",\"no_seleccionado\",\"no_seleccionado\",\"no_seleccionado\",\"no_seleccionado\",\"no_seleccionado\",\"no_seleccionado\",\"no_seleccionado\",\"no_seleccionado\",\"no_seleccionado\",\"no_seleccionado\",\"no_seleccionado\",\"no_seleccionado\",\"no_seleccionado\",\"no_seleccionado\",\"no_seleccionado\",\"no_seleccionado\",\"no_seleccionado\",\"no_seleccionado\",\"no_seleccionado\",\"no_seleccionado\",\"no_seleccionado\",\"no_seleccionado\",\"no_seleccionado\",\"no_seleccionado\",\"no_seleccionado\",\"no_seleccionado\",\"no_seleccionado\",\"no_seleccionado\",\"no_seleccionado\",\"no_seleccionado\",\"no_seleccionado\",\"no_seleccionado\",\"no_seleccionado\",\"no_seleccionado\",\"no_seleccionado\",\"no_seleccionado\",\"no_seleccionado\",\"no_seleccionado\",\"no_seleccionado\",\"no_seleccionado\",\"no_seleccionado\",\"no_seleccionado\",\"no_seleccionado\",\"no_seleccionado\",\"no_seleccionado\",\"no_seleccionado\",\"no_seleccionado\",\"no_seleccionado\",\"no_seleccionado\",\"no_seleccionado\",\"no_seleccionado\",\"no_seleccionado\",\"no_seleccionado\",\"no_seleccionado\",\"no_seleccionado\",\"no_seleccionado\",\"no_seleccionado\",\"no_seleccionado\",\"no_seleccionado\",\"no_seleccionado\",\"no_seleccionado\",\"no_seleccionado\",\"no_seleccionado\",\"no_seleccionado\",\"no_seleccionado\",\"no_seleccionado\",\"no_seleccionado\",\"no_seleccionado\",\"no_seleccionado\",\"no_seleccionado\",\"no_seleccionado\",\"no_seleccionado\",\"no_seleccionado\",\"no_seleccionado\",\"no_seleccionado\",\"no_seleccionado\",\"no_seleccionado\",\"no_seleccionado\",\"no_seleccionado\",\"no_seleccionado\",\"no_seleccionado\",\"no_seleccionado\",\"no_seleccionado\",\"no_seleccionado\",\"no_seleccionado\",\"no_seleccionado\",\"no_seleccionado\",\"no_seleccionado\",\"no_seleccionado\",\"no_seleccionado\",\"no_seleccionado\",\"no_seleccionado\",\"no_seleccionado\",\"no_seleccionado\",\"no_seleccionado\",\"no_seleccionado\",\"no_seleccionado\",\"no_seleccionado\",\"no_seleccionado\",\"no_seleccionado\",\"no_seleccionado\",\"no_seleccionado\",\"no_seleccionado\",\"no_seleccionado\",\"no_seleccionado\",\"no_seleccionado\",\"no_seleccionado\",\"no_seleccionado\",\"no_seleccionado\",\"no_seleccionado\",\"no_seleccionado\",\"no_seleccionado\",\"no_seleccionado\",\"no_seleccionado\",\"no_seleccionado\",\"no_seleccionado\",\"no_seleccionado\",\"no_seleccionado\",\"no_seleccionado\",\"no_seleccionado\",\"no_seleccionado\",\"no_seleccionado\",\"no_seleccionado\",\"no_seleccionado\",\"no_seleccionado\",\"no_seleccionado\",\"no_seleccionado\",\"no_seleccionado\",\"no_seleccionado\",\"no_seleccionado\",\"no_seleccionado\",\"no_seleccionado\",\"no_seleccionado\",\"no_seleccionado\",\"no_seleccionado\",\"no_seleccionado\",\"no_seleccionado\",\"no_seleccionado\",\"no_seleccionado\",\"no_seleccionado\",\"no_seleccionado\",\"no_seleccionado\",\"no_seleccionado\",\"no_seleccionado\",\"seleccionado\",\"no_seleccionado\",\"no_seleccionado\",\"no_seleccionado\",\"no_seleccionado\",\"no_seleccionado\",\"no_seleccionado\",\"no_seleccionado\",\"no_seleccionado\",\"no_seleccionado\",\"no_seleccionado\",\"no_seleccionado\",\"no_seleccionado\",\"no_seleccionado\",\"no_seleccionado\",\"no_seleccionado\",\"no_seleccionado\",\"no_seleccionado\",\"no_seleccionado\",\"no_seleccionado\",\"no_seleccionado\",\"no_seleccionado\",\"no_seleccionado\",\"no_seleccionado\",\"no_seleccionado\",\"no_seleccionado\",\"no_seleccionado\",\"no_seleccionado\",\"no_seleccionado\",\"no_seleccionado\",\"no_seleccionado\",\"no_seleccionado\",\"no_seleccionado\",\"no_seleccionado\",\"no_seleccionado\",\"no_seleccionado\",\"no_seleccionado\",\"no_seleccionado\",\"no_seleccionado\",\"no_seleccionado\",\"no_seleccionado\",\"no_seleccionado\",\"no_seleccionado\",\"no_seleccionado\",\"no_seleccionado\",\"no_seleccionado\",\"no_seleccionado\",\"no_seleccionado\",\"no_seleccionado\",\"no_seleccionado\",\"no_seleccionado\",\"no_seleccionado\",\"no_seleccionado\",\"no_seleccionado\",\"no_seleccionado\",\"no_seleccionado\",\"no_seleccionado\",\"no_seleccionado\",\"no_seleccionado\",\"no_seleccionado\",\"no_seleccionado\",\"no_seleccionado\",\"no_seleccionado\",\"no_seleccionado\",\"no_seleccionado\",\"no_seleccionado\",\"no_seleccionado\",\"no_seleccionado\",\"no_seleccionado\",\"no_seleccionado\",\"no_seleccionado\",\"no_seleccionado\",\"no_seleccionado\",\"no_seleccionado\",\"no_seleccionado\",\"no_seleccionado\",\"no_seleccionado\",\"no_seleccionado\",\"no_seleccionado\",\"no_seleccionado\",\"no_seleccionado\",\"no_seleccionado\",\"no_seleccionado\",\"no_seleccionado\",\"no_seleccionado\",\"no_seleccionado\",\"no_seleccionado\",\"no_seleccionado\",\"no_seleccionado\",\"no_seleccionado\",\"no_seleccionado\",\"no_seleccionado\",\"no_seleccionado\",\"no_seleccionado\",\"no_seleccionado\",\"no_seleccionado\",\"no_seleccionado\",\"no_seleccionado\",\"no_seleccionado\",\"no_seleccionado\",\"no_seleccionado\",\"no_seleccionado\",\"no_seleccionado\",\"no_seleccionado\",\"no_seleccionado\",\"no_seleccionado\",\"no_seleccionado\",\"no_seleccionado\",\"no_seleccionado\",\"no_seleccionado\",\"no_seleccionado\",\"no_seleccionado\",\"no_seleccionado\",\"no_seleccionado\",\"no_seleccionado\",\"no_seleccionado\",\"no_seleccionado\",\"no_seleccionado\",\"no_seleccionado\",\"no_seleccionado\",\"no_seleccionado\",\"no_seleccionado\",\"no_seleccionado\",\"no_seleccionado\",\"no_seleccionado\",\"no_seleccionado\",\"no_seleccionado\",\"no_seleccionado\",\"no_seleccionado\",\"no_seleccionado\",\"no_seleccionado\",\"no_seleccionado\",\"no_seleccionado\",\"no_seleccionado\",\"no_seleccionado\",\"no_seleccionado\",\"no_seleccionado\",\"no_seleccionado\",\"no_seleccionado\",\"no_seleccionado\",\"no_seleccionado\",\"no_seleccionado\",\"no_seleccionado\",\"no_seleccionado\",\"no_seleccionado\",\"no_seleccionado\",\"no_seleccionado\",\"no_seleccionado\",\"no_seleccionado\",\"no_seleccionado\",\"no_seleccionado\",\"no_seleccionado\",\"no_seleccionado\",\"no_seleccionado\",\"no_seleccionado\",\"no_seleccionado\",\"no_seleccionado\",\"no_seleccionado\",\"no_seleccionado\",\"no_seleccionado\",\"no_seleccionado\",\"no_seleccionado\",\"no_seleccionado\",\"no_seleccionado\",\"no_seleccionado\",\"no_seleccionado\",\"no_seleccionado\",\"no_seleccionado\",\"no_seleccionado\",\"no_seleccionado\",\"no_seleccionado\",\"no_seleccionado\",\"no_seleccionado\",\"no_seleccionado\",\"no_seleccionado\",\"no_seleccionado\",\"no_seleccionado\",\"no_seleccionado\",\"no_seleccionado\",\"no_seleccionado\",\"no_seleccionado\",\"no_seleccionado\",\"no_seleccionado\",\"no_seleccionado\",\"no_seleccionado\",\"no_seleccionado\",\"no_seleccionado\",\"no_seleccionado\",\"no_seleccionado\",\"no_seleccionado\",\"no_seleccionado\",\"no_seleccionado\",\"no_seleccionado\",\"no_seleccionado\",\"no_seleccionado\",\"no_seleccionado\",\"no_seleccionado\",\"no_seleccionado\",\"no_seleccionado\",\"no_seleccionado\",\"no_seleccionado\",\"no_seleccionado\",\"no_seleccionado\",\"no_seleccionado\",\"no_seleccionado\",\"no_seleccionado\",\"no_seleccionado\",\"no_seleccionado\",\"no_seleccionado\",\"no_seleccionado\",\"no_seleccionado\",\"no_seleccionado\",\"no_seleccionado\",\"no_seleccionado\",\"no_seleccionado\",\"no_seleccionado\",\"no_seleccionado\",\"no_seleccionado\",\"no_seleccionado\",\"no_seleccionado\",\"no_seleccionado\",\"no_seleccionado\",\"no_seleccionado\",\"seleccionado\",\"no_seleccionado\",\"no_seleccionado\",\"no_seleccionado\",\"no_seleccionado\",\"no_seleccionado\",\"no_seleccionado\",\"no_seleccionado\",\"no_seleccionado\",\"no_seleccionado\",\"no_seleccionado\",\"no_seleccionado\",\"no_seleccionado\",\"no_seleccionado\",\"no_seleccionado\",\"no_seleccionado\",\"no_seleccionado\",\"no_seleccionado\",\"no_seleccionado\",\"no_seleccionado\",\"no_seleccionado\",\"no_seleccionado\",\"no_seleccionado\",\"no_seleccionado\",\"no_seleccionado\",\"no_seleccionado\",\"no_seleccionado\",\"no_seleccionado\",\"no_seleccionado\",\"no_seleccionado\",\"no_seleccionado\",\"no_seleccionado\",\"no_seleccionado\",\"no_seleccionado\",\"no_seleccionado\",\"no_seleccionado\",\"no_seleccionado\",\"no_seleccionado\",\"no_seleccionado\",\"no_seleccionado\",\"no_seleccionado\",\"no_seleccionado\",\"no_seleccionado\",\"no_seleccionado\",\"no_seleccionado\",\"no_seleccionado\",\"no_seleccionado\",\"no_seleccionado\",\"no_seleccionado\",\"no_seleccionado\",\"no_seleccionado\",\"no_seleccionado\",\"no_seleccionado\",\"no_seleccionado\",\"no_seleccionado\",\"no_seleccionado\",\"no_seleccionado\",\"no_seleccionado\",\"no_seleccionado\",\"no_seleccionado\",\"no_seleccionado\",\"no_seleccionado\",\"no_seleccionado\",\"no_seleccionado\",\"no_seleccionado\",\"no_seleccionado\",\"no_seleccionado\",\"no_seleccionado\",\"no_seleccionado\",\"no_seleccionado\",\"no_seleccionado\",\"no_seleccionado\",\"no_seleccionado\",\"no_seleccionado\",\"no_seleccionado\",\"no_seleccionado\",\"no_seleccionado\",\"no_seleccionado\",\"no_seleccionado\",\"no_seleccionado\",\"no_seleccionado\",\"no_seleccionado\",\"no_seleccionado\",\"no_seleccionado\",\"no_seleccionado\",\"no_seleccionado\",\"no_seleccionado\",\"no_seleccionado\",\"no_seleccionado\",\"no_seleccionado\",\"no_seleccionado\",\"no_seleccionado\",\"no_seleccionado\",\"no_seleccionado\",\"no_seleccionado\",\"no_seleccionado\",\"no_seleccionado\",\"no_seleccionado\",\"no_seleccionado\",\"no_seleccionado\",\"no_seleccionado\",\"no_seleccionado\",\"no_seleccionado\",\"no_seleccionado\",\"no_seleccionado\",\"no_seleccionado\",\"no_seleccionado\",\"no_seleccionado\",\"no_seleccionado\",\"no_seleccionado\",\"no_seleccionado\",\"seleccionado\",\"no_seleccionado\",\"no_seleccionado\",\"no_seleccionado\",\"no_seleccionado\",\"no_seleccionado\",\"no_seleccionado\",\"no_seleccionado\",\"no_seleccionado\",\"no_seleccionado\",\"no_seleccionado\",\"no_seleccionado\",\"no_seleccionado\",\"no_seleccionado\",\"seleccionado\",\"no_seleccionado\",\"no_seleccionado\",\"no_seleccionado\",\"no_seleccionado\",\"no_seleccionado\",\"no_seleccionado\",\"no_seleccionado\",\"no_seleccionado\",\"no_seleccionado\",\"no_seleccionado\",\"no_seleccionado\",\"no_seleccionado\",\"no_seleccionado\",\"no_seleccionado\",\"no_seleccionado\",\"no_seleccionado\",\"no_seleccionado\",\"no_seleccionado\",\"no_seleccionado\",\"no_seleccionado\",\"no_seleccionado\",\"no_seleccionado\",\"no_seleccionado\",\"no_seleccionado\",\"no_seleccionado\",\"no_seleccionado\",\"no_seleccionado\",\"no_seleccionado\",\"no_seleccionado\",\"no_seleccionado\",\"no_seleccionado\",\"no_seleccionado\",\"no_seleccionado\",\"no_seleccionado\",\"no_seleccionado\",\"no_seleccionado\",\"no_seleccionado\",\"no_seleccionado\",\"no_seleccionado\",\"no_seleccionado\",\"no_seleccionado\",\"no_seleccionado\",\"no_seleccionado\",\"no_seleccionado\",\"no_seleccionado\",\"no_seleccionado\",\"no_seleccionado\",\"no_seleccionado\",\"no_seleccionado\",\"no_seleccionado\",\"no_seleccionado\",\"no_seleccionado\",\"no_seleccionado\",\"no_seleccionado\",\"no_seleccionado\",\"no_seleccionado\",\"no_seleccionado\",\"no_seleccionado\",\"no_seleccionado\",\"no_seleccionado\",\"no_seleccionado\",\"no_seleccionado\",\"no_seleccionado\",\"no_seleccionado\",\"no_seleccionado\",\"no_seleccionado\",\"no_seleccionado\",\"no_seleccionado\",\"no_seleccionado\",\"no_seleccionado\",\"no_seleccionado\",\"no_seleccionado\",\"no_seleccionado\",\"no_seleccionado\",\"no_seleccionado\",\"no_seleccionado\",\"no_seleccionado\",\"no_seleccionado\",\"no_seleccionado\",\"no_seleccionado\",\"no_seleccionado\",\"no_seleccionado\",\"no_seleccionado\",\"no_seleccionado\",\"no_seleccionado\",\"no_seleccionado\",\"no_seleccionado\",\"no_seleccionado\",\"no_seleccionado\",\"no_seleccionado\",\"no_seleccionado\",\"no_seleccionado\",\"no_seleccionado\",\"no_seleccionado\",\"no_seleccionado\",\"no_seleccionado\",\"no_seleccionado\",\"no_seleccionado\",\"no_seleccionado\",\"no_seleccionado\",\"no_seleccionado\",\"no_seleccionado\",\"no_seleccionado\",\"no_seleccionado\",\"no_seleccionado\",\"no_seleccionado\",\"no_seleccionado\",\"no_seleccionado\",\"no_seleccionado\",\"no_seleccionado\",\"no_seleccionado\",\"no_seleccionado\",\"no_seleccionado\",\"no_seleccionado\",\"no_seleccionado\",\"no_seleccionado\",\"no_seleccionado\",\"no_seleccionado\",\"no_seleccionado\",\"no_seleccionado\",\"no_seleccionado\",\"no_seleccionado\",\"no_seleccionado\",\"no_seleccionado\",\"no_seleccionado\",\"no_seleccionado\",\"no_seleccionado\",\"no_seleccionado\",\"no_seleccionado\",\"no_seleccionado\",\"no_seleccionado\",\"no_seleccionado\",\"no_seleccionado\",\"no_seleccionado\",\"no_seleccionado\",\"no_seleccionado\",\"no_seleccionado\",\"no_seleccionado\",\"no_seleccionado\",\"no_seleccionado\",\"no_seleccionado\",\"no_seleccionado\",\"no_seleccionado\",\"no_seleccionado\",\"no_seleccionado\",\"no_seleccionado\",\"no_seleccionado\",\"no_seleccionado\",\"no_seleccionado\",\"no_seleccionado\",\"no_seleccionado\",\"no_seleccionado\",\"no_seleccionado\",\"no_seleccionado\",\"no_seleccionado\",\"no_seleccionado\",\"no_seleccionado\",\"no_seleccionado\",\"no_seleccionado\",\"no_seleccionado\",\"no_seleccionado\",\"no_seleccionado\",\"no_seleccionado\",\"no_seleccionado\",\"no_seleccionado\",\"no_seleccionado\",\"no_seleccionado\",\"no_seleccionado\",\"no_seleccionado\",\"no_seleccionado\",\"no_seleccionado\",\"no_seleccionado\",\"no_seleccionado\",\"no_seleccionado\",\"no_seleccionado\",\"no_seleccionado\",\"no_seleccionado\",\"no_seleccionado\",\"no_seleccionado\",\"no_seleccionado\",\"no_seleccionado\",\"no_seleccionado\",\"no_seleccionado\",\"no_seleccionado\",\"no_seleccionado\",\"no_seleccionado\",\"no_seleccionado\",\"no_seleccionado\",\"no_seleccionado\",\"no_seleccionado\",\"no_seleccionado\",\"no_seleccionado\",\"no_seleccionado\",\"no_seleccionado\",\"no_seleccionado\",\"no_seleccionado\",\"seleccionado\",\"no_seleccionado\",\"no_seleccionado\",\"no_seleccionado\",\"no_seleccionado\",\"no_seleccionado\",\"no_seleccionado\",\"no_seleccionado\",\"no_seleccionado\",\"no_seleccionado\",\"no_seleccionado\",\"no_seleccionado\",\"no_seleccionado\",\"no_seleccionado\",\"no_seleccionado\",\"no_seleccionado\",\"seleccionado\",\"no_seleccionado\",\"no_seleccionado\",\"no_seleccionado\",\"no_seleccionado\",\"no_seleccionado\",\"no_seleccionado\",\"no_seleccionado\",\"no_seleccionado\",\"no_seleccionado\",\"no_seleccionado\",\"no_seleccionado\",\"no_seleccionado\",\"no_seleccionado\",\"no_seleccionado\",\"no_seleccionado\",\"no_seleccionado\",\"no_seleccionado\",\"no_seleccionado\",\"no_seleccionado\",\"no_seleccionado\",\"no_seleccionado\",\"no_seleccionado\",\"no_seleccionado\",\"no_seleccionado\",\"no_seleccionado\",\"no_seleccionado\",\"no_seleccionado\",\"no_seleccionado\",\"no_seleccionado\",\"no_seleccionado\",\"no_seleccionado\",\"no_seleccionado\",\"no_seleccionado\",\"no_seleccionado\",\"no_seleccionado\",\"no_seleccionado\",\"no_seleccionado\",\"no_seleccionado\",\"no_seleccionado\",\"no_seleccionado\",\"no_seleccionado\",\"no_seleccionado\",\"no_seleccionado\",\"no_seleccionado\",\"no_seleccionado\",\"no_seleccionado\",\"no_seleccionado\",\"no_seleccionado\",\"no_seleccionado\",\"no_seleccionado\",\"no_seleccionado\",\"no_seleccionado\",\"no_seleccionado\",\"no_seleccionado\",\"no_seleccionado\",\"no_seleccionado\",\"no_seleccionado\",\"no_seleccionado\",\"no_seleccionado\",\"no_seleccionado\",\"no_seleccionado\",\"no_seleccionado\",\"no_seleccionado\",\"no_seleccionado\",\"no_seleccionado\",\"no_seleccionado\",\"no_seleccionado\",\"no_seleccionado\",\"no_seleccionado\",\"no_seleccionado\",\"no_seleccionado\",\"no_seleccionado\",\"no_seleccionado\",\"no_seleccionado\",\"no_seleccionado\",\"no_seleccionado\",\"no_seleccionado\",\"no_seleccionado\",\"no_seleccionado\",\"no_seleccionado\",\"no_seleccionado\",\"no_seleccionado\",\"no_seleccionado\",\"no_seleccionado\",\"no_seleccionado\",\"no_seleccionado\",\"no_seleccionado\",\"no_seleccionado\",\"no_seleccionado\",\"no_seleccionado\",\"no_seleccionado\",\"no_seleccionado\",\"no_seleccionado\",\"no_seleccionado\",\"no_seleccionado\",\"no_seleccionado\",\"no_seleccionado\",\"no_seleccionado\",\"no_seleccionado\",\"no_seleccionado\",\"no_seleccionado\",\"no_seleccionado\",\"no_seleccionado\",\"no_seleccionado\",\"no_seleccionado\",\"no_seleccionado\",\"no_seleccionado\",\"no_seleccionado\",\"no_seleccionado\",\"no_seleccionado\",\"no_seleccionado\",\"no_seleccionado\",\"no_seleccionado\",\"no_seleccionado\",\"no_seleccionado\",\"no_seleccionado\",\"no_seleccionado\",\"no_seleccionado\",\"no_seleccionado\",\"no_seleccionado\",\"no_seleccionado\",\"no_seleccionado\",\"no_seleccionado\",\"no_seleccionado\",\"no_seleccionado\",\"no_seleccionado\",\"no_seleccionado\",\"no_seleccionado\",\"no_seleccionado\",\"no_seleccionado\",\"no_seleccionado\",\"no_seleccionado\",\"no_seleccionado\",\"no_seleccionado\",\"no_seleccionado\",\"no_seleccionado\",\"no_seleccionado\",\"no_seleccionado\",\"no_seleccionado\",\"no_seleccionado\",\"no_seleccionado\",\"no_seleccionado\",\"no_seleccionado\",\"no_seleccionado\",\"no_seleccionado\",\"no_seleccionado\",\"no_seleccionado\",\"no_seleccionado\",\"no_seleccionado\",\"no_seleccionado\",\"no_seleccionado\",\"no_seleccionado\",\"no_seleccionado\",\"no_seleccionado\",\"no_seleccionado\",\"no_seleccionado\",\"no_seleccionado\",\"no_seleccionado\",\"no_seleccionado\",\"no_seleccionado\",\"no_seleccionado\",\"no_seleccionado\",\"no_seleccionado\",\"no_seleccionado\",\"no_seleccionado\",\"no_seleccionado\",\"no_seleccionado\",\"no_seleccionado\",\"no_seleccionado\",\"no_seleccionado\",\"no_seleccionado\",\"no_seleccionado\",\"no_seleccionado\",\"no_seleccionado\",\"no_seleccionado\",\"no_seleccionado\",\"no_seleccionado\",\"no_seleccionado\",\"no_seleccionado\",\"no_seleccionado\",\"no_seleccionado\",\"no_seleccionado\",\"no_seleccionado\",\"no_seleccionado\",\"no_seleccionado\",\"no_seleccionado\",\"no_seleccionado\",\"no_seleccionado\",\"no_seleccionado\",\"no_seleccionado\",\"no_seleccionado\",\"no_seleccionado\",\"no_seleccionado\",\"no_seleccionado\",\"no_seleccionado\",\"no_seleccionado\",\"no_seleccionado\",\"no_seleccionado\",\"no_seleccionado\",\"no_seleccionado\",\"no_seleccionado\",\"no_seleccionado\",\"no_seleccionado\",\"no_seleccionado\",\"no_seleccionado\",\"no_seleccionado\",\"no_seleccionado\",\"no_seleccionado\",\"no_seleccionado\",\"no_seleccionado\",\"no_seleccionado\",\"no_seleccionado\",\"no_seleccionado\",\"no_seleccionado\",\"no_seleccionado\",\"no_seleccionado\",\"no_seleccionado\",\"no_seleccionado\",\"no_seleccionado\",\"no_seleccionado\",\"no_seleccionado\",\"no_seleccionado\",\"no_seleccionado\",\"no_seleccionado\",\"no_seleccionado\",\"no_seleccionado\",\"no_seleccionado\",\"no_seleccionado\",\"no_seleccionado\",\"no_seleccionado\",\"no_seleccionado\",\"no_seleccionado\",\"no_seleccionado\",\"no_seleccionado\",\"no_seleccionado\",\"no_seleccionado\",\"no_seleccionado\",\"no_seleccionado\",\"no_seleccionado\",\"no_seleccionado\",\"no_seleccionado\",\"no_seleccionado\",\"no_seleccionado\",\"no_seleccionado\",\"no_seleccionado\",\"no_seleccionado\",\"no_seleccionado\",\"no_seleccionado\",\"no_seleccionado\",\"no_seleccionado\",\"no_seleccionado\",\"no_seleccionado\",\"no_seleccionado\",\"no_seleccionado\",\"no_seleccionado\",\"no_seleccionado\",\"no_seleccionado\",\"no_seleccionado\",\"no_seleccionado\",\"no_seleccionado\",\"no_seleccionado\",\"no_seleccionado\",\"no_seleccionado\",\"no_seleccionado\",\"no_seleccionado\",\"no_seleccionado\",\"no_seleccionado\",\"no_seleccionado\",\"no_seleccionado\",\"no_seleccionado\",\"no_seleccionado\",\"no_seleccionado\",\"no_seleccionado\",\"no_seleccionado\",\"no_seleccionado\",\"no_seleccionado\",\"no_seleccionado\",\"no_seleccionado\",\"no_seleccionado\",\"no_seleccionado\",\"no_seleccionado\",\"no_seleccionado\",\"no_seleccionado\",\"no_seleccionado\",\"no_seleccionado\",\"no_seleccionado\",\"no_seleccionado\",\"no_seleccionado\",\"no_seleccionado\",\"no_seleccionado\",\"no_seleccionado\",\"no_seleccionado\",\"no_seleccionado\",\"no_seleccionado\",\"no_seleccionado\",\"no_seleccionado\",\"no_seleccionado\",\"no_seleccionado\",\"no_seleccionado\",\"no_seleccionado\",\"no_seleccionado\",\"no_seleccionado\",\"no_seleccionado\",\"no_seleccionado\",\"no_seleccionado\",\"no_seleccionado\",\"no_seleccionado\",\"no_seleccionado\",\"no_seleccionado\",\"no_seleccionado\",\"no_seleccionado\",\"no_seleccionado\",\"no_seleccionado\",\"no_seleccionado\",\"no_seleccionado\",\"no_seleccionado\",\"no_seleccionado\",\"no_seleccionado\",\"no_seleccionado\",\"no_seleccionado\",\"no_seleccionado\",\"no_seleccionado\",\"no_seleccionado\",\"no_seleccionado\",\"no_seleccionado\",\"no_seleccionado\",\"no_seleccionado\",\"no_seleccionado\",\"no_seleccionado\",\"no_seleccionado\",\"no_seleccionado\",\"no_seleccionado\",\"no_seleccionado\",\"no_seleccionado\",\"no_seleccionado\",\"no_seleccionado\",\"no_seleccionado\",\"no_seleccionado\",\"no_seleccionado\",\"no_seleccionado\",\"no_seleccionado\",\"no_seleccionado\",\"no_seleccionado\",\"no_seleccionado\",\"no_seleccionado\",\"no_seleccionado\",\"no_seleccionado\",\"no_seleccionado\",\"no_seleccionado\",\"no_seleccionado\",\"no_seleccionado\",\"no_seleccionado\",\"no_seleccionado\",\"no_seleccionado\",\"no_seleccionado\",\"no_seleccionado\",\"no_seleccionado\",\"no_seleccionado\",\"no_seleccionado\",\"no_seleccionado\",\"no_seleccionado\",\"no_seleccionado\",\"no_seleccionado\",\"no_seleccionado\",\"no_seleccionado\",\"no_seleccionado\",\"no_seleccionado\",\"no_seleccionado\",\"no_seleccionado\",\"no_seleccionado\",\"no_seleccionado\",\"no_seleccionado\",\"no_seleccionado\",\"no_seleccionado\",\"no_seleccionado\",\"no_seleccionado\",\"no_seleccionado\",\"no_seleccionado\",\"no_seleccionado\",\"no_seleccionado\",\"no_seleccionado\",\"no_seleccionado\",\"no_seleccionado\",\"no_seleccionado\",\"no_seleccionado\",\"no_seleccionado\",\"no_seleccionado\",\"no_seleccionado\",\"no_seleccionado\",\"no_seleccionado\",\"no_seleccionado\",\"no_seleccionado\",\"no_seleccionado\",\"no_seleccionado\",\"no_seleccionado\",\"no_seleccionado\",\"no_seleccionado\",\"no_seleccionado\",\"no_seleccionado\",\"no_seleccionado\",\"no_seleccionado\",\"no_seleccionado\",\"no_seleccionado\",\"no_seleccionado\",\"no_seleccionado\",\"no_seleccionado\",\"no_seleccionado\",\"no_seleccionado\",\"no_seleccionado\",\"no_seleccionado\",\"no_seleccionado\",\"no_seleccionado\",\"no_seleccionado\",\"no_seleccionado\",\"no_seleccionado\",\"no_seleccionado\",\"no_seleccionado\",\"no_seleccionado\",\"no_seleccionado\",\"no_seleccionado\",\"no_seleccionado\",\"no_seleccionado\",\"no_seleccionado\",\"no_seleccionado\",\"no_seleccionado\",\"no_seleccionado\",\"no_seleccionado\",\"no_seleccionado\",\"no_seleccionado\",\"no_seleccionado\",\"no_seleccionado\",\"no_seleccionado\",\"no_seleccionado\",\"no_seleccionado\",\"no_seleccionado\",\"no_seleccionado\",\"no_seleccionado\",\"no_seleccionado\",\"no_seleccionado\",\"no_seleccionado\",\"no_seleccionado\",\"no_seleccionado\",\"no_seleccionado\",\"no_seleccionado\",\"no_seleccionado\",\"no_seleccionado\",\"no_seleccionado\",\"no_seleccionado\",\"no_seleccionado\",\"no_seleccionado\",\"no_seleccionado\",\"no_seleccionado\",\"no_seleccionado\",\"no_seleccionado\",\"no_seleccionado\",\"no_seleccionado\",\"no_seleccionado\",\"no_seleccionado\"],\"xaxis\":\"x\",\"yaxis\":\"y\",\"type\":\"histogram\"}],                        {\"template\":{\"data\":{\"histogram2dcontour\":[{\"type\":\"histogram2dcontour\",\"colorbar\":{\"outlinewidth\":0,\"ticks\":\"\"},\"colorscale\":[[0.0,\"#0d0887\"],[0.1111111111111111,\"#46039f\"],[0.2222222222222222,\"#7201a8\"],[0.3333333333333333,\"#9c179e\"],[0.4444444444444444,\"#bd3786\"],[0.5555555555555556,\"#d8576b\"],[0.6666666666666666,\"#ed7953\"],[0.7777777777777778,\"#fb9f3a\"],[0.8888888888888888,\"#fdca26\"],[1.0,\"#f0f921\"]]}],\"choropleth\":[{\"type\":\"choropleth\",\"colorbar\":{\"outlinewidth\":0,\"ticks\":\"\"}}],\"histogram2d\":[{\"type\":\"histogram2d\",\"colorbar\":{\"outlinewidth\":0,\"ticks\":\"\"},\"colorscale\":[[0.0,\"#0d0887\"],[0.1111111111111111,\"#46039f\"],[0.2222222222222222,\"#7201a8\"],[0.3333333333333333,\"#9c179e\"],[0.4444444444444444,\"#bd3786\"],[0.5555555555555556,\"#d8576b\"],[0.6666666666666666,\"#ed7953\"],[0.7777777777777778,\"#fb9f3a\"],[0.8888888888888888,\"#fdca26\"],[1.0,\"#f0f921\"]]}],\"heatmap\":[{\"type\":\"heatmap\",\"colorbar\":{\"outlinewidth\":0,\"ticks\":\"\"},\"colorscale\":[[0.0,\"#0d0887\"],[0.1111111111111111,\"#46039f\"],[0.2222222222222222,\"#7201a8\"],[0.3333333333333333,\"#9c179e\"],[0.4444444444444444,\"#bd3786\"],[0.5555555555555556,\"#d8576b\"],[0.6666666666666666,\"#ed7953\"],[0.7777777777777778,\"#fb9f3a\"],[0.8888888888888888,\"#fdca26\"],[1.0,\"#f0f921\"]]}],\"heatmapgl\":[{\"type\":\"heatmapgl\",\"colorbar\":{\"outlinewidth\":0,\"ticks\":\"\"},\"colorscale\":[[0.0,\"#0d0887\"],[0.1111111111111111,\"#46039f\"],[0.2222222222222222,\"#7201a8\"],[0.3333333333333333,\"#9c179e\"],[0.4444444444444444,\"#bd3786\"],[0.5555555555555556,\"#d8576b\"],[0.6666666666666666,\"#ed7953\"],[0.7777777777777778,\"#fb9f3a\"],[0.8888888888888888,\"#fdca26\"],[1.0,\"#f0f921\"]]}],\"contourcarpet\":[{\"type\":\"contourcarpet\",\"colorbar\":{\"outlinewidth\":0,\"ticks\":\"\"}}],\"contour\":[{\"type\":\"contour\",\"colorbar\":{\"outlinewidth\":0,\"ticks\":\"\"},\"colorscale\":[[0.0,\"#0d0887\"],[0.1111111111111111,\"#46039f\"],[0.2222222222222222,\"#7201a8\"],[0.3333333333333333,\"#9c179e\"],[0.4444444444444444,\"#bd3786\"],[0.5555555555555556,\"#d8576b\"],[0.6666666666666666,\"#ed7953\"],[0.7777777777777778,\"#fb9f3a\"],[0.8888888888888888,\"#fdca26\"],[1.0,\"#f0f921\"]]}],\"surface\":[{\"type\":\"surface\",\"colorbar\":{\"outlinewidth\":0,\"ticks\":\"\"},\"colorscale\":[[0.0,\"#0d0887\"],[0.1111111111111111,\"#46039f\"],[0.2222222222222222,\"#7201a8\"],[0.3333333333333333,\"#9c179e\"],[0.4444444444444444,\"#bd3786\"],[0.5555555555555556,\"#d8576b\"],[0.6666666666666666,\"#ed7953\"],[0.7777777777777778,\"#fb9f3a\"],[0.8888888888888888,\"#fdca26\"],[1.0,\"#f0f921\"]]}],\"mesh3d\":[{\"type\":\"mesh3d\",\"colorbar\":{\"outlinewidth\":0,\"ticks\":\"\"}}],\"scatter\":[{\"fillpattern\":{\"fillmode\":\"overlay\",\"size\":10,\"solidity\":0.2},\"type\":\"scatter\"}],\"parcoords\":[{\"type\":\"parcoords\",\"line\":{\"colorbar\":{\"outlinewidth\":0,\"ticks\":\"\"}}}],\"scatterpolargl\":[{\"type\":\"scatterpolargl\",\"marker\":{\"colorbar\":{\"outlinewidth\":0,\"ticks\":\"\"}}}],\"bar\":[{\"error_x\":{\"color\":\"#2a3f5f\"},\"error_y\":{\"color\":\"#2a3f5f\"},\"marker\":{\"line\":{\"color\":\"#E5ECF6\",\"width\":0.5},\"pattern\":{\"fillmode\":\"overlay\",\"size\":10,\"solidity\":0.2}},\"type\":\"bar\"}],\"scattergeo\":[{\"type\":\"scattergeo\",\"marker\":{\"colorbar\":{\"outlinewidth\":0,\"ticks\":\"\"}}}],\"scatterpolar\":[{\"type\":\"scatterpolar\",\"marker\":{\"colorbar\":{\"outlinewidth\":0,\"ticks\":\"\"}}}],\"histogram\":[{\"marker\":{\"pattern\":{\"fillmode\":\"overlay\",\"size\":10,\"solidity\":0.2}},\"type\":\"histogram\"}],\"scattergl\":[{\"type\":\"scattergl\",\"marker\":{\"colorbar\":{\"outlinewidth\":0,\"ticks\":\"\"}}}],\"scatter3d\":[{\"type\":\"scatter3d\",\"line\":{\"colorbar\":{\"outlinewidth\":0,\"ticks\":\"\"}},\"marker\":{\"colorbar\":{\"outlinewidth\":0,\"ticks\":\"\"}}}],\"scattermapbox\":[{\"type\":\"scattermapbox\",\"marker\":{\"colorbar\":{\"outlinewidth\":0,\"ticks\":\"\"}}}],\"scatterternary\":[{\"type\":\"scatterternary\",\"marker\":{\"colorbar\":{\"outlinewidth\":0,\"ticks\":\"\"}}}],\"scattercarpet\":[{\"type\":\"scattercarpet\",\"marker\":{\"colorbar\":{\"outlinewidth\":0,\"ticks\":\"\"}}}],\"carpet\":[{\"aaxis\":{\"endlinecolor\":\"#2a3f5f\",\"gridcolor\":\"white\",\"linecolor\":\"white\",\"minorgridcolor\":\"white\",\"startlinecolor\":\"#2a3f5f\"},\"baxis\":{\"endlinecolor\":\"#2a3f5f\",\"gridcolor\":\"white\",\"linecolor\":\"white\",\"minorgridcolor\":\"white\",\"startlinecolor\":\"#2a3f5f\"},\"type\":\"carpet\"}],\"table\":[{\"cells\":{\"fill\":{\"color\":\"#EBF0F8\"},\"line\":{\"color\":\"white\"}},\"header\":{\"fill\":{\"color\":\"#C8D4E3\"},\"line\":{\"color\":\"white\"}},\"type\":\"table\"}],\"barpolar\":[{\"marker\":{\"line\":{\"color\":\"#E5ECF6\",\"width\":0.5},\"pattern\":{\"fillmode\":\"overlay\",\"size\":10,\"solidity\":0.2}},\"type\":\"barpolar\"}],\"pie\":[{\"automargin\":true,\"type\":\"pie\"}]},\"layout\":{\"autotypenumbers\":\"strict\",\"colorway\":[\"#636efa\",\"#EF553B\",\"#00cc96\",\"#ab63fa\",\"#FFA15A\",\"#19d3f3\",\"#FF6692\",\"#B6E880\",\"#FF97FF\",\"#FECB52\"],\"font\":{\"color\":\"#2a3f5f\"},\"hovermode\":\"closest\",\"hoverlabel\":{\"align\":\"left\"},\"paper_bgcolor\":\"white\",\"plot_bgcolor\":\"#E5ECF6\",\"polar\":{\"bgcolor\":\"#E5ECF6\",\"angularaxis\":{\"gridcolor\":\"white\",\"linecolor\":\"white\",\"ticks\":\"\"},\"radialaxis\":{\"gridcolor\":\"white\",\"linecolor\":\"white\",\"ticks\":\"\"}},\"ternary\":{\"bgcolor\":\"#E5ECF6\",\"aaxis\":{\"gridcolor\":\"white\",\"linecolor\":\"white\",\"ticks\":\"\"},\"baxis\":{\"gridcolor\":\"white\",\"linecolor\":\"white\",\"ticks\":\"\"},\"caxis\":{\"gridcolor\":\"white\",\"linecolor\":\"white\",\"ticks\":\"\"}},\"coloraxis\":{\"colorbar\":{\"outlinewidth\":0,\"ticks\":\"\"}},\"colorscale\":{\"sequential\":[[0.0,\"#0d0887\"],[0.1111111111111111,\"#46039f\"],[0.2222222222222222,\"#7201a8\"],[0.3333333333333333,\"#9c179e\"],[0.4444444444444444,\"#bd3786\"],[0.5555555555555556,\"#d8576b\"],[0.6666666666666666,\"#ed7953\"],[0.7777777777777778,\"#fb9f3a\"],[0.8888888888888888,\"#fdca26\"],[1.0,\"#f0f921\"]],\"sequentialminus\":[[0.0,\"#0d0887\"],[0.1111111111111111,\"#46039f\"],[0.2222222222222222,\"#7201a8\"],[0.3333333333333333,\"#9c179e\"],[0.4444444444444444,\"#bd3786\"],[0.5555555555555556,\"#d8576b\"],[0.6666666666666666,\"#ed7953\"],[0.7777777777777778,\"#fb9f3a\"],[0.8888888888888888,\"#fdca26\"],[1.0,\"#f0f921\"]],\"diverging\":[[0,\"#8e0152\"],[0.1,\"#c51b7d\"],[0.2,\"#de77ae\"],[0.3,\"#f1b6da\"],[0.4,\"#fde0ef\"],[0.5,\"#f7f7f7\"],[0.6,\"#e6f5d0\"],[0.7,\"#b8e186\"],[0.8,\"#7fbc41\"],[0.9,\"#4d9221\"],[1,\"#276419\"]]},\"xaxis\":{\"gridcolor\":\"white\",\"linecolor\":\"white\",\"ticks\":\"\",\"title\":{\"standoff\":15},\"zerolinecolor\":\"white\",\"automargin\":true,\"zerolinewidth\":2},\"yaxis\":{\"gridcolor\":\"white\",\"linecolor\":\"white\",\"ticks\":\"\",\"title\":{\"standoff\":15},\"zerolinecolor\":\"white\",\"automargin\":true,\"zerolinewidth\":2},\"scene\":{\"xaxis\":{\"backgroundcolor\":\"#E5ECF6\",\"gridcolor\":\"white\",\"linecolor\":\"white\",\"showbackground\":true,\"ticks\":\"\",\"zerolinecolor\":\"white\",\"gridwidth\":2},\"yaxis\":{\"backgroundcolor\":\"#E5ECF6\",\"gridcolor\":\"white\",\"linecolor\":\"white\",\"showbackground\":true,\"ticks\":\"\",\"zerolinecolor\":\"white\",\"gridwidth\":2},\"zaxis\":{\"backgroundcolor\":\"#E5ECF6\",\"gridcolor\":\"white\",\"linecolor\":\"white\",\"showbackground\":true,\"ticks\":\"\",\"zerolinecolor\":\"white\",\"gridwidth\":2}},\"shapedefaults\":{\"line\":{\"color\":\"#2a3f5f\"}},\"annotationdefaults\":{\"arrowcolor\":\"#2a3f5f\",\"arrowhead\":0,\"arrowwidth\":1},\"geo\":{\"bgcolor\":\"white\",\"landcolor\":\"#E5ECF6\",\"subunitcolor\":\"white\",\"showland\":true,\"showlakes\":true,\"lakecolor\":\"white\"},\"title\":{\"x\":0.05},\"mapbox\":{\"style\":\"light\"}}},\"xaxis\":{\"anchor\":\"y\",\"domain\":[0.0,1.0],\"title\":{\"text\":\"value\"}},\"yaxis\":{\"anchor\":\"x\",\"domain\":[0.0,1.0],\"title\":{\"text\":\"count\"}},\"legend\":{\"title\":{\"text\":\"variable\"},\"tracegroupgap\":0},\"title\":{\"text\":\"Frecuencia absoluta vector objetivo\"},\"barmode\":\"relative\",\"bargap\":0},                        {\"responsive\": true}                    ).then(function(){\n",
              "                            \n",
              "var gd = document.getElementById('23394f1f-fddd-4d72-b20c-604fafb5e774');\n",
              "var x = new MutationObserver(function (mutations, observer) {{\n",
              "        var display = window.getComputedStyle(gd).display;\n",
              "        if (!display || display === 'none') {{\n",
              "            console.log([gd, 'removed!']);\n",
              "            Plotly.purge(gd);\n",
              "            observer.disconnect();\n",
              "        }}\n",
              "}});\n",
              "\n",
              "// Listen for the removal of the full notebook cells\n",
              "var notebookContainer = gd.closest('#notebook-container');\n",
              "if (notebookContainer) {{\n",
              "    x.observe(notebookContainer, {childList: true});\n",
              "}}\n",
              "\n",
              "// Listen for the clearing of the current output cell\n",
              "var outputEl = gd.closest('.output');\n",
              "if (outputEl) {{\n",
              "    x.observe(outputEl, {childList: true});\n",
              "}}\n",
              "\n",
              "                        })                };                            </script>        </div>\n",
              "</body>\n",
              "</html>"
            ]
          },
          "metadata": {}
        }
      ]
    },
    {
      "cell_type": "markdown",
      "source": [
        "### 1.1.2 Camino a la clasificación [1 punto]\n",
        "\n",
        "<p align=\"center\">\n",
        "  <img src=\"https://c.tenor.com/SoXZJHWnhKAAAAAC/pitbull-medel.gif\" width=\"500\">\n",
        "</p>\n",
        "\n",
        "Para preprocesar el dataset, genere un `ColumnTransformer` en donde especifique las transformaciones que hay que realizar para cada columna (por ejemplo StandarScaler, MinMaxScaler, OneHotEncoder, etc...) para que puedan ser utilizadas correctamente por el modelo predictivo y guardelo en algúna variable.\n",
        "\n",
        "Luego, comente y justifique las transformaciones elegidas sobre cada una de las variables (para esto utilice el material ```Player_Stats_Report.html``` que viene en el zip del lab), al igual que las transformaciones aplicadas.\n",
        "\n",
        "Hecho lo anterior, **defina al menos 3 pipelines para la clasificación**, en donde utilice el mismo ColumnTransformer definido anteriormente, pero que varie entre cada pipeline los clasificadores. \n",
        "\n",
        "Para seleccionar los clasificadores más adecuados, utilice la siguiente guía:\n",
        "\n",
        "<p align=\"center\">\n",
        "  <img src=\"https://scikit-learn.org/stable/_static/ml_map.png\" width=\"500\">\n",
        "</p>\n",
        "\n",
        "<br/>\n",
        "\n",
        "Con ella, comente y justifique cada una de las decisiones tomadas al momento de desarrollar su pipeline.\n",
        "\n",
        "**Nota:** Si tiene problemas al utilizar OneHotEncoder puede utilizar el parámetro handle_unknown='ignore'. Esto hace que en la codificación se omitan las categorias que no aparecen en el entrenamiento. Pregunta dudosa (no tiene puntaje), ¿esto tiene sentido a nivel de modelos?.\n",
        "\n",
        "**To-Do:**\n",
        "\n",
        "- [x] Genere un ```ColumnTransformer``` enfocado en preprocesar los datos.\n",
        "- [x] Indicar y Justificar que preprocesamiento utiliza sobre cada columna.\n",
        "- [x] Crear 3 ``pipelines`` con diferentes clasificadores.\n",
        "- [x] Para seleccionar los clasificadores base sus decisiones en la siguiente [guía](https://scikit-learn.org/stable/tutorial/machine_learning_map/index.html)\n",
        "- [x] No entrenar los ``pipelines`` aún.\n",
        "\n",
        "**Nota:** No es necesario entrenar los clasificadores aún."
      ],
      "metadata": {
        "id": "0F70XPRFpWH9",
        "cell_id": "882716f31dd4415983e3ed8e403ddcf0",
        "deepnote_cell_height": 678.1500244140625,
        "deepnote_cell_type": "markdown"
      }
    },
    {
      "cell_type": "markdown",
      "source": [
        "**Respuesta**"
      ],
      "metadata": {
        "id": "Cy0QfYvURomR"
      }
    },
    {
      "cell_type": "code",
      "source": [
        "# Se define listas según tipo de columna considerando el análisis entregado y\n",
        "# la información disponible en el sitio kaggle.\n",
        "num_cols = [\n",
        "    \"Height\", \"Weight\", \"Age\", \"Ball_Control\", \"Dribbling\", \"Marking\",\n",
        "    \"Sliding_Tackle\", \"Standing_Tackle\", \"Aggression\", \"Reactions\",\n",
        "    \"Interceptions\", \"Vision\", \"Composure\", \"Crossing\", \"Short_Pass\",\n",
        "    \"Long_Pass\", \"Acceleration\", \"Speed\", \"Stamina\", \"Strength\", \"Balance\",\n",
        "    \"Agility\", \"Jumping\", \"Heading\", \"Shot_Power\", \"Finishing\", \"Long_Shots\",\n",
        "    \"Curve\", \"Freekick_Accuracy\", \"Penalties\", \"Volleys\"\n",
        "]\n",
        "\n",
        "cat_cols = [\n",
        "    \"Nationality\", \"Club_Position\", \"Preffered_Foot\", \"Work_Rate\",\n",
        "    \"Weak_foot\", \"Skill_Moves\", \n",
        "]"
      ],
      "metadata": {
        "id": "Zv1MMCjXI-V3"
      },
      "execution_count": 31,
      "outputs": []
    },
    {
      "cell_type": "code",
      "source": [
        "# Genere un ColumnTransformer enfocado en preprocesar los datos\n",
        "\n",
        "# Pipeline con transformaciones para columnas númericas\n",
        "num_pipe = Pipeline(\n",
        "    steps=[\n",
        "        (\"imputer_num\", KNNImputer(n_neighbors=2, weights=\"uniform\")),\n",
        "        (\"scaler\", StandardScaler()),\n",
        "    ]\n",
        ")\n",
        "\n",
        "# Pipeline con transformaciones para columnas categóricas\n",
        "cat_pipe = Pipeline(\n",
        "    steps=[\n",
        "        (\"imputer_cat\", SimpleImputer(strategy=\"constant\", fill_value=\"missing\")),\n",
        "        (\"onehot\", OneHotEncoder(handle_unknown=\"ignore\")),\n",
        "    ]\n",
        ")\n",
        "\n",
        "# Las transformaciones se aplican en tuplas que asocian Pipelines a grupos de\n",
        "# columnas\n",
        "preprocessing = Pipeline([\n",
        "    (\"column_transform\", ColumnTransformer(transformers=[\n",
        "        (\"num\", num_pipe, num_cols),\n",
        "        (\"cat\", cat_pipe, cat_cols),\n",
        "    ]\n",
        "  ))\n",
        "])"
      ],
      "metadata": {
        "tags": [],
        "cell_id": "3405035b85c6475594991b29a465a506",
        "deepnote_cell_height": 65.13333129882812,
        "deepnote_cell_type": "code",
        "id": "EvlIQNd_MrW8"
      },
      "outputs": [],
      "execution_count": 32
    },
    {
      "cell_type": "markdown",
      "source": [
        "**Indicar y Justificar que preprocesamiento utiliza sobre cada columna.**\n",
        "\n",
        "- Se agrega variables para _pipelines_ específicos de procesamiento según tipo de dato (`num_pipe` y `cat_pipe`). Esto con el fin de especificar para cada caso el procesamiento e imputación adecuados:\n",
        "    - ***Numéricas***: Se considera las columnas con valores continuos entregadas en el análisis exploratorio. Debido a que no todas presentan la misma unidad de medición, se aplica el proceso de estandarización mediante puntaje Z con `StandardScaler`. A su vez, se agrega el paso de imputar valores nulos, en caso de que estos se presenten en futuros datos para predicciones.\n",
        "\n",
        "    - ***Categóricas***: Se considera las columnas categóricas mencionadas en el análisis exploratorio, _omitiendo el nombre_ del jugador, ya que este no se considera relevante para el análisis. También se elimina _National_Position_, debido a su colinealidad con el vector objetivo. Para el resto, se asigna además un paso de imputación de nulos, para aplicarse en caso de que estos se presenten para predicciones de datos futuros. Además, se aplica una codificación de tipo `OneHotEncoder` para generar columnas binarias para cada categoría, ya que los modelos escogidos no presentan problemas frente a multicolinealidad de atributos."
      ],
      "metadata": {
        "id": "RC8fFTppVLRa"
      }
    },
    {
      "cell_type": "code",
      "source": [
        "# Crear 3 pipelines con diferentes clasificadores\n",
        "knn_pipe = Pipeline(\n",
        "    [\n",
        "        (\"preprocesamiento\", preprocessing), \n",
        "        (\"knn\", KNeighborsClassifier(n_neighbors=3))\n",
        "    ]\n",
        ")\n",
        "\n",
        "tree_pipe = Pipeline(\n",
        "    [\n",
        "        (\"preprocesamiento\", preprocessing), \n",
        "        (\"rf\", RandomForestClassifier(random_state=42, ccp_alpha=0.00015))\n",
        "    ]\n",
        ")\n",
        "\n",
        "svm_pipe = Pipeline(\n",
        "    [\n",
        "        (\"preprocesamiento\", preprocessing), \n",
        "        (\"svm\", SVC(kernel=\"poly\"))\n",
        "    ]\n",
        ")"
      ],
      "metadata": {
        "id": "i-gOaUKTW3lM"
      },
      "execution_count": 33,
      "outputs": []
    },
    {
      "cell_type": "markdown",
      "source": [
        "**Justificación de la selección de clasificadores**\n",
        "\n",
        "Dado que se trata de un problema supervisado de clasificación binaria, con menos de 100.000 muestras, se escoge los siguientes clasificadores:\n",
        "\n",
        "- _KNN_: Se escoge por su simpleza y obtener en general resultados aceptables. Se decide utilizar 3 vecinos.\n",
        "- _RFC_: Se escoge por su interpretabilidad, aunque debido a su tendencia a generar overfitting se aplica una regularización mediante `ccp_alpha=0.00015`\n",
        "- _SVC_: Se escoge con uso de kernel polinomial de grado 3 y valores de regularización por defecto. Esto con el objetivo de ver si al aplicar una transformación en los datos se obtiene métricas predictivas diferentes respecto de los modelos anteriores."
      ],
      "metadata": {
        "id": "tOOMLUzzZZXf"
      }
    },
    {
      "cell_type": "markdown",
      "source": [
        "### 1.1.3 Entrenemos los pipelines [1 punto]\n",
        "\n",
        "<p align=\"center\">\n",
        "  <img src=\"https://i.gifer.com/7Cc8.gif\" width=\"350\">\n",
        "</p>\n"
      ],
      "metadata": {
        "id": "MpKq6oO3vCNL",
        "cell_id": "b7fa6937d9a043fd93b7966fb0e81861",
        "deepnote_cell_height": 101.13333129882812,
        "deepnote_cell_type": "markdown"
      }
    },
    {
      "cell_type": "markdown",
      "source": [
        "Ahora, entrene los `pipeline` generados en los pasos anteriores. Para esto, primero separe los datos de entrenamiento en un conjunto de entrenamiento y de prueba  (la proporción queda a su juicio).\n",
        "\n",
        "En este paso, seleccione los ejemplos de forma aleatoria e intente mantener la distribución original de labels de cada clase en los conjuntos de prueba/entrenamiento. (vea la documentación de `train_test_split`).\n",
        "\n",
        "\n",
        "Luego, entrene los pipelines\n",
        "\n",
        "Una vez entrenado su modelo, evalue su rendimiento a través de diferentes métricas, comentando que significa cada uno de los valores obtenidos. Puede usar la función `classification_report` para corroborar sus resultados.\n",
        "\n",
        "- ¿Qué implican los valores de accuracy, precisión y recall de la clase positiva (la que indica que un jugador es seleccionado nacional)?\n",
        "- ¿Podrían mejorarse los resultados?, ¿Cómo?\n",
        "- ¿Influye la cantidad de ejemplos por clase?\n",
        "\n",
        "**To-Do**:\n",
        "\n",
        "- [X] Separar el conjunto de datos en entrenamiento y de prueba.\n",
        "- [X] Entrenar los `pipelines`.\n",
        "- [X] Utilizar las métricas para evaluar los modelos generados.\n"
      ],
      "metadata": {
        "id": "wE_1aZaIvOeN",
        "cell_id": "5ead21d7e26d4e3da1486c9937f22968",
        "deepnote_cell_height": 454.433349609375,
        "deepnote_cell_type": "markdown"
      }
    },
    {
      "cell_type": "markdown",
      "source": [
        "**Respuesta:**"
      ],
      "metadata": {
        "tags": [],
        "cell_id": "053a95315e3245b39ba9d263d932e7d4",
        "deepnote_cell_height": 51.53334045410156,
        "deepnote_cell_type": "markdown",
        "id": "3tbC2z3iMrXB"
      }
    },
    {
      "cell_type": "code",
      "source": [
        "# Separar el conjunto de datos en entrenamiento y de prueba\n",
        "X = df_players.drop(columns=[\"Name\", \"National_Position\", \"target\"])\n",
        "y = df_players[\"target\"].replace([\"seleccionado\", \"no_seleccionado\"], [1, 0])\n",
        "\n",
        "# Se realiza un muestreo estratificado para conversar distribución de las clases\n",
        "X_train, X_test, y_train, y_test = train_test_split(X, y, stratify=y,\n",
        "                                                    random_state=42,\n",
        "                                                    test_size=0.2)"
      ],
      "metadata": {
        "tags": [],
        "cell_id": "0148b8e4a7e24b838381dbee30b31758",
        "deepnote_cell_height": 65.13333129882812,
        "deepnote_cell_type": "code",
        "id": "Dw9jmvUMMrXC"
      },
      "outputs": [],
      "execution_count": 34
    },
    {
      "cell_type": "code",
      "source": [
        "X_train.shape"
      ],
      "metadata": {
        "colab": {
          "base_uri": "https://localhost:8080/"
        },
        "id": "Kzyf3gTflHX4",
        "outputId": "6e107128-9081-44b0-b39c-5ba10a2ca166"
      },
      "execution_count": 35,
      "outputs": [
        {
          "output_type": "execute_result",
          "data": {
            "text/plain": [
              "(14070, 37)"
            ]
          },
          "metadata": {},
          "execution_count": 35
        }
      ]
    },
    {
      "cell_type": "code",
      "source": [
        "#@title\n",
        "print('Se conserva distribución de etiquetas:\\n---------------------------------------------')\n",
        "print('Proporción Train:\\n', y_train.value_counts('%')*100, '\\n')\n",
        "print('Proporción Test:\\n', y_train.value_counts('%')*100, '\\n')\n",
        "print('Proporción Original:\\n', y.value_counts('%')*100)"
      ],
      "metadata": {
        "colab": {
          "base_uri": "https://localhost:8080/"
        },
        "id": "2vzl-ppR5Rdo",
        "outputId": "cbe2d8d5-ae85-4aa0-e7a2-b025a087a2c6"
      },
      "execution_count": 36,
      "outputs": [
        {
          "output_type": "stream",
          "name": "stdout",
          "text": [
            "Se conserva distribución de etiquetas:\n",
            "---------------------------------------------\n",
            "Proporción Train:\n",
            " 0    93.887704\n",
            "1     6.112296\n",
            "Name: target, dtype: float64 \n",
            "\n",
            "Proporción Test:\n",
            " 0    93.887704\n",
            "1     6.112296\n",
            "Name: target, dtype: float64 \n",
            "\n",
            "Proporción Original:\n",
            " 0    93.887878\n",
            "1     6.112122\n",
            "Name: target, dtype: float64\n"
          ]
        }
      ]
    },
    {
      "cell_type": "code",
      "source": [
        "%%capture\n",
        "# Entrenar los pipelines\n",
        "knn_pipe.fit(X_train, y_train)\n",
        "tree_pipe.fit(X_train, y_train)\n",
        "svm_pipe.fit(X_train, y_train)"
      ],
      "metadata": {
        "id": "nrRG8IzgbWIG"
      },
      "execution_count": 37,
      "outputs": []
    },
    {
      "cell_type": "code",
      "source": [
        "# Utilizar las métricas para evaluar los modelos generados\n",
        "\n",
        "for p in [knn_pipe, tree_pipe, svm_pipe]:\n",
        "  print(f\"Métricas para modelo {list(p.named_steps.keys())[1]} en Test:\\n\")\n",
        "  print(classification_report(y_test, p.predict(X_test)))"
      ],
      "metadata": {
        "colab": {
          "base_uri": "https://localhost:8080/"
        },
        "id": "qIsrqIqfeD9k",
        "outputId": "d3374d43-7a45-4e12-da42-0072daca0d2b"
      },
      "execution_count": 38,
      "outputs": [
        {
          "output_type": "stream",
          "name": "stdout",
          "text": [
            "Métricas para modelo knn en Test:\n",
            "\n",
            "              precision    recall  f1-score   support\n",
            "\n",
            "           0       0.95      0.99      0.97      3303\n",
            "           1       0.48      0.13      0.20       215\n",
            "\n",
            "    accuracy                           0.94      3518\n",
            "   macro avg       0.71      0.56      0.58      3518\n",
            "weighted avg       0.92      0.94      0.92      3518\n",
            "\n",
            "Métricas para modelo rf en Test:\n",
            "\n",
            "              precision    recall  f1-score   support\n",
            "\n",
            "           0       0.94      1.00      0.97      3303\n",
            "           1       0.71      0.10      0.18       215\n",
            "\n",
            "    accuracy                           0.94      3518\n",
            "   macro avg       0.83      0.55      0.57      3518\n",
            "weighted avg       0.93      0.94      0.92      3518\n",
            "\n",
            "Métricas para modelo svm en Test:\n",
            "\n",
            "              precision    recall  f1-score   support\n",
            "\n",
            "           0       0.94      1.00      0.97      3303\n",
            "           1       0.76      0.09      0.16       215\n",
            "\n",
            "    accuracy                           0.94      3518\n",
            "   macro avg       0.85      0.54      0.56      3518\n",
            "weighted avg       0.93      0.94      0.92      3518\n",
            "\n"
          ]
        }
      ]
    },
    {
      "cell_type": "code",
      "source": [
        "for p in [knn_pipe, tree_pipe, svm_pipe]:\n",
        "  print(f\"Métricas para modelo {list(p.named_steps.keys())[1]} en Train:\\n\")\n",
        "  print(classification_report(y_train, p.predict(X_train)))"
      ],
      "metadata": {
        "colab": {
          "base_uri": "https://localhost:8080/"
        },
        "id": "yGS-okPWhumL",
        "outputId": "8dc8769b-be6e-4392-8c75-b4306f17fb4e"
      },
      "execution_count": 39,
      "outputs": [
        {
          "output_type": "stream",
          "name": "stdout",
          "text": [
            "Métricas para modelo knn en Train:\n",
            "\n",
            "              precision    recall  f1-score   support\n",
            "\n",
            "           0       0.96      1.00      0.98     13210\n",
            "           1       0.85      0.30      0.44       860\n",
            "\n",
            "    accuracy                           0.95     14070\n",
            "   macro avg       0.90      0.65      0.71     14070\n",
            "weighted avg       0.95      0.95      0.94     14070\n",
            "\n",
            "Métricas para modelo rf en Train:\n",
            "\n",
            "              precision    recall  f1-score   support\n",
            "\n",
            "           0       0.96      1.00      0.98     13210\n",
            "           1       1.00      0.34      0.51       860\n",
            "\n",
            "    accuracy                           0.96     14070\n",
            "   macro avg       0.98      0.67      0.75     14070\n",
            "weighted avg       0.96      0.96      0.95     14070\n",
            "\n",
            "Métricas para modelo svm en Train:\n",
            "\n",
            "              precision    recall  f1-score   support\n",
            "\n",
            "           0       0.95      1.00      0.97     13210\n",
            "           1       0.99      0.17      0.30       860\n",
            "\n",
            "    accuracy                           0.95     14070\n",
            "   macro avg       0.97      0.59      0.64     14070\n",
            "weighted avg       0.95      0.95      0.93     14070\n",
            "\n"
          ]
        }
      ]
    },
    {
      "cell_type": "markdown",
      "source": [
        "**Respuesta**:\n",
        "\n",
        "**¿Qué implican los valores de accuracy, precisión y recall de la clase positiva (la que indica que un jugador es seleccionado nacional)?**\n",
        "\n",
        "- _Accuracy_: Corresponde a la cantidad de predicciones correctas por sobre la cantidad total de predicciones. Es decir, es una métrica de desempeño global del modelo, no exclusivamente de la clase positiva. Por tanto, dado que en este caso la clase positiva tiene una frecuencia mucho menor, _el valor obtenido de accuracy no es representativo para la clase positiva_. En los tres modelos se obtiene valores similares y altos tanto en train como test, pero dado el desbalance de clases, no se puede considerar en base a este valor que el modelo sea adecuado para predecir si un jugador ese seleccionado o no.\n",
        "- _Precisión_: Fracción de ejemplos asignados a la clase `i` que son realmente de la clase `i`. En el caso del reporte de clasificación, se entrega los valores obtenidos considerando cada clase como positiva en forma independiente para obtener su precission en cada una. En este caso, nos fijamos por tanto en el valor reportado para la clase `1`. Bajo este criterio, se obtiene el mejor desempeño para el modelo `SVC`. Se debe considerar igual que el valor obtenido en Test es mucho menor que en Train, indicando un sobreajuste del modelo que debiese manejarse con regularización.\n",
        "- _Recall_: Fracción de ejemplos de la clase `i` correctamente clasificados. Nuevamente nos fijamos en el valor reportado para la clase `1`. Bajo este criterio, los tres clasificadores entregan un valor bajo, tanto en Train como Test, lo que indicaría presencia de falsos negativos en las predicciones.\n",
        "\n",
        "\n",
        "**¿Podrían mejorarse los resultados?, ¿Cómo?**\n",
        "\n",
        "Sí. En al desbalance de clases, la primera alternativa siempre es conseguir más datos (reales). Asumiendo que estos no son posibles de obtener, se puede efectuar un balanceo artifical de clases para los datos de entrenamiento del modelo. Esto puede ser por ejemplo aplicando `RandomUnderSampler`, para dismiuir los datos de la clase `no_seleccionado`, y de esa forma balancear la proporción con los clase `seleccionado` en los datos de entrenamiento. \n",
        "\n",
        "En cuanto a los atributos, se podría también explorar hacer una ingeniería de atributos que permita disminuir la dimensionalidad, con la esperanza de mejorar el desempeño del clasificador. Puede ser en forma manual agrupando categorías (Ej, pasar nacionalidad a continentes), o mediante métricas de scoring como anova o mutual information.\n",
        "\n",
        "En cuanto a los modelos, es posible también explorar otras combinaciones de hiperparámetros. Por último, siempre es bueno considerar la regularización y comparar el desempeño del modelo tanto en Train como Test para corroborar que no se está frente a un modelo sobreajustado, y que por ende será generalizable frente a predicciones futuras.\n",
        "\n",
        "\n",
        "**¿Influye la cantidad de ejemplos por clase?**\n",
        "\n",
        "Sí, en todos los casos los modelos sufren una degradación en su desempeño\n",
        "frente al escenario de clases desbalanceadas. En general, los modelos se\n",
        "benefician al obtener mayor información por categoría, y en el peor de los\n",
        "casos, la cantidad de información solo puede ser redundante. Siempre se debe\n",
        "considerar que clases desbalanceadas genera un sesgo a favor de la clase\n",
        "mayoritaría en los resultados, como se corroborá con las métricas reportadas de\n",
        "la clase mayoritaría (0) versus la minoritaría (1). Existen técnicas de pre-procesamiento para aminorar este problema, como la que se mencionó anteriormente.\n"
      ],
      "metadata": {
        "id": "QgSeo0aIx9ow",
        "cell_id": "2e9c35fbe33d4a38bfdf6af6de3022f3",
        "deepnote_cell_height": 106.33332824707031,
        "deepnote_cell_type": "markdown"
      }
    },
    {
      "cell_type": "markdown",
      "source": [
        "## 1.2 Predicción de posiciones de jugadores [2 puntos]\n",
        "\n",
        "<p align=\"center\">\n",
        "  <img src=\"https://pbs.twimg.com/media/E1rfA1aWEAYU6Ny.jpg\" width=\"500\">\n",
        "</p>"
      ],
      "metadata": {
        "id": "ix97Ho4uOARH",
        "cell_id": "5aa0cc14dba04749ad3bc07a92d351d2",
        "deepnote_cell_type": "markdown"
      }
    },
    {
      "cell_type": "markdown",
      "source": [
        "En una nueva jornada de desmesuradas transacciones deportivas, Renacín escuchó a sus colegas discutir acerca de que el precio de cada jugador depende en gran medida de la posición en la cancha en la que juega. Y además, que hay bastantes jugadores nuevos que no tienen muy claro en que posición verdaderamente brillarían, por lo que actualmente puede que actualmente estén jugando en posiciones sub-optimas. \n",
        "\n",
        "Viendo que los resultados del primer análisis no son tan esperanzadores, el corporeo los comanda a cambiar su tarea: ahora, les solicita que construyan un clasificador enfocado en predecir la mejor posición de los jugadores en la cancha según sus características. \n",
        "\n",
        "Para lograr esto, primero, les pide que etiqueten de la siguiente manera los valores que aparecen en el atributo ```Club_Position```, pidiendo que agrupen los valores en los siguientes grupos:\n",
        "\n",
        "**Nota**:  Renacín les recalca que **no deben utilizar los valores ```Sub``` y ```Res``` de esta columna**.\n",
        "\n",
        "```python\n",
        "ataque = ['ST', 'CF'] \n",
        "central_ataque = ['RW', 'CAM', 'LW'] \n",
        "central = ['RM', 'CM', 'LM'] \n",
        "central_defensa = ['RWB', 'CDM', 'LWB']\n",
        "defensa = ['RB', 'CB', 'LB']\n",
        "arquero = ['GK']\n",
        "```\n",
        "\n",
        "Cabe señalar que al igual como lo realizado con la clasificación binaria, deberá justificar en base a la [guía](https://scikit-learn.org/stable/tutorial/machine_learning_map/index.html) la elección del clasificador y se deben comentar los resultados obtenidos en la clasificación.\n",
        "\n",
        "**Nota:** Clasifique solamente con las clases señaladas, si observa mas clases eliminelas de la clasficación.\n",
        "\n",
        "**To-Do**:\n",
        "\n",
        "- [X] Aplique las etiquetas descritas anteriormente en cada uno de los valores señalados en esta sección.\n",
        "- [X] Cuente cuantos por clase quedan.\n",
        "- [X] Entrene el nuevo pipeline y ejecute una evaluación de este.  \n",
        "- [X] Comente los resultados obtenidos."
      ],
      "metadata": {
        "id": "oHAwZfV8hMsk",
        "cell_id": "6cd2eee12b6147bc8eba66af43a1f1f7",
        "deepnote_cell_type": "markdown"
      }
    },
    {
      "cell_type": "markdown",
      "source": [
        "**Respuesta:**"
      ],
      "metadata": {
        "tags": [],
        "cell_id": "71cd4b2ee5a74b96aa2dd4e1da166655",
        "deepnote_cell_type": "markdown",
        "id": "t3rxnse7MrXH"
      }
    },
    {
      "cell_type": "markdown",
      "source": [
        "Utilizamos un diccionario para crear las nuevas categorías que\n",
        "buscamos predecir y creamos la columna `target_multiclase`:\n",
        "\n"
      ],
      "metadata": {
        "id": "cikDUnIYJ7Nw"
      }
    },
    {
      "cell_type": "code",
      "source": [
        "# Aplique las etiquetas descritas anteriormente en cada uno de los valores\n",
        "# señalados en esta sección.\n",
        "macro_categories = {\n",
        "    'ST':'ataque',\n",
        "    'CF':'ataque',\n",
        "    'RW':'central_ataque',\n",
        "    'CAM':'central_ataque',\n",
        "    'LW':'central_ataque',\n",
        "    'RM':'central',\n",
        "    'CM':'central',\n",
        "    'LM':'central',\n",
        "    'RWB':'central_defensa',\n",
        "    'CDM':'central_defensa',\n",
        "    'LWB':'central_defensa',\n",
        "    'RB':'defensa',\n",
        "    'CB':'defensa',\n",
        "    'LB':'defensa',\n",
        "    'GK':'arquero'\n",
        "}\n",
        "\n",
        "# Se crean macro-categorías según las clases específicadas\n",
        "df_players['target_multiclase'] = (df_players['Club_Position']\n",
        "  .astype('category')\n",
        "  .replace(macro_categories)\n",
        ")"
      ],
      "metadata": {
        "id": "qNL1GDG1-L4N"
      },
      "execution_count": 40,
      "outputs": []
    },
    {
      "cell_type": "markdown",
      "source": [
        "Observemos la cantidad de jugadores por cada categoría en la nueva columna `target_multiclase`."
      ],
      "metadata": {
        "id": "oJimRBGKKEJh"
      }
    },
    {
      "cell_type": "code",
      "source": [
        "# Cuente cuantos por clase quedan\n",
        "df_players['target_multiclase'].value_counts(dropna=False)"
      ],
      "metadata": {
        "colab": {
          "base_uri": "https://localhost:8080/"
        },
        "id": "uQ6SwDtkAXhp",
        "outputId": "3a327aae-a722-4e89-fe29-891d404b9fbe"
      },
      "execution_count": 41,
      "outputs": [
        {
          "output_type": "execute_result",
          "data": {
            "text/plain": [
              "Sub                7492\n",
              "Res                3146\n",
              "defensa            1180\n",
              "central             907\n",
              "RCB                 633\n",
              "arquero             632\n",
              "LCB                 631\n",
              "central_ataque      581\n",
              "ataque              430\n",
              "LCM                 354\n",
              "RCM                 353\n",
              "LDM                 266\n",
              "RDM                 266\n",
              "central_defensa     209\n",
              "RS                  206\n",
              "LS                  205\n",
              "LAM                  36\n",
              "RAM                  36\n",
              "LF                   12\n",
              "RF                   12\n",
              "NaN                   1\n",
              "Name: target_multiclase, dtype: int64"
            ]
          },
          "metadata": {},
          "execution_count": 41
        }
      ]
    },
    {
      "cell_type": "markdown",
      "source": [
        "Filtrar solo los jugadores que se encuentren en las categorías relevantes\n",
        "específicadas en el enunciado, y luego\n",
        "separar el _dataset_ en conjunto de entrenamiento y prueba. Se vuelve a utilizar\n",
        "un muestreo estratificado para mantener la distribución de las categorías\n",
        "en `target_multiclase`.\n",
        "\n",
        "Debido a la baja cantidad de registros que cumplen con el requisito solicitado, se cambia la fracción considerada para datos de test, con el fin de obtener un poco más de datos y así tener métricas de desempeño más confiables. De todas formas, considerando que solo se cuenta con 3.939 registros que cumplen con lo solicitado y se necesitan 6 categorías, la cantidad de datos para cada clase será baja."
      ],
      "metadata": {
        "id": "OCjyJTF8M52W"
      }
    },
    {
      "cell_type": "code",
      "source": [
        "# Crear np.array booleano para filtrar solo los jugadores en categorías relevantes\n",
        "categorias_relevantes = list(set(macro_categories.values()))\n",
        "mask = np.isin(df_players.target_multiclase, categorias_relevantes)\n",
        "print(f'Total de jugadores en categorías relevantes: {np.sum(mask)}')"
      ],
      "metadata": {
        "colab": {
          "base_uri": "https://localhost:8080/"
        },
        "id": "qyUpipzIE9gt",
        "outputId": "fec58ffe-c79a-416c-9836-1748aaca11e7"
      },
      "execution_count": 42,
      "outputs": [
        {
          "output_type": "stream",
          "name": "stdout",
          "text": [
            "Total de jugadores en categorías relevantes: 3939\n"
          ]
        }
      ]
    },
    {
      "cell_type": "code",
      "source": [
        "# Se utiliza la mask anterior para filtrar las observaciones relevantes\n",
        "# y eliminar las columnas que no te utilizaran en el entrenamiento\n",
        "X_cp = df_players[mask].drop(\n",
        "    columns=[\"Name\", \"Club_Position\", \"target\", \"target_multiclase\"]\n",
        ")\n",
        "\n",
        "# Se obtiene la columna con las categorías multiclase\n",
        "y_cp = df_players[mask][\"target_multiclase\"]\n",
        "\n",
        "# Se realiza un muestreo estratificado para conversar distribución de las clases\n",
        "X_train_cp, X_test_cp, y_train_cp, y_test_cp = train_test_split(\n",
        "    X_cp, y_cp, stratify=y_cp, random_state=42, test_size=0.33\n",
        ")"
      ],
      "metadata": {
        "id": "jrn-udowLniS"
      },
      "execution_count": 43,
      "outputs": []
    },
    {
      "cell_type": "code",
      "source": [
        "# Cantidad de casos por clase en datos de test\n",
        "pd.Series(y_test_cp).value_counts()"
      ],
      "metadata": {
        "colab": {
          "base_uri": "https://localhost:8080/"
        },
        "id": "zWgUiQjVfrqK",
        "outputId": "d902e003-bae0-40ec-cefe-4f877463bca1"
      },
      "execution_count": 44,
      "outputs": [
        {
          "output_type": "execute_result",
          "data": {
            "text/plain": [
              "defensa            389\n",
              "central            299\n",
              "arquero            209\n",
              "central_ataque     192\n",
              "ataque             142\n",
              "central_defensa     69\n",
              "Name: target_multiclase, dtype: int64"
            ]
          },
          "metadata": {},
          "execution_count": 44
        }
      ]
    },
    {
      "cell_type": "markdown",
      "source": [
        "- En el caso de las columnas categóricas, para este problema se incorpora la columna `National_Position` y se elimina la columna `Club_Position`, debido a la colinealidad de esta última con el vector objetivo creado para este ejercicio."
      ],
      "metadata": {
        "id": "YtdXbw4eu0_T"
      }
    },
    {
      "cell_type": "code",
      "source": [
        "# Se define las columnas categóricas para este problema\n",
        "cat_cols_cp = [\n",
        "    \"Nationality\", \"National_Position\", \"Preffered_Foot\", \"Work_Rate\",\n",
        "    \"Weak_foot\", \"Skill_Moves\", \n",
        "]\n",
        "\n",
        "# Las transformaciones se aplican en tuplas que asocian Pipelines a grupos de\n",
        "# columnas\n",
        "preprocessing_cp = Pipeline([\n",
        "    (\"column_transform\", ColumnTransformer(transformers=[\n",
        "        (\"num\", num_pipe, num_cols),\n",
        "        (\"cat\", cat_pipe, cat_cols_cp),\n",
        "    ]\n",
        "  ))\n",
        "])"
      ],
      "metadata": {
        "id": "qRoXM8JvcVqp"
      },
      "execution_count": 45,
      "outputs": []
    },
    {
      "cell_type": "markdown",
      "source": [
        "**Justificación de los modelos seleccionados**\n",
        "\n",
        "Dado que estamos frente a un problema supervisado de clasificación multiclase, y tenemos menos de 100.000 datos, se escoge los mismos modelos del punto anterior, con la misma justificación. Estos modelos permiten manejar también el problema de clasificación multiclase, es por ello que se puede mantener los mismos."
      ],
      "metadata": {
        "id": "myVHxdzEeHv7"
      }
    },
    {
      "cell_type": "code",
      "source": [
        "# Entrene el nuevo pipeline y ejecute una evaluación de este.\n",
        "knn_pipe_cp = Pipeline(\n",
        "    [\n",
        "        (\"preprocesamiento\", preprocessing_cp), \n",
        "        (\"knn\", KNeighborsClassifier(n_neighbors=3))\n",
        "    ]\n",
        ")\n",
        "\n",
        "tree_pipe_cp = Pipeline(\n",
        "    [\n",
        "        (\"preprocesamiento\", preprocessing_cp), \n",
        "        (\"rf\", RandomForestClassifier(random_state=42, ccp_alpha=0.001))\n",
        "    ]\n",
        ")\n",
        "\n",
        "svm_pipe_cp = Pipeline(\n",
        "    [\n",
        "        (\"preprocesamiento\", preprocessing_cp), \n",
        "        (\"svm\", SVC())\n",
        "    ]\n",
        ")"
      ],
      "metadata": {
        "id": "UZUWQXv0sbc-"
      },
      "execution_count": 46,
      "outputs": []
    },
    {
      "cell_type": "markdown",
      "source": [
        "Ajustamos los modelos y reportamos las métricas en conjunto de prueba y entrenamiento."
      ],
      "metadata": {
        "id": "hYJYbsKj4vkR"
      }
    },
    {
      "cell_type": "code",
      "source": [
        "%%capture\n",
        "knn_pipe_cp.fit(X_train_cp, y_train_cp)\n",
        "tree_pipe_cp.fit(X_train_cp, y_train_cp)\n",
        "svm_pipe_cp.fit(X_train_cp, y_train_cp)"
      ],
      "metadata": {
        "id": "sjDNTgBjQxwU"
      },
      "execution_count": 47,
      "outputs": []
    },
    {
      "cell_type": "code",
      "source": [
        "for p in [knn_pipe_cp, tree_pipe_cp, svm_pipe_cp]:\n",
        "  print(f\"Métricas para modelo {list(p.named_steps.keys())[1]} en Test:\\n\")\n",
        "  print(classification_report(y_test_cp, p.predict(X_test_cp)))"
      ],
      "metadata": {
        "colab": {
          "base_uri": "https://localhost:8080/"
        },
        "id": "83IfjNCVt3rE",
        "outputId": "261e3a57-8757-47cc-ea66-5c991243854c"
      },
      "execution_count": 48,
      "outputs": [
        {
          "output_type": "stream",
          "name": "stdout",
          "text": [
            "Métricas para modelo knn en Test:\n",
            "\n",
            "                 precision    recall  f1-score   support\n",
            "\n",
            "        arquero       1.00      1.00      1.00       209\n",
            "         ataque       0.62      0.80      0.70       142\n",
            "        central       0.50      0.55      0.52       299\n",
            " central_ataque       0.34      0.21      0.26       192\n",
            "central_defensa       0.18      0.07      0.10        69\n",
            "        defensa       0.82      0.92      0.86       389\n",
            "\n",
            "       accuracy                           0.68      1300\n",
            "      macro avg       0.58      0.59      0.57      1300\n",
            "   weighted avg       0.65      0.68      0.66      1300\n",
            "\n",
            "Métricas para modelo rf en Test:\n",
            "\n",
            "                 precision    recall  f1-score   support\n",
            "\n",
            "        arquero       1.00      1.00      1.00       209\n",
            "         ataque       0.76      0.82      0.79       142\n",
            "        central       0.55      0.64      0.59       299\n",
            " central_ataque       0.45      0.21      0.29       192\n",
            "central_defensa       0.75      0.04      0.08        69\n",
            "        defensa       0.77      0.98      0.86       389\n",
            "\n",
            "       accuracy                           0.72      1300\n",
            "      macro avg       0.71      0.61      0.60      1300\n",
            "   weighted avg       0.71      0.72      0.69      1300\n",
            "\n",
            "Métricas para modelo svm en Test:\n",
            "\n",
            "                 precision    recall  f1-score   support\n",
            "\n",
            "        arquero       1.00      1.00      1.00       209\n",
            "         ataque       0.76      0.85      0.80       142\n",
            "        central       0.54      0.61      0.57       299\n",
            " central_ataque       0.49      0.27      0.34       192\n",
            "central_defensa       0.47      0.13      0.20        69\n",
            "        defensa       0.79      0.96      0.87       389\n",
            "\n",
            "       accuracy                           0.73      1300\n",
            "      macro avg       0.68      0.64      0.63      1300\n",
            "   weighted avg       0.70      0.73      0.70      1300\n",
            "\n"
          ]
        }
      ]
    },
    {
      "cell_type": "code",
      "source": [
        "for p in [knn_pipe_cp, tree_pipe_cp, svm_pipe_cp]:\n",
        "  print(f\"Métricas para modelo {list(p.named_steps.keys())[1]} en Train:\\n\")\n",
        "  print(classification_report(y_train_cp, p.predict(X_train_cp)))"
      ],
      "metadata": {
        "colab": {
          "base_uri": "https://localhost:8080/"
        },
        "id": "huBRlifHuMGy",
        "outputId": "8637c37e-cad1-4d61-854b-6973051ccfd5"
      },
      "execution_count": 49,
      "outputs": [
        {
          "output_type": "stream",
          "name": "stdout",
          "text": [
            "Métricas para modelo knn en Train:\n",
            "\n",
            "                 precision    recall  f1-score   support\n",
            "\n",
            "        arquero       1.00      1.00      1.00       423\n",
            "         ataque       0.78      0.94      0.85       288\n",
            "        central       0.69      0.80      0.74       608\n",
            " central_ataque       0.80      0.55      0.65       389\n",
            "central_defensa       0.77      0.34      0.47       140\n",
            "        defensa       0.88      0.93      0.90       791\n",
            "\n",
            "       accuracy                           0.83      2639\n",
            "      macro avg       0.82      0.76      0.77      2639\n",
            "   weighted avg       0.83      0.83      0.82      2639\n",
            "\n",
            "Métricas para modelo rf en Train:\n",
            "\n",
            "                 precision    recall  f1-score   support\n",
            "\n",
            "        arquero       1.00      1.00      1.00       423\n",
            "         ataque       0.94      0.95      0.94       288\n",
            "        central       0.91      0.89      0.90       608\n",
            " central_ataque       0.97      0.86      0.92       389\n",
            "central_defensa       1.00      0.39      0.56       140\n",
            "        defensa       0.84      0.99      0.91       791\n",
            "\n",
            "       accuracy                           0.91      2639\n",
            "      macro avg       0.94      0.85      0.87      2639\n",
            "   weighted avg       0.92      0.91      0.91      2639\n",
            "\n",
            "Métricas para modelo svm en Train:\n",
            "\n",
            "                 precision    recall  f1-score   support\n",
            "\n",
            "        arquero       1.00      1.00      1.00       423\n",
            "         ataque       0.86      0.89      0.87       288\n",
            "        central       0.65      0.78      0.71       608\n",
            " central_ataque       0.75      0.39      0.51       389\n",
            "central_defensa       0.85      0.29      0.43       140\n",
            "        defensa       0.82      0.98      0.89       791\n",
            "\n",
            "       accuracy                           0.80      2639\n",
            "      macro avg       0.82      0.72      0.74      2639\n",
            "   weighted avg       0.80      0.80      0.78      2639\n",
            "\n"
          ]
        }
      ]
    },
    {
      "cell_type": "markdown",
      "source": [
        "**Respuesta**:\n",
        "\n",
        "**Comentarios de los resultados obtenidos**:\n",
        "\n",
        "* Los tres modelos obtuvieron un _accuracy_ $\\geq 68\\%$ en el conjunto de pruebas. \n",
        "Todos los modelos obtuvieron peores resultados respecto a sus versiones en el\n",
        "problema anterior. Esto es esperable, a mayor número de\n",
        "categorías dentro del _dataset_, más complejo el problema.\n",
        "* El modelo con mejores resultados en el conjunto de pruebas es `SVM`, según `accuracy` y `f1-score`.\n",
        "* La clase minoritaría (i.e. `centra_defensa`) en todos los clasificadores\n",
        "obtuvó el menor resultado, según `recall` y `f1-score` en el conjunto de pruebas.\n",
        "* La clase mayoritaría (i.e. `defensa`) en todos los clasificadores obtuvó\n",
        "el mejor resultado, según `f1-score` en conjunto de pruebas. A excepción\n",
        "de la clase `arquero`, la cual en todos los clasificadores es identificada\n",
        "perfectamente, reportando el `f1-score` máximo posible en el conjunto de pruebas. \n"
      ],
      "metadata": {
        "tags": [],
        "cell_id": "bea1283d202545a7a1008e29ee53e044",
        "deepnote_cell_type": "markdown",
        "id": "Ih6XqHbLMrXM"
      }
    },
    {
      "cell_type": "markdown",
      "source": [
        "## 1.3 Predicción de Sueldos [2 puntos]\n",
        "\n",
        "<p align=\"center\">\n",
        "  <img src=\"https://media.giphy.com/media/3oEjHWtHAFcOKS4iA0/giphy.gif\" width=\"460\">\n",
        "</p>"
      ],
      "metadata": {
        "id": "C-vkB4xoOGtM",
        "cell_id": "f8008fda06be4d8ab7564d7362151a14",
        "deepnote_cell_type": "markdown"
      }
    },
    {
      "cell_type": "markdown",
      "source": [
        "Queriendo ahondar aún más en el mercado del balompíe, Renacin, logra obtener (de una manera no muy formal) los sueldos de múltiples futbolistas y los guarda en el archivo ```sueldos.csv```. Con ellos les solicita que generen un regresor que les permita predecir el sueldo de los futbolistas en base a las características de los pichichis, esto, debido a su motivación por invertir y/o realizar especulación sobre los sueldos de jugadores.\n",
        "\n",
        "Renacin es claro señalando que deben seguir utilizando la [guía](https://scikit-learn.org/stable/tutorial/machine_learning_map/index.html) y comenten cada uno de los pasos realizados, para obtener su regresión lineal. Señalándoles que no aceptara un $R^2$ inferior a 0.35 para el modelo solicitado.\n",
        "\n",
        "Para esta parte usted tiene total libertad en la generación del regresor, la unica exigencia es que utilice un pipeline para generar la regresión y utilice la metrica $R^2$ para medir el rendimiento de esta.\n",
        "\n",
        "**To-Do**:\n",
        "\n",
        "- [X] Explique en que consiste la métrica $R^2$\n",
        "- [X] Generar un pipeline para la regresión.\n",
        "- [X] Obtener un regresor con un $R^2$ superior a  $0.35$.\n",
        "- [X] Comente sus resultados y si es posible mejorar los resultados obtenidos. ¿Se necesitarían más datos o otros tipos de características o una combinación de ambos?"
      ],
      "metadata": {
        "tags": [],
        "cell_id": "598c8a91d80c412091470f396af54b5f",
        "deepnote_cell_type": "markdown",
        "id": "1XZ4AZ_NMrXO"
      }
    },
    {
      "cell_type": "markdown",
      "source": [
        "**Respuesta**"
      ],
      "metadata": {
        "tags": [],
        "cell_id": "5ce70aab37cb4924b1543eeab84e7de4",
        "deepnote_cell_type": "markdown",
        "id": "hDlGu_BBMrXP"
      }
    },
    {
      "cell_type": "markdown",
      "source": [
        "**Explique en qué consiste la métrica $R^2$**\n",
        "\n",
        "Esta métrica permite medir la _bondad de ajuste_ de un modelo. En concreto, _mide la variabilidad del vector objetivo_ (variable dependiente) en función del cambio en la combinación lineal de atributos (variables independientes) del modelo.\n",
        "\n",
        "Sus valores van _generalmente_ entre 0 y 1, donde 0 significa que el modelo no explica en nada la varianza del vector objetivo, y 1 indica que el modelo explica perfectamente la varianza del vector objetivo. Por ende, lo ideal es obtener, en un modelo descriptivo, valores cercanos a 1. Sin embargo, frente a un problema de machine learning, donde se busca un modelo predictivo generalizable, un bajo $R^2$ en los datos de entrenamiento no necesariamente es algo malo, ya que corresponde por ende a un modelo _no sobreajustado_, del cual se espera que tenga en promedio predicciones más acertadas en datos difernetes al entrenamiento.\n",
        "\n",
        "Se le llama también coeficiente de determinación, y es un puntaje que representa la proporción de varianza de los valores predichos por el modelo con respecto a la varianza de los valores reales."
      ],
      "metadata": {
        "id": "-WYLbtgWjQ6K"
      }
    },
    {
      "cell_type": "markdown",
      "source": [
        "\n",
        "**Datos**\n",
        "\n",
        "\n",
        "- Primero se carga los datos, eliminando duplicados, y promediando los sueldos. Para ello se asume que los jugadores de nombre repetido y sueldos distintos corresponden a la misma persona, ya que no se tiene otro tipo de identificador único. Por ende, para estos casos se promedia el sueldo.\n",
        "\n",
        "- Luego se añaden estos datos al conjunto original con las métricas de los jugadores."
      ],
      "metadata": {
        "id": "jPFwOkl1k48Y"
      }
    },
    {
      "cell_type": "code",
      "source": [
        "# Datos de sueldos\n",
        "df_sueldos = pd.read_csv(\n",
        "    'https://raw.githubusercontent.com/alcazar90/sci-prog-lab/main/data/sueldos.csv'\n",
        ").drop(columns=[\"Unnamed: 0\"]).drop_duplicates()\n",
        "\n",
        "# Se promedia nombres repetidos (se asume la misma persona por no tener id)\n",
        "df_sueldos = df_sueldos.groupby([\"Player\"]).agg({\n",
        "    \"Weekly Salary\": \"mean\"\n",
        "}).reset_index()\n",
        "df_sueldos.head()"
      ],
      "metadata": {
        "tags": [],
        "cell_id": "96e8db5c5a7044b79966da981618c807",
        "deepnote_cell_type": "code",
        "id": "uYWxcftAMrXQ",
        "colab": {
          "base_uri": "https://localhost:8080/",
          "height": 206
        },
        "outputId": "944e8f20-1217-4daf-bc32-1392bc5d0bd2"
      },
      "outputs": [
        {
          "output_type": "execute_result",
          "data": {
            "text/plain": [
              "             Player  Weekly Salary\n",
              "0   Aaron Cresswell        65966.0\n",
              "1      Aaron Lennon        46177.0\n",
              "2  Aaron Leya Iseka        13006.0\n",
              "3        Aaron Mooy        65966.0\n",
              "4      Aaron Ramsey       158320.0"
            ],
            "text/html": [
              "\n",
              "  <div id=\"df-02860138-a5b7-479f-8759-b045da01ef13\">\n",
              "    <div class=\"colab-df-container\">\n",
              "      <div>\n",
              "<style scoped>\n",
              "    .dataframe tbody tr th:only-of-type {\n",
              "        vertical-align: middle;\n",
              "    }\n",
              "\n",
              "    .dataframe tbody tr th {\n",
              "        vertical-align: top;\n",
              "    }\n",
              "\n",
              "    .dataframe thead th {\n",
              "        text-align: right;\n",
              "    }\n",
              "</style>\n",
              "<table border=\"1\" class=\"dataframe\">\n",
              "  <thead>\n",
              "    <tr style=\"text-align: right;\">\n",
              "      <th></th>\n",
              "      <th>Player</th>\n",
              "      <th>Weekly Salary</th>\n",
              "    </tr>\n",
              "  </thead>\n",
              "  <tbody>\n",
              "    <tr>\n",
              "      <th>0</th>\n",
              "      <td>Aaron Cresswell</td>\n",
              "      <td>65966.0</td>\n",
              "    </tr>\n",
              "    <tr>\n",
              "      <th>1</th>\n",
              "      <td>Aaron Lennon</td>\n",
              "      <td>46177.0</td>\n",
              "    </tr>\n",
              "    <tr>\n",
              "      <th>2</th>\n",
              "      <td>Aaron Leya Iseka</td>\n",
              "      <td>13006.0</td>\n",
              "    </tr>\n",
              "    <tr>\n",
              "      <th>3</th>\n",
              "      <td>Aaron Mooy</td>\n",
              "      <td>65966.0</td>\n",
              "    </tr>\n",
              "    <tr>\n",
              "      <th>4</th>\n",
              "      <td>Aaron Ramsey</td>\n",
              "      <td>158320.0</td>\n",
              "    </tr>\n",
              "  </tbody>\n",
              "</table>\n",
              "</div>\n",
              "      <button class=\"colab-df-convert\" onclick=\"convertToInteractive('df-02860138-a5b7-479f-8759-b045da01ef13')\"\n",
              "              title=\"Convert this dataframe to an interactive table.\"\n",
              "              style=\"display:none;\">\n",
              "        \n",
              "  <svg xmlns=\"http://www.w3.org/2000/svg\" height=\"24px\"viewBox=\"0 0 24 24\"\n",
              "       width=\"24px\">\n",
              "    <path d=\"M0 0h24v24H0V0z\" fill=\"none\"/>\n",
              "    <path d=\"M18.56 5.44l.94 2.06.94-2.06 2.06-.94-2.06-.94-.94-2.06-.94 2.06-2.06.94zm-11 1L8.5 8.5l.94-2.06 2.06-.94-2.06-.94L8.5 2.5l-.94 2.06-2.06.94zm10 10l.94 2.06.94-2.06 2.06-.94-2.06-.94-.94-2.06-.94 2.06-2.06.94z\"/><path d=\"M17.41 7.96l-1.37-1.37c-.4-.4-.92-.59-1.43-.59-.52 0-1.04.2-1.43.59L10.3 9.45l-7.72 7.72c-.78.78-.78 2.05 0 2.83L4 21.41c.39.39.9.59 1.41.59.51 0 1.02-.2 1.41-.59l7.78-7.78 2.81-2.81c.8-.78.8-2.07 0-2.86zM5.41 20L4 18.59l7.72-7.72 1.47 1.35L5.41 20z\"/>\n",
              "  </svg>\n",
              "      </button>\n",
              "      \n",
              "  <style>\n",
              "    .colab-df-container {\n",
              "      display:flex;\n",
              "      flex-wrap:wrap;\n",
              "      gap: 12px;\n",
              "    }\n",
              "\n",
              "    .colab-df-convert {\n",
              "      background-color: #E8F0FE;\n",
              "      border: none;\n",
              "      border-radius: 50%;\n",
              "      cursor: pointer;\n",
              "      display: none;\n",
              "      fill: #1967D2;\n",
              "      height: 32px;\n",
              "      padding: 0 0 0 0;\n",
              "      width: 32px;\n",
              "    }\n",
              "\n",
              "    .colab-df-convert:hover {\n",
              "      background-color: #E2EBFA;\n",
              "      box-shadow: 0px 1px 2px rgba(60, 64, 67, 0.3), 0px 1px 3px 1px rgba(60, 64, 67, 0.15);\n",
              "      fill: #174EA6;\n",
              "    }\n",
              "\n",
              "    [theme=dark] .colab-df-convert {\n",
              "      background-color: #3B4455;\n",
              "      fill: #D2E3FC;\n",
              "    }\n",
              "\n",
              "    [theme=dark] .colab-df-convert:hover {\n",
              "      background-color: #434B5C;\n",
              "      box-shadow: 0px 1px 3px 1px rgba(0, 0, 0, 0.15);\n",
              "      filter: drop-shadow(0px 1px 2px rgba(0, 0, 0, 0.3));\n",
              "      fill: #FFFFFF;\n",
              "    }\n",
              "  </style>\n",
              "\n",
              "      <script>\n",
              "        const buttonEl =\n",
              "          document.querySelector('#df-02860138-a5b7-479f-8759-b045da01ef13 button.colab-df-convert');\n",
              "        buttonEl.style.display =\n",
              "          google.colab.kernel.accessAllowed ? 'block' : 'none';\n",
              "\n",
              "        async function convertToInteractive(key) {\n",
              "          const element = document.querySelector('#df-02860138-a5b7-479f-8759-b045da01ef13');\n",
              "          const dataTable =\n",
              "            await google.colab.kernel.invokeFunction('convertToInteractive',\n",
              "                                                     [key], {});\n",
              "          if (!dataTable) return;\n",
              "\n",
              "          const docLinkHtml = 'Like what you see? Visit the ' +\n",
              "            '<a target=\"_blank\" href=https://colab.research.google.com/notebooks/data_table.ipynb>data table notebook</a>'\n",
              "            + ' to learn more about interactive tables.';\n",
              "          element.innerHTML = '';\n",
              "          dataTable['output_type'] = 'display_data';\n",
              "          await google.colab.output.renderOutput(dataTable, element);\n",
              "          const docLink = document.createElement('div');\n",
              "          docLink.innerHTML = docLinkHtml;\n",
              "          element.appendChild(docLink);\n",
              "        }\n",
              "      </script>\n",
              "    </div>\n",
              "  </div>\n",
              "  "
            ]
          },
          "metadata": {},
          "execution_count": 51
        }
      ],
      "execution_count": 51
    },
    {
      "cell_type": "code",
      "source": [
        "# Merge\n",
        "if \"Weekly Salary\" not in df_players.columns:\n",
        "  n_rows = df_players.shape[0]\n",
        "  df_players = pd.merge(\n",
        "      df_players,\n",
        "      df_sueldos.rename(columns={\n",
        "          \"Player\": \"Name\"\n",
        "      }),\n",
        "      how=\"left\"\n",
        "  )\n",
        "\n",
        "  assert df_players.shape[0] == n_rows\n",
        "\n",
        "df_players[\"Weekly Salary\"].describe().round()"
      ],
      "metadata": {
        "colab": {
          "base_uri": "https://localhost:8080/"
        },
        "id": "DEUrkDc4jmnD",
        "outputId": "a371dab9-ab31-4566-f1b1-90908ee35c5e"
      },
      "execution_count": 52,
      "outputs": [
        {
          "output_type": "execute_result",
          "data": {
            "text/plain": [
              "count       1863.0\n",
              "mean       53686.0\n",
              "std        81986.0\n",
              "min          620.0\n",
              "25%        14137.0\n",
              "50%        29685.0\n",
              "75%        65029.0\n",
              "max      1538905.0\n",
              "Name: Weekly Salary, dtype: float64"
            ]
          },
          "metadata": {},
          "execution_count": 52
        }
      ]
    },
    {
      "cell_type": "markdown",
      "source": [
        "**Generar un pipeline para la regresión**\n",
        "\n",
        "Se considerará como atributos todos los disponibles en el conjunto de `df_players`, a excepción del nombre del jugador. Para ello, se utiliza las versiones codificadas de `National_Position` y `Club_position`, generadas en los ejercicios anteriores.\n",
        "\n",
        "Luego se genera los Pipelines para los modelos `LassoCV`, `SVR` y `RandomForestRegression`, cuyas justificaciones de selección se encuentran más adelante.\n",
        "\n",
        "Se utiliza `OneHotEncoder` en las variables categóricas para que los modelos\n",
        "que codifican una de sus categoría como base, es decir, en el parámetro _offset_ o _bias_, no presenten problemas al ser ajustadas.\n"
      ],
      "metadata": {
        "id": "W8KvUkNamyvB"
      }
    },
    {
      "cell_type": "code",
      "source": [
        "# Se define las columnas categóricas para este problema\n",
        "cat_cols_s = [\n",
        "    \"Preffered_Foot\", \"Work_Rate\", \"Nationality\",\n",
        "    \"Weak_foot\", \"Skill_Moves\", \"target\", \"target_multiclase\"\n",
        "]\n",
        "\n",
        "# Pipeline con transformaciones para columnas categóricas\n",
        "cat_pipe_s = Pipeline(\n",
        "    steps=[\n",
        "        (\"imputer_cat\", SimpleImputer(strategy=\"constant\", fill_value=\"missing\")),\n",
        "        (\"onehot\", OneHotEncoder(handle_unknown=\"ignore\",\n",
        "                                 drop=\"first\", sparse = False)),\n",
        "    ]\n",
        ")\n",
        "\n",
        "# Las transformaciones se aplican en tuplas que asocian Pipelines a grupos de\n",
        "# columnas\n",
        "preprocessing_s = Pipeline([\n",
        "    (\"column_transform\", ColumnTransformer(transformers=[\n",
        "        (\"num\", num_pipe, num_cols),\n",
        "        (\"cat\", cat_pipe_s, cat_cols_s),\n",
        "    ]\n",
        "  ))\n",
        "])"
      ],
      "metadata": {
        "id": "SsTSCu-9k2hj"
      },
      "execution_count": 65,
      "outputs": []
    },
    {
      "cell_type": "markdown",
      "source": [
        "**Justificación de los modelos seleccionados**\n",
        "\n",
        "Dado que se está frente a un problema supervisado de regresión (no se está prediciendo una categoría, sino una cantidad), y se tiene menos de 100.000 datos, se escoge los siguientes modelos:\n",
        "\n",
        "\n",
        "- Modelo _Least Absolute Shrinkage and Selection Operator_ (**LASSO**): Se utiliza un modelo lineal regularizado, cuyo componente de regularización\n",
        "en la función de costo es la norma $||\\beta||_1$ de los parámetros del\n",
        "modelo. Este modelo al ser una regresión lineal con una función de costo\n",
        "regularizada, al ajustar sus parámetros puede obtener estimadores con menor\n",
        "varianza, logrando una mejor generalización.\n",
        "\n",
        "- Modelo Random Forest: Un modelo de arboles, con capacidad de encontrar\n",
        "regiones de datos con relaciones no lineales, y con un mécanismo de\n",
        "regularización vía el promedio de muchas instancias de árboles regresores, y \n",
        "que además utilizan distintos subconjuntos de variables. Es una buena\n",
        "alternativa para capturar complejidad sin _overfittear_ el modelo.\n",
        "\n",
        "- Modelo Support Vector Machines (SVM): Un modelo SVM de regresión, con un kernel polinomial de grado 3, lo que permite obtener un predictor con bastante\n",
        "expresividad y capacidad de capturar estructuras no lineales. Además, se\n",
        "utiliza un componente de regularización para que no sobreajuste los parámetros\n",
        "durante el entrenamiento. Modelo con buena expresividad, y mécanismo de\n",
        "regularización para controlar el _overffiting_ del modelo."
      ],
      "metadata": {
        "id": "LggLB5Kqw_OJ"
      }
    },
    {
      "cell_type": "code",
      "source": [
        "# Pipeline para la regresión\n",
        "lasso_pipe = Pipeline(\n",
        "    [\n",
        "        (\"preprocesamiento\", preprocessing_s), \n",
        "        (\"lasso\", LassoCV(n_alphas=100))\n",
        "    ]\n",
        ")\n",
        "\n",
        "tree_pipe_s = Pipeline(\n",
        "    [\n",
        "        (\"preprocesamiento\", preprocessing_s), \n",
        "        (\"rf\", RandomForestRegressor(random_state=42))\n",
        "    ]\n",
        ")\n",
        "\n",
        "svm_pipe_s = Pipeline(\n",
        "    [\n",
        "        (\"preprocesamiento\", preprocessing_s), \n",
        "        (\"svm\", SVR(kernel=\"poly\", gamma=3, C=1/15))\n",
        "    ]\n",
        ")\n"
      ],
      "metadata": {
        "id": "JmXoVQ5UnKtJ"
      },
      "execution_count": 161,
      "outputs": []
    },
    {
      "cell_type": "markdown",
      "source": [
        "**Obtener un regresor con un  R2  superior a  0.35**\n",
        "\n",
        "Para todos los casos, se omite el atributo `Name` y las columnas `National_Position` y `Club_Position` (estas dos debido a su colinealidad con `target` y `target_multiclase` respectivamente). Luego se elimina todos los registros donde no se cuente con la información de `Weekly Salary`.\n",
        "\n",
        "Se genera primero la división de muestras para este problema, considerando un 33% de los datos para test, y luego se entrena el pipeline.\n",
        "\n",
        "Luego se evalúa la métrica solicitada en los conjuntos de Train y Test."
      ],
      "metadata": {
        "id": "TJLtco_JoYqQ"
      }
    },
    {
      "cell_type": "code",
      "source": [
        "# Selección de atributos\n",
        "df_sel = df_players.drop(columns=[\n",
        "    \"Name\",\"National_Position\", \"Club_Position\"\n",
        "]).dropna(subset=[\"Weekly Salary\"]).copy()\n",
        "\n",
        "df_sel[\"target_multiclase\"] = np.where(\n",
        "    df_sel[\"target_multiclase\"].isin(categorias_relevantes),\n",
        "    df_sel[\"target_multiclase\"],\n",
        "    \"otro\"\n",
        ")\n",
        "\n",
        "df_sel[\"Weekly Salary\"].describe().round()"
      ],
      "metadata": {
        "colab": {
          "base_uri": "https://localhost:8080/"
        },
        "id": "tX-cGQzPW5m1",
        "outputId": "b885343e-2bbd-4e03-84ee-ab08c2dca4ec"
      },
      "execution_count": 162,
      "outputs": [
        {
          "output_type": "execute_result",
          "data": {
            "text/plain": [
              "count       1863.0\n",
              "mean       53686.0\n",
              "std        81986.0\n",
              "min          620.0\n",
              "25%        14137.0\n",
              "50%        29685.0\n",
              "75%        65029.0\n",
              "max      1538905.0\n",
              "Name: Weekly Salary, dtype: float64"
            ]
          },
          "metadata": {},
          "execution_count": 162
        }
      ]
    },
    {
      "cell_type": "code",
      "source": [
        "# División de muestras\n",
        "X_s_all = df_sel.drop(columns=[\"Weekly Salary\"])\n",
        "y_s_all = df_sel[\"Weekly Salary\"]\n",
        "\n",
        "X_train_s_all, X_test_s_all, y_train_s_all, y_test_s_all = train_test_split(\n",
        "    X_s_all, y_s_all, test_size=0.33, random_state=42\n",
        ")"
      ],
      "metadata": {
        "id": "8IoSap-IoTVO"
      },
      "execution_count": 163,
      "outputs": []
    },
    {
      "cell_type": "code",
      "source": [
        "# Entrenar pipeline\n",
        "%%capture\n",
        "lasso_pipe.fit(X_train_s_all, y_train_s_all)\n",
        "tree_pipe_s.fit(X_train_s_all, y_train_s_all)\n",
        "svm_pipe_s.fit(X_train_s_all, y_train_s_all)"
      ],
      "metadata": {
        "id": "KlFTWxEWpkrE"
      },
      "execution_count": 164,
      "outputs": []
    },
    {
      "cell_type": "code",
      "source": [
        "for p in [lasso_pipe, tree_pipe_s, svm_pipe_s]:\n",
        "  print(f\"R2 para modelo {list(p.named_steps.keys())[1]} en Test:\"\n",
        "  f\" {round(r2_score(y_test_s_all, p.predict(X_test_s_all)), 5)}\")"
      ],
      "metadata": {
        "colab": {
          "base_uri": "https://localhost:8080/"
        },
        "id": "6mgoI_hvpy9P",
        "outputId": "48c95292-a1fa-4e6c-a2bc-cce8ec8d7204"
      },
      "execution_count": 165,
      "outputs": [
        {
          "output_type": "stream",
          "name": "stdout",
          "text": [
            "R2 para modelo lasso en Test: 0.2405\n",
            "R2 para modelo rf en Test: 0.43017\n",
            "R2 para modelo svm en Test: 0.40527\n"
          ]
        },
        {
          "output_type": "stream",
          "name": "stderr",
          "text": [
            "/usr/local/lib/python3.7/dist-packages/sklearn/preprocessing/_encoders.py:174: UserWarning:\n",
            "\n",
            "Found unknown categories in columns [2] during transform. These unknown categories will be encoded as all zeros\n",
            "\n",
            "/usr/local/lib/python3.7/dist-packages/sklearn/preprocessing/_encoders.py:174: UserWarning:\n",
            "\n",
            "Found unknown categories in columns [2] during transform. These unknown categories will be encoded as all zeros\n",
            "\n",
            "/usr/local/lib/python3.7/dist-packages/sklearn/preprocessing/_encoders.py:174: UserWarning:\n",
            "\n",
            "Found unknown categories in columns [2] during transform. These unknown categories will be encoded as all zeros\n",
            "\n"
          ]
        }
      ]
    },
    {
      "cell_type": "code",
      "source": [
        "for p in [lasso_pipe, tree_pipe_s, svm_pipe_s]:\n",
        "  print(f\"R2 para modelo {list(p.named_steps.keys())[1]} en Train:\"\n",
        "  f\" {round(r2_score(y_train_s_all, p.predict(X_train_s_all)), 5)}\")"
      ],
      "metadata": {
        "colab": {
          "base_uri": "https://localhost:8080/"
        },
        "id": "BIUKn96ptutT",
        "outputId": "7400b1ff-af28-4404-fb51-454088f3d0a3"
      },
      "execution_count": 160,
      "outputs": [
        {
          "output_type": "stream",
          "name": "stdout",
          "text": [
            "R2 para modelo lasso en Train: 0.40739\n",
            "R2 para modelo rf en Train: 0.95073\n",
            "R2 para modelo svm en Train: 0.68052\n"
          ]
        }
      ]
    },
    {
      "cell_type": "markdown",
      "source": [
        "**Respuesta**:\n",
        "\n",
        "**Comente sus resultados y si es posible mejorar los resultados obtenidos. ¿Se necesitarían más datos o otros tipos de características o una combinación de ambos?**\n",
        "\n",
        "Dos de los modelos seleccionados cumplen los requisitos del señor\n",
        "Renacin de obtener un $R^2\\geq 0.35$ en el conjunto de pruebas, el modelo\n",
        "RandomForest y SVM registraron $0.43$ y $0.4$ respectivamente. En cambio,\n",
        "el modelo LASSO solo obtuvó un $R^2=0.24$. Una de las explicaciones a los resultados es que los dos modelos que cumplieron\n",
        "el requisito, son modelos no lineales, los cuales tienen mayor expresividad\n",
        "para capturar conjuntos de datos con mayor complejidad. En cambio, el modelo\n",
        "LASSO, es un modelo líneal en sus parámetros.\n",
        "\n",
        "Otra explicación se debe a qué tan agresivo fue el mécanismo de regularización de cada modelo, logrando obtener estimadores con menor\n",
        "varianza (a costa de sesgo). En el caso de Random Forest, su mecánismo \n",
        "de regularización es promediar muchas instancias de árboles, y ademas permite\n",
        "que cada instancia tenga un subconjunto aleatorio de predictores, este \n",
        "empleo de la técnica de _bootstrapping_ sobre el cual se apalanca el modelo\n",
        "RandomForest, permite conseguir estimadores que generalizan mejor, es decir\n",
        "con menor varianza. En el caso del modelo SVM, se utilizó un kernel polinomial\n",
        "de grado 3, lo cuál lo equipa con bastante expresividad, y posibilidades\n",
        "de _overfittiar_ los datos. Sin embargo, se utiliza un componente de costo\n",
        "en sus parámetros, equivalente a `C=1/15`, y que permite aprovechar\n",
        "la expresividad del kernel polinomial pero restringiendola a un espacio de soluciones con mayor generalización, versus solo a memorizar los datos. Finalmente, en el caso del modelo LASSO, el cual obtuvó el peor desempeño según $R^2$ reportado en conjunto de pruebas, también tiene una regularización vía la función de costo. Sin embargo, puede que este modelo no logré una regularización tan efectiva, debido a que tampoco hay un número importante de variables predictoras, por lo que la selección implicita de variables no ayuda, y deja al modelo con menor expresividad para capturar la señal.\n",
        "\n",
        "Existe un espacio de mejora para los modelos, por ejemplo, podemos realizar _feature engineering_\n",
        "sobre la variable `Nacionalidad` y agrupar todos los jugadores a nivel continental. Esto podría capturar de mejor forma la señal de los sueldos de los\n",
        "jugadores sobre las distintas ligas a nivel geográfico, donde probablemente\n",
        "comenzaron su carrera, y que desarrollaron una parte importante de sus\n",
        "hábilidades técnicas. El problema de utilizar la variable `Nacionalidad`\n",
        "directamente, es que las variables con alta cardinalidad, como los países, cuentas con muchas categorías que tienen pocas observaciones, por lo que capturar el efecto de esta variable sobre el target puede ser más complejo. \n",
        "Esto debido a la introducción de ruído por categorías con poca información. Otra forma de mejorar los resultados, es eliminar los jugadores con sueldos muy altos, quienes pueden degradar el poder de predicción sobre la mayoría de los sueldos que se concentran en menores niveles. De manera alternativa, realizar\n",
        "una transformanción sobre la variable predictora, o utilizar modelos diferentes\n",
        "para distintos niveles de sueldo, y luego realizar una regresión con las\n",
        "observaciones dentro de ese nivel de sueldo."
      ],
      "metadata": {
        "tags": [],
        "cell_id": "bb39f9e88bf04d639ea5d67732450be6",
        "deepnote_cell_type": "markdown",
        "id": "cIgHsTN2MrXS"
      }
    },
    {
      "cell_type": "markdown",
      "source": [
        "# Conclusión\n",
        "Eso ha sido todo para el lab de hoy, recuerden que el laboratorio tiene un plazo de entrega de una semana. Cualquier duda del laboratorio, no duden en contactarnos por mail o U-cursos.\n",
        "\n",
        "<p align=\"center\">\n",
        "  <img src=\"https://media2.giphy.com/media/l1J3CbFgn5o7DGRuE/giphy.gif\">\n",
        "</p>"
      ],
      "metadata": {
        "id": "Rg4ZMq8ezAH6",
        "cell_id": "502994b597214d4ba2f05e2b900d895c",
        "deepnote_cell_type": "markdown"
      }
    },
    {
      "cell_type": "markdown",
      "source": [
        "<br>\n",
        "<center>\n",
        "<img src=\"https://i.kym-cdn.com/photos/images/original/001/194/195/b18.png\" width=100 height=50 />\n",
        "</center>\n",
        "<br>"
      ],
      "metadata": {
        "id": "wCL1lACBzAH7",
        "cell_id": "da6d643bcf1542a8b119a15edaf0f75c",
        "deepnote_cell_type": "markdown"
      }
    },
    {
      "cell_type": "markdown",
      "source": [
        "<a style='text-decoration:none;line-height:16px;display:flex;color:#5B5B62;padding:10px;justify-content:end;' href='https://deepnote.com?utm_source=created-in-deepnote-cell&projectId=87110296-876e-426f-b91d-aaf681223468' target=\"_blank\">\n",
        "<img alt='Created in deepnote.com' style='display:inline;max-height:16px;margin:0px;margin-right:7.5px;' src='data:image/svg+xml;base64,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' > </img>\n",
        "Created in <span style='font-weight:600;margin-left:4px;'>Deepnote</span></a>"
      ],
      "metadata": {
        "tags": [],
        "created_in_deepnote_cell": true,
        "deepnote_cell_type": "markdown",
        "id": "gs_teLV-MrXT"
      }
    }
  ],
  "nbformat": 4,
  "nbformat_minor": 0,
  "metadata": {
    "toc": {
      "sideBar": true,
      "nav_menu": {},
      "toc_cell": false,
      "title_cell": "Tabla de Contenidos",
      "toc_position": {
        "top": "150px",
        "left": "10px",
        "width": "241.867px",
        "height": "calc(100% - 180px)"
      },
      "skip_h1_title": true,
      "title_sidebar": "Contenidos",
      "base_numbering": 1,
      "number_sections": true,
      "toc_window_display": true,
      "toc_section_display": true
    },
    "colab": {
      "provenance": [],
      "collapsed_sections": []
    },
    "deepnote": {},
    "kernelspec": {
      "name": "python3",
      "language": "python",
      "display_name": "Python 3"
    },
    "varInspector": {
      "cols": {
        "lenVar": 40,
        "lenName": 16,
        "lenType": 16
      },
      "kernels_config": {
        "r": {
          "library": "var_list.r",
          "varRefreshCmd": "cat(var_dic_list()) ",
          "delete_cmd_prefix": "rm(",
          "delete_cmd_postfix": ") "
        },
        "python": {
          "library": "var_list.py",
          "varRefreshCmd": "print(var_dic_list())",
          "delete_cmd_prefix": "del ",
          "delete_cmd_postfix": ""
        }
      },
      "window_display": false,
      "types_to_exclude": [
        "module",
        "function",
        "builtin_function_or_method",
        "instance",
        "_Feature"
      ]
    },
    "language_info": {
      "name": "python",
      "version": "3.8.3",
      "mimetype": "text/x-python",
      "file_extension": ".py",
      "pygments_lexer": "ipython3",
      "codemirror_mode": {
        "name": "ipython",
        "version": 3
      },
      "nbconvert_exporter": "python"
    },
    "deepnote_notebook_id": "41ad7e529bfb484c8f7f538003203695",
    "deepnote_execution_queue": []
  }
}